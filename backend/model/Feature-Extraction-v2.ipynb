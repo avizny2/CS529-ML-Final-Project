{
 "cells": [
  {
   "cell_type": "code",
   "execution_count": 1,
   "metadata": {},
   "outputs": [
    {
     "name": "stderr",
     "output_type": "stream",
     "text": [
      "Using TensorFlow backend.\n"
     ]
    },
    {
     "name": "stdout",
     "output_type": "stream",
     "text": [
      "1 Physical GPUs, 1 Logical GPUs\n"
     ]
    }
   ],
   "source": [
    "import keras\n",
    "import numpy as np\n",
    "from keras.datasets import cifar10\n",
    "from keras.applications.resnet50 import ResNet50\n",
    "from keras.layers import GlobalAveragePooling2D, Dense\n",
    "from keras.preprocessing.image import ImageDataGenerator\n",
    "from keras.models import Model\n",
    "from skimage.transform import resize\n",
    "\n",
    "import tensorflow as tf\n",
    "gpus = tf.config.experimental.list_physical_devices('GPU')\n",
    "if gpus:\n",
    "    # Restrict TensorFlow to only allocate 1GB * 2 of memory on the first GPU\n",
    "    try:\n",
    "        tf.config.experimental.set_virtual_device_configuration(\n",
    "            gpus[0],\n",
    "            [tf.config.experimental.VirtualDeviceConfiguration(memory_limit=1024 * 2)])\n",
    "        logical_gpus = tf.config.experimental.list_logical_devices('GPU')\n",
    "        print(len(gpus), \"Physical GPUs,\", len(logical_gpus), \"Logical GPUs\")\n",
    "    except RuntimeError as e:\n",
    "        # Virtual devices must be set before GPUs have been initialized\n",
    "        print(e)"
   ]
  },
  {
   "cell_type": "code",
   "execution_count": 2,
   "metadata": {},
   "outputs": [],
   "source": [
    "# parameters required if training\n",
    "\n",
    "NUM_CLASSES = 10\n",
    "BATCH_SIZE = 5\n",
    "NUM_EPOCHS = 10\n",
    "use_data_aug = False"
   ]
  },
  {
   "cell_type": "code",
   "execution_count": 3,
   "metadata": {},
   "outputs": [],
   "source": [
    "# Upscaling 32x32 images to 224x224\n",
    "\n",
    "from tqdm import tqdm\n",
    "# img_arr is of shape (n, h, w, c)\n",
    "def resize_image_arr(img_arr):\n",
    "    x_resized_list = []\n",
    "    for i in tqdm(range(img_arr.shape[0])):\n",
    "        img = img_arr[0]\n",
    "        resized_img = resize(img, (224, 224))\n",
    "        x_resized_list.append(resized_img)\n",
    "    return np.stack(x_resized_list)\n",
    "\n",
    "\n"
   ]
  },
  {
   "cell_type": "code",
   "execution_count": 15,
   "metadata": {},
   "outputs": [],
   "source": [
    "# load test and train data\n",
    "(x_train, y_train), (x_test, y_test) = cifar10.load_data()"
   ]
  },
  {
   "cell_type": "code",
   "execution_count": 5,
   "metadata": {},
   "outputs": [
    {
     "data": {
      "text/html": [
       "<div>\n",
       "<style scoped>\n",
       "    .dataframe tbody tr th:only-of-type {\n",
       "        vertical-align: middle;\n",
       "    }\n",
       "\n",
       "    .dataframe tbody tr th {\n",
       "        vertical-align: top;\n",
       "    }\n",
       "\n",
       "    .dataframe thead th {\n",
       "        text-align: right;\n",
       "    }\n",
       "</style>\n",
       "<table border=\"1\" class=\"dataframe\">\n",
       "  <thead>\n",
       "    <tr style=\"text-align: right;\">\n",
       "      <th></th>\n",
       "      <th>0</th>\n",
       "      <th>1</th>\n",
       "      <th>2</th>\n",
       "      <th>3</th>\n",
       "      <th>4</th>\n",
       "      <th>5</th>\n",
       "      <th>6</th>\n",
       "      <th>7</th>\n",
       "      <th>8</th>\n",
       "      <th>9</th>\n",
       "      <th>...</th>\n",
       "      <th>3063</th>\n",
       "      <th>3064</th>\n",
       "      <th>3065</th>\n",
       "      <th>3066</th>\n",
       "      <th>3067</th>\n",
       "      <th>3068</th>\n",
       "      <th>3069</th>\n",
       "      <th>3070</th>\n",
       "      <th>3071</th>\n",
       "      <th>labels</th>\n",
       "    </tr>\n",
       "  </thead>\n",
       "  <tbody>\n",
       "    <tr>\n",
       "      <th>0</th>\n",
       "      <td>158</td>\n",
       "      <td>112</td>\n",
       "      <td>49</td>\n",
       "      <td>159</td>\n",
       "      <td>111</td>\n",
       "      <td>47</td>\n",
       "      <td>165</td>\n",
       "      <td>116</td>\n",
       "      <td>51</td>\n",
       "      <td>166</td>\n",
       "      <td>...</td>\n",
       "      <td>24</td>\n",
       "      <td>77</td>\n",
       "      <td>124</td>\n",
       "      <td>34</td>\n",
       "      <td>84</td>\n",
       "      <td>129</td>\n",
       "      <td>21</td>\n",
       "      <td>67</td>\n",
       "      <td>110</td>\n",
       "      <td>3</td>\n",
       "    </tr>\n",
       "    <tr>\n",
       "      <th>1</th>\n",
       "      <td>235</td>\n",
       "      <td>235</td>\n",
       "      <td>235</td>\n",
       "      <td>231</td>\n",
       "      <td>231</td>\n",
       "      <td>231</td>\n",
       "      <td>232</td>\n",
       "      <td>232</td>\n",
       "      <td>232</td>\n",
       "      <td>232</td>\n",
       "      <td>...</td>\n",
       "      <td>168</td>\n",
       "      <td>183</td>\n",
       "      <td>178</td>\n",
       "      <td>180</td>\n",
       "      <td>195</td>\n",
       "      <td>191</td>\n",
       "      <td>186</td>\n",
       "      <td>200</td>\n",
       "      <td>199</td>\n",
       "      <td>8</td>\n",
       "    </tr>\n",
       "    <tr>\n",
       "      <th>2</th>\n",
       "      <td>158</td>\n",
       "      <td>190</td>\n",
       "      <td>222</td>\n",
       "      <td>158</td>\n",
       "      <td>187</td>\n",
       "      <td>218</td>\n",
       "      <td>139</td>\n",
       "      <td>166</td>\n",
       "      <td>194</td>\n",
       "      <td>132</td>\n",
       "      <td>...</td>\n",
       "      <td>5</td>\n",
       "      <td>6</td>\n",
       "      <td>8</td>\n",
       "      <td>4</td>\n",
       "      <td>5</td>\n",
       "      <td>3</td>\n",
       "      <td>7</td>\n",
       "      <td>8</td>\n",
       "      <td>7</td>\n",
       "      <td>8</td>\n",
       "    </tr>\n",
       "    <tr>\n",
       "      <th>3</th>\n",
       "      <td>155</td>\n",
       "      <td>156</td>\n",
       "      <td>149</td>\n",
       "      <td>167</td>\n",
       "      <td>176</td>\n",
       "      <td>187</td>\n",
       "      <td>176</td>\n",
       "      <td>179</td>\n",
       "      <td>193</td>\n",
       "      <td>190</td>\n",
       "      <td>...</td>\n",
       "      <td>60</td>\n",
       "      <td>63</td>\n",
       "      <td>50</td>\n",
       "      <td>64</td>\n",
       "      <td>65</td>\n",
       "      <td>52</td>\n",
       "      <td>73</td>\n",
       "      <td>68</td>\n",
       "      <td>50</td>\n",
       "      <td>0</td>\n",
       "    </tr>\n",
       "    <tr>\n",
       "      <th>4</th>\n",
       "      <td>65</td>\n",
       "      <td>68</td>\n",
       "      <td>50</td>\n",
       "      <td>70</td>\n",
       "      <td>81</td>\n",
       "      <td>64</td>\n",
       "      <td>48</td>\n",
       "      <td>64</td>\n",
       "      <td>46</td>\n",
       "      <td>30</td>\n",
       "      <td>...</td>\n",
       "      <td>143</td>\n",
       "      <td>179</td>\n",
       "      <td>136</td>\n",
       "      <td>154</td>\n",
       "      <td>185</td>\n",
       "      <td>146</td>\n",
       "      <td>128</td>\n",
       "      <td>156</td>\n",
       "      <td>117</td>\n",
       "      <td>6</td>\n",
       "    </tr>\n",
       "    <tr>\n",
       "      <th>...</th>\n",
       "      <td>...</td>\n",
       "      <td>...</td>\n",
       "      <td>...</td>\n",
       "      <td>...</td>\n",
       "      <td>...</td>\n",
       "      <td>...</td>\n",
       "      <td>...</td>\n",
       "      <td>...</td>\n",
       "      <td>...</td>\n",
       "      <td>...</td>\n",
       "      <td>...</td>\n",
       "      <td>...</td>\n",
       "      <td>...</td>\n",
       "      <td>...</td>\n",
       "      <td>...</td>\n",
       "      <td>...</td>\n",
       "      <td>...</td>\n",
       "      <td>...</td>\n",
       "      <td>...</td>\n",
       "      <td>...</td>\n",
       "      <td>...</td>\n",
       "    </tr>\n",
       "    <tr>\n",
       "      <th>9995</th>\n",
       "      <td>76</td>\n",
       "      <td>78</td>\n",
       "      <td>133</td>\n",
       "      <td>76</td>\n",
       "      <td>78</td>\n",
       "      <td>134</td>\n",
       "      <td>77</td>\n",
       "      <td>80</td>\n",
       "      <td>132</td>\n",
       "      <td>76</td>\n",
       "      <td>...</td>\n",
       "      <td>204</td>\n",
       "      <td>219</td>\n",
       "      <td>236</td>\n",
       "      <td>200</td>\n",
       "      <td>215</td>\n",
       "      <td>234</td>\n",
       "      <td>199</td>\n",
       "      <td>216</td>\n",
       "      <td>236</td>\n",
       "      <td>8</td>\n",
       "    </tr>\n",
       "    <tr>\n",
       "      <th>9996</th>\n",
       "      <td>81</td>\n",
       "      <td>57</td>\n",
       "      <td>43</td>\n",
       "      <td>91</td>\n",
       "      <td>69</td>\n",
       "      <td>53</td>\n",
       "      <td>98</td>\n",
       "      <td>75</td>\n",
       "      <td>63</td>\n",
       "      <td>106</td>\n",
       "      <td>...</td>\n",
       "      <td>155</td>\n",
       "      <td>139</td>\n",
       "      <td>129</td>\n",
       "      <td>171</td>\n",
       "      <td>167</td>\n",
       "      <td>147</td>\n",
       "      <td>167</td>\n",
       "      <td>164</td>\n",
       "      <td>160</td>\n",
       "      <td>3</td>\n",
       "    </tr>\n",
       "    <tr>\n",
       "      <th>9997</th>\n",
       "      <td>20</td>\n",
       "      <td>15</td>\n",
       "      <td>12</td>\n",
       "      <td>19</td>\n",
       "      <td>14</td>\n",
       "      <td>11</td>\n",
       "      <td>15</td>\n",
       "      <td>14</td>\n",
       "      <td>11</td>\n",
       "      <td>15</td>\n",
       "      <td>...</td>\n",
       "      <td>24</td>\n",
       "      <td>23</td>\n",
       "      <td>50</td>\n",
       "      <td>26</td>\n",
       "      <td>23</td>\n",
       "      <td>53</td>\n",
       "      <td>25</td>\n",
       "      <td>20</td>\n",
       "      <td>47</td>\n",
       "      <td>5</td>\n",
       "    </tr>\n",
       "    <tr>\n",
       "      <th>9998</th>\n",
       "      <td>25</td>\n",
       "      <td>40</td>\n",
       "      <td>12</td>\n",
       "      <td>15</td>\n",
       "      <td>36</td>\n",
       "      <td>3</td>\n",
       "      <td>23</td>\n",
       "      <td>41</td>\n",
       "      <td>18</td>\n",
       "      <td>17</td>\n",
       "      <td>...</td>\n",
       "      <td>93</td>\n",
       "      <td>124</td>\n",
       "      <td>80</td>\n",
       "      <td>95</td>\n",
       "      <td>123</td>\n",
       "      <td>81</td>\n",
       "      <td>92</td>\n",
       "      <td>120</td>\n",
       "      <td>80</td>\n",
       "      <td>1</td>\n",
       "    </tr>\n",
       "    <tr>\n",
       "      <th>9999</th>\n",
       "      <td>73</td>\n",
       "      <td>78</td>\n",
       "      <td>75</td>\n",
       "      <td>98</td>\n",
       "      <td>103</td>\n",
       "      <td>113</td>\n",
       "      <td>99</td>\n",
       "      <td>106</td>\n",
       "      <td>114</td>\n",
       "      <td>77</td>\n",
       "      <td>...</td>\n",
       "      <td>116</td>\n",
       "      <td>115</td>\n",
       "      <td>94</td>\n",
       "      <td>68</td>\n",
       "      <td>65</td>\n",
       "      <td>58</td>\n",
       "      <td>27</td>\n",
       "      <td>26</td>\n",
       "      <td>26</td>\n",
       "      <td>7</td>\n",
       "    </tr>\n",
       "  </tbody>\n",
       "</table>\n",
       "<p>10000 rows × 3073 columns</p>\n",
       "</div>"
      ],
      "text/plain": [
       "        0    1    2    3    4    5    6    7    8    9  ...  3063  3064  3065  \\\n",
       "0     158  112   49  159  111   47  165  116   51  166  ...    24    77   124   \n",
       "1     235  235  235  231  231  231  232  232  232  232  ...   168   183   178   \n",
       "2     158  190  222  158  187  218  139  166  194  132  ...     5     6     8   \n",
       "3     155  156  149  167  176  187  176  179  193  190  ...    60    63    50   \n",
       "4      65   68   50   70   81   64   48   64   46   30  ...   143   179   136   \n",
       "...   ...  ...  ...  ...  ...  ...  ...  ...  ...  ...  ...   ...   ...   ...   \n",
       "9995   76   78  133   76   78  134   77   80  132   76  ...   204   219   236   \n",
       "9996   81   57   43   91   69   53   98   75   63  106  ...   155   139   129   \n",
       "9997   20   15   12   19   14   11   15   14   11   15  ...    24    23    50   \n",
       "9998   25   40   12   15   36    3   23   41   18   17  ...    93   124    80   \n",
       "9999   73   78   75   98  103  113   99  106  114   77  ...   116   115    94   \n",
       "\n",
       "      3066  3067  3068  3069  3070  3071  labels  \n",
       "0       34    84   129    21    67   110       3  \n",
       "1      180   195   191   186   200   199       8  \n",
       "2        4     5     3     7     8     7       8  \n",
       "3       64    65    52    73    68    50       0  \n",
       "4      154   185   146   128   156   117       6  \n",
       "...    ...   ...   ...   ...   ...   ...     ...  \n",
       "9995   200   215   234   199   216   236       8  \n",
       "9996   171   167   147   167   164   160       3  \n",
       "9997    26    23    53    25    20    47       5  \n",
       "9998    95   123    81    92   120    80       1  \n",
       "9999    68    65    58    27    26    26       7  \n",
       "\n",
       "[10000 rows x 3073 columns]"
      ]
     },
     "execution_count": 5,
     "metadata": {},
     "output_type": "execute_result"
    }
   ],
   "source": [
    "#load this data into dataframe for discovery and perusal\n",
    "\n",
    "import pandas as pd\n",
    "\n",
    "x_df= x_test.reshape(10000, x_test.shape[1] * x_test.shape[2] *x_test.shape[3] )\n",
    "\n",
    "imgs = pd.DataFrame() \n",
    "df_labels = pd.DataFrame() \n",
    "\n",
    "imgs = imgs.append(pd.DataFrame(x_df)) \n",
    "df_labels = df_labels.append(pd.DataFrame(y_test)) \n",
    "imgs['labels'] = df_labels \n",
    "\n",
    "imgs"
   ]
  },
  {
   "cell_type": "code",
   "execution_count": 6,
   "metadata": {},
   "outputs": [
    {
     "name": "stderr",
     "output_type": "stream",
     "text": [
      "100%|███████████████████████████████████████████████████████████████████████████████████████████| 10000/10000 [01:35<00:00, 104.86it/s]\n"
     ]
    }
   ],
   "source": [
    "x_test = resize_image_arr(x_test)"
   ]
  },
  {
   "cell_type": "code",
   "execution_count": 16,
   "metadata": {},
   "outputs": [],
   "source": [
    "# Convert class vectors to binary class matrices.\n",
    "#y_test = keras.utils.to_categorical(y_test, NUM_CLASSES)\n",
    "\n",
    "# Normalize the dataa\n",
    "x_test = x_test.astype('float32')\n",
    "x_test /= 255"
   ]
  },
  {
   "cell_type": "code",
   "execution_count": 17,
   "metadata": {},
   "outputs": [
    {
     "data": {
      "text/plain": [
       "(0.0, 1.0)"
      ]
     },
     "execution_count": 17,
     "metadata": {},
     "output_type": "execute_result"
    }
   ],
   "source": [
    "# look at the mean std deviation \n",
    "np.min(x_test),np.max(x_test)"
   ]
  },
  {
   "cell_type": "code",
   "execution_count": 18,
   "metadata": {},
   "outputs": [
    {
     "name": "stderr",
     "output_type": "stream",
     "text": [
      "C:\\Users\\benza-ord\\anaconda3\\envs\\keras-gpu\\lib\\site-packages\\keras_applications\\resnet50.py:265: UserWarning: The output shape of `ResNet50(include_top=False)` has been changed since Keras 2.2.0.\n",
      "  warnings.warn('The output shape of `ResNet50(include_top=False)` '\n"
     ]
    }
   ],
   "source": [
    "# Here we are loading the resnet 50 model that has over \n",
    "\n",
    "base_model = ResNet50(include_top=False, weights= None)"
   ]
  },
  {
   "cell_type": "code",
   "execution_count": 10,
   "metadata": {},
   "outputs": [
    {
     "name": "stdout",
     "output_type": "stream",
     "text": [
      "Model: \"resnet50\"\n",
      "__________________________________________________________________________________________________\n",
      "Layer (type)                    Output Shape         Param #     Connected to                     \n",
      "==================================================================================================\n",
      "input_2 (InputLayer)            (None, None, None, 3 0                                            \n",
      "__________________________________________________________________________________________________\n",
      "conv1_pad (ZeroPadding2D)       (None, None, None, 3 0           input_2[0][0]                    \n",
      "__________________________________________________________________________________________________\n",
      "conv1 (Conv2D)                  (None, None, None, 6 9472        conv1_pad[0][0]                  \n",
      "__________________________________________________________________________________________________\n",
      "bn_conv1 (BatchNormalization)   (None, None, None, 6 256         conv1[0][0]                      \n",
      "__________________________________________________________________________________________________\n",
      "activation_50 (Activation)      (None, None, None, 6 0           bn_conv1[0][0]                   \n",
      "__________________________________________________________________________________________________\n",
      "pool1_pad (ZeroPadding2D)       (None, None, None, 6 0           activation_50[0][0]              \n",
      "__________________________________________________________________________________________________\n",
      "max_pooling2d_2 (MaxPooling2D)  (None, None, None, 6 0           pool1_pad[0][0]                  \n",
      "__________________________________________________________________________________________________\n",
      "res2a_branch2a (Conv2D)         (None, None, None, 6 4160        max_pooling2d_2[0][0]            \n",
      "__________________________________________________________________________________________________\n",
      "bn2a_branch2a (BatchNormalizati (None, None, None, 6 256         res2a_branch2a[0][0]             \n",
      "__________________________________________________________________________________________________\n",
      "activation_51 (Activation)      (None, None, None, 6 0           bn2a_branch2a[0][0]              \n",
      "__________________________________________________________________________________________________\n",
      "res2a_branch2b (Conv2D)         (None, None, None, 6 36928       activation_51[0][0]              \n",
      "__________________________________________________________________________________________________\n",
      "bn2a_branch2b (BatchNormalizati (None, None, None, 6 256         res2a_branch2b[0][0]             \n",
      "__________________________________________________________________________________________________\n",
      "activation_52 (Activation)      (None, None, None, 6 0           bn2a_branch2b[0][0]              \n",
      "__________________________________________________________________________________________________\n",
      "res2a_branch2c (Conv2D)         (None, None, None, 2 16640       activation_52[0][0]              \n",
      "__________________________________________________________________________________________________\n",
      "res2a_branch1 (Conv2D)          (None, None, None, 2 16640       max_pooling2d_2[0][0]            \n",
      "__________________________________________________________________________________________________\n",
      "bn2a_branch2c (BatchNormalizati (None, None, None, 2 1024        res2a_branch2c[0][0]             \n",
      "__________________________________________________________________________________________________\n",
      "bn2a_branch1 (BatchNormalizatio (None, None, None, 2 1024        res2a_branch1[0][0]              \n",
      "__________________________________________________________________________________________________\n",
      "add_17 (Add)                    (None, None, None, 2 0           bn2a_branch2c[0][0]              \n",
      "                                                                 bn2a_branch1[0][0]               \n",
      "__________________________________________________________________________________________________\n",
      "activation_53 (Activation)      (None, None, None, 2 0           add_17[0][0]                     \n",
      "__________________________________________________________________________________________________\n",
      "res2b_branch2a (Conv2D)         (None, None, None, 6 16448       activation_53[0][0]              \n",
      "__________________________________________________________________________________________________\n",
      "bn2b_branch2a (BatchNormalizati (None, None, None, 6 256         res2b_branch2a[0][0]             \n",
      "__________________________________________________________________________________________________\n",
      "activation_54 (Activation)      (None, None, None, 6 0           bn2b_branch2a[0][0]              \n",
      "__________________________________________________________________________________________________\n",
      "res2b_branch2b (Conv2D)         (None, None, None, 6 36928       activation_54[0][0]              \n",
      "__________________________________________________________________________________________________\n",
      "bn2b_branch2b (BatchNormalizati (None, None, None, 6 256         res2b_branch2b[0][0]             \n",
      "__________________________________________________________________________________________________\n",
      "activation_55 (Activation)      (None, None, None, 6 0           bn2b_branch2b[0][0]              \n",
      "__________________________________________________________________________________________________\n",
      "res2b_branch2c (Conv2D)         (None, None, None, 2 16640       activation_55[0][0]              \n",
      "__________________________________________________________________________________________________\n",
      "bn2b_branch2c (BatchNormalizati (None, None, None, 2 1024        res2b_branch2c[0][0]             \n",
      "__________________________________________________________________________________________________\n",
      "add_18 (Add)                    (None, None, None, 2 0           bn2b_branch2c[0][0]              \n",
      "                                                                 activation_53[0][0]              \n",
      "__________________________________________________________________________________________________\n",
      "activation_56 (Activation)      (None, None, None, 2 0           add_18[0][0]                     \n",
      "__________________________________________________________________________________________________\n",
      "res2c_branch2a (Conv2D)         (None, None, None, 6 16448       activation_56[0][0]              \n",
      "__________________________________________________________________________________________________\n",
      "bn2c_branch2a (BatchNormalizati (None, None, None, 6 256         res2c_branch2a[0][0]             \n",
      "__________________________________________________________________________________________________\n",
      "activation_57 (Activation)      (None, None, None, 6 0           bn2c_branch2a[0][0]              \n",
      "__________________________________________________________________________________________________\n",
      "res2c_branch2b (Conv2D)         (None, None, None, 6 36928       activation_57[0][0]              \n",
      "__________________________________________________________________________________________________\n",
      "bn2c_branch2b (BatchNormalizati (None, None, None, 6 256         res2c_branch2b[0][0]             \n",
      "__________________________________________________________________________________________________\n",
      "activation_58 (Activation)      (None, None, None, 6 0           bn2c_branch2b[0][0]              \n",
      "__________________________________________________________________________________________________\n",
      "res2c_branch2c (Conv2D)         (None, None, None, 2 16640       activation_58[0][0]              \n",
      "__________________________________________________________________________________________________\n",
      "bn2c_branch2c (BatchNormalizati (None, None, None, 2 1024        res2c_branch2c[0][0]             \n",
      "__________________________________________________________________________________________________\n",
      "add_19 (Add)                    (None, None, None, 2 0           bn2c_branch2c[0][0]              \n",
      "                                                                 activation_56[0][0]              \n",
      "__________________________________________________________________________________________________\n",
      "activation_59 (Activation)      (None, None, None, 2 0           add_19[0][0]                     \n",
      "__________________________________________________________________________________________________\n",
      "res3a_branch2a (Conv2D)         (None, None, None, 1 32896       activation_59[0][0]              \n",
      "__________________________________________________________________________________________________\n",
      "bn3a_branch2a (BatchNormalizati (None, None, None, 1 512         res3a_branch2a[0][0]             \n",
      "__________________________________________________________________________________________________\n",
      "activation_60 (Activation)      (None, None, None, 1 0           bn3a_branch2a[0][0]              \n",
      "__________________________________________________________________________________________________\n",
      "res3a_branch2b (Conv2D)         (None, None, None, 1 147584      activation_60[0][0]              \n",
      "__________________________________________________________________________________________________\n",
      "bn3a_branch2b (BatchNormalizati (None, None, None, 1 512         res3a_branch2b[0][0]             \n",
      "__________________________________________________________________________________________________\n",
      "activation_61 (Activation)      (None, None, None, 1 0           bn3a_branch2b[0][0]              \n",
      "__________________________________________________________________________________________________\n",
      "res3a_branch2c (Conv2D)         (None, None, None, 5 66048       activation_61[0][0]              \n",
      "__________________________________________________________________________________________________\n",
      "res3a_branch1 (Conv2D)          (None, None, None, 5 131584      activation_59[0][0]              \n",
      "__________________________________________________________________________________________________\n",
      "bn3a_branch2c (BatchNormalizati (None, None, None, 5 2048        res3a_branch2c[0][0]             \n",
      "__________________________________________________________________________________________________\n",
      "bn3a_branch1 (BatchNormalizatio (None, None, None, 5 2048        res3a_branch1[0][0]              \n",
      "__________________________________________________________________________________________________\n",
      "add_20 (Add)                    (None, None, None, 5 0           bn3a_branch2c[0][0]              \n",
      "                                                                 bn3a_branch1[0][0]               \n",
      "__________________________________________________________________________________________________\n",
      "activation_62 (Activation)      (None, None, None, 5 0           add_20[0][0]                     \n",
      "__________________________________________________________________________________________________\n",
      "res3b_branch2a (Conv2D)         (None, None, None, 1 65664       activation_62[0][0]              \n",
      "__________________________________________________________________________________________________\n",
      "bn3b_branch2a (BatchNormalizati (None, None, None, 1 512         res3b_branch2a[0][0]             \n",
      "__________________________________________________________________________________________________\n",
      "activation_63 (Activation)      (None, None, None, 1 0           bn3b_branch2a[0][0]              \n",
      "__________________________________________________________________________________________________\n",
      "res3b_branch2b (Conv2D)         (None, None, None, 1 147584      activation_63[0][0]              \n",
      "__________________________________________________________________________________________________\n",
      "bn3b_branch2b (BatchNormalizati (None, None, None, 1 512         res3b_branch2b[0][0]             \n",
      "__________________________________________________________________________________________________\n",
      "activation_64 (Activation)      (None, None, None, 1 0           bn3b_branch2b[0][0]              \n",
      "__________________________________________________________________________________________________\n",
      "res3b_branch2c (Conv2D)         (None, None, None, 5 66048       activation_64[0][0]              \n",
      "__________________________________________________________________________________________________\n",
      "bn3b_branch2c (BatchNormalizati (None, None, None, 5 2048        res3b_branch2c[0][0]             \n",
      "__________________________________________________________________________________________________\n",
      "add_21 (Add)                    (None, None, None, 5 0           bn3b_branch2c[0][0]              \n",
      "                                                                 activation_62[0][0]              \n",
      "__________________________________________________________________________________________________\n",
      "activation_65 (Activation)      (None, None, None, 5 0           add_21[0][0]                     \n",
      "__________________________________________________________________________________________________\n",
      "res3c_branch2a (Conv2D)         (None, None, None, 1 65664       activation_65[0][0]              \n",
      "__________________________________________________________________________________________________\n",
      "bn3c_branch2a (BatchNormalizati (None, None, None, 1 512         res3c_branch2a[0][0]             \n",
      "__________________________________________________________________________________________________\n",
      "activation_66 (Activation)      (None, None, None, 1 0           bn3c_branch2a[0][0]              \n",
      "__________________________________________________________________________________________________\n",
      "res3c_branch2b (Conv2D)         (None, None, None, 1 147584      activation_66[0][0]              \n",
      "__________________________________________________________________________________________________\n",
      "bn3c_branch2b (BatchNormalizati (None, None, None, 1 512         res3c_branch2b[0][0]             \n",
      "__________________________________________________________________________________________________\n",
      "activation_67 (Activation)      (None, None, None, 1 0           bn3c_branch2b[0][0]              \n",
      "__________________________________________________________________________________________________\n",
      "res3c_branch2c (Conv2D)         (None, None, None, 5 66048       activation_67[0][0]              \n",
      "__________________________________________________________________________________________________\n",
      "bn3c_branch2c (BatchNormalizati (None, None, None, 5 2048        res3c_branch2c[0][0]             \n",
      "__________________________________________________________________________________________________\n",
      "add_22 (Add)                    (None, None, None, 5 0           bn3c_branch2c[0][0]              \n",
      "                                                                 activation_65[0][0]              \n",
      "__________________________________________________________________________________________________\n",
      "activation_68 (Activation)      (None, None, None, 5 0           add_22[0][0]                     \n",
      "__________________________________________________________________________________________________\n",
      "res3d_branch2a (Conv2D)         (None, None, None, 1 65664       activation_68[0][0]              \n",
      "__________________________________________________________________________________________________\n",
      "bn3d_branch2a (BatchNormalizati (None, None, None, 1 512         res3d_branch2a[0][0]             \n",
      "__________________________________________________________________________________________________\n",
      "activation_69 (Activation)      (None, None, None, 1 0           bn3d_branch2a[0][0]              \n",
      "__________________________________________________________________________________________________\n",
      "res3d_branch2b (Conv2D)         (None, None, None, 1 147584      activation_69[0][0]              \n",
      "__________________________________________________________________________________________________\n",
      "bn3d_branch2b (BatchNormalizati (None, None, None, 1 512         res3d_branch2b[0][0]             \n",
      "__________________________________________________________________________________________________\n",
      "activation_70 (Activation)      (None, None, None, 1 0           bn3d_branch2b[0][0]              \n",
      "__________________________________________________________________________________________________\n",
      "res3d_branch2c (Conv2D)         (None, None, None, 5 66048       activation_70[0][0]              \n",
      "__________________________________________________________________________________________________\n",
      "bn3d_branch2c (BatchNormalizati (None, None, None, 5 2048        res3d_branch2c[0][0]             \n",
      "__________________________________________________________________________________________________\n",
      "add_23 (Add)                    (None, None, None, 5 0           bn3d_branch2c[0][0]              \n",
      "                                                                 activation_68[0][0]              \n",
      "__________________________________________________________________________________________________\n",
      "activation_71 (Activation)      (None, None, None, 5 0           add_23[0][0]                     \n",
      "__________________________________________________________________________________________________\n",
      "res4a_branch2a (Conv2D)         (None, None, None, 2 131328      activation_71[0][0]              \n",
      "__________________________________________________________________________________________________\n",
      "bn4a_branch2a (BatchNormalizati (None, None, None, 2 1024        res4a_branch2a[0][0]             \n",
      "__________________________________________________________________________________________________\n",
      "activation_72 (Activation)      (None, None, None, 2 0           bn4a_branch2a[0][0]              \n",
      "__________________________________________________________________________________________________\n",
      "res4a_branch2b (Conv2D)         (None, None, None, 2 590080      activation_72[0][0]              \n",
      "__________________________________________________________________________________________________\n",
      "bn4a_branch2b (BatchNormalizati (None, None, None, 2 1024        res4a_branch2b[0][0]             \n",
      "__________________________________________________________________________________________________\n",
      "activation_73 (Activation)      (None, None, None, 2 0           bn4a_branch2b[0][0]              \n",
      "__________________________________________________________________________________________________\n",
      "res4a_branch2c (Conv2D)         (None, None, None, 1 263168      activation_73[0][0]              \n",
      "__________________________________________________________________________________________________\n",
      "res4a_branch1 (Conv2D)          (None, None, None, 1 525312      activation_71[0][0]              \n",
      "__________________________________________________________________________________________________\n",
      "bn4a_branch2c (BatchNormalizati (None, None, None, 1 4096        res4a_branch2c[0][0]             \n",
      "__________________________________________________________________________________________________\n",
      "bn4a_branch1 (BatchNormalizatio (None, None, None, 1 4096        res4a_branch1[0][0]              \n",
      "__________________________________________________________________________________________________\n",
      "add_24 (Add)                    (None, None, None, 1 0           bn4a_branch2c[0][0]              \n",
      "                                                                 bn4a_branch1[0][0]               \n",
      "__________________________________________________________________________________________________\n",
      "activation_74 (Activation)      (None, None, None, 1 0           add_24[0][0]                     \n",
      "__________________________________________________________________________________________________\n",
      "res4b_branch2a (Conv2D)         (None, None, None, 2 262400      activation_74[0][0]              \n",
      "__________________________________________________________________________________________________\n",
      "bn4b_branch2a (BatchNormalizati (None, None, None, 2 1024        res4b_branch2a[0][0]             \n",
      "__________________________________________________________________________________________________\n",
      "activation_75 (Activation)      (None, None, None, 2 0           bn4b_branch2a[0][0]              \n",
      "__________________________________________________________________________________________________\n",
      "res4b_branch2b (Conv2D)         (None, None, None, 2 590080      activation_75[0][0]              \n",
      "__________________________________________________________________________________________________\n",
      "bn4b_branch2b (BatchNormalizati (None, None, None, 2 1024        res4b_branch2b[0][0]             \n",
      "__________________________________________________________________________________________________\n",
      "activation_76 (Activation)      (None, None, None, 2 0           bn4b_branch2b[0][0]              \n",
      "__________________________________________________________________________________________________\n",
      "res4b_branch2c (Conv2D)         (None, None, None, 1 263168      activation_76[0][0]              \n",
      "__________________________________________________________________________________________________\n",
      "bn4b_branch2c (BatchNormalizati (None, None, None, 1 4096        res4b_branch2c[0][0]             \n",
      "__________________________________________________________________________________________________\n",
      "add_25 (Add)                    (None, None, None, 1 0           bn4b_branch2c[0][0]              \n",
      "                                                                 activation_74[0][0]              \n",
      "__________________________________________________________________________________________________\n",
      "activation_77 (Activation)      (None, None, None, 1 0           add_25[0][0]                     \n",
      "__________________________________________________________________________________________________\n",
      "res4c_branch2a (Conv2D)         (None, None, None, 2 262400      activation_77[0][0]              \n",
      "__________________________________________________________________________________________________\n",
      "bn4c_branch2a (BatchNormalizati (None, None, None, 2 1024        res4c_branch2a[0][0]             \n",
      "__________________________________________________________________________________________________\n",
      "activation_78 (Activation)      (None, None, None, 2 0           bn4c_branch2a[0][0]              \n",
      "__________________________________________________________________________________________________\n",
      "res4c_branch2b (Conv2D)         (None, None, None, 2 590080      activation_78[0][0]              \n",
      "__________________________________________________________________________________________________\n",
      "bn4c_branch2b (BatchNormalizati (None, None, None, 2 1024        res4c_branch2b[0][0]             \n",
      "__________________________________________________________________________________________________\n",
      "activation_79 (Activation)      (None, None, None, 2 0           bn4c_branch2b[0][0]              \n",
      "__________________________________________________________________________________________________\n",
      "res4c_branch2c (Conv2D)         (None, None, None, 1 263168      activation_79[0][0]              \n",
      "__________________________________________________________________________________________________\n",
      "bn4c_branch2c (BatchNormalizati (None, None, None, 1 4096        res4c_branch2c[0][0]             \n",
      "__________________________________________________________________________________________________\n",
      "add_26 (Add)                    (None, None, None, 1 0           bn4c_branch2c[0][0]              \n",
      "                                                                 activation_77[0][0]              \n",
      "__________________________________________________________________________________________________\n",
      "activation_80 (Activation)      (None, None, None, 1 0           add_26[0][0]                     \n",
      "__________________________________________________________________________________________________\n",
      "res4d_branch2a (Conv2D)         (None, None, None, 2 262400      activation_80[0][0]              \n",
      "__________________________________________________________________________________________________\n",
      "bn4d_branch2a (BatchNormalizati (None, None, None, 2 1024        res4d_branch2a[0][0]             \n",
      "__________________________________________________________________________________________________\n",
      "activation_81 (Activation)      (None, None, None, 2 0           bn4d_branch2a[0][0]              \n",
      "__________________________________________________________________________________________________\n",
      "res4d_branch2b (Conv2D)         (None, None, None, 2 590080      activation_81[0][0]              \n",
      "__________________________________________________________________________________________________\n",
      "bn4d_branch2b (BatchNormalizati (None, None, None, 2 1024        res4d_branch2b[0][0]             \n",
      "__________________________________________________________________________________________________\n",
      "activation_82 (Activation)      (None, None, None, 2 0           bn4d_branch2b[0][0]              \n",
      "__________________________________________________________________________________________________\n",
      "res4d_branch2c (Conv2D)         (None, None, None, 1 263168      activation_82[0][0]              \n",
      "__________________________________________________________________________________________________\n",
      "bn4d_branch2c (BatchNormalizati (None, None, None, 1 4096        res4d_branch2c[0][0]             \n",
      "__________________________________________________________________________________________________\n",
      "add_27 (Add)                    (None, None, None, 1 0           bn4d_branch2c[0][0]              \n",
      "                                                                 activation_80[0][0]              \n",
      "__________________________________________________________________________________________________\n",
      "activation_83 (Activation)      (None, None, None, 1 0           add_27[0][0]                     \n",
      "__________________________________________________________________________________________________\n",
      "res4e_branch2a (Conv2D)         (None, None, None, 2 262400      activation_83[0][0]              \n",
      "__________________________________________________________________________________________________\n",
      "bn4e_branch2a (BatchNormalizati (None, None, None, 2 1024        res4e_branch2a[0][0]             \n",
      "__________________________________________________________________________________________________\n",
      "activation_84 (Activation)      (None, None, None, 2 0           bn4e_branch2a[0][0]              \n",
      "__________________________________________________________________________________________________\n",
      "res4e_branch2b (Conv2D)         (None, None, None, 2 590080      activation_84[0][0]              \n",
      "__________________________________________________________________________________________________\n",
      "bn4e_branch2b (BatchNormalizati (None, None, None, 2 1024        res4e_branch2b[0][0]             \n",
      "__________________________________________________________________________________________________\n",
      "activation_85 (Activation)      (None, None, None, 2 0           bn4e_branch2b[0][0]              \n",
      "__________________________________________________________________________________________________\n",
      "res4e_branch2c (Conv2D)         (None, None, None, 1 263168      activation_85[0][0]              \n",
      "__________________________________________________________________________________________________\n",
      "bn4e_branch2c (BatchNormalizati (None, None, None, 1 4096        res4e_branch2c[0][0]             \n",
      "__________________________________________________________________________________________________\n",
      "add_28 (Add)                    (None, None, None, 1 0           bn4e_branch2c[0][0]              \n",
      "                                                                 activation_83[0][0]              \n",
      "__________________________________________________________________________________________________\n",
      "activation_86 (Activation)      (None, None, None, 1 0           add_28[0][0]                     \n",
      "__________________________________________________________________________________________________\n",
      "res4f_branch2a (Conv2D)         (None, None, None, 2 262400      activation_86[0][0]              \n",
      "__________________________________________________________________________________________________\n",
      "bn4f_branch2a (BatchNormalizati (None, None, None, 2 1024        res4f_branch2a[0][0]             \n",
      "__________________________________________________________________________________________________\n",
      "activation_87 (Activation)      (None, None, None, 2 0           bn4f_branch2a[0][0]              \n",
      "__________________________________________________________________________________________________\n",
      "res4f_branch2b (Conv2D)         (None, None, None, 2 590080      activation_87[0][0]              \n",
      "__________________________________________________________________________________________________\n",
      "bn4f_branch2b (BatchNormalizati (None, None, None, 2 1024        res4f_branch2b[0][0]             \n",
      "__________________________________________________________________________________________________\n",
      "activation_88 (Activation)      (None, None, None, 2 0           bn4f_branch2b[0][0]              \n",
      "__________________________________________________________________________________________________\n",
      "res4f_branch2c (Conv2D)         (None, None, None, 1 263168      activation_88[0][0]              \n",
      "__________________________________________________________________________________________________\n",
      "bn4f_branch2c (BatchNormalizati (None, None, None, 1 4096        res4f_branch2c[0][0]             \n",
      "__________________________________________________________________________________________________\n",
      "add_29 (Add)                    (None, None, None, 1 0           bn4f_branch2c[0][0]              \n",
      "                                                                 activation_86[0][0]              \n",
      "__________________________________________________________________________________________________\n",
      "activation_89 (Activation)      (None, None, None, 1 0           add_29[0][0]                     \n",
      "__________________________________________________________________________________________________\n",
      "res5a_branch2a (Conv2D)         (None, None, None, 5 524800      activation_89[0][0]              \n",
      "__________________________________________________________________________________________________\n",
      "bn5a_branch2a (BatchNormalizati (None, None, None, 5 2048        res5a_branch2a[0][0]             \n",
      "__________________________________________________________________________________________________\n",
      "activation_90 (Activation)      (None, None, None, 5 0           bn5a_branch2a[0][0]              \n",
      "__________________________________________________________________________________________________\n",
      "res5a_branch2b (Conv2D)         (None, None, None, 5 2359808     activation_90[0][0]              \n",
      "__________________________________________________________________________________________________\n",
      "bn5a_branch2b (BatchNormalizati (None, None, None, 5 2048        res5a_branch2b[0][0]             \n",
      "__________________________________________________________________________________________________\n",
      "activation_91 (Activation)      (None, None, None, 5 0           bn5a_branch2b[0][0]              \n",
      "__________________________________________________________________________________________________\n",
      "res5a_branch2c (Conv2D)         (None, None, None, 2 1050624     activation_91[0][0]              \n",
      "__________________________________________________________________________________________________\n",
      "res5a_branch1 (Conv2D)          (None, None, None, 2 2099200     activation_89[0][0]              \n",
      "__________________________________________________________________________________________________\n",
      "bn5a_branch2c (BatchNormalizati (None, None, None, 2 8192        res5a_branch2c[0][0]             \n",
      "__________________________________________________________________________________________________\n",
      "bn5a_branch1 (BatchNormalizatio (None, None, None, 2 8192        res5a_branch1[0][0]              \n",
      "__________________________________________________________________________________________________\n",
      "add_30 (Add)                    (None, None, None, 2 0           bn5a_branch2c[0][0]              \n",
      "                                                                 bn5a_branch1[0][0]               \n",
      "__________________________________________________________________________________________________\n",
      "activation_92 (Activation)      (None, None, None, 2 0           add_30[0][0]                     \n",
      "__________________________________________________________________________________________________\n",
      "res5b_branch2a (Conv2D)         (None, None, None, 5 1049088     activation_92[0][0]              \n",
      "__________________________________________________________________________________________________\n",
      "bn5b_branch2a (BatchNormalizati (None, None, None, 5 2048        res5b_branch2a[0][0]             \n",
      "__________________________________________________________________________________________________\n",
      "activation_93 (Activation)      (None, None, None, 5 0           bn5b_branch2a[0][0]              \n",
      "__________________________________________________________________________________________________\n",
      "res5b_branch2b (Conv2D)         (None, None, None, 5 2359808     activation_93[0][0]              \n",
      "__________________________________________________________________________________________________\n",
      "bn5b_branch2b (BatchNormalizati (None, None, None, 5 2048        res5b_branch2b[0][0]             \n",
      "__________________________________________________________________________________________________\n",
      "activation_94 (Activation)      (None, None, None, 5 0           bn5b_branch2b[0][0]              \n",
      "__________________________________________________________________________________________________\n",
      "res5b_branch2c (Conv2D)         (None, None, None, 2 1050624     activation_94[0][0]              \n",
      "__________________________________________________________________________________________________\n",
      "bn5b_branch2c (BatchNormalizati (None, None, None, 2 8192        res5b_branch2c[0][0]             \n",
      "__________________________________________________________________________________________________\n",
      "add_31 (Add)                    (None, None, None, 2 0           bn5b_branch2c[0][0]              \n",
      "                                                                 activation_92[0][0]              \n",
      "__________________________________________________________________________________________________\n",
      "activation_95 (Activation)      (None, None, None, 2 0           add_31[0][0]                     \n",
      "__________________________________________________________________________________________________\n",
      "res5c_branch2a (Conv2D)         (None, None, None, 5 1049088     activation_95[0][0]              \n",
      "__________________________________________________________________________________________________\n",
      "bn5c_branch2a (BatchNormalizati (None, None, None, 5 2048        res5c_branch2a[0][0]             \n",
      "__________________________________________________________________________________________________\n",
      "activation_96 (Activation)      (None, None, None, 5 0           bn5c_branch2a[0][0]              \n",
      "__________________________________________________________________________________________________\n",
      "res5c_branch2b (Conv2D)         (None, None, None, 5 2359808     activation_96[0][0]              \n",
      "__________________________________________________________________________________________________\n",
      "bn5c_branch2b (BatchNormalizati (None, None, None, 5 2048        res5c_branch2b[0][0]             \n",
      "__________________________________________________________________________________________________\n",
      "activation_97 (Activation)      (None, None, None, 5 0           bn5c_branch2b[0][0]              \n",
      "__________________________________________________________________________________________________\n",
      "res5c_branch2c (Conv2D)         (None, None, None, 2 1050624     activation_97[0][0]              \n",
      "__________________________________________________________________________________________________\n",
      "bn5c_branch2c (BatchNormalizati (None, None, None, 2 8192        res5c_branch2c[0][0]             \n",
      "__________________________________________________________________________________________________\n",
      "add_32 (Add)                    (None, None, None, 2 0           bn5c_branch2c[0][0]              \n",
      "                                                                 activation_95[0][0]              \n",
      "__________________________________________________________________________________________________\n",
      "activation_98 (Activation)      (None, None, None, 2 0           add_32[0][0]                     \n",
      "==================================================================================================\n",
      "Total params: 23,587,712\n",
      "Trainable params: 23,534,592\n",
      "Non-trainable params: 53,120\n",
      "__________________________________________________________________________________________________\n"
     ]
    }
   ],
   "source": [
    "base_model.summary()"
   ]
  },
  {
   "cell_type": "code",
   "execution_count": null,
   "metadata": {},
   "outputs": [],
   "source": [
    "img_idx = imgs.loc[imgs['labels'] == i][:100]\n",
    "\n",
    "abc = img_idx.iloc[:, :3072]\n",
    "\n",
    "for idx, row in abc.iterrows():\n",
    "    print(idx)"
   ]
  },
  {
   "cell_type": "code",
   "execution_count": 12,
   "metadata": {},
   "outputs": [
    {
     "data": {
      "text/plain": [
       "(10000, 224, 224, 3)"
      ]
     },
     "execution_count": 12,
     "metadata": {},
     "output_type": "execute_result"
    }
   ],
   "source": [
    "x_test.shape"
   ]
  },
  {
   "cell_type": "code",
   "execution_count": 94,
   "metadata": {},
   "outputs": [
    {
     "name": "stdout",
     "output_type": "stream",
     "text": [
      "(100, 32, 32, 3)\n",
      "2 conv1\n"
     ]
    },
    {
     "name": "stderr",
     "output_type": "stream",
     "text": [
      "C:\\Users\\benza-ord\\anaconda3\\envs\\keras-gpu\\lib\\site-packages\\ipykernel_launcher.py:49: UserWarning: Update your `Model` call to the Keras 2 API: `Model(inputs=[<tf.Tenso..., outputs=Tensor(\"co...)`\n"
     ]
    },
    {
     "name": "stdout",
     "output_type": "stream",
     "text": [
      "preds (100, 112, 112, 64)\n",
      "(802816, 100)\n",
      "             PC1       PC2  target\n",
      "0      -0.011138 -0.009281     0.0\n",
      "1       0.006600  0.014956     0.0\n",
      "2       0.021903 -0.006573     0.0\n",
      "3      -0.012579 -0.007029     0.0\n",
      "4      -0.002646  0.021150     0.0\n",
      "...          ...       ...     ...\n",
      "802811  0.017896  0.007018     NaN\n",
      "802812 -0.006910 -0.002976     NaN\n",
      "802813 -0.015483  0.009277     NaN\n",
      "802814  0.003709  0.000903     NaN\n",
      "802815 -0.001694 -0.017433     NaN\n",
      "\n",
      "[802816 rows x 3 columns]\n",
      "(100, 32, 32, 3)\n",
      "2 conv1\n"
     ]
    },
    {
     "name": "stderr",
     "output_type": "stream",
     "text": [
      "C:\\Users\\benza-ord\\anaconda3\\envs\\keras-gpu\\lib\\site-packages\\ipykernel_launcher.py:49: UserWarning: Update your `Model` call to the Keras 2 API: `Model(inputs=[<tf.Tenso..., outputs=Tensor(\"co...)`\n"
     ]
    },
    {
     "name": "stdout",
     "output_type": "stream",
     "text": [
      "preds (100, 112, 112, 64)\n",
      "(802816, 100)\n",
      "             PC1       PC2  target\n",
      "0      -0.011135 -0.009269     1.0\n",
      "1       0.006604  0.014953     1.0\n",
      "2       0.021901 -0.006563     1.0\n",
      "3      -0.012579 -0.007029     1.0\n",
      "4      -0.002645  0.021149     1.0\n",
      "...          ...       ...     ...\n",
      "802811  0.017896  0.007017     NaN\n",
      "802812 -0.006910 -0.002975     NaN\n",
      "802813 -0.015483  0.009278     NaN\n",
      "802814  0.003709  0.000902     NaN\n",
      "802815 -0.001693 -0.017434     NaN\n",
      "\n",
      "[802816 rows x 3 columns]\n",
      "(100, 32, 32, 3)\n",
      "2 conv1\n"
     ]
    },
    {
     "name": "stderr",
     "output_type": "stream",
     "text": [
      "C:\\Users\\benza-ord\\anaconda3\\envs\\keras-gpu\\lib\\site-packages\\ipykernel_launcher.py:49: UserWarning: Update your `Model` call to the Keras 2 API: `Model(inputs=[<tf.Tenso..., outputs=Tensor(\"co...)`\n"
     ]
    },
    {
     "name": "stdout",
     "output_type": "stream",
     "text": [
      "preds (100, 112, 112, 64)\n",
      "(802816, 100)\n",
      "             PC1       PC2  target\n",
      "0      -0.011131 -0.009267     2.0\n",
      "1       0.006612  0.014964     2.0\n",
      "2       0.021902 -0.006570     2.0\n",
      "3      -0.012579 -0.007029     2.0\n",
      "4      -0.002648  0.021152     2.0\n",
      "...          ...       ...     ...\n",
      "802811  0.017894  0.007017     NaN\n",
      "802812 -0.006906 -0.002975     NaN\n",
      "802813 -0.015479  0.009278     NaN\n",
      "802814  0.003707  0.000903     NaN\n",
      "802815 -0.001698 -0.017434     NaN\n",
      "\n",
      "[802816 rows x 3 columns]\n",
      "(100, 32, 32, 3)\n",
      "2 conv1\n"
     ]
    },
    {
     "name": "stderr",
     "output_type": "stream",
     "text": [
      "C:\\Users\\benza-ord\\anaconda3\\envs\\keras-gpu\\lib\\site-packages\\ipykernel_launcher.py:49: UserWarning: Update your `Model` call to the Keras 2 API: `Model(inputs=[<tf.Tenso..., outputs=Tensor(\"co...)`\n"
     ]
    },
    {
     "name": "stdout",
     "output_type": "stream",
     "text": [
      "preds (100, 112, 112, 64)\n",
      "(802816, 100)\n",
      "             PC1       PC2  target\n",
      "0      -0.011135 -0.009281     3.0\n",
      "1       0.006602  0.014961     3.0\n",
      "2       0.021902 -0.006576     3.0\n",
      "3      -0.012580 -0.007033     3.0\n",
      "4      -0.002644  0.021152     3.0\n",
      "...          ...       ...     ...\n",
      "802811  0.017895  0.007016     NaN\n",
      "802812 -0.006910 -0.002977     NaN\n",
      "802813 -0.015483  0.009277     NaN\n",
      "802814  0.003710  0.000905     NaN\n",
      "802815 -0.001694 -0.017432     NaN\n",
      "\n",
      "[802816 rows x 3 columns]\n",
      "(100, 32, 32, 3)\n",
      "2 conv1\n"
     ]
    },
    {
     "name": "stderr",
     "output_type": "stream",
     "text": [
      "C:\\Users\\benza-ord\\anaconda3\\envs\\keras-gpu\\lib\\site-packages\\ipykernel_launcher.py:49: UserWarning: Update your `Model` call to the Keras 2 API: `Model(inputs=[<tf.Tenso..., outputs=Tensor(\"co...)`\n"
     ]
    },
    {
     "name": "stdout",
     "output_type": "stream",
     "text": [
      "preds (100, 112, 112, 64)\n",
      "(802816, 100)\n",
      "             PC1       PC2  target\n",
      "0      -0.011143 -0.009271     4.0\n",
      "1       0.006604  0.014959     4.0\n",
      "2       0.021901 -0.006571     4.0\n",
      "3      -0.012580 -0.007030     4.0\n",
      "4      -0.002645  0.021152     4.0\n",
      "...          ...       ...     ...\n",
      "802811  0.017895  0.007018     NaN\n",
      "802812 -0.006909 -0.002975     NaN\n",
      "802813 -0.015482  0.009278     NaN\n",
      "802814  0.003709  0.000902     NaN\n",
      "802815 -0.001694 -0.017434     NaN\n",
      "\n",
      "[802816 rows x 3 columns]\n",
      "(100, 32, 32, 3)\n",
      "2 conv1\n"
     ]
    },
    {
     "name": "stderr",
     "output_type": "stream",
     "text": [
      "C:\\Users\\benza-ord\\anaconda3\\envs\\keras-gpu\\lib\\site-packages\\ipykernel_launcher.py:49: UserWarning: Update your `Model` call to the Keras 2 API: `Model(inputs=[<tf.Tenso..., outputs=Tensor(\"co...)`\n"
     ]
    },
    {
     "name": "stdout",
     "output_type": "stream",
     "text": [
      "preds (100, 112, 112, 64)\n",
      "(802816, 100)\n",
      "             PC1       PC2  target\n",
      "0      -0.011138 -0.009281     5.0\n",
      "1       0.006601  0.014955     5.0\n",
      "2       0.021900 -0.006572     5.0\n",
      "3      -0.012576 -0.007029     5.0\n",
      "4      -0.002646  0.021151     5.0\n",
      "...          ...       ...     ...\n",
      "802811  0.017897  0.007018     NaN\n",
      "802812 -0.006910 -0.002975     NaN\n",
      "802813 -0.015483  0.009277     NaN\n",
      "802814  0.003709  0.000903     NaN\n",
      "802815 -0.001694 -0.017434     NaN\n",
      "\n",
      "[802816 rows x 3 columns]\n",
      "(100, 32, 32, 3)\n",
      "2 conv1\n"
     ]
    },
    {
     "name": "stderr",
     "output_type": "stream",
     "text": [
      "C:\\Users\\benza-ord\\anaconda3\\envs\\keras-gpu\\lib\\site-packages\\ipykernel_launcher.py:49: UserWarning: Update your `Model` call to the Keras 2 API: `Model(inputs=[<tf.Tenso..., outputs=Tensor(\"co...)`\n"
     ]
    },
    {
     "name": "stdout",
     "output_type": "stream",
     "text": [
      "preds (100, 112, 112, 64)\n",
      "(802816, 100)\n",
      "             PC1       PC2  target\n",
      "0      -0.011129 -0.009273     6.0\n",
      "1       0.006601  0.014957     6.0\n",
      "2       0.021905 -0.006567     6.0\n",
      "3      -0.012579 -0.007029     6.0\n",
      "4      -0.002646  0.021147     6.0\n",
      "...          ...       ...     ...\n",
      "802811  0.017896  0.007018     NaN\n",
      "802812 -0.006909 -0.002974     NaN\n",
      "802813 -0.015482  0.009278     NaN\n",
      "802814  0.003709  0.000902     NaN\n",
      "802815 -0.001695 -0.017434     NaN\n",
      "\n",
      "[802816 rows x 3 columns]\n",
      "(100, 32, 32, 3)\n",
      "2 conv1\n"
     ]
    },
    {
     "name": "stderr",
     "output_type": "stream",
     "text": [
      "C:\\Users\\benza-ord\\anaconda3\\envs\\keras-gpu\\lib\\site-packages\\ipykernel_launcher.py:49: UserWarning: Update your `Model` call to the Keras 2 API: `Model(inputs=[<tf.Tenso..., outputs=Tensor(\"co...)`\n"
     ]
    },
    {
     "name": "stdout",
     "output_type": "stream",
     "text": [
      "preds (100, 112, 112, 64)\n",
      "(802816, 100)\n",
      "             PC1       PC2  target\n",
      "0      -0.011136 -0.009286     7.0\n",
      "1       0.006606  0.014969     7.0\n",
      "2       0.021902 -0.006573     7.0\n",
      "3      -0.012580 -0.007027     7.0\n",
      "4      -0.002645  0.021150     7.0\n",
      "...          ...       ...     ...\n",
      "802811  0.017896  0.007017     NaN\n",
      "802812 -0.006908 -0.002976     NaN\n",
      "802813 -0.015481  0.009277     NaN\n",
      "802814  0.003708  0.000903     NaN\n",
      "802815 -0.001696 -0.017433     NaN\n",
      "\n",
      "[802816 rows x 3 columns]\n",
      "(100, 32, 32, 3)\n",
      "2 conv1\n"
     ]
    },
    {
     "name": "stderr",
     "output_type": "stream",
     "text": [
      "C:\\Users\\benza-ord\\anaconda3\\envs\\keras-gpu\\lib\\site-packages\\ipykernel_launcher.py:49: UserWarning: Update your `Model` call to the Keras 2 API: `Model(inputs=[<tf.Tenso..., outputs=Tensor(\"co...)`\n"
     ]
    },
    {
     "name": "stdout",
     "output_type": "stream",
     "text": [
      "preds (100, 112, 112, 64)\n",
      "(802816, 100)\n",
      "             PC1       PC2  target\n",
      "0      -0.011134 -0.009266     8.0\n",
      "1       0.006599  0.014968     8.0\n",
      "2       0.021903 -0.006577     8.0\n",
      "3      -0.012580 -0.007031     8.0\n",
      "4      -0.002645  0.021150     8.0\n",
      "...          ...       ...     ...\n",
      "802811  0.017899  0.007023     NaN\n",
      "802812 -0.006911 -0.002978     NaN\n",
      "802813 -0.015485  0.009272     NaN\n",
      "802814  0.003707  0.000900     NaN\n",
      "802815 -0.001693 -0.017432     NaN\n",
      "\n",
      "[802816 rows x 3 columns]\n",
      "(100, 32, 32, 3)\n",
      "2 conv1\n"
     ]
    },
    {
     "name": "stderr",
     "output_type": "stream",
     "text": [
      "C:\\Users\\benza-ord\\anaconda3\\envs\\keras-gpu\\lib\\site-packages\\ipykernel_launcher.py:49: UserWarning: Update your `Model` call to the Keras 2 API: `Model(inputs=[<tf.Tenso..., outputs=Tensor(\"co...)`\n"
     ]
    },
    {
     "name": "stdout",
     "output_type": "stream",
     "text": [
      "preds (100, 112, 112, 64)\n",
      "(802816, 100)\n",
      "             PC1       PC2  target\n",
      "0      -0.011123 -0.009278     9.0\n",
      "1       0.006597  0.014958     9.0\n",
      "2       0.021905 -0.006570     9.0\n",
      "3      -0.012578 -0.007028     9.0\n",
      "4      -0.002648  0.021151     9.0\n",
      "...          ...       ...     ...\n",
      "802811  0.017896  0.007017     NaN\n",
      "802812 -0.006908 -0.002976     NaN\n",
      "802813 -0.015482  0.009277     NaN\n",
      "802814  0.003708  0.000904     NaN\n",
      "802815 -0.001696 -0.017433     NaN\n",
      "\n",
      "[802816 rows x 3 columns]\n",
      "(100, 32, 32, 3)\n",
      "7 res2a_branch2a\n"
     ]
    },
    {
     "name": "stderr",
     "output_type": "stream",
     "text": [
      "C:\\Users\\benza-ord\\anaconda3\\envs\\keras-gpu\\lib\\site-packages\\ipykernel_launcher.py:49: UserWarning: Update your `Model` call to the Keras 2 API: `Model(inputs=[<tf.Tenso..., outputs=Tensor(\"re...)`\n"
     ]
    },
    {
     "name": "stdout",
     "output_type": "stream",
     "text": [
      "preds (100, 56, 56, 64)\n",
      "(200704, 100)\n",
      "             PC1       PC2  target\n",
      "0       0.019350  0.014871     0.0\n",
      "1      -0.012152 -0.015247     0.0\n",
      "2       0.006615  0.016299     0.0\n",
      "3      -0.001759 -0.014096     0.0\n",
      "4      -0.008229  0.023065     0.0\n",
      "...          ...       ...     ...\n",
      "200699 -0.006500  0.013274     NaN\n",
      "200700  0.005021 -0.007441     NaN\n",
      "200701 -0.016088  0.007960     NaN\n",
      "200702  0.015483 -0.010300     NaN\n",
      "200703 -0.012653 -0.002871     NaN\n",
      "\n",
      "[200704 rows x 3 columns]\n",
      "(100, 32, 32, 3)\n",
      "7 res2a_branch2a\n"
     ]
    },
    {
     "name": "stderr",
     "output_type": "stream",
     "text": [
      "C:\\Users\\benza-ord\\anaconda3\\envs\\keras-gpu\\lib\\site-packages\\ipykernel_launcher.py:49: UserWarning: Update your `Model` call to the Keras 2 API: `Model(inputs=[<tf.Tenso..., outputs=Tensor(\"re...)`\n"
     ]
    },
    {
     "name": "stdout",
     "output_type": "stream",
     "text": [
      "preds (100, 56, 56, 64)\n",
      "(200704, 100)\n",
      "             PC1       PC2  target\n",
      "0       0.019342  0.014904     1.0\n",
      "1      -0.012135 -0.015265     1.0\n",
      "2       0.006648  0.016249     1.0\n",
      "3      -0.001820 -0.013981     1.0\n",
      "4      -0.008262  0.022965     1.0\n",
      "...          ...       ...     ...\n",
      "200699 -0.006469  0.013294     NaN\n",
      "200700  0.005039 -0.007491     NaN\n",
      "200701 -0.016104  0.008028     NaN\n",
      "200702  0.015424 -0.010245     NaN\n",
      "200703 -0.012614 -0.002840     NaN\n",
      "\n",
      "[200704 rows x 3 columns]\n",
      "(100, 32, 32, 3)\n",
      "7 res2a_branch2a\n"
     ]
    },
    {
     "name": "stderr",
     "output_type": "stream",
     "text": [
      "C:\\Users\\benza-ord\\anaconda3\\envs\\keras-gpu\\lib\\site-packages\\ipykernel_launcher.py:49: UserWarning: Update your `Model` call to the Keras 2 API: `Model(inputs=[<tf.Tenso..., outputs=Tensor(\"re...)`\n"
     ]
    },
    {
     "name": "stdout",
     "output_type": "stream",
     "text": [
      "preds (100, 56, 56, 64)\n",
      "(200704, 100)\n",
      "             PC1       PC2  target\n",
      "0       0.019349  0.014861     2.0\n",
      "1      -0.012143 -0.015222     2.0\n",
      "2       0.006614  0.016239     2.0\n",
      "3      -0.001757 -0.014047     2.0\n",
      "4      -0.008267  0.022922     2.0\n",
      "...          ...       ...     ...\n",
      "200699 -0.006478  0.013353     NaN\n",
      "200700  0.005014 -0.007485     NaN\n",
      "200701 -0.016067  0.008048     NaN\n",
      "200702  0.015476 -0.010328     NaN\n",
      "200703 -0.012632 -0.002756     NaN\n",
      "\n",
      "[200704 rows x 3 columns]\n",
      "(100, 32, 32, 3)\n",
      "7 res2a_branch2a\n"
     ]
    },
    {
     "name": "stderr",
     "output_type": "stream",
     "text": [
      "C:\\Users\\benza-ord\\anaconda3\\envs\\keras-gpu\\lib\\site-packages\\ipykernel_launcher.py:49: UserWarning: Update your `Model` call to the Keras 2 API: `Model(inputs=[<tf.Tenso..., outputs=Tensor(\"re...)`\n"
     ]
    },
    {
     "name": "stdout",
     "output_type": "stream",
     "text": [
      "preds (100, 56, 56, 64)\n",
      "(200704, 100)\n",
      "             PC1       PC2  target\n",
      "0       0.019353  0.014854     3.0\n",
      "1      -0.012154 -0.015226     3.0\n",
      "2       0.006640  0.016250     3.0\n",
      "3      -0.001782 -0.014051     3.0\n",
      "4      -0.008236  0.022944     3.0\n",
      "...          ...       ...     ...\n",
      "200699 -0.006491  0.013341     NaN\n",
      "200700  0.005027 -0.007473     NaN\n",
      "200701 -0.016096  0.008052     NaN\n",
      "200702  0.015481 -0.010320     NaN\n",
      "200703 -0.012653 -0.002788     NaN\n",
      "\n",
      "[200704 rows x 3 columns]\n",
      "(100, 32, 32, 3)\n",
      "7 res2a_branch2a\n"
     ]
    },
    {
     "name": "stderr",
     "output_type": "stream",
     "text": [
      "C:\\Users\\benza-ord\\anaconda3\\envs\\keras-gpu\\lib\\site-packages\\ipykernel_launcher.py:49: UserWarning: Update your `Model` call to the Keras 2 API: `Model(inputs=[<tf.Tenso..., outputs=Tensor(\"re...)`\n"
     ]
    },
    {
     "name": "stdout",
     "output_type": "stream",
     "text": [
      "preds (100, 56, 56, 64)\n",
      "(200704, 100)\n",
      "             PC1       PC2  target\n",
      "0       0.019378  0.014899     4.0\n",
      "1      -0.012088 -0.015186     4.0\n",
      "2       0.006517  0.016191     4.0\n",
      "3      -0.001766 -0.014099     4.0\n",
      "4      -0.008214  0.023022     4.0\n",
      "...          ...       ...     ...\n",
      "200699 -0.006491  0.013308     NaN\n",
      "200700  0.005003 -0.007469     NaN\n",
      "200701 -0.016068  0.008017     NaN\n",
      "200702  0.015473 -0.010315     NaN\n",
      "200703 -0.012694 -0.002872     NaN\n",
      "\n",
      "[200704 rows x 3 columns]\n",
      "(100, 32, 32, 3)\n",
      "7 res2a_branch2a\n"
     ]
    },
    {
     "name": "stderr",
     "output_type": "stream",
     "text": [
      "C:\\Users\\benza-ord\\anaconda3\\envs\\keras-gpu\\lib\\site-packages\\ipykernel_launcher.py:49: UserWarning: Update your `Model` call to the Keras 2 API: `Model(inputs=[<tf.Tenso..., outputs=Tensor(\"re...)`\n"
     ]
    },
    {
     "name": "stdout",
     "output_type": "stream",
     "text": [
      "preds (100, 56, 56, 64)\n",
      "(200704, 100)\n",
      "             PC1       PC2  target\n",
      "0       0.019343  0.014860     5.0\n",
      "1      -0.012146 -0.015240     5.0\n",
      "2       0.006609  0.016279     5.0\n",
      "3      -0.001753 -0.014081     5.0\n",
      "4      -0.008261  0.022984     5.0\n",
      "...          ...       ...     ...\n",
      "200699 -0.006480  0.013321     NaN\n",
      "200700  0.005015 -0.007456     NaN\n",
      "200701 -0.016065  0.008018     NaN\n",
      "200702  0.015479 -0.010310     NaN\n",
      "200703 -0.012633 -0.002818     NaN\n",
      "\n",
      "[200704 rows x 3 columns]\n",
      "(100, 32, 32, 3)\n",
      "7 res2a_branch2a\n"
     ]
    },
    {
     "name": "stderr",
     "output_type": "stream",
     "text": [
      "C:\\Users\\benza-ord\\anaconda3\\envs\\keras-gpu\\lib\\site-packages\\ipykernel_launcher.py:49: UserWarning: Update your `Model` call to the Keras 2 API: `Model(inputs=[<tf.Tenso..., outputs=Tensor(\"re...)`\n"
     ]
    },
    {
     "name": "stdout",
     "output_type": "stream",
     "text": [
      "preds (100, 56, 56, 64)\n",
      "(200704, 100)\n",
      "             PC1       PC2  target\n",
      "0       0.019251  0.014750     6.0\n",
      "1      -0.012085 -0.015183     6.0\n",
      "2       0.006614  0.016287     6.0\n",
      "3      -0.001854 -0.014214     6.0\n",
      "4      -0.008322  0.022913     6.0\n",
      "...          ...       ...     ...\n",
      "200699 -0.006395  0.013443     NaN\n",
      "200700  0.005043 -0.007414     NaN\n",
      "200701 -0.016046  0.008034     NaN\n",
      "200702  0.015485 -0.010301     NaN\n",
      "200703 -0.012552 -0.002700     NaN\n",
      "\n",
      "[200704 rows x 3 columns]\n",
      "(100, 32, 32, 3)\n",
      "7 res2a_branch2a\n"
     ]
    },
    {
     "name": "stderr",
     "output_type": "stream",
     "text": [
      "C:\\Users\\benza-ord\\anaconda3\\envs\\keras-gpu\\lib\\site-packages\\ipykernel_launcher.py:49: UserWarning: Update your `Model` call to the Keras 2 API: `Model(inputs=[<tf.Tenso..., outputs=Tensor(\"re...)`\n"
     ]
    },
    {
     "name": "stdout",
     "output_type": "stream",
     "text": [
      "preds (100, 56, 56, 64)\n",
      "(200704, 100)\n",
      "             PC1       PC2  target\n",
      "0       0.019346  0.014866     7.0\n",
      "1      -0.012145 -0.015242     7.0\n",
      "2       0.006615  0.016283     7.0\n",
      "3      -0.001755 -0.014080     7.0\n",
      "4      -0.008260  0.022989     7.0\n",
      "...          ...       ...     ...\n",
      "200699 -0.006484  0.013316     NaN\n",
      "200700  0.005016 -0.007453     NaN\n",
      "200701 -0.016071  0.008013     NaN\n",
      "200702  0.015478 -0.010309     NaN\n",
      "200703 -0.012638 -0.002823     NaN\n",
      "\n",
      "[200704 rows x 3 columns]\n",
      "(100, 32, 32, 3)\n",
      "7 res2a_branch2a\n"
     ]
    },
    {
     "name": "stderr",
     "output_type": "stream",
     "text": [
      "C:\\Users\\benza-ord\\anaconda3\\envs\\keras-gpu\\lib\\site-packages\\ipykernel_launcher.py:49: UserWarning: Update your `Model` call to the Keras 2 API: `Model(inputs=[<tf.Tenso..., outputs=Tensor(\"re...)`\n"
     ]
    },
    {
     "name": "stdout",
     "output_type": "stream",
     "text": [
      "preds (100, 56, 56, 64)\n",
      "(200704, 100)\n",
      "             PC1       PC2  target\n",
      "0       0.019346  0.014869     8.0\n",
      "1      -0.012141 -0.015247     8.0\n",
      "2       0.006608  0.016282     8.0\n",
      "3      -0.001753 -0.014084     8.0\n",
      "4      -0.008272  0.022991     8.0\n",
      "...          ...       ...     ...\n",
      "200699 -0.006475  0.013318     NaN\n",
      "200700  0.005011 -0.007450     NaN\n",
      "200701 -0.016060  0.008007     NaN\n",
      "200702  0.015477 -0.010315     NaN\n",
      "200703 -0.012624 -0.002828     NaN\n",
      "\n",
      "[200704 rows x 3 columns]\n",
      "(100, 32, 32, 3)\n",
      "7 res2a_branch2a\n"
     ]
    },
    {
     "name": "stderr",
     "output_type": "stream",
     "text": [
      "C:\\Users\\benza-ord\\anaconda3\\envs\\keras-gpu\\lib\\site-packages\\ipykernel_launcher.py:49: UserWarning: Update your `Model` call to the Keras 2 API: `Model(inputs=[<tf.Tenso..., outputs=Tensor(\"re...)`\n"
     ]
    },
    {
     "name": "stdout",
     "output_type": "stream",
     "text": [
      "preds (100, 56, 56, 64)\n",
      "(200704, 100)\n",
      "             PC1       PC2  target\n",
      "0       0.019353  0.014860     9.0\n",
      "1      -0.012157 -0.015224     9.0\n",
      "2       0.006632  0.016236     9.0\n",
      "3      -0.001772 -0.014053     9.0\n",
      "4      -0.008227  0.022921     9.0\n",
      "...          ...       ...     ...\n",
      "200699 -0.006500  0.013355     NaN\n",
      "200700  0.005025 -0.007474     NaN\n",
      "200701 -0.016088  0.008058     NaN\n",
      "200702  0.015481 -0.010318     NaN\n",
      "200703 -0.012654 -0.002775     NaN\n",
      "\n",
      "[200704 rows x 3 columns]\n",
      "(100, 32, 32, 3)\n",
      "10 res2a_branch2b\n"
     ]
    },
    {
     "name": "stderr",
     "output_type": "stream",
     "text": [
      "C:\\Users\\benza-ord\\anaconda3\\envs\\keras-gpu\\lib\\site-packages\\ipykernel_launcher.py:49: UserWarning: Update your `Model` call to the Keras 2 API: `Model(inputs=[<tf.Tenso..., outputs=Tensor(\"re...)`\n"
     ]
    },
    {
     "name": "stdout",
     "output_type": "stream",
     "text": [
      "preds (100, 56, 56, 64)\n",
      "(200704, 100)\n",
      "             PC1       PC2  target\n",
      "0      -0.010866 -0.007788     0.0\n",
      "1       0.022319  0.000077     0.0\n",
      "2      -0.018551  0.007773     0.0\n",
      "3       0.013376 -0.014317     0.0\n",
      "4      -0.008246  0.021864     0.0\n",
      "...          ...       ...     ...\n",
      "200699 -0.004208  0.007172     NaN\n",
      "200700 -0.001466 -0.007712     NaN\n",
      "200701  0.005731  0.008657     NaN\n",
      "200702 -0.006823 -0.005794     NaN\n",
      "200703  0.010764 -0.000031     NaN\n",
      "\n",
      "[200704 rows x 3 columns]\n",
      "(100, 32, 32, 3)\n",
      "10 res2a_branch2b\n"
     ]
    },
    {
     "name": "stderr",
     "output_type": "stream",
     "text": [
      "C:\\Users\\benza-ord\\anaconda3\\envs\\keras-gpu\\lib\\site-packages\\ipykernel_launcher.py:49: UserWarning: Update your `Model` call to the Keras 2 API: `Model(inputs=[<tf.Tenso..., outputs=Tensor(\"re...)`\n"
     ]
    },
    {
     "name": "stdout",
     "output_type": "stream",
     "text": [
      "preds (100, 56, 56, 64)\n",
      "(200704, 100)\n",
      "             PC1       PC2  target\n",
      "0      -0.010864 -0.007784     1.0\n",
      "1       0.022319  0.000077     1.0\n",
      "2      -0.018551  0.007773     1.0\n",
      "3       0.013377 -0.014316     1.0\n",
      "4      -0.008246  0.021864     1.0\n",
      "...          ...       ...     ...\n",
      "200699 -0.004208  0.007172     NaN\n",
      "200700 -0.001466 -0.007713     NaN\n",
      "200701  0.005731  0.008657     NaN\n",
      "200702 -0.006823 -0.005794     NaN\n",
      "200703  0.010764 -0.000031     NaN\n",
      "\n",
      "[200704 rows x 3 columns]\n",
      "(100, 32, 32, 3)\n",
      "10 res2a_branch2b\n"
     ]
    },
    {
     "name": "stderr",
     "output_type": "stream",
     "text": [
      "C:\\Users\\benza-ord\\anaconda3\\envs\\keras-gpu\\lib\\site-packages\\ipykernel_launcher.py:49: UserWarning: Update your `Model` call to the Keras 2 API: `Model(inputs=[<tf.Tenso..., outputs=Tensor(\"re...)`\n"
     ]
    },
    {
     "name": "stdout",
     "output_type": "stream",
     "text": [
      "preds (100, 56, 56, 64)\n",
      "(200704, 100)\n",
      "             PC1       PC2  target\n",
      "0      -0.010865 -0.007787     2.0\n",
      "1       0.022320  0.000077     2.0\n",
      "2      -0.018551  0.007773     2.0\n",
      "3       0.013377 -0.014316     2.0\n",
      "4      -0.008246  0.021864     2.0\n",
      "...          ...       ...     ...\n",
      "200699 -0.004208  0.007172     NaN\n",
      "200700 -0.001466 -0.007712     NaN\n",
      "200701  0.005731  0.008657     NaN\n",
      "200702 -0.006823 -0.005794     NaN\n",
      "200703  0.010764 -0.000031     NaN\n",
      "\n",
      "[200704 rows x 3 columns]\n",
      "(100, 32, 32, 3)\n",
      "10 res2a_branch2b\n"
     ]
    },
    {
     "name": "stderr",
     "output_type": "stream",
     "text": [
      "C:\\Users\\benza-ord\\anaconda3\\envs\\keras-gpu\\lib\\site-packages\\ipykernel_launcher.py:49: UserWarning: Update your `Model` call to the Keras 2 API: `Model(inputs=[<tf.Tenso..., outputs=Tensor(\"re...)`\n"
     ]
    },
    {
     "name": "stdout",
     "output_type": "stream",
     "text": [
      "preds (100, 56, 56, 64)\n",
      "(200704, 100)\n",
      "             PC1       PC2  target\n",
      "0      -0.010866 -0.007782     3.0\n",
      "1       0.022319  0.000077     3.0\n",
      "2      -0.018551  0.007773     3.0\n",
      "3       0.013377 -0.014316     3.0\n",
      "4      -0.008246  0.021864     3.0\n",
      "...          ...       ...     ...\n",
      "200699 -0.004208  0.007172     NaN\n",
      "200700 -0.001466 -0.007712     NaN\n",
      "200701  0.005731  0.008657     NaN\n",
      "200702 -0.006823 -0.005794     NaN\n",
      "200703  0.010764 -0.000031     NaN\n",
      "\n",
      "[200704 rows x 3 columns]\n",
      "(100, 32, 32, 3)\n",
      "10 res2a_branch2b\n"
     ]
    },
    {
     "name": "stderr",
     "output_type": "stream",
     "text": [
      "C:\\Users\\benza-ord\\anaconda3\\envs\\keras-gpu\\lib\\site-packages\\ipykernel_launcher.py:49: UserWarning: Update your `Model` call to the Keras 2 API: `Model(inputs=[<tf.Tenso..., outputs=Tensor(\"re...)`\n"
     ]
    },
    {
     "name": "stdout",
     "output_type": "stream",
     "text": [
      "preds (100, 56, 56, 64)\n",
      "(200704, 100)\n",
      "             PC1       PC2  target\n",
      "0      -0.010866 -0.007784     4.0\n",
      "1       0.022319  0.000077     4.0\n",
      "2      -0.018552  0.007773     4.0\n",
      "3       0.013377 -0.014316     4.0\n",
      "4      -0.008246  0.021864     4.0\n",
      "...          ...       ...     ...\n",
      "200699 -0.004208  0.007172     NaN\n",
      "200700 -0.001466 -0.007712     NaN\n",
      "200701  0.005731  0.008657     NaN\n",
      "200702 -0.006823 -0.005794     NaN\n",
      "200703  0.010764 -0.000031     NaN\n",
      "\n",
      "[200704 rows x 3 columns]\n",
      "(100, 32, 32, 3)\n",
      "10 res2a_branch2b\n"
     ]
    },
    {
     "name": "stderr",
     "output_type": "stream",
     "text": [
      "C:\\Users\\benza-ord\\anaconda3\\envs\\keras-gpu\\lib\\site-packages\\ipykernel_launcher.py:49: UserWarning: Update your `Model` call to the Keras 2 API: `Model(inputs=[<tf.Tenso..., outputs=Tensor(\"re...)`\n"
     ]
    },
    {
     "name": "stdout",
     "output_type": "stream",
     "text": [
      "preds (100, 56, 56, 64)\n",
      "(200704, 100)\n",
      "             PC1       PC2  target\n",
      "0      -0.010864 -0.007783     5.0\n",
      "1       0.022319  0.000077     5.0\n",
      "2      -0.018551  0.007773     5.0\n",
      "3       0.013377 -0.014317     5.0\n",
      "4      -0.008246  0.021864     5.0\n",
      "...          ...       ...     ...\n",
      "200699 -0.004208  0.007172     NaN\n",
      "200700 -0.001466 -0.007712     NaN\n",
      "200701  0.005731  0.008657     NaN\n",
      "200702 -0.006823 -0.005794     NaN\n",
      "200703  0.010764 -0.000031     NaN\n",
      "\n",
      "[200704 rows x 3 columns]\n",
      "(100, 32, 32, 3)\n",
      "10 res2a_branch2b\n"
     ]
    },
    {
     "name": "stderr",
     "output_type": "stream",
     "text": [
      "C:\\Users\\benza-ord\\anaconda3\\envs\\keras-gpu\\lib\\site-packages\\ipykernel_launcher.py:49: UserWarning: Update your `Model` call to the Keras 2 API: `Model(inputs=[<tf.Tenso..., outputs=Tensor(\"re...)`\n"
     ]
    },
    {
     "name": "stdout",
     "output_type": "stream",
     "text": [
      "preds (100, 56, 56, 64)\n",
      "(200704, 100)\n",
      "             PC1       PC2  target\n",
      "0      -0.010868 -0.007783     6.0\n",
      "1       0.022320  0.000076     6.0\n",
      "2      -0.018551  0.007773     6.0\n",
      "3       0.013376 -0.014317     6.0\n",
      "4      -0.008246  0.021864     6.0\n",
      "...          ...       ...     ...\n",
      "200699 -0.004208  0.007172     NaN\n",
      "200700 -0.001466 -0.007712     NaN\n",
      "200701  0.005731  0.008657     NaN\n",
      "200702 -0.006823 -0.005794     NaN\n",
      "200703  0.010764 -0.000031     NaN\n",
      "\n",
      "[200704 rows x 3 columns]\n",
      "(100, 32, 32, 3)\n",
      "10 res2a_branch2b\n"
     ]
    },
    {
     "name": "stderr",
     "output_type": "stream",
     "text": [
      "C:\\Users\\benza-ord\\anaconda3\\envs\\keras-gpu\\lib\\site-packages\\ipykernel_launcher.py:49: UserWarning: Update your `Model` call to the Keras 2 API: `Model(inputs=[<tf.Tenso..., outputs=Tensor(\"re...)`\n"
     ]
    },
    {
     "name": "stdout",
     "output_type": "stream",
     "text": [
      "preds (100, 56, 56, 64)\n",
      "(200704, 100)\n",
      "             PC1       PC2  target\n",
      "0      -0.010864 -0.007792     7.0\n",
      "1       0.022319  0.000077     7.0\n",
      "2      -0.018551  0.007774     7.0\n",
      "3       0.013376 -0.014317     7.0\n",
      "4      -0.008245  0.021864     7.0\n",
      "...          ...       ...     ...\n",
      "200699 -0.004207  0.007172     NaN\n",
      "200700 -0.001466 -0.007712     NaN\n",
      "200701  0.005732  0.008657     NaN\n",
      "200702 -0.006823 -0.005794     NaN\n",
      "200703  0.010764 -0.000031     NaN\n",
      "\n",
      "[200704 rows x 3 columns]\n",
      "(100, 32, 32, 3)\n",
      "10 res2a_branch2b\n"
     ]
    },
    {
     "name": "stderr",
     "output_type": "stream",
     "text": [
      "C:\\Users\\benza-ord\\anaconda3\\envs\\keras-gpu\\lib\\site-packages\\ipykernel_launcher.py:49: UserWarning: Update your `Model` call to the Keras 2 API: `Model(inputs=[<tf.Tenso..., outputs=Tensor(\"re...)`\n"
     ]
    },
    {
     "name": "stdout",
     "output_type": "stream",
     "text": [
      "preds (100, 56, 56, 64)\n",
      "(200704, 100)\n",
      "             PC1       PC2  target\n",
      "0      -0.010867 -0.007786     8.0\n",
      "1       0.022320  0.000077     8.0\n",
      "2      -0.018551  0.007773     8.0\n",
      "3       0.013377 -0.014317     8.0\n",
      "4      -0.008246  0.021864     8.0\n",
      "...          ...       ...     ...\n",
      "200699 -0.004208  0.007172     NaN\n",
      "200700 -0.001466 -0.007712     NaN\n",
      "200701  0.005731  0.008657     NaN\n",
      "200702 -0.006823 -0.005794     NaN\n",
      "200703  0.010764 -0.000031     NaN\n",
      "\n",
      "[200704 rows x 3 columns]\n",
      "(100, 32, 32, 3)\n",
      "10 res2a_branch2b\n"
     ]
    },
    {
     "name": "stderr",
     "output_type": "stream",
     "text": [
      "C:\\Users\\benza-ord\\anaconda3\\envs\\keras-gpu\\lib\\site-packages\\ipykernel_launcher.py:49: UserWarning: Update your `Model` call to the Keras 2 API: `Model(inputs=[<tf.Tenso..., outputs=Tensor(\"re...)`\n"
     ]
    },
    {
     "name": "stdout",
     "output_type": "stream",
     "text": [
      "preds (100, 56, 56, 64)\n",
      "(200704, 100)\n",
      "             PC1       PC2  target\n",
      "0      -0.010865 -0.007786     9.0\n",
      "1       0.022318  0.000077     9.0\n",
      "2      -0.018551  0.007773     9.0\n",
      "3       0.013377 -0.014317     9.0\n",
      "4      -0.008246  0.021864     9.0\n",
      "...          ...       ...     ...\n",
      "200699 -0.004208  0.007172     NaN\n",
      "200700 -0.001466 -0.007712     NaN\n",
      "200701  0.005731  0.008657     NaN\n",
      "200702 -0.006823 -0.005794     NaN\n",
      "200703  0.010764 -0.000031     NaN\n",
      "\n",
      "[200704 rows x 3 columns]\n",
      "(100, 32, 32, 3)\n",
      "13 res2a_branch2c\n"
     ]
    },
    {
     "name": "stderr",
     "output_type": "stream",
     "text": [
      "C:\\Users\\benza-ord\\anaconda3\\envs\\keras-gpu\\lib\\site-packages\\ipykernel_launcher.py:49: UserWarning: Update your `Model` call to the Keras 2 API: `Model(inputs=[<tf.Tenso..., outputs=Tensor(\"re...)`\n"
     ]
    },
    {
     "name": "stdout",
     "output_type": "stream",
     "text": [
      "preds (100, 56, 56, 256)\n",
      "(802816, 100)\n",
      "             PC1       PC2  target\n",
      "0      -0.000683  0.002679     0.0\n",
      "1       0.002958 -0.005454     0.0\n",
      "2       0.002615 -0.001476     0.0\n",
      "3       0.001299 -0.003547     0.0\n",
      "4       0.002758 -0.001514     0.0\n",
      "...          ...       ...     ...\n",
      "802811 -0.006082  0.004392     NaN\n",
      "802812  0.001892  0.002685     NaN\n",
      "802813  0.003772  0.004109     NaN\n",
      "802814  0.001271  0.004766     NaN\n",
      "802815  0.003286 -0.002545     NaN\n",
      "\n",
      "[802816 rows x 3 columns]\n",
      "(100, 32, 32, 3)\n",
      "13 res2a_branch2c\n"
     ]
    },
    {
     "name": "stderr",
     "output_type": "stream",
     "text": [
      "C:\\Users\\benza-ord\\anaconda3\\envs\\keras-gpu\\lib\\site-packages\\ipykernel_launcher.py:49: UserWarning: Update your `Model` call to the Keras 2 API: `Model(inputs=[<tf.Tenso..., outputs=Tensor(\"re...)`\n"
     ]
    },
    {
     "name": "stdout",
     "output_type": "stream",
     "text": [
      "preds (100, 56, 56, 256)\n",
      "(802816, 100)\n",
      "             PC1       PC2  target\n",
      "0      -0.000695  0.002559     1.0\n",
      "1       0.003199 -0.005181     1.0\n",
      "2       0.002253 -0.001618     1.0\n",
      "3       0.001610 -0.003464     1.0\n",
      "4       0.003006 -0.001422     1.0\n",
      "...          ...       ...     ...\n",
      "802811 -0.006191  0.004180     NaN\n",
      "802812  0.001939  0.002886     NaN\n",
      "802813  0.003620  0.004245     NaN\n",
      "802814  0.001206  0.004686     NaN\n",
      "802815  0.003449 -0.002537     NaN\n",
      "\n",
      "[802816 rows x 3 columns]\n",
      "(100, 32, 32, 3)\n",
      "13 res2a_branch2c\n"
     ]
    },
    {
     "name": "stderr",
     "output_type": "stream",
     "text": [
      "C:\\Users\\benza-ord\\anaconda3\\envs\\keras-gpu\\lib\\site-packages\\ipykernel_launcher.py:49: UserWarning: Update your `Model` call to the Keras 2 API: `Model(inputs=[<tf.Tenso..., outputs=Tensor(\"re...)`\n"
     ]
    },
    {
     "name": "stdout",
     "output_type": "stream",
     "text": [
      "preds (100, 56, 56, 256)\n",
      "(802816, 100)\n",
      "             PC1       PC2  target\n",
      "0      -0.001035  0.002376     2.0\n",
      "1       0.003209 -0.005121     2.0\n",
      "2       0.002410 -0.001215     2.0\n",
      "3       0.001677 -0.003367     2.0\n",
      "4       0.002816 -0.001493     2.0\n",
      "...          ...       ...     ...\n",
      "802811 -0.006314  0.003914     NaN\n",
      "802812  0.001612  0.002698     NaN\n",
      "802813  0.003398  0.004267     NaN\n",
      "802814  0.001015  0.005001     NaN\n",
      "802815  0.003396 -0.002464     NaN\n",
      "\n",
      "[802816 rows x 3 columns]\n",
      "(100, 32, 32, 3)\n",
      "13 res2a_branch2c\n"
     ]
    },
    {
     "name": "stderr",
     "output_type": "stream",
     "text": [
      "C:\\Users\\benza-ord\\anaconda3\\envs\\keras-gpu\\lib\\site-packages\\ipykernel_launcher.py:49: UserWarning: Update your `Model` call to the Keras 2 API: `Model(inputs=[<tf.Tenso..., outputs=Tensor(\"re...)`\n"
     ]
    },
    {
     "name": "stdout",
     "output_type": "stream",
     "text": [
      "preds (100, 56, 56, 256)\n",
      "(802816, 100)\n",
      "             PC1       PC2  target\n",
      "0      -0.000786  0.002511     3.0\n",
      "1       0.003018 -0.005297     3.0\n",
      "2       0.002799 -0.001262     3.0\n",
      "3       0.001403 -0.003647     3.0\n",
      "4       0.002738 -0.001579     3.0\n",
      "...          ...       ...     ...\n",
      "802811 -0.006145  0.004308     NaN\n",
      "802812  0.001718  0.002643     NaN\n",
      "802813  0.003615  0.004178     NaN\n",
      "802814  0.001150  0.004774     NaN\n",
      "802815  0.003386 -0.002611     NaN\n",
      "\n",
      "[802816 rows x 3 columns]\n",
      "(100, 32, 32, 3)\n",
      "13 res2a_branch2c\n"
     ]
    },
    {
     "name": "stderr",
     "output_type": "stream",
     "text": [
      "C:\\Users\\benza-ord\\anaconda3\\envs\\keras-gpu\\lib\\site-packages\\ipykernel_launcher.py:49: UserWarning: Update your `Model` call to the Keras 2 API: `Model(inputs=[<tf.Tenso..., outputs=Tensor(\"re...)`\n"
     ]
    },
    {
     "name": "stdout",
     "output_type": "stream",
     "text": [
      "preds (100, 56, 56, 256)\n",
      "(802816, 100)\n",
      "             PC1       PC2  target\n",
      "0      -0.000581  0.002576     4.0\n",
      "1       0.002995 -0.005237     4.0\n",
      "2       0.002599 -0.001385     4.0\n",
      "3       0.001340 -0.003545     4.0\n",
      "4       0.002734 -0.001587     4.0\n",
      "...          ...       ...     ...\n",
      "802811 -0.006191  0.004309     NaN\n",
      "802812  0.001989  0.002638     NaN\n",
      "802813  0.003702  0.004124     NaN\n",
      "802814  0.001181  0.004769     NaN\n",
      "802815  0.003424 -0.002579     NaN\n",
      "\n",
      "[802816 rows x 3 columns]\n",
      "(100, 32, 32, 3)\n",
      "13 res2a_branch2c\n"
     ]
    },
    {
     "name": "stderr",
     "output_type": "stream",
     "text": [
      "C:\\Users\\benza-ord\\anaconda3\\envs\\keras-gpu\\lib\\site-packages\\ipykernel_launcher.py:49: UserWarning: Update your `Model` call to the Keras 2 API: `Model(inputs=[<tf.Tenso..., outputs=Tensor(\"re...)`\n"
     ]
    },
    {
     "name": "stdout",
     "output_type": "stream",
     "text": [
      "preds (100, 56, 56, 256)\n",
      "(802816, 100)\n",
      "             PC1       PC2  target\n",
      "0      -0.000793  0.002183     5.0\n",
      "1       0.003166 -0.005027     5.0\n",
      "2       0.002700 -0.001276     5.0\n",
      "3       0.001636 -0.003539     5.0\n",
      "4       0.002727 -0.001464     5.0\n",
      "...          ...       ...     ...\n",
      "802811 -0.006216  0.004035     NaN\n",
      "802812  0.001868  0.002772     NaN\n",
      "802813  0.003650  0.004444     NaN\n",
      "802814  0.001129  0.004947     NaN\n",
      "802815  0.003412 -0.002733     NaN\n",
      "\n",
      "[802816 rows x 3 columns]\n",
      "(100, 32, 32, 3)\n",
      "13 res2a_branch2c\n"
     ]
    },
    {
     "name": "stderr",
     "output_type": "stream",
     "text": [
      "C:\\Users\\benza-ord\\anaconda3\\envs\\keras-gpu\\lib\\site-packages\\ipykernel_launcher.py:49: UserWarning: Update your `Model` call to the Keras 2 API: `Model(inputs=[<tf.Tenso..., outputs=Tensor(\"re...)`\n"
     ]
    },
    {
     "name": "stdout",
     "output_type": "stream",
     "text": [
      "preds (100, 56, 56, 256)\n",
      "(802816, 100)\n",
      "             PC1       PC2  target\n",
      "0      -0.000698  0.002437     6.0\n",
      "1       0.002946 -0.005291     6.0\n",
      "2       0.002518 -0.001325     6.0\n",
      "3       0.001544 -0.003711     6.0\n",
      "4       0.002771 -0.001646     6.0\n",
      "...          ...       ...     ...\n",
      "802811 -0.006147  0.004432     NaN\n",
      "802812  0.001909  0.002694     NaN\n",
      "802813  0.003744  0.004193     NaN\n",
      "802814  0.001235  0.004732     NaN\n",
      "802815  0.003314 -0.002684     NaN\n",
      "\n",
      "[802816 rows x 3 columns]\n",
      "(100, 32, 32, 3)\n",
      "13 res2a_branch2c\n"
     ]
    },
    {
     "name": "stderr",
     "output_type": "stream",
     "text": [
      "C:\\Users\\benza-ord\\anaconda3\\envs\\keras-gpu\\lib\\site-packages\\ipykernel_launcher.py:49: UserWarning: Update your `Model` call to the Keras 2 API: `Model(inputs=[<tf.Tenso..., outputs=Tensor(\"re...)`\n"
     ]
    },
    {
     "name": "stdout",
     "output_type": "stream",
     "text": [
      "preds (100, 56, 56, 256)\n",
      "(802816, 100)\n",
      "             PC1       PC2  target\n",
      "0      -0.000894  0.002431     7.0\n",
      "1       0.003242 -0.005080     7.0\n",
      "2       0.002722 -0.001332     7.0\n",
      "3       0.001676 -0.003441     7.0\n",
      "4       0.002754 -0.001529     7.0\n",
      "...          ...       ...     ...\n",
      "802811 -0.006363  0.004044     NaN\n",
      "802812  0.001690  0.002692     NaN\n",
      "802813  0.003774  0.004344     NaN\n",
      "802814  0.001115  0.004812     NaN\n",
      "802815  0.003331 -0.002646     NaN\n",
      "\n",
      "[802816 rows x 3 columns]\n",
      "(100, 32, 32, 3)\n",
      "13 res2a_branch2c\n"
     ]
    },
    {
     "name": "stderr",
     "output_type": "stream",
     "text": [
      "C:\\Users\\benza-ord\\anaconda3\\envs\\keras-gpu\\lib\\site-packages\\ipykernel_launcher.py:49: UserWarning: Update your `Model` call to the Keras 2 API: `Model(inputs=[<tf.Tenso..., outputs=Tensor(\"re...)`\n"
     ]
    },
    {
     "name": "stdout",
     "output_type": "stream",
     "text": [
      "preds (100, 56, 56, 256)\n",
      "(802816, 100)\n",
      "             PC1       PC2  target\n",
      "0      -0.000730  0.002410     8.0\n",
      "1       0.003149 -0.005155     8.0\n",
      "2       0.002592 -0.001229     8.0\n",
      "3       0.001630 -0.003447     8.0\n",
      "4       0.002696 -0.001653     8.0\n",
      "...          ...       ...     ...\n",
      "802811 -0.006349  0.004116     NaN\n",
      "802812  0.001989  0.002844     NaN\n",
      "802813  0.003738  0.004368     NaN\n",
      "802814  0.001047  0.004783     NaN\n",
      "802815  0.003393 -0.002611     NaN\n",
      "\n",
      "[802816 rows x 3 columns]\n",
      "(100, 32, 32, 3)\n",
      "13 res2a_branch2c\n"
     ]
    },
    {
     "name": "stderr",
     "output_type": "stream",
     "text": [
      "C:\\Users\\benza-ord\\anaconda3\\envs\\keras-gpu\\lib\\site-packages\\ipykernel_launcher.py:49: UserWarning: Update your `Model` call to the Keras 2 API: `Model(inputs=[<tf.Tenso..., outputs=Tensor(\"re...)`\n"
     ]
    },
    {
     "name": "stdout",
     "output_type": "stream",
     "text": [
      "preds (100, 56, 56, 256)\n",
      "(802816, 100)\n",
      "             PC1       PC2  target\n",
      "0      -0.000742  0.002843     9.0\n",
      "1       0.003204 -0.005385     9.0\n",
      "2       0.002439 -0.001389     9.0\n",
      "3       0.001298 -0.003435     9.0\n",
      "4       0.002883 -0.001520     9.0\n",
      "...          ...       ...     ...\n",
      "802811 -0.006339  0.004399     NaN\n",
      "802812  0.001807  0.002747     NaN\n",
      "802813  0.003920  0.004092     NaN\n",
      "802814  0.001178  0.004919     NaN\n",
      "802815  0.003120 -0.002456     NaN\n",
      "\n",
      "[802816 rows x 3 columns]\n",
      "(100, 32, 32, 3)\n",
      "14 res2a_branch1\n"
     ]
    },
    {
     "name": "stderr",
     "output_type": "stream",
     "text": [
      "C:\\Users\\benza-ord\\anaconda3\\envs\\keras-gpu\\lib\\site-packages\\ipykernel_launcher.py:49: UserWarning: Update your `Model` call to the Keras 2 API: `Model(inputs=[<tf.Tenso..., outputs=Tensor(\"re...)`\n"
     ]
    },
    {
     "name": "stdout",
     "output_type": "stream",
     "text": [
      "preds (100, 56, 56, 256)\n",
      "(802816, 100)\n",
      "             PC1       PC2  target\n",
      "0      -0.012261 -0.007443     0.0\n",
      "1      -0.003576  0.007591     0.0\n",
      "2      -0.009736  0.008847     0.0\n",
      "3       0.020604 -0.005020     0.0\n",
      "4       0.007103  0.004581     0.0\n",
      "...          ...       ...     ...\n",
      "802811  0.017767  0.005077     NaN\n",
      "802812 -0.010079 -0.002598     NaN\n",
      "802813 -0.008827 -0.020719     NaN\n",
      "802814 -0.006760  0.008855     NaN\n",
      "802815  0.004046  0.002223     NaN\n",
      "\n",
      "[802816 rows x 3 columns]\n",
      "(100, 32, 32, 3)\n",
      "14 res2a_branch1\n"
     ]
    },
    {
     "name": "stderr",
     "output_type": "stream",
     "text": [
      "C:\\Users\\benza-ord\\anaconda3\\envs\\keras-gpu\\lib\\site-packages\\ipykernel_launcher.py:49: UserWarning: Update your `Model` call to the Keras 2 API: `Model(inputs=[<tf.Tenso..., outputs=Tensor(\"re...)`\n"
     ]
    },
    {
     "name": "stdout",
     "output_type": "stream",
     "text": [
      "preds (100, 56, 56, 256)\n",
      "(802816, 100)\n",
      "             PC1       PC2  target\n",
      "0      -0.012204 -0.007324     1.0\n",
      "1      -0.003393  0.006624     1.0\n",
      "2      -0.010193  0.008110     1.0\n",
      "3       0.020224 -0.003724     1.0\n",
      "4       0.006511  0.005729     1.0\n",
      "...          ...       ...     ...\n",
      "802811  0.017775  0.004716     NaN\n",
      "802812 -0.009647 -0.003007     NaN\n",
      "802813 -0.008862 -0.020882     NaN\n",
      "802814 -0.007757  0.009537     NaN\n",
      "802815  0.003702  0.002676     NaN\n",
      "\n",
      "[802816 rows x 3 columns]\n",
      "(100, 32, 32, 3)\n",
      "14 res2a_branch1\n"
     ]
    },
    {
     "name": "stderr",
     "output_type": "stream",
     "text": [
      "C:\\Users\\benza-ord\\anaconda3\\envs\\keras-gpu\\lib\\site-packages\\ipykernel_launcher.py:49: UserWarning: Update your `Model` call to the Keras 2 API: `Model(inputs=[<tf.Tenso..., outputs=Tensor(\"re...)`\n"
     ]
    },
    {
     "name": "stdout",
     "output_type": "stream",
     "text": [
      "preds (100, 56, 56, 256)\n",
      "(802816, 100)\n",
      "             PC1       PC2  target\n",
      "0      -0.012891 -0.007584     2.0\n",
      "1      -0.003749  0.007313     2.0\n",
      "2      -0.010203  0.008362     2.0\n",
      "3       0.020137 -0.003873     2.0\n",
      "4       0.007054  0.005422     2.0\n",
      "...          ...       ...     ...\n",
      "802811  0.018267  0.004682     NaN\n",
      "802812 -0.009439 -0.003254     NaN\n",
      "802813 -0.008122 -0.020700     NaN\n",
      "802814 -0.007765  0.008787     NaN\n",
      "802815  0.003505  0.001955     NaN\n",
      "\n",
      "[802816 rows x 3 columns]\n",
      "(100, 32, 32, 3)\n",
      "14 res2a_branch1\n"
     ]
    },
    {
     "name": "stderr",
     "output_type": "stream",
     "text": [
      "C:\\Users\\benza-ord\\anaconda3\\envs\\keras-gpu\\lib\\site-packages\\ipykernel_launcher.py:49: UserWarning: Update your `Model` call to the Keras 2 API: `Model(inputs=[<tf.Tenso..., outputs=Tensor(\"re...)`\n"
     ]
    },
    {
     "name": "stdout",
     "output_type": "stream",
     "text": [
      "preds (100, 56, 56, 256)\n",
      "(802816, 100)\n",
      "             PC1       PC2  target\n",
      "0      -0.012583 -0.007087     3.0\n",
      "1      -0.002815  0.007105     3.0\n",
      "2      -0.010196  0.008110     3.0\n",
      "3       0.020493 -0.004621     3.0\n",
      "4       0.005885  0.004405     3.0\n",
      "...          ...       ...     ...\n",
      "802811  0.018176  0.005551     NaN\n",
      "802812 -0.009947 -0.003289     NaN\n",
      "802813 -0.008184 -0.021187     NaN\n",
      "802814 -0.008181  0.009343     NaN\n",
      "802815  0.004053  0.002861     NaN\n",
      "\n",
      "[802816 rows x 3 columns]\n",
      "(100, 32, 32, 3)\n",
      "14 res2a_branch1\n"
     ]
    },
    {
     "name": "stderr",
     "output_type": "stream",
     "text": [
      "C:\\Users\\benza-ord\\anaconda3\\envs\\keras-gpu\\lib\\site-packages\\ipykernel_launcher.py:49: UserWarning: Update your `Model` call to the Keras 2 API: `Model(inputs=[<tf.Tenso..., outputs=Tensor(\"re...)`\n"
     ]
    },
    {
     "name": "stdout",
     "output_type": "stream",
     "text": [
      "preds (100, 56, 56, 256)\n",
      "(802816, 100)\n",
      "             PC1       PC2  target\n",
      "0      -0.012900 -0.006845     4.0\n",
      "1      -0.004610  0.007904     4.0\n",
      "2      -0.011992  0.009335     4.0\n",
      "3       0.021250 -0.004645     4.0\n",
      "4       0.008587  0.004363     4.0\n",
      "...          ...       ...     ...\n",
      "802811  0.016921  0.003959     NaN\n",
      "802812 -0.008818 -0.002932     NaN\n",
      "802813 -0.009448 -0.020866     NaN\n",
      "802814 -0.006342  0.009440     NaN\n",
      "802815  0.002694  0.002978     NaN\n",
      "\n",
      "[802816 rows x 3 columns]\n",
      "(100, 32, 32, 3)\n",
      "14 res2a_branch1\n"
     ]
    },
    {
     "name": "stderr",
     "output_type": "stream",
     "text": [
      "C:\\Users\\benza-ord\\anaconda3\\envs\\keras-gpu\\lib\\site-packages\\ipykernel_launcher.py:49: UserWarning: Update your `Model` call to the Keras 2 API: `Model(inputs=[<tf.Tenso..., outputs=Tensor(\"re...)`\n"
     ]
    },
    {
     "name": "stdout",
     "output_type": "stream",
     "text": [
      "preds (100, 56, 56, 256)\n",
      "(802816, 100)\n",
      "             PC1       PC2  target\n",
      "0      -0.012635 -0.007723     5.0\n",
      "1      -0.003694  0.007077     5.0\n",
      "2      -0.010680  0.008631     5.0\n",
      "3       0.020411 -0.004422     5.0\n",
      "4       0.006438  0.005352     5.0\n",
      "...          ...       ...     ...\n",
      "802811  0.018063  0.005630     NaN\n",
      "802812 -0.009565 -0.003167     NaN\n",
      "802813 -0.008262 -0.020882     NaN\n",
      "802814 -0.007579  0.009264     NaN\n",
      "802815  0.003799  0.002739     NaN\n",
      "\n",
      "[802816 rows x 3 columns]\n",
      "(100, 32, 32, 3)\n",
      "14 res2a_branch1\n"
     ]
    },
    {
     "name": "stderr",
     "output_type": "stream",
     "text": [
      "C:\\Users\\benza-ord\\anaconda3\\envs\\keras-gpu\\lib\\site-packages\\ipykernel_launcher.py:49: UserWarning: Update your `Model` call to the Keras 2 API: `Model(inputs=[<tf.Tenso..., outputs=Tensor(\"re...)`\n"
     ]
    },
    {
     "name": "stdout",
     "output_type": "stream",
     "text": [
      "preds (100, 56, 56, 256)\n",
      "(802816, 100)\n",
      "             PC1       PC2  target\n",
      "0      -0.012715 -0.007350     6.0\n",
      "1      -0.003017  0.007451     6.0\n",
      "2      -0.009845  0.008623     6.0\n",
      "3       0.019798 -0.004182     6.0\n",
      "4       0.006384  0.005060     6.0\n",
      "...          ...       ...     ...\n",
      "802811  0.018329  0.004974     NaN\n",
      "802812 -0.009823 -0.002659     NaN\n",
      "802813 -0.008635 -0.020742     NaN\n",
      "802814 -0.007368  0.008778     NaN\n",
      "802815  0.003930  0.002341     NaN\n",
      "\n",
      "[802816 rows x 3 columns]\n",
      "(100, 32, 32, 3)\n",
      "14 res2a_branch1\n"
     ]
    },
    {
     "name": "stderr",
     "output_type": "stream",
     "text": [
      "C:\\Users\\benza-ord\\anaconda3\\envs\\keras-gpu\\lib\\site-packages\\ipykernel_launcher.py:49: UserWarning: Update your `Model` call to the Keras 2 API: `Model(inputs=[<tf.Tenso..., outputs=Tensor(\"re...)`\n"
     ]
    },
    {
     "name": "stdout",
     "output_type": "stream",
     "text": [
      "preds (100, 56, 56, 256)\n",
      "(802816, 100)\n",
      "             PC1       PC2  target\n",
      "0      -0.013100 -0.006686     7.0\n",
      "1      -0.003087  0.007846     7.0\n",
      "2      -0.009889  0.008670     7.0\n",
      "3       0.020657 -0.005297     7.0\n",
      "4       0.005802  0.005393     7.0\n",
      "...          ...       ...     ...\n",
      "802811  0.017840  0.004209     NaN\n",
      "802812 -0.009321 -0.003404     NaN\n",
      "802813 -0.009614 -0.020118     NaN\n",
      "802814 -0.006834  0.009058     NaN\n",
      "802815  0.004461  0.001409     NaN\n",
      "\n",
      "[802816 rows x 3 columns]\n",
      "(100, 32, 32, 3)\n",
      "14 res2a_branch1\n"
     ]
    },
    {
     "name": "stderr",
     "output_type": "stream",
     "text": [
      "C:\\Users\\benza-ord\\anaconda3\\envs\\keras-gpu\\lib\\site-packages\\ipykernel_launcher.py:49: UserWarning: Update your `Model` call to the Keras 2 API: `Model(inputs=[<tf.Tenso..., outputs=Tensor(\"re...)`\n"
     ]
    },
    {
     "name": "stdout",
     "output_type": "stream",
     "text": [
      "preds (100, 56, 56, 256)\n",
      "(802816, 100)\n",
      "             PC1       PC2  target\n",
      "0      -0.011823 -0.007554     8.0\n",
      "1      -0.003623  0.007433     8.0\n",
      "2      -0.010268  0.008103     8.0\n",
      "3       0.019892 -0.004071     8.0\n",
      "4       0.006396  0.005039     8.0\n",
      "...          ...       ...     ...\n",
      "802811  0.017852  0.005752     NaN\n",
      "802812 -0.008796 -0.002891     NaN\n",
      "802813 -0.007408 -0.020944     NaN\n",
      "802814 -0.008156  0.008969     NaN\n",
      "802815  0.002523  0.002134     NaN\n",
      "\n",
      "[802816 rows x 3 columns]\n",
      "(100, 32, 32, 3)\n",
      "14 res2a_branch1\n"
     ]
    },
    {
     "name": "stderr",
     "output_type": "stream",
     "text": [
      "C:\\Users\\benza-ord\\anaconda3\\envs\\keras-gpu\\lib\\site-packages\\ipykernel_launcher.py:49: UserWarning: Update your `Model` call to the Keras 2 API: `Model(inputs=[<tf.Tenso..., outputs=Tensor(\"re...)`\n"
     ]
    },
    {
     "name": "stdout",
     "output_type": "stream",
     "text": [
      "preds (100, 56, 56, 256)\n",
      "(802816, 100)\n",
      "             PC1       PC2  target\n",
      "0      -0.011652 -0.008576     9.0\n",
      "1      -0.003657  0.007280     9.0\n",
      "2      -0.010404  0.008166     9.0\n",
      "3       0.021389 -0.001061     9.0\n",
      "4       0.006632  0.006365     9.0\n",
      "...          ...       ...     ...\n",
      "802811  0.017145  0.006744     NaN\n",
      "802812 -0.010038 -0.004947     NaN\n",
      "802813 -0.006094 -0.021684     NaN\n",
      "802814 -0.008765  0.008451     NaN\n",
      "802815  0.004378  0.003972     NaN\n",
      "\n",
      "[802816 rows x 3 columns]\n",
      "(100, 32, 32, 3)\n",
      "19 res2b_branch2a\n"
     ]
    },
    {
     "name": "stderr",
     "output_type": "stream",
     "text": [
      "C:\\Users\\benza-ord\\anaconda3\\envs\\keras-gpu\\lib\\site-packages\\ipykernel_launcher.py:49: UserWarning: Update your `Model` call to the Keras 2 API: `Model(inputs=[<tf.Tenso..., outputs=Tensor(\"re...)`\n"
     ]
    },
    {
     "name": "stdout",
     "output_type": "stream",
     "text": [
      "preds (100, 56, 56, 64)\n",
      "(200704, 100)\n",
      "             PC1       PC2  target\n",
      "0       0.028679 -0.039193     0.0\n",
      "1       0.012523  0.004602     0.0\n",
      "2       0.045723  0.023965     0.0\n",
      "3       0.014875 -0.013465     0.0\n",
      "4      -0.013638 -0.002594     0.0\n",
      "...          ...       ...     ...\n",
      "200699 -0.009422  0.025397     NaN\n",
      "200700  0.003803  0.001861     NaN\n",
      "200701 -0.008204 -0.013594     NaN\n",
      "200702  0.002196 -0.009350     NaN\n",
      "200703  0.020601  0.008216     NaN\n",
      "\n",
      "[200704 rows x 3 columns]\n",
      "(100, 32, 32, 3)\n",
      "19 res2b_branch2a\n"
     ]
    },
    {
     "name": "stderr",
     "output_type": "stream",
     "text": [
      "C:\\Users\\benza-ord\\anaconda3\\envs\\keras-gpu\\lib\\site-packages\\ipykernel_launcher.py:49: UserWarning: Update your `Model` call to the Keras 2 API: `Model(inputs=[<tf.Tenso..., outputs=Tensor(\"re...)`\n"
     ]
    },
    {
     "name": "stdout",
     "output_type": "stream",
     "text": [
      "preds (100, 56, 56, 64)\n",
      "(200704, 100)\n",
      "             PC1       PC2  target\n",
      "0       0.028789 -0.038874     1.0\n",
      "1       0.012504  0.004832     1.0\n",
      "2       0.045570  0.023232     1.0\n",
      "3       0.014628 -0.014079     1.0\n",
      "4      -0.013387 -0.002451     1.0\n",
      "...          ...       ...     ...\n",
      "200699 -0.009445  0.025170     NaN\n",
      "200700  0.003751  0.001610     NaN\n",
      "200701 -0.008116 -0.013420     NaN\n",
      "200702  0.002269 -0.009128     NaN\n",
      "200703  0.020644  0.008501     NaN\n",
      "\n",
      "[200704 rows x 3 columns]\n",
      "(100, 32, 32, 3)\n",
      "19 res2b_branch2a\n"
     ]
    },
    {
     "name": "stderr",
     "output_type": "stream",
     "text": [
      "C:\\Users\\benza-ord\\anaconda3\\envs\\keras-gpu\\lib\\site-packages\\ipykernel_launcher.py:49: UserWarning: Update your `Model` call to the Keras 2 API: `Model(inputs=[<tf.Tenso..., outputs=Tensor(\"re...)`\n"
     ]
    },
    {
     "name": "stdout",
     "output_type": "stream",
     "text": [
      "preds (100, 56, 56, 64)\n",
      "(200704, 100)\n",
      "             PC1       PC2  target\n",
      "0       0.028708 -0.038968     2.0\n",
      "1       0.012461  0.004340     2.0\n",
      "2       0.045669  0.023665     2.0\n",
      "3       0.014727 -0.013880     2.0\n",
      "4      -0.013398 -0.002186     2.0\n",
      "...          ...       ...     ...\n",
      "200699 -0.009404  0.025391     NaN\n",
      "200700  0.003808  0.001867     NaN\n",
      "200701 -0.008058 -0.013227     NaN\n",
      "200702  0.002230 -0.009235     NaN\n",
      "200703  0.020584  0.008120     NaN\n",
      "\n",
      "[200704 rows x 3 columns]\n",
      "(100, 32, 32, 3)\n",
      "19 res2b_branch2a\n"
     ]
    },
    {
     "name": "stderr",
     "output_type": "stream",
     "text": [
      "C:\\Users\\benza-ord\\anaconda3\\envs\\keras-gpu\\lib\\site-packages\\ipykernel_launcher.py:49: UserWarning: Update your `Model` call to the Keras 2 API: `Model(inputs=[<tf.Tenso..., outputs=Tensor(\"re...)`\n"
     ]
    },
    {
     "name": "stdout",
     "output_type": "stream",
     "text": [
      "preds (100, 56, 56, 64)\n",
      "(200704, 100)\n",
      "             PC1       PC2  target\n",
      "0       0.028952 -0.039004     3.0\n",
      "1       0.012928  0.003866     3.0\n",
      "2       0.045325  0.023714     3.0\n",
      "3       0.014284 -0.013873     3.0\n",
      "4      -0.013273 -0.002287     3.0\n",
      "...          ...       ...     ...\n",
      "200699 -0.009539  0.025479     NaN\n",
      "200700  0.003591  0.002019     NaN\n",
      "200701 -0.008227 -0.013214     NaN\n",
      "200702  0.002274 -0.009246     NaN\n",
      "200703  0.020722  0.008113     NaN\n",
      "\n",
      "[200704 rows x 3 columns]\n",
      "(100, 32, 32, 3)\n",
      "19 res2b_branch2a\n"
     ]
    },
    {
     "name": "stderr",
     "output_type": "stream",
     "text": [
      "C:\\Users\\benza-ord\\anaconda3\\envs\\keras-gpu\\lib\\site-packages\\ipykernel_launcher.py:49: UserWarning: Update your `Model` call to the Keras 2 API: `Model(inputs=[<tf.Tenso..., outputs=Tensor(\"re...)`\n"
     ]
    },
    {
     "name": "stdout",
     "output_type": "stream",
     "text": [
      "preds (100, 56, 56, 64)\n",
      "(200704, 100)\n",
      "             PC1       PC2  target\n",
      "0       0.028698 -0.038823     4.0\n",
      "1       0.012406  0.004395     4.0\n",
      "2       0.045700  0.023473     4.0\n",
      "3       0.014770 -0.014162     4.0\n",
      "4      -0.013342 -0.002105     4.0\n",
      "...          ...       ...     ...\n",
      "200699 -0.009387  0.025341     NaN\n",
      "200700  0.003862  0.001846     NaN\n",
      "200701 -0.008052 -0.013340     NaN\n",
      "200702  0.002226 -0.009177     NaN\n",
      "200703  0.020568  0.008238     NaN\n",
      "\n",
      "[200704 rows x 3 columns]\n",
      "(100, 32, 32, 3)\n",
      "19 res2b_branch2a\n"
     ]
    },
    {
     "name": "stderr",
     "output_type": "stream",
     "text": [
      "C:\\Users\\benza-ord\\anaconda3\\envs\\keras-gpu\\lib\\site-packages\\ipykernel_launcher.py:49: UserWarning: Update your `Model` call to the Keras 2 API: `Model(inputs=[<tf.Tenso..., outputs=Tensor(\"re...)`\n"
     ]
    },
    {
     "name": "stdout",
     "output_type": "stream",
     "text": [
      "preds (100, 56, 56, 64)\n",
      "(200704, 100)\n",
      "             PC1       PC2  target\n",
      "0       0.028836 -0.039128     5.0\n",
      "1       0.011939  0.005077     5.0\n",
      "2       0.045983  0.023023     5.0\n",
      "3       0.014739 -0.014241     5.0\n",
      "4      -0.013108 -0.002333     5.0\n",
      "...          ...       ...     ...\n",
      "200699 -0.009184  0.025155     NaN\n",
      "200700  0.004086  0.001507     NaN\n",
      "200701 -0.008288 -0.013112     NaN\n",
      "200702  0.002247 -0.009173     NaN\n",
      "200703  0.020315  0.008554     NaN\n",
      "\n",
      "[200704 rows x 3 columns]\n",
      "(100, 32, 32, 3)\n",
      "19 res2b_branch2a\n"
     ]
    },
    {
     "name": "stderr",
     "output_type": "stream",
     "text": [
      "C:\\Users\\benza-ord\\anaconda3\\envs\\keras-gpu\\lib\\site-packages\\ipykernel_launcher.py:49: UserWarning: Update your `Model` call to the Keras 2 API: `Model(inputs=[<tf.Tenso..., outputs=Tensor(\"re...)`\n"
     ]
    },
    {
     "name": "stdout",
     "output_type": "stream",
     "text": [
      "preds (100, 56, 56, 64)\n",
      "(200704, 100)\n",
      "             PC1       PC2  target\n",
      "0       0.028602 -0.038739     6.0\n",
      "1       0.012626  0.004190     6.0\n",
      "2       0.045698  0.023496     6.0\n",
      "3       0.014863 -0.014226     6.0\n",
      "4      -0.013410 -0.002122     6.0\n",
      "...          ...       ...     ...\n",
      "200699 -0.009413  0.025356     NaN\n",
      "200700  0.003793  0.001836     NaN\n",
      "200701 -0.007964 -0.013368     NaN\n",
      "200702  0.002210 -0.009176     NaN\n",
      "200703  0.020542  0.008244     NaN\n",
      "\n",
      "[200704 rows x 3 columns]\n",
      "(100, 32, 32, 3)\n",
      "19 res2b_branch2a\n"
     ]
    },
    {
     "name": "stderr",
     "output_type": "stream",
     "text": [
      "C:\\Users\\benza-ord\\anaconda3\\envs\\keras-gpu\\lib\\site-packages\\ipykernel_launcher.py:49: UserWarning: Update your `Model` call to the Keras 2 API: `Model(inputs=[<tf.Tenso..., outputs=Tensor(\"re...)`\n"
     ]
    },
    {
     "name": "stdout",
     "output_type": "stream",
     "text": [
      "preds (100, 56, 56, 64)\n",
      "(200704, 100)\n",
      "             PC1       PC2  target\n",
      "0       0.029102 -0.038792     7.0\n",
      "1       0.012474  0.004402     7.0\n",
      "2       0.045565  0.023576     7.0\n",
      "3       0.014226 -0.014187     7.0\n",
      "4      -0.012846 -0.001865     7.0\n",
      "...          ...       ...     ...\n",
      "200699 -0.009679  0.025266     NaN\n",
      "200700  0.003578  0.001817     NaN\n",
      "200701 -0.008407 -0.013408     NaN\n",
      "200702  0.002573 -0.009112     NaN\n",
      "200703  0.020634  0.008232     NaN\n",
      "\n",
      "[200704 rows x 3 columns]\n",
      "(100, 32, 32, 3)\n",
      "19 res2b_branch2a\n"
     ]
    },
    {
     "name": "stderr",
     "output_type": "stream",
     "text": [
      "C:\\Users\\benza-ord\\anaconda3\\envs\\keras-gpu\\lib\\site-packages\\ipykernel_launcher.py:49: UserWarning: Update your `Model` call to the Keras 2 API: `Model(inputs=[<tf.Tenso..., outputs=Tensor(\"re...)`\n"
     ]
    },
    {
     "name": "stdout",
     "output_type": "stream",
     "text": [
      "preds (100, 56, 56, 64)\n",
      "(200704, 100)\n",
      "             PC1       PC2  target\n",
      "0       0.028556 -0.038852     8.0\n",
      "1       0.012419  0.004398     8.0\n",
      "2       0.045663  0.023513     8.0\n",
      "3       0.015089 -0.014090     8.0\n",
      "4      -0.013342 -0.002086     8.0\n",
      "...          ...       ...     ...\n",
      "200699 -0.009337  0.025365     NaN\n",
      "200700  0.003975  0.001884     NaN\n",
      "200701 -0.008048 -0.013325     NaN\n",
      "200702  0.002114 -0.009167     NaN\n",
      "200703  0.020449  0.008211     NaN\n",
      "\n",
      "[200704 rows x 3 columns]\n",
      "(100, 32, 32, 3)\n",
      "19 res2b_branch2a\n"
     ]
    },
    {
     "name": "stderr",
     "output_type": "stream",
     "text": [
      "C:\\Users\\benza-ord\\anaconda3\\envs\\keras-gpu\\lib\\site-packages\\ipykernel_launcher.py:49: UserWarning: Update your `Model` call to the Keras 2 API: `Model(inputs=[<tf.Tenso..., outputs=Tensor(\"re...)`\n"
     ]
    },
    {
     "name": "stdout",
     "output_type": "stream",
     "text": [
      "preds (100, 56, 56, 64)\n",
      "(200704, 100)\n",
      "             PC1       PC2  target\n",
      "0       0.028774 -0.038885     9.0\n",
      "1       0.012437  0.004187     9.0\n",
      "2       0.045594  0.023536     9.0\n",
      "3       0.014630 -0.013971     9.0\n",
      "4      -0.013326 -0.001940     9.0\n",
      "...          ...       ...     ...\n",
      "200699 -0.009415  0.025400     NaN\n",
      "200700  0.003824  0.001994     NaN\n",
      "200701 -0.008095 -0.013222     NaN\n",
      "200702  0.002252 -0.009220     NaN\n",
      "200703  0.020621  0.008174     NaN\n",
      "\n",
      "[200704 rows x 3 columns]\n",
      "(100, 32, 32, 3)\n",
      "22 res2b_branch2b\n"
     ]
    },
    {
     "name": "stderr",
     "output_type": "stream",
     "text": [
      "C:\\Users\\benza-ord\\anaconda3\\envs\\keras-gpu\\lib\\site-packages\\ipykernel_launcher.py:49: UserWarning: Update your `Model` call to the Keras 2 API: `Model(inputs=[<tf.Tenso..., outputs=Tensor(\"re...)`\n"
     ]
    },
    {
     "name": "stdout",
     "output_type": "stream",
     "text": [
      "preds (100, 56, 56, 64)\n",
      "(200704, 100)\n",
      "             PC1       PC2  target\n",
      "0       0.005534  0.021308     0.0\n",
      "1      -0.006472 -0.020101     0.0\n",
      "2      -0.014521  0.022595     0.0\n",
      "3       0.028843 -0.013026     0.0\n",
      "4      -0.032106  0.004546     0.0\n",
      "...          ...       ...     ...\n",
      "200699 -0.015033  0.005141     NaN\n",
      "200700  0.010126 -0.005460     NaN\n",
      "200701 -0.012321 -0.007026     NaN\n",
      "200702  0.009066  0.007684     NaN\n",
      "200703 -0.003301 -0.013342     NaN\n",
      "\n",
      "[200704 rows x 3 columns]\n",
      "(100, 32, 32, 3)\n",
      "22 res2b_branch2b\n"
     ]
    },
    {
     "name": "stderr",
     "output_type": "stream",
     "text": [
      "C:\\Users\\benza-ord\\anaconda3\\envs\\keras-gpu\\lib\\site-packages\\ipykernel_launcher.py:49: UserWarning: Update your `Model` call to the Keras 2 API: `Model(inputs=[<tf.Tenso..., outputs=Tensor(\"re...)`\n"
     ]
    },
    {
     "name": "stdout",
     "output_type": "stream",
     "text": [
      "preds (100, 56, 56, 64)\n",
      "(200704, 100)\n",
      "             PC1       PC2  target\n",
      "0       0.005558  0.021351     1.0\n",
      "1      -0.006449 -0.020050     1.0\n",
      "2      -0.014534  0.022574     1.0\n",
      "3       0.028805 -0.013094     1.0\n",
      "4      -0.032125  0.004513     1.0\n",
      "...          ...       ...     ...\n",
      "200699 -0.015027  0.005156     NaN\n",
      "200700  0.010118 -0.005472     NaN\n",
      "200701 -0.012337 -0.007065     NaN\n",
      "200702  0.009059  0.007678     NaN\n",
      "200703 -0.003309 -0.013363     NaN\n",
      "\n",
      "[200704 rows x 3 columns]\n",
      "(100, 32, 32, 3)\n",
      "22 res2b_branch2b\n"
     ]
    },
    {
     "name": "stderr",
     "output_type": "stream",
     "text": [
      "C:\\Users\\benza-ord\\anaconda3\\envs\\keras-gpu\\lib\\site-packages\\ipykernel_launcher.py:49: UserWarning: Update your `Model` call to the Keras 2 API: `Model(inputs=[<tf.Tenso..., outputs=Tensor(\"re...)`\n"
     ]
    },
    {
     "name": "stdout",
     "output_type": "stream",
     "text": [
      "preds (100, 56, 56, 64)\n",
      "(200704, 100)\n",
      "             PC1       PC2  target\n",
      "0       0.005557  0.021353     2.0\n",
      "1      -0.006467 -0.020039     2.0\n",
      "2      -0.014562  0.022578     2.0\n",
      "3       0.028788 -0.013104     2.0\n",
      "4      -0.032120  0.004510     2.0\n",
      "...          ...       ...     ...\n",
      "200699 -0.015045  0.005146     NaN\n",
      "200700  0.010111 -0.005469     NaN\n",
      "200701 -0.012326 -0.007069     NaN\n",
      "200702  0.009066  0.007668     NaN\n",
      "200703 -0.003287 -0.013349     NaN\n",
      "\n",
      "[200704 rows x 3 columns]\n",
      "(100, 32, 32, 3)\n",
      "22 res2b_branch2b\n"
     ]
    },
    {
     "name": "stderr",
     "output_type": "stream",
     "text": [
      "C:\\Users\\benza-ord\\anaconda3\\envs\\keras-gpu\\lib\\site-packages\\ipykernel_launcher.py:49: UserWarning: Update your `Model` call to the Keras 2 API: `Model(inputs=[<tf.Tenso..., outputs=Tensor(\"re...)`\n"
     ]
    },
    {
     "name": "stdout",
     "output_type": "stream",
     "text": [
      "preds (100, 56, 56, 64)\n",
      "(200704, 100)\n",
      "             PC1       PC2  target\n",
      "0       0.005553  0.021344     3.0\n",
      "1      -0.006461 -0.020076     3.0\n",
      "2      -0.014538  0.022559     3.0\n",
      "3       0.028803 -0.013100     3.0\n",
      "4      -0.032114  0.004537     3.0\n",
      "...          ...       ...     ...\n",
      "200699 -0.015035  0.005140     NaN\n",
      "200700  0.010120 -0.005471     NaN\n",
      "200701 -0.012334 -0.007055     NaN\n",
      "200702  0.009060  0.007681     NaN\n",
      "200703 -0.003300 -0.013343     NaN\n",
      "\n",
      "[200704 rows x 3 columns]\n",
      "(100, 32, 32, 3)\n",
      "22 res2b_branch2b\n"
     ]
    },
    {
     "name": "stderr",
     "output_type": "stream",
     "text": [
      "C:\\Users\\benza-ord\\anaconda3\\envs\\keras-gpu\\lib\\site-packages\\ipykernel_launcher.py:49: UserWarning: Update your `Model` call to the Keras 2 API: `Model(inputs=[<tf.Tenso..., outputs=Tensor(\"re...)`\n"
     ]
    },
    {
     "name": "stdout",
     "output_type": "stream",
     "text": [
      "preds (100, 56, 56, 64)\n",
      "(200704, 100)\n",
      "             PC1       PC2  target\n",
      "0       0.005554  0.021343     4.0\n",
      "1      -0.006448 -0.020047     4.0\n",
      "2      -0.014519  0.022597     4.0\n",
      "3       0.028811 -0.013089     4.0\n",
      "4      -0.032122  0.004516     4.0\n",
      "...          ...       ...     ...\n",
      "200699 -0.015032  0.005144     NaN\n",
      "200700  0.010120 -0.005470     NaN\n",
      "200701 -0.012336 -0.007062     NaN\n",
      "200702  0.009049  0.007659     NaN\n",
      "200703 -0.003307 -0.013353     NaN\n",
      "\n",
      "[200704 rows x 3 columns]\n",
      "(100, 32, 32, 3)\n",
      "22 res2b_branch2b\n"
     ]
    },
    {
     "name": "stderr",
     "output_type": "stream",
     "text": [
      "C:\\Users\\benza-ord\\anaconda3\\envs\\keras-gpu\\lib\\site-packages\\ipykernel_launcher.py:49: UserWarning: Update your `Model` call to the Keras 2 API: `Model(inputs=[<tf.Tenso..., outputs=Tensor(\"re...)`\n"
     ]
    },
    {
     "name": "stdout",
     "output_type": "stream",
     "text": [
      "preds (100, 56, 56, 64)\n",
      "(200704, 100)\n",
      "             PC1       PC2  target\n",
      "0       0.005559  0.021372     5.0\n",
      "1      -0.006446 -0.020027     5.0\n",
      "2      -0.014537  0.022560     5.0\n",
      "3       0.028794 -0.013145     5.0\n",
      "4      -0.032126  0.004489     5.0\n",
      "...          ...       ...     ...\n",
      "200699 -0.015036  0.005134     NaN\n",
      "200700  0.010116 -0.005487     NaN\n",
      "200701 -0.012339 -0.007080     NaN\n",
      "200702  0.009056  0.007666     NaN\n",
      "200703 -0.003300 -0.013344     NaN\n",
      "\n",
      "[200704 rows x 3 columns]\n",
      "(100, 32, 32, 3)\n",
      "22 res2b_branch2b\n"
     ]
    },
    {
     "name": "stderr",
     "output_type": "stream",
     "text": [
      "C:\\Users\\benza-ord\\anaconda3\\envs\\keras-gpu\\lib\\site-packages\\ipykernel_launcher.py:49: UserWarning: Update your `Model` call to the Keras 2 API: `Model(inputs=[<tf.Tenso..., outputs=Tensor(\"re...)`\n"
     ]
    },
    {
     "name": "stdout",
     "output_type": "stream",
     "text": [
      "preds (100, 56, 56, 64)\n",
      "(200704, 100)\n",
      "             PC1       PC2  target\n",
      "0       0.005565  0.021331     6.0\n",
      "1      -0.006451 -0.020051     6.0\n",
      "2      -0.014549  0.022601     6.0\n",
      "3       0.028781 -0.013049     6.0\n",
      "4      -0.032126  0.004520     6.0\n",
      "...          ...       ...     ...\n",
      "200699 -0.015040  0.005158     NaN\n",
      "200700  0.010111 -0.005450     NaN\n",
      "200701 -0.012341 -0.007048     NaN\n",
      "200702  0.009062  0.007655     NaN\n",
      "200703 -0.003292 -0.013365     NaN\n",
      "\n",
      "[200704 rows x 3 columns]\n",
      "(100, 32, 32, 3)\n",
      "22 res2b_branch2b\n"
     ]
    },
    {
     "name": "stderr",
     "output_type": "stream",
     "text": [
      "C:\\Users\\benza-ord\\anaconda3\\envs\\keras-gpu\\lib\\site-packages\\ipykernel_launcher.py:49: UserWarning: Update your `Model` call to the Keras 2 API: `Model(inputs=[<tf.Tenso..., outputs=Tensor(\"re...)`\n"
     ]
    },
    {
     "name": "stdout",
     "output_type": "stream",
     "text": [
      "preds (100, 56, 56, 64)\n",
      "(200704, 100)\n",
      "             PC1       PC2  target\n",
      "0       0.005560  0.021340     7.0\n",
      "1      -0.006452 -0.020040     7.0\n",
      "2      -0.014541  0.022596     7.0\n",
      "3       0.028797 -0.013085     7.0\n",
      "4      -0.032123  0.004512     7.0\n",
      "...          ...       ...     ...\n",
      "200699 -0.015037  0.005153     NaN\n",
      "200700  0.010118 -0.005460     NaN\n",
      "200701 -0.012337 -0.007065     NaN\n",
      "200702  0.009060  0.007651     NaN\n",
      "200703 -0.003296 -0.013367     NaN\n",
      "\n",
      "[200704 rows x 3 columns]\n",
      "(100, 32, 32, 3)\n",
      "22 res2b_branch2b\n"
     ]
    },
    {
     "name": "stderr",
     "output_type": "stream",
     "text": [
      "C:\\Users\\benza-ord\\anaconda3\\envs\\keras-gpu\\lib\\site-packages\\ipykernel_launcher.py:49: UserWarning: Update your `Model` call to the Keras 2 API: `Model(inputs=[<tf.Tenso..., outputs=Tensor(\"re...)`\n"
     ]
    },
    {
     "name": "stdout",
     "output_type": "stream",
     "text": [
      "preds (100, 56, 56, 64)\n",
      "(200704, 100)\n",
      "             PC1       PC2  target\n",
      "0       0.005562  0.021357     8.0\n",
      "1      -0.006450 -0.020057     8.0\n",
      "2      -0.014546  0.022534     8.0\n",
      "3       0.028790 -0.013140     8.0\n",
      "4      -0.032124  0.004513     8.0\n",
      "...          ...       ...     ...\n",
      "200699 -0.015036  0.005132     NaN\n",
      "200700  0.010116 -0.005478     NaN\n",
      "200701 -0.012338 -0.007068     NaN\n",
      "200702  0.009060  0.007679     NaN\n",
      "200703 -0.003298 -0.013333     NaN\n",
      "\n",
      "[200704 rows x 3 columns]\n",
      "(100, 32, 32, 3)\n",
      "22 res2b_branch2b\n"
     ]
    },
    {
     "name": "stderr",
     "output_type": "stream",
     "text": [
      "C:\\Users\\benza-ord\\anaconda3\\envs\\keras-gpu\\lib\\site-packages\\ipykernel_launcher.py:49: UserWarning: Update your `Model` call to the Keras 2 API: `Model(inputs=[<tf.Tenso..., outputs=Tensor(\"re...)`\n"
     ]
    },
    {
     "name": "stdout",
     "output_type": "stream",
     "text": [
      "preds (100, 56, 56, 64)\n",
      "(200704, 100)\n",
      "             PC1       PC2  target\n",
      "0       0.005552  0.021353     9.0\n",
      "1      -0.006467 -0.020054     9.0\n",
      "2      -0.014553  0.022548     9.0\n",
      "3       0.028799 -0.013109     9.0\n",
      "4      -0.032112  0.004519     9.0\n",
      "...          ...       ...     ...\n",
      "200699 -0.015033  0.005141     NaN\n",
      "200700  0.010122 -0.005473     NaN\n",
      "200701 -0.012327 -0.007055     NaN\n",
      "200702  0.009066  0.007679     NaN\n",
      "200703 -0.003294 -0.013337     NaN\n",
      "\n",
      "[200704 rows x 3 columns]\n",
      "(100, 32, 32, 3)\n",
      "25 res2b_branch2c\n"
     ]
    },
    {
     "name": "stderr",
     "output_type": "stream",
     "text": [
      "C:\\Users\\benza-ord\\anaconda3\\envs\\keras-gpu\\lib\\site-packages\\ipykernel_launcher.py:49: UserWarning: Update your `Model` call to the Keras 2 API: `Model(inputs=[<tf.Tenso..., outputs=Tensor(\"re...)`\n"
     ]
    },
    {
     "name": "stdout",
     "output_type": "stream",
     "text": [
      "preds (100, 56, 56, 256)\n",
      "(802816, 100)\n",
      "             PC1       PC2  target\n",
      "0      -0.004750 -0.002613     0.0\n",
      "1       0.009385 -0.005504     0.0\n",
      "2       0.005364 -0.004625     0.0\n",
      "3      -0.011836 -0.019042     0.0\n",
      "4       0.002479  0.021617     0.0\n",
      "...          ...       ...     ...\n",
      "802811 -0.012780 -0.002028     NaN\n",
      "802812  0.010511 -0.008613     NaN\n",
      "802813 -0.002789  0.004394     NaN\n",
      "802814 -0.012863 -0.004298     NaN\n",
      "802815  0.003335  0.014408     NaN\n",
      "\n",
      "[802816 rows x 3 columns]\n",
      "(100, 32, 32, 3)\n",
      "25 res2b_branch2c\n"
     ]
    },
    {
     "name": "stderr",
     "output_type": "stream",
     "text": [
      "C:\\Users\\benza-ord\\anaconda3\\envs\\keras-gpu\\lib\\site-packages\\ipykernel_launcher.py:49: UserWarning: Update your `Model` call to the Keras 2 API: `Model(inputs=[<tf.Tenso..., outputs=Tensor(\"re...)`\n"
     ]
    },
    {
     "name": "stdout",
     "output_type": "stream",
     "text": [
      "preds (100, 56, 56, 256)\n",
      "(802816, 100)\n",
      "             PC1       PC2  target\n",
      "0       0.004981 -0.002838     1.0\n",
      "1      -0.009480 -0.005391     1.0\n",
      "2      -0.005004 -0.004472     1.0\n",
      "3       0.011905 -0.019691     1.0\n",
      "4      -0.001978  0.022317     1.0\n",
      "...          ...       ...     ...\n",
      "802811  0.012780 -0.001753     NaN\n",
      "802812 -0.010379 -0.008732     NaN\n",
      "802813  0.002444  0.004160     NaN\n",
      "802814  0.012704 -0.004285     NaN\n",
      "802815 -0.003247  0.014489     NaN\n",
      "\n",
      "[802816 rows x 3 columns]\n",
      "(100, 32, 32, 3)\n",
      "25 res2b_branch2c\n"
     ]
    },
    {
     "name": "stderr",
     "output_type": "stream",
     "text": [
      "C:\\Users\\benza-ord\\anaconda3\\envs\\keras-gpu\\lib\\site-packages\\ipykernel_launcher.py:49: UserWarning: Update your `Model` call to the Keras 2 API: `Model(inputs=[<tf.Tenso..., outputs=Tensor(\"re...)`\n"
     ]
    },
    {
     "name": "stdout",
     "output_type": "stream",
     "text": [
      "preds (100, 56, 56, 256)\n",
      "(802816, 100)\n",
      "             PC1       PC2  target\n",
      "0       0.004611 -0.002837     2.0\n",
      "1      -0.009386 -0.005505     2.0\n",
      "2      -0.005376 -0.004857     2.0\n",
      "3       0.011803 -0.019203     2.0\n",
      "4      -0.002313  0.021904     2.0\n",
      "...          ...       ...     ...\n",
      "802811  0.012917 -0.002005     NaN\n",
      "802812 -0.010561 -0.008768     NaN\n",
      "802813  0.002590  0.004183     NaN\n",
      "802814  0.012875 -0.004142     NaN\n",
      "802815 -0.003325  0.014450     NaN\n",
      "\n",
      "[802816 rows x 3 columns]\n",
      "(100, 32, 32, 3)\n",
      "25 res2b_branch2c\n"
     ]
    },
    {
     "name": "stderr",
     "output_type": "stream",
     "text": [
      "C:\\Users\\benza-ord\\anaconda3\\envs\\keras-gpu\\lib\\site-packages\\ipykernel_launcher.py:49: UserWarning: Update your `Model` call to the Keras 2 API: `Model(inputs=[<tf.Tenso..., outputs=Tensor(\"re...)`\n"
     ]
    },
    {
     "name": "stdout",
     "output_type": "stream",
     "text": [
      "preds (100, 56, 56, 256)\n",
      "(802816, 100)\n",
      "             PC1       PC2  target\n",
      "0       0.004665 -0.002708     3.0\n",
      "1      -0.009254 -0.003287     3.0\n",
      "2      -0.005389 -0.005868     3.0\n",
      "3       0.011795 -0.018046     3.0\n",
      "4      -0.002269  0.020970     3.0\n",
      "...          ...       ...     ...\n",
      "802811  0.012838 -0.002276     NaN\n",
      "802812 -0.010700 -0.009197     NaN\n",
      "802813  0.002532  0.003890     NaN\n",
      "802814  0.012806 -0.004201     NaN\n",
      "802815 -0.003256  0.014717     NaN\n",
      "\n",
      "[802816 rows x 3 columns]\n",
      "(100, 32, 32, 3)\n",
      "25 res2b_branch2c\n"
     ]
    },
    {
     "name": "stderr",
     "output_type": "stream",
     "text": [
      "C:\\Users\\benza-ord\\anaconda3\\envs\\keras-gpu\\lib\\site-packages\\ipykernel_launcher.py:49: UserWarning: Update your `Model` call to the Keras 2 API: `Model(inputs=[<tf.Tenso..., outputs=Tensor(\"re...)`\n"
     ]
    },
    {
     "name": "stdout",
     "output_type": "stream",
     "text": [
      "preds (100, 56, 56, 256)\n",
      "(802816, 100)\n",
      "             PC1       PC2  target\n",
      "0       0.004779 -0.002735     4.0\n",
      "1      -0.009282 -0.005243     4.0\n",
      "2      -0.005443 -0.004640     4.0\n",
      "3       0.012142 -0.018890     4.0\n",
      "4      -0.002152  0.021975     4.0\n",
      "...          ...       ...     ...\n",
      "802811  0.012823 -0.002011     NaN\n",
      "802812 -0.010730 -0.008890     NaN\n",
      "802813  0.002421  0.004315     NaN\n",
      "802814  0.012630 -0.004429     NaN\n",
      "802815 -0.003369  0.014501     NaN\n",
      "\n",
      "[802816 rows x 3 columns]\n",
      "(100, 32, 32, 3)\n",
      "25 res2b_branch2c\n"
     ]
    },
    {
     "name": "stderr",
     "output_type": "stream",
     "text": [
      "C:\\Users\\benza-ord\\anaconda3\\envs\\keras-gpu\\lib\\site-packages\\ipykernel_launcher.py:49: UserWarning: Update your `Model` call to the Keras 2 API: `Model(inputs=[<tf.Tenso..., outputs=Tensor(\"re...)`\n"
     ]
    },
    {
     "name": "stdout",
     "output_type": "stream",
     "text": [
      "preds (100, 56, 56, 256)\n",
      "(802816, 100)\n",
      "             PC1       PC2  target\n",
      "0      -0.004892 -0.002520     5.0\n",
      "1       0.009449 -0.005576     5.0\n",
      "2       0.005235 -0.004369     5.0\n",
      "3      -0.012181 -0.018573     5.0\n",
      "4       0.002274  0.021936     5.0\n",
      "...          ...       ...     ...\n",
      "802811 -0.012660 -0.002128     NaN\n",
      "802812  0.010500 -0.008280     NaN\n",
      "802813 -0.002535  0.004086     NaN\n",
      "802814 -0.012771 -0.004397     NaN\n",
      "802815  0.003269  0.014486     NaN\n",
      "\n",
      "[802816 rows x 3 columns]\n",
      "(100, 32, 32, 3)\n",
      "25 res2b_branch2c\n"
     ]
    },
    {
     "name": "stderr",
     "output_type": "stream",
     "text": [
      "C:\\Users\\benza-ord\\anaconda3\\envs\\keras-gpu\\lib\\site-packages\\ipykernel_launcher.py:49: UserWarning: Update your `Model` call to the Keras 2 API: `Model(inputs=[<tf.Tenso..., outputs=Tensor(\"re...)`\n"
     ]
    },
    {
     "name": "stdout",
     "output_type": "stream",
     "text": [
      "preds (100, 56, 56, 256)\n",
      "(802816, 100)\n",
      "             PC1       PC2  target\n",
      "0      -0.004720 -0.002776     6.0\n",
      "1       0.009271 -0.005414     6.0\n",
      "2       0.005404 -0.004715     6.0\n",
      "3      -0.012045 -0.019037     6.0\n",
      "4       0.002308  0.021785     6.0\n",
      "...          ...       ...     ...\n",
      "802811 -0.012776 -0.002111     NaN\n",
      "802812  0.010517 -0.008572     NaN\n",
      "802813 -0.002604  0.004505     NaN\n",
      "802814 -0.012745 -0.004235     NaN\n",
      "802815  0.003336  0.014399     NaN\n",
      "\n",
      "[802816 rows x 3 columns]\n",
      "(100, 32, 32, 3)\n",
      "25 res2b_branch2c\n"
     ]
    },
    {
     "name": "stderr",
     "output_type": "stream",
     "text": [
      "C:\\Users\\benza-ord\\anaconda3\\envs\\keras-gpu\\lib\\site-packages\\ipykernel_launcher.py:49: UserWarning: Update your `Model` call to the Keras 2 API: `Model(inputs=[<tf.Tenso..., outputs=Tensor(\"re...)`\n"
     ]
    },
    {
     "name": "stdout",
     "output_type": "stream",
     "text": [
      "preds (100, 56, 56, 256)\n",
      "(802816, 100)\n",
      "             PC1       PC2  target\n",
      "0      -0.005105 -0.002921     7.0\n",
      "1       0.009448 -0.005376     7.0\n",
      "2       0.005160 -0.004482     7.0\n",
      "3      -0.011667 -0.019103     7.0\n",
      "4       0.002191  0.021722     7.0\n",
      "...          ...       ...     ...\n",
      "802811 -0.012648 -0.002016     NaN\n",
      "802812  0.010505 -0.008772     NaN\n",
      "802813 -0.002559  0.004447     NaN\n",
      "802814 -0.012711 -0.004319     NaN\n",
      "802815  0.003246  0.014488     NaN\n",
      "\n",
      "[802816 rows x 3 columns]\n",
      "(100, 32, 32, 3)\n",
      "25 res2b_branch2c\n"
     ]
    },
    {
     "name": "stderr",
     "output_type": "stream",
     "text": [
      "C:\\Users\\benza-ord\\anaconda3\\envs\\keras-gpu\\lib\\site-packages\\ipykernel_launcher.py:49: UserWarning: Update your `Model` call to the Keras 2 API: `Model(inputs=[<tf.Tenso..., outputs=Tensor(\"re...)`\n"
     ]
    },
    {
     "name": "stdout",
     "output_type": "stream",
     "text": [
      "preds (100, 56, 56, 256)\n",
      "(802816, 100)\n",
      "             PC1       PC2  target\n",
      "0      -0.004641 -0.002396     8.0\n",
      "1       0.009319 -0.005363     8.0\n",
      "2       0.005315 -0.004469     8.0\n",
      "3      -0.011553 -0.018895     8.0\n",
      "4       0.001640  0.021035     8.0\n",
      "...          ...       ...     ...\n",
      "802811 -0.012684 -0.001882     NaN\n",
      "802812  0.010953 -0.008101     NaN\n",
      "802813 -0.002388  0.004690     NaN\n",
      "802814 -0.012773 -0.004509     NaN\n",
      "802815  0.003410  0.014788     NaN\n",
      "\n",
      "[802816 rows x 3 columns]\n",
      "(100, 32, 32, 3)\n",
      "25 res2b_branch2c\n"
     ]
    },
    {
     "name": "stderr",
     "output_type": "stream",
     "text": [
      "C:\\Users\\benza-ord\\anaconda3\\envs\\keras-gpu\\lib\\site-packages\\ipykernel_launcher.py:49: UserWarning: Update your `Model` call to the Keras 2 API: `Model(inputs=[<tf.Tenso..., outputs=Tensor(\"re...)`\n"
     ]
    },
    {
     "name": "stdout",
     "output_type": "stream",
     "text": [
      "preds (100, 56, 56, 256)\n",
      "(802816, 100)\n",
      "             PC1       PC2  target\n",
      "0      -0.004828 -0.002908     9.0\n",
      "1       0.009313 -0.005457     9.0\n",
      "2       0.005017 -0.004663     9.0\n",
      "3      -0.012128 -0.019247     9.0\n",
      "4       0.002006  0.021871     9.0\n",
      "...          ...       ...     ...\n",
      "802811 -0.012681 -0.001955     NaN\n",
      "802812  0.010602 -0.008612     NaN\n",
      "802813 -0.002481  0.004268     NaN\n",
      "802814 -0.012748 -0.004213     NaN\n",
      "802815  0.003293  0.014568     NaN\n",
      "\n",
      "[802816 rows x 3 columns]\n",
      "(100, 32, 32, 3)\n",
      "29 res2c_branch2a\n"
     ]
    },
    {
     "name": "stderr",
     "output_type": "stream",
     "text": [
      "C:\\Users\\benza-ord\\anaconda3\\envs\\keras-gpu\\lib\\site-packages\\ipykernel_launcher.py:49: UserWarning: Update your `Model` call to the Keras 2 API: `Model(inputs=[<tf.Tenso..., outputs=Tensor(\"re...)`\n"
     ]
    },
    {
     "name": "stdout",
     "output_type": "stream",
     "text": [
      "preds (100, 56, 56, 64)\n",
      "(200704, 100)\n",
      "             PC1       PC2  target\n",
      "0      -0.033854 -0.010800     0.0\n",
      "1      -0.008694 -0.036118     0.0\n",
      "2       0.010178  0.047604     0.0\n",
      "3      -0.025931  0.028656     0.0\n",
      "4       0.011832 -0.025531     0.0\n",
      "...          ...       ...     ...\n",
      "200699  0.039117  0.005332     NaN\n",
      "200700  0.006061  0.020279     NaN\n",
      "200701 -0.027956 -0.016562     NaN\n",
      "200702  0.021278 -0.014765     NaN\n",
      "200703  0.018059  0.015520     NaN\n",
      "\n",
      "[200704 rows x 3 columns]\n",
      "(100, 32, 32, 3)\n",
      "29 res2c_branch2a\n"
     ]
    },
    {
     "name": "stderr",
     "output_type": "stream",
     "text": [
      "C:\\Users\\benza-ord\\anaconda3\\envs\\keras-gpu\\lib\\site-packages\\ipykernel_launcher.py:49: UserWarning: Update your `Model` call to the Keras 2 API: `Model(inputs=[<tf.Tenso..., outputs=Tensor(\"re...)`\n"
     ]
    },
    {
     "name": "stdout",
     "output_type": "stream",
     "text": [
      "preds (100, 56, 56, 64)\n",
      "(200704, 100)\n",
      "             PC1       PC2  target\n",
      "0      -0.033847 -0.010794     1.0\n",
      "1      -0.008694 -0.036123     1.0\n",
      "2       0.010178  0.047604     1.0\n",
      "3      -0.025933  0.028655     1.0\n",
      "4       0.011833 -0.025532     1.0\n",
      "...          ...       ...     ...\n",
      "200699  0.039117  0.005331     NaN\n",
      "200700  0.006060  0.020277     NaN\n",
      "200701 -0.027955 -0.016561     NaN\n",
      "200702  0.021278 -0.014764     NaN\n",
      "200703  0.018059  0.015521     NaN\n",
      "\n",
      "[200704 rows x 3 columns]\n",
      "(100, 32, 32, 3)\n",
      "29 res2c_branch2a\n"
     ]
    },
    {
     "name": "stderr",
     "output_type": "stream",
     "text": [
      "C:\\Users\\benza-ord\\anaconda3\\envs\\keras-gpu\\lib\\site-packages\\ipykernel_launcher.py:49: UserWarning: Update your `Model` call to the Keras 2 API: `Model(inputs=[<tf.Tenso..., outputs=Tensor(\"re...)`\n"
     ]
    },
    {
     "name": "stdout",
     "output_type": "stream",
     "text": [
      "preds (100, 56, 56, 64)\n",
      "(200704, 100)\n",
      "             PC1       PC2  target\n",
      "0      -0.033853 -0.010800     2.0\n",
      "1      -0.008692 -0.036118     2.0\n",
      "2       0.010177  0.047604     2.0\n",
      "3      -0.025932  0.028657     2.0\n",
      "4       0.011833 -0.025532     2.0\n",
      "...          ...       ...     ...\n",
      "200699  0.039117  0.005333     NaN\n",
      "200700  0.006060  0.020279     NaN\n",
      "200701 -0.027955 -0.016561     NaN\n",
      "200702  0.021278 -0.014764     NaN\n",
      "200703  0.018059  0.015519     NaN\n",
      "\n",
      "[200704 rows x 3 columns]\n",
      "(100, 32, 32, 3)\n",
      "29 res2c_branch2a\n"
     ]
    },
    {
     "name": "stderr",
     "output_type": "stream",
     "text": [
      "C:\\Users\\benza-ord\\anaconda3\\envs\\keras-gpu\\lib\\site-packages\\ipykernel_launcher.py:49: UserWarning: Update your `Model` call to the Keras 2 API: `Model(inputs=[<tf.Tenso..., outputs=Tensor(\"re...)`\n"
     ]
    },
    {
     "name": "stdout",
     "output_type": "stream",
     "text": [
      "preds (100, 56, 56, 64)\n",
      "(200704, 100)\n",
      "             PC1       PC2  target\n",
      "0      -0.033850 -0.010800     3.0\n",
      "1      -0.008695 -0.036117     3.0\n",
      "2       0.010181  0.047605     3.0\n",
      "3      -0.025930  0.028654     3.0\n",
      "4       0.011834 -0.025532     3.0\n",
      "...          ...       ...     ...\n",
      "200699  0.039117  0.005332     NaN\n",
      "200700  0.006060  0.020278     NaN\n",
      "200701 -0.027955 -0.016562     NaN\n",
      "200702  0.021278 -0.014764     NaN\n",
      "200703  0.018059  0.015521     NaN\n",
      "\n",
      "[200704 rows x 3 columns]\n",
      "(100, 32, 32, 3)\n",
      "29 res2c_branch2a\n"
     ]
    },
    {
     "name": "stderr",
     "output_type": "stream",
     "text": [
      "C:\\Users\\benza-ord\\anaconda3\\envs\\keras-gpu\\lib\\site-packages\\ipykernel_launcher.py:49: UserWarning: Update your `Model` call to the Keras 2 API: `Model(inputs=[<tf.Tenso..., outputs=Tensor(\"re...)`\n"
     ]
    },
    {
     "name": "stdout",
     "output_type": "stream",
     "text": [
      "preds (100, 56, 56, 64)\n",
      "(200704, 100)\n",
      "             PC1       PC2  target\n",
      "0      -0.033852 -0.010796     4.0\n",
      "1      -0.008693 -0.036121     4.0\n",
      "2       0.010178  0.047606     4.0\n",
      "3      -0.025932  0.028657     4.0\n",
      "4       0.011833 -0.025532     4.0\n",
      "...          ...       ...     ...\n",
      "200699  0.039117  0.005334     NaN\n",
      "200700  0.006061  0.020279     NaN\n",
      "200701 -0.027955 -0.016562     NaN\n",
      "200702  0.021278 -0.014764     NaN\n",
      "200703  0.018058  0.015519     NaN\n",
      "\n",
      "[200704 rows x 3 columns]\n",
      "(100, 32, 32, 3)\n",
      "29 res2c_branch2a\n"
     ]
    },
    {
     "name": "stderr",
     "output_type": "stream",
     "text": [
      "C:\\Users\\benza-ord\\anaconda3\\envs\\keras-gpu\\lib\\site-packages\\ipykernel_launcher.py:49: UserWarning: Update your `Model` call to the Keras 2 API: `Model(inputs=[<tf.Tenso..., outputs=Tensor(\"re...)`\n"
     ]
    },
    {
     "name": "stdout",
     "output_type": "stream",
     "text": [
      "preds (100, 56, 56, 64)\n",
      "(200704, 100)\n",
      "             PC1       PC2  target\n",
      "0      -0.033852 -0.010798     5.0\n",
      "1      -0.008696 -0.036114     5.0\n",
      "2       0.010180  0.047599     5.0\n",
      "3      -0.025930  0.028658     5.0\n",
      "4       0.011831 -0.025532     5.0\n",
      "...          ...       ...     ...\n",
      "200699  0.039117  0.005331     NaN\n",
      "200700  0.006061  0.020279     NaN\n",
      "200701 -0.027955 -0.016562     NaN\n",
      "200702  0.021278 -0.014765     NaN\n",
      "200703  0.018059  0.015519     NaN\n",
      "\n",
      "[200704 rows x 3 columns]\n",
      "(100, 32, 32, 3)\n",
      "29 res2c_branch2a\n"
     ]
    },
    {
     "name": "stderr",
     "output_type": "stream",
     "text": [
      "C:\\Users\\benza-ord\\anaconda3\\envs\\keras-gpu\\lib\\site-packages\\ipykernel_launcher.py:49: UserWarning: Update your `Model` call to the Keras 2 API: `Model(inputs=[<tf.Tenso..., outputs=Tensor(\"re...)`\n"
     ]
    },
    {
     "name": "stdout",
     "output_type": "stream",
     "text": [
      "preds (100, 56, 56, 64)\n",
      "(200704, 100)\n",
      "             PC1       PC2  target\n",
      "0      -0.033853 -0.010799     6.0\n",
      "1      -0.008695 -0.036117     6.0\n",
      "2       0.010182  0.047597     6.0\n",
      "3      -0.025930  0.028660     6.0\n",
      "4       0.011833 -0.025532     6.0\n",
      "...          ...       ...     ...\n",
      "200699  0.039117  0.005332     NaN\n",
      "200700  0.006061  0.020279     NaN\n",
      "200701 -0.027955 -0.016560     NaN\n",
      "200702  0.021278 -0.014763     NaN\n",
      "200703  0.018059  0.015519     NaN\n",
      "\n",
      "[200704 rows x 3 columns]\n",
      "(100, 32, 32, 3)\n",
      "29 res2c_branch2a\n"
     ]
    },
    {
     "name": "stderr",
     "output_type": "stream",
     "text": [
      "C:\\Users\\benza-ord\\anaconda3\\envs\\keras-gpu\\lib\\site-packages\\ipykernel_launcher.py:49: UserWarning: Update your `Model` call to the Keras 2 API: `Model(inputs=[<tf.Tenso..., outputs=Tensor(\"re...)`\n"
     ]
    },
    {
     "name": "stdout",
     "output_type": "stream",
     "text": [
      "preds (100, 56, 56, 64)\n",
      "(200704, 100)\n",
      "             PC1       PC2  target\n",
      "0      -0.033853 -0.010799     7.0\n",
      "1      -0.008697 -0.036114     7.0\n",
      "2       0.010181  0.047603     7.0\n",
      "3      -0.025931  0.028656     7.0\n",
      "4       0.011833 -0.025531     7.0\n",
      "...          ...       ...     ...\n",
      "200699  0.039117  0.005332     NaN\n",
      "200700  0.006061  0.020278     NaN\n",
      "200701 -0.027955 -0.016563     NaN\n",
      "200702  0.021278 -0.014766     NaN\n",
      "200703  0.018058  0.015522     NaN\n",
      "\n",
      "[200704 rows x 3 columns]\n",
      "(100, 32, 32, 3)\n",
      "29 res2c_branch2a\n"
     ]
    },
    {
     "name": "stderr",
     "output_type": "stream",
     "text": [
      "C:\\Users\\benza-ord\\anaconda3\\envs\\keras-gpu\\lib\\site-packages\\ipykernel_launcher.py:49: UserWarning: Update your `Model` call to the Keras 2 API: `Model(inputs=[<tf.Tenso..., outputs=Tensor(\"re...)`\n"
     ]
    },
    {
     "name": "stdout",
     "output_type": "stream",
     "text": [
      "preds (100, 56, 56, 64)\n",
      "(200704, 100)\n",
      "             PC1       PC2  target\n",
      "0      -0.033856 -0.010797     8.0\n",
      "1      -0.008690 -0.036121     8.0\n",
      "2       0.010177  0.047604     8.0\n",
      "3      -0.025931  0.028656     8.0\n",
      "4       0.011834 -0.025533     8.0\n",
      "...          ...       ...     ...\n",
      "200699  0.039117  0.005333     NaN\n",
      "200700  0.006060  0.020279     NaN\n",
      "200701 -0.027955 -0.016562     NaN\n",
      "200702  0.021278 -0.014764     NaN\n",
      "200703  0.018058  0.015520     NaN\n",
      "\n",
      "[200704 rows x 3 columns]\n",
      "(100, 32, 32, 3)\n",
      "29 res2c_branch2a\n"
     ]
    },
    {
     "name": "stderr",
     "output_type": "stream",
     "text": [
      "C:\\Users\\benza-ord\\anaconda3\\envs\\keras-gpu\\lib\\site-packages\\ipykernel_launcher.py:49: UserWarning: Update your `Model` call to the Keras 2 API: `Model(inputs=[<tf.Tenso..., outputs=Tensor(\"re...)`\n"
     ]
    },
    {
     "name": "stdout",
     "output_type": "stream",
     "text": [
      "preds (100, 56, 56, 64)\n",
      "(200704, 100)\n",
      "             PC1       PC2  target\n",
      "0      -0.033853 -0.010795     9.0\n",
      "1      -0.008695 -0.036118     9.0\n",
      "2       0.010179  0.047606     9.0\n",
      "3      -0.025930  0.028657     9.0\n",
      "4       0.011832 -0.025533     9.0\n",
      "...          ...       ...     ...\n",
      "200699  0.039117  0.005332     NaN\n",
      "200700  0.006061  0.020279     NaN\n",
      "200701 -0.027955 -0.016561     NaN\n",
      "200702  0.021278 -0.014765     NaN\n",
      "200703  0.018059  0.015519     NaN\n",
      "\n",
      "[200704 rows x 3 columns]\n",
      "(100, 32, 32, 3)\n",
      "32 res2c_branch2b\n"
     ]
    },
    {
     "name": "stderr",
     "output_type": "stream",
     "text": [
      "C:\\Users\\benza-ord\\anaconda3\\envs\\keras-gpu\\lib\\site-packages\\ipykernel_launcher.py:49: UserWarning: Update your `Model` call to the Keras 2 API: `Model(inputs=[<tf.Tenso..., outputs=Tensor(\"re...)`\n"
     ]
    },
    {
     "name": "stdout",
     "output_type": "stream",
     "text": [
      "preds (100, 56, 56, 64)\n",
      "(200704, 100)\n",
      "             PC1       PC2  target\n",
      "0       0.023232  0.013585     0.0\n",
      "1       0.034939  0.010137     0.0\n",
      "2      -0.033743 -0.002501     0.0\n",
      "3      -0.042369 -0.001114     0.0\n",
      "4       0.011311 -0.008241     0.0\n",
      "...          ...       ...     ...\n",
      "200699  0.010369  0.018901     NaN\n",
      "200700  0.003674  0.023551     NaN\n",
      "200701 -0.004329 -0.004224     NaN\n",
      "200702 -0.017763 -0.019568     NaN\n",
      "200703 -0.011198 -0.002129     NaN\n",
      "\n",
      "[200704 rows x 3 columns]\n",
      "(100, 32, 32, 3)\n",
      "32 res2c_branch2b\n"
     ]
    },
    {
     "name": "stderr",
     "output_type": "stream",
     "text": [
      "C:\\Users\\benza-ord\\anaconda3\\envs\\keras-gpu\\lib\\site-packages\\ipykernel_launcher.py:49: UserWarning: Update your `Model` call to the Keras 2 API: `Model(inputs=[<tf.Tenso..., outputs=Tensor(\"re...)`\n"
     ]
    },
    {
     "name": "stdout",
     "output_type": "stream",
     "text": [
      "preds (100, 56, 56, 64)\n",
      "(200704, 100)\n",
      "             PC1       PC2  target\n",
      "0       0.023237  0.013589     1.0\n",
      "1       0.034932  0.010147     1.0\n",
      "2      -0.033745 -0.002500     1.0\n",
      "3      -0.042370 -0.001116     1.0\n",
      "4       0.011312 -0.008240     1.0\n",
      "...          ...       ...     ...\n",
      "200699  0.010368  0.018902     NaN\n",
      "200700  0.003673  0.023552     NaN\n",
      "200701 -0.004329 -0.004224     NaN\n",
      "200702 -0.017762 -0.019569     NaN\n",
      "200703 -0.011198 -0.002130     NaN\n",
      "\n",
      "[200704 rows x 3 columns]\n",
      "(100, 32, 32, 3)\n",
      "32 res2c_branch2b\n"
     ]
    },
    {
     "name": "stderr",
     "output_type": "stream",
     "text": [
      "C:\\Users\\benza-ord\\anaconda3\\envs\\keras-gpu\\lib\\site-packages\\ipykernel_launcher.py:49: UserWarning: Update your `Model` call to the Keras 2 API: `Model(inputs=[<tf.Tenso..., outputs=Tensor(\"re...)`\n"
     ]
    },
    {
     "name": "stdout",
     "output_type": "stream",
     "text": [
      "preds (100, 56, 56, 64)\n",
      "(200704, 100)\n",
      "             PC1       PC2  target\n",
      "0       0.023236  0.013587     2.0\n",
      "1       0.034936  0.010139     2.0\n",
      "2      -0.033742 -0.002501     2.0\n",
      "3      -0.042368 -0.001116     2.0\n",
      "4       0.011312 -0.008240     2.0\n",
      "...          ...       ...     ...\n",
      "200699  0.010368  0.018902     NaN\n",
      "200700  0.003673  0.023552     NaN\n",
      "200701 -0.004329 -0.004224     NaN\n",
      "200702 -0.017762 -0.019569     NaN\n",
      "200703 -0.011198 -0.002130     NaN\n",
      "\n",
      "[200704 rows x 3 columns]\n",
      "(100, 32, 32, 3)\n",
      "32 res2c_branch2b\n"
     ]
    },
    {
     "name": "stderr",
     "output_type": "stream",
     "text": [
      "C:\\Users\\benza-ord\\anaconda3\\envs\\keras-gpu\\lib\\site-packages\\ipykernel_launcher.py:49: UserWarning: Update your `Model` call to the Keras 2 API: `Model(inputs=[<tf.Tenso..., outputs=Tensor(\"re...)`\n"
     ]
    },
    {
     "name": "stdout",
     "output_type": "stream",
     "text": [
      "preds (100, 56, 56, 64)\n",
      "(200704, 100)\n",
      "             PC1       PC2  target\n",
      "0       0.023236  0.013591     3.0\n",
      "1       0.034938  0.010140     3.0\n",
      "2      -0.033743 -0.002503     3.0\n",
      "3      -0.042369 -0.001118     3.0\n",
      "4       0.011312 -0.008239     3.0\n",
      "...          ...       ...     ...\n",
      "200699  0.010367  0.018902     NaN\n",
      "200700  0.003672  0.023552     NaN\n",
      "200701 -0.004329 -0.004223     NaN\n",
      "200702 -0.017761 -0.019570     NaN\n",
      "200703 -0.011198 -0.002131     NaN\n",
      "\n",
      "[200704 rows x 3 columns]\n",
      "(100, 32, 32, 3)\n",
      "32 res2c_branch2b\n"
     ]
    },
    {
     "name": "stderr",
     "output_type": "stream",
     "text": [
      "C:\\Users\\benza-ord\\anaconda3\\envs\\keras-gpu\\lib\\site-packages\\ipykernel_launcher.py:49: UserWarning: Update your `Model` call to the Keras 2 API: `Model(inputs=[<tf.Tenso..., outputs=Tensor(\"re...)`\n"
     ]
    },
    {
     "name": "stdout",
     "output_type": "stream",
     "text": [
      "preds (100, 56, 56, 64)\n",
      "(200704, 100)\n",
      "             PC1       PC2  target\n",
      "0       0.023231  0.013585     4.0\n",
      "1       0.034937  0.010140     4.0\n",
      "2      -0.033744 -0.002502     4.0\n",
      "3      -0.042369 -0.001116     4.0\n",
      "4       0.011312 -0.008240     4.0\n",
      "...          ...       ...     ...\n",
      "200699  0.010369  0.018901     NaN\n",
      "200700  0.003673  0.023551     NaN\n",
      "200701 -0.004329 -0.004224     NaN\n",
      "200702 -0.017762 -0.019569     NaN\n",
      "200703 -0.011198 -0.002130     NaN\n",
      "\n",
      "[200704 rows x 3 columns]\n",
      "(100, 32, 32, 3)\n",
      "32 res2c_branch2b\n"
     ]
    },
    {
     "name": "stderr",
     "output_type": "stream",
     "text": [
      "C:\\Users\\benza-ord\\anaconda3\\envs\\keras-gpu\\lib\\site-packages\\ipykernel_launcher.py:49: UserWarning: Update your `Model` call to the Keras 2 API: `Model(inputs=[<tf.Tenso..., outputs=Tensor(\"re...)`\n"
     ]
    },
    {
     "name": "stdout",
     "output_type": "stream",
     "text": [
      "preds (100, 56, 56, 64)\n",
      "(200704, 100)\n",
      "             PC1       PC2  target\n",
      "0       0.023240  0.013591     5.0\n",
      "1       0.034939  0.010139     5.0\n",
      "2      -0.033743 -0.002500     5.0\n",
      "3      -0.042369 -0.001115     5.0\n",
      "4       0.011311 -0.008240     5.0\n",
      "...          ...       ...     ...\n",
      "200699  0.010369  0.018901     NaN\n",
      "200700  0.003674  0.023551     NaN\n",
      "200701 -0.004329 -0.004224     NaN\n",
      "200702 -0.017763 -0.019569     NaN\n",
      "200703 -0.011198 -0.002130     NaN\n",
      "\n",
      "[200704 rows x 3 columns]\n",
      "(100, 32, 32, 3)\n",
      "32 res2c_branch2b\n"
     ]
    },
    {
     "name": "stderr",
     "output_type": "stream",
     "text": [
      "C:\\Users\\benza-ord\\anaconda3\\envs\\keras-gpu\\lib\\site-packages\\ipykernel_launcher.py:49: UserWarning: Update your `Model` call to the Keras 2 API: `Model(inputs=[<tf.Tenso..., outputs=Tensor(\"re...)`\n"
     ]
    },
    {
     "name": "stdout",
     "output_type": "stream",
     "text": [
      "preds (100, 56, 56, 64)\n",
      "(200704, 100)\n",
      "             PC1       PC2  target\n",
      "0       0.023234  0.013586     6.0\n",
      "1       0.034939  0.010139     6.0\n",
      "2      -0.033741 -0.002500     6.0\n",
      "3      -0.042369 -0.001113     6.0\n",
      "4       0.011311 -0.008241     6.0\n",
      "...          ...       ...     ...\n",
      "200699  0.010370  0.018900     NaN\n",
      "200700  0.003675  0.023551     NaN\n",
      "200701 -0.004329 -0.004224     NaN\n",
      "200702 -0.017764 -0.019568     NaN\n",
      "200703 -0.011198 -0.002129     NaN\n",
      "\n",
      "[200704 rows x 3 columns]\n",
      "(100, 32, 32, 3)\n",
      "32 res2c_branch2b\n"
     ]
    },
    {
     "name": "stderr",
     "output_type": "stream",
     "text": [
      "C:\\Users\\benza-ord\\anaconda3\\envs\\keras-gpu\\lib\\site-packages\\ipykernel_launcher.py:49: UserWarning: Update your `Model` call to the Keras 2 API: `Model(inputs=[<tf.Tenso..., outputs=Tensor(\"re...)`\n"
     ]
    },
    {
     "name": "stdout",
     "output_type": "stream",
     "text": [
      "preds (100, 56, 56, 64)\n",
      "(200704, 100)\n",
      "             PC1       PC2  target\n",
      "0       0.023238  0.013583     7.0\n",
      "1       0.034939  0.010138     7.0\n",
      "2      -0.033746 -0.002500     7.0\n",
      "3      -0.042369 -0.001117     7.0\n",
      "4       0.011312 -0.008239     7.0\n",
      "...          ...       ...     ...\n",
      "200699  0.010368  0.018901     NaN\n",
      "200700  0.003673  0.023552     NaN\n",
      "200701 -0.004329 -0.004224     NaN\n",
      "200702 -0.017762 -0.019569     NaN\n",
      "200703 -0.011198 -0.002130     NaN\n",
      "\n",
      "[200704 rows x 3 columns]\n",
      "(100, 32, 32, 3)\n",
      "32 res2c_branch2b\n"
     ]
    },
    {
     "name": "stderr",
     "output_type": "stream",
     "text": [
      "C:\\Users\\benza-ord\\anaconda3\\envs\\keras-gpu\\lib\\site-packages\\ipykernel_launcher.py:49: UserWarning: Update your `Model` call to the Keras 2 API: `Model(inputs=[<tf.Tenso..., outputs=Tensor(\"re...)`\n"
     ]
    },
    {
     "name": "stdout",
     "output_type": "stream",
     "text": [
      "preds (100, 56, 56, 64)\n",
      "(200704, 100)\n",
      "             PC1       PC2  target\n",
      "0       0.023239  0.013587     8.0\n",
      "1       0.034934  0.010142     8.0\n",
      "2      -0.033743 -0.002505     8.0\n",
      "3      -0.042369 -0.001116     8.0\n",
      "4       0.011312 -0.008240     8.0\n",
      "...          ...       ...     ...\n",
      "200699  0.010369  0.018901     NaN\n",
      "200700  0.003674  0.023551     NaN\n",
      "200701 -0.004329 -0.004224     NaN\n",
      "200702 -0.017763 -0.019568     NaN\n",
      "200703 -0.011198 -0.002130     NaN\n",
      "\n",
      "[200704 rows x 3 columns]\n",
      "(100, 32, 32, 3)\n",
      "32 res2c_branch2b\n"
     ]
    },
    {
     "name": "stderr",
     "output_type": "stream",
     "text": [
      "C:\\Users\\benza-ord\\anaconda3\\envs\\keras-gpu\\lib\\site-packages\\ipykernel_launcher.py:49: UserWarning: Update your `Model` call to the Keras 2 API: `Model(inputs=[<tf.Tenso..., outputs=Tensor(\"re...)`\n"
     ]
    },
    {
     "name": "stdout",
     "output_type": "stream",
     "text": [
      "preds (100, 56, 56, 64)\n",
      "(200704, 100)\n",
      "             PC1       PC2  target\n",
      "0       0.023234  0.013576     9.0\n",
      "1       0.034935  0.010151     9.0\n",
      "2      -0.033745 -0.002500     9.0\n",
      "3      -0.042370 -0.001116     9.0\n",
      "4       0.011312 -0.008240     9.0\n",
      "...          ...       ...     ...\n",
      "200699  0.010367  0.018902     NaN\n",
      "200700  0.003673  0.023551     NaN\n",
      "200701 -0.004330 -0.004223     NaN\n",
      "200702 -0.017761 -0.019570     NaN\n",
      "200703 -0.011198 -0.002130     NaN\n",
      "\n",
      "[200704 rows x 3 columns]\n",
      "(100, 32, 32, 3)\n",
      "35 res2c_branch2c\n"
     ]
    },
    {
     "name": "stderr",
     "output_type": "stream",
     "text": [
      "C:\\Users\\benza-ord\\anaconda3\\envs\\keras-gpu\\lib\\site-packages\\ipykernel_launcher.py:49: UserWarning: Update your `Model` call to the Keras 2 API: `Model(inputs=[<tf.Tenso..., outputs=Tensor(\"re...)`\n"
     ]
    },
    {
     "name": "stdout",
     "output_type": "stream",
     "text": [
      "preds (100, 56, 56, 256)\n",
      "(802816, 100)\n",
      "             PC1       PC2  target\n",
      "0       0.016013 -0.015635     0.0\n",
      "1      -0.004703  0.015051     0.0\n",
      "2       0.014540  0.020044     0.0\n",
      "3      -0.007195  0.004738     0.0\n",
      "4      -0.007601 -0.006141     0.0\n",
      "...          ...       ...     ...\n",
      "802811  0.021354  0.002733     NaN\n",
      "802812 -0.011894  0.007112     NaN\n",
      "802813 -0.020402 -0.003168     NaN\n",
      "802814 -0.006199  0.005870     NaN\n",
      "802815 -0.001596  0.002406     NaN\n",
      "\n",
      "[802816 rows x 3 columns]\n",
      "(100, 32, 32, 3)\n",
      "35 res2c_branch2c\n"
     ]
    },
    {
     "name": "stderr",
     "output_type": "stream",
     "text": [
      "C:\\Users\\benza-ord\\anaconda3\\envs\\keras-gpu\\lib\\site-packages\\ipykernel_launcher.py:49: UserWarning: Update your `Model` call to the Keras 2 API: `Model(inputs=[<tf.Tenso..., outputs=Tensor(\"re...)`\n"
     ]
    },
    {
     "name": "stdout",
     "output_type": "stream",
     "text": [
      "preds (100, 56, 56, 256)\n",
      "(802816, 100)\n",
      "             PC1       PC2  target\n",
      "0       0.016049 -0.015812     1.0\n",
      "1      -0.004608  0.014739     1.0\n",
      "2       0.014540  0.020049     1.0\n",
      "3      -0.007199  0.004935     1.0\n",
      "4      -0.007531 -0.006293     1.0\n",
      "...          ...       ...     ...\n",
      "802811  0.021430  0.002592     NaN\n",
      "802812 -0.011925  0.007080     NaN\n",
      "802813 -0.020496 -0.002967     NaN\n",
      "802814 -0.006139  0.005553     NaN\n",
      "802815 -0.001673  0.002721     NaN\n",
      "\n",
      "[802816 rows x 3 columns]\n",
      "(100, 32, 32, 3)\n",
      "35 res2c_branch2c\n"
     ]
    },
    {
     "name": "stderr",
     "output_type": "stream",
     "text": [
      "C:\\Users\\benza-ord\\anaconda3\\envs\\keras-gpu\\lib\\site-packages\\ipykernel_launcher.py:49: UserWarning: Update your `Model` call to the Keras 2 API: `Model(inputs=[<tf.Tenso..., outputs=Tensor(\"re...)`\n"
     ]
    },
    {
     "name": "stdout",
     "output_type": "stream",
     "text": [
      "preds (100, 56, 56, 256)\n",
      "(802816, 100)\n",
      "             PC1       PC2  target\n",
      "0       0.015943 -0.015695     2.0\n",
      "1      -0.004631  0.014921     2.0\n",
      "2       0.014455  0.020016     2.0\n",
      "3      -0.007080  0.004755     2.0\n",
      "4      -0.007577 -0.006267     2.0\n",
      "...          ...       ...     ...\n",
      "802811  0.021383  0.002727     NaN\n",
      "802812 -0.012030  0.007143     NaN\n",
      "802813 -0.020368 -0.003188     NaN\n",
      "802814 -0.006233  0.005836     NaN\n",
      "802815 -0.001676  0.002394     NaN\n",
      "\n",
      "[802816 rows x 3 columns]\n",
      "(100, 32, 32, 3)\n",
      "35 res2c_branch2c\n"
     ]
    },
    {
     "name": "stderr",
     "output_type": "stream",
     "text": [
      "C:\\Users\\benza-ord\\anaconda3\\envs\\keras-gpu\\lib\\site-packages\\ipykernel_launcher.py:49: UserWarning: Update your `Model` call to the Keras 2 API: `Model(inputs=[<tf.Tenso..., outputs=Tensor(\"re...)`\n"
     ]
    },
    {
     "name": "stdout",
     "output_type": "stream",
     "text": [
      "preds (100, 56, 56, 256)\n",
      "(802816, 100)\n",
      "             PC1       PC2  target\n",
      "0       0.015999 -0.015662     3.0\n",
      "1      -0.004754  0.014899     3.0\n",
      "2       0.014402  0.019943     3.0\n",
      "3      -0.007149  0.004805     3.0\n",
      "4      -0.007787 -0.006280     3.0\n",
      "...          ...       ...     ...\n",
      "802811  0.021362  0.002778     NaN\n",
      "802812 -0.011944  0.007165     NaN\n",
      "802813 -0.020363 -0.003182     NaN\n",
      "802814 -0.006241  0.005842     NaN\n",
      "802815 -0.001540  0.002548     NaN\n",
      "\n",
      "[802816 rows x 3 columns]\n",
      "(100, 32, 32, 3)\n",
      "35 res2c_branch2c\n"
     ]
    },
    {
     "name": "stderr",
     "output_type": "stream",
     "text": [
      "C:\\Users\\benza-ord\\anaconda3\\envs\\keras-gpu\\lib\\site-packages\\ipykernel_launcher.py:49: UserWarning: Update your `Model` call to the Keras 2 API: `Model(inputs=[<tf.Tenso..., outputs=Tensor(\"re...)`\n"
     ]
    },
    {
     "name": "stdout",
     "output_type": "stream",
     "text": [
      "preds (100, 56, 56, 256)\n",
      "(802816, 100)\n",
      "             PC1       PC2  target\n",
      "0       0.015992 -0.015644     4.0\n",
      "1      -0.004741  0.015061     4.0\n",
      "2       0.014559  0.020155     4.0\n",
      "3      -0.007089  0.004693     4.0\n",
      "4      -0.007790 -0.006025     4.0\n",
      "...          ...       ...     ...\n",
      "802811  0.021377  0.002712     NaN\n",
      "802812 -0.012090  0.007162     NaN\n",
      "802813 -0.020329 -0.003193     NaN\n",
      "802814 -0.006332  0.005968     NaN\n",
      "802815 -0.001621  0.002377     NaN\n",
      "\n",
      "[802816 rows x 3 columns]\n",
      "(100, 32, 32, 3)\n",
      "35 res2c_branch2c\n"
     ]
    },
    {
     "name": "stderr",
     "output_type": "stream",
     "text": [
      "C:\\Users\\benza-ord\\anaconda3\\envs\\keras-gpu\\lib\\site-packages\\ipykernel_launcher.py:49: UserWarning: Update your `Model` call to the Keras 2 API: `Model(inputs=[<tf.Tenso..., outputs=Tensor(\"re...)`\n"
     ]
    },
    {
     "name": "stdout",
     "output_type": "stream",
     "text": [
      "preds (100, 56, 56, 256)\n",
      "(802816, 100)\n",
      "             PC1       PC2  target\n",
      "0       0.015935 -0.015634     5.0\n",
      "1      -0.004679  0.014869     5.0\n",
      "2       0.014564  0.019968     5.0\n",
      "3      -0.007233  0.004815     5.0\n",
      "4      -0.007709 -0.006114     5.0\n",
      "...          ...       ...     ...\n",
      "802811  0.021418  0.002547     NaN\n",
      "802812 -0.012027  0.007259     NaN\n",
      "802813 -0.020472 -0.003086     NaN\n",
      "802814 -0.006228  0.005826     NaN\n",
      "802815 -0.001744  0.002627     NaN\n",
      "\n",
      "[802816 rows x 3 columns]\n",
      "(100, 32, 32, 3)\n",
      "35 res2c_branch2c\n"
     ]
    },
    {
     "name": "stderr",
     "output_type": "stream",
     "text": [
      "C:\\Users\\benza-ord\\anaconda3\\envs\\keras-gpu\\lib\\site-packages\\ipykernel_launcher.py:49: UserWarning: Update your `Model` call to the Keras 2 API: `Model(inputs=[<tf.Tenso..., outputs=Tensor(\"re...)`\n"
     ]
    },
    {
     "name": "stdout",
     "output_type": "stream",
     "text": [
      "preds (100, 56, 56, 256)\n",
      "(802816, 100)\n",
      "             PC1       PC2  target\n",
      "0       0.015981 -0.015881     6.0\n",
      "1      -0.004635  0.014951     6.0\n",
      "2       0.014436  0.019794     6.0\n",
      "3      -0.007147  0.005060     6.0\n",
      "4      -0.007626 -0.006094     6.0\n",
      "...          ...       ...     ...\n",
      "802811  0.021398  0.002760     NaN\n",
      "802812 -0.011952  0.007226     NaN\n",
      "802813 -0.020448 -0.003369     NaN\n",
      "802814 -0.006187  0.005872     NaN\n",
      "802815 -0.001720  0.002131     NaN\n",
      "\n",
      "[802816 rows x 3 columns]\n",
      "(100, 32, 32, 3)\n",
      "35 res2c_branch2c\n"
     ]
    },
    {
     "name": "stderr",
     "output_type": "stream",
     "text": [
      "C:\\Users\\benza-ord\\anaconda3\\envs\\keras-gpu\\lib\\site-packages\\ipykernel_launcher.py:49: UserWarning: Update your `Model` call to the Keras 2 API: `Model(inputs=[<tf.Tenso..., outputs=Tensor(\"re...)`\n"
     ]
    },
    {
     "name": "stdout",
     "output_type": "stream",
     "text": [
      "preds (100, 56, 56, 256)\n",
      "(802816, 100)\n",
      "             PC1       PC2  target\n",
      "0       0.016041 -0.015762     7.0\n",
      "1      -0.004699  0.014960     7.0\n",
      "2       0.014455  0.020164     7.0\n",
      "3      -0.007118  0.004752     7.0\n",
      "4      -0.007738 -0.006100     7.0\n",
      "...          ...       ...     ...\n",
      "802811  0.021283  0.002751     NaN\n",
      "802812 -0.011985  0.007219     NaN\n",
      "802813 -0.020363 -0.003081     NaN\n",
      "802814 -0.006137  0.005753     NaN\n",
      "802815 -0.001608  0.002387     NaN\n",
      "\n",
      "[802816 rows x 3 columns]\n",
      "(100, 32, 32, 3)\n",
      "35 res2c_branch2c\n"
     ]
    },
    {
     "name": "stderr",
     "output_type": "stream",
     "text": [
      "C:\\Users\\benza-ord\\anaconda3\\envs\\keras-gpu\\lib\\site-packages\\ipykernel_launcher.py:49: UserWarning: Update your `Model` call to the Keras 2 API: `Model(inputs=[<tf.Tenso..., outputs=Tensor(\"re...)`\n"
     ]
    },
    {
     "name": "stdout",
     "output_type": "stream",
     "text": [
      "preds (100, 56, 56, 256)\n",
      "(802816, 100)\n",
      "             PC1       PC2  target\n",
      "0       0.016123 -0.015688     8.0\n",
      "1      -0.004709  0.014868     8.0\n",
      "2       0.014469  0.020064     8.0\n",
      "3      -0.007369  0.004792     8.0\n",
      "4      -0.007814 -0.006214     8.0\n",
      "...          ...       ...     ...\n",
      "802811  0.021226  0.002649     NaN\n",
      "802812 -0.011921  0.007175     NaN\n",
      "802813 -0.020290 -0.003149     NaN\n",
      "802814 -0.006147  0.005778     NaN\n",
      "802815 -0.001543  0.002476     NaN\n",
      "\n",
      "[802816 rows x 3 columns]\n",
      "(100, 32, 32, 3)\n",
      "35 res2c_branch2c\n"
     ]
    },
    {
     "name": "stderr",
     "output_type": "stream",
     "text": [
      "C:\\Users\\benza-ord\\anaconda3\\envs\\keras-gpu\\lib\\site-packages\\ipykernel_launcher.py:49: UserWarning: Update your `Model` call to the Keras 2 API: `Model(inputs=[<tf.Tenso..., outputs=Tensor(\"re...)`\n"
     ]
    },
    {
     "name": "stdout",
     "output_type": "stream",
     "text": [
      "preds (100, 56, 56, 256)\n",
      "(802816, 100)\n",
      "             PC1       PC2  target\n",
      "0       0.016136 -0.015443     9.0\n",
      "1      -0.004687  0.015012     9.0\n",
      "2       0.014577  0.020353     9.0\n",
      "3      -0.007191  0.004647     9.0\n",
      "4      -0.007513 -0.005905     9.0\n",
      "...          ...       ...     ...\n",
      "802811  0.021295  0.002589     NaN\n",
      "802812 -0.011959  0.007203     NaN\n",
      "802813 -0.020451 -0.003373     NaN\n",
      "802814 -0.006103  0.006028     NaN\n",
      "802815 -0.001600  0.002384     NaN\n",
      "\n",
      "[802816 rows x 3 columns]\n",
      "(100, 32, 32, 3)\n",
      "39 res3a_branch2a\n"
     ]
    },
    {
     "name": "stderr",
     "output_type": "stream",
     "text": [
      "C:\\Users\\benza-ord\\anaconda3\\envs\\keras-gpu\\lib\\site-packages\\ipykernel_launcher.py:49: UserWarning: Update your `Model` call to the Keras 2 API: `Model(inputs=[<tf.Tenso..., outputs=Tensor(\"re...)`\n"
     ]
    },
    {
     "name": "stdout",
     "output_type": "stream",
     "text": [
      "preds (100, 28, 28, 128)\n",
      "(100352, 100)\n",
      "             PC1       PC2  target\n",
      "0      -0.014999  0.014102     0.0\n",
      "1      -0.006182  0.039270     0.0\n",
      "2       0.048863  0.018321     0.0\n",
      "3      -0.015489 -0.031975     0.0\n",
      "4      -0.055205 -0.013605     0.0\n",
      "...          ...       ...     ...\n",
      "100347  0.036682  0.026675     NaN\n",
      "100348  0.006764  0.007971     NaN\n",
      "100349 -0.046004 -0.015187     NaN\n",
      "100350  0.000839 -0.027909     NaN\n",
      "100351  0.038647 -0.029531     NaN\n",
      "\n",
      "[100352 rows x 3 columns]\n",
      "(100, 32, 32, 3)\n",
      "39 res3a_branch2a\n"
     ]
    },
    {
     "name": "stderr",
     "output_type": "stream",
     "text": [
      "C:\\Users\\benza-ord\\anaconda3\\envs\\keras-gpu\\lib\\site-packages\\ipykernel_launcher.py:49: UserWarning: Update your `Model` call to the Keras 2 API: `Model(inputs=[<tf.Tenso..., outputs=Tensor(\"re...)`\n"
     ]
    },
    {
     "name": "stdout",
     "output_type": "stream",
     "text": [
      "preds (100, 28, 28, 128)\n",
      "(100352, 100)\n",
      "             PC1       PC2  target\n",
      "0      -0.015058  0.014360     1.0\n",
      "1      -0.006137  0.039303     1.0\n",
      "2       0.048866  0.018150     1.0\n",
      "3      -0.015475 -0.032158     1.0\n",
      "4      -0.055187 -0.013822     1.0\n",
      "...          ...       ...     ...\n",
      "100347  0.036662  0.026767     NaN\n",
      "100348  0.006776  0.007823     NaN\n",
      "100349 -0.045990 -0.015366     NaN\n",
      "100350  0.000858 -0.027808     NaN\n",
      "100351  0.038652 -0.029590     NaN\n",
      "\n",
      "[100352 rows x 3 columns]\n",
      "(100, 32, 32, 3)\n",
      "39 res3a_branch2a\n"
     ]
    },
    {
     "name": "stderr",
     "output_type": "stream",
     "text": [
      "C:\\Users\\benza-ord\\anaconda3\\envs\\keras-gpu\\lib\\site-packages\\ipykernel_launcher.py:49: UserWarning: Update your `Model` call to the Keras 2 API: `Model(inputs=[<tf.Tenso..., outputs=Tensor(\"re...)`\n"
     ]
    },
    {
     "name": "stdout",
     "output_type": "stream",
     "text": [
      "preds (100, 28, 28, 128)\n",
      "(100352, 100)\n",
      "             PC1       PC2  target\n",
      "0      -0.015045  0.014222     2.0\n",
      "1      -0.006154  0.039295     2.0\n",
      "2       0.048873  0.018203     2.0\n",
      "3      -0.015489 -0.032019     2.0\n",
      "4      -0.055193 -0.013688     2.0\n",
      "...          ...       ...     ...\n",
      "100347  0.036664  0.026614     NaN\n",
      "100348  0.006776  0.007938     NaN\n",
      "100349 -0.045980 -0.015185     NaN\n",
      "100350  0.000836 -0.027782     NaN\n",
      "100351  0.038652 -0.029469     NaN\n",
      "\n",
      "[100352 rows x 3 columns]\n",
      "(100, 32, 32, 3)\n",
      "39 res3a_branch2a\n"
     ]
    },
    {
     "name": "stderr",
     "output_type": "stream",
     "text": [
      "C:\\Users\\benza-ord\\anaconda3\\envs\\keras-gpu\\lib\\site-packages\\ipykernel_launcher.py:49: UserWarning: Update your `Model` call to the Keras 2 API: `Model(inputs=[<tf.Tenso..., outputs=Tensor(\"re...)`\n"
     ]
    },
    {
     "name": "stdout",
     "output_type": "stream",
     "text": [
      "preds (100, 28, 28, 128)\n",
      "(100352, 100)\n",
      "             PC1       PC2  target\n",
      "0      -0.015042  0.014180     3.0\n",
      "1      -0.006161  0.039204     3.0\n",
      "2       0.048826  0.018246     3.0\n",
      "3      -0.015485 -0.031959     3.0\n",
      "4      -0.055162 -0.013637     3.0\n",
      "...          ...       ...     ...\n",
      "100347  0.036691  0.026724     NaN\n",
      "100348  0.006759  0.007923     NaN\n",
      "100349 -0.045989 -0.015336     NaN\n",
      "100350  0.000886 -0.027816     NaN\n",
      "100351  0.038644 -0.029532     NaN\n",
      "\n",
      "[100352 rows x 3 columns]\n",
      "(100, 32, 32, 3)\n",
      "39 res3a_branch2a\n"
     ]
    },
    {
     "name": "stderr",
     "output_type": "stream",
     "text": [
      "C:\\Users\\benza-ord\\anaconda3\\envs\\keras-gpu\\lib\\site-packages\\ipykernel_launcher.py:49: UserWarning: Update your `Model` call to the Keras 2 API: `Model(inputs=[<tf.Tenso..., outputs=Tensor(\"re...)`\n"
     ]
    },
    {
     "name": "stdout",
     "output_type": "stream",
     "text": [
      "preds (100, 28, 28, 128)\n",
      "(100352, 100)\n",
      "             PC1       PC2  target\n",
      "0      -0.015048  0.014189     4.0\n",
      "1      -0.006159  0.039258     4.0\n",
      "2       0.048862  0.018338     4.0\n",
      "3      -0.015482 -0.032042     4.0\n",
      "4      -0.055163 -0.013643     4.0\n",
      "...          ...       ...     ...\n",
      "100347  0.036691  0.026693     NaN\n",
      "100348  0.006770  0.007941     NaN\n",
      "100349 -0.045960 -0.015166     NaN\n",
      "100350  0.000837 -0.027927     NaN\n",
      "100351  0.038626 -0.029486     NaN\n",
      "\n",
      "[100352 rows x 3 columns]\n",
      "(100, 32, 32, 3)\n",
      "39 res3a_branch2a\n"
     ]
    },
    {
     "name": "stderr",
     "output_type": "stream",
     "text": [
      "C:\\Users\\benza-ord\\anaconda3\\envs\\keras-gpu\\lib\\site-packages\\ipykernel_launcher.py:49: UserWarning: Update your `Model` call to the Keras 2 API: `Model(inputs=[<tf.Tenso..., outputs=Tensor(\"re...)`\n"
     ]
    },
    {
     "name": "stdout",
     "output_type": "stream",
     "text": [
      "preds (100, 28, 28, 128)\n",
      "(100352, 100)\n",
      "             PC1       PC2  target\n",
      "0      -0.015044  0.014230     5.0\n",
      "1      -0.006149  0.039246     5.0\n",
      "2       0.048866  0.018300     5.0\n",
      "3      -0.015495 -0.031989     5.0\n",
      "4      -0.055192 -0.013742     5.0\n",
      "...          ...       ...     ...\n",
      "100347  0.036651  0.026711     NaN\n",
      "100348  0.006778  0.007922     NaN\n",
      "100349 -0.045964 -0.015286     NaN\n",
      "100350  0.000839 -0.027890     NaN\n",
      "100351  0.038658 -0.029572     NaN\n",
      "\n",
      "[100352 rows x 3 columns]\n",
      "(100, 32, 32, 3)\n",
      "39 res3a_branch2a\n"
     ]
    },
    {
     "name": "stderr",
     "output_type": "stream",
     "text": [
      "C:\\Users\\benza-ord\\anaconda3\\envs\\keras-gpu\\lib\\site-packages\\ipykernel_launcher.py:49: UserWarning: Update your `Model` call to the Keras 2 API: `Model(inputs=[<tf.Tenso..., outputs=Tensor(\"re...)`\n"
     ]
    },
    {
     "name": "stdout",
     "output_type": "stream",
     "text": [
      "preds (100, 28, 28, 128)\n",
      "(100352, 100)\n",
      "             PC1       PC2  target\n",
      "0      -0.015033  0.014183     6.0\n",
      "1      -0.006136  0.039215     6.0\n",
      "2       0.048863  0.018319     6.0\n",
      "3      -0.015485 -0.031987     6.0\n",
      "4      -0.055261 -0.013641     6.0\n",
      "...          ...       ...     ...\n",
      "100347  0.036628  0.026691     NaN\n",
      "100348  0.006801  0.007941     NaN\n",
      "100349 -0.045990 -0.015250     NaN\n",
      "100350  0.000847 -0.027908     NaN\n",
      "100351  0.038639 -0.029503     NaN\n",
      "\n",
      "[100352 rows x 3 columns]\n",
      "(100, 32, 32, 3)\n",
      "39 res3a_branch2a\n"
     ]
    },
    {
     "name": "stderr",
     "output_type": "stream",
     "text": [
      "C:\\Users\\benza-ord\\anaconda3\\envs\\keras-gpu\\lib\\site-packages\\ipykernel_launcher.py:49: UserWarning: Update your `Model` call to the Keras 2 API: `Model(inputs=[<tf.Tenso..., outputs=Tensor(\"re...)`\n"
     ]
    },
    {
     "name": "stdout",
     "output_type": "stream",
     "text": [
      "preds (100, 28, 28, 128)\n",
      "(100352, 100)\n",
      "             PC1       PC2  target\n",
      "0      -0.015043  0.014108     7.0\n",
      "1      -0.006178  0.039316     7.0\n",
      "2       0.048826  0.018382     7.0\n",
      "3      -0.015491 -0.031974     7.0\n",
      "4      -0.055184 -0.013651     7.0\n",
      "...          ...       ...     ...\n",
      "100347  0.036658  0.026656     NaN\n",
      "100348  0.006771  0.007987     NaN\n",
      "100349 -0.045994 -0.015224     NaN\n",
      "100350  0.000873 -0.027940     NaN\n",
      "100351  0.038651 -0.029489     NaN\n",
      "\n",
      "[100352 rows x 3 columns]\n",
      "(100, 32, 32, 3)\n",
      "39 res3a_branch2a\n"
     ]
    },
    {
     "name": "stderr",
     "output_type": "stream",
     "text": [
      "C:\\Users\\benza-ord\\anaconda3\\envs\\keras-gpu\\lib\\site-packages\\ipykernel_launcher.py:49: UserWarning: Update your `Model` call to the Keras 2 API: `Model(inputs=[<tf.Tenso..., outputs=Tensor(\"re...)`\n"
     ]
    },
    {
     "name": "stdout",
     "output_type": "stream",
     "text": [
      "preds (100, 28, 28, 128)\n",
      "(100352, 100)\n",
      "             PC1       PC2  target\n",
      "0      -0.015046  0.014145     8.0\n",
      "1      -0.006162  0.039250     8.0\n",
      "2       0.048856  0.018416     8.0\n",
      "3      -0.015476 -0.031995     8.0\n",
      "4      -0.055181 -0.013643     8.0\n",
      "...          ...       ...     ...\n",
      "100347  0.036683  0.026646     NaN\n",
      "100348  0.006774  0.007967     NaN\n",
      "100349 -0.045996 -0.015102     NaN\n",
      "100350  0.000852 -0.028029     NaN\n",
      "100351  0.038630 -0.029488     NaN\n",
      "\n",
      "[100352 rows x 3 columns]\n",
      "(100, 32, 32, 3)\n",
      "39 res3a_branch2a\n"
     ]
    },
    {
     "name": "stderr",
     "output_type": "stream",
     "text": [
      "C:\\Users\\benza-ord\\anaconda3\\envs\\keras-gpu\\lib\\site-packages\\ipykernel_launcher.py:49: UserWarning: Update your `Model` call to the Keras 2 API: `Model(inputs=[<tf.Tenso..., outputs=Tensor(\"re...)`\n"
     ]
    },
    {
     "name": "stdout",
     "output_type": "stream",
     "text": [
      "preds (100, 28, 28, 128)\n",
      "(100352, 100)\n",
      "             PC1       PC2  target\n",
      "0      -0.015063  0.014189     9.0\n",
      "1      -0.006197  0.039246     9.0\n",
      "2       0.048885  0.018379     9.0\n",
      "3      -0.015433 -0.032038     9.0\n",
      "4      -0.055121 -0.013723     9.0\n",
      "...          ...       ...     ...\n",
      "100347  0.036649  0.026619     NaN\n",
      "100348  0.006718  0.007979     NaN\n",
      "100349 -0.046020 -0.015197     NaN\n",
      "100350  0.000858 -0.027973     NaN\n",
      "100351  0.038651 -0.029446     NaN\n",
      "\n",
      "[100352 rows x 3 columns]\n",
      "(100, 32, 32, 3)\n",
      "42 res3a_branch2b\n"
     ]
    },
    {
     "name": "stderr",
     "output_type": "stream",
     "text": [
      "C:\\Users\\benza-ord\\anaconda3\\envs\\keras-gpu\\lib\\site-packages\\ipykernel_launcher.py:49: UserWarning: Update your `Model` call to the Keras 2 API: `Model(inputs=[<tf.Tenso..., outputs=Tensor(\"re...)`\n"
     ]
    },
    {
     "name": "stdout",
     "output_type": "stream",
     "text": [
      "preds (100, 28, 28, 128)\n",
      "(100352, 100)\n",
      "             PC1       PC2  target\n",
      "0       0.001488  0.004886     0.0\n",
      "1       0.011331  0.010399     0.0\n",
      "2       0.030083  0.006158     0.0\n",
      "3       0.039002 -0.006915     0.0\n",
      "4       0.002897 -0.020228     0.0\n",
      "...          ...       ...     ...\n",
      "100347 -0.019701 -0.003607     NaN\n",
      "100348  0.005349  0.008773     NaN\n",
      "100349  0.034404 -0.006590     NaN\n",
      "100350  0.014311 -0.022643     NaN\n",
      "100351 -0.001716 -0.011337     NaN\n",
      "\n",
      "[100352 rows x 3 columns]\n",
      "(100, 32, 32, 3)\n",
      "42 res3a_branch2b\n"
     ]
    },
    {
     "name": "stderr",
     "output_type": "stream",
     "text": [
      "C:\\Users\\benza-ord\\anaconda3\\envs\\keras-gpu\\lib\\site-packages\\ipykernel_launcher.py:49: UserWarning: Update your `Model` call to the Keras 2 API: `Model(inputs=[<tf.Tenso..., outputs=Tensor(\"re...)`\n"
     ]
    },
    {
     "name": "stdout",
     "output_type": "stream",
     "text": [
      "preds (100, 28, 28, 128)\n",
      "(100352, 100)\n",
      "             PC1       PC2  target\n",
      "0       0.001435  0.004925     1.0\n",
      "1       0.011301  0.010481     1.0\n",
      "2       0.030056  0.006342     1.0\n",
      "3       0.039001 -0.006810     1.0\n",
      "4       0.002900 -0.020307     1.0\n",
      "...          ...       ...     ...\n",
      "100347 -0.019677 -0.003657     NaN\n",
      "100348  0.005296  0.008795     NaN\n",
      "100349  0.034455 -0.006657     NaN\n",
      "100350  0.014309 -0.022744     NaN\n",
      "100351 -0.001708 -0.011411     NaN\n",
      "\n",
      "[100352 rows x 3 columns]\n",
      "(100, 32, 32, 3)\n",
      "42 res3a_branch2b\n"
     ]
    },
    {
     "name": "stderr",
     "output_type": "stream",
     "text": [
      "C:\\Users\\benza-ord\\anaconda3\\envs\\keras-gpu\\lib\\site-packages\\ipykernel_launcher.py:49: UserWarning: Update your `Model` call to the Keras 2 API: `Model(inputs=[<tf.Tenso..., outputs=Tensor(\"re...)`\n"
     ]
    },
    {
     "name": "stdout",
     "output_type": "stream",
     "text": [
      "preds (100, 28, 28, 128)\n",
      "(100352, 100)\n",
      "             PC1       PC2  target\n",
      "0       0.001435 -0.004871     2.0\n",
      "1       0.011409 -0.010349     2.0\n",
      "2       0.030034 -0.006182     2.0\n",
      "3       0.038921  0.006717     2.0\n",
      "4       0.002775  0.020068     2.0\n",
      "...          ...       ...     ...\n",
      "100347 -0.019692  0.003570     NaN\n",
      "100348  0.005326 -0.008804     NaN\n",
      "100349  0.034491  0.006678     NaN\n",
      "100350  0.014302  0.022682     NaN\n",
      "100351 -0.001668  0.011402     NaN\n",
      "\n",
      "[100352 rows x 3 columns]\n",
      "(100, 32, 32, 3)\n",
      "42 res3a_branch2b\n"
     ]
    },
    {
     "name": "stderr",
     "output_type": "stream",
     "text": [
      "C:\\Users\\benza-ord\\anaconda3\\envs\\keras-gpu\\lib\\site-packages\\ipykernel_launcher.py:49: UserWarning: Update your `Model` call to the Keras 2 API: `Model(inputs=[<tf.Tenso..., outputs=Tensor(\"re...)`\n"
     ]
    },
    {
     "name": "stdout",
     "output_type": "stream",
     "text": [
      "preds (100, 28, 28, 128)\n",
      "(100352, 100)\n",
      "             PC1       PC2  target\n",
      "0       0.001460  0.004888     3.0\n",
      "1       0.011312  0.010481     3.0\n",
      "2       0.030138  0.006327     3.0\n",
      "3       0.038992 -0.006765     3.0\n",
      "4       0.002942 -0.020298     3.0\n",
      "...          ...       ...     ...\n",
      "100347 -0.019667 -0.003634     NaN\n",
      "100348  0.005319  0.008789     NaN\n",
      "100349  0.034401 -0.006618     NaN\n",
      "100350  0.014265 -0.022779     NaN\n",
      "100351 -0.001696 -0.011441     NaN\n",
      "\n",
      "[100352 rows x 3 columns]\n",
      "(100, 32, 32, 3)\n",
      "42 res3a_branch2b\n"
     ]
    },
    {
     "name": "stderr",
     "output_type": "stream",
     "text": [
      "C:\\Users\\benza-ord\\anaconda3\\envs\\keras-gpu\\lib\\site-packages\\ipykernel_launcher.py:49: UserWarning: Update your `Model` call to the Keras 2 API: `Model(inputs=[<tf.Tenso..., outputs=Tensor(\"re...)`\n"
     ]
    },
    {
     "name": "stdout",
     "output_type": "stream",
     "text": [
      "preds (100, 28, 28, 128)\n",
      "(100352, 100)\n",
      "             PC1       PC2  target\n",
      "0       0.001453 -0.004567     4.0\n",
      "1       0.011367 -0.010182     4.0\n",
      "2       0.030108 -0.006422     4.0\n",
      "3       0.038808  0.007411     4.0\n",
      "4       0.002807  0.020184     4.0\n",
      "...          ...       ...     ...\n",
      "100347 -0.019707  0.003343     NaN\n",
      "100348  0.005383 -0.008880     NaN\n",
      "100349  0.034515  0.006560     NaN\n",
      "100350  0.014414  0.022519     NaN\n",
      "100351 -0.001727  0.011464     NaN\n",
      "\n",
      "[100352 rows x 3 columns]\n",
      "(100, 32, 32, 3)\n",
      "42 res3a_branch2b\n"
     ]
    },
    {
     "name": "stderr",
     "output_type": "stream",
     "text": [
      "C:\\Users\\benza-ord\\anaconda3\\envs\\keras-gpu\\lib\\site-packages\\ipykernel_launcher.py:49: UserWarning: Update your `Model` call to the Keras 2 API: `Model(inputs=[<tf.Tenso..., outputs=Tensor(\"re...)`\n"
     ]
    },
    {
     "name": "stdout",
     "output_type": "stream",
     "text": [
      "preds (100, 28, 28, 128)\n",
      "(100352, 100)\n",
      "             PC1       PC2  target\n",
      "0       0.001429  0.004845     5.0\n",
      "1       0.011357  0.010494     5.0\n",
      "2       0.030055  0.006263     5.0\n",
      "3       0.038970 -0.006770     5.0\n",
      "4       0.002774 -0.020375     5.0\n",
      "...          ...       ...     ...\n",
      "100347 -0.019721 -0.003584     NaN\n",
      "100348  0.005319  0.008741     NaN\n",
      "100349  0.034570 -0.006498     NaN\n",
      "100350  0.014307 -0.022758     NaN\n",
      "100351 -0.001696 -0.011427     NaN\n",
      "\n",
      "[100352 rows x 3 columns]\n",
      "(100, 32, 32, 3)\n",
      "42 res3a_branch2b\n"
     ]
    },
    {
     "name": "stderr",
     "output_type": "stream",
     "text": [
      "C:\\Users\\benza-ord\\anaconda3\\envs\\keras-gpu\\lib\\site-packages\\ipykernel_launcher.py:49: UserWarning: Update your `Model` call to the Keras 2 API: `Model(inputs=[<tf.Tenso..., outputs=Tensor(\"re...)`\n"
     ]
    },
    {
     "name": "stdout",
     "output_type": "stream",
     "text": [
      "preds (100, 28, 28, 128)\n",
      "(100352, 100)\n",
      "             PC1       PC2  target\n",
      "0       0.001462  0.004942     6.0\n",
      "1       0.011375  0.010436     6.0\n",
      "2       0.030030  0.006448     6.0\n",
      "3       0.038941 -0.007230     6.0\n",
      "4       0.002802 -0.020454     6.0\n",
      "...          ...       ...     ...\n",
      "100347 -0.019728 -0.003667     NaN\n",
      "100348  0.005276  0.009074     NaN\n",
      "100349  0.034491 -0.006557     NaN\n",
      "100350  0.014291 -0.022425     NaN\n",
      "100351 -0.001688 -0.011421     NaN\n",
      "\n",
      "[100352 rows x 3 columns]\n",
      "(100, 32, 32, 3)\n",
      "42 res3a_branch2b\n"
     ]
    },
    {
     "name": "stderr",
     "output_type": "stream",
     "text": [
      "C:\\Users\\benza-ord\\anaconda3\\envs\\keras-gpu\\lib\\site-packages\\ipykernel_launcher.py:49: UserWarning: Update your `Model` call to the Keras 2 API: `Model(inputs=[<tf.Tenso..., outputs=Tensor(\"re...)`\n"
     ]
    },
    {
     "name": "stdout",
     "output_type": "stream",
     "text": [
      "preds (100, 28, 28, 128)\n",
      "(100352, 100)\n",
      "             PC1       PC2  target\n",
      "0       0.001430 -0.004965     7.0\n",
      "1       0.011357 -0.010427     7.0\n",
      "2       0.029994 -0.006252     7.0\n",
      "3       0.039021  0.006907     7.0\n",
      "4       0.002806  0.020180     7.0\n",
      "...          ...       ...     ...\n",
      "100347 -0.019667  0.003699     NaN\n",
      "100348  0.005265 -0.008841     NaN\n",
      "100349  0.034539  0.006755     NaN\n",
      "100350  0.014287  0.022664     NaN\n",
      "100351 -0.001663  0.011420     NaN\n",
      "\n",
      "[100352 rows x 3 columns]\n",
      "(100, 32, 32, 3)\n",
      "42 res3a_branch2b\n"
     ]
    },
    {
     "name": "stderr",
     "output_type": "stream",
     "text": [
      "C:\\Users\\benza-ord\\anaconda3\\envs\\keras-gpu\\lib\\site-packages\\ipykernel_launcher.py:49: UserWarning: Update your `Model` call to the Keras 2 API: `Model(inputs=[<tf.Tenso..., outputs=Tensor(\"re...)`\n"
     ]
    },
    {
     "name": "stdout",
     "output_type": "stream",
     "text": [
      "preds (100, 28, 28, 128)\n",
      "(100352, 100)\n",
      "             PC1       PC2  target\n",
      "0       0.001465  0.005136     8.0\n",
      "1       0.010947  0.010441     8.0\n",
      "2       0.030094  0.006539     8.0\n",
      "3       0.038430 -0.006665     8.0\n",
      "4       0.003139 -0.020151     8.0\n",
      "...          ...       ...     ...\n",
      "100347 -0.019615 -0.003702     NaN\n",
      "100348  0.005490  0.008866     NaN\n",
      "100349  0.034549 -0.006948     NaN\n",
      "100350  0.014597 -0.022716     NaN\n",
      "100351 -0.001629 -0.011530     NaN\n",
      "\n",
      "[100352 rows x 3 columns]\n",
      "(100, 32, 32, 3)\n",
      "42 res3a_branch2b\n"
     ]
    },
    {
     "name": "stderr",
     "output_type": "stream",
     "text": [
      "C:\\Users\\benza-ord\\anaconda3\\envs\\keras-gpu\\lib\\site-packages\\ipykernel_launcher.py:49: UserWarning: Update your `Model` call to the Keras 2 API: `Model(inputs=[<tf.Tenso..., outputs=Tensor(\"re...)`\n"
     ]
    },
    {
     "name": "stdout",
     "output_type": "stream",
     "text": [
      "preds (100, 28, 28, 128)\n",
      "(100352, 100)\n",
      "             PC1       PC2  target\n",
      "0       0.001366 -0.005071     9.0\n",
      "1       0.011200 -0.010621     9.0\n",
      "2       0.030105 -0.006430     9.0\n",
      "3       0.038900  0.006727     9.0\n",
      "4       0.002808  0.020100     9.0\n",
      "...          ...       ...     ...\n",
      "100347 -0.019614  0.003698     NaN\n",
      "100348  0.005188 -0.008971     NaN\n",
      "100349  0.034585  0.006764     NaN\n",
      "100350  0.014255  0.022557     NaN\n",
      "100351 -0.001622  0.011573     NaN\n",
      "\n",
      "[100352 rows x 3 columns]\n",
      "(100, 32, 32, 3)\n",
      "45 res3a_branch2c\n"
     ]
    },
    {
     "name": "stderr",
     "output_type": "stream",
     "text": [
      "C:\\Users\\benza-ord\\anaconda3\\envs\\keras-gpu\\lib\\site-packages\\ipykernel_launcher.py:49: UserWarning: Update your `Model` call to the Keras 2 API: `Model(inputs=[<tf.Tenso..., outputs=Tensor(\"re...)`\n"
     ]
    },
    {
     "name": "stdout",
     "output_type": "stream",
     "text": [
      "preds (100, 28, 28, 512)\n",
      "(401408, 100)\n",
      "             PC1       PC2  target\n",
      "0       0.013238  0.004866     0.0\n",
      "1      -0.018441  0.003425     0.0\n",
      "2      -0.006626 -0.000089     0.0\n",
      "3       0.021906 -0.003895     0.0\n",
      "4       0.002328  0.017009     0.0\n",
      "...          ...       ...     ...\n",
      "401403 -0.001858 -0.004541     NaN\n",
      "401404  0.004608 -0.012116     NaN\n",
      "401405 -0.010553 -0.015395     NaN\n",
      "401406  0.003175 -0.011672     NaN\n",
      "401407 -0.014546 -0.004916     NaN\n",
      "\n",
      "[401408 rows x 3 columns]\n",
      "(100, 32, 32, 3)\n",
      "45 res3a_branch2c\n"
     ]
    },
    {
     "name": "stderr",
     "output_type": "stream",
     "text": [
      "C:\\Users\\benza-ord\\anaconda3\\envs\\keras-gpu\\lib\\site-packages\\ipykernel_launcher.py:49: UserWarning: Update your `Model` call to the Keras 2 API: `Model(inputs=[<tf.Tenso..., outputs=Tensor(\"re...)`\n"
     ]
    },
    {
     "name": "stdout",
     "output_type": "stream",
     "text": [
      "preds (100, 28, 28, 512)\n",
      "(401408, 100)\n",
      "             PC1       PC2  target\n",
      "0       0.014462  0.006131     1.0\n",
      "1      -0.017812  0.004563     1.0\n",
      "2      -0.007181 -0.000966     1.0\n",
      "3       0.021498 -0.007519     1.0\n",
      "4       0.004436  0.020672     1.0\n",
      "...          ...       ...     ...\n",
      "401403 -0.002077 -0.003066     NaN\n",
      "401404  0.004081 -0.009109     NaN\n",
      "401405 -0.011320 -0.014657     NaN\n",
      "401406  0.003078 -0.013784     NaN\n",
      "401407 -0.014099 -0.004721     NaN\n",
      "\n",
      "[401408 rows x 3 columns]\n",
      "(100, 32, 32, 3)\n",
      "45 res3a_branch2c\n"
     ]
    },
    {
     "name": "stderr",
     "output_type": "stream",
     "text": [
      "C:\\Users\\benza-ord\\anaconda3\\envs\\keras-gpu\\lib\\site-packages\\ipykernel_launcher.py:49: UserWarning: Update your `Model` call to the Keras 2 API: `Model(inputs=[<tf.Tenso..., outputs=Tensor(\"re...)`\n"
     ]
    },
    {
     "name": "stdout",
     "output_type": "stream",
     "text": [
      "preds (100, 28, 28, 512)\n",
      "(401408, 100)\n",
      "             PC1       PC2  target\n",
      "0      -0.012868  0.001561     2.0\n",
      "1       0.018238  0.002884     2.0\n",
      "2       0.009351 -0.004953     2.0\n",
      "3      -0.022310 -0.004670     2.0\n",
      "4      -0.002701  0.021846     2.0\n",
      "...          ...       ...     ...\n",
      "401403  0.000761 -0.002847     NaN\n",
      "401404 -0.003228 -0.011953     NaN\n",
      "401405  0.010259 -0.017870     NaN\n",
      "401406 -0.004133 -0.011839     NaN\n",
      "401407  0.014300 -0.001818     NaN\n",
      "\n",
      "[401408 rows x 3 columns]\n",
      "(100, 32, 32, 3)\n",
      "45 res3a_branch2c\n"
     ]
    },
    {
     "name": "stderr",
     "output_type": "stream",
     "text": [
      "C:\\Users\\benza-ord\\anaconda3\\envs\\keras-gpu\\lib\\site-packages\\ipykernel_launcher.py:49: UserWarning: Update your `Model` call to the Keras 2 API: `Model(inputs=[<tf.Tenso..., outputs=Tensor(\"re...)`\n"
     ]
    },
    {
     "name": "stdout",
     "output_type": "stream",
     "text": [
      "preds (100, 28, 28, 512)\n",
      "(401408, 100)\n",
      "             PC1       PC2  target\n",
      "0       0.014499  0.003680     3.0\n",
      "1      -0.017705  0.003837     3.0\n",
      "2      -0.010274  0.000089     3.0\n",
      "3       0.022065 -0.007642     3.0\n",
      "4       0.003406  0.020530     3.0\n",
      "...          ...       ...     ...\n",
      "401403 -0.001351 -0.004234     NaN\n",
      "401404  0.002815 -0.011313     NaN\n",
      "401405 -0.014056 -0.015759     NaN\n",
      "401406  0.002745 -0.008859     NaN\n",
      "401407 -0.012670 -0.004400     NaN\n",
      "\n",
      "[401408 rows x 3 columns]\n",
      "(100, 32, 32, 3)\n",
      "45 res3a_branch2c\n"
     ]
    },
    {
     "name": "stderr",
     "output_type": "stream",
     "text": [
      "C:\\Users\\benza-ord\\anaconda3\\envs\\keras-gpu\\lib\\site-packages\\ipykernel_launcher.py:49: UserWarning: Update your `Model` call to the Keras 2 API: `Model(inputs=[<tf.Tenso..., outputs=Tensor(\"re...)`\n"
     ]
    },
    {
     "name": "stdout",
     "output_type": "stream",
     "text": [
      "preds (100, 28, 28, 512)\n",
      "(401408, 100)\n",
      "             PC1       PC2  target\n",
      "0      -0.014680  0.003175     4.0\n",
      "1       0.016220  0.002266     4.0\n",
      "2       0.009743  0.000352     4.0\n",
      "3      -0.018940 -0.005436     4.0\n",
      "4      -0.006305  0.018855     4.0\n",
      "...          ...       ...     ...\n",
      "401403 -0.000022 -0.001047     NaN\n",
      "401404 -0.003683 -0.011750     NaN\n",
      "401405  0.011883 -0.015773     NaN\n",
      "401406 -0.003207 -0.012989     NaN\n",
      "401407  0.014819 -0.005193     NaN\n",
      "\n",
      "[401408 rows x 3 columns]\n",
      "(100, 32, 32, 3)\n",
      "45 res3a_branch2c\n"
     ]
    },
    {
     "name": "stderr",
     "output_type": "stream",
     "text": [
      "C:\\Users\\benza-ord\\anaconda3\\envs\\keras-gpu\\lib\\site-packages\\ipykernel_launcher.py:49: UserWarning: Update your `Model` call to the Keras 2 API: `Model(inputs=[<tf.Tenso..., outputs=Tensor(\"re...)`\n"
     ]
    },
    {
     "name": "stdout",
     "output_type": "stream",
     "text": [
      "preds (100, 28, 28, 512)\n",
      "(401408, 100)\n",
      "             PC1       PC2  target\n",
      "0      -0.014313  0.004165     5.0\n",
      "1       0.018997  0.004049     5.0\n",
      "2       0.009095 -0.002267     5.0\n",
      "3      -0.018760 -0.002600     5.0\n",
      "4      -0.007066  0.016502     5.0\n",
      "...          ...       ...     ...\n",
      "401403  0.002236 -0.005514     NaN\n",
      "401404 -0.002559 -0.009641     NaN\n",
      "401405  0.009852 -0.019494     NaN\n",
      "401406 -0.003791 -0.009274     NaN\n",
      "401407  0.015104  0.002388     NaN\n",
      "\n",
      "[401408 rows x 3 columns]\n",
      "(100, 32, 32, 3)\n",
      "45 res3a_branch2c\n"
     ]
    },
    {
     "name": "stderr",
     "output_type": "stream",
     "text": [
      "C:\\Users\\benza-ord\\anaconda3\\envs\\keras-gpu\\lib\\site-packages\\ipykernel_launcher.py:49: UserWarning: Update your `Model` call to the Keras 2 API: `Model(inputs=[<tf.Tenso..., outputs=Tensor(\"re...)`\n"
     ]
    },
    {
     "name": "stdout",
     "output_type": "stream",
     "text": [
      "preds (100, 28, 28, 512)\n",
      "(401408, 100)\n",
      "             PC1       PC2  target\n",
      "0       0.014458  0.001332     6.0\n",
      "1      -0.019182  0.002703     6.0\n",
      "2      -0.009200  0.003879     6.0\n",
      "3       0.021166 -0.004078     6.0\n",
      "4       0.003809  0.015262     6.0\n",
      "...          ...       ...     ...\n",
      "401403 -0.001769 -0.006618     NaN\n",
      "401404  0.003369 -0.008919     NaN\n",
      "401405 -0.012894 -0.015649     NaN\n",
      "401406  0.003679 -0.009119     NaN\n",
      "401407 -0.015601 -0.003699     NaN\n",
      "\n",
      "[401408 rows x 3 columns]\n",
      "(100, 32, 32, 3)\n",
      "45 res3a_branch2c\n"
     ]
    },
    {
     "name": "stderr",
     "output_type": "stream",
     "text": [
      "C:\\Users\\benza-ord\\anaconda3\\envs\\keras-gpu\\lib\\site-packages\\ipykernel_launcher.py:49: UserWarning: Update your `Model` call to the Keras 2 API: `Model(inputs=[<tf.Tenso..., outputs=Tensor(\"re...)`\n"
     ]
    },
    {
     "name": "stdout",
     "output_type": "stream",
     "text": [
      "preds (100, 28, 28, 512)\n",
      "(401408, 100)\n",
      "             PC1       PC2  target\n",
      "0      -0.014842  0.002190     7.0\n",
      "1       0.019589  0.001751     7.0\n",
      "2       0.008049  0.005171     7.0\n",
      "3      -0.020701 -0.001442     7.0\n",
      "4      -0.003221  0.014447     7.0\n",
      "...          ...       ...     ...\n",
      "401403  0.001030 -0.001555     NaN\n",
      "401404 -0.003342 -0.006791     NaN\n",
      "401405  0.012127 -0.016472     NaN\n",
      "401406 -0.003014 -0.012406     NaN\n",
      "401407  0.014214  0.000883     NaN\n",
      "\n",
      "[401408 rows x 3 columns]\n",
      "(100, 32, 32, 3)\n",
      "45 res3a_branch2c\n"
     ]
    },
    {
     "name": "stderr",
     "output_type": "stream",
     "text": [
      "C:\\Users\\benza-ord\\anaconda3\\envs\\keras-gpu\\lib\\site-packages\\ipykernel_launcher.py:49: UserWarning: Update your `Model` call to the Keras 2 API: `Model(inputs=[<tf.Tenso..., outputs=Tensor(\"re...)`\n"
     ]
    },
    {
     "name": "stdout",
     "output_type": "stream",
     "text": [
      "preds (100, 28, 28, 512)\n",
      "(401408, 100)\n",
      "             PC1       PC2  target\n",
      "0      -0.013017  0.004236     8.0\n",
      "1       0.019088  0.002918     8.0\n",
      "2       0.009445 -0.001585     8.0\n",
      "3      -0.020178 -0.007054     8.0\n",
      "4      -0.003126  0.018848     8.0\n",
      "...          ...       ...     ...\n",
      "401403  0.001126 -0.001852     NaN\n",
      "401404  0.000201 -0.012962     NaN\n",
      "401405  0.009993 -0.018379     NaN\n",
      "401406 -0.004329 -0.011760     NaN\n",
      "401407  0.017562 -0.004780     NaN\n",
      "\n",
      "[401408 rows x 3 columns]\n",
      "(100, 32, 32, 3)\n",
      "45 res3a_branch2c\n"
     ]
    },
    {
     "name": "stderr",
     "output_type": "stream",
     "text": [
      "C:\\Users\\benza-ord\\anaconda3\\envs\\keras-gpu\\lib\\site-packages\\ipykernel_launcher.py:49: UserWarning: Update your `Model` call to the Keras 2 API: `Model(inputs=[<tf.Tenso..., outputs=Tensor(\"re...)`\n"
     ]
    },
    {
     "name": "stdout",
     "output_type": "stream",
     "text": [
      "preds (100, 28, 28, 512)\n",
      "(401408, 100)\n",
      "             PC1       PC2  target\n",
      "0       0.010034  0.005503     9.0\n",
      "1      -0.012143 -0.000238     9.0\n",
      "2      -0.009076 -0.000310     9.0\n",
      "3       0.028720 -0.007544     9.0\n",
      "4      -0.001813  0.019213     9.0\n",
      "...          ...       ...     ...\n",
      "401403  0.006161 -0.007514     NaN\n",
      "401404  0.003532 -0.011602     NaN\n",
      "401405 -0.013313 -0.015079     NaN\n",
      "401406  0.003170 -0.008834     NaN\n",
      "401407 -0.013375 -0.005557     NaN\n",
      "\n",
      "[401408 rows x 3 columns]\n",
      "(100, 32, 32, 3)\n",
      "46 res3a_branch1\n"
     ]
    },
    {
     "name": "stderr",
     "output_type": "stream",
     "text": [
      "C:\\Users\\benza-ord\\anaconda3\\envs\\keras-gpu\\lib\\site-packages\\ipykernel_launcher.py:49: UserWarning: Update your `Model` call to the Keras 2 API: `Model(inputs=[<tf.Tenso..., outputs=Tensor(\"re...)`\n"
     ]
    },
    {
     "name": "stdout",
     "output_type": "stream",
     "text": [
      "preds (100, 28, 28, 512)\n",
      "(401408, 100)\n",
      "             PC1       PC2  target\n",
      "0      -0.008768  0.008190     0.0\n",
      "1      -0.004629 -0.015744     0.0\n",
      "2      -0.010013 -0.004076     0.0\n",
      "3       0.034232 -0.000545     0.0\n",
      "4      -0.025057  0.028712     0.0\n",
      "...          ...       ...     ...\n",
      "401403 -0.002998 -0.020263     NaN\n",
      "401404  0.015264  0.002708     NaN\n",
      "401405 -0.027560 -0.006276     NaN\n",
      "401406  0.006158  0.001949     NaN\n",
      "401407 -0.013748 -0.039000     NaN\n",
      "\n",
      "[401408 rows x 3 columns]\n",
      "(100, 32, 32, 3)\n",
      "46 res3a_branch1\n"
     ]
    },
    {
     "name": "stderr",
     "output_type": "stream",
     "text": [
      "C:\\Users\\benza-ord\\anaconda3\\envs\\keras-gpu\\lib\\site-packages\\ipykernel_launcher.py:49: UserWarning: Update your `Model` call to the Keras 2 API: `Model(inputs=[<tf.Tenso..., outputs=Tensor(\"re...)`\n"
     ]
    },
    {
     "name": "stdout",
     "output_type": "stream",
     "text": [
      "preds (100, 28, 28, 512)\n",
      "(401408, 100)\n",
      "             PC1       PC2  target\n",
      "0      -0.009687  0.007068     1.0\n",
      "1      -0.004721 -0.016950     1.0\n",
      "2      -0.008523 -0.000470     1.0\n",
      "3       0.033897  0.004639     1.0\n",
      "4      -0.023935  0.029141     1.0\n",
      "...          ...       ...     ...\n",
      "401403 -0.001519 -0.013170     NaN\n",
      "401404  0.016359  0.001043     NaN\n",
      "401405 -0.027985 -0.001278     NaN\n",
      "401406  0.006852  0.001937     NaN\n",
      "401407 -0.014683 -0.039263     NaN\n",
      "\n",
      "[401408 rows x 3 columns]\n",
      "(100, 32, 32, 3)\n",
      "46 res3a_branch1\n"
     ]
    },
    {
     "name": "stderr",
     "output_type": "stream",
     "text": [
      "C:\\Users\\benza-ord\\anaconda3\\envs\\keras-gpu\\lib\\site-packages\\ipykernel_launcher.py:49: UserWarning: Update your `Model` call to the Keras 2 API: `Model(inputs=[<tf.Tenso..., outputs=Tensor(\"re...)`\n"
     ]
    },
    {
     "name": "stdout",
     "output_type": "stream",
     "text": [
      "preds (100, 28, 28, 512)\n",
      "(401408, 100)\n",
      "             PC1       PC2  target\n",
      "0      -0.008056  0.008100     2.0\n",
      "1      -0.004272 -0.015683     2.0\n",
      "2      -0.009008 -0.002279     2.0\n",
      "3       0.033452  0.001732     2.0\n",
      "4      -0.024234  0.027230     2.0\n",
      "...          ...       ...     ...\n",
      "401403 -0.003043 -0.019054     NaN\n",
      "401404  0.015701  0.004160     NaN\n",
      "401405 -0.028459 -0.003166     NaN\n",
      "401406  0.006652 -0.003328     NaN\n",
      "401407 -0.013634 -0.036238     NaN\n",
      "\n",
      "[401408 rows x 3 columns]\n",
      "(100, 32, 32, 3)\n",
      "46 res3a_branch1\n"
     ]
    },
    {
     "name": "stderr",
     "output_type": "stream",
     "text": [
      "C:\\Users\\benza-ord\\anaconda3\\envs\\keras-gpu\\lib\\site-packages\\ipykernel_launcher.py:49: UserWarning: Update your `Model` call to the Keras 2 API: `Model(inputs=[<tf.Tenso..., outputs=Tensor(\"re...)`\n"
     ]
    },
    {
     "name": "stdout",
     "output_type": "stream",
     "text": [
      "preds (100, 28, 28, 512)\n",
      "(401408, 100)\n",
      "             PC1       PC2  target\n",
      "0      -0.008541 -0.010416     3.0\n",
      "1      -0.004045  0.012906     3.0\n",
      "2      -0.009698  0.002414     3.0\n",
      "3       0.033844 -0.002797     3.0\n",
      "4      -0.023332 -0.025931     3.0\n",
      "...          ...       ...     ...\n",
      "401403 -0.002348  0.022758     NaN\n",
      "401404  0.015083 -0.005813     NaN\n",
      "401405 -0.027952  0.002190     NaN\n",
      "401406  0.008037  0.008326     NaN\n",
      "401407 -0.015129  0.034276     NaN\n",
      "\n",
      "[401408 rows x 3 columns]\n",
      "(100, 32, 32, 3)\n",
      "46 res3a_branch1\n"
     ]
    },
    {
     "name": "stderr",
     "output_type": "stream",
     "text": [
      "C:\\Users\\benza-ord\\anaconda3\\envs\\keras-gpu\\lib\\site-packages\\ipykernel_launcher.py:49: UserWarning: Update your `Model` call to the Keras 2 API: `Model(inputs=[<tf.Tenso..., outputs=Tensor(\"re...)`\n"
     ]
    },
    {
     "name": "stdout",
     "output_type": "stream",
     "text": [
      "preds (100, 28, 28, 512)\n",
      "(401408, 100)\n",
      "             PC1       PC2  target\n",
      "0      -0.008834  0.007771     4.0\n",
      "1      -0.005315 -0.015535     4.0\n",
      "2      -0.008412 -0.002210     4.0\n",
      "3       0.035820  0.000239     4.0\n",
      "4      -0.023818  0.028178     4.0\n",
      "...          ...       ...     ...\n",
      "401403  0.000902 -0.017319     NaN\n",
      "401404  0.015157  0.003626     NaN\n",
      "401405 -0.026311 -0.002472     NaN\n",
      "401406  0.008039 -0.000843     NaN\n",
      "401407 -0.014732 -0.038308     NaN\n",
      "\n",
      "[401408 rows x 3 columns]\n",
      "(100, 32, 32, 3)\n",
      "46 res3a_branch1\n"
     ]
    },
    {
     "name": "stderr",
     "output_type": "stream",
     "text": [
      "C:\\Users\\benza-ord\\anaconda3\\envs\\keras-gpu\\lib\\site-packages\\ipykernel_launcher.py:49: UserWarning: Update your `Model` call to the Keras 2 API: `Model(inputs=[<tf.Tenso..., outputs=Tensor(\"re...)`\n"
     ]
    },
    {
     "name": "stdout",
     "output_type": "stream",
     "text": [
      "preds (100, 28, 28, 512)\n",
      "(401408, 100)\n",
      "             PC1       PC2  target\n",
      "0      -0.009499  0.008991     5.0\n",
      "1      -0.005149 -0.011614     5.0\n",
      "2      -0.009484 -0.004098     5.0\n",
      "3       0.034337  0.000653     5.0\n",
      "4      -0.023366  0.026575     5.0\n",
      "...          ...       ...     ...\n",
      "401403 -0.002333 -0.021273     NaN\n",
      "401404  0.014781  0.007361     NaN\n",
      "401405 -0.028317 -0.001648     NaN\n",
      "401406  0.008195 -0.008372     NaN\n",
      "401407 -0.014008 -0.039510     NaN\n",
      "\n",
      "[401408 rows x 3 columns]\n",
      "(100, 32, 32, 3)\n",
      "46 res3a_branch1\n"
     ]
    },
    {
     "name": "stderr",
     "output_type": "stream",
     "text": [
      "C:\\Users\\benza-ord\\anaconda3\\envs\\keras-gpu\\lib\\site-packages\\ipykernel_launcher.py:49: UserWarning: Update your `Model` call to the Keras 2 API: `Model(inputs=[<tf.Tenso..., outputs=Tensor(\"re...)`\n"
     ]
    },
    {
     "name": "stdout",
     "output_type": "stream",
     "text": [
      "preds (100, 28, 28, 512)\n",
      "(401408, 100)\n",
      "             PC1       PC2  target\n",
      "0      -0.009144  0.010732     6.0\n",
      "1      -0.005263 -0.012133     6.0\n",
      "2      -0.009368 -0.003011     6.0\n",
      "3       0.034589  0.002341     6.0\n",
      "4      -0.024539  0.028508     6.0\n",
      "...          ...       ...     ...\n",
      "401403 -0.002757 -0.018935     NaN\n",
      "401404  0.015174  0.006544     NaN\n",
      "401405 -0.027660 -0.002859     NaN\n",
      "401406  0.006749 -0.003985     NaN\n",
      "401407 -0.013756 -0.036479     NaN\n",
      "\n",
      "[401408 rows x 3 columns]\n",
      "(100, 32, 32, 3)\n",
      "46 res3a_branch1\n"
     ]
    },
    {
     "name": "stderr",
     "output_type": "stream",
     "text": [
      "C:\\Users\\benza-ord\\anaconda3\\envs\\keras-gpu\\lib\\site-packages\\ipykernel_launcher.py:49: UserWarning: Update your `Model` call to the Keras 2 API: `Model(inputs=[<tf.Tenso..., outputs=Tensor(\"re...)`\n"
     ]
    },
    {
     "name": "stdout",
     "output_type": "stream",
     "text": [
      "preds (100, 28, 28, 512)\n",
      "(401408, 100)\n",
      "             PC1       PC2  target\n",
      "0      -0.008217  0.009232     7.0\n",
      "1      -0.003304 -0.013910     7.0\n",
      "2      -0.009174 -0.002565     7.0\n",
      "3       0.031538  0.001915     7.0\n",
      "4      -0.022872  0.026383     7.0\n",
      "...          ...       ...     ...\n",
      "401403 -0.004075 -0.017643     NaN\n",
      "401404  0.015796  0.004313     NaN\n",
      "401405 -0.028168 -0.006185     NaN\n",
      "401406  0.006752 -0.002944     NaN\n",
      "401407 -0.014224 -0.035634     NaN\n",
      "\n",
      "[401408 rows x 3 columns]\n",
      "(100, 32, 32, 3)\n",
      "46 res3a_branch1\n"
     ]
    },
    {
     "name": "stderr",
     "output_type": "stream",
     "text": [
      "C:\\Users\\benza-ord\\anaconda3\\envs\\keras-gpu\\lib\\site-packages\\ipykernel_launcher.py:49: UserWarning: Update your `Model` call to the Keras 2 API: `Model(inputs=[<tf.Tenso..., outputs=Tensor(\"re...)`\n"
     ]
    },
    {
     "name": "stdout",
     "output_type": "stream",
     "text": [
      "preds (100, 28, 28, 512)\n",
      "(401408, 100)\n",
      "             PC1       PC2  target\n",
      "0      -0.010736  0.007545     8.0\n",
      "1      -0.003996 -0.014306     8.0\n",
      "2      -0.009586 -0.002991     8.0\n",
      "3       0.034232  0.000853     8.0\n",
      "4      -0.023633  0.028365     8.0\n",
      "...          ...       ...     ...\n",
      "401403 -0.000346 -0.019929     NaN\n",
      "401404  0.016505  0.005835     NaN\n",
      "401405 -0.026994 -0.002564     NaN\n",
      "401406  0.006726 -0.002624     NaN\n",
      "401407 -0.012830 -0.036982     NaN\n",
      "\n",
      "[401408 rows x 3 columns]\n",
      "(100, 32, 32, 3)\n",
      "46 res3a_branch1\n"
     ]
    },
    {
     "name": "stderr",
     "output_type": "stream",
     "text": [
      "C:\\Users\\benza-ord\\anaconda3\\envs\\keras-gpu\\lib\\site-packages\\ipykernel_launcher.py:49: UserWarning: Update your `Model` call to the Keras 2 API: `Model(inputs=[<tf.Tenso..., outputs=Tensor(\"re...)`\n"
     ]
    },
    {
     "name": "stdout",
     "output_type": "stream",
     "text": [
      "preds (100, 28, 28, 512)\n",
      "(401408, 100)\n",
      "             PC1       PC2  target\n",
      "0      -0.011410  0.007495     9.0\n",
      "1      -0.004900 -0.016413     9.0\n",
      "2      -0.010526 -0.005847     9.0\n",
      "3       0.033849  0.002514     9.0\n",
      "4      -0.023940  0.026774     9.0\n",
      "...          ...       ...     ...\n",
      "401403 -0.000689 -0.021315     NaN\n",
      "401404  0.013869  0.003657     NaN\n",
      "401405 -0.027728 -0.003824     NaN\n",
      "401406  0.007697 -0.004669     NaN\n",
      "401407 -0.015366 -0.038281     NaN\n",
      "\n",
      "[401408 rows x 3 columns]\n",
      "(100, 32, 32, 3)\n",
      "51 res3b_branch2a\n"
     ]
    },
    {
     "name": "stderr",
     "output_type": "stream",
     "text": [
      "C:\\Users\\benza-ord\\anaconda3\\envs\\keras-gpu\\lib\\site-packages\\ipykernel_launcher.py:49: UserWarning: Update your `Model` call to the Keras 2 API: `Model(inputs=[<tf.Tenso..., outputs=Tensor(\"re...)`\n"
     ]
    },
    {
     "name": "stdout",
     "output_type": "stream",
     "text": [
      "preds (100, 28, 28, 128)\n",
      "(100352, 100)\n",
      "             PC1       PC2  target\n",
      "0      -0.031792 -0.020109     0.0\n",
      "1       0.059037 -0.007645     0.0\n",
      "2      -0.054462  0.040683     0.0\n",
      "3      -0.007598 -0.035701     0.0\n",
      "4       0.029433  0.023037     0.0\n",
      "...          ...       ...     ...\n",
      "100347 -0.001557 -0.037761     NaN\n",
      "100348  0.027846  0.034592     NaN\n",
      "100349 -0.048764 -0.020544     NaN\n",
      "100350  0.059737 -0.031611     NaN\n",
      "100351 -0.007083  0.058917     NaN\n",
      "\n",
      "[100352 rows x 3 columns]\n",
      "(100, 32, 32, 3)\n",
      "51 res3b_branch2a\n"
     ]
    },
    {
     "name": "stderr",
     "output_type": "stream",
     "text": [
      "C:\\Users\\benza-ord\\anaconda3\\envs\\keras-gpu\\lib\\site-packages\\ipykernel_launcher.py:49: UserWarning: Update your `Model` call to the Keras 2 API: `Model(inputs=[<tf.Tenso..., outputs=Tensor(\"re...)`\n"
     ]
    },
    {
     "name": "stdout",
     "output_type": "stream",
     "text": [
      "preds (100, 28, 28, 128)\n",
      "(100352, 100)\n",
      "             PC1       PC2  target\n",
      "0      -0.031262 -0.019945     1.0\n",
      "1       0.059222 -0.007400     1.0\n",
      "2      -0.054330  0.040580     1.0\n",
      "3      -0.007513 -0.036450     1.0\n",
      "4       0.029836  0.023053     1.0\n",
      "...          ...       ...     ...\n",
      "100347 -0.001995 -0.038251     NaN\n",
      "100348  0.027468  0.034024     NaN\n",
      "100349 -0.048628 -0.020397     NaN\n",
      "100350  0.060269 -0.031258     NaN\n",
      "100351 -0.006696  0.059119     NaN\n",
      "\n",
      "[100352 rows x 3 columns]\n",
      "(100, 32, 32, 3)\n",
      "51 res3b_branch2a\n"
     ]
    },
    {
     "name": "stderr",
     "output_type": "stream",
     "text": [
      "C:\\Users\\benza-ord\\anaconda3\\envs\\keras-gpu\\lib\\site-packages\\ipykernel_launcher.py:49: UserWarning: Update your `Model` call to the Keras 2 API: `Model(inputs=[<tf.Tenso..., outputs=Tensor(\"re...)`\n"
     ]
    },
    {
     "name": "stdout",
     "output_type": "stream",
     "text": [
      "preds (100, 28, 28, 128)\n",
      "(100352, 100)\n",
      "             PC1       PC2  target\n",
      "0      -0.031353 -0.019945     2.0\n",
      "1       0.059161 -0.007528     2.0\n",
      "2      -0.054489  0.040140     2.0\n",
      "3      -0.007979 -0.036914     2.0\n",
      "4       0.029554  0.022672     2.0\n",
      "...          ...       ...     ...\n",
      "100347 -0.001977 -0.037974     NaN\n",
      "100348  0.027359  0.034045     NaN\n",
      "100349 -0.048687 -0.020474     NaN\n",
      "100350  0.060088 -0.031603     NaN\n",
      "100351 -0.006769  0.059018     NaN\n",
      "\n",
      "[100352 rows x 3 columns]\n",
      "(100, 32, 32, 3)\n",
      "51 res3b_branch2a\n"
     ]
    },
    {
     "name": "stderr",
     "output_type": "stream",
     "text": [
      "C:\\Users\\benza-ord\\anaconda3\\envs\\keras-gpu\\lib\\site-packages\\ipykernel_launcher.py:49: UserWarning: Update your `Model` call to the Keras 2 API: `Model(inputs=[<tf.Tenso..., outputs=Tensor(\"re...)`\n"
     ]
    },
    {
     "name": "stdout",
     "output_type": "stream",
     "text": [
      "preds (100, 28, 28, 128)\n",
      "(100352, 100)\n",
      "             PC1       PC2  target\n",
      "0      -0.031453 -0.020213     3.0\n",
      "1       0.059141 -0.007649     3.0\n",
      "2      -0.054314  0.040648     3.0\n",
      "3      -0.007631 -0.035868     3.0\n",
      "4       0.029553  0.023025     3.0\n",
      "...          ...       ...     ...\n",
      "100347 -0.001818 -0.037771     NaN\n",
      "100348  0.027642  0.034450     NaN\n",
      "100349 -0.048702 -0.020586     NaN\n",
      "100350  0.060076 -0.031663     NaN\n",
      "100351 -0.006686  0.058791     NaN\n",
      "\n",
      "[100352 rows x 3 columns]\n",
      "(100, 32, 32, 3)\n",
      "51 res3b_branch2a\n"
     ]
    },
    {
     "name": "stderr",
     "output_type": "stream",
     "text": [
      "C:\\Users\\benza-ord\\anaconda3\\envs\\keras-gpu\\lib\\site-packages\\ipykernel_launcher.py:49: UserWarning: Update your `Model` call to the Keras 2 API: `Model(inputs=[<tf.Tenso..., outputs=Tensor(\"re...)`\n"
     ]
    },
    {
     "name": "stdout",
     "output_type": "stream",
     "text": [
      "preds (100, 28, 28, 128)\n",
      "(100352, 100)\n",
      "             PC1       PC2  target\n",
      "0      -0.031499 -0.020173     4.0\n",
      "1       0.059132 -0.007597     4.0\n",
      "2      -0.054328  0.040615     4.0\n",
      "3      -0.007522 -0.035999     4.0\n",
      "4       0.029569  0.022891     4.0\n",
      "...          ...       ...     ...\n",
      "100347 -0.001833 -0.037871     NaN\n",
      "100348  0.027528  0.034283     NaN\n",
      "100349 -0.048689 -0.020548     NaN\n",
      "100350  0.060008 -0.031591     NaN\n",
      "100351 -0.006757  0.058933     NaN\n",
      "\n",
      "[100352 rows x 3 columns]\n",
      "(100, 32, 32, 3)\n",
      "51 res3b_branch2a\n"
     ]
    },
    {
     "name": "stderr",
     "output_type": "stream",
     "text": [
      "C:\\Users\\benza-ord\\anaconda3\\envs\\keras-gpu\\lib\\site-packages\\ipykernel_launcher.py:49: UserWarning: Update your `Model` call to the Keras 2 API: `Model(inputs=[<tf.Tenso..., outputs=Tensor(\"re...)`\n"
     ]
    },
    {
     "name": "stdout",
     "output_type": "stream",
     "text": [
      "preds (100, 28, 28, 128)\n",
      "(100352, 100)\n",
      "             PC1       PC2  target\n",
      "0      -0.031588 -0.020300     5.0\n",
      "1       0.059115 -0.007772     5.0\n",
      "2      -0.054368  0.040529     5.0\n",
      "3      -0.007628 -0.036145     5.0\n",
      "4       0.029411  0.022780     5.0\n",
      "...          ...       ...     ...\n",
      "100347 -0.001725 -0.037779     NaN\n",
      "100348  0.027605  0.034372     NaN\n",
      "100349 -0.048732 -0.020582     NaN\n",
      "100350  0.059993 -0.031687     NaN\n",
      "100351 -0.006768  0.058739     NaN\n",
      "\n",
      "[100352 rows x 3 columns]\n",
      "(100, 32, 32, 3)\n",
      "51 res3b_branch2a\n"
     ]
    },
    {
     "name": "stderr",
     "output_type": "stream",
     "text": [
      "C:\\Users\\benza-ord\\anaconda3\\envs\\keras-gpu\\lib\\site-packages\\ipykernel_launcher.py:49: UserWarning: Update your `Model` call to the Keras 2 API: `Model(inputs=[<tf.Tenso..., outputs=Tensor(\"re...)`\n"
     ]
    },
    {
     "name": "stdout",
     "output_type": "stream",
     "text": [
      "preds (100, 28, 28, 128)\n",
      "(100352, 100)\n",
      "             PC1       PC2  target\n",
      "0      -0.031221 -0.020431     6.0\n",
      "1       0.059187 -0.007791     6.0\n",
      "2      -0.054205  0.040523     6.0\n",
      "3      -0.007765 -0.035748     6.0\n",
      "4       0.029588  0.023014     6.0\n",
      "...          ...       ...     ...\n",
      "100347 -0.001810 -0.037854     NaN\n",
      "100348  0.027921  0.034045     NaN\n",
      "100349 -0.048801 -0.020342     NaN\n",
      "100350  0.060101 -0.031705     NaN\n",
      "100351 -0.006688  0.058861     NaN\n",
      "\n",
      "[100352 rows x 3 columns]\n",
      "(100, 32, 32, 3)\n",
      "51 res3b_branch2a\n"
     ]
    },
    {
     "name": "stderr",
     "output_type": "stream",
     "text": [
      "C:\\Users\\benza-ord\\anaconda3\\envs\\keras-gpu\\lib\\site-packages\\ipykernel_launcher.py:49: UserWarning: Update your `Model` call to the Keras 2 API: `Model(inputs=[<tf.Tenso..., outputs=Tensor(\"re...)`\n"
     ]
    },
    {
     "name": "stdout",
     "output_type": "stream",
     "text": [
      "preds (100, 28, 28, 128)\n",
      "(100352, 100)\n",
      "             PC1       PC2  target\n",
      "0      -0.031258 -0.020194     7.0\n",
      "1       0.059166 -0.007544     7.0\n",
      "2      -0.054359  0.040454     7.0\n",
      "3      -0.007782 -0.035709     7.0\n",
      "4       0.029633  0.022747     7.0\n",
      "...          ...       ...     ...\n",
      "100347 -0.001684 -0.037966     NaN\n",
      "100348  0.027850  0.033900     NaN\n",
      "100349 -0.048563 -0.020438     NaN\n",
      "100350  0.060338 -0.031541     NaN\n",
      "100351 -0.006718  0.059239     NaN\n",
      "\n",
      "[100352 rows x 3 columns]\n",
      "(100, 32, 32, 3)\n",
      "51 res3b_branch2a\n"
     ]
    },
    {
     "name": "stderr",
     "output_type": "stream",
     "text": [
      "C:\\Users\\benza-ord\\anaconda3\\envs\\keras-gpu\\lib\\site-packages\\ipykernel_launcher.py:49: UserWarning: Update your `Model` call to the Keras 2 API: `Model(inputs=[<tf.Tenso..., outputs=Tensor(\"re...)`\n"
     ]
    },
    {
     "name": "stdout",
     "output_type": "stream",
     "text": [
      "preds (100, 28, 28, 128)\n",
      "(100352, 100)\n",
      "             PC1       PC2  target\n",
      "0      -0.031235 -0.019962     8.0\n",
      "1       0.059205 -0.007585     8.0\n",
      "2      -0.054334  0.040555     8.0\n",
      "3      -0.007656 -0.036240     8.0\n",
      "4       0.029677  0.023056     8.0\n",
      "...          ...       ...     ...\n",
      "100347 -0.001592 -0.037738     NaN\n",
      "100348  0.027958  0.034392     NaN\n",
      "100349 -0.048685 -0.020476     NaN\n",
      "100350  0.060262 -0.031261     NaN\n",
      "100351 -0.006738  0.058964     NaN\n",
      "\n",
      "[100352 rows x 3 columns]\n",
      "(100, 32, 32, 3)\n",
      "51 res3b_branch2a\n"
     ]
    },
    {
     "name": "stderr",
     "output_type": "stream",
     "text": [
      "C:\\Users\\benza-ord\\anaconda3\\envs\\keras-gpu\\lib\\site-packages\\ipykernel_launcher.py:49: UserWarning: Update your `Model` call to the Keras 2 API: `Model(inputs=[<tf.Tenso..., outputs=Tensor(\"re...)`\n"
     ]
    },
    {
     "name": "stdout",
     "output_type": "stream",
     "text": [
      "preds (100, 28, 28, 128)\n",
      "(100352, 100)\n",
      "             PC1       PC2  target\n",
      "0      -0.031416 -0.020244     9.0\n",
      "1       0.059389 -0.007934     9.0\n",
      "2      -0.054010  0.040447     9.0\n",
      "3      -0.007207 -0.036215     9.0\n",
      "4       0.029831  0.022750     9.0\n",
      "...          ...       ...     ...\n",
      "100347 -0.001956 -0.037751     NaN\n",
      "100348  0.027486  0.034661     NaN\n",
      "100349 -0.048714 -0.020578     NaN\n",
      "100350  0.060204 -0.031816     NaN\n",
      "100351 -0.006544  0.058618     NaN\n",
      "\n",
      "[100352 rows x 3 columns]\n"
     ]
    }
   ],
   "source": [
    "from sklearn.preprocessing import normalize, scale, MinMaxScaler\n",
    "\n",
    "(x_train_SAMP, y_train_SAMP), (x_test_SAMP, y_test_SAMP) = cifar10.load_data()\n",
    "\n",
    "x_train_SAMP =[]\n",
    "y_train_SAMP =[]\n",
    "\n",
    "result = {}\n",
    "LAYER_COUNTER = 0\n",
    "for idx in range(len(base_model.layers)):\n",
    "\n",
    "    \n",
    "    if base_model.get_layer(index = idx).__class__.__name__ == 'Conv2D':\n",
    "        # PREPARE FOR JSON \n",
    "        result['dataset_'+str(LAYER_COUNTER)]= []\n",
    "    \n",
    "        for i in range(0,10):\n",
    "            \n",
    "            \n",
    "            img_idx = imgs.loc[imgs['labels'] == i][:100]\n",
    "            \n",
    "            temp_img_arr = []\n",
    "            temp_ytest = []\n",
    "            for index, row in img_idx.iloc[:, :3072].iterrows():\n",
    "                #print(x_test_SAMP[index].shape)\n",
    "                #Xtest = np.reshape(data[b\"data\"][3], (-1, 3, 32, 32))\n",
    "                #Xtest = np.transpose(Xtest, (0,2,3,1))\n",
    "\n",
    "                #x1 = np.reshape(np.asarray(row),(-1,32,32,3))\n",
    "                #x1 = np.transpose(x1, (0,2,3,1))\n",
    "                temp_ytest.append(y_test_SAMP[index])\n",
    "                temp_img_arr.append(x_test[index])\n",
    "            \n",
    "            #print(temp_img_arr)\n",
    "            #temp_img_arr = np.array(temp_img_arr).reshape(-1,32,32,3)\n",
    "            temp_img_arr = np.stack(temp_img_arr,axis=0)\n",
    "            print(temp_img_arr.shape)\n",
    "            \n",
    "            #x_batch = resize_image_arr(temp_img_arr)\n",
    "            #print(x_batch.shape)\n",
    "\n",
    "            ##x_batch = x_batch.astype('float32')\n",
    "            #x_batch /= 255\n",
    "            \n",
    "            \n",
    "            layerName = base_model.get_layer(index = idx).name\n",
    "            print(idx, layerName)\n",
    "\n",
    "            model_cut = Model(inputs=base_model.inputs, output=base_model.layers[idx].output)\n",
    "            preds = model_cut.predict(x_batch)\n",
    "            print('preds',preds.shape)\n",
    "\n",
    "            #preds_flat = preds.reshape(preds.shape[0],preds.shape[1] * preds.shape[2] * preds.shape[3])\n",
    "            #print(preds_flat.shape)\n",
    "            \n",
    "            \n",
    "            preds_flat = preds.reshape(preds.shape[0],preds.shape[1] * preds.shape[2], preds.shape[3])\n",
    "            preds_flat = preds_flat.reshape(-1, preds_flat.shape[0])\n",
    "            print(preds_flat.shape)\n",
    "\n",
    "            import pandas as pd \n",
    "\n",
    "            X = preds_flat\n",
    "            # Standardize the features\n",
    "            #X = StandardScaler().fit_transform(preds_flat)\n",
    "            #X = normalize(preds_flat)\n",
    "            #X = scale(preds_flat)\n",
    "\n",
    "            #mm_scaler = MinMaxScaler()\n",
    "            #X = mm_scaler.fit_transform(preds_flat)\n",
    "            #mm_scaler.transform(X)\n",
    "\n",
    "            # Preview X\n",
    "            pd.DataFrame(data=X).head()\n",
    "\n",
    "            # Import PCA from sklearn\n",
    "            from sklearn.decomposition import PCA\n",
    "\n",
    "            # Instantiate PCA\n",
    "            pca = PCA(n_components=2)\n",
    "\n",
    "            # Fit PCA to features\n",
    "            principalComponents = pca.fit_transform(X)\n",
    "            \n",
    "            CLASS_PCA_RES = []\n",
    "            for ipc in range(100):\n",
    "                arr_classPt = {\n",
    "                    \"uid\" : \"\",\n",
    "                    \"filename\" : \"\",\n",
    "                    \"comp1\": str(principalComponents[ipc][0]),\n",
    "                    \"comp2\": str(principalComponents[ipc][1])\n",
    "                }\n",
    "                CLASS_PCA_RES.append(arr_classPt)\n",
    "                \n",
    "            result[\"dataset_\"+str(LAYER_COUNTER)].append(CLASS_PCA_RES)\n",
    "\n",
    "            # Create a new dataset from principal components \n",
    "            df = pd.DataFrame(data = principalComponents, \n",
    "                              columns = ['PC1', 'PC2'])\n",
    "\n",
    "            target = pd.Series(np.asarray(temp_ytest).reshape(100,), name='target')\n",
    "\n",
    "            result_df = pd.concat([df, target], axis=1)\n",
    "            print(result_df)\n",
    "        \n",
    "        LAYER_COUNTER+= 1\n",
    "    if idx > 50:\n",
    "        break\n"
   ]
  },
  {
   "cell_type": "code",
   "execution_count": null,
   "metadata": {},
   "outputs": [],
   "source": [
    "x_test[:10].shape"
   ]
  },
  {
   "cell_type": "code",
   "execution_count": 90,
   "metadata": {},
   "outputs": [
    {
     "name": "stdout",
     "output_type": "stream",
     "text": [
      "(100, 32, 32, 3)\n",
      "51 res3b_branch2a\n"
     ]
    },
    {
     "name": "stderr",
     "output_type": "stream",
     "text": [
      "C:\\Users\\benza-ord\\anaconda3\\envs\\keras-gpu\\lib\\site-packages\\ipykernel_launcher.py:15: UserWarning: Update your `Model` call to the Keras 2 API: `Model(inputs=[<tf.Tenso..., outputs=Tensor(\"re...)`\n",
      "  from ipykernel import kernelapp as app\n"
     ]
    },
    {
     "name": "stdout",
     "output_type": "stream",
     "text": [
      "preds (100, 28, 28, 128)\n",
      "(100352, 100)\n",
      "[-0.00449493  0.03016161 -0.00536982 -0.00587068 -0.00332759  0.00075612\n",
      " -0.00468676  0.01471019  0.01428515  0.00011533  0.00817904  0.01020265\n",
      "  0.00668499 -0.00153679 -0.00302359 -0.00583085 -0.00334532  0.01700789\n",
      "  0.0227941   0.01818441 -0.00369894 -0.00196862  0.01067059 -0.01773346\n",
      "  0.01083621 -0.01512065  0.00456913  0.00126305  0.01695315 -0.0152232\n",
      "  0.03160545  0.00964964 -0.0005799   0.00394822 -0.00607056 -0.00583607\n",
      "  0.0024318  -0.02690547  0.01994134  0.00580315  0.00027762  0.0183045\n",
      " -0.00405498 -0.01599914  0.00936606 -0.0055037   0.00283796  0.00042735\n",
      " -0.00753511 -0.01871283 -0.00704805 -0.01586252  0.00755617 -0.00203654\n",
      " -0.00579026  0.02148492 -0.04679838 -0.00997207  0.00511509 -0.00159592\n",
      " -0.01014708  0.01074062 -0.01978554 -0.00939189  0.02082499 -0.00548885\n",
      " -0.01770075 -0.02786495  0.01115568  0.00746223 -0.03993657  0.03295391\n",
      "  0.00832393  0.00428162  0.01668586 -0.00826315 -0.00776636 -0.00528416\n",
      "  0.02481705 -0.01347424  0.01613845  0.02247113  0.0028026   0.00756303\n",
      " -0.01739997 -0.00725854 -0.02941773 -0.01175857 -0.00010602  0.02798773\n",
      "  0.01130277 -0.00178511  0.0129324   0.00247926  0.01514783  0.00053081\n",
      " -0.01612646  0.02202124 -0.01391088 -0.01409003]\n",
      "[-0.01683328 -0.01768141 -0.00392116  0.00890589 -0.02147885  0.02641747\n",
      "  0.01779651 -0.02274077  0.00081007  0.00821725  0.01225307 -0.00822029\n",
      " -0.01788064  0.02107492  0.02295146 -0.01150296 -0.01470547 -0.00050108\n",
      " -0.00850958 -0.01848273 -0.00655071 -0.00058828 -0.00508751  0.01858964\n",
      "  0.00560462 -0.00857891  0.01982191 -0.00406325 -0.01403715  0.01473891\n",
      "  0.00335177 -0.00895066  0.0027543   0.00715973 -0.01552658  0.02411444\n",
      "  0.01775458  0.00333429  0.01250636  0.02593172 -0.00397327 -0.00014178\n",
      " -0.0162969  -0.01507334 -0.00738239  0.02070765  0.02255899  0.00492605\n",
      " -0.00430701  0.00478981  0.00102922 -0.0347748   0.01658254 -0.01548468\n",
      " -0.00749718  0.00357684  0.00141818 -0.01418081  0.03701426  0.01168122\n",
      " -0.00966518 -0.01309831  0.00565947 -0.03335506 -0.01308136 -0.02721532\n",
      "  0.02682439  0.01597545  0.01282156  0.01007964 -0.0033345  -0.02349228\n",
      "  0.01846188 -0.00306922  0.00459154 -0.0021352  -0.02455586 -0.02738307\n",
      " -0.00652593 -0.01659094  0.01249887  0.00544434  0.00094993  0.02532913\n",
      " -0.05265968 -0.02903374  0.00858526 -0.00679658 -0.00404015  0.02344171\n",
      " -0.01042519 -0.01799912  0.04285329 -0.00429336 -0.00427153 -0.04414957\n",
      "  0.00434676  0.00481917 -0.04474646  0.03332398]\n",
      "             PC1       PC2  target\n",
      "0      -0.031518 -0.020371     3.0\n",
      "1       0.059061 -0.007742     8.0\n",
      "2      -0.054303  0.040560     8.0\n",
      "3      -0.007509 -0.035953     0.0\n",
      "4       0.029605  0.022491     6.0\n",
      "...          ...       ...     ...\n",
      "100347 -0.001751 -0.037584     NaN\n",
      "100348  0.027699  0.034380     NaN\n",
      "100349 -0.048732 -0.020599     NaN\n",
      "100350  0.060073 -0.031662     NaN\n",
      "100351 -0.006821  0.058981     NaN\n",
      "\n",
      "[100352 rows x 3 columns]\n"
     ]
    }
   ],
   "source": [
    "from sklearn.preprocessing import StandardScaler\n",
    "\n",
    "img_idx = imgs.loc[imgs['labels'] == 0][:100]\n",
    "            \n",
    "temp_img_arr = []\n",
    "for index, row in img_idx.iloc[:, :3072].iterrows():\n",
    "    temp_img_arr.append(x_test[index])\n",
    "\n",
    "temp_img_arr = np.stack(temp_img_arr,axis=0)\n",
    "print(temp_img_arr.shape)\n",
    "\n",
    "layerName = base_model.get_layer(index = idx).name\n",
    "print(idx, layerName)\n",
    "\n",
    "model_cut = Model(inputs=base_model.inputs, output=base_model.layers[idx].output)\n",
    "preds = model_cut.predict(x_batch)\n",
    "print('preds',preds.shape)\n",
    "\n",
    "preds_flat = preds.reshape(preds.shape[0],preds.shape[1] * preds.shape[2], preds.shape[3])\n",
    "preds_flat = preds_flat.reshape(-1, preds_flat.shape[0])\n",
    "print(preds_flat.shape)\n",
    "\n",
    "#feat_cols = ['pixel'+str(i) for i in range(preds_flat.shape[1])]\n",
    "#df_cifar = pd.DataFrame(preds_flat,columns=feat_cols)\n",
    "\n",
    "#df_cifar.head()\n",
    "\n",
    "import pandas as pd \n",
    "\n",
    "\n",
    "X = preds_flat\n",
    "# Standardize the features\n",
    "#X = StandardScaler().fit_transform(df_cifar.values.reshape)\n",
    "#x_min = X.min(axis=(1, 2), keepdims=True)\n",
    "#x_max = X.max(axis=(1, 2), keepdims=True)\n",
    "\n",
    "#X = (X - x_min)/(x_max-x_min)\n",
    "\n",
    "#with np.printoptions(threshold=np.inf):\n",
    "    #print(arr)\n",
    "    #print(preds[0])\n",
    "    #print(preds[1])\n",
    "print(X[0])\n",
    "print(X[1])\n",
    "#print(X.shape)\n",
    "#X = normalize(preds_flat)\n",
    "#X = scale(preds_flat)\n",
    "\n",
    "#mm_scaler = MinMaxScaler()\n",
    "#X = mm_scaler.fit_transform(preds_flat)\n",
    "#mm_scaler.transform(X)\n",
    "\n",
    "# Preview X\n",
    "#pd.DataFrame(data=X).head()\n",
    "\n",
    "# Import PCA from sklearn\n",
    "from sklearn.decomposition import PCA\n",
    "\n",
    "# Instantiate PCA\n",
    "pca = PCA(n_components=2)\n",
    "\n",
    "# Fit PCA to features\n",
    "principalComponents = pca.fit_transform(X)\n",
    "\n",
    "CLASS_PCA_RES = []\n",
    "for ipc in range(principalComponents.shape[0]):\n",
    "    arr_classPt = {\n",
    "        \"uid\" : \"\",\n",
    "        \"filename\" : \"\",\n",
    "        \"comp1\": str(principalComponents[ipc][0]),\n",
    "        \"comp2\": str(principalComponents[ipc][1])\n",
    "    }\n",
    "    #print(arr_classPt)\n",
    "\n",
    "\n",
    "\n",
    "# Create a new dataset from principal components \n",
    "df = pd.DataFrame(data = principalComponents, \n",
    "                  columns = ['PC1', 'PC2'])\n",
    "\n",
    "target = pd.Series(y_test_SAMP[:100].reshape(100,), name='target')\n",
    "\n",
    "result_df = pd.concat([df, target], axis=1)\n",
    "print(result_df)"
   ]
  },
  {
   "cell_type": "code",
   "execution_count": 95,
   "metadata": {},
   "outputs": [],
   "source": [
    "import json \n",
    "\n",
    "result[\"n_layers\"] = str(LAYER_COUNTER)\n",
    "\n",
    "with open('sample_json5.json', 'w') as outfile:\n",
    "    json.dump(result, outfile)"
   ]
  },
  {
   "cell_type": "code",
   "execution_count": null,
   "metadata": {},
   "outputs": [],
   "source": []
  }
 ],
 "metadata": {
  "kernelspec": {
   "display_name": "keras-gpu-kernel",
   "language": "python",
   "name": "keras-gpu-kernel"
  },
  "language_info": {
   "codemirror_mode": {
    "name": "ipython",
    "version": 3
   },
   "file_extension": ".py",
   "mimetype": "text/x-python",
   "name": "python",
   "nbconvert_exporter": "python",
   "pygments_lexer": "ipython3",
   "version": "3.6.12"
  }
 },
 "nbformat": 4,
 "nbformat_minor": 4
}
