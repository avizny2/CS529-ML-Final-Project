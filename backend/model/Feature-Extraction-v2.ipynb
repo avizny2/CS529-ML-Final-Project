{
 "cells": [
  {
   "cell_type": "code",
   "execution_count": 1,
   "metadata": {},
   "outputs": [
    {
     "name": "stderr",
     "output_type": "stream",
     "text": [
      "Using TensorFlow backend.\n"
     ]
    },
    {
     "name": "stdout",
     "output_type": "stream",
     "text": [
      "1 Physical GPUs, 1 Logical GPUs\n"
     ]
    }
   ],
   "source": [
    "import keras\n",
    "import numpy as np\n",
    "from keras.datasets import cifar10\n",
    "from keras.applications.resnet50 import ResNet50\n",
    "from keras.layers import GlobalAveragePooling2D, Dense\n",
    "from keras.preprocessing.image import ImageDataGenerator\n",
    "from keras.models import Model\n",
    "from skimage.transform import resize\n",
    "\n",
    "import tensorflow as tf\n",
    "gpus = tf.config.experimental.list_physical_devices('GPU')\n",
    "if gpus:\n",
    "    # Restrict TensorFlow to only allocate 1GB * 2 of memory on the first GPU\n",
    "    try:\n",
    "        tf.config.experimental.set_virtual_device_configuration(\n",
    "            gpus[0],\n",
    "            [tf.config.experimental.VirtualDeviceConfiguration(memory_limit=1024 * 2)])\n",
    "        logical_gpus = tf.config.experimental.list_logical_devices('GPU')\n",
    "        print(len(gpus), \"Physical GPUs,\", len(logical_gpus), \"Logical GPUs\")\n",
    "    except RuntimeError as e:\n",
    "        # Virtual devices must be set before GPUs have been initialized\n",
    "        print(e)"
   ]
  },
  {
   "cell_type": "code",
   "execution_count": 2,
   "metadata": {},
   "outputs": [],
   "source": [
    "NUM_CLASSES = 10\n",
    "BATCH_SIZE = 5\n",
    "NUM_EPOCHS = 10\n",
    "use_data_aug = False"
   ]
  },
  {
   "cell_type": "code",
   "execution_count": 3,
   "metadata": {},
   "outputs": [],
   "source": [
    "from tqdm import tqdm\n",
    "# img_arr is of shape (n, h, w, c)\n",
    "def resize_image_arr(img_arr):\n",
    "    x_resized_list = []\n",
    "    for i in tqdm(range(img_arr.shape[0])):\n",
    "        img = img_arr[0]\n",
    "        resized_img = resize(img, (224, 224))\n",
    "        x_resized_list.append(resized_img)\n",
    "    return np.stack(x_resized_list)\n",
    "\n",
    "\n"
   ]
  },
  {
   "cell_type": "code",
   "execution_count": 15,
   "metadata": {},
   "outputs": [],
   "source": [
    "(x_train, y_train), (x_test, y_test) = cifar10.load_data()"
   ]
  },
  {
   "cell_type": "code",
   "execution_count": 5,
   "metadata": {},
   "outputs": [
    {
     "data": {
      "text/html": [
       "<div>\n",
       "<style scoped>\n",
       "    .dataframe tbody tr th:only-of-type {\n",
       "        vertical-align: middle;\n",
       "    }\n",
       "\n",
       "    .dataframe tbody tr th {\n",
       "        vertical-align: top;\n",
       "    }\n",
       "\n",
       "    .dataframe thead th {\n",
       "        text-align: right;\n",
       "    }\n",
       "</style>\n",
       "<table border=\"1\" class=\"dataframe\">\n",
       "  <thead>\n",
       "    <tr style=\"text-align: right;\">\n",
       "      <th></th>\n",
       "      <th>0</th>\n",
       "      <th>1</th>\n",
       "      <th>2</th>\n",
       "      <th>3</th>\n",
       "      <th>4</th>\n",
       "      <th>5</th>\n",
       "      <th>6</th>\n",
       "      <th>7</th>\n",
       "      <th>8</th>\n",
       "      <th>9</th>\n",
       "      <th>...</th>\n",
       "      <th>3063</th>\n",
       "      <th>3064</th>\n",
       "      <th>3065</th>\n",
       "      <th>3066</th>\n",
       "      <th>3067</th>\n",
       "      <th>3068</th>\n",
       "      <th>3069</th>\n",
       "      <th>3070</th>\n",
       "      <th>3071</th>\n",
       "      <th>labels</th>\n",
       "    </tr>\n",
       "  </thead>\n",
       "  <tbody>\n",
       "    <tr>\n",
       "      <th>0</th>\n",
       "      <td>158</td>\n",
       "      <td>112</td>\n",
       "      <td>49</td>\n",
       "      <td>159</td>\n",
       "      <td>111</td>\n",
       "      <td>47</td>\n",
       "      <td>165</td>\n",
       "      <td>116</td>\n",
       "      <td>51</td>\n",
       "      <td>166</td>\n",
       "      <td>...</td>\n",
       "      <td>24</td>\n",
       "      <td>77</td>\n",
       "      <td>124</td>\n",
       "      <td>34</td>\n",
       "      <td>84</td>\n",
       "      <td>129</td>\n",
       "      <td>21</td>\n",
       "      <td>67</td>\n",
       "      <td>110</td>\n",
       "      <td>3</td>\n",
       "    </tr>\n",
       "    <tr>\n",
       "      <th>1</th>\n",
       "      <td>235</td>\n",
       "      <td>235</td>\n",
       "      <td>235</td>\n",
       "      <td>231</td>\n",
       "      <td>231</td>\n",
       "      <td>231</td>\n",
       "      <td>232</td>\n",
       "      <td>232</td>\n",
       "      <td>232</td>\n",
       "      <td>232</td>\n",
       "      <td>...</td>\n",
       "      <td>168</td>\n",
       "      <td>183</td>\n",
       "      <td>178</td>\n",
       "      <td>180</td>\n",
       "      <td>195</td>\n",
       "      <td>191</td>\n",
       "      <td>186</td>\n",
       "      <td>200</td>\n",
       "      <td>199</td>\n",
       "      <td>8</td>\n",
       "    </tr>\n",
       "    <tr>\n",
       "      <th>2</th>\n",
       "      <td>158</td>\n",
       "      <td>190</td>\n",
       "      <td>222</td>\n",
       "      <td>158</td>\n",
       "      <td>187</td>\n",
       "      <td>218</td>\n",
       "      <td>139</td>\n",
       "      <td>166</td>\n",
       "      <td>194</td>\n",
       "      <td>132</td>\n",
       "      <td>...</td>\n",
       "      <td>5</td>\n",
       "      <td>6</td>\n",
       "      <td>8</td>\n",
       "      <td>4</td>\n",
       "      <td>5</td>\n",
       "      <td>3</td>\n",
       "      <td>7</td>\n",
       "      <td>8</td>\n",
       "      <td>7</td>\n",
       "      <td>8</td>\n",
       "    </tr>\n",
       "    <tr>\n",
       "      <th>3</th>\n",
       "      <td>155</td>\n",
       "      <td>156</td>\n",
       "      <td>149</td>\n",
       "      <td>167</td>\n",
       "      <td>176</td>\n",
       "      <td>187</td>\n",
       "      <td>176</td>\n",
       "      <td>179</td>\n",
       "      <td>193</td>\n",
       "      <td>190</td>\n",
       "      <td>...</td>\n",
       "      <td>60</td>\n",
       "      <td>63</td>\n",
       "      <td>50</td>\n",
       "      <td>64</td>\n",
       "      <td>65</td>\n",
       "      <td>52</td>\n",
       "      <td>73</td>\n",
       "      <td>68</td>\n",
       "      <td>50</td>\n",
       "      <td>0</td>\n",
       "    </tr>\n",
       "    <tr>\n",
       "      <th>4</th>\n",
       "      <td>65</td>\n",
       "      <td>68</td>\n",
       "      <td>50</td>\n",
       "      <td>70</td>\n",
       "      <td>81</td>\n",
       "      <td>64</td>\n",
       "      <td>48</td>\n",
       "      <td>64</td>\n",
       "      <td>46</td>\n",
       "      <td>30</td>\n",
       "      <td>...</td>\n",
       "      <td>143</td>\n",
       "      <td>179</td>\n",
       "      <td>136</td>\n",
       "      <td>154</td>\n",
       "      <td>185</td>\n",
       "      <td>146</td>\n",
       "      <td>128</td>\n",
       "      <td>156</td>\n",
       "      <td>117</td>\n",
       "      <td>6</td>\n",
       "    </tr>\n",
       "    <tr>\n",
       "      <th>...</th>\n",
       "      <td>...</td>\n",
       "      <td>...</td>\n",
       "      <td>...</td>\n",
       "      <td>...</td>\n",
       "      <td>...</td>\n",
       "      <td>...</td>\n",
       "      <td>...</td>\n",
       "      <td>...</td>\n",
       "      <td>...</td>\n",
       "      <td>...</td>\n",
       "      <td>...</td>\n",
       "      <td>...</td>\n",
       "      <td>...</td>\n",
       "      <td>...</td>\n",
       "      <td>...</td>\n",
       "      <td>...</td>\n",
       "      <td>...</td>\n",
       "      <td>...</td>\n",
       "      <td>...</td>\n",
       "      <td>...</td>\n",
       "      <td>...</td>\n",
       "    </tr>\n",
       "    <tr>\n",
       "      <th>9995</th>\n",
       "      <td>76</td>\n",
       "      <td>78</td>\n",
       "      <td>133</td>\n",
       "      <td>76</td>\n",
       "      <td>78</td>\n",
       "      <td>134</td>\n",
       "      <td>77</td>\n",
       "      <td>80</td>\n",
       "      <td>132</td>\n",
       "      <td>76</td>\n",
       "      <td>...</td>\n",
       "      <td>204</td>\n",
       "      <td>219</td>\n",
       "      <td>236</td>\n",
       "      <td>200</td>\n",
       "      <td>215</td>\n",
       "      <td>234</td>\n",
       "      <td>199</td>\n",
       "      <td>216</td>\n",
       "      <td>236</td>\n",
       "      <td>8</td>\n",
       "    </tr>\n",
       "    <tr>\n",
       "      <th>9996</th>\n",
       "      <td>81</td>\n",
       "      <td>57</td>\n",
       "      <td>43</td>\n",
       "      <td>91</td>\n",
       "      <td>69</td>\n",
       "      <td>53</td>\n",
       "      <td>98</td>\n",
       "      <td>75</td>\n",
       "      <td>63</td>\n",
       "      <td>106</td>\n",
       "      <td>...</td>\n",
       "      <td>155</td>\n",
       "      <td>139</td>\n",
       "      <td>129</td>\n",
       "      <td>171</td>\n",
       "      <td>167</td>\n",
       "      <td>147</td>\n",
       "      <td>167</td>\n",
       "      <td>164</td>\n",
       "      <td>160</td>\n",
       "      <td>3</td>\n",
       "    </tr>\n",
       "    <tr>\n",
       "      <th>9997</th>\n",
       "      <td>20</td>\n",
       "      <td>15</td>\n",
       "      <td>12</td>\n",
       "      <td>19</td>\n",
       "      <td>14</td>\n",
       "      <td>11</td>\n",
       "      <td>15</td>\n",
       "      <td>14</td>\n",
       "      <td>11</td>\n",
       "      <td>15</td>\n",
       "      <td>...</td>\n",
       "      <td>24</td>\n",
       "      <td>23</td>\n",
       "      <td>50</td>\n",
       "      <td>26</td>\n",
       "      <td>23</td>\n",
       "      <td>53</td>\n",
       "      <td>25</td>\n",
       "      <td>20</td>\n",
       "      <td>47</td>\n",
       "      <td>5</td>\n",
       "    </tr>\n",
       "    <tr>\n",
       "      <th>9998</th>\n",
       "      <td>25</td>\n",
       "      <td>40</td>\n",
       "      <td>12</td>\n",
       "      <td>15</td>\n",
       "      <td>36</td>\n",
       "      <td>3</td>\n",
       "      <td>23</td>\n",
       "      <td>41</td>\n",
       "      <td>18</td>\n",
       "      <td>17</td>\n",
       "      <td>...</td>\n",
       "      <td>93</td>\n",
       "      <td>124</td>\n",
       "      <td>80</td>\n",
       "      <td>95</td>\n",
       "      <td>123</td>\n",
       "      <td>81</td>\n",
       "      <td>92</td>\n",
       "      <td>120</td>\n",
       "      <td>80</td>\n",
       "      <td>1</td>\n",
       "    </tr>\n",
       "    <tr>\n",
       "      <th>9999</th>\n",
       "      <td>73</td>\n",
       "      <td>78</td>\n",
       "      <td>75</td>\n",
       "      <td>98</td>\n",
       "      <td>103</td>\n",
       "      <td>113</td>\n",
       "      <td>99</td>\n",
       "      <td>106</td>\n",
       "      <td>114</td>\n",
       "      <td>77</td>\n",
       "      <td>...</td>\n",
       "      <td>116</td>\n",
       "      <td>115</td>\n",
       "      <td>94</td>\n",
       "      <td>68</td>\n",
       "      <td>65</td>\n",
       "      <td>58</td>\n",
       "      <td>27</td>\n",
       "      <td>26</td>\n",
       "      <td>26</td>\n",
       "      <td>7</td>\n",
       "    </tr>\n",
       "  </tbody>\n",
       "</table>\n",
       "<p>10000 rows × 3073 columns</p>\n",
       "</div>"
      ],
      "text/plain": [
       "        0    1    2    3    4    5    6    7    8    9  ...  3063  3064  3065  \\\n",
       "0     158  112   49  159  111   47  165  116   51  166  ...    24    77   124   \n",
       "1     235  235  235  231  231  231  232  232  232  232  ...   168   183   178   \n",
       "2     158  190  222  158  187  218  139  166  194  132  ...     5     6     8   \n",
       "3     155  156  149  167  176  187  176  179  193  190  ...    60    63    50   \n",
       "4      65   68   50   70   81   64   48   64   46   30  ...   143   179   136   \n",
       "...   ...  ...  ...  ...  ...  ...  ...  ...  ...  ...  ...   ...   ...   ...   \n",
       "9995   76   78  133   76   78  134   77   80  132   76  ...   204   219   236   \n",
       "9996   81   57   43   91   69   53   98   75   63  106  ...   155   139   129   \n",
       "9997   20   15   12   19   14   11   15   14   11   15  ...    24    23    50   \n",
       "9998   25   40   12   15   36    3   23   41   18   17  ...    93   124    80   \n",
       "9999   73   78   75   98  103  113   99  106  114   77  ...   116   115    94   \n",
       "\n",
       "      3066  3067  3068  3069  3070  3071  labels  \n",
       "0       34    84   129    21    67   110       3  \n",
       "1      180   195   191   186   200   199       8  \n",
       "2        4     5     3     7     8     7       8  \n",
       "3       64    65    52    73    68    50       0  \n",
       "4      154   185   146   128   156   117       6  \n",
       "...    ...   ...   ...   ...   ...   ...     ...  \n",
       "9995   200   215   234   199   216   236       8  \n",
       "9996   171   167   147   167   164   160       3  \n",
       "9997    26    23    53    25    20    47       5  \n",
       "9998    95   123    81    92   120    80       1  \n",
       "9999    68    65    58    27    26    26       7  \n",
       "\n",
       "[10000 rows x 3073 columns]"
      ]
     },
     "execution_count": 5,
     "metadata": {},
     "output_type": "execute_result"
    }
   ],
   "source": [
    "import pandas as pd\n",
    "\n",
    "x_df= x_test.reshape(10000, x_test.shape[1] * x_test.shape[2] *x_test.shape[3] )\n",
    "\n",
    "imgs = pd.DataFrame() \n",
    "df_labels = pd.DataFrame() \n",
    "\n",
    "imgs = imgs.append(pd.DataFrame(x_df)) \n",
    "df_labels = df_labels.append(pd.DataFrame(y_test)) \n",
    "imgs['labels'] = df_labels \n",
    "\n",
    "imgs"
   ]
  },
  {
   "cell_type": "code",
   "execution_count": 6,
   "metadata": {},
   "outputs": [
    {
     "name": "stderr",
     "output_type": "stream",
     "text": [
      "100%|███████████████████████████████████████████████████████████████████████████████████████████| 10000/10000 [01:35<00:00, 104.86it/s]\n"
     ]
    }
   ],
   "source": [
    "x_test = resize_image_arr(x_test)"
   ]
  },
  {
   "cell_type": "code",
   "execution_count": 16,
   "metadata": {},
   "outputs": [],
   "source": [
    "# Convert class vectors to binary class matrices.\n",
    "#y_test = keras.utils.to_categorical(y_test, NUM_CLASSES)\n",
    "\n",
    "# Normalize the data\n",
    "x_test = x_test.astype('float32')\n",
    "x_test /= 255"
   ]
  },
  {
   "cell_type": "code",
   "execution_count": 17,
   "metadata": {},
   "outputs": [
    {
     "data": {
      "text/plain": [
       "(0.0, 1.0)"
      ]
     },
     "execution_count": 17,
     "metadata": {},
     "output_type": "execute_result"
    }
   ],
   "source": [
    "np.min(x_test),np.max(x_test)"
   ]
  },
  {
   "cell_type": "code",
   "execution_count": 18,
   "metadata": {},
   "outputs": [
    {
     "name": "stderr",
     "output_type": "stream",
     "text": [
      "C:\\Users\\benza-ord\\anaconda3\\envs\\keras-gpu\\lib\\site-packages\\keras_applications\\resnet50.py:265: UserWarning: The output shape of `ResNet50(include_top=False)` has been changed since Keras 2.2.0.\n",
      "  warnings.warn('The output shape of `ResNet50(include_top=False)` '\n"
     ]
    }
   ],
   "source": [
    "base_model = ResNet50(include_top=False, weights= None)"
   ]
  },
  {
   "cell_type": "code",
   "execution_count": 10,
   "metadata": {},
   "outputs": [
    {
     "name": "stdout",
     "output_type": "stream",
     "text": [
      "Model: \"resnet50\"\n",
      "__________________________________________________________________________________________________\n",
      "Layer (type)                    Output Shape         Param #     Connected to                     \n",
      "==================================================================================================\n",
      "input_2 (InputLayer)            (None, None, None, 3 0                                            \n",
      "__________________________________________________________________________________________________\n",
      "conv1_pad (ZeroPadding2D)       (None, None, None, 3 0           input_2[0][0]                    \n",
      "__________________________________________________________________________________________________\n",
      "conv1 (Conv2D)                  (None, None, None, 6 9472        conv1_pad[0][0]                  \n",
      "__________________________________________________________________________________________________\n",
      "bn_conv1 (BatchNormalization)   (None, None, None, 6 256         conv1[0][0]                      \n",
      "__________________________________________________________________________________________________\n",
      "activation_50 (Activation)      (None, None, None, 6 0           bn_conv1[0][0]                   \n",
      "__________________________________________________________________________________________________\n",
      "pool1_pad (ZeroPadding2D)       (None, None, None, 6 0           activation_50[0][0]              \n",
      "__________________________________________________________________________________________________\n",
      "max_pooling2d_2 (MaxPooling2D)  (None, None, None, 6 0           pool1_pad[0][0]                  \n",
      "__________________________________________________________________________________________________\n",
      "res2a_branch2a (Conv2D)         (None, None, None, 6 4160        max_pooling2d_2[0][0]            \n",
      "__________________________________________________________________________________________________\n",
      "bn2a_branch2a (BatchNormalizati (None, None, None, 6 256         res2a_branch2a[0][0]             \n",
      "__________________________________________________________________________________________________\n",
      "activation_51 (Activation)      (None, None, None, 6 0           bn2a_branch2a[0][0]              \n",
      "__________________________________________________________________________________________________\n",
      "res2a_branch2b (Conv2D)         (None, None, None, 6 36928       activation_51[0][0]              \n",
      "__________________________________________________________________________________________________\n",
      "bn2a_branch2b (BatchNormalizati (None, None, None, 6 256         res2a_branch2b[0][0]             \n",
      "__________________________________________________________________________________________________\n",
      "activation_52 (Activation)      (None, None, None, 6 0           bn2a_branch2b[0][0]              \n",
      "__________________________________________________________________________________________________\n",
      "res2a_branch2c (Conv2D)         (None, None, None, 2 16640       activation_52[0][0]              \n",
      "__________________________________________________________________________________________________\n",
      "res2a_branch1 (Conv2D)          (None, None, None, 2 16640       max_pooling2d_2[0][0]            \n",
      "__________________________________________________________________________________________________\n",
      "bn2a_branch2c (BatchNormalizati (None, None, None, 2 1024        res2a_branch2c[0][0]             \n",
      "__________________________________________________________________________________________________\n",
      "bn2a_branch1 (BatchNormalizatio (None, None, None, 2 1024        res2a_branch1[0][0]              \n",
      "__________________________________________________________________________________________________\n",
      "add_17 (Add)                    (None, None, None, 2 0           bn2a_branch2c[0][0]              \n",
      "                                                                 bn2a_branch1[0][0]               \n",
      "__________________________________________________________________________________________________\n",
      "activation_53 (Activation)      (None, None, None, 2 0           add_17[0][0]                     \n",
      "__________________________________________________________________________________________________\n",
      "res2b_branch2a (Conv2D)         (None, None, None, 6 16448       activation_53[0][0]              \n",
      "__________________________________________________________________________________________________\n",
      "bn2b_branch2a (BatchNormalizati (None, None, None, 6 256         res2b_branch2a[0][0]             \n",
      "__________________________________________________________________________________________________\n",
      "activation_54 (Activation)      (None, None, None, 6 0           bn2b_branch2a[0][0]              \n",
      "__________________________________________________________________________________________________\n",
      "res2b_branch2b (Conv2D)         (None, None, None, 6 36928       activation_54[0][0]              \n",
      "__________________________________________________________________________________________________\n",
      "bn2b_branch2b (BatchNormalizati (None, None, None, 6 256         res2b_branch2b[0][0]             \n",
      "__________________________________________________________________________________________________\n",
      "activation_55 (Activation)      (None, None, None, 6 0           bn2b_branch2b[0][0]              \n",
      "__________________________________________________________________________________________________\n",
      "res2b_branch2c (Conv2D)         (None, None, None, 2 16640       activation_55[0][0]              \n",
      "__________________________________________________________________________________________________\n",
      "bn2b_branch2c (BatchNormalizati (None, None, None, 2 1024        res2b_branch2c[0][0]             \n",
      "__________________________________________________________________________________________________\n",
      "add_18 (Add)                    (None, None, None, 2 0           bn2b_branch2c[0][0]              \n",
      "                                                                 activation_53[0][0]              \n",
      "__________________________________________________________________________________________________\n",
      "activation_56 (Activation)      (None, None, None, 2 0           add_18[0][0]                     \n",
      "__________________________________________________________________________________________________\n",
      "res2c_branch2a (Conv2D)         (None, None, None, 6 16448       activation_56[0][0]              \n",
      "__________________________________________________________________________________________________\n",
      "bn2c_branch2a (BatchNormalizati (None, None, None, 6 256         res2c_branch2a[0][0]             \n",
      "__________________________________________________________________________________________________\n",
      "activation_57 (Activation)      (None, None, None, 6 0           bn2c_branch2a[0][0]              \n",
      "__________________________________________________________________________________________________\n",
      "res2c_branch2b (Conv2D)         (None, None, None, 6 36928       activation_57[0][0]              \n",
      "__________________________________________________________________________________________________\n",
      "bn2c_branch2b (BatchNormalizati (None, None, None, 6 256         res2c_branch2b[0][0]             \n",
      "__________________________________________________________________________________________________\n",
      "activation_58 (Activation)      (None, None, None, 6 0           bn2c_branch2b[0][0]              \n",
      "__________________________________________________________________________________________________\n",
      "res2c_branch2c (Conv2D)         (None, None, None, 2 16640       activation_58[0][0]              \n",
      "__________________________________________________________________________________________________\n",
      "bn2c_branch2c (BatchNormalizati (None, None, None, 2 1024        res2c_branch2c[0][0]             \n",
      "__________________________________________________________________________________________________\n",
      "add_19 (Add)                    (None, None, None, 2 0           bn2c_branch2c[0][0]              \n",
      "                                                                 activation_56[0][0]              \n",
      "__________________________________________________________________________________________________\n",
      "activation_59 (Activation)      (None, None, None, 2 0           add_19[0][0]                     \n",
      "__________________________________________________________________________________________________\n",
      "res3a_branch2a (Conv2D)         (None, None, None, 1 32896       activation_59[0][0]              \n",
      "__________________________________________________________________________________________________\n",
      "bn3a_branch2a (BatchNormalizati (None, None, None, 1 512         res3a_branch2a[0][0]             \n",
      "__________________________________________________________________________________________________\n",
      "activation_60 (Activation)      (None, None, None, 1 0           bn3a_branch2a[0][0]              \n",
      "__________________________________________________________________________________________________\n",
      "res3a_branch2b (Conv2D)         (None, None, None, 1 147584      activation_60[0][0]              \n",
      "__________________________________________________________________________________________________\n",
      "bn3a_branch2b (BatchNormalizati (None, None, None, 1 512         res3a_branch2b[0][0]             \n",
      "__________________________________________________________________________________________________\n",
      "activation_61 (Activation)      (None, None, None, 1 0           bn3a_branch2b[0][0]              \n",
      "__________________________________________________________________________________________________\n",
      "res3a_branch2c (Conv2D)         (None, None, None, 5 66048       activation_61[0][0]              \n",
      "__________________________________________________________________________________________________\n",
      "res3a_branch1 (Conv2D)          (None, None, None, 5 131584      activation_59[0][0]              \n",
      "__________________________________________________________________________________________________\n",
      "bn3a_branch2c (BatchNormalizati (None, None, None, 5 2048        res3a_branch2c[0][0]             \n",
      "__________________________________________________________________________________________________\n",
      "bn3a_branch1 (BatchNormalizatio (None, None, None, 5 2048        res3a_branch1[0][0]              \n",
      "__________________________________________________________________________________________________\n",
      "add_20 (Add)                    (None, None, None, 5 0           bn3a_branch2c[0][0]              \n",
      "                                                                 bn3a_branch1[0][0]               \n",
      "__________________________________________________________________________________________________\n",
      "activation_62 (Activation)      (None, None, None, 5 0           add_20[0][0]                     \n",
      "__________________________________________________________________________________________________\n",
      "res3b_branch2a (Conv2D)         (None, None, None, 1 65664       activation_62[0][0]              \n",
      "__________________________________________________________________________________________________\n",
      "bn3b_branch2a (BatchNormalizati (None, None, None, 1 512         res3b_branch2a[0][0]             \n",
      "__________________________________________________________________________________________________\n",
      "activation_63 (Activation)      (None, None, None, 1 0           bn3b_branch2a[0][0]              \n",
      "__________________________________________________________________________________________________\n",
      "res3b_branch2b (Conv2D)         (None, None, None, 1 147584      activation_63[0][0]              \n",
      "__________________________________________________________________________________________________\n",
      "bn3b_branch2b (BatchNormalizati (None, None, None, 1 512         res3b_branch2b[0][0]             \n",
      "__________________________________________________________________________________________________\n",
      "activation_64 (Activation)      (None, None, None, 1 0           bn3b_branch2b[0][0]              \n",
      "__________________________________________________________________________________________________\n",
      "res3b_branch2c (Conv2D)         (None, None, None, 5 66048       activation_64[0][0]              \n",
      "__________________________________________________________________________________________________\n",
      "bn3b_branch2c (BatchNormalizati (None, None, None, 5 2048        res3b_branch2c[0][0]             \n",
      "__________________________________________________________________________________________________\n",
      "add_21 (Add)                    (None, None, None, 5 0           bn3b_branch2c[0][0]              \n",
      "                                                                 activation_62[0][0]              \n",
      "__________________________________________________________________________________________________\n",
      "activation_65 (Activation)      (None, None, None, 5 0           add_21[0][0]                     \n",
      "__________________________________________________________________________________________________\n",
      "res3c_branch2a (Conv2D)         (None, None, None, 1 65664       activation_65[0][0]              \n",
      "__________________________________________________________________________________________________\n",
      "bn3c_branch2a (BatchNormalizati (None, None, None, 1 512         res3c_branch2a[0][0]             \n",
      "__________________________________________________________________________________________________\n",
      "activation_66 (Activation)      (None, None, None, 1 0           bn3c_branch2a[0][0]              \n",
      "__________________________________________________________________________________________________\n",
      "res3c_branch2b (Conv2D)         (None, None, None, 1 147584      activation_66[0][0]              \n",
      "__________________________________________________________________________________________________\n",
      "bn3c_branch2b (BatchNormalizati (None, None, None, 1 512         res3c_branch2b[0][0]             \n",
      "__________________________________________________________________________________________________\n",
      "activation_67 (Activation)      (None, None, None, 1 0           bn3c_branch2b[0][0]              \n",
      "__________________________________________________________________________________________________\n",
      "res3c_branch2c (Conv2D)         (None, None, None, 5 66048       activation_67[0][0]              \n",
      "__________________________________________________________________________________________________\n",
      "bn3c_branch2c (BatchNormalizati (None, None, None, 5 2048        res3c_branch2c[0][0]             \n",
      "__________________________________________________________________________________________________\n",
      "add_22 (Add)                    (None, None, None, 5 0           bn3c_branch2c[0][0]              \n",
      "                                                                 activation_65[0][0]              \n",
      "__________________________________________________________________________________________________\n",
      "activation_68 (Activation)      (None, None, None, 5 0           add_22[0][0]                     \n",
      "__________________________________________________________________________________________________\n",
      "res3d_branch2a (Conv2D)         (None, None, None, 1 65664       activation_68[0][0]              \n",
      "__________________________________________________________________________________________________\n",
      "bn3d_branch2a (BatchNormalizati (None, None, None, 1 512         res3d_branch2a[0][0]             \n",
      "__________________________________________________________________________________________________\n",
      "activation_69 (Activation)      (None, None, None, 1 0           bn3d_branch2a[0][0]              \n",
      "__________________________________________________________________________________________________\n",
      "res3d_branch2b (Conv2D)         (None, None, None, 1 147584      activation_69[0][0]              \n",
      "__________________________________________________________________________________________________\n",
      "bn3d_branch2b (BatchNormalizati (None, None, None, 1 512         res3d_branch2b[0][0]             \n",
      "__________________________________________________________________________________________________\n",
      "activation_70 (Activation)      (None, None, None, 1 0           bn3d_branch2b[0][0]              \n",
      "__________________________________________________________________________________________________\n",
      "res3d_branch2c (Conv2D)         (None, None, None, 5 66048       activation_70[0][0]              \n",
      "__________________________________________________________________________________________________\n",
      "bn3d_branch2c (BatchNormalizati (None, None, None, 5 2048        res3d_branch2c[0][0]             \n",
      "__________________________________________________________________________________________________\n",
      "add_23 (Add)                    (None, None, None, 5 0           bn3d_branch2c[0][0]              \n",
      "                                                                 activation_68[0][0]              \n",
      "__________________________________________________________________________________________________\n",
      "activation_71 (Activation)      (None, None, None, 5 0           add_23[0][0]                     \n",
      "__________________________________________________________________________________________________\n",
      "res4a_branch2a (Conv2D)         (None, None, None, 2 131328      activation_71[0][0]              \n",
      "__________________________________________________________________________________________________\n",
      "bn4a_branch2a (BatchNormalizati (None, None, None, 2 1024        res4a_branch2a[0][0]             \n",
      "__________________________________________________________________________________________________\n",
      "activation_72 (Activation)      (None, None, None, 2 0           bn4a_branch2a[0][0]              \n",
      "__________________________________________________________________________________________________\n",
      "res4a_branch2b (Conv2D)         (None, None, None, 2 590080      activation_72[0][0]              \n",
      "__________________________________________________________________________________________________\n",
      "bn4a_branch2b (BatchNormalizati (None, None, None, 2 1024        res4a_branch2b[0][0]             \n",
      "__________________________________________________________________________________________________\n",
      "activation_73 (Activation)      (None, None, None, 2 0           bn4a_branch2b[0][0]              \n",
      "__________________________________________________________________________________________________\n",
      "res4a_branch2c (Conv2D)         (None, None, None, 1 263168      activation_73[0][0]              \n",
      "__________________________________________________________________________________________________\n",
      "res4a_branch1 (Conv2D)          (None, None, None, 1 525312      activation_71[0][0]              \n",
      "__________________________________________________________________________________________________\n",
      "bn4a_branch2c (BatchNormalizati (None, None, None, 1 4096        res4a_branch2c[0][0]             \n",
      "__________________________________________________________________________________________________\n",
      "bn4a_branch1 (BatchNormalizatio (None, None, None, 1 4096        res4a_branch1[0][0]              \n",
      "__________________________________________________________________________________________________\n",
      "add_24 (Add)                    (None, None, None, 1 0           bn4a_branch2c[0][0]              \n",
      "                                                                 bn4a_branch1[0][0]               \n",
      "__________________________________________________________________________________________________\n",
      "activation_74 (Activation)      (None, None, None, 1 0           add_24[0][0]                     \n",
      "__________________________________________________________________________________________________\n",
      "res4b_branch2a (Conv2D)         (None, None, None, 2 262400      activation_74[0][0]              \n",
      "__________________________________________________________________________________________________\n",
      "bn4b_branch2a (BatchNormalizati (None, None, None, 2 1024        res4b_branch2a[0][0]             \n",
      "__________________________________________________________________________________________________\n",
      "activation_75 (Activation)      (None, None, None, 2 0           bn4b_branch2a[0][0]              \n",
      "__________________________________________________________________________________________________\n",
      "res4b_branch2b (Conv2D)         (None, None, None, 2 590080      activation_75[0][0]              \n",
      "__________________________________________________________________________________________________\n",
      "bn4b_branch2b (BatchNormalizati (None, None, None, 2 1024        res4b_branch2b[0][0]             \n",
      "__________________________________________________________________________________________________\n",
      "activation_76 (Activation)      (None, None, None, 2 0           bn4b_branch2b[0][0]              \n",
      "__________________________________________________________________________________________________\n",
      "res4b_branch2c (Conv2D)         (None, None, None, 1 263168      activation_76[0][0]              \n",
      "__________________________________________________________________________________________________\n",
      "bn4b_branch2c (BatchNormalizati (None, None, None, 1 4096        res4b_branch2c[0][0]             \n",
      "__________________________________________________________________________________________________\n",
      "add_25 (Add)                    (None, None, None, 1 0           bn4b_branch2c[0][0]              \n",
      "                                                                 activation_74[0][0]              \n",
      "__________________________________________________________________________________________________\n",
      "activation_77 (Activation)      (None, None, None, 1 0           add_25[0][0]                     \n",
      "__________________________________________________________________________________________________\n",
      "res4c_branch2a (Conv2D)         (None, None, None, 2 262400      activation_77[0][0]              \n",
      "__________________________________________________________________________________________________\n",
      "bn4c_branch2a (BatchNormalizati (None, None, None, 2 1024        res4c_branch2a[0][0]             \n",
      "__________________________________________________________________________________________________\n",
      "activation_78 (Activation)      (None, None, None, 2 0           bn4c_branch2a[0][0]              \n",
      "__________________________________________________________________________________________________\n",
      "res4c_branch2b (Conv2D)         (None, None, None, 2 590080      activation_78[0][0]              \n",
      "__________________________________________________________________________________________________\n",
      "bn4c_branch2b (BatchNormalizati (None, None, None, 2 1024        res4c_branch2b[0][0]             \n",
      "__________________________________________________________________________________________________\n",
      "activation_79 (Activation)      (None, None, None, 2 0           bn4c_branch2b[0][0]              \n",
      "__________________________________________________________________________________________________\n",
      "res4c_branch2c (Conv2D)         (None, None, None, 1 263168      activation_79[0][0]              \n",
      "__________________________________________________________________________________________________\n",
      "bn4c_branch2c (BatchNormalizati (None, None, None, 1 4096        res4c_branch2c[0][0]             \n",
      "__________________________________________________________________________________________________\n",
      "add_26 (Add)                    (None, None, None, 1 0           bn4c_branch2c[0][0]              \n",
      "                                                                 activation_77[0][0]              \n",
      "__________________________________________________________________________________________________\n",
      "activation_80 (Activation)      (None, None, None, 1 0           add_26[0][0]                     \n",
      "__________________________________________________________________________________________________\n",
      "res4d_branch2a (Conv2D)         (None, None, None, 2 262400      activation_80[0][0]              \n",
      "__________________________________________________________________________________________________\n",
      "bn4d_branch2a (BatchNormalizati (None, None, None, 2 1024        res4d_branch2a[0][0]             \n",
      "__________________________________________________________________________________________________\n",
      "activation_81 (Activation)      (None, None, None, 2 0           bn4d_branch2a[0][0]              \n",
      "__________________________________________________________________________________________________\n",
      "res4d_branch2b (Conv2D)         (None, None, None, 2 590080      activation_81[0][0]              \n",
      "__________________________________________________________________________________________________\n",
      "bn4d_branch2b (BatchNormalizati (None, None, None, 2 1024        res4d_branch2b[0][0]             \n",
      "__________________________________________________________________________________________________\n",
      "activation_82 (Activation)      (None, None, None, 2 0           bn4d_branch2b[0][0]              \n",
      "__________________________________________________________________________________________________\n",
      "res4d_branch2c (Conv2D)         (None, None, None, 1 263168      activation_82[0][0]              \n",
      "__________________________________________________________________________________________________\n",
      "bn4d_branch2c (BatchNormalizati (None, None, None, 1 4096        res4d_branch2c[0][0]             \n",
      "__________________________________________________________________________________________________\n",
      "add_27 (Add)                    (None, None, None, 1 0           bn4d_branch2c[0][0]              \n",
      "                                                                 activation_80[0][0]              \n",
      "__________________________________________________________________________________________________\n",
      "activation_83 (Activation)      (None, None, None, 1 0           add_27[0][0]                     \n",
      "__________________________________________________________________________________________________\n",
      "res4e_branch2a (Conv2D)         (None, None, None, 2 262400      activation_83[0][0]              \n",
      "__________________________________________________________________________________________________\n",
      "bn4e_branch2a (BatchNormalizati (None, None, None, 2 1024        res4e_branch2a[0][0]             \n",
      "__________________________________________________________________________________________________\n",
      "activation_84 (Activation)      (None, None, None, 2 0           bn4e_branch2a[0][0]              \n",
      "__________________________________________________________________________________________________\n",
      "res4e_branch2b (Conv2D)         (None, None, None, 2 590080      activation_84[0][0]              \n",
      "__________________________________________________________________________________________________\n",
      "bn4e_branch2b (BatchNormalizati (None, None, None, 2 1024        res4e_branch2b[0][0]             \n",
      "__________________________________________________________________________________________________\n",
      "activation_85 (Activation)      (None, None, None, 2 0           bn4e_branch2b[0][0]              \n",
      "__________________________________________________________________________________________________\n",
      "res4e_branch2c (Conv2D)         (None, None, None, 1 263168      activation_85[0][0]              \n",
      "__________________________________________________________________________________________________\n",
      "bn4e_branch2c (BatchNormalizati (None, None, None, 1 4096        res4e_branch2c[0][0]             \n",
      "__________________________________________________________________________________________________\n",
      "add_28 (Add)                    (None, None, None, 1 0           bn4e_branch2c[0][0]              \n",
      "                                                                 activation_83[0][0]              \n",
      "__________________________________________________________________________________________________\n",
      "activation_86 (Activation)      (None, None, None, 1 0           add_28[0][0]                     \n",
      "__________________________________________________________________________________________________\n",
      "res4f_branch2a (Conv2D)         (None, None, None, 2 262400      activation_86[0][0]              \n",
      "__________________________________________________________________________________________________\n",
      "bn4f_branch2a (BatchNormalizati (None, None, None, 2 1024        res4f_branch2a[0][0]             \n",
      "__________________________________________________________________________________________________\n",
      "activation_87 (Activation)      (None, None, None, 2 0           bn4f_branch2a[0][0]              \n",
      "__________________________________________________________________________________________________\n",
      "res4f_branch2b (Conv2D)         (None, None, None, 2 590080      activation_87[0][0]              \n",
      "__________________________________________________________________________________________________\n",
      "bn4f_branch2b (BatchNormalizati (None, None, None, 2 1024        res4f_branch2b[0][0]             \n",
      "__________________________________________________________________________________________________\n",
      "activation_88 (Activation)      (None, None, None, 2 0           bn4f_branch2b[0][0]              \n",
      "__________________________________________________________________________________________________\n",
      "res4f_branch2c (Conv2D)         (None, None, None, 1 263168      activation_88[0][0]              \n",
      "__________________________________________________________________________________________________\n",
      "bn4f_branch2c (BatchNormalizati (None, None, None, 1 4096        res4f_branch2c[0][0]             \n",
      "__________________________________________________________________________________________________\n",
      "add_29 (Add)                    (None, None, None, 1 0           bn4f_branch2c[0][0]              \n",
      "                                                                 activation_86[0][0]              \n",
      "__________________________________________________________________________________________________\n",
      "activation_89 (Activation)      (None, None, None, 1 0           add_29[0][0]                     \n",
      "__________________________________________________________________________________________________\n",
      "res5a_branch2a (Conv2D)         (None, None, None, 5 524800      activation_89[0][0]              \n",
      "__________________________________________________________________________________________________\n",
      "bn5a_branch2a (BatchNormalizati (None, None, None, 5 2048        res5a_branch2a[0][0]             \n",
      "__________________________________________________________________________________________________\n",
      "activation_90 (Activation)      (None, None, None, 5 0           bn5a_branch2a[0][0]              \n",
      "__________________________________________________________________________________________________\n",
      "res5a_branch2b (Conv2D)         (None, None, None, 5 2359808     activation_90[0][0]              \n",
      "__________________________________________________________________________________________________\n",
      "bn5a_branch2b (BatchNormalizati (None, None, None, 5 2048        res5a_branch2b[0][0]             \n",
      "__________________________________________________________________________________________________\n",
      "activation_91 (Activation)      (None, None, None, 5 0           bn5a_branch2b[0][0]              \n",
      "__________________________________________________________________________________________________\n",
      "res5a_branch2c (Conv2D)         (None, None, None, 2 1050624     activation_91[0][0]              \n",
      "__________________________________________________________________________________________________\n",
      "res5a_branch1 (Conv2D)          (None, None, None, 2 2099200     activation_89[0][0]              \n",
      "__________________________________________________________________________________________________\n",
      "bn5a_branch2c (BatchNormalizati (None, None, None, 2 8192        res5a_branch2c[0][0]             \n",
      "__________________________________________________________________________________________________\n",
      "bn5a_branch1 (BatchNormalizatio (None, None, None, 2 8192        res5a_branch1[0][0]              \n",
      "__________________________________________________________________________________________________\n",
      "add_30 (Add)                    (None, None, None, 2 0           bn5a_branch2c[0][0]              \n",
      "                                                                 bn5a_branch1[0][0]               \n",
      "__________________________________________________________________________________________________\n",
      "activation_92 (Activation)      (None, None, None, 2 0           add_30[0][0]                     \n",
      "__________________________________________________________________________________________________\n",
      "res5b_branch2a (Conv2D)         (None, None, None, 5 1049088     activation_92[0][0]              \n",
      "__________________________________________________________________________________________________\n",
      "bn5b_branch2a (BatchNormalizati (None, None, None, 5 2048        res5b_branch2a[0][0]             \n",
      "__________________________________________________________________________________________________\n",
      "activation_93 (Activation)      (None, None, None, 5 0           bn5b_branch2a[0][0]              \n",
      "__________________________________________________________________________________________________\n",
      "res5b_branch2b (Conv2D)         (None, None, None, 5 2359808     activation_93[0][0]              \n",
      "__________________________________________________________________________________________________\n",
      "bn5b_branch2b (BatchNormalizati (None, None, None, 5 2048        res5b_branch2b[0][0]             \n",
      "__________________________________________________________________________________________________\n",
      "activation_94 (Activation)      (None, None, None, 5 0           bn5b_branch2b[0][0]              \n",
      "__________________________________________________________________________________________________\n",
      "res5b_branch2c (Conv2D)         (None, None, None, 2 1050624     activation_94[0][0]              \n",
      "__________________________________________________________________________________________________\n",
      "bn5b_branch2c (BatchNormalizati (None, None, None, 2 8192        res5b_branch2c[0][0]             \n",
      "__________________________________________________________________________________________________\n",
      "add_31 (Add)                    (None, None, None, 2 0           bn5b_branch2c[0][0]              \n",
      "                                                                 activation_92[0][0]              \n",
      "__________________________________________________________________________________________________\n",
      "activation_95 (Activation)      (None, None, None, 2 0           add_31[0][0]                     \n",
      "__________________________________________________________________________________________________\n",
      "res5c_branch2a (Conv2D)         (None, None, None, 5 1049088     activation_95[0][0]              \n",
      "__________________________________________________________________________________________________\n",
      "bn5c_branch2a (BatchNormalizati (None, None, None, 5 2048        res5c_branch2a[0][0]             \n",
      "__________________________________________________________________________________________________\n",
      "activation_96 (Activation)      (None, None, None, 5 0           bn5c_branch2a[0][0]              \n",
      "__________________________________________________________________________________________________\n",
      "res5c_branch2b (Conv2D)         (None, None, None, 5 2359808     activation_96[0][0]              \n",
      "__________________________________________________________________________________________________\n",
      "bn5c_branch2b (BatchNormalizati (None, None, None, 5 2048        res5c_branch2b[0][0]             \n",
      "__________________________________________________________________________________________________\n",
      "activation_97 (Activation)      (None, None, None, 5 0           bn5c_branch2b[0][0]              \n",
      "__________________________________________________________________________________________________\n",
      "res5c_branch2c (Conv2D)         (None, None, None, 2 1050624     activation_97[0][0]              \n",
      "__________________________________________________________________________________________________\n",
      "bn5c_branch2c (BatchNormalizati (None, None, None, 2 8192        res5c_branch2c[0][0]             \n",
      "__________________________________________________________________________________________________\n",
      "add_32 (Add)                    (None, None, None, 2 0           bn5c_branch2c[0][0]              \n",
      "                                                                 activation_95[0][0]              \n",
      "__________________________________________________________________________________________________\n",
      "activation_98 (Activation)      (None, None, None, 2 0           add_32[0][0]                     \n",
      "==================================================================================================\n",
      "Total params: 23,587,712\n",
      "Trainable params: 23,534,592\n",
      "Non-trainable params: 53,120\n",
      "__________________________________________________________________________________________________\n"
     ]
    }
   ],
   "source": [
    "base_model.summary()"
   ]
  },
  {
   "cell_type": "code",
   "execution_count": null,
   "metadata": {},
   "outputs": [],
   "source": [
    "img_idx = imgs.loc[imgs['labels'] == i][:100]\n",
    "\n",
    "abc = img_idx.iloc[:, :3072]\n",
    "\n",
    "for idx, row in abc.iterrows():\n",
    "    print(idx)"
   ]
  },
  {
   "cell_type": "code",
   "execution_count": 12,
   "metadata": {},
   "outputs": [
    {
     "data": {
      "text/plain": [
       "(10000, 224, 224, 3)"
      ]
     },
     "execution_count": 12,
     "metadata": {},
     "output_type": "execute_result"
    }
   ],
   "source": [
    "x_test.shape"
   ]
  },
  {
   "cell_type": "code",
   "execution_count": 53,
   "metadata": {},
   "outputs": [
    {
     "name": "stderr",
     "output_type": "stream",
     "text": [
      " 11%|██████████▌                                                                                     | 11/100 [00:00<00:00, 104.05it/s]"
     ]
    },
    {
     "name": "stdout",
     "output_type": "stream",
     "text": [
      "(100, 32, 32, 3)\n"
     ]
    },
    {
     "name": "stderr",
     "output_type": "stream",
     "text": [
      "100%|███████████████████████████████████████████████████████████████████████████████████████████████| 100/100 [00:00<00:00, 104.01it/s]\n",
      "C:\\Users\\benza-ord\\anaconda3\\envs\\keras-gpu\\lib\\site-packages\\ipykernel_launcher.py:47: UserWarning: Update your `Model` call to the Keras 2 API: `Model(inputs=[<tf.Tenso..., outputs=Tensor(\"co...)`\n"
     ]
    },
    {
     "name": "stdout",
     "output_type": "stream",
     "text": [
      "(100, 224, 224, 3)\n",
      "2 conv1\n",
      "preds (100, 112, 112, 64)\n",
      "(100, 802816)\n"
     ]
    },
    {
     "name": "stderr",
     "output_type": "stream",
     "text": [
      "C:\\Users\\benza-ord\\anaconda3\\envs\\keras-gpu\\lib\\site-packages\\sklearn\\decomposition\\_pca.py:555: RuntimeWarning: divide by zero encountered in true_divide\n",
      "  self.explained_variance_ / total_var.sum()\n",
      " 12%|███████████▌                                                                                    | 12/100 [00:00<00:00, 115.69it/s]"
     ]
    },
    {
     "name": "stdout",
     "output_type": "stream",
     "text": [
      "         PC1           PC2  target\n",
      "0   0.000003 -1.599045e-16       3\n",
      "1   0.000003 -1.546660e-16       8\n",
      "2   0.000003 -1.546658e-16       8\n",
      "3   0.000003 -1.546658e-16       0\n",
      "4   0.000003 -1.546658e-16       6\n",
      "..       ...           ...     ...\n",
      "95  0.000003 -1.546658e-16       6\n",
      "96  0.000003  3.713291e-15       6\n",
      "97  0.000003  3.713291e-15       0\n",
      "98  0.000003  3.713291e-15       0\n",
      "99  0.000003  3.713291e-15       7\n",
      "\n",
      "[100 rows x 3 columns]\n",
      "(100, 32, 32, 3)\n"
     ]
    },
    {
     "name": "stderr",
     "output_type": "stream",
     "text": [
      "100%|███████████████████████████████████████████████████████████████████████████████████████████████| 100/100 [00:00<00:00, 112.51it/s]\n",
      "C:\\Users\\benza-ord\\anaconda3\\envs\\keras-gpu\\lib\\site-packages\\ipykernel_launcher.py:47: UserWarning: Update your `Model` call to the Keras 2 API: `Model(inputs=[<tf.Tenso..., outputs=Tensor(\"co...)`\n"
     ]
    },
    {
     "name": "stdout",
     "output_type": "stream",
     "text": [
      "(100, 224, 224, 3)\n",
      "2 conv1\n",
      "preds (100, 112, 112, 64)\n",
      "(100, 802816)\n"
     ]
    },
    {
     "name": "stderr",
     "output_type": "stream",
     "text": [
      "C:\\Users\\benza-ord\\anaconda3\\envs\\keras-gpu\\lib\\site-packages\\sklearn\\decomposition\\_pca.py:555: RuntimeWarning: divide by zero encountered in true_divide\n",
      "  self.explained_variance_ / total_var.sum()\n",
      " 12%|███████████▌                                                                                    | 12/100 [00:00<00:00, 111.41it/s]"
     ]
    },
    {
     "name": "stdout",
     "output_type": "stream",
     "text": [
      "         PC1           PC2  target\n",
      "0   0.000002 -9.925740e-17       3\n",
      "1   0.000002 -9.865411e-17       8\n",
      "2   0.000002 -9.865486e-17       8\n",
      "3   0.000002 -9.865424e-17       0\n",
      "4   0.000002 -9.865424e-17       6\n",
      "..       ...           ...     ...\n",
      "95  0.000002 -9.865424e-17       6\n",
      "96  0.000002  2.367851e-15       6\n",
      "97  0.000002  2.367851e-15       0\n",
      "98  0.000002  2.367851e-15       0\n",
      "99  0.000002  2.367851e-15       7\n",
      "\n",
      "[100 rows x 3 columns]\n",
      "(100, 32, 32, 3)\n"
     ]
    },
    {
     "name": "stderr",
     "output_type": "stream",
     "text": [
      "100%|███████████████████████████████████████████████████████████████████████████████████████████████| 100/100 [00:00<00:00, 108.75it/s]\n",
      "C:\\Users\\benza-ord\\anaconda3\\envs\\keras-gpu\\lib\\site-packages\\ipykernel_launcher.py:47: UserWarning: Update your `Model` call to the Keras 2 API: `Model(inputs=[<tf.Tenso..., outputs=Tensor(\"co...)`\n"
     ]
    },
    {
     "name": "stdout",
     "output_type": "stream",
     "text": [
      "(100, 224, 224, 3)\n",
      "2 conv1\n",
      "preds (100, 112, 112, 64)\n",
      "(100, 802816)\n"
     ]
    },
    {
     "name": "stderr",
     "output_type": "stream",
     "text": [
      "C:\\Users\\benza-ord\\anaconda3\\envs\\keras-gpu\\lib\\site-packages\\sklearn\\decomposition\\_pca.py:555: RuntimeWarning: divide by zero encountered in true_divide\n",
      "  self.explained_variance_ / total_var.sum()\n",
      " 12%|███████████▌                                                                                    | 12/100 [00:00<00:00, 115.69it/s]"
     ]
    },
    {
     "name": "stdout",
     "output_type": "stream",
     "text": [
      "         PC1           PC2  target\n",
      "0   0.000002 -7.811527e-17       3\n",
      "1   0.000002 -7.834633e-17       8\n",
      "2   0.000002 -7.834613e-17       8\n",
      "3   0.000002 -7.834615e-17       0\n",
      "4   0.000002 -7.834615e-17       6\n",
      "..       ...           ...     ...\n",
      "95  0.000002 -7.834615e-17       6\n",
      "96  0.000002  1.880249e-15       6\n",
      "97  0.000002  1.880249e-15       0\n",
      "98  0.000002  1.880249e-15       0\n",
      "99  0.000002  1.880249e-15       7\n",
      "\n",
      "[100 rows x 3 columns]\n",
      "(100, 32, 32, 3)\n"
     ]
    },
    {
     "name": "stderr",
     "output_type": "stream",
     "text": [
      "100%|███████████████████████████████████████████████████████████████████████████████████████████████| 100/100 [00:00<00:00, 107.93it/s]\n",
      "C:\\Users\\benza-ord\\anaconda3\\envs\\keras-gpu\\lib\\site-packages\\ipykernel_launcher.py:47: UserWarning: Update your `Model` call to the Keras 2 API: `Model(inputs=[<tf.Tenso..., outputs=Tensor(\"co...)`\n"
     ]
    },
    {
     "name": "stdout",
     "output_type": "stream",
     "text": [
      "(100, 224, 224, 3)\n",
      "2 conv1\n",
      "preds (100, 112, 112, 64)\n",
      "(100, 802816)\n"
     ]
    },
    {
     "name": "stderr",
     "output_type": "stream",
     "text": [
      "C:\\Users\\benza-ord\\anaconda3\\envs\\keras-gpu\\lib\\site-packages\\sklearn\\decomposition\\_pca.py:555: RuntimeWarning: divide by zero encountered in true_divide\n",
      "  self.explained_variance_ / total_var.sum()\n",
      " 12%|███████████▌                                                                                    | 12/100 [00:00<00:00, 111.41it/s]"
     ]
    },
    {
     "name": "stdout",
     "output_type": "stream",
     "text": [
      "         PC1           PC2  target\n",
      "0   0.000002 -1.102902e-15       3\n",
      "1   0.000002 -1.103311e-15       8\n",
      "2   0.000002 -1.103300e-15       8\n",
      "3   0.000002 -1.103300e-15       0\n",
      "4   0.000002 -1.103300e-15       6\n",
      "..       ...           ...     ...\n",
      "95  0.000002 -1.103300e-15       6\n",
      "96  0.000002  2.647911e-14       6\n",
      "97  0.000002  2.647911e-14       0\n",
      "98  0.000002  2.647911e-14       0\n",
      "99  0.000002  2.647911e-14       7\n",
      "\n",
      "[100 rows x 3 columns]\n",
      "(100, 32, 32, 3)\n"
     ]
    },
    {
     "name": "stderr",
     "output_type": "stream",
     "text": [
      "100%|███████████████████████████████████████████████████████████████████████████████████████████████| 100/100 [00:00<00:00, 109.14it/s]\n",
      "C:\\Users\\benza-ord\\anaconda3\\envs\\keras-gpu\\lib\\site-packages\\ipykernel_launcher.py:47: UserWarning: Update your `Model` call to the Keras 2 API: `Model(inputs=[<tf.Tenso..., outputs=Tensor(\"co...)`\n"
     ]
    },
    {
     "name": "stdout",
     "output_type": "stream",
     "text": [
      "(100, 224, 224, 3)\n",
      "2 conv1\n",
      "preds (100, 112, 112, 64)\n",
      "(100, 802816)\n"
     ]
    },
    {
     "name": "stderr",
     "output_type": "stream",
     "text": [
      "C:\\Users\\benza-ord\\anaconda3\\envs\\keras-gpu\\lib\\site-packages\\sklearn\\decomposition\\_pca.py:555: RuntimeWarning: divide by zero encountered in true_divide\n",
      "  self.explained_variance_ / total_var.sum()\n",
      " 12%|███████████▌                                                                                    | 12/100 [00:00<00:00, 116.78it/s]"
     ]
    },
    {
     "name": "stdout",
     "output_type": "stream",
     "text": [
      "         PC1           PC2  target\n",
      "0   0.000001 -7.823755e-17       3\n",
      "1   0.000001 -8.497933e-17       8\n",
      "2   0.000001 -8.498033e-17       8\n",
      "3   0.000001 -8.498045e-17       0\n",
      "4   0.000001 -8.498045e-17       6\n",
      "..       ...           ...     ...\n",
      "95  0.000001 -8.498045e-17       6\n",
      "96  0.000001  2.037844e-15       6\n",
      "97  0.000001  2.037844e-15       0\n",
      "98  0.000001  2.037844e-15       0\n",
      "99  0.000001  2.037844e-15       7\n",
      "\n",
      "[100 rows x 3 columns]\n",
      "(100, 32, 32, 3)\n"
     ]
    },
    {
     "name": "stderr",
     "output_type": "stream",
     "text": [
      "100%|███████████████████████████████████████████████████████████████████████████████████████████████| 100/100 [00:00<00:00, 109.41it/s]\n",
      "C:\\Users\\benza-ord\\anaconda3\\envs\\keras-gpu\\lib\\site-packages\\ipykernel_launcher.py:47: UserWarning: Update your `Model` call to the Keras 2 API: `Model(inputs=[<tf.Tenso..., outputs=Tensor(\"co...)`\n"
     ]
    },
    {
     "name": "stdout",
     "output_type": "stream",
     "text": [
      "(100, 224, 224, 3)\n",
      "2 conv1\n",
      "preds (100, 112, 112, 64)\n",
      "(100, 802816)\n"
     ]
    },
    {
     "name": "stderr",
     "output_type": "stream",
     "text": [
      "C:\\Users\\benza-ord\\anaconda3\\envs\\keras-gpu\\lib\\site-packages\\sklearn\\decomposition\\_pca.py:555: RuntimeWarning: divide by zero encountered in true_divide\n",
      "  self.explained_variance_ / total_var.sum()\n",
      " 12%|███████████▌                                                                                    | 12/100 [00:00<00:00, 114.56it/s]"
     ]
    },
    {
     "name": "stdout",
     "output_type": "stream",
     "text": [
      "         PC1           PC2  target\n",
      "0   0.000002 -3.378663e-16       3\n",
      "1   0.000002 -3.381200e-16       8\n",
      "2   0.000002 -3.381215e-16       8\n",
      "3   0.000002 -3.381217e-16       0\n",
      "4   0.000002 -3.381217e-16       6\n",
      "..       ...           ...     ...\n",
      "95  0.000002 -3.381217e-16       6\n",
      "96  0.000002  8.114867e-15       6\n",
      "97  0.000002  8.114867e-15       0\n",
      "98  0.000002  8.114867e-15       0\n",
      "99  0.000002  8.114867e-15       7\n",
      "\n",
      "[100 rows x 3 columns]\n",
      "(100, 32, 32, 3)\n"
     ]
    },
    {
     "name": "stderr",
     "output_type": "stream",
     "text": [
      "100%|███████████████████████████████████████████████████████████████████████████████████████████████| 100/100 [00:00<00:00, 111.90it/s]\n",
      "C:\\Users\\benza-ord\\anaconda3\\envs\\keras-gpu\\lib\\site-packages\\ipykernel_launcher.py:47: UserWarning: Update your `Model` call to the Keras 2 API: `Model(inputs=[<tf.Tenso..., outputs=Tensor(\"co...)`\n"
     ]
    },
    {
     "name": "stdout",
     "output_type": "stream",
     "text": [
      "(100, 224, 224, 3)\n",
      "2 conv1\n",
      "preds (100, 112, 112, 64)\n",
      "(100, 802816)\n"
     ]
    },
    {
     "name": "stderr",
     "output_type": "stream",
     "text": [
      "C:\\Users\\benza-ord\\anaconda3\\envs\\keras-gpu\\lib\\site-packages\\sklearn\\decomposition\\_pca.py:555: RuntimeWarning: divide by zero encountered in true_divide\n",
      "  self.explained_variance_ / total_var.sum()\n",
      " 11%|██████████▌                                                                                     | 11/100 [00:00<00:00, 109.20it/s]"
     ]
    },
    {
     "name": "stdout",
     "output_type": "stream",
     "text": [
      "         PC1           PC2  target\n",
      "0   0.000002 -5.083667e-17       3\n",
      "1   0.000002 -4.994838e-17       8\n",
      "2   0.000002 -4.994882e-17       8\n",
      "3   0.000002 -4.994878e-17       0\n",
      "4   0.000002 -4.994878e-17       6\n",
      "..       ...           ...     ...\n",
      "95  0.000002 -4.994878e-17       6\n",
      "96  0.000002  1.198994e-15       6\n",
      "97  0.000002  1.198994e-15       0\n",
      "98  0.000002  1.198994e-15       0\n",
      "99  0.000002  1.198994e-15       7\n",
      "\n",
      "[100 rows x 3 columns]\n",
      "(100, 32, 32, 3)\n"
     ]
    },
    {
     "name": "stderr",
     "output_type": "stream",
     "text": [
      "100%|███████████████████████████████████████████████████████████████████████████████████████████████| 100/100 [00:00<00:00, 110.43it/s]\n",
      "C:\\Users\\benza-ord\\anaconda3\\envs\\keras-gpu\\lib\\site-packages\\ipykernel_launcher.py:47: UserWarning: Update your `Model` call to the Keras 2 API: `Model(inputs=[<tf.Tenso..., outputs=Tensor(\"co...)`\n"
     ]
    },
    {
     "name": "stdout",
     "output_type": "stream",
     "text": [
      "(100, 224, 224, 3)\n",
      "2 conv1\n",
      "preds (100, 112, 112, 64)\n",
      "(100, 802816)\n"
     ]
    },
    {
     "name": "stderr",
     "output_type": "stream",
     "text": [
      "C:\\Users\\benza-ord\\anaconda3\\envs\\keras-gpu\\lib\\site-packages\\sklearn\\decomposition\\_pca.py:555: RuntimeWarning: divide by zero encountered in true_divide\n",
      "  self.explained_variance_ / total_var.sum()\n",
      " 12%|███████████▌                                                                                    | 12/100 [00:00<00:00, 112.42it/s]"
     ]
    },
    {
     "name": "stdout",
     "output_type": "stream",
     "text": [
      "         PC1           PC2  target\n",
      "0   0.000002 -9.310191e-16       3\n",
      "1   0.000002 -9.399325e-16       8\n",
      "2   0.000002 -9.399283e-16       8\n",
      "3   0.000002 -9.399284e-16       0\n",
      "4   0.000002 -9.399285e-16       6\n",
      "..       ...           ...     ...\n",
      "95  0.000002 -9.399285e-16       6\n",
      "96  0.000002  2.255604e-14       6\n",
      "97  0.000002  2.255604e-14       0\n",
      "98  0.000002  2.255604e-14       0\n",
      "99  0.000002  2.255604e-14       7\n",
      "\n",
      "[100 rows x 3 columns]\n",
      "(100, 32, 32, 3)\n"
     ]
    },
    {
     "name": "stderr",
     "output_type": "stream",
     "text": [
      "100%|███████████████████████████████████████████████████████████████████████████████████████████████| 100/100 [00:00<00:00, 108.45it/s]\n",
      "C:\\Users\\benza-ord\\anaconda3\\envs\\keras-gpu\\lib\\site-packages\\ipykernel_launcher.py:47: UserWarning: Update your `Model` call to the Keras 2 API: `Model(inputs=[<tf.Tenso..., outputs=Tensor(\"co...)`\n"
     ]
    },
    {
     "name": "stdout",
     "output_type": "stream",
     "text": [
      "(100, 224, 224, 3)\n",
      "2 conv1\n",
      "preds (100, 112, 112, 64)\n",
      "(100, 802816)\n"
     ]
    },
    {
     "name": "stderr",
     "output_type": "stream",
     "text": [
      "C:\\Users\\benza-ord\\anaconda3\\envs\\keras-gpu\\lib\\site-packages\\sklearn\\decomposition\\_pca.py:555: RuntimeWarning: divide by zero encountered in true_divide\n",
      "  self.explained_variance_ / total_var.sum()\n",
      " 12%|███████████▌                                                                                    | 12/100 [00:00<00:00, 116.78it/s]"
     ]
    },
    {
     "name": "stdout",
     "output_type": "stream",
     "text": [
      "         PC1           PC2  target\n",
      "0   0.000003 -9.419474e-17       3\n",
      "1   0.000003 -9.189427e-17       8\n",
      "2   0.000003 -9.189454e-17       8\n",
      "3   0.000003 -9.189461e-17       0\n",
      "4   0.000003 -9.189461e-17       6\n",
      "..       ...           ...     ...\n",
      "95  0.000003 -9.189461e-17       6\n",
      "96  0.000003  2.206045e-15       6\n",
      "97  0.000003  2.206045e-15       0\n",
      "98  0.000003  2.206045e-15       0\n",
      "99  0.000003  2.206045e-15       7\n",
      "\n",
      "[100 rows x 3 columns]\n",
      "(100, 32, 32, 3)\n"
     ]
    },
    {
     "name": "stderr",
     "output_type": "stream",
     "text": [
      "100%|███████████████████████████████████████████████████████████████████████████████████████████████| 100/100 [00:00<00:00, 114.68it/s]\n",
      "C:\\Users\\benza-ord\\anaconda3\\envs\\keras-gpu\\lib\\site-packages\\ipykernel_launcher.py:47: UserWarning: Update your `Model` call to the Keras 2 API: `Model(inputs=[<tf.Tenso..., outputs=Tensor(\"co...)`\n"
     ]
    },
    {
     "name": "stdout",
     "output_type": "stream",
     "text": [
      "(100, 224, 224, 3)\n",
      "2 conv1\n",
      "preds (100, 112, 112, 64)\n",
      "(100, 802816)\n"
     ]
    },
    {
     "name": "stderr",
     "output_type": "stream",
     "text": [
      "C:\\Users\\benza-ord\\anaconda3\\envs\\keras-gpu\\lib\\site-packages\\sklearn\\decomposition\\_pca.py:555: RuntimeWarning: divide by zero encountered in true_divide\n",
      "  self.explained_variance_ / total_var.sum()\n",
      " 11%|██████████▌                                                                                     | 11/100 [00:00<00:00, 102.13it/s]"
     ]
    },
    {
     "name": "stdout",
     "output_type": "stream",
     "text": [
      "         PC1           PC2  target\n",
      "0   0.000002 -2.700009e-16       3\n",
      "1   0.000002 -2.751124e-16       8\n",
      "2   0.000002 -2.751120e-16       8\n",
      "3   0.000002 -2.751124e-16       0\n",
      "4   0.000002 -2.751123e-16       6\n",
      "..       ...           ...     ...\n",
      "95  0.000002 -2.751123e-16       6\n",
      "96  0.000002  6.601426e-15       6\n",
      "97  0.000002  6.601426e-15       0\n",
      "98  0.000002  6.601426e-15       0\n",
      "99  0.000002  6.601426e-15       7\n",
      "\n",
      "[100 rows x 3 columns]\n",
      "(100, 32, 32, 3)\n"
     ]
    },
    {
     "name": "stderr",
     "output_type": "stream",
     "text": [
      "100%|████████████████████████████████████████████████████████████████████████████████████████████████| 100/100 [00:01<00:00, 96.69it/s]\n",
      "C:\\Users\\benza-ord\\anaconda3\\envs\\keras-gpu\\lib\\site-packages\\ipykernel_launcher.py:47: UserWarning: Update your `Model` call to the Keras 2 API: `Model(inputs=[<tf.Tenso..., outputs=Tensor(\"re...)`\n"
     ]
    },
    {
     "name": "stdout",
     "output_type": "stream",
     "text": [
      "(100, 224, 224, 3)\n",
      "7 res2a_branch2a\n",
      "preds (100, 56, 56, 64)\n",
      "(100, 200704)\n"
     ]
    },
    {
     "name": "stderr",
     "output_type": "stream",
     "text": [
      "C:\\Users\\benza-ord\\anaconda3\\envs\\keras-gpu\\lib\\site-packages\\sklearn\\decomposition\\_pca.py:555: RuntimeWarning: divide by zero encountered in true_divide\n",
      "  self.explained_variance_ / total_var.sum()\n",
      " 11%|██████████▌                                                                                     | 11/100 [00:00<00:00, 109.20it/s]"
     ]
    },
    {
     "name": "stdout",
     "output_type": "stream",
     "text": [
      "         PC1           PC2  target\n",
      "0   0.000001 -3.019034e-16       3\n",
      "1   0.000001 -3.019761e-16       8\n",
      "2   0.000001 -3.019744e-16       8\n",
      "3   0.000001 -3.019744e-16       0\n",
      "4   0.000001 -3.019744e-16       6\n",
      "..       ...           ...     ...\n",
      "95  0.000001 -3.019744e-16       6\n",
      "96  0.000001  7.247375e-15       6\n",
      "97  0.000001  7.247375e-15       0\n",
      "98  0.000001  7.247375e-15       0\n",
      "99  0.000001  7.247375e-15       7\n",
      "\n",
      "[100 rows x 3 columns]\n",
      "(100, 32, 32, 3)\n"
     ]
    },
    {
     "name": "stderr",
     "output_type": "stream",
     "text": [
      "100%|███████████████████████████████████████████████████████████████████████████████████████████████| 100/100 [00:00<00:00, 107.45it/s]\n",
      "C:\\Users\\benza-ord\\anaconda3\\envs\\keras-gpu\\lib\\site-packages\\ipykernel_launcher.py:47: UserWarning: Update your `Model` call to the Keras 2 API: `Model(inputs=[<tf.Tenso..., outputs=Tensor(\"re...)`\n"
     ]
    },
    {
     "name": "stdout",
     "output_type": "stream",
     "text": [
      "(100, 224, 224, 3)\n",
      "7 res2a_branch2a\n",
      "preds (100, 56, 56, 64)\n",
      "(100, 200704)\n"
     ]
    },
    {
     "name": "stderr",
     "output_type": "stream",
     "text": [
      "C:\\Users\\benza-ord\\anaconda3\\envs\\keras-gpu\\lib\\site-packages\\sklearn\\decomposition\\_pca.py:555: RuntimeWarning: divide by zero encountered in true_divide\n",
      "  self.explained_variance_ / total_var.sum()\n",
      " 12%|███████████▌                                                                                    | 12/100 [00:00<00:00, 119.13it/s]"
     ]
    },
    {
     "name": "stdout",
     "output_type": "stream",
     "text": [
      "             PC1           PC2  target\n",
      "0   7.726002e-07 -1.337826e-16       3\n",
      "1   7.725999e-07 -1.338727e-16       8\n",
      "2   7.725999e-07 -1.338740e-16       8\n",
      "3   7.725999e-07 -1.338740e-16       0\n",
      "4   7.725999e-07 -1.338740e-16       6\n",
      "..           ...           ...     ...\n",
      "95  7.725999e-07 -1.338740e-16       6\n",
      "96  7.725999e-07  3.212958e-15       6\n",
      "97  7.725999e-07  3.212958e-15       0\n",
      "98  7.725999e-07  3.212958e-15       0\n",
      "99  7.725999e-07  3.212958e-15       7\n",
      "\n",
      "[100 rows x 3 columns]\n",
      "(100, 32, 32, 3)\n"
     ]
    },
    {
     "name": "stderr",
     "output_type": "stream",
     "text": [
      "100%|███████████████████████████████████████████████████████████████████████████████████████████████| 100/100 [00:00<00:00, 113.93it/s]\n",
      "C:\\Users\\benza-ord\\anaconda3\\envs\\keras-gpu\\lib\\site-packages\\ipykernel_launcher.py:47: UserWarning: Update your `Model` call to the Keras 2 API: `Model(inputs=[<tf.Tenso..., outputs=Tensor(\"re...)`\n"
     ]
    },
    {
     "name": "stdout",
     "output_type": "stream",
     "text": [
      "(100, 224, 224, 3)\n",
      "7 res2a_branch2a\n",
      "preds (100, 56, 56, 64)\n",
      "(100, 200704)\n"
     ]
    },
    {
     "name": "stderr",
     "output_type": "stream",
     "text": [
      "C:\\Users\\benza-ord\\anaconda3\\envs\\keras-gpu\\lib\\site-packages\\sklearn\\decomposition\\_pca.py:555: RuntimeWarning: divide by zero encountered in true_divide\n",
      "  self.explained_variance_ / total_var.sum()\n",
      " 12%|███████████▌                                                                                    | 12/100 [00:00<00:00, 119.70it/s]"
     ]
    },
    {
     "name": "stdout",
     "output_type": "stream",
     "text": [
      "             PC1           PC2  target\n",
      "0   9.807923e-07 -7.384715e-16       3\n",
      "1   9.807920e-07 -7.384607e-16       8\n",
      "2   9.807920e-07 -7.384629e-16       8\n",
      "3   9.807920e-07 -7.384624e-16       0\n",
      "4   9.807920e-07 -7.384624e-16       6\n",
      "..           ...           ...     ...\n",
      "95  9.807920e-07 -7.384624e-16       6\n",
      "96  9.807923e-07  1.772308e-14       6\n",
      "97  9.807923e-07  1.772308e-14       0\n",
      "98  9.807923e-07  1.772308e-14       0\n",
      "99  9.807923e-07  1.772308e-14       7\n",
      "\n",
      "[100 rows x 3 columns]\n",
      "(100, 32, 32, 3)\n"
     ]
    },
    {
     "name": "stderr",
     "output_type": "stream",
     "text": [
      "100%|███████████████████████████████████████████████████████████████████████████████████████████████| 100/100 [00:00<00:00, 114.92it/s]\n",
      "C:\\Users\\benza-ord\\anaconda3\\envs\\keras-gpu\\lib\\site-packages\\ipykernel_launcher.py:47: UserWarning: Update your `Model` call to the Keras 2 API: `Model(inputs=[<tf.Tenso..., outputs=Tensor(\"re...)`\n"
     ]
    },
    {
     "name": "stdout",
     "output_type": "stream",
     "text": [
      "(100, 224, 224, 3)\n",
      "7 res2a_branch2a\n",
      "preds (100, 56, 56, 64)\n",
      "(100, 200704)\n"
     ]
    },
    {
     "name": "stderr",
     "output_type": "stream",
     "text": [
      "C:\\Users\\benza-ord\\anaconda3\\envs\\keras-gpu\\lib\\site-packages\\sklearn\\decomposition\\_pca.py:555: RuntimeWarning: divide by zero encountered in true_divide\n",
      "  self.explained_variance_ / total_var.sum()\n",
      " 12%|███████████▌                                                                                    | 12/100 [00:00<00:00, 119.13it/s]"
     ]
    },
    {
     "name": "stdout",
     "output_type": "stream",
     "text": [
      "             PC1           PC2  target\n",
      "0   9.634252e-07 -8.444461e-17       3\n",
      "1   9.634250e-07 -8.448432e-17       8\n",
      "2   9.634250e-07 -8.448494e-17       8\n",
      "3   9.634250e-07 -8.448490e-17       0\n",
      "4   9.634250e-07 -8.448489e-17       6\n",
      "..           ...           ...     ...\n",
      "95  9.634250e-07 -8.448489e-17       6\n",
      "96  9.634250e-07  2.027633e-15       6\n",
      "97  9.634250e-07  2.027633e-15       0\n",
      "98  9.634250e-07  2.027633e-15       0\n",
      "99  9.634250e-07  2.027633e-15       7\n",
      "\n",
      "[100 rows x 3 columns]\n",
      "(100, 32, 32, 3)\n"
     ]
    },
    {
     "name": "stderr",
     "output_type": "stream",
     "text": [
      "100%|███████████████████████████████████████████████████████████████████████████████████████████████| 100/100 [00:00<00:00, 114.72it/s]\n",
      "C:\\Users\\benza-ord\\anaconda3\\envs\\keras-gpu\\lib\\site-packages\\ipykernel_launcher.py:47: UserWarning: Update your `Model` call to the Keras 2 API: `Model(inputs=[<tf.Tenso..., outputs=Tensor(\"re...)`\n"
     ]
    },
    {
     "name": "stdout",
     "output_type": "stream",
     "text": [
      "(100, 224, 224, 3)\n",
      "7 res2a_branch2a\n",
      "preds (100, 56, 56, 64)\n",
      "(100, 200704)\n"
     ]
    },
    {
     "name": "stderr",
     "output_type": "stream",
     "text": [
      "C:\\Users\\benza-ord\\anaconda3\\envs\\keras-gpu\\lib\\site-packages\\sklearn\\decomposition\\_pca.py:555: RuntimeWarning: divide by zero encountered in true_divide\n",
      "  self.explained_variance_ / total_var.sum()\n",
      " 12%|███████████▌                                                                                    | 12/100 [00:00<00:00, 119.71it/s]"
     ]
    },
    {
     "name": "stdout",
     "output_type": "stream",
     "text": [
      "             PC1           PC2  target\n",
      "0   7.748764e-07 -1.284414e-16       3\n",
      "1   7.748764e-07 -1.287045e-16       8\n",
      "2   7.748764e-07 -1.287020e-16       8\n",
      "3   7.748764e-07 -1.287020e-16       0\n",
      "4   7.748764e-07 -1.287020e-16       6\n",
      "..           ...           ...     ...\n",
      "95  7.748764e-07 -1.287020e-16       6\n",
      "96  7.748764e-07  3.088786e-15       6\n",
      "97  7.748764e-07  3.088786e-15       0\n",
      "98  7.748764e-07  3.088786e-15       0\n",
      "99  7.748764e-07  3.088786e-15       7\n",
      "\n",
      "[100 rows x 3 columns]\n",
      "(100, 32, 32, 3)\n"
     ]
    },
    {
     "name": "stderr",
     "output_type": "stream",
     "text": [
      "100%|███████████████████████████████████████████████████████████████████████████████████████████████| 100/100 [00:00<00:00, 115.58it/s]\n",
      "C:\\Users\\benza-ord\\anaconda3\\envs\\keras-gpu\\lib\\site-packages\\ipykernel_launcher.py:47: UserWarning: Update your `Model` call to the Keras 2 API: `Model(inputs=[<tf.Tenso..., outputs=Tensor(\"re...)`\n"
     ]
    },
    {
     "name": "stdout",
     "output_type": "stream",
     "text": [
      "(100, 224, 224, 3)\n",
      "7 res2a_branch2a\n",
      "preds (100, 56, 56, 64)\n",
      "(100, 200704)\n"
     ]
    },
    {
     "name": "stderr",
     "output_type": "stream",
     "text": [
      "C:\\Users\\benza-ord\\anaconda3\\envs\\keras-gpu\\lib\\site-packages\\sklearn\\decomposition\\_pca.py:555: RuntimeWarning: divide by zero encountered in true_divide\n",
      "  self.explained_variance_ / total_var.sum()\n",
      " 12%|███████████▌                                                                                    | 12/100 [00:00<00:00, 117.96it/s]"
     ]
    },
    {
     "name": "stdout",
     "output_type": "stream",
     "text": [
      "             PC1           PC2  target\n",
      "0   8.336647e-07 -7.517776e-17       3\n",
      "1   8.336645e-07 -7.525220e-17       8\n",
      "2   8.336645e-07 -7.525280e-17       8\n",
      "3   8.336645e-07 -7.525280e-17       0\n",
      "4   8.336645e-07 -7.525280e-17       6\n",
      "..           ...           ...     ...\n",
      "95  8.336645e-07 -7.525280e-17       6\n",
      "96  8.336644e-07  1.806050e-15       6\n",
      "97  8.336644e-07  1.806050e-15       0\n",
      "98  8.336644e-07  1.806050e-15       0\n",
      "99  8.336644e-07  1.806050e-15       7\n",
      "\n",
      "[100 rows x 3 columns]\n",
      "(100, 32, 32, 3)\n"
     ]
    },
    {
     "name": "stderr",
     "output_type": "stream",
     "text": [
      "100%|███████████████████████████████████████████████████████████████████████████████████████████████| 100/100 [00:00<00:00, 115.38it/s]\n",
      "C:\\Users\\benza-ord\\anaconda3\\envs\\keras-gpu\\lib\\site-packages\\ipykernel_launcher.py:47: UserWarning: Update your `Model` call to the Keras 2 API: `Model(inputs=[<tf.Tenso..., outputs=Tensor(\"re...)`\n"
     ]
    },
    {
     "name": "stdout",
     "output_type": "stream",
     "text": [
      "(100, 224, 224, 3)\n",
      "7 res2a_branch2a\n",
      "preds (100, 56, 56, 64)\n",
      "(100, 200704)\n"
     ]
    },
    {
     "name": "stderr",
     "output_type": "stream",
     "text": [
      "C:\\Users\\benza-ord\\anaconda3\\envs\\keras-gpu\\lib\\site-packages\\sklearn\\decomposition\\_pca.py:555: RuntimeWarning: divide by zero encountered in true_divide\n",
      "  self.explained_variance_ / total_var.sum()\n",
      " 12%|███████████▌                                                                                    | 12/100 [00:00<00:00, 114.59it/s]"
     ]
    },
    {
     "name": "stdout",
     "output_type": "stream",
     "text": [
      "             PC1           PC2  target\n",
      "0   9.256343e-07 -1.286847e-16       3\n",
      "1   9.256341e-07 -1.289669e-16       8\n",
      "2   9.256341e-07 -1.289678e-16       8\n",
      "3   9.256341e-07 -1.289678e-16       0\n",
      "4   9.256341e-07 -1.289678e-16       6\n",
      "..           ...           ...     ...\n",
      "95  9.256341e-07 -1.289678e-16       6\n",
      "96  9.256341e-07  3.095156e-15       6\n",
      "97  9.256341e-07  3.095156e-15       0\n",
      "98  9.256341e-07  3.095156e-15       0\n",
      "99  9.256341e-07  3.095156e-15       7\n",
      "\n",
      "[100 rows x 3 columns]\n",
      "(100, 32, 32, 3)\n"
     ]
    },
    {
     "name": "stderr",
     "output_type": "stream",
     "text": [
      "100%|███████████████████████████████████████████████████████████████████████████████████████████████| 100/100 [00:00<00:00, 104.70it/s]\n",
      "C:\\Users\\benza-ord\\anaconda3\\envs\\keras-gpu\\lib\\site-packages\\ipykernel_launcher.py:47: UserWarning: Update your `Model` call to the Keras 2 API: `Model(inputs=[<tf.Tenso..., outputs=Tensor(\"re...)`\n"
     ]
    },
    {
     "name": "stdout",
     "output_type": "stream",
     "text": [
      "(100, 224, 224, 3)\n",
      "7 res2a_branch2a\n",
      "preds (100, 56, 56, 64)\n",
      "(100, 200704)\n"
     ]
    },
    {
     "name": "stderr",
     "output_type": "stream",
     "text": [
      "C:\\Users\\benza-ord\\anaconda3\\envs\\keras-gpu\\lib\\site-packages\\sklearn\\decomposition\\_pca.py:555: RuntimeWarning: divide by zero encountered in true_divide\n",
      "  self.explained_variance_ / total_var.sum()\n",
      " 12%|███████████▌                                                                                    | 12/100 [00:00<00:00, 117.96it/s]"
     ]
    },
    {
     "name": "stdout",
     "output_type": "stream",
     "text": [
      "             PC1           PC2  target\n",
      "0   8.785946e-07 -8.099446e-17       3\n",
      "1   8.785946e-07 -7.980719e-17       8\n",
      "2   8.785946e-07 -7.980748e-17       8\n",
      "3   8.785946e-07 -7.980749e-17       0\n",
      "4   8.785946e-07 -7.980749e-17       6\n",
      "..           ...           ...     ...\n",
      "95  8.785946e-07 -7.980749e-17       6\n",
      "96  8.785944e-07  1.915678e-15       6\n",
      "97  8.785944e-07  1.915678e-15       0\n",
      "98  8.785944e-07  1.915678e-15       0\n",
      "99  8.785944e-07  1.915678e-15       7\n",
      "\n",
      "[100 rows x 3 columns]\n",
      "(100, 32, 32, 3)\n"
     ]
    },
    {
     "name": "stderr",
     "output_type": "stream",
     "text": [
      "100%|███████████████████████████████████████████████████████████████████████████████████████████████| 100/100 [00:00<00:00, 114.57it/s]\n",
      "C:\\Users\\benza-ord\\anaconda3\\envs\\keras-gpu\\lib\\site-packages\\ipykernel_launcher.py:47: UserWarning: Update your `Model` call to the Keras 2 API: `Model(inputs=[<tf.Tenso..., outputs=Tensor(\"re...)`\n"
     ]
    },
    {
     "name": "stdout",
     "output_type": "stream",
     "text": [
      "(100, 224, 224, 3)\n",
      "7 res2a_branch2a\n",
      "preds (100, 56, 56, 64)\n",
      "(100, 200704)\n"
     ]
    },
    {
     "name": "stderr",
     "output_type": "stream",
     "text": [
      "C:\\Users\\benza-ord\\anaconda3\\envs\\keras-gpu\\lib\\site-packages\\sklearn\\decomposition\\_pca.py:555: RuntimeWarning: divide by zero encountered in true_divide\n",
      "  self.explained_variance_ / total_var.sum()\n",
      " 12%|███████████▌                                                                                    | 12/100 [00:00<00:00, 116.82it/s]"
     ]
    },
    {
     "name": "stdout",
     "output_type": "stream",
     "text": [
      "         PC1           PC2  target\n",
      "0   0.000001 -3.666520e-16       3\n",
      "1   0.000001 -3.661738e-16       8\n",
      "2   0.000001 -3.661748e-16       8\n",
      "3   0.000001 -3.661748e-16       0\n",
      "4   0.000001 -3.661748e-16       6\n",
      "..       ...           ...     ...\n",
      "95  0.000001 -3.661748e-16       6\n",
      "96  0.000001  8.788311e-15       6\n",
      "97  0.000001  8.788311e-15       0\n",
      "98  0.000001  8.788311e-15       0\n",
      "99  0.000001  8.788311e-15       7\n",
      "\n",
      "[100 rows x 3 columns]\n",
      "(100, 32, 32, 3)\n"
     ]
    },
    {
     "name": "stderr",
     "output_type": "stream",
     "text": [
      "100%|███████████████████████████████████████████████████████████████████████████████████████████████| 100/100 [00:00<00:00, 111.17it/s]\n",
      "C:\\Users\\benza-ord\\anaconda3\\envs\\keras-gpu\\lib\\site-packages\\ipykernel_launcher.py:47: UserWarning: Update your `Model` call to the Keras 2 API: `Model(inputs=[<tf.Tenso..., outputs=Tensor(\"re...)`\n"
     ]
    },
    {
     "name": "stdout",
     "output_type": "stream",
     "text": [
      "(100, 224, 224, 3)\n",
      "7 res2a_branch2a\n",
      "preds (100, 56, 56, 64)\n",
      "(100, 200704)\n"
     ]
    },
    {
     "name": "stderr",
     "output_type": "stream",
     "text": [
      "C:\\Users\\benza-ord\\anaconda3\\envs\\keras-gpu\\lib\\site-packages\\sklearn\\decomposition\\_pca.py:555: RuntimeWarning: divide by zero encountered in true_divide\n",
      "  self.explained_variance_ / total_var.sum()\n",
      " 12%|███████████▌                                                                                    | 12/100 [00:00<00:00, 119.13it/s]"
     ]
    },
    {
     "name": "stdout",
     "output_type": "stream",
     "text": [
      "         PC1           PC2  target\n",
      "0   0.000001 -3.686893e-16       3\n",
      "1   0.000001 -3.677818e-16       8\n",
      "2   0.000001 -3.677836e-16       8\n",
      "3   0.000001 -3.677836e-16       0\n",
      "4   0.000001 -3.677836e-16       6\n",
      "..       ...           ...     ...\n",
      "95  0.000001 -3.677836e-16       6\n",
      "96  0.000001  8.827033e-15       6\n",
      "97  0.000001  8.827033e-15       0\n",
      "98  0.000001  8.827033e-15       0\n",
      "99  0.000001  8.827033e-15       7\n",
      "\n",
      "[100 rows x 3 columns]\n",
      "(100, 32, 32, 3)\n"
     ]
    },
    {
     "name": "stderr",
     "output_type": "stream",
     "text": [
      "100%|███████████████████████████████████████████████████████████████████████████████████████████████| 100/100 [00:00<00:00, 115.49it/s]\n",
      "C:\\Users\\benza-ord\\anaconda3\\envs\\keras-gpu\\lib\\site-packages\\ipykernel_launcher.py:47: UserWarning: Update your `Model` call to the Keras 2 API: `Model(inputs=[<tf.Tenso..., outputs=Tensor(\"re...)`\n"
     ]
    },
    {
     "name": "stdout",
     "output_type": "stream",
     "text": [
      "(100, 224, 224, 3)\n",
      "10 res2a_branch2b\n",
      "preds (100, 56, 56, 64)\n",
      "(100, 200704)\n"
     ]
    },
    {
     "name": "stderr",
     "output_type": "stream",
     "text": [
      "C:\\Users\\benza-ord\\anaconda3\\envs\\keras-gpu\\lib\\site-packages\\sklearn\\decomposition\\_pca.py:555: RuntimeWarning: divide by zero encountered in true_divide\n",
      "  self.explained_variance_ / total_var.sum()\n",
      "  8%|███████▊                                                                                          | 8/100 [00:00<00:01, 74.97it/s]"
     ]
    },
    {
     "name": "stdout",
     "output_type": "stream",
     "text": [
      "         PC1           PC2  target\n",
      "0   0.000001 -1.720265e-16       3\n",
      "1   0.000001 -1.697926e-16       8\n",
      "2   0.000001 -1.697921e-16       8\n",
      "3   0.000001 -1.697923e-16       0\n",
      "4   0.000001 -1.697923e-16       6\n",
      "..       ...           ...     ...\n",
      "95  0.000001 -1.697923e-16       6\n",
      "96  0.000001  4.075576e-15       6\n",
      "97  0.000001  4.075576e-15       0\n",
      "98  0.000001  4.075576e-15       0\n",
      "99  0.000001  4.075576e-15       7\n",
      "\n",
      "[100 rows x 3 columns]\n",
      "(100, 32, 32, 3)\n"
     ]
    },
    {
     "name": "stderr",
     "output_type": "stream",
     "text": [
      "100%|███████████████████████████████████████████████████████████████████████████████████████████████| 100/100 [00:00<00:00, 101.74it/s]\n",
      "C:\\Users\\benza-ord\\anaconda3\\envs\\keras-gpu\\lib\\site-packages\\ipykernel_launcher.py:47: UserWarning: Update your `Model` call to the Keras 2 API: `Model(inputs=[<tf.Tenso..., outputs=Tensor(\"re...)`\n"
     ]
    },
    {
     "name": "stdout",
     "output_type": "stream",
     "text": [
      "(100, 224, 224, 3)\n",
      "10 res2a_branch2b\n",
      "preds (100, 56, 56, 64)\n",
      "(100, 200704)\n"
     ]
    },
    {
     "name": "stderr",
     "output_type": "stream",
     "text": [
      "C:\\Users\\benza-ord\\anaconda3\\envs\\keras-gpu\\lib\\site-packages\\sklearn\\decomposition\\_pca.py:555: RuntimeWarning: divide by zero encountered in true_divide\n",
      "  self.explained_variance_ / total_var.sum()\n",
      " 11%|██████████▌                                                                                     | 11/100 [00:00<00:00, 101.19it/s]"
     ]
    },
    {
     "name": "stdout",
     "output_type": "stream",
     "text": [
      "             PC1           PC2  target\n",
      "0   7.164792e-07 -1.423291e-16       3\n",
      "1   7.164791e-07 -1.425434e-16       8\n",
      "2   7.164791e-07 -1.425467e-16       8\n",
      "3   7.164791e-07 -1.425467e-16       0\n",
      "4   7.164791e-07 -1.425467e-16       6\n",
      "..           ...           ...     ...\n",
      "95  7.164791e-07 -1.425467e-16       6\n",
      "96  7.164790e-07  3.421065e-15       6\n",
      "97  7.164790e-07  3.421065e-15       0\n",
      "98  7.164790e-07  3.421065e-15       0\n",
      "99  7.164790e-07  3.421065e-15       7\n",
      "\n",
      "[100 rows x 3 columns]\n",
      "(100, 32, 32, 3)\n"
     ]
    },
    {
     "name": "stderr",
     "output_type": "stream",
     "text": [
      "100%|███████████████████████████████████████████████████████████████████████████████████████████████| 100/100 [00:00<00:00, 102.26it/s]\n",
      "C:\\Users\\benza-ord\\anaconda3\\envs\\keras-gpu\\lib\\site-packages\\ipykernel_launcher.py:47: UserWarning: Update your `Model` call to the Keras 2 API: `Model(inputs=[<tf.Tenso..., outputs=Tensor(\"re...)`\n"
     ]
    },
    {
     "name": "stdout",
     "output_type": "stream",
     "text": [
      "(100, 224, 224, 3)\n",
      "10 res2a_branch2b\n",
      "preds (100, 56, 56, 64)\n",
      "(100, 200704)\n"
     ]
    },
    {
     "name": "stderr",
     "output_type": "stream",
     "text": [
      "C:\\Users\\benza-ord\\anaconda3\\envs\\keras-gpu\\lib\\site-packages\\sklearn\\decomposition\\_pca.py:555: RuntimeWarning: divide by zero encountered in true_divide\n",
      "  self.explained_variance_ / total_var.sum()\n",
      " 12%|███████████▌                                                                                    | 12/100 [00:00<00:00, 119.72it/s]"
     ]
    },
    {
     "name": "stdout",
     "output_type": "stream",
     "text": [
      "             PC1           PC2  target\n",
      "0   9.232039e-07 -3.886953e-17       3\n",
      "1   9.232048e-07 -3.879981e-17       8\n",
      "2   9.232048e-07 -3.879981e-17       8\n",
      "3   9.232048e-07 -3.879981e-17       0\n",
      "4   9.232048e-07 -3.879981e-17       6\n",
      "..           ...           ...     ...\n",
      "95  9.232048e-07 -3.879981e-17       6\n",
      "96  9.232048e-07  9.312130e-16       6\n",
      "97  9.232048e-07  9.312130e-16       0\n",
      "98  9.232048e-07  9.312130e-16       0\n",
      "99  9.232048e-07  9.312130e-16       7\n",
      "\n",
      "[100 rows x 3 columns]\n",
      "(100, 32, 32, 3)\n"
     ]
    },
    {
     "name": "stderr",
     "output_type": "stream",
     "text": [
      "100%|███████████████████████████████████████████████████████████████████████████████████████████████| 100/100 [00:00<00:00, 110.72it/s]\n",
      "C:\\Users\\benza-ord\\anaconda3\\envs\\keras-gpu\\lib\\site-packages\\ipykernel_launcher.py:47: UserWarning: Update your `Model` call to the Keras 2 API: `Model(inputs=[<tf.Tenso..., outputs=Tensor(\"re...)`\n"
     ]
    },
    {
     "name": "stdout",
     "output_type": "stream",
     "text": [
      "(100, 224, 224, 3)\n",
      "10 res2a_branch2b\n",
      "preds (100, 56, 56, 64)\n",
      "(100, 200704)\n"
     ]
    },
    {
     "name": "stderr",
     "output_type": "stream",
     "text": [
      "C:\\Users\\benza-ord\\anaconda3\\envs\\keras-gpu\\lib\\site-packages\\sklearn\\decomposition\\_pca.py:555: RuntimeWarning: divide by zero encountered in true_divide\n",
      "  self.explained_variance_ / total_var.sum()\n",
      " 12%|███████████▌                                                                                    | 12/100 [00:00<00:00, 113.51it/s]"
     ]
    },
    {
     "name": "stdout",
     "output_type": "stream",
     "text": [
      "             PC1           PC2  target\n",
      "0   8.907326e-07 -4.064217e-17       3\n",
      "1   8.907325e-07 -3.929704e-17       8\n",
      "2   8.907325e-07 -3.929693e-17       8\n",
      "3   8.907325e-07 -3.929696e-17       0\n",
      "4   8.907325e-07 -3.929696e-17       6\n",
      "..           ...           ...     ...\n",
      "95  8.907325e-07 -3.929696e-17       6\n",
      "96  8.907325e-07  9.434635e-16       6\n",
      "97  8.907325e-07  9.434635e-16       0\n",
      "98  8.907325e-07  9.434635e-16       0\n",
      "99  8.907325e-07  9.434635e-16       7\n",
      "\n",
      "[100 rows x 3 columns]\n",
      "(100, 32, 32, 3)\n"
     ]
    },
    {
     "name": "stderr",
     "output_type": "stream",
     "text": [
      "100%|███████████████████████████████████████████████████████████████████████████████████████████████| 100/100 [00:00<00:00, 101.01it/s]\n",
      "C:\\Users\\benza-ord\\anaconda3\\envs\\keras-gpu\\lib\\site-packages\\ipykernel_launcher.py:47: UserWarning: Update your `Model` call to the Keras 2 API: `Model(inputs=[<tf.Tenso..., outputs=Tensor(\"re...)`\n"
     ]
    },
    {
     "name": "stdout",
     "output_type": "stream",
     "text": [
      "(100, 224, 224, 3)\n",
      "10 res2a_branch2b\n",
      "preds (100, 56, 56, 64)\n",
      "(100, 200704)\n"
     ]
    },
    {
     "name": "stderr",
     "output_type": "stream",
     "text": [
      "C:\\Users\\benza-ord\\anaconda3\\envs\\keras-gpu\\lib\\site-packages\\sklearn\\decomposition\\_pca.py:555: RuntimeWarning: divide by zero encountered in true_divide\n",
      "  self.explained_variance_ / total_var.sum()\n",
      " 11%|██████████▌                                                                                     | 11/100 [00:00<00:00, 104.05it/s]"
     ]
    },
    {
     "name": "stdout",
     "output_type": "stream",
     "text": [
      "             PC1           PC2  target\n",
      "0   7.023725e-07 -6.474527e-17       3\n",
      "1   7.023725e-07 -6.472645e-17       8\n",
      "2   7.023725e-07 -6.472616e-17       8\n",
      "3   7.023725e-07 -6.472619e-17       0\n",
      "4   7.023725e-07 -6.472619e-17       6\n",
      "..           ...           ...     ...\n",
      "95  7.023725e-07 -6.472619e-17       6\n",
      "96  7.023727e-07  1.553432e-15       6\n",
      "97  7.023727e-07  1.553432e-15       0\n",
      "98  7.023727e-07  1.553432e-15       0\n",
      "99  7.023727e-07  1.553432e-15       7\n",
      "\n",
      "[100 rows x 3 columns]\n",
      "(100, 32, 32, 3)\n"
     ]
    },
    {
     "name": "stderr",
     "output_type": "stream",
     "text": [
      "100%|███████████████████████████████████████████████████████████████████████████████████████████████| 100/100 [00:00<00:00, 103.56it/s]\n",
      "C:\\Users\\benza-ord\\anaconda3\\envs\\keras-gpu\\lib\\site-packages\\ipykernel_launcher.py:47: UserWarning: Update your `Model` call to the Keras 2 API: `Model(inputs=[<tf.Tenso..., outputs=Tensor(\"re...)`\n"
     ]
    },
    {
     "name": "stdout",
     "output_type": "stream",
     "text": [
      "(100, 224, 224, 3)\n",
      "10 res2a_branch2b\n",
      "preds (100, 56, 56, 64)\n",
      "(100, 200704)\n"
     ]
    },
    {
     "name": "stderr",
     "output_type": "stream",
     "text": [
      "C:\\Users\\benza-ord\\anaconda3\\envs\\keras-gpu\\lib\\site-packages\\sklearn\\decomposition\\_pca.py:555: RuntimeWarning: divide by zero encountered in true_divide\n",
      "  self.explained_variance_ / total_var.sum()\n",
      " 10%|█████████▋                                                                                       | 10/100 [00:00<00:01, 89.53it/s]"
     ]
    },
    {
     "name": "stdout",
     "output_type": "stream",
     "text": [
      "             PC1           PC2  target\n",
      "0   7.862134e-07 -2.076833e-17       3\n",
      "1   7.862133e-07 -2.432264e-17       8\n",
      "2   7.862133e-07 -2.432286e-17       8\n",
      "3   7.862133e-07 -2.432286e-17       0\n",
      "4   7.862133e-07 -2.432285e-17       6\n",
      "..           ...           ...     ...\n",
      "95  7.862133e-07 -2.432285e-17       6\n",
      "96  7.862133e-07  5.828600e-16       6\n",
      "97  7.862133e-07  5.828600e-16       0\n",
      "98  7.862133e-07  5.828600e-16       0\n",
      "99  7.862133e-07  5.828600e-16       7\n",
      "\n",
      "[100 rows x 3 columns]\n",
      "(100, 32, 32, 3)\n"
     ]
    },
    {
     "name": "stderr",
     "output_type": "stream",
     "text": [
      "100%|███████████████████████████████████████████████████████████████████████████████████████████████| 100/100 [00:00<00:00, 102.93it/s]\n",
      "C:\\Users\\benza-ord\\anaconda3\\envs\\keras-gpu\\lib\\site-packages\\ipykernel_launcher.py:47: UserWarning: Update your `Model` call to the Keras 2 API: `Model(inputs=[<tf.Tenso..., outputs=Tensor(\"re...)`\n"
     ]
    },
    {
     "name": "stdout",
     "output_type": "stream",
     "text": [
      "(100, 224, 224, 3)\n",
      "10 res2a_branch2b\n",
      "preds (100, 56, 56, 64)\n",
      "(100, 200704)\n"
     ]
    },
    {
     "name": "stderr",
     "output_type": "stream",
     "text": [
      "C:\\Users\\benza-ord\\anaconda3\\envs\\keras-gpu\\lib\\site-packages\\sklearn\\decomposition\\_pca.py:555: RuntimeWarning: divide by zero encountered in true_divide\n",
      "  self.explained_variance_ / total_var.sum()\n",
      " 12%|███████████▌                                                                                    | 12/100 [00:00<00:00, 117.96it/s]"
     ]
    },
    {
     "name": "stdout",
     "output_type": "stream",
     "text": [
      "             PC1           PC2  target\n",
      "0   8.645649e-07 -2.206149e-17       3\n",
      "1   8.645648e-07 -2.224488e-17       8\n",
      "2   8.645648e-07 -2.224524e-17       8\n",
      "3   8.645648e-07 -2.224527e-17       0\n",
      "4   8.645648e-07 -2.224526e-17       6\n",
      "..           ...           ...     ...\n",
      "95  8.645648e-07 -2.224526e-17       6\n",
      "96  8.645645e-07  5.338419e-16       6\n",
      "97  8.645645e-07  5.338419e-16       0\n",
      "98  8.645645e-07  5.338419e-16       0\n",
      "99  8.645645e-07  5.338419e-16       7\n",
      "\n",
      "[100 rows x 3 columns]\n",
      "(100, 32, 32, 3)\n"
     ]
    },
    {
     "name": "stderr",
     "output_type": "stream",
     "text": [
      "100%|███████████████████████████████████████████████████████████████████████████████████████████████| 100/100 [00:00<00:00, 109.95it/s]\n",
      "C:\\Users\\benza-ord\\anaconda3\\envs\\keras-gpu\\lib\\site-packages\\ipykernel_launcher.py:47: UserWarning: Update your `Model` call to the Keras 2 API: `Model(inputs=[<tf.Tenso..., outputs=Tensor(\"re...)`\n"
     ]
    },
    {
     "name": "stdout",
     "output_type": "stream",
     "text": [
      "(100, 224, 224, 3)\n",
      "10 res2a_branch2b\n",
      "preds (100, 56, 56, 64)\n",
      "(100, 200704)\n"
     ]
    },
    {
     "name": "stderr",
     "output_type": "stream",
     "text": [
      "C:\\Users\\benza-ord\\anaconda3\\envs\\keras-gpu\\lib\\site-packages\\sklearn\\decomposition\\_pca.py:555: RuntimeWarning: divide by zero encountered in true_divide\n",
      "  self.explained_variance_ / total_var.sum()\n",
      " 12%|███████████▌                                                                                    | 12/100 [00:00<00:00, 114.59it/s]"
     ]
    },
    {
     "name": "stdout",
     "output_type": "stream",
     "text": [
      "             PC1           PC2  target\n",
      "0   8.272985e-07 -3.773129e-16       3\n",
      "1   8.272983e-07 -3.773404e-16       8\n",
      "2   8.272983e-07 -3.773382e-16       8\n",
      "3   8.272983e-07 -3.773382e-16       0\n",
      "4   8.272983e-07 -3.773382e-16       6\n",
      "..           ...           ...     ...\n",
      "95  8.272983e-07 -3.773382e-16       6\n",
      "96  8.272984e-07  9.056103e-15       6\n",
      "97  8.272984e-07  9.056103e-15       0\n",
      "98  8.272984e-07  9.056103e-15       0\n",
      "99  8.272984e-07  9.056103e-15       7\n",
      "\n",
      "[100 rows x 3 columns]\n",
      "(100, 32, 32, 3)\n"
     ]
    },
    {
     "name": "stderr",
     "output_type": "stream",
     "text": [
      "100%|███████████████████████████████████████████████████████████████████████████████████████████████| 100/100 [00:00<00:00, 110.35it/s]\n",
      "C:\\Users\\benza-ord\\anaconda3\\envs\\keras-gpu\\lib\\site-packages\\ipykernel_launcher.py:47: UserWarning: Update your `Model` call to the Keras 2 API: `Model(inputs=[<tf.Tenso..., outputs=Tensor(\"re...)`\n"
     ]
    },
    {
     "name": "stdout",
     "output_type": "stream",
     "text": [
      "(100, 224, 224, 3)\n",
      "10 res2a_branch2b\n",
      "preds (100, 56, 56, 64)\n",
      "(100, 200704)\n"
     ]
    },
    {
     "name": "stderr",
     "output_type": "stream",
     "text": [
      "C:\\Users\\benza-ord\\anaconda3\\envs\\keras-gpu\\lib\\site-packages\\sklearn\\decomposition\\_pca.py:555: RuntimeWarning: divide by zero encountered in true_divide\n",
      "  self.explained_variance_ / total_var.sum()\n",
      " 12%|███████████▌                                                                                    | 12/100 [00:00<00:00, 110.39it/s]"
     ]
    },
    {
     "name": "stdout",
     "output_type": "stream",
     "text": [
      "         PC1           PC2  target\n",
      "0   0.000001 -2.034661e-16       3\n",
      "1   0.000001 -2.041611e-16       8\n",
      "2   0.000001 -2.041614e-16       8\n",
      "3   0.000001 -2.041614e-16       0\n",
      "4   0.000001 -2.041614e-16       6\n",
      "..       ...           ...     ...\n",
      "95  0.000001 -2.041614e-16       6\n",
      "96  0.000001  4.899687e-15       6\n",
      "97  0.000001  4.899687e-15       0\n",
      "98  0.000001  4.899687e-15       0\n",
      "99  0.000001  4.899687e-15       7\n",
      "\n",
      "[100 rows x 3 columns]\n",
      "(100, 32, 32, 3)\n"
     ]
    },
    {
     "name": "stderr",
     "output_type": "stream",
     "text": [
      "100%|███████████████████████████████████████████████████████████████████████████████████████████████| 100/100 [00:00<00:00, 111.78it/s]\n",
      "C:\\Users\\benza-ord\\anaconda3\\envs\\keras-gpu\\lib\\site-packages\\ipykernel_launcher.py:47: UserWarning: Update your `Model` call to the Keras 2 API: `Model(inputs=[<tf.Tenso..., outputs=Tensor(\"re...)`\n"
     ]
    },
    {
     "name": "stdout",
     "output_type": "stream",
     "text": [
      "(100, 224, 224, 3)\n",
      "10 res2a_branch2b\n",
      "preds (100, 56, 56, 64)\n",
      "(100, 200704)\n"
     ]
    },
    {
     "name": "stderr",
     "output_type": "stream",
     "text": [
      "C:\\Users\\benza-ord\\anaconda3\\envs\\keras-gpu\\lib\\site-packages\\sklearn\\decomposition\\_pca.py:555: RuntimeWarning: divide by zero encountered in true_divide\n",
      "  self.explained_variance_ / total_var.sum()\n",
      " 13%|████████████▍                                                                                   | 13/100 [00:00<00:00, 120.69it/s]"
     ]
    },
    {
     "name": "stdout",
     "output_type": "stream",
     "text": [
      "         PC1           PC2  target\n",
      "0   0.000001 -8.153693e-17       3\n",
      "1   0.000001 -8.159125e-17       8\n",
      "2   0.000001 -8.158983e-17       8\n",
      "3   0.000001 -8.158983e-17       0\n",
      "4   0.000001 -8.158982e-17       6\n",
      "..       ...           ...     ...\n",
      "95  0.000001 -8.158982e-17       6\n",
      "96  0.000001  1.958142e-15       6\n",
      "97  0.000001  1.958142e-15       0\n",
      "98  0.000001  1.958142e-15       0\n",
      "99  0.000001  1.958142e-15       7\n",
      "\n",
      "[100 rows x 3 columns]\n",
      "(100, 32, 32, 3)\n"
     ]
    },
    {
     "name": "stderr",
     "output_type": "stream",
     "text": [
      "100%|███████████████████████████████████████████████████████████████████████████████████████████████| 100/100 [00:00<00:00, 112.03it/s]\n",
      "C:\\Users\\benza-ord\\anaconda3\\envs\\keras-gpu\\lib\\site-packages\\ipykernel_launcher.py:47: UserWarning: Update your `Model` call to the Keras 2 API: `Model(inputs=[<tf.Tenso..., outputs=Tensor(\"re...)`\n"
     ]
    },
    {
     "name": "stdout",
     "output_type": "stream",
     "text": [
      "(100, 224, 224, 3)\n",
      "13 res2a_branch2c\n",
      "preds (100, 56, 56, 256)\n",
      "(100, 802816)\n"
     ]
    },
    {
     "name": "stderr",
     "output_type": "stream",
     "text": [
      "C:\\Users\\benza-ord\\anaconda3\\envs\\keras-gpu\\lib\\site-packages\\sklearn\\decomposition\\_pca.py:555: RuntimeWarning: divide by zero encountered in true_divide\n",
      "  self.explained_variance_ / total_var.sum()\n",
      " 10%|█████████▋                                                                                       | 10/100 [00:00<00:00, 97.35it/s]"
     ]
    },
    {
     "name": "stdout",
     "output_type": "stream",
     "text": [
      "         PC1           PC2  target\n",
      "0   0.000002 -1.795880e-16       3\n",
      "1   0.000002 -1.798886e-16       8\n",
      "2   0.000002 -1.798903e-16       8\n",
      "3   0.000002 -1.798903e-16       0\n",
      "4   0.000002 -1.798903e-16       6\n",
      "..       ...           ...     ...\n",
      "95  0.000002 -1.798903e-16       6\n",
      "96  0.000002  4.317295e-15       6\n",
      "97  0.000002  4.317295e-15       0\n",
      "98  0.000002  4.317295e-15       0\n",
      "99  0.000002  4.317295e-15       7\n",
      "\n",
      "[100 rows x 3 columns]\n",
      "(100, 32, 32, 3)\n"
     ]
    },
    {
     "name": "stderr",
     "output_type": "stream",
     "text": [
      "100%|████████████████████████████████████████████████████████████████████████████████████████████████| 100/100 [00:01<00:00, 97.13it/s]\n",
      "C:\\Users\\benza-ord\\anaconda3\\envs\\keras-gpu\\lib\\site-packages\\ipykernel_launcher.py:47: UserWarning: Update your `Model` call to the Keras 2 API: `Model(inputs=[<tf.Tenso..., outputs=Tensor(\"re...)`\n"
     ]
    },
    {
     "name": "stdout",
     "output_type": "stream",
     "text": [
      "(100, 224, 224, 3)\n",
      "13 res2a_branch2c\n",
      "preds (100, 56, 56, 256)\n",
      "(100, 802816)\n"
     ]
    },
    {
     "name": "stderr",
     "output_type": "stream",
     "text": [
      "C:\\Users\\benza-ord\\anaconda3\\envs\\keras-gpu\\lib\\site-packages\\sklearn\\decomposition\\_pca.py:555: RuntimeWarning: divide by zero encountered in true_divide\n",
      "  self.explained_variance_ / total_var.sum()\n",
      " 12%|███████████▌                                                                                    | 12/100 [00:00<00:00, 115.66it/s]"
     ]
    },
    {
     "name": "stdout",
     "output_type": "stream",
     "text": [
      "             PC1           PC2  target\n",
      "0   9.717719e-07 -5.937627e-17       3\n",
      "1   9.717717e-07 -6.157247e-17       8\n",
      "2   9.717717e-07 -6.157229e-17       8\n",
      "3   9.717717e-07 -6.157220e-17       0\n",
      "4   9.717717e-07 -6.157220e-17       6\n",
      "..           ...           ...     ...\n",
      "95  9.717717e-07 -6.157220e-17       6\n",
      "96  9.717717e-07  1.477189e-15       6\n",
      "97  9.717717e-07  1.477189e-15       0\n",
      "98  9.717717e-07  1.477189e-15       0\n",
      "99  9.717717e-07  1.477189e-15       7\n",
      "\n",
      "[100 rows x 3 columns]\n",
      "(100, 32, 32, 3)\n"
     ]
    },
    {
     "name": "stderr",
     "output_type": "stream",
     "text": [
      "100%|████████████████████████████████████████████████████████████████████████████████████████████████| 100/100 [00:01<00:00, 98.66it/s]\n",
      "C:\\Users\\benza-ord\\anaconda3\\envs\\keras-gpu\\lib\\site-packages\\ipykernel_launcher.py:47: UserWarning: Update your `Model` call to the Keras 2 API: `Model(inputs=[<tf.Tenso..., outputs=Tensor(\"re...)`\n"
     ]
    },
    {
     "name": "stdout",
     "output_type": "stream",
     "text": [
      "(100, 224, 224, 3)\n",
      "13 res2a_branch2c\n",
      "preds (100, 56, 56, 256)\n",
      "(100, 802816)\n"
     ]
    },
    {
     "name": "stderr",
     "output_type": "stream",
     "text": [
      "C:\\Users\\benza-ord\\anaconda3\\envs\\keras-gpu\\lib\\site-packages\\sklearn\\decomposition\\_pca.py:555: RuntimeWarning: divide by zero encountered in true_divide\n",
      "  self.explained_variance_ / total_var.sum()\n",
      " 11%|██████████▌                                                                                     | 11/100 [00:00<00:00, 108.13it/s]"
     ]
    },
    {
     "name": "stdout",
     "output_type": "stream",
     "text": [
      "         PC1           PC2  target\n",
      "0   0.000001 -1.109072e-16       3\n",
      "1   0.000001 -1.330174e-16       8\n",
      "2   0.000001 -1.330165e-16       8\n",
      "3   0.000001 -1.330165e-16       0\n",
      "4   0.000001 -1.330165e-16       6\n",
      "..       ...           ...     ...\n",
      "95  0.000001 -1.330165e-16       6\n",
      "96  0.000001  3.186866e-15       6\n",
      "97  0.000001  3.186866e-15       0\n",
      "98  0.000001  3.186866e-15       0\n",
      "99  0.000001  3.186866e-15       7\n",
      "\n",
      "[100 rows x 3 columns]\n",
      "(100, 32, 32, 3)\n"
     ]
    },
    {
     "name": "stderr",
     "output_type": "stream",
     "text": [
      "100%|███████████████████████████████████████████████████████████████████████████████████████████████| 100/100 [00:00<00:00, 108.57it/s]\n",
      "C:\\Users\\benza-ord\\anaconda3\\envs\\keras-gpu\\lib\\site-packages\\ipykernel_launcher.py:47: UserWarning: Update your `Model` call to the Keras 2 API: `Model(inputs=[<tf.Tenso..., outputs=Tensor(\"re...)`\n"
     ]
    },
    {
     "name": "stdout",
     "output_type": "stream",
     "text": [
      "(100, 224, 224, 3)\n",
      "13 res2a_branch2c\n",
      "preds (100, 56, 56, 256)\n",
      "(100, 802816)\n"
     ]
    },
    {
     "name": "stderr",
     "output_type": "stream",
     "text": [
      "C:\\Users\\benza-ord\\anaconda3\\envs\\keras-gpu\\lib\\site-packages\\sklearn\\decomposition\\_pca.py:555: RuntimeWarning: divide by zero encountered in true_divide\n",
      "  self.explained_variance_ / total_var.sum()\n",
      " 12%|███████████▌                                                                                    | 12/100 [00:00<00:00, 113.51it/s]"
     ]
    },
    {
     "name": "stdout",
     "output_type": "stream",
     "text": [
      "         PC1           PC2  target\n",
      "0   0.000001 -7.635136e-17       3\n",
      "1   0.000001 -8.784538e-17       8\n",
      "2   0.000001 -8.784435e-17       8\n",
      "3   0.000001 -8.784412e-17       0\n",
      "4   0.000001 -8.784413e-17       6\n",
      "..       ...           ...     ...\n",
      "95  0.000001 -8.784411e-17       6\n",
      "96  0.000001  2.105390e-15       6\n",
      "97  0.000001  2.105390e-15       0\n",
      "98  0.000001  2.105390e-15       0\n",
      "99  0.000001  2.105390e-15       7\n",
      "\n",
      "[100 rows x 3 columns]\n",
      "(100, 32, 32, 3)\n"
     ]
    },
    {
     "name": "stderr",
     "output_type": "stream",
     "text": [
      "100%|███████████████████████████████████████████████████████████████████████████████████████████████| 100/100 [00:00<00:00, 113.94it/s]\n",
      "C:\\Users\\benza-ord\\anaconda3\\envs\\keras-gpu\\lib\\site-packages\\ipykernel_launcher.py:47: UserWarning: Update your `Model` call to the Keras 2 API: `Model(inputs=[<tf.Tenso..., outputs=Tensor(\"re...)`\n"
     ]
    },
    {
     "name": "stdout",
     "output_type": "stream",
     "text": [
      "(100, 224, 224, 3)\n",
      "13 res2a_branch2c\n",
      "preds (100, 56, 56, 256)\n",
      "(100, 802816)\n"
     ]
    },
    {
     "name": "stderr",
     "output_type": "stream",
     "text": [
      "C:\\Users\\benza-ord\\anaconda3\\envs\\keras-gpu\\lib\\site-packages\\sklearn\\decomposition\\_pca.py:555: RuntimeWarning: divide by zero encountered in true_divide\n",
      "  self.explained_variance_ / total_var.sum()\n",
      " 11%|██████████▌                                                                                     | 11/100 [00:00<00:00, 100.24it/s]"
     ]
    },
    {
     "name": "stdout",
     "output_type": "stream",
     "text": [
      "             PC1           PC2  target\n",
      "0   9.710740e-07 -1.001450e-16       3\n",
      "1   9.710740e-07 -1.000433e-16       8\n",
      "2   9.710740e-07 -1.000438e-16       8\n",
      "3   9.710740e-07 -1.000438e-16       0\n",
      "4   9.710740e-07 -1.000438e-16       6\n",
      "..           ...           ...     ...\n",
      "95  9.710740e-07 -1.000438e-16       6\n",
      "96  9.710740e-07  2.401078e-15       6\n",
      "97  9.710740e-07  2.401078e-15       0\n",
      "98  9.710740e-07  2.401078e-15       0\n",
      "99  9.710740e-07  2.401078e-15       7\n",
      "\n",
      "[100 rows x 3 columns]\n",
      "(100, 32, 32, 3)\n"
     ]
    },
    {
     "name": "stderr",
     "output_type": "stream",
     "text": [
      "100%|███████████████████████████████████████████████████████████████████████████████████████████████| 100/100 [00:00<00:00, 107.01it/s]\n",
      "C:\\Users\\benza-ord\\anaconda3\\envs\\keras-gpu\\lib\\site-packages\\ipykernel_launcher.py:47: UserWarning: Update your `Model` call to the Keras 2 API: `Model(inputs=[<tf.Tenso..., outputs=Tensor(\"re...)`\n"
     ]
    },
    {
     "name": "stdout",
     "output_type": "stream",
     "text": [
      "(100, 224, 224, 3)\n",
      "13 res2a_branch2c\n",
      "preds (100, 56, 56, 256)\n",
      "(100, 802816)\n"
     ]
    },
    {
     "name": "stderr",
     "output_type": "stream",
     "text": [
      "C:\\Users\\benza-ord\\anaconda3\\envs\\keras-gpu\\lib\\site-packages\\sklearn\\decomposition\\_pca.py:555: RuntimeWarning: divide by zero encountered in true_divide\n",
      "  self.explained_variance_ / total_var.sum()\n",
      " 12%|███████████▌                                                                                    | 12/100 [00:00<00:00, 116.82it/s]"
     ]
    },
    {
     "name": "stdout",
     "output_type": "stream",
     "text": [
      "         PC1           PC2  target\n",
      "0   0.000001 -1.457895e-16       3\n",
      "1   0.000001 -1.463833e-16       8\n",
      "2   0.000001 -1.463819e-16       8\n",
      "3   0.000001 -1.463819e-16       0\n",
      "4   0.000001 -1.463819e-16       6\n",
      "..       ...           ...     ...\n",
      "95  0.000001 -1.463819e-16       6\n",
      "96  0.000001  3.513019e-15       6\n",
      "97  0.000001  3.513019e-15       0\n",
      "98  0.000001  3.513019e-15       0\n",
      "99  0.000001  3.513019e-15       7\n",
      "\n",
      "[100 rows x 3 columns]\n",
      "(100, 32, 32, 3)\n"
     ]
    },
    {
     "name": "stderr",
     "output_type": "stream",
     "text": [
      "100%|███████████████████████████████████████████████████████████████████████████████████████████████| 100/100 [00:00<00:00, 107.47it/s]\n",
      "C:\\Users\\benza-ord\\anaconda3\\envs\\keras-gpu\\lib\\site-packages\\ipykernel_launcher.py:47: UserWarning: Update your `Model` call to the Keras 2 API: `Model(inputs=[<tf.Tenso..., outputs=Tensor(\"re...)`\n"
     ]
    },
    {
     "name": "stdout",
     "output_type": "stream",
     "text": [
      "(100, 224, 224, 3)\n",
      "13 res2a_branch2c\n",
      "preds (100, 56, 56, 256)\n",
      "(100, 802816)\n"
     ]
    },
    {
     "name": "stderr",
     "output_type": "stream",
     "text": [
      "C:\\Users\\benza-ord\\anaconda3\\envs\\keras-gpu\\lib\\site-packages\\sklearn\\decomposition\\_pca.py:555: RuntimeWarning: divide by zero encountered in true_divide\n",
      "  self.explained_variance_ / total_var.sum()\n",
      " 12%|███████████▌                                                                                    | 12/100 [00:00<00:00, 116.78it/s]"
     ]
    },
    {
     "name": "stdout",
     "output_type": "stream",
     "text": [
      "         PC1           PC2  target\n",
      "0   0.000001 -8.643258e-17       3\n",
      "1   0.000001 -7.650744e-17       8\n",
      "2   0.000001 -7.650822e-17       8\n",
      "3   0.000001 -7.650812e-17       0\n",
      "4   0.000001 -7.650812e-17       6\n",
      "..       ...           ...     ...\n",
      "95  0.000001 -7.650812e-17       6\n",
      "96  0.000001  1.838677e-15       6\n",
      "97  0.000001  1.838677e-15       0\n",
      "98  0.000001  1.838677e-15       0\n",
      "99  0.000001  1.838677e-15       7\n",
      "\n",
      "[100 rows x 3 columns]\n",
      "(100, 32, 32, 3)\n"
     ]
    },
    {
     "name": "stderr",
     "output_type": "stream",
     "text": [
      "100%|███████████████████████████████████████████████████████████████████████████████████████████████| 100/100 [00:00<00:00, 110.22it/s]\n",
      "C:\\Users\\benza-ord\\anaconda3\\envs\\keras-gpu\\lib\\site-packages\\ipykernel_launcher.py:47: UserWarning: Update your `Model` call to the Keras 2 API: `Model(inputs=[<tf.Tenso..., outputs=Tensor(\"re...)`\n"
     ]
    },
    {
     "name": "stdout",
     "output_type": "stream",
     "text": [
      "(100, 224, 224, 3)\n",
      "13 res2a_branch2c\n",
      "preds (100, 56, 56, 256)\n",
      "(100, 802816)\n"
     ]
    },
    {
     "name": "stderr",
     "output_type": "stream",
     "text": [
      "C:\\Users\\benza-ord\\anaconda3\\envs\\keras-gpu\\lib\\site-packages\\sklearn\\decomposition\\_pca.py:555: RuntimeWarning: divide by zero encountered in true_divide\n",
      "  self.explained_variance_ / total_var.sum()\n",
      " 12%|███████████▌                                                                                    | 12/100 [00:00<00:00, 117.93it/s]"
     ]
    },
    {
     "name": "stdout",
     "output_type": "stream",
     "text": [
      "         PC1           PC2  target\n",
      "0   0.000001 -1.550727e-17       3\n",
      "1   0.000001 -2.878008e-17       8\n",
      "2   0.000001 -2.878033e-17       8\n",
      "3   0.000001 -2.878040e-17       0\n",
      "4   0.000001 -2.878040e-17       6\n",
      "..       ...           ...     ...\n",
      "95  0.000001 -2.878040e-17       6\n",
      "96  0.000001  6.874103e-16       6\n",
      "97  0.000001  6.874103e-16       0\n",
      "98  0.000001  6.874103e-16       0\n",
      "99  0.000001  6.874103e-16       7\n",
      "\n",
      "[100 rows x 3 columns]\n",
      "(100, 32, 32, 3)\n"
     ]
    },
    {
     "name": "stderr",
     "output_type": "stream",
     "text": [
      "100%|███████████████████████████████████████████████████████████████████████████████████████████████| 100/100 [00:00<00:00, 114.71it/s]\n",
      "C:\\Users\\benza-ord\\anaconda3\\envs\\keras-gpu\\lib\\site-packages\\ipykernel_launcher.py:47: UserWarning: Update your `Model` call to the Keras 2 API: `Model(inputs=[<tf.Tenso..., outputs=Tensor(\"re...)`\n"
     ]
    },
    {
     "name": "stdout",
     "output_type": "stream",
     "text": [
      "(100, 224, 224, 3)\n",
      "13 res2a_branch2c\n",
      "preds (100, 56, 56, 256)\n",
      "(100, 802816)\n"
     ]
    },
    {
     "name": "stderr",
     "output_type": "stream",
     "text": [
      "C:\\Users\\benza-ord\\anaconda3\\envs\\keras-gpu\\lib\\site-packages\\sklearn\\decomposition\\_pca.py:555: RuntimeWarning: divide by zero encountered in true_divide\n",
      "  self.explained_variance_ / total_var.sum()\n",
      " 10%|█████████▋                                                                                       | 10/100 [00:00<00:00, 99.76it/s]"
     ]
    },
    {
     "name": "stdout",
     "output_type": "stream",
     "text": [
      "         PC1           PC2  target\n",
      "0   0.000002 -2.245045e-16       3\n",
      "1   0.000002 -2.261735e-16       8\n",
      "2   0.000002 -2.261689e-16       8\n",
      "3   0.000002 -2.261699e-16       0\n",
      "4   0.000002 -2.261698e-16       6\n",
      "..       ...           ...     ...\n",
      "95  0.000002 -2.261699e-16       6\n",
      "96  0.000002  5.427663e-15       6\n",
      "97  0.000002  5.427663e-15       0\n",
      "98  0.000002  5.427663e-15       0\n",
      "99  0.000002  5.427663e-15       7\n",
      "\n",
      "[100 rows x 3 columns]\n",
      "(100, 32, 32, 3)\n"
     ]
    },
    {
     "name": "stderr",
     "output_type": "stream",
     "text": [
      "100%|███████████████████████████████████████████████████████████████████████████████████████████████| 100/100 [00:00<00:00, 105.15it/s]\n",
      "C:\\Users\\benza-ord\\anaconda3\\envs\\keras-gpu\\lib\\site-packages\\ipykernel_launcher.py:47: UserWarning: Update your `Model` call to the Keras 2 API: `Model(inputs=[<tf.Tenso..., outputs=Tensor(\"re...)`\n"
     ]
    },
    {
     "name": "stdout",
     "output_type": "stream",
     "text": [
      "(100, 224, 224, 3)\n",
      "13 res2a_branch2c\n",
      "preds (100, 56, 56, 256)\n",
      "(100, 802816)\n"
     ]
    },
    {
     "name": "stderr",
     "output_type": "stream",
     "text": [
      "C:\\Users\\benza-ord\\anaconda3\\envs\\keras-gpu\\lib\\site-packages\\sklearn\\decomposition\\_pca.py:555: RuntimeWarning: divide by zero encountered in true_divide\n",
      "  self.explained_variance_ / total_var.sum()\n",
      " 12%|███████████▌                                                                                    | 12/100 [00:00<00:00, 117.96it/s]"
     ]
    },
    {
     "name": "stdout",
     "output_type": "stream",
     "text": [
      "         PC1           PC2  target\n",
      "0   0.000002 -3.412376e-16       3\n",
      "1   0.000002 -3.392968e-16       8\n",
      "2   0.000002 -3.392968e-16       8\n",
      "3   0.000002 -3.392973e-16       0\n",
      "4   0.000002 -3.392973e-16       6\n",
      "..       ...           ...     ...\n",
      "95  0.000002 -3.392973e-16       6\n",
      "96  0.000002  8.143635e-15       6\n",
      "97  0.000002  8.143635e-15       0\n",
      "98  0.000002  8.143635e-15       0\n",
      "99  0.000002  8.143635e-15       7\n",
      "\n",
      "[100 rows x 3 columns]\n",
      "(100, 32, 32, 3)\n"
     ]
    },
    {
     "name": "stderr",
     "output_type": "stream",
     "text": [
      "100%|███████████████████████████████████████████████████████████████████████████████████████████████| 100/100 [00:00<00:00, 113.92it/s]\n",
      "C:\\Users\\benza-ord\\anaconda3\\envs\\keras-gpu\\lib\\site-packages\\ipykernel_launcher.py:47: UserWarning: Update your `Model` call to the Keras 2 API: `Model(inputs=[<tf.Tenso..., outputs=Tensor(\"re...)`\n"
     ]
    },
    {
     "name": "stdout",
     "output_type": "stream",
     "text": [
      "(100, 224, 224, 3)\n",
      "14 res2a_branch1\n",
      "preds (100, 56, 56, 256)\n",
      "(100, 802816)\n"
     ]
    },
    {
     "name": "stderr",
     "output_type": "stream",
     "text": [
      "C:\\Users\\benza-ord\\anaconda3\\envs\\keras-gpu\\lib\\site-packages\\sklearn\\decomposition\\_pca.py:555: RuntimeWarning: divide by zero encountered in true_divide\n",
      "  self.explained_variance_ / total_var.sum()\n",
      " 12%|███████████▌                                                                                    | 12/100 [00:00<00:00, 117.39it/s]"
     ]
    },
    {
     "name": "stdout",
     "output_type": "stream",
     "text": [
      "         PC1           PC2  target\n",
      "0   0.000003 -1.914680e-15       3\n",
      "1   0.000003 -1.925313e-15       8\n",
      "2   0.000003 -1.925272e-15       8\n",
      "3   0.000003 -1.925273e-15       0\n",
      "4   0.000003 -1.925273e-15       6\n",
      "..       ...           ...     ...\n",
      "95  0.000003 -1.925273e-15       6\n",
      "96  0.000003  4.620394e-14       6\n",
      "97  0.000003  4.620394e-14       0\n",
      "98  0.000003  4.620394e-14       0\n",
      "99  0.000003  4.620394e-14       7\n",
      "\n",
      "[100 rows x 3 columns]\n",
      "(100, 32, 32, 3)\n"
     ]
    },
    {
     "name": "stderr",
     "output_type": "stream",
     "text": [
      "100%|███████████████████████████████████████████████████████████████████████████████████████████████| 100/100 [00:00<00:00, 113.19it/s]\n",
      "C:\\Users\\benza-ord\\anaconda3\\envs\\keras-gpu\\lib\\site-packages\\ipykernel_launcher.py:47: UserWarning: Update your `Model` call to the Keras 2 API: `Model(inputs=[<tf.Tenso..., outputs=Tensor(\"re...)`\n"
     ]
    },
    {
     "name": "stdout",
     "output_type": "stream",
     "text": [
      "(100, 224, 224, 3)\n",
      "14 res2a_branch1\n",
      "preds (100, 56, 56, 256)\n",
      "(100, 802816)\n"
     ]
    },
    {
     "name": "stderr",
     "output_type": "stream",
     "text": [
      "C:\\Users\\benza-ord\\anaconda3\\envs\\keras-gpu\\lib\\site-packages\\sklearn\\decomposition\\_pca.py:555: RuntimeWarning: divide by zero encountered in true_divide\n",
      "  self.explained_variance_ / total_var.sum()\n",
      " 12%|███████████▌                                                                                    | 12/100 [00:00<00:00, 116.01it/s]"
     ]
    },
    {
     "name": "stdout",
     "output_type": "stream",
     "text": [
      "         PC1           PC2  target\n",
      "0   0.000002 -6.657998e-17       3\n",
      "1   0.000002 -6.840953e-17       8\n",
      "2   0.000002 -6.840983e-17       8\n",
      "3   0.000002 -6.840984e-17       0\n",
      "4   0.000002 -6.840984e-17       6\n",
      "..       ...           ...     ...\n",
      "95  0.000002 -6.840985e-17       6\n",
      "96  0.000002  1.641381e-15       6\n",
      "97  0.000002  1.641381e-15       0\n",
      "98  0.000002  1.641381e-15       0\n",
      "99  0.000002  1.641381e-15       7\n",
      "\n",
      "[100 rows x 3 columns]\n",
      "(100, 32, 32, 3)\n"
     ]
    },
    {
     "name": "stderr",
     "output_type": "stream",
     "text": [
      "100%|███████████████████████████████████████████████████████████████████████████████████████████████| 100/100 [00:00<00:00, 113.59it/s]\n",
      "C:\\Users\\benza-ord\\anaconda3\\envs\\keras-gpu\\lib\\site-packages\\ipykernel_launcher.py:47: UserWarning: Update your `Model` call to the Keras 2 API: `Model(inputs=[<tf.Tenso..., outputs=Tensor(\"re...)`\n"
     ]
    },
    {
     "name": "stdout",
     "output_type": "stream",
     "text": [
      "(100, 224, 224, 3)\n",
      "14 res2a_branch1\n",
      "preds (100, 56, 56, 256)\n",
      "(100, 802816)\n"
     ]
    },
    {
     "name": "stderr",
     "output_type": "stream",
     "text": [
      "C:\\Users\\benza-ord\\anaconda3\\envs\\keras-gpu\\lib\\site-packages\\sklearn\\decomposition\\_pca.py:555: RuntimeWarning: divide by zero encountered in true_divide\n",
      "  self.explained_variance_ / total_var.sum()\n",
      " 12%|███████████▌                                                                                    | 12/100 [00:00<00:00, 116.78it/s]"
     ]
    },
    {
     "name": "stdout",
     "output_type": "stream",
     "text": [
      "         PC1           PC2  target\n",
      "0   0.000002 -2.427422e-16       3\n",
      "1   0.000002 -1.314391e-16       8\n",
      "2   0.000002 -1.314409e-16       8\n",
      "3   0.000002 -1.314410e-16       0\n",
      "4   0.000002 -1.314410e-16       6\n",
      "..       ...           ...     ...\n",
      "95  0.000002 -1.314410e-16       6\n",
      "96  0.000002  3.182409e-15       6\n",
      "97  0.000002  3.182409e-15       0\n",
      "98  0.000002  3.182409e-15       0\n",
      "99  0.000002  3.182409e-15       7\n",
      "\n",
      "[100 rows x 3 columns]\n",
      "(100, 32, 32, 3)\n"
     ]
    },
    {
     "name": "stderr",
     "output_type": "stream",
     "text": [
      "100%|███████████████████████████████████████████████████████████████████████████████████████████████| 100/100 [00:00<00:00, 110.44it/s]\n",
      "C:\\Users\\benza-ord\\anaconda3\\envs\\keras-gpu\\lib\\site-packages\\ipykernel_launcher.py:47: UserWarning: Update your `Model` call to the Keras 2 API: `Model(inputs=[<tf.Tenso..., outputs=Tensor(\"re...)`\n"
     ]
    },
    {
     "name": "stdout",
     "output_type": "stream",
     "text": [
      "(100, 224, 224, 3)\n",
      "14 res2a_branch1\n",
      "preds (100, 56, 56, 256)\n",
      "(100, 802816)\n"
     ]
    },
    {
     "name": "stderr",
     "output_type": "stream",
     "text": [
      "C:\\Users\\benza-ord\\anaconda3\\envs\\keras-gpu\\lib\\site-packages\\sklearn\\decomposition\\_pca.py:555: RuntimeWarning: divide by zero encountered in true_divide\n",
      "  self.explained_variance_ / total_var.sum()\n",
      " 12%|███████████▌                                                                                    | 12/100 [00:00<00:00, 112.42it/s]"
     ]
    },
    {
     "name": "stdout",
     "output_type": "stream",
     "text": [
      "         PC1           PC2  target\n",
      "0   0.000002 -2.444281e-16       3\n",
      "1   0.000002 -2.550619e-16       8\n",
      "2   0.000002 -2.550619e-16       8\n",
      "3   0.000002 -2.550621e-16       0\n",
      "4   0.000002 -2.550621e-16       6\n",
      "..       ...           ...     ...\n",
      "95  0.000002 -2.550621e-16       6\n",
      "96  0.000002  6.118832e-15       6\n",
      "97  0.000002  6.118832e-15       0\n",
      "98  0.000002  6.118832e-15       0\n",
      "99  0.000002  6.118832e-15       7\n",
      "\n",
      "[100 rows x 3 columns]\n",
      "(100, 32, 32, 3)\n"
     ]
    },
    {
     "name": "stderr",
     "output_type": "stream",
     "text": [
      "100%|███████████████████████████████████████████████████████████████████████████████████████████████| 100/100 [00:00<00:00, 111.28it/s]\n",
      "C:\\Users\\benza-ord\\anaconda3\\envs\\keras-gpu\\lib\\site-packages\\ipykernel_launcher.py:47: UserWarning: Update your `Model` call to the Keras 2 API: `Model(inputs=[<tf.Tenso..., outputs=Tensor(\"re...)`\n"
     ]
    },
    {
     "name": "stdout",
     "output_type": "stream",
     "text": [
      "(100, 224, 224, 3)\n",
      "14 res2a_branch1\n",
      "preds (100, 56, 56, 256)\n",
      "(100, 802816)\n"
     ]
    },
    {
     "name": "stderr",
     "output_type": "stream",
     "text": [
      "C:\\Users\\benza-ord\\anaconda3\\envs\\keras-gpu\\lib\\site-packages\\sklearn\\decomposition\\_pca.py:555: RuntimeWarning: divide by zero encountered in true_divide\n",
      "  self.explained_variance_ / total_var.sum()\n",
      " 12%|███████████▌                                                                                    | 12/100 [00:00<00:00, 115.62it/s]"
     ]
    },
    {
     "name": "stdout",
     "output_type": "stream",
     "text": [
      "         PC1           PC2  target\n",
      "0   0.000002 -1.159084e-16       3\n",
      "1   0.000002 -1.181816e-16       8\n",
      "2   0.000002 -1.181809e-16       8\n",
      "3   0.000002 -1.181811e-16       0\n",
      "4   0.000002 -1.181811e-16       6\n",
      "..       ...           ...     ...\n",
      "95  0.000002 -1.181811e-16       6\n",
      "96  0.000002  2.835773e-15       6\n",
      "97  0.000002  2.835773e-15       0\n",
      "98  0.000002  2.835773e-15       0\n",
      "99  0.000002  2.835773e-15       7\n",
      "\n",
      "[100 rows x 3 columns]\n",
      "(100, 32, 32, 3)\n"
     ]
    },
    {
     "name": "stderr",
     "output_type": "stream",
     "text": [
      "100%|███████████████████████████████████████████████████████████████████████████████████████████████| 100/100 [00:00<00:00, 114.41it/s]\n",
      "C:\\Users\\benza-ord\\anaconda3\\envs\\keras-gpu\\lib\\site-packages\\ipykernel_launcher.py:47: UserWarning: Update your `Model` call to the Keras 2 API: `Model(inputs=[<tf.Tenso..., outputs=Tensor(\"re...)`\n"
     ]
    },
    {
     "name": "stdout",
     "output_type": "stream",
     "text": [
      "(100, 224, 224, 3)\n",
      "14 res2a_branch1\n",
      "preds (100, 56, 56, 256)\n",
      "(100, 802816)\n"
     ]
    },
    {
     "name": "stderr",
     "output_type": "stream",
     "text": [
      "C:\\Users\\benza-ord\\anaconda3\\envs\\keras-gpu\\lib\\site-packages\\sklearn\\decomposition\\_pca.py:555: RuntimeWarning: divide by zero encountered in true_divide\n",
      "  self.explained_variance_ / total_var.sum()\n",
      " 10%|█████████▋                                                                                       | 10/100 [00:00<00:00, 96.41it/s]"
     ]
    },
    {
     "name": "stdout",
     "output_type": "stream",
     "text": [
      "         PC1           PC2  target\n",
      "0   0.000002 -2.159579e-16       3\n",
      "1   0.000002 -2.146006e-16       8\n",
      "2   0.000002 -2.146005e-16       8\n",
      "3   0.000002 -2.146005e-16       0\n",
      "4   0.000002 -2.146005e-16       6\n",
      "..       ...           ...     ...\n",
      "95  0.000002 -2.146005e-16       6\n",
      "96  0.000002  5.150754e-15       6\n",
      "97  0.000002  5.150754e-15       0\n",
      "98  0.000002  5.150754e-15       0\n",
      "99  0.000002  5.150754e-15       7\n",
      "\n",
      "[100 rows x 3 columns]\n",
      "(100, 32, 32, 3)\n"
     ]
    },
    {
     "name": "stderr",
     "output_type": "stream",
     "text": [
      "100%|███████████████████████████████████████████████████████████████████████████████████████████████| 100/100 [00:00<00:00, 104.66it/s]\n",
      "C:\\Users\\benza-ord\\anaconda3\\envs\\keras-gpu\\lib\\site-packages\\ipykernel_launcher.py:47: UserWarning: Update your `Model` call to the Keras 2 API: `Model(inputs=[<tf.Tenso..., outputs=Tensor(\"re...)`\n"
     ]
    },
    {
     "name": "stdout",
     "output_type": "stream",
     "text": [
      "(100, 224, 224, 3)\n",
      "14 res2a_branch1\n",
      "preds (100, 56, 56, 256)\n",
      "(100, 802816)\n"
     ]
    },
    {
     "name": "stderr",
     "output_type": "stream",
     "text": [
      "C:\\Users\\benza-ord\\anaconda3\\envs\\keras-gpu\\lib\\site-packages\\sklearn\\decomposition\\_pca.py:555: RuntimeWarning: divide by zero encountered in true_divide\n",
      "  self.explained_variance_ / total_var.sum()\n",
      " 11%|██████████▌                                                                                     | 11/100 [00:00<00:00, 108.10it/s]"
     ]
    },
    {
     "name": "stdout",
     "output_type": "stream",
     "text": [
      "         PC1           PC2  target\n",
      "0   0.000002 -1.578593e-16       3\n",
      "1   0.000002 -1.558460e-16       8\n",
      "2   0.000002 -1.558456e-16       8\n",
      "3   0.000002 -1.558449e-16       0\n",
      "4   0.000002 -1.558449e-16       6\n",
      "..       ...           ...     ...\n",
      "95  0.000002 -1.558449e-16       6\n",
      "96  0.000002  3.740780e-15       6\n",
      "97  0.000002  3.740780e-15       0\n",
      "98  0.000002  3.740780e-15       0\n",
      "99  0.000002  3.740780e-15       7\n",
      "\n",
      "[100 rows x 3 columns]\n",
      "(100, 32, 32, 3)\n"
     ]
    },
    {
     "name": "stderr",
     "output_type": "stream",
     "text": [
      "100%|███████████████████████████████████████████████████████████████████████████████████████████████| 100/100 [00:00<00:00, 108.48it/s]\n",
      "C:\\Users\\benza-ord\\anaconda3\\envs\\keras-gpu\\lib\\site-packages\\ipykernel_launcher.py:47: UserWarning: Update your `Model` call to the Keras 2 API: `Model(inputs=[<tf.Tenso..., outputs=Tensor(\"re...)`\n"
     ]
    },
    {
     "name": "stdout",
     "output_type": "stream",
     "text": [
      "(100, 224, 224, 3)\n",
      "14 res2a_branch1\n",
      "preds (100, 56, 56, 256)\n",
      "(100, 802816)\n"
     ]
    },
    {
     "name": "stderr",
     "output_type": "stream",
     "text": [
      "C:\\Users\\benza-ord\\anaconda3\\envs\\keras-gpu\\lib\\site-packages\\sklearn\\decomposition\\_pca.py:555: RuntimeWarning: divide by zero encountered in true_divide\n",
      "  self.explained_variance_ / total_var.sum()\n",
      " 12%|███████████▌                                                                                    | 12/100 [00:00<00:00, 113.48it/s]"
     ]
    },
    {
     "name": "stdout",
     "output_type": "stream",
     "text": [
      "         PC1           PC2  target\n",
      "0   0.000002 -1.892043e-15       3\n",
      "1   0.000002 -1.894345e-15       8\n",
      "2   0.000002 -1.894323e-15       8\n",
      "3   0.000002 -1.894324e-15       0\n",
      "4   0.000002 -1.894324e-15       6\n",
      "..       ...           ...     ...\n",
      "95  0.000002 -1.894324e-15       6\n",
      "96  0.000002  4.546303e-14       6\n",
      "97  0.000002  4.546303e-14       0\n",
      "98  0.000002  4.546303e-14       0\n",
      "99  0.000002  4.546303e-14       7\n",
      "\n",
      "[100 rows x 3 columns]\n",
      "(100, 32, 32, 3)\n"
     ]
    },
    {
     "name": "stderr",
     "output_type": "stream",
     "text": [
      "100%|███████████████████████████████████████████████████████████████████████████████████████████████| 100/100 [00:00<00:00, 112.39it/s]\n",
      "C:\\Users\\benza-ord\\anaconda3\\envs\\keras-gpu\\lib\\site-packages\\ipykernel_launcher.py:47: UserWarning: Update your `Model` call to the Keras 2 API: `Model(inputs=[<tf.Tenso..., outputs=Tensor(\"re...)`\n"
     ]
    },
    {
     "name": "stdout",
     "output_type": "stream",
     "text": [
      "(100, 224, 224, 3)\n",
      "14 res2a_branch1\n",
      "preds (100, 56, 56, 256)\n",
      "(100, 802816)\n"
     ]
    },
    {
     "name": "stderr",
     "output_type": "stream",
     "text": [
      "C:\\Users\\benza-ord\\anaconda3\\envs\\keras-gpu\\lib\\site-packages\\sklearn\\decomposition\\_pca.py:555: RuntimeWarning: divide by zero encountered in true_divide\n",
      "  self.explained_variance_ / total_var.sum()\n",
      " 11%|██████████▌                                                                                     | 11/100 [00:00<00:00, 106.05it/s]"
     ]
    },
    {
     "name": "stdout",
     "output_type": "stream",
     "text": [
      "         PC1           PC2  target\n",
      "0   0.000003 -3.408424e-16       3\n",
      "1   0.000003 -3.417860e-16       8\n",
      "2   0.000003 -3.417920e-16       8\n",
      "3   0.000003 -3.417927e-16       0\n",
      "4   0.000003 -3.417927e-16       6\n",
      "..       ...           ...     ...\n",
      "95  0.000003 -3.417927e-16       6\n",
      "96  0.000003  8.202758e-15       6\n",
      "97  0.000003  8.202758e-15       0\n",
      "98  0.000003  8.202758e-15       0\n",
      "99  0.000003  8.202758e-15       7\n",
      "\n",
      "[100 rows x 3 columns]\n",
      "(100, 32, 32, 3)\n"
     ]
    },
    {
     "name": "stderr",
     "output_type": "stream",
     "text": [
      "100%|███████████████████████████████████████████████████████████████████████████████████████████████| 100/100 [00:00<00:00, 105.21it/s]\n",
      "C:\\Users\\benza-ord\\anaconda3\\envs\\keras-gpu\\lib\\site-packages\\ipykernel_launcher.py:47: UserWarning: Update your `Model` call to the Keras 2 API: `Model(inputs=[<tf.Tenso..., outputs=Tensor(\"re...)`\n"
     ]
    },
    {
     "name": "stdout",
     "output_type": "stream",
     "text": [
      "(100, 224, 224, 3)\n",
      "14 res2a_branch1\n",
      "preds (100, 56, 56, 256)\n",
      "(100, 802816)\n"
     ]
    },
    {
     "name": "stderr",
     "output_type": "stream",
     "text": [
      "C:\\Users\\benza-ord\\anaconda3\\envs\\keras-gpu\\lib\\site-packages\\sklearn\\decomposition\\_pca.py:555: RuntimeWarning: divide by zero encountered in true_divide\n",
      "  self.explained_variance_ / total_var.sum()\n",
      " 11%|██████████▌                                                                                     | 11/100 [00:00<00:00, 108.13it/s]"
     ]
    },
    {
     "name": "stdout",
     "output_type": "stream",
     "text": [
      "         PC1           PC2  target\n",
      "0   0.000003 -1.519496e-15       3\n",
      "1   0.000003 -1.520867e-15       8\n",
      "2   0.000003 -1.520862e-15       8\n",
      "3   0.000003 -1.520862e-15       0\n",
      "4   0.000003 -1.520862e-15       6\n",
      "..       ...           ...     ...\n",
      "95  0.000003 -1.520862e-15       6\n",
      "96  0.000003  3.650033e-14       6\n",
      "97  0.000003  3.650033e-14       0\n",
      "98  0.000003  3.650033e-14       0\n",
      "99  0.000003  3.650033e-14       7\n",
      "\n",
      "[100 rows x 3 columns]\n",
      "(100, 32, 32, 3)\n"
     ]
    },
    {
     "name": "stderr",
     "output_type": "stream",
     "text": [
      "100%|████████████████████████████████████████████████████████████████████████████████████████████████| 100/100 [00:01<00:00, 99.17it/s]\n",
      "C:\\Users\\benza-ord\\anaconda3\\envs\\keras-gpu\\lib\\site-packages\\ipykernel_launcher.py:47: UserWarning: Update your `Model` call to the Keras 2 API: `Model(inputs=[<tf.Tenso..., outputs=Tensor(\"re...)`\n"
     ]
    },
    {
     "name": "stdout",
     "output_type": "stream",
     "text": [
      "(100, 224, 224, 3)\n",
      "19 res2b_branch2a\n",
      "preds (100, 56, 56, 64)\n",
      "(100, 200704)\n"
     ]
    },
    {
     "name": "stderr",
     "output_type": "stream",
     "text": [
      "C:\\Users\\benza-ord\\anaconda3\\envs\\keras-gpu\\lib\\site-packages\\sklearn\\decomposition\\_pca.py:555: RuntimeWarning: divide by zero encountered in true_divide\n",
      "  self.explained_variance_ / total_var.sum()\n",
      " 12%|███████████▌                                                                                    | 12/100 [00:00<00:00, 116.80it/s]"
     ]
    },
    {
     "name": "stdout",
     "output_type": "stream",
     "text": [
      "         PC1           PC2  target\n",
      "0   0.000002 -2.243299e-16       3\n",
      "1   0.000002 -2.262389e-16       8\n",
      "2   0.000002 -2.262378e-16       8\n",
      "3   0.000002 -2.262378e-16       0\n",
      "4   0.000002 -2.262378e-16       6\n",
      "..       ...           ...     ...\n",
      "95  0.000002 -2.262378e-16       6\n",
      "96  0.000002  5.429233e-15       6\n",
      "97  0.000002  5.429233e-15       0\n",
      "98  0.000002  5.429233e-15       0\n",
      "99  0.000002  5.429233e-15       7\n",
      "\n",
      "[100 rows x 3 columns]\n",
      "(100, 32, 32, 3)\n"
     ]
    },
    {
     "name": "stderr",
     "output_type": "stream",
     "text": [
      "100%|███████████████████████████████████████████████████████████████████████████████████████████████| 100/100 [00:00<00:00, 114.72it/s]\n",
      "C:\\Users\\benza-ord\\anaconda3\\envs\\keras-gpu\\lib\\site-packages\\ipykernel_launcher.py:47: UserWarning: Update your `Model` call to the Keras 2 API: `Model(inputs=[<tf.Tenso..., outputs=Tensor(\"re...)`\n"
     ]
    },
    {
     "name": "stdout",
     "output_type": "stream",
     "text": [
      "(100, 224, 224, 3)\n",
      "19 res2b_branch2a\n",
      "preds (100, 56, 56, 64)\n",
      "(100, 200704)\n"
     ]
    },
    {
     "name": "stderr",
     "output_type": "stream",
     "text": [
      "C:\\Users\\benza-ord\\anaconda3\\envs\\keras-gpu\\lib\\site-packages\\sklearn\\decomposition\\_pca.py:555: RuntimeWarning: divide by zero encountered in true_divide\n",
      "  self.explained_variance_ / total_var.sum()\n",
      " 11%|██████████▌                                                                                     | 11/100 [00:00<00:00, 108.13it/s]"
     ]
    },
    {
     "name": "stdout",
     "output_type": "stream",
     "text": [
      "             PC1           PC2  target\n",
      "0   9.354779e-07 -4.909049e-16       3\n",
      "1   9.354777e-07 -4.907394e-16       8\n",
      "2   9.354777e-07 -4.907385e-16       8\n",
      "3   9.354777e-07 -4.907384e-16       0\n",
      "4   9.354777e-07 -4.907385e-16       6\n",
      "..           ...           ...     ...\n",
      "95  9.354777e-07 -4.907385e-16       6\n",
      "96  9.354778e-07  1.177776e-14       6\n",
      "97  9.354778e-07  1.177776e-14       0\n",
      "98  9.354778e-07  1.177776e-14       0\n",
      "99  9.354778e-07  1.177776e-14       7\n",
      "\n",
      "[100 rows x 3 columns]\n",
      "(100, 32, 32, 3)\n"
     ]
    },
    {
     "name": "stderr",
     "output_type": "stream",
     "text": [
      "100%|███████████████████████████████████████████████████████████████████████████████████████████████| 100/100 [00:00<00:00, 107.05it/s]\n",
      "C:\\Users\\benza-ord\\anaconda3\\envs\\keras-gpu\\lib\\site-packages\\ipykernel_launcher.py:47: UserWarning: Update your `Model` call to the Keras 2 API: `Model(inputs=[<tf.Tenso..., outputs=Tensor(\"re...)`\n"
     ]
    },
    {
     "name": "stdout",
     "output_type": "stream",
     "text": [
      "(100, 224, 224, 3)\n",
      "19 res2b_branch2a\n",
      "preds (100, 56, 56, 64)\n",
      "(100, 200704)\n"
     ]
    },
    {
     "name": "stderr",
     "output_type": "stream",
     "text": [
      "C:\\Users\\benza-ord\\anaconda3\\envs\\keras-gpu\\lib\\site-packages\\sklearn\\decomposition\\_pca.py:555: RuntimeWarning: divide by zero encountered in true_divide\n",
      "  self.explained_variance_ / total_var.sum()\n",
      " 11%|██████████▌                                                                                     | 11/100 [00:00<00:00, 108.13it/s]"
     ]
    },
    {
     "name": "stdout",
     "output_type": "stream",
     "text": [
      "         PC1           PC2  target\n",
      "0   0.000001 -8.373526e-17       3\n",
      "1   0.000001 -8.360817e-17       8\n",
      "2   0.000001 -8.360719e-17       8\n",
      "3   0.000001 -8.360731e-17       0\n",
      "4   0.000001 -8.360732e-17       6\n",
      "..       ...           ...     ...\n",
      "95  0.000001 -8.360732e-17       6\n",
      "96  0.000001  2.006605e-15       6\n",
      "97  0.000001  2.006605e-15       0\n",
      "98  0.000001  2.006605e-15       0\n",
      "99  0.000001  2.006605e-15       7\n",
      "\n",
      "[100 rows x 3 columns]\n",
      "(100, 32, 32, 3)\n"
     ]
    },
    {
     "name": "stderr",
     "output_type": "stream",
     "text": [
      "100%|███████████████████████████████████████████████████████████████████████████████████████████████| 100/100 [00:00<00:00, 107.23it/s]\n",
      "C:\\Users\\benza-ord\\anaconda3\\envs\\keras-gpu\\lib\\site-packages\\ipykernel_launcher.py:47: UserWarning: Update your `Model` call to the Keras 2 API: `Model(inputs=[<tf.Tenso..., outputs=Tensor(\"re...)`\n"
     ]
    },
    {
     "name": "stdout",
     "output_type": "stream",
     "text": [
      "(100, 224, 224, 3)\n",
      "19 res2b_branch2a\n",
      "preds (100, 56, 56, 64)\n",
      "(100, 200704)\n"
     ]
    },
    {
     "name": "stderr",
     "output_type": "stream",
     "text": [
      "C:\\Users\\benza-ord\\anaconda3\\envs\\keras-gpu\\lib\\site-packages\\sklearn\\decomposition\\_pca.py:555: RuntimeWarning: divide by zero encountered in true_divide\n",
      "  self.explained_variance_ / total_var.sum()\n",
      " 12%|███████████▌                                                                                    | 12/100 [00:00<00:00, 111.41it/s]"
     ]
    },
    {
     "name": "stdout",
     "output_type": "stream",
     "text": [
      "         PC1           PC2  target\n",
      "0   0.000001 -2.365112e-16       3\n",
      "1   0.000001 -2.372534e-16       8\n",
      "2   0.000001 -2.372549e-16       8\n",
      "3   0.000001 -2.372548e-16       0\n",
      "4   0.000001 -2.372549e-16       6\n",
      "..       ...           ...     ...\n",
      "95  0.000001 -2.372549e-16       6\n",
      "96  0.000001  5.693924e-15       6\n",
      "97  0.000001  5.693924e-15       0\n",
      "98  0.000001  5.693924e-15       0\n",
      "99  0.000001  5.693924e-15       7\n",
      "\n",
      "[100 rows x 3 columns]\n",
      "(100, 32, 32, 3)\n"
     ]
    },
    {
     "name": "stderr",
     "output_type": "stream",
     "text": [
      "100%|███████████████████████████████████████████████████████████████████████████████████████████████| 100/100 [00:00<00:00, 109.28it/s]\n",
      "C:\\Users\\benza-ord\\anaconda3\\envs\\keras-gpu\\lib\\site-packages\\ipykernel_launcher.py:47: UserWarning: Update your `Model` call to the Keras 2 API: `Model(inputs=[<tf.Tenso..., outputs=Tensor(\"re...)`\n"
     ]
    },
    {
     "name": "stdout",
     "output_type": "stream",
     "text": [
      "(100, 224, 224, 3)\n",
      "19 res2b_branch2a\n",
      "preds (100, 56, 56, 64)\n",
      "(100, 200704)\n"
     ]
    },
    {
     "name": "stderr",
     "output_type": "stream",
     "text": [
      "C:\\Users\\benza-ord\\anaconda3\\envs\\keras-gpu\\lib\\site-packages\\sklearn\\decomposition\\_pca.py:555: RuntimeWarning: divide by zero encountered in true_divide\n",
      "  self.explained_variance_ / total_var.sum()\n",
      " 12%|███████████▌                                                                                    | 12/100 [00:00<00:00, 114.59it/s]"
     ]
    },
    {
     "name": "stdout",
     "output_type": "stream",
     "text": [
      "             PC1           PC2  target\n",
      "0   9.128391e-07 -1.031252e-16       3\n",
      "1   9.128389e-07 -1.020505e-16       8\n",
      "2   9.128389e-07 -1.020490e-16       8\n",
      "3   9.128389e-07 -1.020490e-16       0\n",
      "4   9.128389e-07 -1.020490e-16       6\n",
      "..           ...           ...     ...\n",
      "95  9.128389e-07 -1.020490e-16       6\n",
      "96  9.128389e-07  2.449446e-15       6\n",
      "97  9.128389e-07  2.449446e-15       0\n",
      "98  9.128389e-07  2.449446e-15       0\n",
      "99  9.128389e-07  2.449446e-15       7\n",
      "\n",
      "[100 rows x 3 columns]\n",
      "(100, 32, 32, 3)\n"
     ]
    },
    {
     "name": "stderr",
     "output_type": "stream",
     "text": [
      "100%|███████████████████████████████████████████████████████████████████████████████████████████████| 100/100 [00:00<00:00, 103.12it/s]\n",
      "C:\\Users\\benza-ord\\anaconda3\\envs\\keras-gpu\\lib\\site-packages\\ipykernel_launcher.py:47: UserWarning: Update your `Model` call to the Keras 2 API: `Model(inputs=[<tf.Tenso..., outputs=Tensor(\"re...)`\n"
     ]
    },
    {
     "name": "stdout",
     "output_type": "stream",
     "text": [
      "(100, 224, 224, 3)\n",
      "19 res2b_branch2a\n",
      "preds (100, 56, 56, 64)\n",
      "(100, 200704)\n"
     ]
    },
    {
     "name": "stderr",
     "output_type": "stream",
     "text": [
      "C:\\Users\\benza-ord\\anaconda3\\envs\\keras-gpu\\lib\\site-packages\\sklearn\\decomposition\\_pca.py:555: RuntimeWarning: divide by zero encountered in true_divide\n",
      "  self.explained_variance_ / total_var.sum()\n",
      " 12%|███████████▌                                                                                    | 12/100 [00:00<00:00, 119.99it/s]"
     ]
    },
    {
     "name": "stdout",
     "output_type": "stream",
     "text": [
      "         PC1           PC2  target\n",
      "0   0.000001 -6.233166e-17       3\n",
      "1   0.000001 -6.241135e-17       8\n",
      "2   0.000001 -6.241057e-17       8\n",
      "3   0.000001 -6.241056e-17       0\n",
      "4   0.000001 -6.241056e-17       6\n",
      "..       ...           ...     ...\n",
      "95  0.000001 -6.241056e-17       6\n",
      "96  0.000001  1.497831e-15       6\n",
      "97  0.000001  1.497831e-15       0\n",
      "98  0.000001  1.497831e-15       0\n",
      "99  0.000001  1.497831e-15       7\n",
      "\n",
      "[100 rows x 3 columns]\n",
      "(100, 32, 32, 3)\n"
     ]
    },
    {
     "name": "stderr",
     "output_type": "stream",
     "text": [
      "100%|███████████████████████████████████████████████████████████████████████████████████████████████| 100/100 [00:00<00:00, 115.44it/s]\n",
      "C:\\Users\\benza-ord\\anaconda3\\envs\\keras-gpu\\lib\\site-packages\\ipykernel_launcher.py:47: UserWarning: Update your `Model` call to the Keras 2 API: `Model(inputs=[<tf.Tenso..., outputs=Tensor(\"re...)`\n"
     ]
    },
    {
     "name": "stdout",
     "output_type": "stream",
     "text": [
      "(100, 224, 224, 3)\n",
      "19 res2b_branch2a\n",
      "preds (100, 56, 56, 64)\n",
      "(100, 200704)\n"
     ]
    },
    {
     "name": "stderr",
     "output_type": "stream",
     "text": [
      "C:\\Users\\benza-ord\\anaconda3\\envs\\keras-gpu\\lib\\site-packages\\sklearn\\decomposition\\_pca.py:555: RuntimeWarning: divide by zero encountered in true_divide\n",
      "  self.explained_variance_ / total_var.sum()\n",
      " 12%|███████████▌                                                                                    | 12/100 [00:00<00:00, 111.90it/s]"
     ]
    },
    {
     "name": "stdout",
     "output_type": "stream",
     "text": [
      "         PC1           PC2  target\n",
      "0   0.000001 -4.877311e-17       3\n",
      "1   0.000001 -5.036921e-17       8\n",
      "2   0.000001 -5.036902e-17       8\n",
      "3   0.000001 -5.036902e-17       0\n",
      "4   0.000001 -5.036902e-17       6\n",
      "..       ...           ...     ...\n",
      "95  0.000001 -5.036902e-17       6\n",
      "96  0.000001  1.208457e-15       6\n",
      "97  0.000001  1.208457e-15       0\n",
      "98  0.000001  1.208457e-15       0\n",
      "99  0.000001  1.208457e-15       7\n",
      "\n",
      "[100 rows x 3 columns]\n",
      "(100, 32, 32, 3)\n"
     ]
    },
    {
     "name": "stderr",
     "output_type": "stream",
     "text": [
      "100%|███████████████████████████████████████████████████████████████████████████████████████████████| 100/100 [00:00<00:00, 112.46it/s]\n",
      "C:\\Users\\benza-ord\\anaconda3\\envs\\keras-gpu\\lib\\site-packages\\ipykernel_launcher.py:47: UserWarning: Update your `Model` call to the Keras 2 API: `Model(inputs=[<tf.Tenso..., outputs=Tensor(\"re...)`\n"
     ]
    },
    {
     "name": "stdout",
     "output_type": "stream",
     "text": [
      "(100, 224, 224, 3)\n",
      "19 res2b_branch2a\n",
      "preds (100, 56, 56, 64)\n",
      "(100, 200704)\n"
     ]
    },
    {
     "name": "stderr",
     "output_type": "stream",
     "text": [
      "C:\\Users\\benza-ord\\anaconda3\\envs\\keras-gpu\\lib\\site-packages\\sklearn\\decomposition\\_pca.py:555: RuntimeWarning: divide by zero encountered in true_divide\n",
      "  self.explained_variance_ / total_var.sum()\n",
      " 12%|███████████▌                                                                                    | 12/100 [00:00<00:00, 119.13it/s]"
     ]
    },
    {
     "name": "stdout",
     "output_type": "stream",
     "text": [
      "         PC1           PC2  target\n",
      "0   0.000001 -2.026912e-17       3\n",
      "1   0.000001 -2.065724e-17       8\n",
      "2   0.000001 -2.065709e-17       8\n",
      "3   0.000001 -2.065707e-17       0\n",
      "4   0.000001 -2.065707e-17       6\n",
      "..       ...           ...     ...\n",
      "95  0.000001 -2.065707e-17       6\n",
      "96  0.000001  4.956733e-16       6\n",
      "97  0.000001  4.956733e-16       0\n",
      "98  0.000001  4.956733e-16       0\n",
      "99  0.000001  4.956733e-16       7\n",
      "\n",
      "[100 rows x 3 columns]\n",
      "(100, 32, 32, 3)\n"
     ]
    },
    {
     "name": "stderr",
     "output_type": "stream",
     "text": [
      "100%|███████████████████████████████████████████████████████████████████████████████████████████████| 100/100 [00:00<00:00, 112.28it/s]\n",
      "C:\\Users\\benza-ord\\anaconda3\\envs\\keras-gpu\\lib\\site-packages\\ipykernel_launcher.py:47: UserWarning: Update your `Model` call to the Keras 2 API: `Model(inputs=[<tf.Tenso..., outputs=Tensor(\"re...)`\n"
     ]
    },
    {
     "name": "stdout",
     "output_type": "stream",
     "text": [
      "(100, 224, 224, 3)\n",
      "19 res2b_branch2a\n",
      "preds (100, 56, 56, 64)\n",
      "(100, 200704)\n"
     ]
    },
    {
     "name": "stderr",
     "output_type": "stream",
     "text": [
      "C:\\Users\\benza-ord\\anaconda3\\envs\\keras-gpu\\lib\\site-packages\\sklearn\\decomposition\\_pca.py:555: RuntimeWarning: divide by zero encountered in true_divide\n",
      "  self.explained_variance_ / total_var.sum()\n",
      " 12%|███████████▌                                                                                    | 12/100 [00:00<00:00, 116.82it/s]"
     ]
    },
    {
     "name": "stdout",
     "output_type": "stream",
     "text": [
      "         PC1           PC2  target\n",
      "0   0.000002 -3.201101e-16       3\n",
      "1   0.000002 -3.220412e-16       8\n",
      "2   0.000002 -3.220477e-16       8\n",
      "3   0.000002 -3.220476e-16       0\n",
      "4   0.000002 -3.220476e-16       6\n",
      "..       ...           ...     ...\n",
      "95  0.000002 -3.220477e-16       6\n",
      "96  0.000002  7.728682e-15       6\n",
      "97  0.000002  7.728682e-15       0\n",
      "98  0.000002  7.728682e-15       0\n",
      "99  0.000002  7.728682e-15       7\n",
      "\n",
      "[100 rows x 3 columns]\n",
      "(100, 32, 32, 3)\n"
     ]
    },
    {
     "name": "stderr",
     "output_type": "stream",
     "text": [
      "100%|███████████████████████████████████████████████████████████████████████████████████████████████| 100/100 [00:00<00:00, 114.78it/s]\n",
      "C:\\Users\\benza-ord\\anaconda3\\envs\\keras-gpu\\lib\\site-packages\\ipykernel_launcher.py:47: UserWarning: Update your `Model` call to the Keras 2 API: `Model(inputs=[<tf.Tenso..., outputs=Tensor(\"re...)`\n"
     ]
    },
    {
     "name": "stdout",
     "output_type": "stream",
     "text": [
      "(100, 224, 224, 3)\n",
      "19 res2b_branch2a\n",
      "preds (100, 56, 56, 64)\n",
      "(100, 200704)\n"
     ]
    },
    {
     "name": "stderr",
     "output_type": "stream",
     "text": [
      "C:\\Users\\benza-ord\\anaconda3\\envs\\keras-gpu\\lib\\site-packages\\sklearn\\decomposition\\_pca.py:555: RuntimeWarning: divide by zero encountered in true_divide\n",
      "  self.explained_variance_ / total_var.sum()\n",
      " 13%|████████████▍                                                                                   | 13/100 [00:00<00:00, 119.59it/s]"
     ]
    },
    {
     "name": "stdout",
     "output_type": "stream",
     "text": [
      "         PC1           PC2  target\n",
      "0   0.000001 -4.326118e-16       3\n",
      "1   0.000001 -4.317746e-16       8\n",
      "2   0.000001 -4.317678e-16       8\n",
      "3   0.000001 -4.317678e-16       0\n",
      "4   0.000001 -4.317678e-16       6\n",
      "..       ...           ...     ...\n",
      "95  0.000001 -4.317678e-16       6\n",
      "96  0.000001  1.036264e-14       6\n",
      "97  0.000001  1.036264e-14       0\n",
      "98  0.000001  1.036264e-14       0\n",
      "99  0.000001  1.036264e-14       7\n",
      "\n",
      "[100 rows x 3 columns]\n",
      "(100, 32, 32, 3)\n"
     ]
    },
    {
     "name": "stderr",
     "output_type": "stream",
     "text": [
      "100%|███████████████████████████████████████████████████████████████████████████████████████████████| 100/100 [00:00<00:00, 115.90it/s]\n",
      "C:\\Users\\benza-ord\\anaconda3\\envs\\keras-gpu\\lib\\site-packages\\ipykernel_launcher.py:47: UserWarning: Update your `Model` call to the Keras 2 API: `Model(inputs=[<tf.Tenso..., outputs=Tensor(\"re...)`\n"
     ]
    },
    {
     "name": "stdout",
     "output_type": "stream",
     "text": [
      "(100, 224, 224, 3)\n",
      "22 res2b_branch2b\n",
      "preds (100, 56, 56, 64)\n",
      "(100, 200704)\n"
     ]
    },
    {
     "name": "stderr",
     "output_type": "stream",
     "text": [
      "C:\\Users\\benza-ord\\anaconda3\\envs\\keras-gpu\\lib\\site-packages\\sklearn\\decomposition\\_pca.py:555: RuntimeWarning: divide by zero encountered in true_divide\n",
      "  self.explained_variance_ / total_var.sum()\n",
      " 13%|████████████▍                                                                                   | 13/100 [00:00<00:00, 120.69it/s]"
     ]
    },
    {
     "name": "stdout",
     "output_type": "stream",
     "text": [
      "         PC1           PC2  target\n",
      "0   0.000002 -5.744098e-17       3\n",
      "1   0.000002 -5.690635e-17       8\n",
      "2   0.000002 -5.690444e-17       8\n",
      "3   0.000002 -5.690439e-17       0\n",
      "4   0.000002 -5.690440e-17       6\n",
      "..       ...           ...     ...\n",
      "95  0.000002 -5.690439e-17       6\n",
      "96  0.000002  1.365836e-15       6\n",
      "97  0.000002  1.365836e-15       0\n",
      "98  0.000002  1.365836e-15       0\n",
      "99  0.000002  1.365836e-15       7\n",
      "\n",
      "[100 rows x 3 columns]\n",
      "(100, 32, 32, 3)\n"
     ]
    },
    {
     "name": "stderr",
     "output_type": "stream",
     "text": [
      "100%|███████████████████████████████████████████████████████████████████████████████████████████████| 100/100 [00:00<00:00, 115.67it/s]\n",
      "C:\\Users\\benza-ord\\anaconda3\\envs\\keras-gpu\\lib\\site-packages\\ipykernel_launcher.py:47: UserWarning: Update your `Model` call to the Keras 2 API: `Model(inputs=[<tf.Tenso..., outputs=Tensor(\"re...)`\n"
     ]
    },
    {
     "name": "stdout",
     "output_type": "stream",
     "text": [
      "(100, 224, 224, 3)\n",
      "22 res2b_branch2b\n",
      "preds (100, 56, 56, 64)\n",
      "(100, 200704)\n"
     ]
    },
    {
     "name": "stderr",
     "output_type": "stream",
     "text": [
      "C:\\Users\\benza-ord\\anaconda3\\envs\\keras-gpu\\lib\\site-packages\\sklearn\\decomposition\\_pca.py:555: RuntimeWarning: divide by zero encountered in true_divide\n",
      "  self.explained_variance_ / total_var.sum()\n",
      " 13%|████████████▍                                                                                   | 13/100 [00:00<00:00, 120.69it/s]"
     ]
    },
    {
     "name": "stdout",
     "output_type": "stream",
     "text": [
      "             PC1           PC2  target\n",
      "0   9.923144e-07 -8.804594e-16       3\n",
      "1   9.923142e-07 -8.808703e-16       8\n",
      "2   9.923142e-07 -8.808680e-16       8\n",
      "3   9.923142e-07 -8.808680e-16       0\n",
      "4   9.923142e-07 -8.808680e-16       6\n",
      "..           ...           ...     ...\n",
      "95  9.923142e-07 -8.808680e-16       6\n",
      "96  9.923145e-07  2.114073e-14       6\n",
      "97  9.923145e-07  2.114073e-14       0\n",
      "98  9.923145e-07  2.114073e-14       0\n",
      "99  9.923145e-07  2.114073e-14       7\n",
      "\n",
      "[100 rows x 3 columns]\n",
      "(100, 32, 32, 3)\n"
     ]
    },
    {
     "name": "stderr",
     "output_type": "stream",
     "text": [
      "100%|███████████████████████████████████████████████████████████████████████████████████████████████| 100/100 [00:00<00:00, 114.65it/s]\n",
      "C:\\Users\\benza-ord\\anaconda3\\envs\\keras-gpu\\lib\\site-packages\\ipykernel_launcher.py:47: UserWarning: Update your `Model` call to the Keras 2 API: `Model(inputs=[<tf.Tenso..., outputs=Tensor(\"re...)`\n"
     ]
    },
    {
     "name": "stdout",
     "output_type": "stream",
     "text": [
      "(100, 224, 224, 3)\n",
      "22 res2b_branch2b\n",
      "preds (100, 56, 56, 64)\n",
      "(100, 200704)\n"
     ]
    },
    {
     "name": "stderr",
     "output_type": "stream",
     "text": [
      "C:\\Users\\benza-ord\\anaconda3\\envs\\keras-gpu\\lib\\site-packages\\sklearn\\decomposition\\_pca.py:555: RuntimeWarning: divide by zero encountered in true_divide\n",
      "  self.explained_variance_ / total_var.sum()\n",
      " 12%|███████████▌                                                                                    | 12/100 [00:00<00:00, 119.13it/s]"
     ]
    },
    {
     "name": "stdout",
     "output_type": "stream",
     "text": [
      "         PC1           PC2  target\n",
      "0   0.000001 -1.585975e-16       3\n",
      "1   0.000001 -1.624887e-16       8\n",
      "2   0.000001 -1.624877e-16       8\n",
      "3   0.000001 -1.624877e-16       0\n",
      "4   0.000001 -1.624878e-16       6\n",
      "..       ...           ...     ...\n",
      "95  0.000001 -1.624878e-16       6\n",
      "96  0.000001  3.898731e-15       6\n",
      "97  0.000001  3.898731e-15       0\n",
      "98  0.000001  3.898731e-15       0\n",
      "99  0.000001  3.898731e-15       7\n",
      "\n",
      "[100 rows x 3 columns]\n",
      "(100, 32, 32, 3)\n"
     ]
    },
    {
     "name": "stderr",
     "output_type": "stream",
     "text": [
      "100%|███████████████████████████████████████████████████████████████████████████████████████████████| 100/100 [00:00<00:00, 116.06it/s]\n",
      "C:\\Users\\benza-ord\\anaconda3\\envs\\keras-gpu\\lib\\site-packages\\ipykernel_launcher.py:47: UserWarning: Update your `Model` call to the Keras 2 API: `Model(inputs=[<tf.Tenso..., outputs=Tensor(\"re...)`\n"
     ]
    },
    {
     "name": "stdout",
     "output_type": "stream",
     "text": [
      "(100, 224, 224, 3)\n",
      "22 res2b_branch2b\n",
      "preds (100, 56, 56, 64)\n",
      "(100, 200704)\n"
     ]
    },
    {
     "name": "stderr",
     "output_type": "stream",
     "text": [
      "C:\\Users\\benza-ord\\anaconda3\\envs\\keras-gpu\\lib\\site-packages\\sklearn\\decomposition\\_pca.py:555: RuntimeWarning: divide by zero encountered in true_divide\n",
      "  self.explained_variance_ / total_var.sum()\n",
      " 13%|████████████▍                                                                                   | 13/100 [00:00<00:00, 120.69it/s]"
     ]
    },
    {
     "name": "stdout",
     "output_type": "stream",
     "text": [
      "         PC1           PC2  target\n",
      "0   0.000001 -5.718002e-17       3\n",
      "1   0.000001 -5.788289e-17       8\n",
      "2   0.000001 -5.788302e-17       8\n",
      "3   0.000001 -5.788301e-17       0\n",
      "4   0.000001 -5.788301e-17       6\n",
      "..       ...           ...     ...\n",
      "95  0.000001 -5.788301e-17       6\n",
      "96  0.000001  1.389017e-15       6\n",
      "97  0.000001  1.389017e-15       0\n",
      "98  0.000001  1.389017e-15       0\n",
      "99  0.000001  1.389017e-15       7\n",
      "\n",
      "[100 rows x 3 columns]\n",
      "(100, 32, 32, 3)\n"
     ]
    },
    {
     "name": "stderr",
     "output_type": "stream",
     "text": [
      "100%|███████████████████████████████████████████████████████████████████████████████████████████████| 100/100 [00:00<00:00, 114.72it/s]\n",
      "C:\\Users\\benza-ord\\anaconda3\\envs\\keras-gpu\\lib\\site-packages\\ipykernel_launcher.py:47: UserWarning: Update your `Model` call to the Keras 2 API: `Model(inputs=[<tf.Tenso..., outputs=Tensor(\"re...)`\n"
     ]
    },
    {
     "name": "stdout",
     "output_type": "stream",
     "text": [
      "(100, 224, 224, 3)\n",
      "22 res2b_branch2b\n",
      "preds (100, 56, 56, 64)\n",
      "(100, 200704)\n"
     ]
    },
    {
     "name": "stderr",
     "output_type": "stream",
     "text": [
      "C:\\Users\\benza-ord\\anaconda3\\envs\\keras-gpu\\lib\\site-packages\\sklearn\\decomposition\\_pca.py:555: RuntimeWarning: divide by zero encountered in true_divide\n",
      "  self.explained_variance_ / total_var.sum()\n",
      " 13%|████████████▍                                                                                   | 13/100 [00:00<00:00, 120.69it/s]"
     ]
    },
    {
     "name": "stdout",
     "output_type": "stream",
     "text": [
      "         PC1           PC2  target\n",
      "0   0.000001 -1.116359e-16       3\n",
      "1   0.000001 -1.113950e-16       8\n",
      "2   0.000001 -1.113942e-16       8\n",
      "3   0.000001 -1.113942e-16       0\n",
      "4   0.000001 -1.113942e-16       6\n",
      "..       ...           ...     ...\n",
      "95  0.000001 -1.113942e-16       6\n",
      "96  0.000001  2.673522e-15       6\n",
      "97  0.000001  2.673522e-15       0\n",
      "98  0.000001  2.673522e-15       0\n",
      "99  0.000001  2.673522e-15       7\n",
      "\n",
      "[100 rows x 3 columns]\n",
      "(100, 32, 32, 3)\n"
     ]
    },
    {
     "name": "stderr",
     "output_type": "stream",
     "text": [
      "100%|███████████████████████████████████████████████████████████████████████████████████████████████| 100/100 [00:00<00:00, 115.92it/s]\n",
      "C:\\Users\\benza-ord\\anaconda3\\envs\\keras-gpu\\lib\\site-packages\\ipykernel_launcher.py:47: UserWarning: Update your `Model` call to the Keras 2 API: `Model(inputs=[<tf.Tenso..., outputs=Tensor(\"re...)`\n"
     ]
    },
    {
     "name": "stdout",
     "output_type": "stream",
     "text": [
      "(100, 224, 224, 3)\n",
      "22 res2b_branch2b\n",
      "preds (100, 56, 56, 64)\n",
      "(100, 200704)\n"
     ]
    },
    {
     "name": "stderr",
     "output_type": "stream",
     "text": [
      "C:\\Users\\benza-ord\\anaconda3\\envs\\keras-gpu\\lib\\site-packages\\sklearn\\decomposition\\_pca.py:555: RuntimeWarning: divide by zero encountered in true_divide\n",
      "  self.explained_variance_ / total_var.sum()\n",
      " 12%|███████████▌                                                                                    | 12/100 [00:00<00:00, 115.69it/s]"
     ]
    },
    {
     "name": "stdout",
     "output_type": "stream",
     "text": [
      "         PC1           PC2  target\n",
      "0   0.000001 -9.117007e-17       3\n",
      "1   0.000001 -9.040659e-17       8\n",
      "2   0.000001 -9.040589e-17       8\n",
      "3   0.000001 -9.040588e-17       0\n",
      "4   0.000001 -9.040588e-17       6\n",
      "..       ...           ...     ...\n",
      "95  0.000001 -9.040588e-17       6\n",
      "96  0.000001  2.169932e-15       6\n",
      "97  0.000001  2.169932e-15       0\n",
      "98  0.000001  2.169932e-15       0\n",
      "99  0.000001  2.169932e-15       7\n",
      "\n",
      "[100 rows x 3 columns]\n",
      "(100, 32, 32, 3)\n"
     ]
    },
    {
     "name": "stderr",
     "output_type": "stream",
     "text": [
      "100%|███████████████████████████████████████████████████████████████████████████████████████████████| 100/100 [00:00<00:00, 110.42it/s]\n",
      "C:\\Users\\benza-ord\\anaconda3\\envs\\keras-gpu\\lib\\site-packages\\ipykernel_launcher.py:47: UserWarning: Update your `Model` call to the Keras 2 API: `Model(inputs=[<tf.Tenso..., outputs=Tensor(\"re...)`\n"
     ]
    },
    {
     "name": "stdout",
     "output_type": "stream",
     "text": [
      "(100, 224, 224, 3)\n",
      "22 res2b_branch2b\n",
      "preds (100, 56, 56, 64)\n",
      "(100, 200704)\n"
     ]
    },
    {
     "name": "stderr",
     "output_type": "stream",
     "text": [
      "C:\\Users\\benza-ord\\anaconda3\\envs\\keras-gpu\\lib\\site-packages\\sklearn\\decomposition\\_pca.py:555: RuntimeWarning: divide by zero encountered in true_divide\n",
      "  self.explained_variance_ / total_var.sum()\n",
      " 12%|███████████▌                                                                                    | 12/100 [00:00<00:00, 119.13it/s]"
     ]
    },
    {
     "name": "stdout",
     "output_type": "stream",
     "text": [
      "         PC1           PC2  target\n",
      "0   0.000001 -4.193771e-16       3\n",
      "1   0.000001 -4.191180e-16       8\n",
      "2   0.000001 -4.191118e-16       8\n",
      "3   0.000001 -4.191118e-16       0\n",
      "4   0.000001 -4.191118e-16       6\n",
      "..       ...           ...     ...\n",
      "95  0.000001 -4.191118e-16       6\n",
      "96  0.000001  1.005876e-14       6\n",
      "97  0.000001  1.005876e-14       0\n",
      "98  0.000001  1.005876e-14       0\n",
      "99  0.000001  1.005876e-14       7\n",
      "\n",
      "[100 rows x 3 columns]\n",
      "(100, 32, 32, 3)\n"
     ]
    },
    {
     "name": "stderr",
     "output_type": "stream",
     "text": [
      "100%|███████████████████████████████████████████████████████████████████████████████████████████████| 100/100 [00:00<00:00, 109.34it/s]\n",
      "C:\\Users\\benza-ord\\anaconda3\\envs\\keras-gpu\\lib\\site-packages\\ipykernel_launcher.py:47: UserWarning: Update your `Model` call to the Keras 2 API: `Model(inputs=[<tf.Tenso..., outputs=Tensor(\"re...)`\n"
     ]
    },
    {
     "name": "stdout",
     "output_type": "stream",
     "text": [
      "(100, 224, 224, 3)\n",
      "22 res2b_branch2b\n",
      "preds (100, 56, 56, 64)\n",
      "(100, 200704)\n"
     ]
    },
    {
     "name": "stderr",
     "output_type": "stream",
     "text": [
      "C:\\Users\\benza-ord\\anaconda3\\envs\\keras-gpu\\lib\\site-packages\\sklearn\\decomposition\\_pca.py:555: RuntimeWarning: divide by zero encountered in true_divide\n",
      "  self.explained_variance_ / total_var.sum()\n",
      " 12%|███████████▌                                                                                    | 12/100 [00:00<00:00, 111.41it/s]"
     ]
    },
    {
     "name": "stdout",
     "output_type": "stream",
     "text": [
      "         PC1           PC2  target\n",
      "0   0.000001 -7.091822e-17       3\n",
      "1   0.000001 -6.830926e-17       8\n",
      "2   0.000001 -6.830989e-17       8\n",
      "3   0.000001 -6.830990e-17       0\n",
      "4   0.000001 -6.830989e-17       6\n",
      "..       ...           ...     ...\n",
      "95  0.000001 -6.830989e-17       6\n",
      "96  0.000001  1.640090e-15       6\n",
      "97  0.000001  1.640090e-15       0\n",
      "98  0.000001  1.640090e-15       0\n",
      "99  0.000001  1.640090e-15       7\n",
      "\n",
      "[100 rows x 3 columns]\n",
      "(100, 32, 32, 3)\n"
     ]
    },
    {
     "name": "stderr",
     "output_type": "stream",
     "text": [
      "100%|███████████████████████████████████████████████████████████████████████████████████████████████| 100/100 [00:00<00:00, 109.87it/s]\n",
      "C:\\Users\\benza-ord\\anaconda3\\envs\\keras-gpu\\lib\\site-packages\\ipykernel_launcher.py:47: UserWarning: Update your `Model` call to the Keras 2 API: `Model(inputs=[<tf.Tenso..., outputs=Tensor(\"re...)`\n"
     ]
    },
    {
     "name": "stdout",
     "output_type": "stream",
     "text": [
      "(100, 224, 224, 3)\n",
      "22 res2b_branch2b\n",
      "preds (100, 56, 56, 64)\n",
      "(100, 200704)\n"
     ]
    },
    {
     "name": "stderr",
     "output_type": "stream",
     "text": [
      "C:\\Users\\benza-ord\\anaconda3\\envs\\keras-gpu\\lib\\site-packages\\sklearn\\decomposition\\_pca.py:555: RuntimeWarning: divide by zero encountered in true_divide\n",
      "  self.explained_variance_ / total_var.sum()\n",
      " 12%|███████████▌                                                                                    | 12/100 [00:00<00:00, 114.59it/s]"
     ]
    },
    {
     "name": "stdout",
     "output_type": "stream",
     "text": [
      "         PC1           PC2  target\n",
      "0   0.000002 -4.054041e-16       3\n",
      "1   0.000002 -4.046141e-16       8\n",
      "2   0.000002 -4.046090e-16       8\n",
      "3   0.000002 -4.046089e-16       0\n",
      "4   0.000002 -4.046090e-16       6\n",
      "..       ...           ...     ...\n",
      "95  0.000002 -4.046090e-16       6\n",
      "96  0.000002  9.710811e-15       6\n",
      "97  0.000002  9.710811e-15       0\n",
      "98  0.000002  9.710811e-15       0\n",
      "99  0.000002  9.710811e-15       7\n",
      "\n",
      "[100 rows x 3 columns]\n",
      "(100, 32, 32, 3)\n"
     ]
    },
    {
     "name": "stderr",
     "output_type": "stream",
     "text": [
      "100%|███████████████████████████████████████████████████████████████████████████████████████████████| 100/100 [00:00<00:00, 113.08it/s]\n",
      "C:\\Users\\benza-ord\\anaconda3\\envs\\keras-gpu\\lib\\site-packages\\ipykernel_launcher.py:47: UserWarning: Update your `Model` call to the Keras 2 API: `Model(inputs=[<tf.Tenso..., outputs=Tensor(\"re...)`\n"
     ]
    },
    {
     "name": "stdout",
     "output_type": "stream",
     "text": [
      "(100, 224, 224, 3)\n",
      "22 res2b_branch2b\n",
      "preds (100, 56, 56, 64)\n",
      "(100, 200704)\n"
     ]
    },
    {
     "name": "stderr",
     "output_type": "stream",
     "text": [
      "C:\\Users\\benza-ord\\anaconda3\\envs\\keras-gpu\\lib\\site-packages\\sklearn\\decomposition\\_pca.py:555: RuntimeWarning: divide by zero encountered in true_divide\n",
      "  self.explained_variance_ / total_var.sum()\n",
      " 12%|███████████▌                                                                                    | 12/100 [00:00<00:00, 113.51it/s]"
     ]
    },
    {
     "name": "stdout",
     "output_type": "stream",
     "text": [
      "         PC1           PC2  target\n",
      "0   0.000002 -1.334480e-16       3\n",
      "1   0.000002 -1.347962e-16       8\n",
      "2   0.000002 -1.347955e-16       8\n",
      "3   0.000002 -1.347955e-16       0\n",
      "4   0.000002 -1.347955e-16       6\n",
      "..       ...           ...     ...\n",
      "95  0.000002 -1.347955e-16       6\n",
      "96  0.000002  3.234755e-15       6\n",
      "97  0.000002  3.234755e-15       0\n",
      "98  0.000002  3.234755e-15       0\n",
      "99  0.000002  3.234755e-15       7\n",
      "\n",
      "[100 rows x 3 columns]\n",
      "(100, 32, 32, 3)\n"
     ]
    },
    {
     "name": "stderr",
     "output_type": "stream",
     "text": [
      "100%|███████████████████████████████████████████████████████████████████████████████████████████████| 100/100 [00:00<00:00, 109.34it/s]\n",
      "C:\\Users\\benza-ord\\anaconda3\\envs\\keras-gpu\\lib\\site-packages\\ipykernel_launcher.py:47: UserWarning: Update your `Model` call to the Keras 2 API: `Model(inputs=[<tf.Tenso..., outputs=Tensor(\"re...)`\n"
     ]
    },
    {
     "name": "stdout",
     "output_type": "stream",
     "text": [
      "(100, 224, 224, 3)\n",
      "25 res2b_branch2c\n",
      "preds (100, 56, 56, 256)\n",
      "(100, 802816)\n"
     ]
    },
    {
     "name": "stderr",
     "output_type": "stream",
     "text": [
      "C:\\Users\\benza-ord\\anaconda3\\envs\\keras-gpu\\lib\\site-packages\\sklearn\\decomposition\\_pca.py:555: RuntimeWarning: divide by zero encountered in true_divide\n",
      "  self.explained_variance_ / total_var.sum()\n",
      " 12%|███████████▌                                                                                    | 12/100 [00:00<00:00, 117.92it/s]"
     ]
    },
    {
     "name": "stdout",
     "output_type": "stream",
     "text": [
      "         PC1           PC2  target\n",
      "0   0.000004 -2.221969e-15       3\n",
      "1   0.000004 -2.223306e-15       8\n",
      "2   0.000004 -2.223298e-15       8\n",
      "3   0.000004 -2.223298e-15       0\n",
      "4   0.000004 -2.223298e-15       6\n",
      "..       ...           ...     ...\n",
      "95  0.000004 -2.223298e-15       6\n",
      "96  0.000004  5.335879e-14       6\n",
      "97  0.000004  5.335879e-14       0\n",
      "98  0.000004  5.335879e-14       0\n",
      "99  0.000004  5.335879e-14       7\n",
      "\n",
      "[100 rows x 3 columns]\n",
      "(100, 32, 32, 3)\n"
     ]
    },
    {
     "name": "stderr",
     "output_type": "stream",
     "text": [
      "100%|███████████████████████████████████████████████████████████████████████████████████████████████| 100/100 [00:00<00:00, 115.64it/s]\n",
      "C:\\Users\\benza-ord\\anaconda3\\envs\\keras-gpu\\lib\\site-packages\\ipykernel_launcher.py:47: UserWarning: Update your `Model` call to the Keras 2 API: `Model(inputs=[<tf.Tenso..., outputs=Tensor(\"re...)`\n"
     ]
    },
    {
     "name": "stdout",
     "output_type": "stream",
     "text": [
      "(100, 224, 224, 3)\n",
      "25 res2b_branch2c\n",
      "preds (100, 56, 56, 256)\n",
      "(100, 802816)\n"
     ]
    },
    {
     "name": "stderr",
     "output_type": "stream",
     "text": [
      "C:\\Users\\benza-ord\\anaconda3\\envs\\keras-gpu\\lib\\site-packages\\sklearn\\decomposition\\_pca.py:555: RuntimeWarning: divide by zero encountered in true_divide\n",
      "  self.explained_variance_ / total_var.sum()\n",
      " 11%|██████████▌                                                                                     | 11/100 [00:00<00:00, 109.20it/s]"
     ]
    },
    {
     "name": "stdout",
     "output_type": "stream",
     "text": [
      "         PC1           PC2  target\n",
      "0   0.000002 -6.604648e-16       3\n",
      "1   0.000002 -6.603668e-16       8\n",
      "2   0.000002 -6.603768e-16       8\n",
      "3   0.000002 -6.603736e-16       0\n",
      "4   0.000002 -6.603735e-16       6\n",
      "..       ...           ...     ...\n",
      "95  0.000002 -6.603735e-16       6\n",
      "96  0.000002  1.584897e-14       6\n",
      "97  0.000002  1.584897e-14       0\n",
      "98  0.000002  1.584897e-14       0\n",
      "99  0.000002  1.584897e-14       7\n",
      "\n",
      "[100 rows x 3 columns]\n",
      "(100, 32, 32, 3)\n"
     ]
    },
    {
     "name": "stderr",
     "output_type": "stream",
     "text": [
      "100%|████████████████████████████████████████████████████████████████████████████████████████████████| 100/100 [00:01<00:00, 91.72it/s]\n",
      "C:\\Users\\benza-ord\\anaconda3\\envs\\keras-gpu\\lib\\site-packages\\ipykernel_launcher.py:47: UserWarning: Update your `Model` call to the Keras 2 API: `Model(inputs=[<tf.Tenso..., outputs=Tensor(\"re...)`\n"
     ]
    },
    {
     "name": "stdout",
     "output_type": "stream",
     "text": [
      "(100, 224, 224, 3)\n",
      "25 res2b_branch2c\n",
      "preds (100, 56, 56, 256)\n",
      "(100, 802816)\n"
     ]
    },
    {
     "name": "stderr",
     "output_type": "stream",
     "text": [
      "C:\\Users\\benza-ord\\anaconda3\\envs\\keras-gpu\\lib\\site-packages\\sklearn\\decomposition\\_pca.py:555: RuntimeWarning: divide by zero encountered in true_divide\n",
      "  self.explained_variance_ / total_var.sum()\n",
      " 13%|████████████▍                                                                                   | 13/100 [00:00<00:00, 119.56it/s]"
     ]
    },
    {
     "name": "stdout",
     "output_type": "stream",
     "text": [
      "         PC1           PC2  target\n",
      "0   0.000003 -3.483923e-16       3\n",
      "1   0.000003 -3.576298e-16       8\n",
      "2   0.000003 -3.576317e-16       8\n",
      "3   0.000003 -3.576317e-16       0\n",
      "4   0.000003 -3.576317e-16       6\n",
      "..       ...           ...     ...\n",
      "95  0.000003 -3.576317e-16       6\n",
      "96  0.000003  8.580846e-15       6\n",
      "97  0.000003  8.580846e-15       0\n",
      "98  0.000003  8.580846e-15       0\n",
      "99  0.000003  8.580846e-15       7\n",
      "\n",
      "[100 rows x 3 columns]\n",
      "(100, 32, 32, 3)\n"
     ]
    },
    {
     "name": "stderr",
     "output_type": "stream",
     "text": [
      "100%|███████████████████████████████████████████████████████████████████████████████████████████████| 100/100 [00:00<00:00, 115.51it/s]\n",
      "C:\\Users\\benza-ord\\anaconda3\\envs\\keras-gpu\\lib\\site-packages\\ipykernel_launcher.py:47: UserWarning: Update your `Model` call to the Keras 2 API: `Model(inputs=[<tf.Tenso..., outputs=Tensor(\"re...)`\n"
     ]
    },
    {
     "name": "stdout",
     "output_type": "stream",
     "text": [
      "(100, 224, 224, 3)\n",
      "25 res2b_branch2c\n",
      "preds (100, 56, 56, 256)\n",
      "(100, 802816)\n"
     ]
    },
    {
     "name": "stderr",
     "output_type": "stream",
     "text": [
      "C:\\Users\\benza-ord\\anaconda3\\envs\\keras-gpu\\lib\\site-packages\\sklearn\\decomposition\\_pca.py:555: RuntimeWarning: divide by zero encountered in true_divide\n",
      "  self.explained_variance_ / total_var.sum()\n",
      " 11%|██████████▌                                                                                     | 11/100 [00:00<00:00, 106.05it/s]"
     ]
    },
    {
     "name": "stdout",
     "output_type": "stream",
     "text": [
      "         PC1           PC2  target\n",
      "0   0.000003 -1.181390e-16       3\n",
      "1   0.000003 -1.295960e-16       8\n",
      "2   0.000003 -1.295940e-16       8\n",
      "3   0.000003 -1.295940e-16       0\n",
      "4   0.000003 -1.295940e-16       6\n",
      "..       ...           ...     ...\n",
      "95  0.000003 -1.295940e-16       6\n",
      "96  0.000003  3.107391e-15       6\n",
      "97  0.000003  3.107391e-15       0\n",
      "98  0.000003  3.107391e-15       0\n",
      "99  0.000003  3.107391e-15       7\n",
      "\n",
      "[100 rows x 3 columns]\n",
      "(100, 32, 32, 3)\n"
     ]
    },
    {
     "name": "stderr",
     "output_type": "stream",
     "text": [
      "100%|███████████████████████████████████████████████████████████████████████████████████████████████| 100/100 [00:00<00:00, 113.54it/s]\n",
      "C:\\Users\\benza-ord\\anaconda3\\envs\\keras-gpu\\lib\\site-packages\\ipykernel_launcher.py:47: UserWarning: Update your `Model` call to the Keras 2 API: `Model(inputs=[<tf.Tenso..., outputs=Tensor(\"re...)`\n"
     ]
    },
    {
     "name": "stdout",
     "output_type": "stream",
     "text": [
      "(100, 224, 224, 3)\n",
      "25 res2b_branch2c\n",
      "preds (100, 56, 56, 256)\n",
      "(100, 802816)\n"
     ]
    },
    {
     "name": "stderr",
     "output_type": "stream",
     "text": [
      "C:\\Users\\benza-ord\\anaconda3\\envs\\keras-gpu\\lib\\site-packages\\sklearn\\decomposition\\_pca.py:555: RuntimeWarning: divide by zero encountered in true_divide\n",
      "  self.explained_variance_ / total_var.sum()\n",
      " 12%|███████████▌                                                                                    | 12/100 [00:00<00:00, 119.13it/s]"
     ]
    },
    {
     "name": "stdout",
     "output_type": "stream",
     "text": [
      "         PC1           PC2  target\n",
      "0   0.000002 -8.067534e-17       3\n",
      "1   0.000002 -8.032284e-17       8\n",
      "2   0.000002 -8.032222e-17       8\n",
      "3   0.000002 -8.032253e-17       0\n",
      "4   0.000002 -8.032253e-17       6\n",
      "..       ...           ...     ...\n",
      "95  0.000002 -8.032253e-17       6\n",
      "96  0.000002  1.927831e-15       6\n",
      "97  0.000002  1.927831e-15       0\n",
      "98  0.000002  1.927831e-15       0\n",
      "99  0.000002  1.927831e-15       7\n",
      "\n",
      "[100 rows x 3 columns]\n",
      "(100, 32, 32, 3)\n"
     ]
    },
    {
     "name": "stderr",
     "output_type": "stream",
     "text": [
      "100%|███████████████████████████████████████████████████████████████████████████████████████████████| 100/100 [00:00<00:00, 113.94it/s]\n",
      "C:\\Users\\benza-ord\\anaconda3\\envs\\keras-gpu\\lib\\site-packages\\ipykernel_launcher.py:47: UserWarning: Update your `Model` call to the Keras 2 API: `Model(inputs=[<tf.Tenso..., outputs=Tensor(\"re...)`\n"
     ]
    },
    {
     "name": "stdout",
     "output_type": "stream",
     "text": [
      "(100, 224, 224, 3)\n",
      "25 res2b_branch2c\n",
      "preds (100, 56, 56, 256)\n",
      "(100, 802816)\n"
     ]
    },
    {
     "name": "stderr",
     "output_type": "stream",
     "text": [
      "C:\\Users\\benza-ord\\anaconda3\\envs\\keras-gpu\\lib\\site-packages\\sklearn\\decomposition\\_pca.py:555: RuntimeWarning: divide by zero encountered in true_divide\n",
      "  self.explained_variance_ / total_var.sum()\n",
      " 12%|███████████▌                                                                                    | 12/100 [00:00<00:00, 115.69it/s]"
     ]
    },
    {
     "name": "stdout",
     "output_type": "stream",
     "text": [
      "         PC1           PC2  target\n",
      "0   0.000002 -7.927298e-17       3\n",
      "1   0.000002 -7.644861e-17       8\n",
      "2   0.000002 -7.644816e-17       8\n",
      "3   0.000002 -7.644848e-17       0\n",
      "4   0.000002 -7.644850e-17       6\n",
      "..       ...           ...     ...\n",
      "95  0.000002 -7.644850e-17       6\n",
      "96  0.000002  1.835460e-15       6\n",
      "97  0.000002  1.835460e-15       0\n",
      "98  0.000002  1.835460e-15       0\n",
      "99  0.000002  1.835460e-15       7\n",
      "\n",
      "[100 rows x 3 columns]\n",
      "(100, 32, 32, 3)\n"
     ]
    },
    {
     "name": "stderr",
     "output_type": "stream",
     "text": [
      "100%|███████████████████████████████████████████████████████████████████████████████████████████████| 100/100 [00:00<00:00, 116.00it/s]\n",
      "C:\\Users\\benza-ord\\anaconda3\\envs\\keras-gpu\\lib\\site-packages\\ipykernel_launcher.py:47: UserWarning: Update your `Model` call to the Keras 2 API: `Model(inputs=[<tf.Tenso..., outputs=Tensor(\"re...)`\n"
     ]
    },
    {
     "name": "stdout",
     "output_type": "stream",
     "text": [
      "(100, 224, 224, 3)\n",
      "25 res2b_branch2c\n",
      "preds (100, 56, 56, 256)\n",
      "(100, 802816)\n"
     ]
    },
    {
     "name": "stderr",
     "output_type": "stream",
     "text": [
      "C:\\Users\\benza-ord\\anaconda3\\envs\\keras-gpu\\lib\\site-packages\\sklearn\\decomposition\\_pca.py:555: RuntimeWarning: divide by zero encountered in true_divide\n",
      "  self.explained_variance_ / total_var.sum()\n",
      " 12%|███████████▌                                                                                    | 12/100 [00:00<00:00, 119.09it/s]"
     ]
    },
    {
     "name": "stdout",
     "output_type": "stream",
     "text": [
      "         PC1           PC2  target\n",
      "0   0.000002 -3.825966e-16       3\n",
      "1   0.000002 -3.807617e-16       8\n",
      "2   0.000002 -3.807614e-16       8\n",
      "3   0.000002 -3.807600e-16       0\n",
      "4   0.000002 -3.807600e-16       6\n",
      "..       ...           ...     ...\n",
      "95  0.000002 -3.807600e-16       6\n",
      "96  0.000002  9.138688e-15       6\n",
      "97  0.000002  9.138688e-15       0\n",
      "98  0.000002  9.138688e-15       0\n",
      "99  0.000002  9.138688e-15       7\n",
      "\n",
      "[100 rows x 3 columns]\n",
      "(100, 32, 32, 3)\n"
     ]
    },
    {
     "name": "stderr",
     "output_type": "stream",
     "text": [
      "100%|███████████████████████████████████████████████████████████████████████████████████████████████| 100/100 [00:00<00:00, 114.03it/s]\n",
      "C:\\Users\\benza-ord\\anaconda3\\envs\\keras-gpu\\lib\\site-packages\\ipykernel_launcher.py:47: UserWarning: Update your `Model` call to the Keras 2 API: `Model(inputs=[<tf.Tenso..., outputs=Tensor(\"re...)`\n"
     ]
    },
    {
     "name": "stdout",
     "output_type": "stream",
     "text": [
      "(100, 224, 224, 3)\n",
      "25 res2b_branch2c\n",
      "preds (100, 56, 56, 256)\n",
      "(100, 802816)\n"
     ]
    },
    {
     "name": "stderr",
     "output_type": "stream",
     "text": [
      "C:\\Users\\benza-ord\\anaconda3\\envs\\keras-gpu\\lib\\site-packages\\sklearn\\decomposition\\_pca.py:555: RuntimeWarning: divide by zero encountered in true_divide\n",
      "  self.explained_variance_ / total_var.sum()\n",
      " 12%|███████████▌                                                                                    | 12/100 [00:00<00:00, 117.96it/s]"
     ]
    },
    {
     "name": "stdout",
     "output_type": "stream",
     "text": [
      "         PC1           PC2  target\n",
      "0   0.000002 -2.477595e-16       3\n",
      "1   0.000002 -2.413047e-16       8\n",
      "2   0.000002 -2.413026e-16       8\n",
      "3   0.000002 -2.413029e-16       0\n",
      "4   0.000002 -2.413029e-16       6\n",
      "..       ...           ...     ...\n",
      "95  0.000002 -2.413029e-16       6\n",
      "96  0.000002  5.792876e-15       6\n",
      "97  0.000002  5.792876e-15       0\n",
      "98  0.000002  5.792876e-15       0\n",
      "99  0.000002  5.792876e-15       7\n",
      "\n",
      "[100 rows x 3 columns]\n",
      "(100, 32, 32, 3)\n"
     ]
    },
    {
     "name": "stderr",
     "output_type": "stream",
     "text": [
      "100%|███████████████████████████████████████████████████████████████████████████████████████████████| 100/100 [00:00<00:00, 115.52it/s]\n",
      "C:\\Users\\benza-ord\\anaconda3\\envs\\keras-gpu\\lib\\site-packages\\ipykernel_launcher.py:47: UserWarning: Update your `Model` call to the Keras 2 API: `Model(inputs=[<tf.Tenso..., outputs=Tensor(\"re...)`\n"
     ]
    },
    {
     "name": "stdout",
     "output_type": "stream",
     "text": [
      "(100, 224, 224, 3)\n",
      "25 res2b_branch2c\n",
      "preds (100, 56, 56, 256)\n",
      "(100, 802816)\n"
     ]
    },
    {
     "name": "stderr",
     "output_type": "stream",
     "text": [
      "C:\\Users\\benza-ord\\anaconda3\\envs\\keras-gpu\\lib\\site-packages\\sklearn\\decomposition\\_pca.py:555: RuntimeWarning: divide by zero encountered in true_divide\n",
      "  self.explained_variance_ / total_var.sum()\n",
      " 12%|███████████▌                                                                                    | 12/100 [00:00<00:00, 117.93it/s]"
     ]
    },
    {
     "name": "stdout",
     "output_type": "stream",
     "text": [
      "         PC1           PC2  target\n",
      "0   0.000004 -5.193482e-16       3\n",
      "1   0.000004 -1.347351e-16       8\n",
      "2   0.000004 -1.347347e-16       8\n",
      "3   0.000004 -1.347344e-16       0\n",
      "4   0.000004 -1.347344e-16       6\n",
      "..       ...           ...     ...\n",
      "95  0.000004 -1.347344e-16       6\n",
      "96  0.000004  3.329771e-15       6\n",
      "97  0.000004  3.329771e-15       0\n",
      "98  0.000004  3.329771e-15       0\n",
      "99  0.000004  3.329771e-15       7\n",
      "\n",
      "[100 rows x 3 columns]\n",
      "(100, 32, 32, 3)\n"
     ]
    },
    {
     "name": "stderr",
     "output_type": "stream",
     "text": [
      "100%|███████████████████████████████████████████████████████████████████████████████████████████████| 100/100 [00:00<00:00, 115.84it/s]\n",
      "C:\\Users\\benza-ord\\anaconda3\\envs\\keras-gpu\\lib\\site-packages\\ipykernel_launcher.py:47: UserWarning: Update your `Model` call to the Keras 2 API: `Model(inputs=[<tf.Tenso..., outputs=Tensor(\"re...)`\n"
     ]
    },
    {
     "name": "stdout",
     "output_type": "stream",
     "text": [
      "(100, 224, 224, 3)\n",
      "25 res2b_branch2c\n",
      "preds (100, 56, 56, 256)\n",
      "(100, 802816)\n"
     ]
    },
    {
     "name": "stderr",
     "output_type": "stream",
     "text": [
      "C:\\Users\\benza-ord\\anaconda3\\envs\\keras-gpu\\lib\\site-packages\\sklearn\\decomposition\\_pca.py:555: RuntimeWarning: divide by zero encountered in true_divide\n",
      "  self.explained_variance_ / total_var.sum()\n",
      " 12%|███████████▌                                                                                    | 12/100 [00:00<00:00, 117.96it/s]"
     ]
    },
    {
     "name": "stdout",
     "output_type": "stream",
     "text": [
      "         PC1           PC2  target\n",
      "0   0.000003 -2.375179e-16       3\n",
      "1   0.000003 -2.416454e-16       8\n",
      "2   0.000003 -2.416480e-16       8\n",
      "3   0.000003 -2.416477e-16       0\n",
      "4   0.000003 -2.416477e-16       6\n",
      "..       ...           ...     ...\n",
      "95  0.000003 -2.416477e-16       6\n",
      "96  0.000003  5.798515e-15       6\n",
      "97  0.000003  5.798515e-15       0\n",
      "98  0.000003  5.798515e-15       0\n",
      "99  0.000003  5.798515e-15       7\n",
      "\n",
      "[100 rows x 3 columns]\n",
      "(100, 32, 32, 3)\n"
     ]
    },
    {
     "name": "stderr",
     "output_type": "stream",
     "text": [
      "100%|███████████████████████████████████████████████████████████████████████████████████████████████| 100/100 [00:00<00:00, 115.99it/s]\n",
      "C:\\Users\\benza-ord\\anaconda3\\envs\\keras-gpu\\lib\\site-packages\\ipykernel_launcher.py:47: UserWarning: Update your `Model` call to the Keras 2 API: `Model(inputs=[<tf.Tenso..., outputs=Tensor(\"re...)`\n"
     ]
    },
    {
     "name": "stdout",
     "output_type": "stream",
     "text": [
      "(100, 224, 224, 3)\n",
      "29 res2c_branch2a\n",
      "preds (100, 56, 56, 64)\n",
      "(100, 200704)\n"
     ]
    },
    {
     "name": "stderr",
     "output_type": "stream",
     "text": [
      "C:\\Users\\benza-ord\\anaconda3\\envs\\keras-gpu\\lib\\site-packages\\sklearn\\decomposition\\_pca.py:555: RuntimeWarning: divide by zero encountered in true_divide\n",
      "  self.explained_variance_ / total_var.sum()\n",
      " 12%|███████████▌                                                                                    | 12/100 [00:00<00:00, 119.13it/s]"
     ]
    },
    {
     "name": "stdout",
     "output_type": "stream",
     "text": [
      "         PC1           PC2  target\n",
      "0   0.000002 -5.678459e-17       3\n",
      "1   0.000002 -5.547084e-17       8\n",
      "2   0.000002 -5.547118e-17       8\n",
      "3   0.000002 -5.547116e-17       0\n",
      "4   0.000002 -5.547116e-17       6\n",
      "..       ...           ...     ...\n",
      "95  0.000002 -5.547116e-17       6\n",
      "96  0.000002  1.331636e-15       6\n",
      "97  0.000002  1.331636e-15       0\n",
      "98  0.000002  1.331636e-15       0\n",
      "99  0.000002  1.331636e-15       7\n",
      "\n",
      "[100 rows x 3 columns]\n",
      "(100, 32, 32, 3)\n"
     ]
    },
    {
     "name": "stderr",
     "output_type": "stream",
     "text": [
      "100%|███████████████████████████████████████████████████████████████████████████████████████████████| 100/100 [00:00<00:00, 116.01it/s]\n",
      "C:\\Users\\benza-ord\\anaconda3\\envs\\keras-gpu\\lib\\site-packages\\ipykernel_launcher.py:47: UserWarning: Update your `Model` call to the Keras 2 API: `Model(inputs=[<tf.Tenso..., outputs=Tensor(\"re...)`\n"
     ]
    },
    {
     "name": "stdout",
     "output_type": "stream",
     "text": [
      "(100, 224, 224, 3)\n",
      "29 res2c_branch2a\n",
      "preds (100, 56, 56, 64)\n",
      "(100, 200704)\n"
     ]
    },
    {
     "name": "stderr",
     "output_type": "stream",
     "text": [
      "C:\\Users\\benza-ord\\anaconda3\\envs\\keras-gpu\\lib\\site-packages\\sklearn\\decomposition\\_pca.py:555: RuntimeWarning: divide by zero encountered in true_divide\n",
      "  self.explained_variance_ / total_var.sum()\n",
      " 12%|███████████▌                                                                                    | 12/100 [00:00<00:00, 119.72it/s]"
     ]
    },
    {
     "name": "stdout",
     "output_type": "stream",
     "text": [
      "         PC1           PC2  target\n",
      "0   0.000001 -7.657889e-17       3\n",
      "1   0.000001 -7.481168e-17       8\n",
      "2   0.000001 -7.481035e-17       8\n",
      "3   0.000001 -7.481037e-17       0\n",
      "4   0.000001 -7.481037e-17       6\n",
      "..       ...           ...     ...\n",
      "95  0.000001 -7.481037e-17       6\n",
      "96  0.000001  1.795892e-15       6\n",
      "97  0.000001  1.795892e-15       0\n",
      "98  0.000001  1.795892e-15       0\n",
      "99  0.000001  1.795892e-15       7\n",
      "\n",
      "[100 rows x 3 columns]\n",
      "(100, 32, 32, 3)\n"
     ]
    },
    {
     "name": "stderr",
     "output_type": "stream",
     "text": [
      "100%|███████████████████████████████████████████████████████████████████████████████████████████████| 100/100 [00:00<00:00, 115.58it/s]\n",
      "C:\\Users\\benza-ord\\anaconda3\\envs\\keras-gpu\\lib\\site-packages\\ipykernel_launcher.py:47: UserWarning: Update your `Model` call to the Keras 2 API: `Model(inputs=[<tf.Tenso..., outputs=Tensor(\"re...)`\n"
     ]
    },
    {
     "name": "stdout",
     "output_type": "stream",
     "text": [
      "(100, 224, 224, 3)\n",
      "29 res2c_branch2a\n",
      "preds (100, 56, 56, 64)\n",
      "(100, 200704)\n"
     ]
    },
    {
     "name": "stderr",
     "output_type": "stream",
     "text": [
      "C:\\Users\\benza-ord\\anaconda3\\envs\\keras-gpu\\lib\\site-packages\\sklearn\\decomposition\\_pca.py:555: RuntimeWarning: divide by zero encountered in true_divide\n",
      "  self.explained_variance_ / total_var.sum()\n",
      " 12%|███████████▌                                                                                    | 12/100 [00:00<00:00, 117.96it/s]"
     ]
    },
    {
     "name": "stdout",
     "output_type": "stream",
     "text": [
      "         PC1           PC2  target\n",
      "0   0.000002 -6.672638e-17       3\n",
      "1   0.000002 -6.696598e-17       8\n",
      "2   0.000002 -6.696647e-17       8\n",
      "3   0.000002 -6.696646e-17       0\n",
      "4   0.000002 -6.696646e-17       6\n",
      "..       ...           ...     ...\n",
      "95  0.000002 -6.696646e-17       6\n",
      "96  0.000002  1.607134e-15       6\n",
      "97  0.000002  1.607134e-15       0\n",
      "98  0.000002  1.607134e-15       0\n",
      "99  0.000002  1.607134e-15       7\n",
      "\n",
      "[100 rows x 3 columns]\n",
      "(100, 32, 32, 3)\n"
     ]
    },
    {
     "name": "stderr",
     "output_type": "stream",
     "text": [
      "100%|███████████████████████████████████████████████████████████████████████████████████████████████| 100/100 [00:00<00:00, 115.78it/s]\n",
      "C:\\Users\\benza-ord\\anaconda3\\envs\\keras-gpu\\lib\\site-packages\\ipykernel_launcher.py:47: UserWarning: Update your `Model` call to the Keras 2 API: `Model(inputs=[<tf.Tenso..., outputs=Tensor(\"re...)`\n"
     ]
    },
    {
     "name": "stdout",
     "output_type": "stream",
     "text": [
      "(100, 224, 224, 3)\n",
      "29 res2c_branch2a\n",
      "preds (100, 56, 56, 64)\n",
      "(100, 200704)\n"
     ]
    },
    {
     "name": "stderr",
     "output_type": "stream",
     "text": [
      "C:\\Users\\benza-ord\\anaconda3\\envs\\keras-gpu\\lib\\site-packages\\sklearn\\decomposition\\_pca.py:555: RuntimeWarning: divide by zero encountered in true_divide\n",
      "  self.explained_variance_ / total_var.sum()\n",
      " 13%|████████████▍                                                                                   | 13/100 [00:00<00:00, 119.58it/s]"
     ]
    },
    {
     "name": "stdout",
     "output_type": "stream",
     "text": [
      "         PC1           PC2  target\n",
      "0   0.000002 -5.381944e-17       3\n",
      "1   0.000002 -5.404102e-17       8\n",
      "2   0.000002 -5.404037e-17       8\n",
      "3   0.000002 -5.404037e-17       0\n",
      "4   0.000002 -5.404037e-17       6\n",
      "..       ...           ...     ...\n",
      "95  0.000002 -5.404037e-17       6\n",
      "96  0.000002  1.296915e-15       6\n",
      "97  0.000002  1.296915e-15       0\n",
      "98  0.000002  1.296915e-15       0\n",
      "99  0.000002  1.296915e-15       7\n",
      "\n",
      "[100 rows x 3 columns]\n",
      "(100, 32, 32, 3)\n"
     ]
    },
    {
     "name": "stderr",
     "output_type": "stream",
     "text": [
      "100%|███████████████████████████████████████████████████████████████████████████████████████████████| 100/100 [00:00<00:00, 115.32it/s]\n",
      "C:\\Users\\benza-ord\\anaconda3\\envs\\keras-gpu\\lib\\site-packages\\ipykernel_launcher.py:47: UserWarning: Update your `Model` call to the Keras 2 API: `Model(inputs=[<tf.Tenso..., outputs=Tensor(\"re...)`\n"
     ]
    },
    {
     "name": "stdout",
     "output_type": "stream",
     "text": [
      "(100, 224, 224, 3)\n",
      "29 res2c_branch2a\n",
      "preds (100, 56, 56, 64)\n",
      "(100, 200704)\n"
     ]
    },
    {
     "name": "stderr",
     "output_type": "stream",
     "text": [
      "C:\\Users\\benza-ord\\anaconda3\\envs\\keras-gpu\\lib\\site-packages\\sklearn\\decomposition\\_pca.py:555: RuntimeWarning: divide by zero encountered in true_divide\n",
      "  self.explained_variance_ / total_var.sum()\n",
      " 13%|████████████▍                                                                                   | 13/100 [00:00<00:00, 120.69it/s]"
     ]
    },
    {
     "name": "stdout",
     "output_type": "stream",
     "text": [
      "         PC1           PC2  target\n",
      "0   0.000001 -1.169417e-16       3\n",
      "1   0.000001 -1.183903e-16       8\n",
      "2   0.000001 -1.183916e-16       8\n",
      "3   0.000001 -1.183916e-16       0\n",
      "4   0.000001 -1.183916e-16       6\n",
      "..       ...           ...     ...\n",
      "95  0.000001 -1.183916e-16       6\n",
      "96  0.000001  2.841038e-15       6\n",
      "97  0.000001  2.841038e-15       0\n",
      "98  0.000001  2.841038e-15       0\n",
      "99  0.000001  2.841038e-15       7\n",
      "\n",
      "[100 rows x 3 columns]\n",
      "(100, 32, 32, 3)\n"
     ]
    },
    {
     "name": "stderr",
     "output_type": "stream",
     "text": [
      "100%|███████████████████████████████████████████████████████████████████████████████████████████████| 100/100 [00:00<00:00, 116.18it/s]\n",
      "C:\\Users\\benza-ord\\anaconda3\\envs\\keras-gpu\\lib\\site-packages\\ipykernel_launcher.py:47: UserWarning: Update your `Model` call to the Keras 2 API: `Model(inputs=[<tf.Tenso..., outputs=Tensor(\"re...)`\n"
     ]
    },
    {
     "name": "stdout",
     "output_type": "stream",
     "text": [
      "(100, 224, 224, 3)\n",
      "29 res2c_branch2a\n",
      "preds (100, 56, 56, 64)\n",
      "(100, 200704)\n"
     ]
    },
    {
     "name": "stderr",
     "output_type": "stream",
     "text": [
      "C:\\Users\\benza-ord\\anaconda3\\envs\\keras-gpu\\lib\\site-packages\\sklearn\\decomposition\\_pca.py:555: RuntimeWarning: divide by zero encountered in true_divide\n",
      "  self.explained_variance_ / total_var.sum()\n",
      " 13%|████████████▍                                                                                   | 13/100 [00:00<00:00, 119.56it/s]"
     ]
    },
    {
     "name": "stdout",
     "output_type": "stream",
     "text": [
      "         PC1           PC2  target\n",
      "0   0.000001 -2.421987e-17       3\n",
      "1   0.000001 -3.355692e-17       8\n",
      "2   0.000001 -3.355697e-17       8\n",
      "3   0.000001 -3.355697e-17       0\n",
      "4   0.000001 -3.355697e-17       6\n",
      "..       ...           ...     ...\n",
      "95  0.000001 -3.355697e-17       6\n",
      "96  0.000001  8.030330e-16       6\n",
      "97  0.000001  8.030330e-16       0\n",
      "98  0.000001  8.030330e-16       0\n",
      "99  0.000001  8.030330e-16       7\n",
      "\n",
      "[100 rows x 3 columns]\n",
      "(100, 32, 32, 3)\n"
     ]
    },
    {
     "name": "stderr",
     "output_type": "stream",
     "text": [
      "100%|███████████████████████████████████████████████████████████████████████████████████████████████| 100/100 [00:00<00:00, 116.45it/s]\n",
      "C:\\Users\\benza-ord\\anaconda3\\envs\\keras-gpu\\lib\\site-packages\\ipykernel_launcher.py:47: UserWarning: Update your `Model` call to the Keras 2 API: `Model(inputs=[<tf.Tenso..., outputs=Tensor(\"re...)`\n"
     ]
    },
    {
     "name": "stdout",
     "output_type": "stream",
     "text": [
      "(100, 224, 224, 3)\n",
      "29 res2c_branch2a\n",
      "preds (100, 56, 56, 64)\n",
      "(100, 200704)\n"
     ]
    },
    {
     "name": "stderr",
     "output_type": "stream",
     "text": [
      "C:\\Users\\benza-ord\\anaconda3\\envs\\keras-gpu\\lib\\site-packages\\sklearn\\decomposition\\_pca.py:555: RuntimeWarning: divide by zero encountered in true_divide\n",
      "  self.explained_variance_ / total_var.sum()\n",
      " 13%|████████████▍                                                                                   | 13/100 [00:00<00:00, 120.69it/s]"
     ]
    },
    {
     "name": "stdout",
     "output_type": "stream",
     "text": [
      "         PC1           PC2  target\n",
      "0   0.000002 -1.528392e-16       3\n",
      "1   0.000002 -1.528424e-16       8\n",
      "2   0.000002 -1.528437e-16       8\n",
      "3   0.000002 -1.528435e-16       0\n",
      "4   0.000002 -1.528435e-16       6\n",
      "..       ...           ...     ...\n",
      "95  0.000002 -1.528435e-16       6\n",
      "96  0.000002  3.668244e-15       6\n",
      "97  0.000002  3.668244e-15       0\n",
      "98  0.000002  3.668244e-15       0\n",
      "99  0.000002  3.668244e-15       7\n",
      "\n",
      "[100 rows x 3 columns]\n",
      "(100, 32, 32, 3)\n"
     ]
    },
    {
     "name": "stderr",
     "output_type": "stream",
     "text": [
      "100%|███████████████████████████████████████████████████████████████████████████████████████████████| 100/100 [00:00<00:00, 116.18it/s]\n",
      "C:\\Users\\benza-ord\\anaconda3\\envs\\keras-gpu\\lib\\site-packages\\ipykernel_launcher.py:47: UserWarning: Update your `Model` call to the Keras 2 API: `Model(inputs=[<tf.Tenso..., outputs=Tensor(\"re...)`\n"
     ]
    },
    {
     "name": "stdout",
     "output_type": "stream",
     "text": [
      "(100, 224, 224, 3)\n",
      "29 res2c_branch2a\n",
      "preds (100, 56, 56, 64)\n",
      "(100, 200704)\n"
     ]
    },
    {
     "name": "stderr",
     "output_type": "stream",
     "text": [
      "C:\\Users\\benza-ord\\anaconda3\\envs\\keras-gpu\\lib\\site-packages\\sklearn\\decomposition\\_pca.py:555: RuntimeWarning: divide by zero encountered in true_divide\n",
      "  self.explained_variance_ / total_var.sum()\n",
      " 13%|████████████▍                                                                                   | 13/100 [00:00<00:00, 120.69it/s]"
     ]
    },
    {
     "name": "stdout",
     "output_type": "stream",
     "text": [
      "         PC1           PC2  target\n",
      "0   0.000002 -5.165515e-17       3\n",
      "1   0.000002 -5.224300e-17       8\n",
      "2   0.000002 -5.224345e-17       8\n",
      "3   0.000002 -5.224364e-17       0\n",
      "4   0.000002 -5.224363e-17       6\n",
      "..       ...           ...     ...\n",
      "95  0.000002 -5.224363e-17       6\n",
      "96  0.000002  1.253698e-15       6\n",
      "97  0.000002  1.253698e-15       0\n",
      "98  0.000002  1.253698e-15       0\n",
      "99  0.000002  1.253698e-15       7\n",
      "\n",
      "[100 rows x 3 columns]\n",
      "(100, 32, 32, 3)\n"
     ]
    },
    {
     "name": "stderr",
     "output_type": "stream",
     "text": [
      "100%|███████████████████████████████████████████████████████████████████████████████████████████████| 100/100 [00:00<00:00, 116.19it/s]\n",
      "C:\\Users\\benza-ord\\anaconda3\\envs\\keras-gpu\\lib\\site-packages\\ipykernel_launcher.py:47: UserWarning: Update your `Model` call to the Keras 2 API: `Model(inputs=[<tf.Tenso..., outputs=Tensor(\"re...)`\n"
     ]
    },
    {
     "name": "stdout",
     "output_type": "stream",
     "text": [
      "(100, 224, 224, 3)\n",
      "29 res2c_branch2a\n",
      "preds (100, 56, 56, 64)\n",
      "(100, 200704)\n"
     ]
    },
    {
     "name": "stderr",
     "output_type": "stream",
     "text": [
      "C:\\Users\\benza-ord\\anaconda3\\envs\\keras-gpu\\lib\\site-packages\\sklearn\\decomposition\\_pca.py:555: RuntimeWarning: divide by zero encountered in true_divide\n",
      "  self.explained_variance_ / total_var.sum()\n",
      " 13%|████████████▍                                                                                   | 13/100 [00:00<00:00, 120.69it/s]"
     ]
    },
    {
     "name": "stdout",
     "output_type": "stream",
     "text": [
      "         PC1           PC2  target\n",
      "0   0.000002 -4.004980e-16       3\n",
      "1   0.000002 -3.950556e-16       8\n",
      "2   0.000002 -3.950501e-16       8\n",
      "3   0.000002 -3.950501e-16       0\n",
      "4   0.000002 -3.950501e-16       6\n",
      "..       ...           ...     ...\n",
      "95  0.000002 -3.950501e-16       6\n",
      "96  0.000002  9.482566e-15       6\n",
      "97  0.000002  9.482566e-15       0\n",
      "98  0.000002  9.482566e-15       0\n",
      "99  0.000002  9.482566e-15       7\n",
      "\n",
      "[100 rows x 3 columns]\n",
      "(100, 32, 32, 3)\n"
     ]
    },
    {
     "name": "stderr",
     "output_type": "stream",
     "text": [
      "100%|███████████████████████████████████████████████████████████████████████████████████████████████| 100/100 [00:00<00:00, 116.79it/s]\n",
      "C:\\Users\\benza-ord\\anaconda3\\envs\\keras-gpu\\lib\\site-packages\\ipykernel_launcher.py:47: UserWarning: Update your `Model` call to the Keras 2 API: `Model(inputs=[<tf.Tenso..., outputs=Tensor(\"re...)`\n"
     ]
    },
    {
     "name": "stdout",
     "output_type": "stream",
     "text": [
      "(100, 224, 224, 3)\n",
      "29 res2c_branch2a\n",
      "preds (100, 56, 56, 64)\n",
      "(100, 200704)\n"
     ]
    },
    {
     "name": "stderr",
     "output_type": "stream",
     "text": [
      "C:\\Users\\benza-ord\\anaconda3\\envs\\keras-gpu\\lib\\site-packages\\sklearn\\decomposition\\_pca.py:555: RuntimeWarning: divide by zero encountered in true_divide\n",
      "  self.explained_variance_ / total_var.sum()\n",
      " 13%|████████████▍                                                                                   | 13/100 [00:00<00:00, 120.69it/s]"
     ]
    },
    {
     "name": "stdout",
     "output_type": "stream",
     "text": [
      "         PC1           PC2  target\n",
      "0   0.000002 -6.376999e-16       3\n",
      "1   0.000002 -6.358249e-16       8\n",
      "2   0.000002 -6.358307e-16       8\n",
      "3   0.000002 -6.358306e-16       0\n",
      "4   0.000002 -6.358306e-16       6\n",
      "..       ...           ...     ...\n",
      "95  0.000002 -6.358306e-16       6\n",
      "96  0.000002  1.526040e-14       6\n",
      "97  0.000002  1.526040e-14       0\n",
      "98  0.000002  1.526040e-14       0\n",
      "99  0.000002  1.526040e-14       7\n",
      "\n",
      "[100 rows x 3 columns]\n",
      "(100, 32, 32, 3)\n"
     ]
    },
    {
     "name": "stderr",
     "output_type": "stream",
     "text": [
      "100%|███████████████████████████████████████████████████████████████████████████████████████████████| 100/100 [00:00<00:00, 111.91it/s]\n",
      "C:\\Users\\benza-ord\\anaconda3\\envs\\keras-gpu\\lib\\site-packages\\ipykernel_launcher.py:47: UserWarning: Update your `Model` call to the Keras 2 API: `Model(inputs=[<tf.Tenso..., outputs=Tensor(\"re...)`\n"
     ]
    },
    {
     "name": "stdout",
     "output_type": "stream",
     "text": [
      "(100, 224, 224, 3)\n",
      "32 res2c_branch2b\n",
      "preds (100, 56, 56, 64)\n",
      "(100, 200704)\n"
     ]
    },
    {
     "name": "stderr",
     "output_type": "stream",
     "text": [
      "C:\\Users\\benza-ord\\anaconda3\\envs\\keras-gpu\\lib\\site-packages\\sklearn\\decomposition\\_pca.py:555: RuntimeWarning: divide by zero encountered in true_divide\n",
      "  self.explained_variance_ / total_var.sum()\n",
      " 13%|████████████▍                                                                                   | 13/100 [00:00<00:00, 119.59it/s]"
     ]
    },
    {
     "name": "stdout",
     "output_type": "stream",
     "text": [
      "         PC1           PC2  target\n",
      "0   0.000003 -3.525172e-15       3\n",
      "1   0.000003 -3.524350e-15       8\n",
      "2   0.000003 -3.524338e-15       8\n",
      "3   0.000003 -3.524338e-15       0\n",
      "4   0.000003 -3.524339e-15       6\n",
      "..       ...           ...     ...\n",
      "95  0.000003 -3.524339e-15       6\n",
      "96  0.000003  8.458427e-14       6\n",
      "97  0.000003  8.458427e-14       0\n",
      "98  0.000003  8.458427e-14       0\n",
      "99  0.000003  8.458427e-14       7\n",
      "\n",
      "[100 rows x 3 columns]\n",
      "(100, 32, 32, 3)\n"
     ]
    },
    {
     "name": "stderr",
     "output_type": "stream",
     "text": [
      "100%|███████████████████████████████████████████████████████████████████████████████████████████████| 100/100 [00:00<00:00, 115.84it/s]\n",
      "C:\\Users\\benza-ord\\anaconda3\\envs\\keras-gpu\\lib\\site-packages\\ipykernel_launcher.py:47: UserWarning: Update your `Model` call to the Keras 2 API: `Model(inputs=[<tf.Tenso..., outputs=Tensor(\"re...)`\n"
     ]
    },
    {
     "name": "stdout",
     "output_type": "stream",
     "text": [
      "(100, 224, 224, 3)\n",
      "32 res2c_branch2b\n",
      "preds (100, 56, 56, 64)\n",
      "(100, 200704)\n"
     ]
    },
    {
     "name": "stderr",
     "output_type": "stream",
     "text": [
      "C:\\Users\\benza-ord\\anaconda3\\envs\\keras-gpu\\lib\\site-packages\\sklearn\\decomposition\\_pca.py:555: RuntimeWarning: divide by zero encountered in true_divide\n",
      "  self.explained_variance_ / total_var.sum()\n",
      " 12%|███████████▌                                                                                    | 12/100 [00:00<00:00, 117.96it/s]"
     ]
    },
    {
     "name": "stdout",
     "output_type": "stream",
     "text": [
      "         PC1           PC2  target\n",
      "0   0.000002 -7.504725e-17       3\n",
      "1   0.000002 -8.032605e-17       8\n",
      "2   0.000002 -8.032544e-17       8\n",
      "3   0.000002 -8.032544e-17       0\n",
      "4   0.000002 -8.032544e-17       6\n",
      "..       ...           ...     ...\n",
      "95  0.000002 -8.032544e-17       6\n",
      "96  0.000002  1.926493e-15       6\n",
      "97  0.000002  1.926493e-15       0\n",
      "98  0.000002  1.926493e-15       0\n",
      "99  0.000002  1.926493e-15       7\n",
      "\n",
      "[100 rows x 3 columns]\n",
      "(100, 32, 32, 3)\n"
     ]
    },
    {
     "name": "stderr",
     "output_type": "stream",
     "text": [
      "100%|███████████████████████████████████████████████████████████████████████████████████████████████| 100/100 [00:00<00:00, 115.25it/s]\n",
      "C:\\Users\\benza-ord\\anaconda3\\envs\\keras-gpu\\lib\\site-packages\\ipykernel_launcher.py:47: UserWarning: Update your `Model` call to the Keras 2 API: `Model(inputs=[<tf.Tenso..., outputs=Tensor(\"re...)`\n"
     ]
    },
    {
     "name": "stdout",
     "output_type": "stream",
     "text": [
      "(100, 224, 224, 3)\n",
      "32 res2c_branch2b\n",
      "preds (100, 56, 56, 64)\n",
      "(100, 200704)\n"
     ]
    },
    {
     "name": "stderr",
     "output_type": "stream",
     "text": [
      "C:\\Users\\benza-ord\\anaconda3\\envs\\keras-gpu\\lib\\site-packages\\sklearn\\decomposition\\_pca.py:555: RuntimeWarning: divide by zero encountered in true_divide\n",
      "  self.explained_variance_ / total_var.sum()\n",
      " 12%|███████████▌                                                                                    | 12/100 [00:00<00:00, 117.96it/s]"
     ]
    },
    {
     "name": "stdout",
     "output_type": "stream",
     "text": [
      "         PC1           PC2  target\n",
      "0   0.000002 -1.443123e-16       3\n",
      "1   0.000002 -1.441156e-16       8\n",
      "2   0.000002 -1.441173e-16       8\n",
      "3   0.000002 -1.441172e-16       0\n",
      "4   0.000002 -1.441172e-16       6\n",
      "..       ...           ...     ...\n",
      "95  0.000002 -1.441172e-16       6\n",
      "96  0.000002  3.458860e-15       6\n",
      "97  0.000002  3.458860e-15       0\n",
      "98  0.000002  3.458860e-15       0\n",
      "99  0.000002  3.458860e-15       7\n",
      "\n",
      "[100 rows x 3 columns]\n",
      "(100, 32, 32, 3)\n"
     ]
    },
    {
     "name": "stderr",
     "output_type": "stream",
     "text": [
      "100%|███████████████████████████████████████████████████████████████████████████████████████████████| 100/100 [00:00<00:00, 115.92it/s]\n",
      "C:\\Users\\benza-ord\\anaconda3\\envs\\keras-gpu\\lib\\site-packages\\ipykernel_launcher.py:47: UserWarning: Update your `Model` call to the Keras 2 API: `Model(inputs=[<tf.Tenso..., outputs=Tensor(\"re...)`\n"
     ]
    },
    {
     "name": "stdout",
     "output_type": "stream",
     "text": [
      "(100, 224, 224, 3)\n",
      "32 res2c_branch2b\n",
      "preds (100, 56, 56, 64)\n",
      "(100, 200704)\n"
     ]
    },
    {
     "name": "stderr",
     "output_type": "stream",
     "text": [
      "C:\\Users\\benza-ord\\anaconda3\\envs\\keras-gpu\\lib\\site-packages\\sklearn\\decomposition\\_pca.py:555: RuntimeWarning: divide by zero encountered in true_divide\n",
      "  self.explained_variance_ / total_var.sum()\n",
      " 13%|████████████▍                                                                                   | 13/100 [00:00<00:00, 120.69it/s]"
     ]
    },
    {
     "name": "stdout",
     "output_type": "stream",
     "text": [
      "         PC1           PC2  target\n",
      "0   0.000002 -5.383351e-16       3\n",
      "1   0.000002 -5.380774e-16       8\n",
      "2   0.000002 -5.380802e-16       8\n",
      "3   0.000002 -5.380801e-16       0\n",
      "4   0.000002 -5.380802e-16       6\n",
      "..       ...           ...     ...\n",
      "95  0.000002 -5.380802e-16       6\n",
      "96  0.000002  1.291399e-14       6\n",
      "97  0.000002  1.291399e-14       0\n",
      "98  0.000002  1.291399e-14       0\n",
      "99  0.000002  1.291399e-14       7\n",
      "\n",
      "[100 rows x 3 columns]\n",
      "(100, 32, 32, 3)\n"
     ]
    },
    {
     "name": "stderr",
     "output_type": "stream",
     "text": [
      "100%|███████████████████████████████████████████████████████████████████████████████████████████████| 100/100 [00:00<00:00, 116.44it/s]\n",
      "C:\\Users\\benza-ord\\anaconda3\\envs\\keras-gpu\\lib\\site-packages\\ipykernel_launcher.py:47: UserWarning: Update your `Model` call to the Keras 2 API: `Model(inputs=[<tf.Tenso..., outputs=Tensor(\"re...)`\n"
     ]
    },
    {
     "name": "stdout",
     "output_type": "stream",
     "text": [
      "(100, 224, 224, 3)\n",
      "32 res2c_branch2b\n",
      "preds (100, 56, 56, 64)\n",
      "(100, 200704)\n"
     ]
    },
    {
     "name": "stderr",
     "output_type": "stream",
     "text": [
      "C:\\Users\\benza-ord\\anaconda3\\envs\\keras-gpu\\lib\\site-packages\\sklearn\\decomposition\\_pca.py:555: RuntimeWarning: divide by zero encountered in true_divide\n",
      "  self.explained_variance_ / total_var.sum()\n",
      " 13%|████████████▍                                                                                   | 13/100 [00:00<00:00, 120.69it/s]"
     ]
    },
    {
     "name": "stdout",
     "output_type": "stream",
     "text": [
      "         PC1           PC2  target\n",
      "0   0.000002 -1.170312e-16       3\n",
      "1   0.000002 -1.169124e-16       8\n",
      "2   0.000002 -1.169139e-16       8\n",
      "3   0.000002 -1.169139e-16       0\n",
      "4   0.000002 -1.169139e-16       6\n",
      "..       ...           ...     ...\n",
      "95  0.000002 -1.169139e-16       6\n",
      "96  0.000002  2.805959e-15       6\n",
      "97  0.000002  2.805959e-15       0\n",
      "98  0.000002  2.805959e-15       0\n",
      "99  0.000002  2.805959e-15       7\n",
      "\n",
      "[100 rows x 3 columns]\n",
      "(100, 32, 32, 3)\n"
     ]
    },
    {
     "name": "stderr",
     "output_type": "stream",
     "text": [
      "100%|███████████████████████████████████████████████████████████████████████████████████████████████| 100/100 [00:00<00:00, 116.59it/s]\n",
      "C:\\Users\\benza-ord\\anaconda3\\envs\\keras-gpu\\lib\\site-packages\\ipykernel_launcher.py:47: UserWarning: Update your `Model` call to the Keras 2 API: `Model(inputs=[<tf.Tenso..., outputs=Tensor(\"re...)`\n"
     ]
    },
    {
     "name": "stdout",
     "output_type": "stream",
     "text": [
      "(100, 224, 224, 3)\n",
      "32 res2c_branch2b\n",
      "preds (100, 56, 56, 64)\n",
      "(100, 200704)\n"
     ]
    },
    {
     "name": "stderr",
     "output_type": "stream",
     "text": [
      "C:\\Users\\benza-ord\\anaconda3\\envs\\keras-gpu\\lib\\site-packages\\sklearn\\decomposition\\_pca.py:555: RuntimeWarning: divide by zero encountered in true_divide\n",
      "  self.explained_variance_ / total_var.sum()\n",
      " 13%|████████████▍                                                                                   | 13/100 [00:00<00:00, 120.69it/s]"
     ]
    },
    {
     "name": "stdout",
     "output_type": "stream",
     "text": [
      "         PC1           PC2  target\n",
      "0   0.000002 -1.722713e-16       3\n",
      "1   0.000002 -1.723359e-16       8\n",
      "2   0.000002 -1.723342e-16       8\n",
      "3   0.000002 -1.723342e-16       0\n",
      "4   0.000002 -1.723342e-16       6\n",
      "..       ...           ...     ...\n",
      "95  0.000002 -1.723342e-16       6\n",
      "96  0.000002  4.136007e-15       6\n",
      "97  0.000002  4.136007e-15       0\n",
      "98  0.000002  4.136007e-15       0\n",
      "99  0.000002  4.136007e-15       7\n",
      "\n",
      "[100 rows x 3 columns]\n",
      "(100, 32, 32, 3)\n"
     ]
    },
    {
     "name": "stderr",
     "output_type": "stream",
     "text": [
      "100%|███████████████████████████████████████████████████████████████████████████████████████████████| 100/100 [00:00<00:00, 116.32it/s]\n",
      "C:\\Users\\benza-ord\\anaconda3\\envs\\keras-gpu\\lib\\site-packages\\ipykernel_launcher.py:47: UserWarning: Update your `Model` call to the Keras 2 API: `Model(inputs=[<tf.Tenso..., outputs=Tensor(\"re...)`\n"
     ]
    },
    {
     "name": "stdout",
     "output_type": "stream",
     "text": [
      "(100, 224, 224, 3)\n",
      "32 res2c_branch2b\n",
      "preds (100, 56, 56, 64)\n",
      "(100, 200704)\n"
     ]
    },
    {
     "name": "stderr",
     "output_type": "stream",
     "text": [
      "C:\\Users\\benza-ord\\anaconda3\\envs\\keras-gpu\\lib\\site-packages\\sklearn\\decomposition\\_pca.py:555: RuntimeWarning: divide by zero encountered in true_divide\n",
      "  self.explained_variance_ / total_var.sum()\n",
      " 13%|████████████▍                                                                                   | 13/100 [00:00<00:00, 120.69it/s]"
     ]
    },
    {
     "name": "stdout",
     "output_type": "stream",
     "text": [
      "         PC1           PC2  target\n",
      "0   0.000002 -8.692652e-17       3\n",
      "1   0.000002 -8.654428e-17       8\n",
      "2   0.000002 -8.654349e-17       8\n",
      "3   0.000002 -8.654347e-17       0\n",
      "4   0.000002 -8.654347e-17       6\n",
      "..       ...           ...     ...\n",
      "95  0.000002 -8.654347e-17       6\n",
      "96  0.000002  2.077138e-15       6\n",
      "97  0.000002  2.077138e-15       0\n",
      "98  0.000002  2.077138e-15       0\n",
      "99  0.000002  2.077138e-15       7\n",
      "\n",
      "[100 rows x 3 columns]\n",
      "(100, 32, 32, 3)\n"
     ]
    },
    {
     "name": "stderr",
     "output_type": "stream",
     "text": [
      "100%|███████████████████████████████████████████████████████████████████████████████████████████████| 100/100 [00:00<00:00, 115.43it/s]\n",
      "C:\\Users\\benza-ord\\anaconda3\\envs\\keras-gpu\\lib\\site-packages\\ipykernel_launcher.py:47: UserWarning: Update your `Model` call to the Keras 2 API: `Model(inputs=[<tf.Tenso..., outputs=Tensor(\"re...)`\n"
     ]
    },
    {
     "name": "stdout",
     "output_type": "stream",
     "text": [
      "(100, 224, 224, 3)\n",
      "32 res2c_branch2b\n",
      "preds (100, 56, 56, 64)\n",
      "(100, 200704)\n"
     ]
    },
    {
     "name": "stderr",
     "output_type": "stream",
     "text": [
      "C:\\Users\\benza-ord\\anaconda3\\envs\\keras-gpu\\lib\\site-packages\\sklearn\\decomposition\\_pca.py:555: RuntimeWarning: divide by zero encountered in true_divide\n",
      "  self.explained_variance_ / total_var.sum()\n",
      " 13%|████████████▍                                                                                   | 13/100 [00:00<00:00, 120.69it/s]"
     ]
    },
    {
     "name": "stdout",
     "output_type": "stream",
     "text": [
      "         PC1           PC2  target\n",
      "0   0.000002 -1.133782e-16       3\n",
      "1   0.000002 -1.133216e-16       8\n",
      "2   0.000002 -1.133214e-16       8\n",
      "3   0.000002 -1.133218e-16       0\n",
      "4   0.000002 -1.133218e-16       6\n",
      "..       ...           ...     ...\n",
      "95  0.000002 -1.133218e-16       6\n",
      "96  0.000002  2.719733e-15       6\n",
      "97  0.000002  2.719733e-15       0\n",
      "98  0.000002  2.719733e-15       0\n",
      "99  0.000002  2.719733e-15       7\n",
      "\n",
      "[100 rows x 3 columns]\n",
      "(100, 32, 32, 3)\n"
     ]
    },
    {
     "name": "stderr",
     "output_type": "stream",
     "text": [
      "100%|███████████████████████████████████████████████████████████████████████████████████████████████| 100/100 [00:00<00:00, 116.05it/s]\n",
      "C:\\Users\\benza-ord\\anaconda3\\envs\\keras-gpu\\lib\\site-packages\\ipykernel_launcher.py:47: UserWarning: Update your `Model` call to the Keras 2 API: `Model(inputs=[<tf.Tenso..., outputs=Tensor(\"re...)`\n"
     ]
    },
    {
     "name": "stdout",
     "output_type": "stream",
     "text": [
      "(100, 224, 224, 3)\n",
      "32 res2c_branch2b\n",
      "preds (100, 56, 56, 64)\n",
      "(100, 200704)\n"
     ]
    },
    {
     "name": "stderr",
     "output_type": "stream",
     "text": [
      "C:\\Users\\benza-ord\\anaconda3\\envs\\keras-gpu\\lib\\site-packages\\sklearn\\decomposition\\_pca.py:555: RuntimeWarning: divide by zero encountered in true_divide\n",
      "  self.explained_variance_ / total_var.sum()\n",
      " 13%|████████████▍                                                                                   | 13/100 [00:00<00:00, 119.58it/s]"
     ]
    },
    {
     "name": "stdout",
     "output_type": "stream",
     "text": [
      "         PC1           PC2  target\n",
      "0   0.000003 -1.301904e-15       3\n",
      "1   0.000003 -1.300016e-15       8\n",
      "2   0.000003 -1.300018e-15       8\n",
      "3   0.000003 -1.300018e-15       0\n",
      "4   0.000003 -1.300018e-15       6\n",
      "..       ...           ...     ...\n",
      "95  0.000003 -1.300018e-15       6\n",
      "96  0.000003  3.120088e-14       6\n",
      "97  0.000003  3.120088e-14       0\n",
      "98  0.000003  3.120088e-14       0\n",
      "99  0.000003  3.120088e-14       7\n",
      "\n",
      "[100 rows x 3 columns]\n",
      "(100, 32, 32, 3)\n"
     ]
    },
    {
     "name": "stderr",
     "output_type": "stream",
     "text": [
      "100%|███████████████████████████████████████████████████████████████████████████████████████████████| 100/100 [00:00<00:00, 116.11it/s]\n",
      "C:\\Users\\benza-ord\\anaconda3\\envs\\keras-gpu\\lib\\site-packages\\ipykernel_launcher.py:47: UserWarning: Update your `Model` call to the Keras 2 API: `Model(inputs=[<tf.Tenso..., outputs=Tensor(\"re...)`\n"
     ]
    },
    {
     "name": "stdout",
     "output_type": "stream",
     "text": [
      "(100, 224, 224, 3)\n",
      "32 res2c_branch2b\n",
      "preds (100, 56, 56, 64)\n",
      "(100, 200704)\n"
     ]
    },
    {
     "name": "stderr",
     "output_type": "stream",
     "text": [
      "C:\\Users\\benza-ord\\anaconda3\\envs\\keras-gpu\\lib\\site-packages\\sklearn\\decomposition\\_pca.py:555: RuntimeWarning: divide by zero encountered in true_divide\n",
      "  self.explained_variance_ / total_var.sum()\n",
      " 12%|███████████▌                                                                                    | 12/100 [00:00<00:00, 119.13it/s]"
     ]
    },
    {
     "name": "stdout",
     "output_type": "stream",
     "text": [
      "         PC1           PC2  target\n",
      "0   0.000003 -2.240779e-16       3\n",
      "1   0.000003 -2.247336e-16       8\n",
      "2   0.000003 -2.247355e-16       8\n",
      "3   0.000003 -2.247355e-16       0\n",
      "4   0.000003 -2.247355e-16       6\n",
      "..       ...           ...     ...\n",
      "95  0.000003 -2.247355e-16       6\n",
      "96  0.000003  5.393489e-15       6\n",
      "97  0.000003  5.393489e-15       0\n",
      "98  0.000003  5.393489e-15       0\n",
      "99  0.000003  5.393489e-15       7\n",
      "\n",
      "[100 rows x 3 columns]\n",
      "(100, 32, 32, 3)\n"
     ]
    },
    {
     "name": "stderr",
     "output_type": "stream",
     "text": [
      "100%|███████████████████████████████████████████████████████████████████████████████████████████████| 100/100 [00:00<00:00, 116.15it/s]\n",
      "C:\\Users\\benza-ord\\anaconda3\\envs\\keras-gpu\\lib\\site-packages\\ipykernel_launcher.py:47: UserWarning: Update your `Model` call to the Keras 2 API: `Model(inputs=[<tf.Tenso..., outputs=Tensor(\"re...)`\n"
     ]
    },
    {
     "name": "stdout",
     "output_type": "stream",
     "text": [
      "(100, 224, 224, 3)\n",
      "35 res2c_branch2c\n",
      "preds (100, 56, 56, 256)\n",
      "(100, 802816)\n"
     ]
    },
    {
     "name": "stderr",
     "output_type": "stream",
     "text": [
      "C:\\Users\\benza-ord\\anaconda3\\envs\\keras-gpu\\lib\\site-packages\\sklearn\\decomposition\\_pca.py:555: RuntimeWarning: divide by zero encountered in true_divide\n",
      "  self.explained_variance_ / total_var.sum()\n",
      " 12%|███████████▌                                                                                    | 12/100 [00:00<00:00, 117.96it/s]"
     ]
    },
    {
     "name": "stdout",
     "output_type": "stream",
     "text": [
      "         PC1           PC2  target\n",
      "0   0.000005 -1.494778e-15       3\n",
      "1   0.000005 -1.494771e-15       8\n",
      "2   0.000005 -1.494782e-15       8\n",
      "3   0.000005 -1.494781e-15       0\n",
      "4   0.000005 -1.494781e-15       6\n",
      "..       ...           ...     ...\n",
      "95  0.000005 -1.494781e-15       6\n",
      "96  0.000005  3.587478e-14       6\n",
      "97  0.000005  3.587478e-14       0\n",
      "98  0.000005  3.587478e-14       0\n",
      "99  0.000005  3.587478e-14       7\n",
      "\n",
      "[100 rows x 3 columns]\n",
      "(100, 32, 32, 3)\n"
     ]
    },
    {
     "name": "stderr",
     "output_type": "stream",
     "text": [
      "100%|███████████████████████████████████████████████████████████████████████████████████████████████| 100/100 [00:00<00:00, 115.40it/s]\n",
      "C:\\Users\\benza-ord\\anaconda3\\envs\\keras-gpu\\lib\\site-packages\\ipykernel_launcher.py:47: UserWarning: Update your `Model` call to the Keras 2 API: `Model(inputs=[<tf.Tenso..., outputs=Tensor(\"re...)`\n"
     ]
    },
    {
     "name": "stdout",
     "output_type": "stream",
     "text": [
      "(100, 224, 224, 3)\n",
      "35 res2c_branch2c\n",
      "preds (100, 56, 56, 256)\n",
      "(100, 802816)\n"
     ]
    },
    {
     "name": "stderr",
     "output_type": "stream",
     "text": [
      "C:\\Users\\benza-ord\\anaconda3\\envs\\keras-gpu\\lib\\site-packages\\sklearn\\decomposition\\_pca.py:555: RuntimeWarning: divide by zero encountered in true_divide\n",
      "  self.explained_variance_ / total_var.sum()\n",
      " 12%|███████████▌                                                                                    | 12/100 [00:00<00:00, 119.09it/s]"
     ]
    },
    {
     "name": "stdout",
     "output_type": "stream",
     "text": [
      "         PC1           PC2  target\n",
      "0   0.000003 -2.212486e-15       3\n",
      "1   0.000003 -2.212838e-15       8\n",
      "2   0.000003 -2.212854e-15       8\n",
      "3   0.000003 -2.212856e-15       0\n",
      "4   0.000003 -2.212856e-15       6\n",
      "..       ...           ...     ...\n",
      "95  0.000003 -2.212856e-15       6\n",
      "96  0.000003  5.310850e-14       6\n",
      "97  0.000003  5.310850e-14       0\n",
      "98  0.000003  5.310850e-14       0\n",
      "99  0.000003  5.310850e-14       7\n",
      "\n",
      "[100 rows x 3 columns]\n",
      "(100, 32, 32, 3)\n"
     ]
    },
    {
     "name": "stderr",
     "output_type": "stream",
     "text": [
      "100%|███████████████████████████████████████████████████████████████████████████████████████████████| 100/100 [00:00<00:00, 115.78it/s]\n",
      "C:\\Users\\benza-ord\\anaconda3\\envs\\keras-gpu\\lib\\site-packages\\ipykernel_launcher.py:47: UserWarning: Update your `Model` call to the Keras 2 API: `Model(inputs=[<tf.Tenso..., outputs=Tensor(\"re...)`\n"
     ]
    },
    {
     "name": "stdout",
     "output_type": "stream",
     "text": [
      "(100, 224, 224, 3)\n",
      "35 res2c_branch2c\n",
      "preds (100, 56, 56, 256)\n",
      "(100, 802816)\n"
     ]
    },
    {
     "name": "stderr",
     "output_type": "stream",
     "text": [
      "C:\\Users\\benza-ord\\anaconda3\\envs\\keras-gpu\\lib\\site-packages\\sklearn\\decomposition\\_pca.py:555: RuntimeWarning: divide by zero encountered in true_divide\n",
      "  self.explained_variance_ / total_var.sum()\n",
      " 12%|███████████▌                                                                                    | 12/100 [00:00<00:00, 114.59it/s]"
     ]
    },
    {
     "name": "stdout",
     "output_type": "stream",
     "text": [
      "         PC1           PC2  target\n",
      "0   0.000004 -5.183955e-16       3\n",
      "1   0.000004 -5.073375e-16       8\n",
      "2   0.000004 -5.073530e-16       8\n",
      "3   0.000004 -5.073501e-16       0\n",
      "4   0.000004 -5.073500e-16       6\n",
      "..       ...           ...     ...\n",
      "95  0.000004 -5.073500e-16       6\n",
      "96  0.000004  1.217916e-14       6\n",
      "97  0.000004  1.217916e-14       0\n",
      "98  0.000004  1.217916e-14       0\n",
      "99  0.000004  1.217916e-14       7\n",
      "\n",
      "[100 rows x 3 columns]\n",
      "(100, 32, 32, 3)\n"
     ]
    },
    {
     "name": "stderr",
     "output_type": "stream",
     "text": [
      "100%|███████████████████████████████████████████████████████████████████████████████████████████████| 100/100 [00:00<00:00, 107.78it/s]\n",
      "C:\\Users\\benza-ord\\anaconda3\\envs\\keras-gpu\\lib\\site-packages\\ipykernel_launcher.py:47: UserWarning: Update your `Model` call to the Keras 2 API: `Model(inputs=[<tf.Tenso..., outputs=Tensor(\"re...)`\n"
     ]
    },
    {
     "name": "stdout",
     "output_type": "stream",
     "text": [
      "(100, 224, 224, 3)\n",
      "35 res2c_branch2c\n",
      "preds (100, 56, 56, 256)\n",
      "(100, 802816)\n"
     ]
    },
    {
     "name": "stderr",
     "output_type": "stream",
     "text": [
      "C:\\Users\\benza-ord\\anaconda3\\envs\\keras-gpu\\lib\\site-packages\\sklearn\\decomposition\\_pca.py:555: RuntimeWarning: divide by zero encountered in true_divide\n",
      "  self.explained_variance_ / total_var.sum()\n",
      " 11%|██████████▌                                                                                     | 11/100 [00:00<00:00, 107.08it/s]"
     ]
    },
    {
     "name": "stdout",
     "output_type": "stream",
     "text": [
      "         PC1           PC2  target\n",
      "0   0.000004 -8.777521e-17       3\n",
      "1   0.000004 -8.912428e-17       8\n",
      "2   0.000004 -8.912323e-17       8\n",
      "3   0.000004 -8.912328e-17       0\n",
      "4   0.000004 -8.912330e-17       6\n",
      "..       ...           ...     ...\n",
      "95  0.000004 -8.912328e-17       6\n",
      "96  0.000004  2.138630e-15       6\n",
      "97  0.000004  2.138630e-15       0\n",
      "98  0.000004  2.138630e-15       0\n",
      "99  0.000004  2.138630e-15       7\n",
      "\n",
      "[100 rows x 3 columns]\n",
      "(100, 32, 32, 3)\n"
     ]
    },
    {
     "name": "stderr",
     "output_type": "stream",
     "text": [
      "100%|███████████████████████████████████████████████████████████████████████████████████████████████| 100/100 [00:00<00:00, 103.90it/s]\n",
      "C:\\Users\\benza-ord\\anaconda3\\envs\\keras-gpu\\lib\\site-packages\\ipykernel_launcher.py:47: UserWarning: Update your `Model` call to the Keras 2 API: `Model(inputs=[<tf.Tenso..., outputs=Tensor(\"re...)`\n"
     ]
    },
    {
     "name": "stdout",
     "output_type": "stream",
     "text": [
      "(100, 224, 224, 3)\n",
      "35 res2c_branch2c\n",
      "preds (100, 56, 56, 256)\n",
      "(100, 802816)\n"
     ]
    },
    {
     "name": "stderr",
     "output_type": "stream",
     "text": [
      "C:\\Users\\benza-ord\\anaconda3\\envs\\keras-gpu\\lib\\site-packages\\sklearn\\decomposition\\_pca.py:555: RuntimeWarning: divide by zero encountered in true_divide\n",
      "  self.explained_variance_ / total_var.sum()\n",
      " 12%|███████████▌                                                                                    | 12/100 [00:00<00:00, 113.48it/s]"
     ]
    },
    {
     "name": "stdout",
     "output_type": "stream",
     "text": [
      "         PC1           PC2  target\n",
      "0   0.000003 -7.316726e-16       3\n",
      "1   0.000003 -7.336514e-16       8\n",
      "2   0.000003 -7.336496e-16       8\n",
      "3   0.000003 -7.336496e-16       0\n",
      "4   0.000003 -7.336496e-16       6\n",
      "..       ...           ...     ...\n",
      "95  0.000003 -7.336496e-16       6\n",
      "96  0.000003  1.760709e-14       6\n",
      "97  0.000003  1.760709e-14       0\n",
      "98  0.000003  1.760709e-14       0\n",
      "99  0.000003  1.760709e-14       7\n",
      "\n",
      "[100 rows x 3 columns]\n",
      "(100, 32, 32, 3)\n"
     ]
    },
    {
     "name": "stderr",
     "output_type": "stream",
     "text": [
      "100%|███████████████████████████████████████████████████████████████████████████████████████████████| 100/100 [00:00<00:00, 112.53it/s]\n",
      "C:\\Users\\benza-ord\\anaconda3\\envs\\keras-gpu\\lib\\site-packages\\ipykernel_launcher.py:47: UserWarning: Update your `Model` call to the Keras 2 API: `Model(inputs=[<tf.Tenso..., outputs=Tensor(\"re...)`\n"
     ]
    },
    {
     "name": "stdout",
     "output_type": "stream",
     "text": [
      "(100, 224, 224, 3)\n",
      "35 res2c_branch2c\n",
      "preds (100, 56, 56, 256)\n",
      "(100, 802816)\n"
     ]
    },
    {
     "name": "stderr",
     "output_type": "stream",
     "text": [
      "C:\\Users\\benza-ord\\anaconda3\\envs\\keras-gpu\\lib\\site-packages\\sklearn\\decomposition\\_pca.py:555: RuntimeWarning: divide by zero encountered in true_divide\n",
      "  self.explained_variance_ / total_var.sum()\n",
      " 12%|███████████▌                                                                                    | 12/100 [00:00<00:00, 119.13it/s]"
     ]
    },
    {
     "name": "stdout",
     "output_type": "stream",
     "text": [
      "         PC1           PC2  target\n",
      "0   0.000003 -1.752709e-16       3\n",
      "1   0.000003 -1.772966e-16       8\n",
      "2   0.000003 -1.772975e-16       8\n",
      "3   0.000003 -1.772978e-16       0\n",
      "4   0.000003 -1.772978e-16       6\n",
      "..       ...           ...     ...\n",
      "95  0.000003 -1.772978e-16       6\n",
      "96  0.000003  4.254635e-15       6\n",
      "97  0.000003  4.254635e-15       0\n",
      "98  0.000003  4.254635e-15       0\n",
      "99  0.000003  4.254635e-15       7\n",
      "\n",
      "[100 rows x 3 columns]\n",
      "(100, 32, 32, 3)\n"
     ]
    },
    {
     "name": "stderr",
     "output_type": "stream",
     "text": [
      "100%|███████████████████████████████████████████████████████████████████████████████████████████████| 100/100 [00:00<00:00, 110.79it/s]\n",
      "C:\\Users\\benza-ord\\anaconda3\\envs\\keras-gpu\\lib\\site-packages\\ipykernel_launcher.py:47: UserWarning: Update your `Model` call to the Keras 2 API: `Model(inputs=[<tf.Tenso..., outputs=Tensor(\"re...)`\n"
     ]
    },
    {
     "name": "stdout",
     "output_type": "stream",
     "text": [
      "(100, 224, 224, 3)\n",
      "35 res2c_branch2c\n",
      "preds (100, 56, 56, 256)\n",
      "(100, 802816)\n"
     ]
    },
    {
     "name": "stderr",
     "output_type": "stream",
     "text": [
      "C:\\Users\\benza-ord\\anaconda3\\envs\\keras-gpu\\lib\\site-packages\\sklearn\\decomposition\\_pca.py:555: RuntimeWarning: divide by zero encountered in true_divide\n",
      "  self.explained_variance_ / total_var.sum()\n",
      " 12%|███████████▌                                                                                    | 12/100 [00:00<00:00, 110.35it/s]"
     ]
    },
    {
     "name": "stdout",
     "output_type": "stream",
     "text": [
      "         PC1           PC2  target\n",
      "0   0.000003 -2.321810e-15       3\n",
      "1   0.000003 -2.322256e-15       8\n",
      "2   0.000003 -2.322266e-15       8\n",
      "3   0.000003 -2.322270e-15       0\n",
      "4   0.000003 -2.322270e-15       6\n",
      "..       ...           ...     ...\n",
      "95  0.000003 -2.322270e-15       6\n",
      "96  0.000003  5.573447e-14       6\n",
      "97  0.000003  5.573447e-14       0\n",
      "98  0.000003  5.573447e-14       0\n",
      "99  0.000003  5.573447e-14       7\n",
      "\n",
      "[100 rows x 3 columns]\n",
      "(100, 32, 32, 3)\n"
     ]
    },
    {
     "name": "stderr",
     "output_type": "stream",
     "text": [
      "100%|███████████████████████████████████████████████████████████████████████████████████████████████| 100/100 [00:00<00:00, 111.16it/s]\n",
      "C:\\Users\\benza-ord\\anaconda3\\envs\\keras-gpu\\lib\\site-packages\\ipykernel_launcher.py:47: UserWarning: Update your `Model` call to the Keras 2 API: `Model(inputs=[<tf.Tenso..., outputs=Tensor(\"re...)`\n"
     ]
    },
    {
     "name": "stdout",
     "output_type": "stream",
     "text": [
      "(100, 224, 224, 3)\n",
      "35 res2c_branch2c\n",
      "preds (100, 56, 56, 256)\n",
      "(100, 802816)\n"
     ]
    },
    {
     "name": "stderr",
     "output_type": "stream",
     "text": [
      "C:\\Users\\benza-ord\\anaconda3\\envs\\keras-gpu\\lib\\site-packages\\sklearn\\decomposition\\_pca.py:555: RuntimeWarning: divide by zero encountered in true_divide\n",
      "  self.explained_variance_ / total_var.sum()\n",
      " 12%|███████████▌                                                                                    | 12/100 [00:00<00:00, 117.24it/s]"
     ]
    },
    {
     "name": "stdout",
     "output_type": "stream",
     "text": [
      "         PC1           PC2  target\n",
      "0   0.000003 -1.184896e-15       3\n",
      "1   0.000003 -1.182106e-15       8\n",
      "2   0.000003 -1.182110e-15       8\n",
      "3   0.000003 -1.182109e-15       0\n",
      "4   0.000003 -1.182109e-15       6\n",
      "..       ...           ...     ...\n",
      "95  0.000003 -1.182109e-15       6\n",
      "96  0.000003  2.837134e-14       6\n",
      "97  0.000003  2.837134e-14       0\n",
      "98  0.000003  2.837134e-14       0\n",
      "99  0.000003  2.837134e-14       7\n",
      "\n",
      "[100 rows x 3 columns]\n",
      "(100, 32, 32, 3)\n"
     ]
    },
    {
     "name": "stderr",
     "output_type": "stream",
     "text": [
      "100%|███████████████████████████████████████████████████████████████████████████████████████████████| 100/100 [00:00<00:00, 110.74it/s]\n",
      "C:\\Users\\benza-ord\\anaconda3\\envs\\keras-gpu\\lib\\site-packages\\ipykernel_launcher.py:47: UserWarning: Update your `Model` call to the Keras 2 API: `Model(inputs=[<tf.Tenso..., outputs=Tensor(\"re...)`\n"
     ]
    },
    {
     "name": "stdout",
     "output_type": "stream",
     "text": [
      "(100, 224, 224, 3)\n",
      "35 res2c_branch2c\n",
      "preds (100, 56, 56, 256)\n",
      "(100, 802816)\n"
     ]
    },
    {
     "name": "stderr",
     "output_type": "stream",
     "text": [
      "C:\\Users\\benza-ord\\anaconda3\\envs\\keras-gpu\\lib\\site-packages\\sklearn\\decomposition\\_pca.py:555: RuntimeWarning: divide by zero encountered in true_divide\n",
      "  self.explained_variance_ / total_var.sum()\n",
      " 11%|██████████▌                                                                                     | 11/100 [00:00<00:00, 109.17it/s]"
     ]
    },
    {
     "name": "stdout",
     "output_type": "stream",
     "text": [
      "         PC1           PC2  target\n",
      "0   0.000005 -2.523312e-16       3\n",
      "1   0.000005 -2.482875e-16       8\n",
      "2   0.000005 -2.482865e-16       8\n",
      "3   0.000005 -2.482863e-16       0\n",
      "4   0.000005 -2.482863e-16       6\n",
      "..       ...           ...     ...\n",
      "95  0.000005 -2.482863e-16       6\n",
      "96  0.000005  5.959883e-15       6\n",
      "97  0.000005  5.959883e-15       0\n",
      "98  0.000005  5.959883e-15       0\n",
      "99  0.000005  5.959883e-15       7\n",
      "\n",
      "[100 rows x 3 columns]\n",
      "(100, 32, 32, 3)\n"
     ]
    },
    {
     "name": "stderr",
     "output_type": "stream",
     "text": [
      "100%|███████████████████████████████████████████████████████████████████████████████████████████████| 100/100 [00:00<00:00, 112.77it/s]\n",
      "C:\\Users\\benza-ord\\anaconda3\\envs\\keras-gpu\\lib\\site-packages\\ipykernel_launcher.py:47: UserWarning: Update your `Model` call to the Keras 2 API: `Model(inputs=[<tf.Tenso..., outputs=Tensor(\"re...)`\n"
     ]
    },
    {
     "name": "stdout",
     "output_type": "stream",
     "text": [
      "(100, 224, 224, 3)\n",
      "35 res2c_branch2c\n",
      "preds (100, 56, 56, 256)\n",
      "(100, 802816)\n"
     ]
    },
    {
     "name": "stderr",
     "output_type": "stream",
     "text": [
      "C:\\Users\\benza-ord\\anaconda3\\envs\\keras-gpu\\lib\\site-packages\\sklearn\\decomposition\\_pca.py:555: RuntimeWarning: divide by zero encountered in true_divide\n",
      "  self.explained_variance_ / total_var.sum()\n",
      " 12%|███████████▌                                                                                    | 12/100 [00:00<00:00, 119.09it/s]"
     ]
    },
    {
     "name": "stdout",
     "output_type": "stream",
     "text": [
      "         PC1           PC2  target\n",
      "0   0.000004 -2.161632e-16       3\n",
      "1   0.000004 -2.129059e-16       8\n",
      "2   0.000004 -2.129081e-16       8\n",
      "3   0.000004 -2.129090e-16       0\n",
      "4   0.000004 -2.129090e-16       6\n",
      "..       ...           ...     ...\n",
      "95  0.000004 -2.129090e-16       6\n",
      "96  0.000004  5.110622e-15       6\n",
      "97  0.000004  5.110622e-15       0\n",
      "98  0.000004  5.110622e-15       0\n",
      "99  0.000004  5.110622e-15       7\n",
      "\n",
      "[100 rows x 3 columns]\n",
      "(100, 32, 32, 3)\n"
     ]
    },
    {
     "name": "stderr",
     "output_type": "stream",
     "text": [
      "100%|███████████████████████████████████████████████████████████████████████████████████████████████| 100/100 [00:00<00:00, 113.32it/s]\n",
      "C:\\Users\\benza-ord\\anaconda3\\envs\\keras-gpu\\lib\\site-packages\\ipykernel_launcher.py:47: UserWarning: Update your `Model` call to the Keras 2 API: `Model(inputs=[<tf.Tenso..., outputs=Tensor(\"re...)`\n"
     ]
    },
    {
     "name": "stdout",
     "output_type": "stream",
     "text": [
      "(100, 224, 224, 3)\n",
      "39 res3a_branch2a\n",
      "preds (100, 28, 28, 128)\n",
      "(100, 100352)\n",
      "         PC1           PC2  target\n",
      "0   0.000003 -2.806440e-15       3\n",
      "1   0.000003 -2.807298e-15       8\n",
      "2   0.000003 -2.807304e-15       8\n",
      "3   0.000003 -2.807304e-15       0\n",
      "4   0.000003 -2.807304e-15       6\n",
      "..       ...           ...     ...\n",
      "95  0.000003 -2.807304e-15       6\n",
      "96  0.000003  6.737504e-14       6\n",
      "97  0.000003  6.737504e-14       0\n",
      "98  0.000003  6.737504e-14       0\n",
      "99  0.000003  6.737504e-14       7\n",
      "\n",
      "[100 rows x 3 columns]\n",
      "(100, 32, 32, 3)"
     ]
    },
    {
     "name": "stderr",
     "output_type": "stream",
     "text": [
      "C:\\Users\\benza-ord\\anaconda3\\envs\\keras-gpu\\lib\\site-packages\\sklearn\\decomposition\\_pca.py:555: RuntimeWarning: divide by zero encountered in true_divide\n",
      "  self.explained_variance_ / total_var.sum()\n",
      " 12%|███████████▌                                                                                    | 12/100 [00:00<00:00, 116.82it/s]"
     ]
    },
    {
     "name": "stdout",
     "output_type": "stream",
     "text": [
      "\n"
     ]
    },
    {
     "name": "stderr",
     "output_type": "stream",
     "text": [
      "100%|███████████████████████████████████████████████████████████████████████████████████████████████| 100/100 [00:00<00:00, 112.59it/s]\n",
      "C:\\Users\\benza-ord\\anaconda3\\envs\\keras-gpu\\lib\\site-packages\\ipykernel_launcher.py:47: UserWarning: Update your `Model` call to the Keras 2 API: `Model(inputs=[<tf.Tenso..., outputs=Tensor(\"re...)`\n"
     ]
    },
    {
     "name": "stdout",
     "output_type": "stream",
     "text": [
      "(100, 224, 224, 3)\n",
      "39 res3a_branch2a\n",
      "preds (100, 28, 28, 128)\n",
      "(100, 100352)\n"
     ]
    },
    {
     "name": "stderr",
     "output_type": "stream",
     "text": [
      "C:\\Users\\benza-ord\\anaconda3\\envs\\keras-gpu\\lib\\site-packages\\sklearn\\decomposition\\_pca.py:555: RuntimeWarning: divide by zero encountered in true_divide\n",
      "  self.explained_variance_ / total_var.sum()\n",
      " 13%|████████████▍                                                                                   | 13/100 [00:00<00:00, 120.69it/s]"
     ]
    },
    {
     "name": "stdout",
     "output_type": "stream",
     "text": [
      "         PC1           PC2  target\n",
      "0   0.000002 -5.755337e-16       3\n",
      "1   0.000002 -5.746704e-16       8\n",
      "2   0.000002 -5.746725e-16       8\n",
      "3   0.000002 -5.746725e-16       0\n",
      "4   0.000002 -5.746725e-16       6\n",
      "..       ...           ...     ...\n",
      "95  0.000002 -5.746725e-16       6\n",
      "96  0.000002  1.379235e-14       6\n",
      "97  0.000002  1.379235e-14       0\n",
      "98  0.000002  1.379235e-14       0\n",
      "99  0.000002  1.379235e-14       7\n",
      "\n",
      "[100 rows x 3 columns]\n",
      "(100, 32, 32, 3)\n"
     ]
    },
    {
     "name": "stderr",
     "output_type": "stream",
     "text": [
      "100%|███████████████████████████████████████████████████████████████████████████████████████████████| 100/100 [00:00<00:00, 114.97it/s]\n",
      "C:\\Users\\benza-ord\\anaconda3\\envs\\keras-gpu\\lib\\site-packages\\ipykernel_launcher.py:47: UserWarning: Update your `Model` call to the Keras 2 API: `Model(inputs=[<tf.Tenso..., outputs=Tensor(\"re...)`\n"
     ]
    },
    {
     "name": "stdout",
     "output_type": "stream",
     "text": [
      "(100, 224, 224, 3)\n",
      "39 res3a_branch2a\n",
      "preds (100, 28, 28, 128)\n",
      "(100, 100352)\n"
     ]
    },
    {
     "name": "stderr",
     "output_type": "stream",
     "text": [
      "C:\\Users\\benza-ord\\anaconda3\\envs\\keras-gpu\\lib\\site-packages\\sklearn\\decomposition\\_pca.py:555: RuntimeWarning: divide by zero encountered in true_divide\n",
      "  self.explained_variance_ / total_var.sum()\n",
      " 12%|███████████▌                                                                                    | 12/100 [00:00<00:00, 118.54it/s]"
     ]
    },
    {
     "name": "stdout",
     "output_type": "stream",
     "text": [
      "         PC1           PC2  target\n",
      "0   0.000002 -7.388994e-16       3\n",
      "1   0.000002 -7.388878e-16       8\n",
      "2   0.000002 -7.388827e-16       8\n",
      "3   0.000002 -7.388827e-16       0\n",
      "4   0.000002 -7.388827e-16       6\n",
      "..       ...           ...     ...\n",
      "95  0.000002 -7.388827e-16       6\n",
      "96  0.000002  1.773318e-14       6\n",
      "97  0.000002  1.773318e-14       0\n",
      "98  0.000002  1.773318e-14       0\n",
      "99  0.000002  1.773318e-14       7\n",
      "\n",
      "[100 rows x 3 columns]\n",
      "(100, 32, 32, 3)\n"
     ]
    },
    {
     "name": "stderr",
     "output_type": "stream",
     "text": [
      "100%|███████████████████████████████████████████████████████████████████████████████████████████████| 100/100 [00:00<00:00, 116.52it/s]\n",
      "C:\\Users\\benza-ord\\anaconda3\\envs\\keras-gpu\\lib\\site-packages\\ipykernel_launcher.py:47: UserWarning: Update your `Model` call to the Keras 2 API: `Model(inputs=[<tf.Tenso..., outputs=Tensor(\"re...)`\n"
     ]
    },
    {
     "name": "stdout",
     "output_type": "stream",
     "text": [
      "(100, 224, 224, 3)\n",
      "39 res3a_branch2a\n",
      "preds (100, 28, 28, 128)\n",
      "(100, 100352)\n"
     ]
    },
    {
     "name": "stderr",
     "output_type": "stream",
     "text": [
      "C:\\Users\\benza-ord\\anaconda3\\envs\\keras-gpu\\lib\\site-packages\\sklearn\\decomposition\\_pca.py:555: RuntimeWarning: divide by zero encountered in true_divide\n",
      "  self.explained_variance_ / total_var.sum()\n",
      " 12%|███████████▌                                                                                    | 12/100 [00:00<00:00, 116.82it/s]"
     ]
    },
    {
     "name": "stdout",
     "output_type": "stream",
     "text": [
      "         PC1           PC2  target\n",
      "0   0.000002 -2.177909e-16       3\n",
      "1   0.000002 -2.179016e-16       8\n",
      "2   0.000002 -2.178993e-16       8\n",
      "3   0.000002 -2.178993e-16       0\n",
      "4   0.000002 -2.178993e-16       6\n",
      "..       ...           ...     ...\n",
      "95  0.000002 -2.178993e-16       6\n",
      "96  0.000002  5.229553e-15       6\n",
      "97  0.000002  5.229553e-15       0\n",
      "98  0.000002  5.229553e-15       0\n",
      "99  0.000002  5.229553e-15       7\n",
      "\n",
      "[100 rows x 3 columns]\n",
      "(100, 32, 32, 3)\n"
     ]
    },
    {
     "name": "stderr",
     "output_type": "stream",
     "text": [
      "100%|███████████████████████████████████████████████████████████████████████████████████████████████| 100/100 [00:00<00:00, 112.53it/s]\n",
      "C:\\Users\\benza-ord\\anaconda3\\envs\\keras-gpu\\lib\\site-packages\\ipykernel_launcher.py:47: UserWarning: Update your `Model` call to the Keras 2 API: `Model(inputs=[<tf.Tenso..., outputs=Tensor(\"re...)`\n"
     ]
    },
    {
     "name": "stdout",
     "output_type": "stream",
     "text": [
      "(100, 224, 224, 3)\n",
      "39 res3a_branch2a\n",
      "preds (100, 28, 28, 128)\n",
      "(100, 100352)\n"
     ]
    },
    {
     "name": "stderr",
     "output_type": "stream",
     "text": [
      "C:\\Users\\benza-ord\\anaconda3\\envs\\keras-gpu\\lib\\site-packages\\sklearn\\decomposition\\_pca.py:555: RuntimeWarning: divide by zero encountered in true_divide\n",
      "  self.explained_variance_ / total_var.sum()\n",
      " 12%|███████████▌                                                                                    | 12/100 [00:00<00:00, 110.39it/s]"
     ]
    },
    {
     "name": "stdout",
     "output_type": "stream",
     "text": [
      "         PC1           PC2  target\n",
      "0   0.000002 -8.669736e-16       3\n",
      "1   0.000002 -8.672792e-16       8\n",
      "2   0.000002 -8.672652e-16       8\n",
      "3   0.000002 -8.672646e-16       0\n",
      "4   0.000002 -8.672646e-16       6\n",
      "..       ...           ...     ...\n",
      "95  0.000002 -8.672646e-16       6\n",
      "96  0.000002  2.081425e-14       6\n",
      "97  0.000002  2.081425e-14       0\n",
      "98  0.000002  2.081425e-14       0\n",
      "99  0.000002  2.081425e-14       7\n",
      "\n",
      "[100 rows x 3 columns]\n",
      "(100, 32, 32, 3)\n"
     ]
    },
    {
     "name": "stderr",
     "output_type": "stream",
     "text": [
      "100%|███████████████████████████████████████████████████████████████████████████████████████████████| 100/100 [00:00<00:00, 111.28it/s]\n",
      "C:\\Users\\benza-ord\\anaconda3\\envs\\keras-gpu\\lib\\site-packages\\ipykernel_launcher.py:47: UserWarning: Update your `Model` call to the Keras 2 API: `Model(inputs=[<tf.Tenso..., outputs=Tensor(\"re...)`\n"
     ]
    },
    {
     "name": "stdout",
     "output_type": "stream",
     "text": [
      "(100, 224, 224, 3)\n",
      "39 res3a_branch2a\n",
      "preds (100, 28, 28, 128)\n",
      "(100, 100352)\n"
     ]
    },
    {
     "name": "stderr",
     "output_type": "stream",
     "text": [
      "C:\\Users\\benza-ord\\anaconda3\\envs\\keras-gpu\\lib\\site-packages\\sklearn\\decomposition\\_pca.py:555: RuntimeWarning: divide by zero encountered in true_divide\n",
      "  self.explained_variance_ / total_var.sum()\n",
      " 12%|███████████▌                                                                                    | 12/100 [00:00<00:00, 119.13it/s]"
     ]
    },
    {
     "name": "stdout",
     "output_type": "stream",
     "text": [
      "         PC1           PC2  target\n",
      "0   0.000002 -2.262651e-16       3\n",
      "1   0.000002 -2.262376e-16       8\n",
      "2   0.000002 -2.262402e-16       8\n",
      "3   0.000002 -2.262409e-16       0\n",
      "4   0.000002 -2.262409e-16       6\n",
      "..       ...           ...     ...\n",
      "95  0.000002 -2.262409e-16       6\n",
      "96  0.000002  5.429790e-15       6\n",
      "97  0.000002  5.429790e-15       0\n",
      "98  0.000002  5.429790e-15       0\n",
      "99  0.000002  5.429790e-15       7\n",
      "\n",
      "[100 rows x 3 columns]\n",
      "(100, 32, 32, 3)\n"
     ]
    },
    {
     "name": "stderr",
     "output_type": "stream",
     "text": [
      "100%|████████████████████████████████████████████████████████████████████████████████████████████████| 100/100 [00:01<00:00, 98.03it/s]\n",
      "C:\\Users\\benza-ord\\anaconda3\\envs\\keras-gpu\\lib\\site-packages\\ipykernel_launcher.py:47: UserWarning: Update your `Model` call to the Keras 2 API: `Model(inputs=[<tf.Tenso..., outputs=Tensor(\"re...)`\n"
     ]
    },
    {
     "name": "stdout",
     "output_type": "stream",
     "text": [
      "(100, 224, 224, 3)\n",
      "39 res3a_branch2a\n",
      "preds (100, 28, 28, 128)\n",
      "(100, 100352)\n"
     ]
    },
    {
     "name": "stderr",
     "output_type": "stream",
     "text": [
      "C:\\Users\\benza-ord\\anaconda3\\envs\\keras-gpu\\lib\\site-packages\\sklearn\\decomposition\\_pca.py:555: RuntimeWarning: divide by zero encountered in true_divide\n",
      "  self.explained_variance_ / total_var.sum()\n",
      " 12%|███████████▌                                                                                    | 12/100 [00:00<00:00, 114.59it/s]"
     ]
    },
    {
     "name": "stdout",
     "output_type": "stream",
     "text": [
      "         PC1           PC2  target\n",
      "0   0.000002 -2.545250e-16       3\n",
      "1   0.000002 -2.541838e-16       8\n",
      "2   0.000002 -2.541818e-16       8\n",
      "3   0.000002 -2.541818e-16       0\n",
      "4   0.000002 -2.541818e-16       6\n",
      "..       ...           ...     ...\n",
      "95  0.000002 -2.541818e-16       6\n",
      "96  0.000002  6.100456e-15       6\n",
      "97  0.000002  6.100456e-15       0\n",
      "98  0.000002  6.100456e-15       0\n",
      "99  0.000002  6.100456e-15       7\n",
      "\n",
      "[100 rows x 3 columns]\n",
      "(100, 32, 32, 3)\n"
     ]
    },
    {
     "name": "stderr",
     "output_type": "stream",
     "text": [
      "100%|███████████████████████████████████████████████████████████████████████████████████████████████| 100/100 [00:00<00:00, 113.35it/s]\n",
      "C:\\Users\\benza-ord\\anaconda3\\envs\\keras-gpu\\lib\\site-packages\\ipykernel_launcher.py:47: UserWarning: Update your `Model` call to the Keras 2 API: `Model(inputs=[<tf.Tenso..., outputs=Tensor(\"re...)`\n"
     ]
    },
    {
     "name": "stdout",
     "output_type": "stream",
     "text": [
      "(100, 224, 224, 3)\n",
      "39 res3a_branch2a\n",
      "preds (100, 28, 28, 128)\n",
      "(100, 100352)\n"
     ]
    },
    {
     "name": "stderr",
     "output_type": "stream",
     "text": [
      "C:\\Users\\benza-ord\\anaconda3\\envs\\keras-gpu\\lib\\site-packages\\sklearn\\decomposition\\_pca.py:555: RuntimeWarning: divide by zero encountered in true_divide\n",
      "  self.explained_variance_ / total_var.sum()\n",
      " 11%|██████████▌                                                                                     | 11/100 [00:00<00:00, 103.08it/s]"
     ]
    },
    {
     "name": "stdout",
     "output_type": "stream",
     "text": [
      "         PC1           PC2  target\n",
      "0   0.000002 -4.127085e-17       3\n",
      "1   0.000002 -4.129260e-17       8\n",
      "2   0.000002 -4.129167e-17       8\n",
      "3   0.000002 -4.129167e-17       0\n",
      "4   0.000002 -4.129167e-17       6\n",
      "..       ...           ...     ...\n",
      "95  0.000002 -4.129167e-17       6\n",
      "96  0.000002  9.909951e-16       6\n",
      "97  0.000002  9.909951e-16       0\n",
      "98  0.000002  9.909951e-16       0\n",
      "99  0.000002  9.909951e-16       7\n",
      "\n",
      "[100 rows x 3 columns]\n",
      "(100, 32, 32, 3)\n"
     ]
    },
    {
     "name": "stderr",
     "output_type": "stream",
     "text": [
      "100%|███████████████████████████████████████████████████████████████████████████████████████████████| 100/100 [00:00<00:00, 111.85it/s]\n",
      "C:\\Users\\benza-ord\\anaconda3\\envs\\keras-gpu\\lib\\site-packages\\ipykernel_launcher.py:47: UserWarning: Update your `Model` call to the Keras 2 API: `Model(inputs=[<tf.Tenso..., outputs=Tensor(\"re...)`\n"
     ]
    },
    {
     "name": "stdout",
     "output_type": "stream",
     "text": [
      "(100, 224, 224, 3)\n",
      "39 res3a_branch2a\n",
      "preds (100, 28, 28, 128)\n",
      "(100, 100352)\n"
     ]
    },
    {
     "name": "stderr",
     "output_type": "stream",
     "text": [
      "C:\\Users\\benza-ord\\anaconda3\\envs\\keras-gpu\\lib\\site-packages\\sklearn\\decomposition\\_pca.py:555: RuntimeWarning: divide by zero encountered in true_divide\n",
      "  self.explained_variance_ / total_var.sum()\n",
      " 13%|████████████▍                                                                                   | 13/100 [00:00<00:00, 117.43it/s]"
     ]
    },
    {
     "name": "stdout",
     "output_type": "stream",
     "text": [
      "         PC1           PC2  target\n",
      "0   0.000003 -6.520294e-16       3\n",
      "1   0.000003 -6.522001e-16       8\n",
      "2   0.000003 -6.522010e-16       8\n",
      "3   0.000003 -6.522011e-16       0\n",
      "4   0.000003 -6.522011e-16       6\n",
      "..       ...           ...     ...\n",
      "95  0.000003 -6.522011e-16       6\n",
      "96  0.000003  1.565278e-14       6\n",
      "97  0.000003  1.565278e-14       0\n",
      "98  0.000003  1.565278e-14       0\n",
      "99  0.000003  1.565278e-14       7\n",
      "\n",
      "[100 rows x 3 columns]\n",
      "(100, 32, 32, 3)\n"
     ]
    },
    {
     "name": "stderr",
     "output_type": "stream",
     "text": [
      "100%|███████████████████████████████████████████████████████████████████████████████████████████████| 100/100 [00:00<00:00, 113.61it/s]\n",
      "C:\\Users\\benza-ord\\anaconda3\\envs\\keras-gpu\\lib\\site-packages\\ipykernel_launcher.py:47: UserWarning: Update your `Model` call to the Keras 2 API: `Model(inputs=[<tf.Tenso..., outputs=Tensor(\"re...)`\n"
     ]
    },
    {
     "name": "stdout",
     "output_type": "stream",
     "text": [
      "(100, 224, 224, 3)\n",
      "39 res3a_branch2a\n",
      "preds (100, 28, 28, 128)\n",
      "(100, 100352)\n"
     ]
    },
    {
     "name": "stderr",
     "output_type": "stream",
     "text": [
      "C:\\Users\\benza-ord\\anaconda3\\envs\\keras-gpu\\lib\\site-packages\\sklearn\\decomposition\\_pca.py:555: RuntimeWarning: divide by zero encountered in true_divide\n",
      "  self.explained_variance_ / total_var.sum()\n",
      " 12%|███████████▌                                                                                    | 12/100 [00:00<00:00, 116.82it/s]"
     ]
    },
    {
     "name": "stdout",
     "output_type": "stream",
     "text": [
      "         PC1           PC2  target\n",
      "0   0.000002 -5.001892e-16       3\n",
      "1   0.000002 -5.000941e-16       8\n",
      "2   0.000002 -5.000953e-16       8\n",
      "3   0.000002 -5.000953e-16       0\n",
      "4   0.000002 -5.000953e-16       6\n",
      "..       ...           ...     ...\n",
      "95  0.000002 -5.000953e-16       6\n",
      "96  0.000002  1.200231e-14       6\n",
      "97  0.000002  1.200231e-14       0\n",
      "98  0.000002  1.200231e-14       0\n",
      "99  0.000002  1.200231e-14       7\n",
      "\n",
      "[100 rows x 3 columns]\n",
      "(100, 32, 32, 3)\n"
     ]
    },
    {
     "name": "stderr",
     "output_type": "stream",
     "text": [
      "100%|███████████████████████████████████████████████████████████████████████████████████████████████| 100/100 [00:00<00:00, 111.09it/s]\n",
      "C:\\Users\\benza-ord\\anaconda3\\envs\\keras-gpu\\lib\\site-packages\\ipykernel_launcher.py:47: UserWarning: Update your `Model` call to the Keras 2 API: `Model(inputs=[<tf.Tenso..., outputs=Tensor(\"re...)`\n"
     ]
    },
    {
     "name": "stdout",
     "output_type": "stream",
     "text": [
      "(100, 224, 224, 3)\n",
      "42 res3a_branch2b\n",
      "preds (100, 28, 28, 128)\n",
      "(100, 100352)\n",
      "         PC1           PC2  target\n",
      "0   0.000003 -5.175490e-08       3\n",
      "1   0.000003 -5.175501e-08       8\n",
      "2   0.000003 -5.175524e-08       8\n",
      "3   0.000003 -5.175524e-08       0\n",
      "4   0.000003 -5.175524e-08       6\n",
      "..       ...           ...     ...\n",
      "95  0.000003 -5.175524e-08       6\n",
      "96  0.000003  1.247772e-06       6\n",
      "97  0.000003  1.247772e-06       0\n",
      "98  0.000003  1.247772e-06       0\n",
      "99  0.000003  1.247772e-06       7\n",
      "\n",
      "[100 rows x 3 columns]"
     ]
    },
    {
     "name": "stderr",
     "output_type": "stream",
     "text": [
      " 12%|███████████▌                                                                                    | 12/100 [00:00<00:00, 119.71it/s]"
     ]
    },
    {
     "name": "stdout",
     "output_type": "stream",
     "text": [
      "\n",
      "(100, 32, 32, 3)\n"
     ]
    },
    {
     "name": "stderr",
     "output_type": "stream",
     "text": [
      "100%|███████████████████████████████████████████████████████████████████████████████████████████████| 100/100 [00:00<00:00, 115.69it/s]\n",
      "C:\\Users\\benza-ord\\anaconda3\\envs\\keras-gpu\\lib\\site-packages\\ipykernel_launcher.py:47: UserWarning: Update your `Model` call to the Keras 2 API: `Model(inputs=[<tf.Tenso..., outputs=Tensor(\"re...)`\n"
     ]
    },
    {
     "name": "stdout",
     "output_type": "stream",
     "text": [
      "(100, 224, 224, 3)\n",
      "42 res3a_branch2b\n",
      "preds (100, 28, 28, 128)\n",
      "(100, 100352)\n",
      "         PC1           PC2  target\n",
      "0   0.000002 -4.847645e-08       3\n",
      "1   0.000002 -4.847726e-08       8\n",
      "2   0.000002 -4.847738e-08       8\n",
      "3   0.000002 -4.847738e-08       0\n",
      "4   0.000002 -4.847738e-08       6\n",
      "..       ...           ...     ...\n",
      "95  0.000002 -4.847738e-08       6\n",
      "96  0.000002  1.161297e-06       6\n",
      "97  0.000002  1.161297e-06       0\n",
      "98  0.000002  1.161297e-06       0\n",
      "99  0.000002  1.161297e-06       7\n",
      "\n",
      "[100 rows x 3 columns]\n",
      "(100, 32, 32, 3)"
     ]
    },
    {
     "name": "stderr",
     "output_type": "stream",
     "text": [
      " 12%|███████████▌                                                                                    | 12/100 [00:00<00:00, 112.95it/s]"
     ]
    },
    {
     "name": "stdout",
     "output_type": "stream",
     "text": [
      "\n"
     ]
    },
    {
     "name": "stderr",
     "output_type": "stream",
     "text": [
      "100%|███████████████████████████████████████████████████████████████████████████████████████████████| 100/100 [00:00<00:00, 112.34it/s]\n",
      "C:\\Users\\benza-ord\\anaconda3\\envs\\keras-gpu\\lib\\site-packages\\ipykernel_launcher.py:47: UserWarning: Update your `Model` call to the Keras 2 API: `Model(inputs=[<tf.Tenso..., outputs=Tensor(\"re...)`\n"
     ]
    },
    {
     "name": "stdout",
     "output_type": "stream",
     "text": [
      "(100, 224, 224, 3)\n",
      "42 res3a_branch2b\n"
     ]
    },
    {
     "name": "stderr",
     "output_type": "stream",
     "text": [
      "\r",
      "  0%|                                                                                                          | 0/100 [00:00<?, ?it/s]"
     ]
    },
    {
     "name": "stdout",
     "output_type": "stream",
     "text": [
      "preds (100, 28, 28, 128)\n",
      "(100, 100352)\n",
      "         PC1           PC2  target\n",
      "0   0.000002 -4.184637e-08       3\n",
      "1   0.000002 -4.184627e-08       8\n",
      "2   0.000002 -4.184616e-08       8\n",
      "3   0.000002 -4.184616e-08       0\n",
      "4   0.000002 -4.184616e-08       6\n",
      "..       ...           ...     ...\n",
      "95  0.000002 -4.184616e-08       6\n",
      "96  0.000002  1.003809e-06       6\n",
      "97  0.000002  1.003809e-06       0\n",
      "98  0.000002  1.003809e-06       0\n",
      "99  0.000002  1.003809e-06       7\n",
      "\n",
      "[100 rows x 3 columns]\n",
      "(100, 32, 32, 3)\n"
     ]
    },
    {
     "name": "stderr",
     "output_type": "stream",
     "text": [
      "100%|███████████████████████████████████████████████████████████████████████████████████████████████| 100/100 [00:00<00:00, 105.83it/s]\n",
      "C:\\Users\\benza-ord\\anaconda3\\envs\\keras-gpu\\lib\\site-packages\\ipykernel_launcher.py:47: UserWarning: Update your `Model` call to the Keras 2 API: `Model(inputs=[<tf.Tenso..., outputs=Tensor(\"re...)`\n"
     ]
    },
    {
     "name": "stdout",
     "output_type": "stream",
     "text": [
      "(100, 224, 224, 3)\n",
      "42 res3a_branch2b\n",
      "preds (100, 28, 28, 128)\n",
      "(100, 100352)\n",
      "         PC1           PC2  target\n",
      "0   0.000002 -4.422555e-08       3\n",
      "1   0.000002 -4.422375e-08       8\n",
      "2   0.000002 -4.422387e-08       8\n",
      "3   0.000002 -4.422387e-08       0\n",
      "4   0.000002 -4.422387e-08       6\n",
      "..       ...           ...     ...\n",
      "95  0.000002 -4.422387e-08       6\n",
      "96  0.000002  1.055051e-06       6\n",
      "97  0.000002  1.055051e-06       0\n",
      "98  0.000002  1.055051e-06       0\n",
      "99  0.000002  1.055051e-06       7\n",
      "\n",
      "[100 rows x 3 columns]"
     ]
    },
    {
     "name": "stderr",
     "output_type": "stream",
     "text": [
      " 12%|███████████▌                                                                                    | 12/100 [00:00<00:00, 115.69it/s]"
     ]
    },
    {
     "name": "stdout",
     "output_type": "stream",
     "text": [
      "\n",
      "(100, 32, 32, 3)\n"
     ]
    },
    {
     "name": "stderr",
     "output_type": "stream",
     "text": [
      "100%|███████████████████████████████████████████████████████████████████████████████████████████████| 100/100 [00:00<00:00, 111.15it/s]\n",
      "C:\\Users\\benza-ord\\anaconda3\\envs\\keras-gpu\\lib\\site-packages\\ipykernel_launcher.py:47: UserWarning: Update your `Model` call to the Keras 2 API: `Model(inputs=[<tf.Tenso..., outputs=Tensor(\"re...)`\n"
     ]
    },
    {
     "name": "stdout",
     "output_type": "stream",
     "text": [
      "(100, 224, 224, 3)\n",
      "42 res3a_branch2b\n",
      "preds (100, 28, 28, 128)\n",
      "(100, 100352)\n",
      "         PC1           PC2  target\n",
      "0   0.000002 -2.998711e-08       3\n",
      "1   0.000002 -2.998691e-08       8\n",
      "2   0.000002 -2.998689e-08       8\n",
      "3   0.000002 -2.998689e-08       0\n",
      "4   0.000002 -2.998689e-08       6\n",
      "..       ...           ...     ...\n",
      "95  0.000002 -2.998689e-08       6\n",
      "96  0.000002  7.182254e-07       6\n",
      "97  0.000002  7.182254e-07       0\n",
      "98  0.000002  7.182254e-07       0\n",
      "99  0.000002  7.182254e-07       7\n",
      "\n",
      "[100 rows x 3 columns]\n",
      "(100, 32, 32, 3)"
     ]
    },
    {
     "name": "stderr",
     "output_type": "stream",
     "text": [
      " 12%|███████████▌                                                                                    | 12/100 [00:00<00:00, 114.04it/s]"
     ]
    },
    {
     "name": "stdout",
     "output_type": "stream",
     "text": [
      "\n"
     ]
    },
    {
     "name": "stderr",
     "output_type": "stream",
     "text": [
      "100%|███████████████████████████████████████████████████████████████████████████████████████████████| 100/100 [00:00<00:00, 111.84it/s]\n",
      "C:\\Users\\benza-ord\\anaconda3\\envs\\keras-gpu\\lib\\site-packages\\ipykernel_launcher.py:47: UserWarning: Update your `Model` call to the Keras 2 API: `Model(inputs=[<tf.Tenso..., outputs=Tensor(\"re...)`\n"
     ]
    },
    {
     "name": "stdout",
     "output_type": "stream",
     "text": [
      "(100, 224, 224, 3)\n",
      "42 res3a_branch2b\n",
      "preds (100, 28, 28, 128)\n",
      "(100, 100352)\n"
     ]
    },
    {
     "name": "stderr",
     "output_type": "stream",
     "text": [
      " 12%|███████████▌                                                                                    | 12/100 [00:00<00:00, 119.13it/s]"
     ]
    },
    {
     "name": "stdout",
     "output_type": "stream",
     "text": [
      "         PC1           PC2  target\n",
      "0   0.000002 -3.946809e-08       3\n",
      "1   0.000002 -3.946731e-08       8\n",
      "2   0.000002 -3.946727e-08       8\n",
      "3   0.000002 -3.946727e-08       0\n",
      "4   0.000002 -3.946727e-08       6\n",
      "..       ...           ...     ...\n",
      "95  0.000002 -3.946727e-08       6\n",
      "96  0.000002  9.521476e-07       6\n",
      "97  0.000002  9.521476e-07       0\n",
      "98  0.000002  9.521476e-07       0\n",
      "99  0.000002  9.521476e-07       7\n",
      "\n",
      "[100 rows x 3 columns]\n",
      "(100, 32, 32, 3)\n"
     ]
    },
    {
     "name": "stderr",
     "output_type": "stream",
     "text": [
      "100%|███████████████████████████████████████████████████████████████████████████████████████████████| 100/100 [00:00<00:00, 114.51it/s]\n",
      "C:\\Users\\benza-ord\\anaconda3\\envs\\keras-gpu\\lib\\site-packages\\ipykernel_launcher.py:47: UserWarning: Update your `Model` call to the Keras 2 API: `Model(inputs=[<tf.Tenso..., outputs=Tensor(\"re...)`\n"
     ]
    },
    {
     "name": "stdout",
     "output_type": "stream",
     "text": [
      "(100, 224, 224, 3)\n",
      "42 res3a_branch2b\n",
      "preds (100, 28, 28, 128)\n",
      "(100, 100352)\n",
      "         PC1           PC2  target\n",
      "0   0.000002 -4.172838e-08       3\n",
      "1   0.000002 -4.172896e-08       8\n",
      "2   0.000002 -4.172897e-08       8\n",
      "3   0.000002 -4.172897e-08       0\n",
      "4   0.000002 -4.172897e-08       6\n",
      "..       ...           ...     ...\n",
      "95  0.000002 -4.172897e-08       6\n",
      "96  0.000002  1.001104e-06       6\n",
      "97  0.000002  1.001104e-06       0\n",
      "98  0.000002  1.001104e-06       0\n",
      "99  0.000002  1.001104e-06       7\n",
      "\n",
      "[100 rows x 3 columns]"
     ]
    },
    {
     "name": "stderr",
     "output_type": "stream",
     "text": [
      " 12%|███████████▌                                                                                    | 12/100 [00:00<00:00, 112.45it/s]"
     ]
    },
    {
     "name": "stdout",
     "output_type": "stream",
     "text": [
      "\n",
      "(100, 32, 32, 3)\n"
     ]
    },
    {
     "name": "stderr",
     "output_type": "stream",
     "text": [
      "100%|███████████████████████████████████████████████████████████████████████████████████████████████| 100/100 [00:00<00:00, 108.63it/s]\n",
      "C:\\Users\\benza-ord\\anaconda3\\envs\\keras-gpu\\lib\\site-packages\\ipykernel_launcher.py:47: UserWarning: Update your `Model` call to the Keras 2 API: `Model(inputs=[<tf.Tenso..., outputs=Tensor(\"re...)`\n"
     ]
    },
    {
     "name": "stdout",
     "output_type": "stream",
     "text": [
      "(100, 224, 224, 3)\n",
      "42 res3a_branch2b\n",
      "preds (100, 28, 28, 128)\n",
      "(100, 100352)\n",
      "         PC1           PC2  target\n",
      "0   0.000002 -5.250240e-08       3\n",
      "1   0.000002 -5.250240e-08       8\n",
      "2   0.000002 -5.250212e-08       8\n",
      "3   0.000002 -5.250212e-08       0\n",
      "4   0.000002 -5.250212e-08       6\n",
      "..       ...           ...     ...\n",
      "95  0.000002 -5.250212e-08       6\n",
      "96  0.000002  1.262406e-06       6\n",
      "97  0.000002  1.262406e-06       0\n",
      "98  0.000002  1.262406e-06       0\n",
      "99  0.000002  1.262406e-06       7\n",
      "\n",
      "[100 rows x 3 columns]\n",
      "(100, 32, 32, 3)"
     ]
    },
    {
     "name": "stderr",
     "output_type": "stream",
     "text": [
      " 12%|███████████▌                                                                                    | 12/100 [00:00<00:00, 117.96it/s]"
     ]
    },
    {
     "name": "stdout",
     "output_type": "stream",
     "text": [
      "\n"
     ]
    },
    {
     "name": "stderr",
     "output_type": "stream",
     "text": [
      "100%|███████████████████████████████████████████████████████████████████████████████████████████████| 100/100 [00:00<00:00, 115.65it/s]\n",
      "C:\\Users\\benza-ord\\anaconda3\\envs\\keras-gpu\\lib\\site-packages\\ipykernel_launcher.py:47: UserWarning: Update your `Model` call to the Keras 2 API: `Model(inputs=[<tf.Tenso..., outputs=Tensor(\"re...)`\n"
     ]
    },
    {
     "name": "stdout",
     "output_type": "stream",
     "text": [
      "(100, 224, 224, 3)\n",
      "42 res3a_branch2b\n",
      "preds (100, 28, 28, 128)\n",
      "(100, 100352)\n",
      "         PC1           PC2  target\n",
      "0   0.000003 -5.675984e-08       3\n",
      "1   0.000003 -5.675988e-08       8\n",
      "2   0.000003 -5.675983e-08       8\n",
      "3   0.000003 -5.675983e-08       0\n",
      "4   0.000003 -5.675982e-08       6\n",
      "..       ...           ...     ...\n",
      "95  0.000003 -5.675982e-08       6\n",
      "96  0.000003  1.365017e-06       6\n",
      "97  0.000003  1.365017e-06       0\n",
      "98  0.000003  1.365017e-06       0\n",
      "99  0.000003  1.365017e-06       7\n",
      "\n",
      "[100 rows x 3 columns]\n",
      "(100, 32, 32, 3)"
     ]
    },
    {
     "name": "stderr",
     "output_type": "stream",
     "text": [
      " 12%|███████████▌                                                                                    | 12/100 [00:00<00:00, 119.13it/s]"
     ]
    },
    {
     "name": "stdout",
     "output_type": "stream",
     "text": [
      "\n"
     ]
    },
    {
     "name": "stderr",
     "output_type": "stream",
     "text": [
      "100%|███████████████████████████████████████████████████████████████████████████████████████████████| 100/100 [00:00<00:00, 115.92it/s]\n",
      "C:\\Users\\benza-ord\\anaconda3\\envs\\keras-gpu\\lib\\site-packages\\ipykernel_launcher.py:47: UserWarning: Update your `Model` call to the Keras 2 API: `Model(inputs=[<tf.Tenso..., outputs=Tensor(\"re...)`\n"
     ]
    },
    {
     "name": "stdout",
     "output_type": "stream",
     "text": [
      "(100, 224, 224, 3)\n",
      "42 res3a_branch2b\n",
      "preds (100, 28, 28, 128)\n",
      "(100, 100352)\n",
      "         PC1           PC2  target\n",
      "0   0.000002 -5.294157e-08       3\n",
      "1   0.000002 -5.294236e-08       8\n",
      "2   0.000002 -5.294230e-08       8\n",
      "3   0.000002 -5.294230e-08       0\n",
      "4   0.000002 -5.294230e-08       6\n",
      "..       ...           ...     ...\n",
      "95  0.000002 -5.294230e-08       6\n",
      "96  0.000002  1.267769e-06       6\n",
      "97  0.000002  1.267769e-06       0\n",
      "98  0.000002  1.267769e-06       0\n",
      "99  0.000002  1.267769e-06       7\n",
      "\n",
      "[100 rows x 3 columns]\n",
      "(100, 32, 32, 3)"
     ]
    },
    {
     "name": "stderr",
     "output_type": "stream",
     "text": [
      " 12%|███████████▌                                                                                    | 12/100 [00:00<00:00, 117.96it/s]"
     ]
    },
    {
     "name": "stdout",
     "output_type": "stream",
     "text": [
      "\n"
     ]
    },
    {
     "name": "stderr",
     "output_type": "stream",
     "text": [
      "100%|███████████████████████████████████████████████████████████████████████████████████████████████| 100/100 [00:00<00:00, 115.91it/s]\n",
      "C:\\Users\\benza-ord\\anaconda3\\envs\\keras-gpu\\lib\\site-packages\\ipykernel_launcher.py:47: UserWarning: Update your `Model` call to the Keras 2 API: `Model(inputs=[<tf.Tenso..., outputs=Tensor(\"re...)`\n"
     ]
    },
    {
     "name": "stdout",
     "output_type": "stream",
     "text": [
      "(100, 224, 224, 3)\n",
      "45 res3a_branch2c\n",
      "preds (100, 28, 28, 512)\n",
      "(100, 401408)\n"
     ]
    },
    {
     "name": "stderr",
     "output_type": "stream",
     "text": [
      " 12%|███████████▌                                                                                    | 12/100 [00:00<00:00, 117.91it/s]"
     ]
    },
    {
     "name": "stdout",
     "output_type": "stream",
     "text": [
      "         PC1           PC2  target\n",
      "0   0.000006 -1.211554e-07       3\n",
      "1   0.000006 -1.211543e-07       8\n",
      "2   0.000006 -1.211538e-07       8\n",
      "3   0.000006 -1.211538e-07       0\n",
      "4   0.000006 -1.211538e-07       6\n",
      "..       ...           ...     ...\n",
      "95  0.000006 -1.211538e-07       6\n",
      "96  0.000006  2.909327e-06       6\n",
      "97  0.000006  2.909327e-06       0\n",
      "98  0.000006  2.909327e-06       0\n",
      "99  0.000006  2.909327e-06       7\n",
      "\n",
      "[100 rows x 3 columns]\n",
      "(100, 32, 32, 3)\n"
     ]
    },
    {
     "name": "stderr",
     "output_type": "stream",
     "text": [
      "100%|███████████████████████████████████████████████████████████████████████████████████████████████| 100/100 [00:00<00:00, 116.18it/s]\n",
      "C:\\Users\\benza-ord\\anaconda3\\envs\\keras-gpu\\lib\\site-packages\\ipykernel_launcher.py:47: UserWarning: Update your `Model` call to the Keras 2 API: `Model(inputs=[<tf.Tenso..., outputs=Tensor(\"re...)`\n"
     ]
    },
    {
     "name": "stdout",
     "output_type": "stream",
     "text": [
      "(100, 224, 224, 3)\n",
      "45 res3a_branch2c\n",
      "preds (100, 28, 28, 512)\n",
      "(100, 401408)\n"
     ]
    },
    {
     "name": "stderr",
     "output_type": "stream",
     "text": [
      " 12%|███████████▌                                                                                    | 12/100 [00:00<00:00, 112.45it/s]"
     ]
    },
    {
     "name": "stdout",
     "output_type": "stream",
     "text": [
      "         PC1           PC2  target\n",
      "0   0.000003 -1.063889e-07       3\n",
      "1   0.000003 -1.063899e-07       8\n",
      "2   0.000003 -1.063890e-07       8\n",
      "3   0.000003 -1.063890e-07       0\n",
      "4   0.000003 -1.063890e-07       6\n",
      "..       ...           ...     ...\n",
      "95  0.000003 -1.063890e-07       6\n",
      "96  0.000003  2.554691e-06       6\n",
      "97  0.000003  2.554691e-06       0\n",
      "98  0.000003  2.554691e-06       0\n",
      "99  0.000003  2.554691e-06       7\n",
      "\n",
      "[100 rows x 3 columns]\n",
      "(100, 32, 32, 3)\n"
     ]
    },
    {
     "name": "stderr",
     "output_type": "stream",
     "text": [
      "100%|███████████████████████████████████████████████████████████████████████████████████████████████| 100/100 [00:00<00:00, 111.83it/s]\n",
      "C:\\Users\\benza-ord\\anaconda3\\envs\\keras-gpu\\lib\\site-packages\\ipykernel_launcher.py:47: UserWarning: Update your `Model` call to the Keras 2 API: `Model(inputs=[<tf.Tenso..., outputs=Tensor(\"re...)`\n"
     ]
    },
    {
     "name": "stdout",
     "output_type": "stream",
     "text": [
      "(100, 224, 224, 3)\n",
      "45 res3a_branch2c\n",
      "preds (100, 28, 28, 512)\n",
      "(100, 401408)\n"
     ]
    },
    {
     "name": "stderr",
     "output_type": "stream",
     "text": [
      " 12%|███████████▌                                                                                    | 12/100 [00:00<00:00, 119.09it/s]"
     ]
    },
    {
     "name": "stdout",
     "output_type": "stream",
     "text": [
      "         PC1           PC2  target\n",
      "0   0.000004 -9.792564e-08       3\n",
      "1   0.000004 -9.792525e-08       8\n",
      "2   0.000004 -9.792636e-08       8\n",
      "3   0.000004 -9.792636e-08       0\n",
      "4   0.000004 -9.792636e-08       6\n",
      "..       ...           ...     ...\n",
      "95  0.000004 -9.792636e-08       6\n",
      "96  0.000004  2.352462e-06       6\n",
      "97  0.000004  2.352462e-06       0\n",
      "98  0.000004  2.352462e-06       0\n",
      "99  0.000004  2.352462e-06       7\n",
      "\n",
      "[100 rows x 3 columns]\n",
      "(100, 32, 32, 3)\n"
     ]
    },
    {
     "name": "stderr",
     "output_type": "stream",
     "text": [
      "100%|███████████████████████████████████████████████████████████████████████████████████████████████| 100/100 [00:00<00:00, 111.01it/s]\n",
      "C:\\Users\\benza-ord\\anaconda3\\envs\\keras-gpu\\lib\\site-packages\\ipykernel_launcher.py:47: UserWarning: Update your `Model` call to the Keras 2 API: `Model(inputs=[<tf.Tenso..., outputs=Tensor(\"re...)`\n"
     ]
    },
    {
     "name": "stdout",
     "output_type": "stream",
     "text": [
      "(100, 224, 224, 3)\n",
      "45 res3a_branch2c\n",
      "preds (100, 28, 28, 512)\n",
      "(100, 401408)\n"
     ]
    },
    {
     "name": "stderr",
     "output_type": "stream",
     "text": [
      " 11%|██████████▌                                                                                     | 11/100 [00:00<00:00, 109.20it/s]"
     ]
    },
    {
     "name": "stdout",
     "output_type": "stream",
     "text": [
      "         PC1           PC2  target\n",
      "0   0.000004 -1.013252e-07       3\n",
      "1   0.000004 -1.013248e-07       8\n",
      "2   0.000004 -1.013249e-07       8\n",
      "3   0.000004 -1.013249e-07       0\n",
      "4   0.000004 -1.013249e-07       6\n",
      "..       ...           ...     ...\n",
      "95  0.000004 -1.013249e-07       6\n",
      "96  0.000004  2.425490e-06       6\n",
      "97  0.000004  2.425490e-06       0\n",
      "98  0.000004  2.425490e-06       0\n",
      "99  0.000004  2.425490e-06       7\n",
      "\n",
      "[100 rows x 3 columns]\n",
      "(100, 32, 32, 3)\n"
     ]
    },
    {
     "name": "stderr",
     "output_type": "stream",
     "text": [
      "100%|███████████████████████████████████████████████████████████████████████████████████████████████| 100/100 [00:00<00:00, 106.28it/s]\n",
      "C:\\Users\\benza-ord\\anaconda3\\envs\\keras-gpu\\lib\\site-packages\\ipykernel_launcher.py:47: UserWarning: Update your `Model` call to the Keras 2 API: `Model(inputs=[<tf.Tenso..., outputs=Tensor(\"re...)`\n"
     ]
    },
    {
     "name": "stdout",
     "output_type": "stream",
     "text": [
      "(100, 224, 224, 3)\n",
      "45 res3a_branch2c\n",
      "preds (100, 28, 28, 512)\n",
      "(100, 401408)\n"
     ]
    },
    {
     "name": "stderr",
     "output_type": "stream",
     "text": [
      " 11%|██████████▌                                                                                     | 11/100 [00:00<00:00, 100.27it/s]"
     ]
    },
    {
     "name": "stdout",
     "output_type": "stream",
     "text": [
      "         PC1           PC2  target\n",
      "0   0.000003 -6.960095e-08       3\n",
      "1   0.000003 -6.960298e-08       8\n",
      "2   0.000003 -6.960308e-08       8\n",
      "3   0.000003 -6.960308e-08       0\n",
      "4   0.000003 -6.960308e-08       6\n",
      "..       ...           ...     ...\n",
      "95  0.000003 -6.960308e-08       6\n",
      "96  0.000003  1.672096e-06       6\n",
      "97  0.000003  1.672096e-06       0\n",
      "98  0.000003  1.672096e-06       0\n",
      "99  0.000003  1.672096e-06       7\n",
      "\n",
      "[100 rows x 3 columns]\n",
      "(100, 32, 32, 3)\n"
     ]
    },
    {
     "name": "stderr",
     "output_type": "stream",
     "text": [
      "100%|███████████████████████████████████████████████████████████████████████████████████████████████| 100/100 [00:00<00:00, 104.63it/s]\n",
      "C:\\Users\\benza-ord\\anaconda3\\envs\\keras-gpu\\lib\\site-packages\\ipykernel_launcher.py:47: UserWarning: Update your `Model` call to the Keras 2 API: `Model(inputs=[<tf.Tenso..., outputs=Tensor(\"re...)`\n"
     ]
    },
    {
     "name": "stdout",
     "output_type": "stream",
     "text": [
      "(100, 224, 224, 3)\n",
      "45 res3a_branch2c\n",
      "preds (100, 28, 28, 512)\n",
      "(100, 401408)\n"
     ]
    },
    {
     "name": "stderr",
     "output_type": "stream",
     "text": [
      " 12%|███████████▌                                                                                    | 12/100 [00:00<00:00, 119.13it/s]"
     ]
    },
    {
     "name": "stdout",
     "output_type": "stream",
     "text": [
      "         PC1           PC2  target\n",
      "0   0.000004 -9.045791e-08       3\n",
      "1   0.000004 -9.045873e-08       8\n",
      "2   0.000004 -9.045858e-08       8\n",
      "3   0.000004 -9.045858e-08       0\n",
      "4   0.000004 -9.045858e-08       6\n",
      "..       ...           ...     ...\n",
      "95  0.000004 -9.045858e-08       6\n",
      "96  0.000004  2.171284e-06       6\n",
      "97  0.000004  2.171284e-06       0\n",
      "98  0.000004  2.171284e-06       0\n",
      "99  0.000004  2.171284e-06       7\n",
      "\n",
      "[100 rows x 3 columns]\n",
      "(100, 32, 32, 3)\n"
     ]
    },
    {
     "name": "stderr",
     "output_type": "stream",
     "text": [
      "100%|███████████████████████████████████████████████████████████████████████████████████████████████| 100/100 [00:00<00:00, 115.65it/s]\n",
      "C:\\Users\\benza-ord\\anaconda3\\envs\\keras-gpu\\lib\\site-packages\\ipykernel_launcher.py:47: UserWarning: Update your `Model` call to the Keras 2 API: `Model(inputs=[<tf.Tenso..., outputs=Tensor(\"re...)`\n"
     ]
    },
    {
     "name": "stdout",
     "output_type": "stream",
     "text": [
      "(100, 224, 224, 3)\n",
      "45 res3a_branch2c\n",
      "preds (100, 28, 28, 512)\n",
      "(100, 401408)\n"
     ]
    },
    {
     "name": "stderr",
     "output_type": "stream",
     "text": [
      "  9%|████████▊                                                                                         | 9/100 [00:00<00:01, 85.92it/s]"
     ]
    },
    {
     "name": "stdout",
     "output_type": "stream",
     "text": [
      "         PC1           PC2  target\n",
      "0   0.000004 -9.628491e-08       3\n",
      "1   0.000004 -9.628091e-08       8\n",
      "2   0.000004 -9.628106e-08       8\n",
      "3   0.000004 -9.628106e-08       0\n",
      "4   0.000004 -9.628106e-08       6\n",
      "..       ...           ...     ...\n",
      "95  0.000004 -9.628106e-08       6\n",
      "96  0.000004  2.310373e-06       6\n",
      "97  0.000004  2.310373e-06       0\n",
      "98  0.000004  2.310373e-06       0\n",
      "99  0.000004  2.310373e-06       7\n",
      "\n",
      "[100 rows x 3 columns]\n",
      "(100, 32, 32, 3)\n"
     ]
    },
    {
     "name": "stderr",
     "output_type": "stream",
     "text": [
      "100%|███████████████████████████████████████████████████████████████████████████████████████████████| 100/100 [00:00<00:00, 110.54it/s]\n",
      "C:\\Users\\benza-ord\\anaconda3\\envs\\keras-gpu\\lib\\site-packages\\ipykernel_launcher.py:47: UserWarning: Update your `Model` call to the Keras 2 API: `Model(inputs=[<tf.Tenso..., outputs=Tensor(\"re...)`\n"
     ]
    },
    {
     "name": "stdout",
     "output_type": "stream",
     "text": [
      "(100, 224, 224, 3)\n",
      "45 res3a_branch2c\n",
      "preds (100, 28, 28, 512)\n",
      "(100, 401408)\n"
     ]
    },
    {
     "name": "stderr",
     "output_type": "stream",
     "text": [
      " 12%|███████████▌                                                                                    | 12/100 [00:00<00:00, 116.78it/s]"
     ]
    },
    {
     "name": "stdout",
     "output_type": "stream",
     "text": [
      "         PC1           PC2  target\n",
      "0   0.000004 -1.164135e-07       3\n",
      "1   0.000004 -1.164145e-07       8\n",
      "2   0.000004 -1.164140e-07       8\n",
      "3   0.000004 -1.164140e-07       0\n",
      "4   0.000004 -1.164140e-07       6\n",
      "..       ...           ...     ...\n",
      "95  0.000004 -1.164140e-07       6\n",
      "96  0.000004  2.792127e-06       6\n",
      "97  0.000004  2.792127e-06       0\n",
      "98  0.000004  2.792127e-06       0\n",
      "99  0.000004  2.792127e-06       7\n",
      "\n",
      "[100 rows x 3 columns]\n",
      "(100, 32, 32, 3)\n"
     ]
    },
    {
     "name": "stderr",
     "output_type": "stream",
     "text": [
      "100%|███████████████████████████████████████████████████████████████████████████████████████████████| 100/100 [00:00<00:00, 109.23it/s]\n",
      "C:\\Users\\benza-ord\\anaconda3\\envs\\keras-gpu\\lib\\site-packages\\ipykernel_launcher.py:47: UserWarning: Update your `Model` call to the Keras 2 API: `Model(inputs=[<tf.Tenso..., outputs=Tensor(\"re...)`\n"
     ]
    },
    {
     "name": "stdout",
     "output_type": "stream",
     "text": [
      "(100, 224, 224, 3)\n",
      "45 res3a_branch2c\n",
      "preds (100, 28, 28, 512)\n",
      "(100, 401408)\n"
     ]
    },
    {
     "name": "stderr",
     "output_type": "stream",
     "text": [
      " 12%|███████████▌                                                                                    | 12/100 [00:00<00:00, 116.82it/s]"
     ]
    },
    {
     "name": "stdout",
     "output_type": "stream",
     "text": [
      "         PC1           PC2  target\n",
      "0   0.000006 -1.304633e-07       3\n",
      "1   0.000006 -1.304659e-07       8\n",
      "2   0.000006 -1.304658e-07       8\n",
      "3   0.000006 -1.304658e-07       0\n",
      "4   0.000006 -1.304658e-07       6\n",
      "..       ...           ...     ...\n",
      "95  0.000006 -1.304658e-07       6\n",
      "96  0.000006  3.134074e-06       6\n",
      "97  0.000006  3.134074e-06       0\n",
      "98  0.000006  3.134074e-06       0\n",
      "99  0.000006  3.134074e-06       7\n",
      "\n",
      "[100 rows x 3 columns]\n",
      "(100, 32, 32, 3)\n"
     ]
    },
    {
     "name": "stderr",
     "output_type": "stream",
     "text": [
      "100%|███████████████████████████████████████████████████████████████████████████████████████████████| 100/100 [00:00<00:00, 112.08it/s]\n",
      "C:\\Users\\benza-ord\\anaconda3\\envs\\keras-gpu\\lib\\site-packages\\ipykernel_launcher.py:47: UserWarning: Update your `Model` call to the Keras 2 API: `Model(inputs=[<tf.Tenso..., outputs=Tensor(\"re...)`\n"
     ]
    },
    {
     "name": "stdout",
     "output_type": "stream",
     "text": [
      "(100, 224, 224, 3)\n",
      "45 res3a_branch2c\n",
      "preds (100, 28, 28, 512)\n",
      "(100, 401408)\n"
     ]
    },
    {
     "name": "stderr",
     "output_type": "stream",
     "text": [
      " 13%|████████████▍                                                                                   | 13/100 [00:00<00:00, 120.66it/s]"
     ]
    },
    {
     "name": "stdout",
     "output_type": "stream",
     "text": [
      "         PC1           PC2  target\n",
      "0   0.000005 -1.221850e-07       3\n",
      "1   0.000005 -1.221852e-07       8\n",
      "2   0.000005 -1.221869e-07       8\n",
      "3   0.000005 -1.221869e-07       0\n",
      "4   0.000005 -1.221869e-07       6\n",
      "..       ...           ...     ...\n",
      "95  0.000005 -1.221869e-07       6\n",
      "96  0.000005  2.928234e-06       6\n",
      "97  0.000005  2.928234e-06       0\n",
      "98  0.000005  2.928234e-06       0\n",
      "99  0.000005  2.928234e-06       7\n",
      "\n",
      "[100 rows x 3 columns]\n",
      "(100, 32, 32, 3)\n"
     ]
    },
    {
     "name": "stderr",
     "output_type": "stream",
     "text": [
      "100%|███████████████████████████████████████████████████████████████████████████████████████████████| 100/100 [00:00<00:00, 115.40it/s]\n",
      "C:\\Users\\benza-ord\\anaconda3\\envs\\keras-gpu\\lib\\site-packages\\ipykernel_launcher.py:47: UserWarning: Update your `Model` call to the Keras 2 API: `Model(inputs=[<tf.Tenso..., outputs=Tensor(\"re...)`\n"
     ]
    },
    {
     "name": "stdout",
     "output_type": "stream",
     "text": [
      "(100, 224, 224, 3)\n",
      "46 res3a_branch1\n",
      "preds (100, 28, 28, 512)\n",
      "(100, 401408)\n"
     ]
    },
    {
     "name": "stderr",
     "output_type": "stream",
     "text": [
      "C:\\Users\\benza-ord\\anaconda3\\envs\\keras-gpu\\lib\\site-packages\\sklearn\\decomposition\\_pca.py:555: RuntimeWarning: divide by zero encountered in true_divide\n",
      "  self.explained_variance_ / total_var.sum()\n",
      " 12%|███████████▌                                                                                    | 12/100 [00:00<00:00, 119.13it/s]"
     ]
    },
    {
     "name": "stdout",
     "output_type": "stream",
     "text": [
      "         PC1           PC2  target\n",
      "0   0.000006 -3.326184e-16       3\n",
      "1   0.000006 -3.368109e-16       8\n",
      "2   0.000006 -3.368141e-16       8\n",
      "3   0.000006 -3.368132e-16       0\n",
      "4   0.000006 -3.368132e-16       6\n",
      "..       ...           ...     ...\n",
      "95  0.000006 -3.368132e-16       6\n",
      "96  0.000006  8.082464e-15       6\n",
      "97  0.000006  8.082464e-15       0\n",
      "98  0.000006  8.082464e-15       0\n",
      "99  0.000006  8.082464e-15       7\n",
      "\n",
      "[100 rows x 3 columns]\n",
      "(100, 32, 32, 3)\n"
     ]
    },
    {
     "name": "stderr",
     "output_type": "stream",
     "text": [
      "100%|███████████████████████████████████████████████████████████████████████████████████████████████| 100/100 [00:00<00:00, 114.85it/s]\n",
      "C:\\Users\\benza-ord\\anaconda3\\envs\\keras-gpu\\lib\\site-packages\\ipykernel_launcher.py:47: UserWarning: Update your `Model` call to the Keras 2 API: `Model(inputs=[<tf.Tenso..., outputs=Tensor(\"re...)`\n"
     ]
    },
    {
     "name": "stdout",
     "output_type": "stream",
     "text": [
      "(100, 224, 224, 3)\n",
      "46 res3a_branch1\n",
      "preds (100, 28, 28, 512)\n",
      "(100, 401408)\n"
     ]
    },
    {
     "name": "stderr",
     "output_type": "stream",
     "text": [
      "C:\\Users\\benza-ord\\anaconda3\\envs\\keras-gpu\\lib\\site-packages\\sklearn\\decomposition\\_pca.py:555: RuntimeWarning: divide by zero encountered in true_divide\n",
      "  self.explained_variance_ / total_var.sum()\n",
      " 12%|███████████▌                                                                                    | 12/100 [00:00<00:00, 119.09it/s]"
     ]
    },
    {
     "name": "stdout",
     "output_type": "stream",
     "text": [
      "         PC1           PC2  target\n",
      "0   0.000003 -1.207320e-15       3\n",
      "1   0.000003 -1.207114e-15       8\n",
      "2   0.000003 -1.207118e-15       8\n",
      "3   0.000003 -1.207118e-15       0\n",
      "4   0.000003 -1.207118e-15       6\n",
      "..       ...           ...     ...\n",
      "95  0.000003 -1.207118e-15       6\n",
      "96  0.000003  2.897087e-14       6\n",
      "97  0.000003  2.897087e-14       0\n",
      "98  0.000003  2.897087e-14       0\n",
      "99  0.000003  2.897087e-14       7\n",
      "\n",
      "[100 rows x 3 columns]\n",
      "(100, 32, 32, 3)\n"
     ]
    },
    {
     "name": "stderr",
     "output_type": "stream",
     "text": [
      "100%|███████████████████████████████████████████████████████████████████████████████████████████████| 100/100 [00:00<00:00, 115.55it/s]\n",
      "C:\\Users\\benza-ord\\anaconda3\\envs\\keras-gpu\\lib\\site-packages\\ipykernel_launcher.py:47: UserWarning: Update your `Model` call to the Keras 2 API: `Model(inputs=[<tf.Tenso..., outputs=Tensor(\"re...)`\n"
     ]
    },
    {
     "name": "stdout",
     "output_type": "stream",
     "text": [
      "(100, 224, 224, 3)\n",
      "46 res3a_branch1\n",
      "preds (100, 28, 28, 512)\n",
      "(100, 401408)\n"
     ]
    },
    {
     "name": "stderr",
     "output_type": "stream",
     "text": [
      "C:\\Users\\benza-ord\\anaconda3\\envs\\keras-gpu\\lib\\site-packages\\sklearn\\decomposition\\_pca.py:555: RuntimeWarning: divide by zero encountered in true_divide\n",
      "  self.explained_variance_ / total_var.sum()\n",
      " 13%|████████████▍                                                                                   | 13/100 [00:00<00:00, 119.59it/s]"
     ]
    },
    {
     "name": "stdout",
     "output_type": "stream",
     "text": [
      "         PC1           PC2  target\n",
      "0   0.000004 -5.795176e-16       3\n",
      "1   0.000004 -5.898405e-16       8\n",
      "2   0.000004 -5.898457e-16       8\n",
      "3   0.000004 -5.898458e-16       0\n",
      "4   0.000004 -5.898458e-16       6\n",
      "..       ...           ...     ...\n",
      "95  0.000004 -5.898458e-16       6\n",
      "96  0.000004  1.415367e-14       6\n",
      "97  0.000004  1.415367e-14       0\n",
      "98  0.000004  1.415367e-14       0\n",
      "99  0.000004  1.415367e-14       7\n",
      "\n",
      "[100 rows x 3 columns]\n",
      "(100, 32, 32, 3)\n"
     ]
    },
    {
     "name": "stderr",
     "output_type": "stream",
     "text": [
      "100%|███████████████████████████████████████████████████████████████████████████████████████████████| 100/100 [00:00<00:00, 112.56it/s]\n",
      "C:\\Users\\benza-ord\\anaconda3\\envs\\keras-gpu\\lib\\site-packages\\ipykernel_launcher.py:47: UserWarning: Update your `Model` call to the Keras 2 API: `Model(inputs=[<tf.Tenso..., outputs=Tensor(\"re...)`\n"
     ]
    },
    {
     "name": "stdout",
     "output_type": "stream",
     "text": [
      "(100, 224, 224, 3)\n",
      "46 res3a_branch1\n",
      "preds (100, 28, 28, 512)\n",
      "(100, 401408)\n"
     ]
    },
    {
     "name": "stderr",
     "output_type": "stream",
     "text": [
      "C:\\Users\\benza-ord\\anaconda3\\envs\\keras-gpu\\lib\\site-packages\\sklearn\\decomposition\\_pca.py:555: RuntimeWarning: divide by zero encountered in true_divide\n",
      "  self.explained_variance_ / total_var.sum()\n",
      " 12%|███████████▌                                                                                    | 12/100 [00:00<00:00, 117.96it/s]"
     ]
    },
    {
     "name": "stdout",
     "output_type": "stream",
     "text": [
      "         PC1           PC2  target\n",
      "0   0.000004 -1.171463e-15       3\n",
      "1   0.000004 -1.180115e-15       8\n",
      "2   0.000004 -1.180117e-15       8\n",
      "3   0.000004 -1.180116e-15       0\n",
      "4   0.000004 -1.180116e-15       6\n",
      "..       ...           ...     ...\n",
      "95  0.000004 -1.180116e-15       6\n",
      "96  0.000004  2.832065e-14       6\n",
      "97  0.000004  2.832065e-14       0\n",
      "98  0.000004  2.832065e-14       0\n",
      "99  0.000004  2.832065e-14       7\n",
      "\n",
      "[100 rows x 3 columns]\n",
      "(100, 32, 32, 3)\n"
     ]
    },
    {
     "name": "stderr",
     "output_type": "stream",
     "text": [
      "100%|███████████████████████████████████████████████████████████████████████████████████████████████| 100/100 [00:00<00:00, 110.91it/s]\n",
      "C:\\Users\\benza-ord\\anaconda3\\envs\\keras-gpu\\lib\\site-packages\\ipykernel_launcher.py:47: UserWarning: Update your `Model` call to the Keras 2 API: `Model(inputs=[<tf.Tenso..., outputs=Tensor(\"re...)`\n"
     ]
    },
    {
     "name": "stdout",
     "output_type": "stream",
     "text": [
      "(100, 224, 224, 3)\n",
      "46 res3a_branch1\n",
      "preds (100, 28, 28, 512)\n",
      "(100, 401408)\n"
     ]
    },
    {
     "name": "stderr",
     "output_type": "stream",
     "text": [
      "C:\\Users\\benza-ord\\anaconda3\\envs\\keras-gpu\\lib\\site-packages\\sklearn\\decomposition\\_pca.py:555: RuntimeWarning: divide by zero encountered in true_divide\n",
      "  self.explained_variance_ / total_var.sum()\n",
      " 12%|███████████▌                                                                                    | 12/100 [00:00<00:00, 111.41it/s]"
     ]
    },
    {
     "name": "stdout",
     "output_type": "stream",
     "text": [
      "         PC1           PC2  target\n",
      "0   0.000003 -1.320553e-16       3\n",
      "1   0.000003 -1.292559e-16       8\n",
      "2   0.000003 -1.292529e-16       8\n",
      "3   0.000003 -1.292528e-16       0\n",
      "4   0.000003 -1.292528e-16       6\n",
      "..       ...           ...     ...\n",
      "95  0.000003 -1.292528e-16       6\n",
      "96  0.000003  3.102770e-15       6\n",
      "97  0.000003  3.102770e-15       0\n",
      "98  0.000003  3.102770e-15       0\n",
      "99  0.000003  3.102770e-15       7\n",
      "\n",
      "[100 rows x 3 columns]\n",
      "(100, 32, 32, 3)\n"
     ]
    },
    {
     "name": "stderr",
     "output_type": "stream",
     "text": [
      "100%|███████████████████████████████████████████████████████████████████████████████████████████████| 100/100 [00:00<00:00, 113.76it/s]\n",
      "C:\\Users\\benza-ord\\anaconda3\\envs\\keras-gpu\\lib\\site-packages\\ipykernel_launcher.py:47: UserWarning: Update your `Model` call to the Keras 2 API: `Model(inputs=[<tf.Tenso..., outputs=Tensor(\"re...)`\n"
     ]
    },
    {
     "name": "stdout",
     "output_type": "stream",
     "text": [
      "(100, 224, 224, 3)\n",
      "46 res3a_branch1\n",
      "preds (100, 28, 28, 512)\n",
      "(100, 401408)\n"
     ]
    },
    {
     "name": "stderr",
     "output_type": "stream",
     "text": [
      "C:\\Users\\benza-ord\\anaconda3\\envs\\keras-gpu\\lib\\site-packages\\sklearn\\decomposition\\_pca.py:555: RuntimeWarning: divide by zero encountered in true_divide\n",
      "  self.explained_variance_ / total_var.sum()\n",
      " 13%|████████████▍                                                                                   | 13/100 [00:00<00:00, 120.69it/s]"
     ]
    },
    {
     "name": "stdout",
     "output_type": "stream",
     "text": [
      "         PC1           PC2  target\n",
      "0   0.000004 -1.458152e-15       3\n",
      "1   0.000004 -1.458393e-15       8\n",
      "2   0.000004 -1.458400e-15       8\n",
      "3   0.000004 -1.458397e-15       0\n",
      "4   0.000004 -1.458397e-15       6\n",
      "..       ...           ...     ...\n",
      "95  0.000004 -1.458397e-15       6\n",
      "96  0.000004  3.500149e-14       6\n",
      "97  0.000004  3.500149e-14       0\n",
      "98  0.000004  3.500149e-14       0\n",
      "99  0.000004  3.500149e-14       7\n",
      "\n",
      "[100 rows x 3 columns]\n",
      "(100, 32, 32, 3)\n"
     ]
    },
    {
     "name": "stderr",
     "output_type": "stream",
     "text": [
      "100%|███████████████████████████████████████████████████████████████████████████████████████████████| 100/100 [00:00<00:00, 114.59it/s]\n",
      "C:\\Users\\benza-ord\\anaconda3\\envs\\keras-gpu\\lib\\site-packages\\ipykernel_launcher.py:47: UserWarning: Update your `Model` call to the Keras 2 API: `Model(inputs=[<tf.Tenso..., outputs=Tensor(\"re...)`\n"
     ]
    },
    {
     "name": "stdout",
     "output_type": "stream",
     "text": [
      "(100, 224, 224, 3)\n",
      "46 res3a_branch1\n",
      "preds (100, 28, 28, 512)\n",
      "(100, 401408)\n"
     ]
    },
    {
     "name": "stderr",
     "output_type": "stream",
     "text": [
      "C:\\Users\\benza-ord\\anaconda3\\envs\\keras-gpu\\lib\\site-packages\\sklearn\\decomposition\\_pca.py:555: RuntimeWarning: divide by zero encountered in true_divide\n",
      "  self.explained_variance_ / total_var.sum()\n",
      " 13%|████████████▍                                                                                   | 13/100 [00:00<00:00, 120.69it/s]"
     ]
    },
    {
     "name": "stdout",
     "output_type": "stream",
     "text": [
      "         PC1           PC2  target\n",
      "0   0.000004 -1.805622e-16       3\n",
      "1   0.000004 -1.812597e-16       8\n",
      "2   0.000004 -1.812613e-16       8\n",
      "3   0.000004 -1.812610e-16       0\n",
      "4   0.000004 -1.812610e-16       6\n",
      "..       ...           ...     ...\n",
      "95  0.000004 -1.812610e-16       6\n",
      "96  0.000004  4.350086e-15       6\n",
      "97  0.000004  4.350086e-15       0\n",
      "98  0.000004  4.350086e-15       0\n",
      "99  0.000004  4.350086e-15       7\n",
      "\n",
      "[100 rows x 3 columns]\n",
      "(100, 32, 32, 3)\n"
     ]
    },
    {
     "name": "stderr",
     "output_type": "stream",
     "text": [
      "100%|███████████████████████████████████████████████████████████████████████████████████████████████| 100/100 [00:00<00:00, 113.61it/s]\n",
      "C:\\Users\\benza-ord\\anaconda3\\envs\\keras-gpu\\lib\\site-packages\\ipykernel_launcher.py:47: UserWarning: Update your `Model` call to the Keras 2 API: `Model(inputs=[<tf.Tenso..., outputs=Tensor(\"re...)`\n"
     ]
    },
    {
     "name": "stdout",
     "output_type": "stream",
     "text": [
      "(100, 224, 224, 3)\n",
      "46 res3a_branch1\n",
      "preds (100, 28, 28, 512)\n",
      "(100, 401408)\n"
     ]
    },
    {
     "name": "stderr",
     "output_type": "stream",
     "text": [
      "C:\\Users\\benza-ord\\anaconda3\\envs\\keras-gpu\\lib\\site-packages\\sklearn\\decomposition\\_pca.py:555: RuntimeWarning: divide by zero encountered in true_divide\n",
      "  self.explained_variance_ / total_var.sum()\n",
      " 11%|██████████▌                                                                                     | 11/100 [00:00<00:00, 108.13it/s]"
     ]
    },
    {
     "name": "stdout",
     "output_type": "stream",
     "text": [
      "         PC1           PC2  target\n",
      "0   0.000004 -2.014357e-16       3\n",
      "1   0.000004 -2.023625e-16       8\n",
      "2   0.000004 -2.023627e-16       8\n",
      "3   0.000004 -2.023626e-16       0\n",
      "4   0.000004 -2.023627e-16       6\n",
      "..       ...           ...     ...\n",
      "95  0.000004 -2.023627e-16       6\n",
      "96  0.000004  4.856470e-15       6\n",
      "97  0.000004  4.856470e-15       0\n",
      "98  0.000004  4.856470e-15       0\n",
      "99  0.000004  4.856470e-15       7\n",
      "\n",
      "[100 rows x 3 columns]\n",
      "(100, 32, 32, 3)\n"
     ]
    },
    {
     "name": "stderr",
     "output_type": "stream",
     "text": [
      "100%|███████████████████████████████████████████████████████████████████████████████████████████████| 100/100 [00:00<00:00, 104.20it/s]\n",
      "C:\\Users\\benza-ord\\anaconda3\\envs\\keras-gpu\\lib\\site-packages\\ipykernel_launcher.py:47: UserWarning: Update your `Model` call to the Keras 2 API: `Model(inputs=[<tf.Tenso..., outputs=Tensor(\"re...)`\n"
     ]
    },
    {
     "name": "stdout",
     "output_type": "stream",
     "text": [
      "(100, 224, 224, 3)\n",
      "46 res3a_branch1\n",
      "preds (100, 28, 28, 512)\n",
      "(100, 401408)\n"
     ]
    },
    {
     "name": "stderr",
     "output_type": "stream",
     "text": [
      "C:\\Users\\benza-ord\\anaconda3\\envs\\keras-gpu\\lib\\site-packages\\sklearn\\decomposition\\_pca.py:555: RuntimeWarning: divide by zero encountered in true_divide\n",
      "  self.explained_variance_ / total_var.sum()\n",
      " 12%|███████████▌                                                                                    | 12/100 [00:00<00:00, 116.82it/s]"
     ]
    },
    {
     "name": "stdout",
     "output_type": "stream",
     "text": [
      "         PC1           PC2  target\n",
      "0   0.000006 -6.392201e-16       3\n",
      "1   0.000006 -6.271863e-16       8\n",
      "2   0.000006 -6.271745e-16       8\n",
      "3   0.000006 -6.271772e-16       0\n",
      "4   0.000006 -6.271771e-16       6\n",
      "..       ...           ...     ...\n",
      "95  0.000006 -6.271771e-16       6\n",
      "96  0.000006  1.505528e-14       6\n",
      "97  0.000006  1.505528e-14       0\n",
      "98  0.000006  1.505528e-14       0\n",
      "99  0.000006  1.505528e-14       7\n",
      "\n",
      "[100 rows x 3 columns]\n",
      "(100, 32, 32, 3)\n"
     ]
    },
    {
     "name": "stderr",
     "output_type": "stream",
     "text": [
      "100%|███████████████████████████████████████████████████████████████████████████████████████████████| 100/100 [00:00<00:00, 106.55it/s]\n",
      "C:\\Users\\benza-ord\\anaconda3\\envs\\keras-gpu\\lib\\site-packages\\ipykernel_launcher.py:47: UserWarning: Update your `Model` call to the Keras 2 API: `Model(inputs=[<tf.Tenso..., outputs=Tensor(\"re...)`\n"
     ]
    },
    {
     "name": "stdout",
     "output_type": "stream",
     "text": [
      "(100, 224, 224, 3)\n",
      "46 res3a_branch1\n",
      "preds (100, 28, 28, 512)\n",
      "(100, 401408)\n"
     ]
    },
    {
     "name": "stderr",
     "output_type": "stream",
     "text": [
      "C:\\Users\\benza-ord\\anaconda3\\envs\\keras-gpu\\lib\\site-packages\\sklearn\\decomposition\\_pca.py:555: RuntimeWarning: divide by zero encountered in true_divide\n",
      "  self.explained_variance_ / total_var.sum()\n",
      " 11%|██████████▌                                                                                     | 11/100 [00:00<00:00, 101.19it/s]"
     ]
    },
    {
     "name": "stdout",
     "output_type": "stream",
     "text": [
      "         PC1           PC2  target\n",
      "0   0.000005 -6.453529e-16       3\n",
      "1   0.000005 -6.447900e-16       8\n",
      "2   0.000005 -6.447815e-16       8\n",
      "3   0.000005 -6.447817e-16       0\n",
      "4   0.000005 -6.447817e-16       6\n",
      "..       ...           ...     ...\n",
      "95  0.000005 -6.447817e-16       6\n",
      "96  0.000005  1.547489e-14       6\n",
      "97  0.000005  1.547489e-14       0\n",
      "98  0.000005  1.547489e-14       0\n",
      "99  0.000005  1.547489e-14       7\n",
      "\n",
      "[100 rows x 3 columns]\n",
      "(100, 32, 32, 3)\n"
     ]
    },
    {
     "name": "stderr",
     "output_type": "stream",
     "text": [
      "100%|███████████████████████████████████████████████████████████████████████████████████████████████| 100/100 [00:00<00:00, 102.75it/s]\n",
      "C:\\Users\\benza-ord\\anaconda3\\envs\\keras-gpu\\lib\\site-packages\\ipykernel_launcher.py:47: UserWarning: Update your `Model` call to the Keras 2 API: `Model(inputs=[<tf.Tenso..., outputs=Tensor(\"re...)`\n"
     ]
    },
    {
     "name": "stdout",
     "output_type": "stream",
     "text": [
      "(100, 224, 224, 3)\n",
      "51 res3b_branch2a\n"
     ]
    },
    {
     "name": "stderr",
     "output_type": "stream",
     "text": [
      "\r",
      "  0%|                                                                                                          | 0/100 [00:00<?, ?it/s]"
     ]
    },
    {
     "name": "stdout",
     "output_type": "stream",
     "text": [
      "preds (100, 28, 28, 128)\n",
      "(100, 100352)\n",
      "         PC1           PC2  target\n",
      "0   0.000005 -8.237173e-08       3\n",
      "1   0.000005 -8.237131e-08       8\n",
      "2   0.000005 -8.237148e-08       8\n",
      "3   0.000005 -8.237148e-08       0\n",
      "4   0.000005 -8.237148e-08       6\n",
      "..       ...           ...     ...\n",
      "95  0.000005 -8.237148e-08       6\n",
      "96  0.000005  1.975346e-06       6\n",
      "97  0.000005  1.975346e-06       0\n",
      "98  0.000005  1.975346e-06       0\n",
      "99  0.000005  1.975346e-06       7\n",
      "\n",
      "[100 rows x 3 columns]\n",
      "(100, 32, 32, 3)\n"
     ]
    },
    {
     "name": "stderr",
     "output_type": "stream",
     "text": [
      "100%|███████████████████████████████████████████████████████████████████████████████████████████████| 100/100 [00:00<00:00, 116.03it/s]\n",
      "C:\\Users\\benza-ord\\anaconda3\\envs\\keras-gpu\\lib\\site-packages\\ipykernel_launcher.py:47: UserWarning: Update your `Model` call to the Keras 2 API: `Model(inputs=[<tf.Tenso..., outputs=Tensor(\"re...)`\n"
     ]
    },
    {
     "name": "stdout",
     "output_type": "stream",
     "text": [
      "(100, 224, 224, 3)\n",
      "51 res3b_branch2a\n",
      "preds (100, 28, 28, 128)\n",
      "(100, 100352)\n",
      "         PC1           PC2  target\n",
      "0   0.000003 -6.161282e-08       3\n",
      "1   0.000003 -6.161266e-08       8\n",
      "2   0.000003 -6.161276e-08       8\n",
      "3   0.000003 -6.161276e-08       0\n",
      "4   0.000003 -6.161276e-08       6\n",
      "..       ...           ...     ...\n",
      "95  0.000003 -6.161276e-08       6\n",
      "96  0.000003  1.480385e-06       6\n",
      "97  0.000003  1.480385e-06       0\n",
      "98  0.000003  1.480385e-06       0\n",
      "99  0.000003  1.480385e-06       7\n",
      "\n",
      "[100 rows x 3 columns]\n",
      "(100, 32, 32, 3)"
     ]
    },
    {
     "name": "stderr",
     "output_type": "stream",
     "text": [
      " 13%|████████████▍                                                                                   | 13/100 [00:00<00:00, 120.69it/s]"
     ]
    },
    {
     "name": "stdout",
     "output_type": "stream",
     "text": [
      "\n"
     ]
    },
    {
     "name": "stderr",
     "output_type": "stream",
     "text": [
      "100%|███████████████████████████████████████████████████████████████████████████████████████████████| 100/100 [00:00<00:00, 115.45it/s]\n",
      "C:\\Users\\benza-ord\\anaconda3\\envs\\keras-gpu\\lib\\site-packages\\ipykernel_launcher.py:47: UserWarning: Update your `Model` call to the Keras 2 API: `Model(inputs=[<tf.Tenso..., outputs=Tensor(\"re...)`\n"
     ]
    },
    {
     "name": "stdout",
     "output_type": "stream",
     "text": [
      "(100, 224, 224, 3)\n",
      "51 res3b_branch2a\n",
      "preds (100, 28, 28, 128)\n",
      "(100, 100352)\n",
      "         PC1           PC2  target\n",
      "0   0.000003 -6.387435e-08       3\n",
      "1   0.000003 -6.387388e-08       8\n",
      "2   0.000003 -6.387447e-08       8\n",
      "3   0.000003 -6.387447e-08       0\n",
      "4   0.000003 -6.387447e-08       6\n",
      "..       ...           ...     ...\n",
      "95  0.000003 -6.387447e-08       6\n",
      "96  0.000003  1.531675e-06       6\n",
      "97  0.000003  1.531675e-06       0\n",
      "98  0.000003  1.531675e-06       0\n",
      "99  0.000003  1.531675e-06       7\n",
      "\n",
      "[100 rows x 3 columns]\n",
      "(100, 32, 32, 3)"
     ]
    },
    {
     "name": "stderr",
     "output_type": "stream",
     "text": [
      " 12%|███████████▌                                                                                    | 12/100 [00:00<00:00, 119.13it/s]"
     ]
    },
    {
     "name": "stdout",
     "output_type": "stream",
     "text": [
      "\n"
     ]
    },
    {
     "name": "stderr",
     "output_type": "stream",
     "text": [
      "100%|███████████████████████████████████████████████████████████████████████████████████████████████| 100/100 [00:00<00:00, 115.51it/s]\n",
      "C:\\Users\\benza-ord\\anaconda3\\envs\\keras-gpu\\lib\\site-packages\\ipykernel_launcher.py:47: UserWarning: Update your `Model` call to the Keras 2 API: `Model(inputs=[<tf.Tenso..., outputs=Tensor(\"re...)`\n"
     ]
    },
    {
     "name": "stdout",
     "output_type": "stream",
     "text": [
      "(100, 224, 224, 3)\n",
      "51 res3b_branch2a\n",
      "preds (100, 28, 28, 128)\n",
      "(100, 100352)\n",
      "         PC1           PC2  target\n",
      "0   0.000003 -6.455784e-08       3\n",
      "1   0.000003 -6.455645e-08       8\n",
      "2   0.000003 -6.455634e-08       8\n",
      "3   0.000003 -6.455634e-08       0\n",
      "4   0.000003 -6.455634e-08       6\n",
      "..       ...           ...     ...\n",
      "95  0.000003 -6.455634e-08       6\n",
      "96  0.000003  1.553055e-06       6\n",
      "97  0.000003  1.553055e-06       0\n",
      "98  0.000003  1.553055e-06       0\n",
      "99  0.000003  1.553055e-06       7\n",
      "\n",
      "[100 rows x 3 columns]\n",
      "(100, 32, 32, 3)"
     ]
    },
    {
     "name": "stderr",
     "output_type": "stream",
     "text": [
      " 12%|███████████▌                                                                                    | 12/100 [00:00<00:00, 119.13it/s]"
     ]
    },
    {
     "name": "stdout",
     "output_type": "stream",
     "text": [
      "\n"
     ]
    },
    {
     "name": "stderr",
     "output_type": "stream",
     "text": [
      "100%|███████████████████████████████████████████████████████████████████████████████████████████████| 100/100 [00:00<00:00, 113.22it/s]\n",
      "C:\\Users\\benza-ord\\anaconda3\\envs\\keras-gpu\\lib\\site-packages\\ipykernel_launcher.py:47: UserWarning: Update your `Model` call to the Keras 2 API: `Model(inputs=[<tf.Tenso..., outputs=Tensor(\"re...)`\n"
     ]
    },
    {
     "name": "stdout",
     "output_type": "stream",
     "text": [
      "(100, 224, 224, 3)\n",
      "51 res3b_branch2a\n",
      "preds (100, 28, 28, 128)\n",
      "(100, 100352)\n",
      "         PC1           PC2  target\n",
      "0   0.000003 -4.860502e-08       3\n",
      "1   0.000003 -4.860342e-08       8\n",
      "2   0.000003 -4.860342e-08       8\n",
      "3   0.000003 -4.860342e-08       0\n",
      "4   0.000003 -4.860342e-08       6\n",
      "..       ...           ...     ...\n",
      "95  0.000003 -4.860342e-08       6\n",
      "96  0.000003  1.163571e-06       6\n",
      "97  0.000003  1.163571e-06       0\n",
      "98  0.000003  1.163571e-06       0\n",
      "99  0.000003  1.163571e-06       7\n",
      "\n",
      "[100 rows x 3 columns]\n",
      "(100, 32, 32, 3)"
     ]
    },
    {
     "name": "stderr",
     "output_type": "stream",
     "text": [
      " 24%|███████████████████████                                                                         | 24/100 [00:00<00:00, 117.93it/s]"
     ]
    },
    {
     "name": "stdout",
     "output_type": "stream",
     "text": [
      "\n"
     ]
    },
    {
     "name": "stderr",
     "output_type": "stream",
     "text": [
      "100%|███████████████████████████████████████████████████████████████████████████████████████████████| 100/100 [00:00<00:00, 116.37it/s]\n",
      "C:\\Users\\benza-ord\\anaconda3\\envs\\keras-gpu\\lib\\site-packages\\ipykernel_launcher.py:47: UserWarning: Update your `Model` call to the Keras 2 API: `Model(inputs=[<tf.Tenso..., outputs=Tensor(\"re...)`\n"
     ]
    },
    {
     "name": "stdout",
     "output_type": "stream",
     "text": [
      "(100, 224, 224, 3)\n",
      "51 res3b_branch2a\n",
      "preds (100, 28, 28, 128)\n",
      "(100, 100352)\n",
      "         PC1           PC2  target\n",
      "0   0.000003 -5.603203e-08       3\n",
      "1   0.000003 -5.603211e-08       8\n",
      "2   0.000003 -5.603238e-08       8\n",
      "3   0.000003 -5.603238e-08       0\n",
      "4   0.000003 -5.603238e-08       6\n",
      "..       ...           ...     ...\n",
      "95  0.000003 -5.603238e-08       6\n",
      "96  0.000003  1.339089e-06       6\n",
      "97  0.000003  1.339089e-06       0\n",
      "98  0.000003  1.339089e-06       0\n",
      "99  0.000003  1.339089e-06       7\n",
      "\n",
      "[100 rows x 3 columns]\n",
      "(100, 32, 32, 3)"
     ]
    },
    {
     "name": "stderr",
     "output_type": "stream",
     "text": [
      " 12%|███████████▌                                                                                    | 12/100 [00:00<00:00, 115.69it/s]"
     ]
    },
    {
     "name": "stdout",
     "output_type": "stream",
     "text": [
      "\n"
     ]
    },
    {
     "name": "stderr",
     "output_type": "stream",
     "text": [
      "100%|███████████████████████████████████████████████████████████████████████████████████████████████| 100/100 [00:00<00:00, 115.65it/s]\n",
      "C:\\Users\\benza-ord\\anaconda3\\envs\\keras-gpu\\lib\\site-packages\\ipykernel_launcher.py:47: UserWarning: Update your `Model` call to the Keras 2 API: `Model(inputs=[<tf.Tenso..., outputs=Tensor(\"re...)`\n"
     ]
    },
    {
     "name": "stdout",
     "output_type": "stream",
     "text": [
      "(100, 224, 224, 3)\n",
      "51 res3b_branch2a\n",
      "preds (100, 28, 28, 128)\n",
      "(100, 100352)\n",
      "         PC1           PC2  target\n",
      "0   0.000003 -6.089478e-08       3\n",
      "1   0.000003 -6.089493e-08       8\n",
      "2   0.000003 -6.089474e-08       8\n",
      "3   0.000003 -6.089474e-08       0\n",
      "4   0.000003 -6.089474e-08       6\n",
      "..       ...           ...     ...\n",
      "95  0.000003 -6.089474e-08       6\n",
      "96  0.000003  1.460454e-06       6\n",
      "97  0.000003  1.460454e-06       0\n",
      "98  0.000003  1.460454e-06       0\n",
      "99  0.000003  1.460454e-06       7\n",
      "\n",
      "[100 rows x 3 columns]\n",
      "(100, 32, 32, 3)"
     ]
    },
    {
     "name": "stderr",
     "output_type": "stream",
     "text": [
      " 12%|███████████▌                                                                                    | 12/100 [00:00<00:00, 111.41it/s]"
     ]
    },
    {
     "name": "stdout",
     "output_type": "stream",
     "text": [
      "\n"
     ]
    },
    {
     "name": "stderr",
     "output_type": "stream",
     "text": [
      "100%|███████████████████████████████████████████████████████████████████████████████████████████████| 100/100 [00:00<00:00, 112.15it/s]\n",
      "C:\\Users\\benza-ord\\anaconda3\\envs\\keras-gpu\\lib\\site-packages\\ipykernel_launcher.py:47: UserWarning: Update your `Model` call to the Keras 2 API: `Model(inputs=[<tf.Tenso..., outputs=Tensor(\"re...)`\n"
     ]
    },
    {
     "name": "stdout",
     "output_type": "stream",
     "text": [
      "(100, 224, 224, 3)\n",
      "51 res3b_branch2a\n"
     ]
    },
    {
     "name": "stderr",
     "output_type": "stream",
     "text": [
      "\r",
      "  0%|                                                                                                          | 0/100 [00:00<?, ?it/s]"
     ]
    },
    {
     "name": "stdout",
     "output_type": "stream",
     "text": [
      "preds (100, 28, 28, 128)\n",
      "(100, 100352)\n",
      "         PC1           PC2  target\n",
      "0   0.000003 -6.815546e-08       3\n",
      "1   0.000003 -6.815506e-08       8\n",
      "2   0.000003 -6.815515e-08       8\n",
      "3   0.000003 -6.815515e-08       0\n",
      "4   0.000003 -6.815515e-08       6\n",
      "..       ...           ...     ...\n",
      "95  0.000003 -6.815515e-08       6\n",
      "96  0.000003  1.642833e-06       6\n",
      "97  0.000003  1.642833e-06       0\n",
      "98  0.000003  1.642833e-06       0\n",
      "99  0.000003  1.642833e-06       7\n",
      "\n",
      "[100 rows x 3 columns]\n",
      "(100, 32, 32, 3)\n"
     ]
    },
    {
     "name": "stderr",
     "output_type": "stream",
     "text": [
      "100%|███████████████████████████████████████████████████████████████████████████████████████████████| 100/100 [00:00<00:00, 116.21it/s]\n",
      "C:\\Users\\benza-ord\\anaconda3\\envs\\keras-gpu\\lib\\site-packages\\ipykernel_launcher.py:47: UserWarning: Update your `Model` call to the Keras 2 API: `Model(inputs=[<tf.Tenso..., outputs=Tensor(\"re...)`\n"
     ]
    },
    {
     "name": "stdout",
     "output_type": "stream",
     "text": [
      "(100, 224, 224, 3)\n",
      "51 res3b_branch2a\n",
      "preds (100, 28, 28, 128)\n",
      "(100, 100352)\n",
      "         PC1           PC2  target\n",
      "0   0.000005 -8.755050e-08       3\n",
      "1   0.000005 -8.754949e-08       8\n",
      "2   0.000005 -8.754961e-08       8\n",
      "3   0.000005 -8.754961e-08       0\n",
      "4   0.000005 -8.754961e-08       6\n",
      "..       ...           ...     ...\n",
      "95  0.000005 -8.754961e-08       6\n",
      "96  0.000005  2.096427e-06       6\n",
      "97  0.000005  2.096427e-06       0\n",
      "98  0.000005  2.096427e-06       0\n",
      "99  0.000005  2.096427e-06       7\n",
      "\n",
      "[100 rows x 3 columns]\n",
      "(100, 32, 32, 3)"
     ]
    },
    {
     "name": "stderr",
     "output_type": "stream",
     "text": [
      " 24%|███████████████████████                                                                         | 24/100 [00:00<00:00, 117.72it/s]"
     ]
    },
    {
     "name": "stdout",
     "output_type": "stream",
     "text": [
      "\n"
     ]
    },
    {
     "name": "stderr",
     "output_type": "stream",
     "text": [
      "100%|███████████████████████████████████████████████████████████████████████████████████████████████| 100/100 [00:00<00:00, 113.04it/s]\n",
      "C:\\Users\\benza-ord\\anaconda3\\envs\\keras-gpu\\lib\\site-packages\\ipykernel_launcher.py:47: UserWarning: Update your `Model` call to the Keras 2 API: `Model(inputs=[<tf.Tenso..., outputs=Tensor(\"re...)`\n"
     ]
    },
    {
     "name": "stdout",
     "output_type": "stream",
     "text": [
      "(100, 224, 224, 3)\n",
      "51 res3b_branch2a\n",
      "preds (100, 28, 28, 128)\n",
      "(100, 100352)\n",
      "         PC1           PC2  target\n",
      "0   0.000004 -7.831431e-08       3\n",
      "1   0.000004 -7.831368e-08       8\n",
      "2   0.000004 -7.831407e-08       8\n",
      "3   0.000004 -7.831407e-08       0\n",
      "4   0.000004 -7.831407e-08       6\n",
      "..       ...           ...     ...\n",
      "95  0.000004 -7.831407e-08       6\n",
      "96  0.000004  1.875508e-06       6\n",
      "97  0.000004  1.875508e-06       0\n",
      "98  0.000004  1.875508e-06       0\n",
      "99  0.000004  1.875508e-06       7\n",
      "\n",
      "[100 rows x 3 columns]\n"
     ]
    }
   ],
   "source": [
    "from sklearn.preprocessing import normalize, scale, MinMaxScaler\n",
    "\n",
    "(x_train_SAMP, y_train_SAMP), (x_test_SAMP, y_test_SAMP) = cifar10.load_data()\n",
    "\n",
    "x_train_SAMP =[]\n",
    "y_train_SAMP =[]\n",
    "\n",
    "result = {}\n",
    "LAYER_COUNTER = 0\n",
    "for idx in range(len(base_model.layers)):\n",
    "\n",
    "    \n",
    "    if base_model.get_layer(index = idx).__class__.__name__ == 'Conv2D':\n",
    "        # PREPARE FOR JSON \n",
    "        result['dataset_'+str(LAYER_COUNTER)]= []\n",
    "    \n",
    "        for i in range(0,10):\n",
    "            \n",
    "            \n",
    "            img_idx = imgs.loc[imgs['labels'] == i][:100]\n",
    "            \n",
    "            temp_img_arr = []\n",
    "            for index, row in img_idx.iloc[:, :3072].iterrows():\n",
    "                #print(x_test_SAMP[index].shape)\n",
    "                #Xtest = np.reshape(data[b\"data\"][3], (-1, 3, 32, 32))\n",
    "                #Xtest = np.transpose(Xtest, (0,2,3,1))\n",
    "\n",
    "                #x1 = np.reshape(np.asarray(row),(-1,32,32,3))\n",
    "                #x1 = np.transpose(x1, (0,2,3,1))\n",
    "                temp_img_arr.append(x_test[index])\n",
    "            \n",
    "            #print(temp_img_arr)\n",
    "            #temp_img_arr = np.array(temp_img_arr).reshape(-1,32,32,3)\n",
    "            temp_img_arr = np.stack(temp_img_arr,axis=0)\n",
    "            print(temp_img_arr.shape)\n",
    "            \n",
    "            x_batch = resize_image_arr(temp_img_arr)\n",
    "            print(x_batch.shape)\n",
    "\n",
    "            x_batch = x_batch.astype('float32')\n",
    "            x_batch /= 255\n",
    "            \n",
    "            \n",
    "            layerName = base_model.get_layer(index = idx).name\n",
    "            print(idx, layerName)\n",
    "\n",
    "            model_cut = Model(inputs=base_model.inputs, output=base_model.layers[idx].output)\n",
    "            preds = model_cut.predict(x_batch)\n",
    "            print('preds',preds.shape)\n",
    "\n",
    "            preds_flat = preds.reshape(preds.shape[0],preds.shape[1] * preds.shape[2] * preds.shape[3])\n",
    "            print(preds_flat.shape)\n",
    "\n",
    "            import pandas as pd \n",
    "\n",
    "            X = preds_flat\n",
    "            # Standardize the features\n",
    "            #X = StandardScaler().fit_transform(preds_flat)\n",
    "            #X = normalize(preds_flat)\n",
    "            #X = scale(preds_flat)\n",
    "\n",
    "            #mm_scaler = MinMaxScaler()\n",
    "            #X = mm_scaler.fit_transform(preds_flat)\n",
    "            #mm_scaler.transform(X)\n",
    "\n",
    "            # Preview X\n",
    "            pd.DataFrame(data=X).head()\n",
    "\n",
    "            # Import PCA from sklearn\n",
    "            from sklearn.decomposition import PCA\n",
    "\n",
    "            # Instantiate PCA\n",
    "            pca = PCA(n_components=2)\n",
    "\n",
    "            # Fit PCA to features\n",
    "            principalComponents = pca.fit_transform(X)\n",
    "            \n",
    "            CLASS_PCA_RES = []\n",
    "            for ipc in range(principalComponents.shape[0]):\n",
    "                arr_classPt = {\n",
    "                    \"uid\" : \"\",\n",
    "                    \"filename\" : \"\",\n",
    "                    \"comp1\": str(principalComponents[ipc][0]),\n",
    "                    \"comp2\": str(principalComponents[ipc][1])\n",
    "                }\n",
    "                CLASS_PCA_RES.append(arr_classPt)\n",
    "                \n",
    "            result[\"dataset_\"+str(LAYER_COUNTER)].append(CLASS_PCA_RES)\n",
    "\n",
    "            # Create a new dataset from principal components \n",
    "            df = pd.DataFrame(data = principalComponents, \n",
    "                              columns = ['PC1', 'PC2'])\n",
    "\n",
    "            target = pd.Series(y_test_SAMP[:100].reshape(100,), name='target')\n",
    "\n",
    "            result_df = pd.concat([df, target], axis=1)\n",
    "            print(result_df)\n",
    "        \n",
    "        LAYER_COUNTER+= 1\n",
    "    if idx > 50:\n",
    "        break\n"
   ]
  },
  {
   "cell_type": "code",
   "execution_count": null,
   "metadata": {},
   "outputs": [],
   "source": [
    "x_test[:10].shape"
   ]
  },
  {
   "cell_type": "code",
   "execution_count": null,
   "metadata": {},
   "outputs": [],
   "source": [
    "from sklearn.preprocessing import normalize, scale, MinMaxScaler\n",
    "\n",
    "(x_train_SAMP, y_train_SAMP), (x_test_SAMP, y_test_SAMP) = cifar10.load_data()\n",
    "\n",
    "x_train_SAMP =[]\n",
    "y_train_SAMP =[]\n",
    "\n",
    "\n",
    "\n",
    "for idx in range(len(base_model.layers)):\n",
    "    if base_model.get_layer(index = idx).__class__.__name__ == 'Conv2D':\n",
    "        for i in range(0,10):\n",
    "            x_batch = x_test[:100]\n",
    "            \n",
    "           \n",
    "            \n",
    "            layerName = base_model.get_layer(index = idx).name\n",
    "            print(idx, layerName)\n",
    "\n",
    "            model_cut = Model(inputs=base_model.inputs, output=base_model.layers[idx].output)\n",
    "            preds = model_cut.predict(x_batch)\n",
    "            print('preds',preds.shape)\n",
    "\n",
    "            preds_flat = preds.reshape(preds.shape[0],preds.shape[1] * preds.shape[2] * preds.shape[3])\n",
    "            print(preds_flat.shape)\n",
    "\n",
    "            import pandas as pd \n",
    "\n",
    "            X = preds_flat\n",
    "            # Standardize the features\n",
    "            #X = StandardScaler().fit_transform(preds_flat)\n",
    "            #X = normalize(preds_flat)\n",
    "            #X = scale(preds_flat)\n",
    "\n",
    "            #mm_scaler = MinMaxScaler()\n",
    "            #X = mm_scaler.fit_transform(preds_flat)\n",
    "            #mm_scaler.transform(X)\n",
    "\n",
    "            # Preview X\n",
    "            pd.DataFrame(data=X).head()\n",
    "\n",
    "            # Import PCA from sklearn\n",
    "            from sklearn.decomposition import PCA\n",
    "\n",
    "            # Instantiate PCA\n",
    "            pca = PCA(n_components=2)\n",
    "\n",
    "            # Fit PCA to features\n",
    "            principalComponents = pca.fit_transform(X)\n",
    "\n",
    "            # Create a new dataset from principal components \n",
    "            df = pd.DataFrame(data = principalComponents, \n",
    "                              columns = ['PC1', 'PC2'])\n",
    "\n",
    "            target = pd.Series(y_test_SAMP[:10].reshape(10,), name='target')\n",
    "\n",
    "            result_df = pd.concat([df, target], axis=1)\n",
    "            print(result_df)\n",
    "        \n",
    "    if idx > 10:\n",
    "        break\n"
   ]
  },
  {
   "cell_type": "code",
   "execution_count": 22,
   "metadata": {},
   "outputs": [
    {
     "name": "stderr",
     "output_type": "stream",
     "text": [
      "C:\\Users\\benza-ord\\anaconda3\\envs\\keras-gpu\\lib\\site-packages\\sklearn\\decomposition\\_pca.py:555: RuntimeWarning: divide by zero encountered in true_divide\n",
      "  self.explained_variance_ / total_var.sum()\n"
     ]
    }
   ],
   "source": [
    "from sklearn.preprocessing import StandardScaler\n",
    "import pandas as pd \n",
    "\n",
    "from sklearn.preprocessing import normalize\n",
    "# Standardize the features\n",
    "#X = StandardScaler().fit_transform(preds_flat)\n",
    "\n",
    "# Preview X\n",
    "pd.DataFrame(data=preds_flat).head()\n",
    "\n",
    "# Import PCA from sklearn\n",
    "from sklearn.decomposition import PCA\n",
    "\n",
    "# Instantiate PCA\n",
    "pca = PCA(n_components=2)\n",
    "\n",
    "# Fit PCA to features\n",
    "principalComponents = pca.fit_transform(preds_flat)"
   ]
  },
  {
   "cell_type": "code",
   "execution_count": null,
   "metadata": {},
   "outputs": [],
   "source": []
  },
  {
   "cell_type": "code",
   "execution_count": 52,
   "metadata": {},
   "outputs": [
    {
     "name": "stdout",
     "output_type": "stream",
     "text": [
      "(100, 32, 32, 3)\n",
      "21 activation_103\n"
     ]
    },
    {
     "name": "stderr",
     "output_type": "stream",
     "text": [
      "C:\\Users\\benza-ord\\anaconda3\\envs\\keras-gpu\\lib\\site-packages\\ipykernel_launcher.py:15: UserWarning: Update your `Model` call to the Keras 2 API: `Model(inputs=[<tf.Tenso..., outputs=Tensor(\"ac...)`\n",
      "  from ipykernel import kernelapp as app\n"
     ]
    },
    {
     "name": "stdout",
     "output_type": "stream",
     "text": [
      "preds (100, 56, 56, 64)\n",
      "(100, 200704)\n"
     ]
    },
    {
     "name": "stderr",
     "output_type": "stream",
     "text": [
      "IOPub data rate exceeded.\n",
      "The notebook server will temporarily stop sending output\n",
      "to the client in order to avoid crashing it.\n",
      "To change this limit, set the config variable\n",
      "`--NotebookApp.iopub_data_rate_limit`.\n",
      "\n",
      "Current values:\n",
      "NotebookApp.iopub_data_rate_limit=1000000.0 (bytes/sec)\n",
      "NotebookApp.rate_limit_window=3.0 (secs)\n",
      "\n",
      "C:\\Users\\benza-ord\\anaconda3\\envs\\keras-gpu\\lib\\site-packages\\sklearn\\decomposition\\_pca.py:555: RuntimeWarning: divide by zero encountered in true_divide\n",
      "  self.explained_variance_ / total_var.sum()\n"
     ]
    }
   ],
   "source": [
    "from sklearn.preprocessing import StandardScaler\n",
    "\n",
    "img_idx = imgs.loc[imgs['labels'] == 0][:100]\n",
    "            \n",
    "temp_img_arr = []\n",
    "for index, row in img_idx.iloc[:, :3072].iterrows():\n",
    "    temp_img_arr.append(x_test[index])\n",
    "\n",
    "temp_img_arr = np.stack(temp_img_arr,axis=0)\n",
    "print(temp_img_arr.shape)\n",
    "\n",
    "layerName = base_model.get_layer(index = idx).name\n",
    "print(idx, layerName)\n",
    "\n",
    "model_cut = Model(inputs=base_model.inputs, output=base_model.layers[idx].output)\n",
    "preds = model_cut.predict(x_batch)\n",
    "print('preds',preds.shape)\n",
    "\n",
    "preds_flat = preds.reshape(preds.shape[0],preds.shape[1] * preds.shape[2] * preds.shape[3])\n",
    "print(preds_flat.shape)\n",
    "\n",
    "feat_cols = ['pixel'+str(i) for i in range(preds_flat.shape[1])]\n",
    "df_cifar = pd.DataFrame(preds_flat,columns=feat_cols)\n",
    "\n",
    "df_cifar.head()\n",
    "\n",
    "import pandas as pd \n",
    "\n",
    "\n",
    "X = preds_flat\n",
    "# Standardize the features\n",
    "#X = StandardScaler().fit_transform(df_cifar.values.reshape)\n",
    "#x_min = X.min(axis=(0, 1), keepdims=True)\n",
    "#x_max = X.max(axis=(0, 1), keepdims=True)\n",
    "\n",
    "#X = (X - x_min)/(x_max-x_min)\n",
    "\n",
    "with np.printoptions(threshold=np.inf):\n",
    "    #print(arr)\n",
    "    print(preds[0])\n",
    "    print(preds[1])\n",
    "#print(X[1])\n",
    "#print(X.shape)\n",
    "#X = normalize(preds_flat)\n",
    "#X = scale(preds_flat)\n",
    "\n",
    "#mm_scaler = MinMaxScaler()\n",
    "#X = mm_scaler.fit_transform(preds_flat)\n",
    "#mm_scaler.transform(X)\n",
    "\n",
    "# Preview X\n",
    "pd.DataFrame(data=X).head()\n",
    "\n",
    "# Import PCA from sklearn\n",
    "from sklearn.decomposition import PCA\n",
    "\n",
    "# Instantiate PCA\n",
    "pca = PCA(n_components=2)\n",
    "\n",
    "# Fit PCA to features\n",
    "principalComponents = pca.fit_transform(X)\n",
    "\n",
    "CLASS_PCA_RES = []\n",
    "for ipc in range(principalComponents.shape[0]):\n",
    "    arr_classPt = {\n",
    "        \"uid\" : \"\",\n",
    "        \"filename\" : \"\",\n",
    "        \"comp1\": str(principalComponents[ipc][0]),\n",
    "        \"comp2\": str(principalComponents[ipc][1])\n",
    "    }\n",
    "    #print(arr_classPt)\n",
    "\n",
    "\n",
    "\n",
    "# Create a new dataset from principal components \n",
    "df = pd.DataFrame(data = principalComponents, \n",
    "                  columns = ['PC1', 'PC2'])\n",
    "\n",
    "target = pd.Series(y_test_SAMP[:100].reshape(100,), name='target')\n",
    "\n",
    "result_df = pd.concat([df, target], axis=1)\n",
    "#print(result_df)"
   ]
  },
  {
   "cell_type": "code",
   "execution_count": 28,
   "metadata": {},
   "outputs": [
    {
     "data": {
      "text/plain": [
       "(100, 200704)"
      ]
     },
     "execution_count": 28,
     "metadata": {},
     "output_type": "execute_result"
    }
   ],
   "source": [
    "feat_cols = ['pixel'+str(i) for i in range(preds_flat.shape[1])]\n",
    "df_cifar = pd.DataFrame(preds_flat,columns=feat_cols)\n",
    "\n",
    "df_cifar.values"
   ]
  },
  {
   "cell_type": "code",
   "execution_count": null,
   "metadata": {
    "scrolled": false
   },
   "outputs": [],
   "source": [
    "result"
   ]
  },
  {
   "cell_type": "code",
   "execution_count": 54,
   "metadata": {},
   "outputs": [],
   "source": [
    "import json \n",
    "\n",
    "result[\"n_layers\"] = str(LAYER_COUNTER)\n",
    "\n",
    "with open('sample_json4.json', 'w') as outfile:\n",
    "    json.dump(result, outfile)"
   ]
  },
  {
   "cell_type": "code",
   "execution_count": 21,
   "metadata": {},
   "outputs": [
    {
     "data": {
      "text/plain": [
       "(0.0, 1.0)"
      ]
     },
     "execution_count": 21,
     "metadata": {},
     "output_type": "execute_result"
    }
   ],
   "source": [
    "np.min(x_test),np.max(x_test)"
   ]
  },
  {
   "cell_type": "code",
   "execution_count": null,
   "metadata": {},
   "outputs": [],
   "source": []
  }
 ],
 "metadata": {
  "kernelspec": {
   "display_name": "keras-gpu-kernel",
   "language": "python",
   "name": "keras-gpu-kernel"
  },
  "language_info": {
   "codemirror_mode": {
    "name": "ipython",
    "version": 3
   },
   "file_extension": ".py",
   "mimetype": "text/x-python",
   "name": "python",
   "nbconvert_exporter": "python",
   "pygments_lexer": "ipython3",
   "version": "3.6.12"
  }
 },
 "nbformat": 4,
 "nbformat_minor": 4
}
