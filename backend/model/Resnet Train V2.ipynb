{
 "cells": [
  {
   "cell_type": "code",
   "execution_count": 1,
   "metadata": {},
   "outputs": [
    {
     "name": "stderr",
     "output_type": "stream",
     "text": [
      "Using TensorFlow backend.\n"
     ]
    },
    {
     "name": "stdout",
     "output_type": "stream",
     "text": [
      "1 Physical GPUs, 1 Logical GPUs\n"
     ]
    }
   ],
   "source": [
    "import keras\n",
    "import numpy as np\n",
    "from keras.datasets import cifar10\n",
    "from keras.applications.resnet50 import ResNet50\n",
    "from keras.layers import GlobalAveragePooling2D, Dense\n",
    "from keras.preprocessing.image import ImageDataGenerator\n",
    "from keras.models import Model\n",
    "from skimage.transform import resize\n",
    "\n",
    "import tensorflow as tf\n",
    "gpus = tf.config.experimental.list_physical_devices('GPU')\n",
    "if gpus:\n",
    "    # Restrict TensorFlow to only allocate 1GB * 2 of memory on the first GPU\n",
    "    try:\n",
    "        tf.config.experimental.set_virtual_device_configuration(\n",
    "            gpus[0],\n",
    "            [tf.config.experimental.VirtualDeviceConfiguration(memory_limit=1024 * 2)])\n",
    "        logical_gpus = tf.config.experimental.list_logical_devices('GPU')\n",
    "        print(len(gpus), \"Physical GPUs,\", len(logical_gpus), \"Logical GPUs\")\n",
    "    except RuntimeError as e:\n",
    "        # Virtual devices must be set before GPUs have been initialized\n",
    "        print(e)"
   ]
  },
  {
   "cell_type": "code",
   "execution_count": 2,
   "metadata": {},
   "outputs": [],
   "source": [
    "NUM_CLASSES = 10\n",
    "BATCH_SIZE = 5\n",
    "NUM_EPOCHS = 10\n",
    "use_data_aug = False"
   ]
  },
  {
   "cell_type": "code",
   "execution_count": 3,
   "metadata": {},
   "outputs": [],
   "source": [
    "from tqdm import tqdm\n",
    "# img_arr is of shape (n, h, w, c)\n",
    "def resize_image_arr(img_arr):\n",
    "    x_resized_list = []\n",
    "    for i in tqdm(range(img_arr.shape[0])):\n",
    "        img = img_arr[0]\n",
    "        resized_img = resize(img, (224, 224))\n",
    "        x_resized_list.append(resized_img)\n",
    "    return np.stack(x_resized_list)"
   ]
  },
  {
   "cell_type": "code",
   "execution_count": 4,
   "metadata": {},
   "outputs": [],
   "source": [
    "(x_train, y_train), (x_test, y_test) = cifar10.load_data()"
   ]
  },
  {
   "cell_type": "code",
   "execution_count": 5,
   "metadata": {},
   "outputs": [],
   "source": [
    "x_train = x_train[0:10000]\n",
    "y_train = y_train[0:10000]\n",
    "x_test = x_test[0:3]\n",
    "y_test = y_test[0:3]"
   ]
  },
  {
   "cell_type": "code",
   "execution_count": 21,
   "metadata": {},
   "outputs": [
    {
     "data": {
      "text/plain": [
       "(10000, 32, 32, 3)"
      ]
     },
     "execution_count": 21,
     "metadata": {},
     "output_type": "execute_result"
    }
   ],
   "source": [
    "x_train.shape"
   ]
  },
  {
   "cell_type": "code",
   "execution_count": 6,
   "metadata": {},
   "outputs": [
    {
     "name": "stderr",
     "output_type": "stream",
     "text": [
      "100%|███████████████████████████████████████████████████████████████████████████████████████████| 10000/10000 [01:31<00:00, 109.21it/s]\n",
      "100%|████████████████████████████████████████████████████████████████████████████████████████████████████| 3/3 [00:00<00:00, 44.96it/s]\n"
     ]
    }
   ],
   "source": [
    "# Resize image arrays\n",
    "x_train = resize_image_arr(x_train)\n",
    "x_test = resize_image_arr(x_test)"
   ]
  },
  {
   "cell_type": "code",
   "execution_count": 7,
   "metadata": {},
   "outputs": [],
   "source": [
    "\n",
    "# Convert class vectors to binary class matrices.\n",
    "y_train = keras.utils.to_categorical(y_train, NUM_CLASSES)\n",
    "y_test = keras.utils.to_categorical(y_test, NUM_CLASSES)"
   ]
  },
  {
   "cell_type": "code",
   "execution_count": 8,
   "metadata": {},
   "outputs": [],
   "source": [
    "# Normalize the data\n",
    "x_train = x_train.astype('float32')\n",
    "x_test = x_test.astype('float32')\n",
    "x_train /= 255\n",
    "x_test /= 255"
   ]
  },
  {
   "cell_type": "code",
   "execution_count": 9,
   "metadata": {},
   "outputs": [
    {
     "name": "stderr",
     "output_type": "stream",
     "text": [
      "C:\\Users\\benza-ord\\anaconda3\\envs\\keras-gpu\\lib\\site-packages\\keras_applications\\resnet50.py:265: UserWarning: The output shape of `ResNet50(include_top=False)` has been changed since Keras 2.2.0.\n",
      "  warnings.warn('The output shape of `ResNet50(include_top=False)` '\n"
     ]
    },
    {
     "name": "stdout",
     "output_type": "stream",
     "text": [
      "Train on 10000 samples, validate on 3 samples\n",
      "Epoch 1/10\n",
      "10000/10000 [==============================] - 662s 66ms/step - loss: 0.3293 - accuracy: 0.9000 - val_loss: 0.3866 - val_accuracy: 0.9000\n",
      "Epoch 2/10\n",
      "10000/10000 [==============================] - 650s 65ms/step - loss: 0.3293 - accuracy: 0.9000 - val_loss: 0.3866 - val_accuracy: 0.9000\n",
      "Epoch 3/10\n",
      "10000/10000 [==============================] - 639s 64ms/step - loss: 0.3293 - accuracy: 0.9000 - val_loss: 0.3866 - val_accuracy: 0.9000\n",
      "Epoch 4/10\n",
      "10000/10000 [==============================] - 636s 64ms/step - loss: 0.3293 - accuracy: 0.9000 - val_loss: 0.3866 - val_accuracy: 0.9000\n",
      "Epoch 5/10\n",
      "10000/10000 [==============================] - 635s 64ms/step - loss: 0.3293 - accuracy: 0.9000 - val_loss: 0.3866 - val_accuracy: 0.9000\n",
      "Epoch 6/10\n",
      "10000/10000 [==============================] - 653s 65ms/step - loss: 0.3293 - accuracy: 0.9000 - val_loss: 0.3866 - val_accuracy: 0.9000\n",
      "Epoch 7/10\n",
      "10000/10000 [==============================] - 655s 66ms/step - loss: 0.3293 - accuracy: 0.9000 - val_loss: 0.3866 - val_accuracy: 0.9000\n",
      "Epoch 8/10\n",
      "10000/10000 [==============================] - 657s 66ms/step - loss: 0.3293 - accuracy: 0.9000 - val_loss: 0.3866 - val_accuracy: 0.9000\n",
      "Epoch 9/10\n",
      "10000/10000 [==============================] - 656s 66ms/step - loss: 0.3293 - accuracy: 0.9000 - val_loss: 0.3866 - val_accuracy: 0.9000\n",
      "Epoch 10/10\n",
      "10000/10000 [==============================] - 658s 66ms/step - loss: 0.3293 - accuracy: 0.9000 - val_loss: 0.3866 - val_accuracy: 0.9000\n"
     ]
    },
    {
     "data": {
      "text/plain": [
       "<keras.callbacks.callbacks.History at 0x28342bac438>"
      ]
     },
     "execution_count": 9,
     "metadata": {},
     "output_type": "execute_result"
    }
   ],
   "source": [
    "\n",
    "base_model = ResNet50(include_top=False, weights='imagenet')\n",
    "\n",
    "# add a global spatial average pooling layer\n",
    "x = base_model.output\n",
    "x = GlobalAveragePooling2D()(x)\n",
    "# let's add a fully-connected layer\n",
    "x = Dense(512, activation='relu')(x)\n",
    "# and a logistic layer -- 10 classes for CIFAR10\n",
    "predictions = Dense(NUM_CLASSES, activation='softmax')(x)\n",
    "\n",
    "# this is the model we will train\n",
    "model = Model(inputs=base_model.input, outputs=predictions)\n",
    "\n",
    "# initiate RMSprop optimizer\n",
    "opt = keras.optimizers.rmsprop(lr=0.0, decay=0.0)\n",
    "\n",
    "# Let's train the model using RMSprop\n",
    "model.compile(loss='binary_crossentropy',\n",
    "              optimizer=opt,\n",
    "              metrics=['accuracy'])\n",
    "\n",
    "model.fit(x_train, y_train,\n",
    "          batch_size=2,\n",
    "          epochs=NUM_EPOCHS,\n",
    "          validation_data=(x_test, y_test),\n",
    "          shuffle=False)"
   ]
  },
  {
   "cell_type": "code",
   "execution_count": 11,
   "metadata": {},
   "outputs": [],
   "source": [
    "model.save('resnet_model_v1')\n"
   ]
  },
  {
   "cell_type": "code",
   "execution_count": null,
   "metadata": {},
   "outputs": [],
   "source": []
  }
 ],
 "metadata": {
  "kernelspec": {
   "display_name": "keras-gpu-kernel",
   "language": "python",
   "name": "keras-gpu-kernel"
  },
  "language_info": {
   "codemirror_mode": {
    "name": "ipython",
    "version": 3
   },
   "file_extension": ".py",
   "mimetype": "text/x-python",
   "name": "python",
   "nbconvert_exporter": "python",
   "pygments_lexer": "ipython3",
   "version": "3.6.12"
  }
 },
 "nbformat": 4,
 "nbformat_minor": 4
}
