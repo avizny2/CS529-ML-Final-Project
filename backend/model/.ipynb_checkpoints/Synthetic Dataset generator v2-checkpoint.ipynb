{
 "cells": [
  {
   "cell_type": "code",
   "execution_count": 1,
   "metadata": {},
   "outputs": [
    {
     "name": "stderr",
     "output_type": "stream",
     "text": [
      "Using TensorFlow backend.\n"
     ]
    },
    {
     "name": "stdout",
     "output_type": "stream",
     "text": [
      "1 Physical GPUs, 1 Logical GPUs\n"
     ]
    }
   ],
   "source": [
    "import keras\n",
    "import numpy as np\n",
    "import tensorflow as tf\n",
    "gpus = tf.config.experimental.list_physical_devices('GPU')\n",
    "if gpus:\n",
    "    # Restrict TensorFlow to only allocate 1GB * 2 of memory on the first GPU\n",
    "    try:\n",
    "        tf.config.experimental.set_virtual_device_configuration(\n",
    "            gpus[0],\n",
    "            [tf.config.experimental.VirtualDeviceConfiguration(memory_limit=1024 * 2)])\n",
    "        logical_gpus = tf.config.experimental.list_logical_devices('GPU')\n",
    "        print(len(gpus), \"Physical GPUs,\", len(logical_gpus), \"Logical GPUs\")\n",
    "    except RuntimeError as e:\n",
    "        # Virtual devices must be set before GPUs have been initialized\n",
    "        print(e)"
   ]
  },
  {
   "cell_type": "code",
   "execution_count": 1,
   "metadata": {},
   "outputs": [
    {
     "ename": "NameError",
     "evalue": "name 'np' is not defined",
     "output_type": "error",
     "traceback": [
      "\u001b[1;31m---------------------------------------------------------------------------\u001b[0m",
      "\u001b[1;31mNameError\u001b[0m                                 Traceback (most recent call last)",
      "\u001b[1;32m<ipython-input-1-566c47a206f6>\u001b[0m in \u001b[0;36m<module>\u001b[1;34m\u001b[0m\n\u001b[0;32m     10\u001b[0m \u001b[1;33m\u001b[0m\u001b[0m\n\u001b[0;32m     11\u001b[0m     \u001b[1;31m#two random matrix for two classes\u001b[0m\u001b[1;33m\u001b[0m\u001b[1;33m\u001b[0m\u001b[1;33m\u001b[0m\u001b[0m\n\u001b[1;32m---> 12\u001b[1;33m     \u001b[0mM\u001b[0m \u001b[1;33m=\u001b[0m \u001b[0mnp\u001b[0m\u001b[1;33m.\u001b[0m\u001b[0mrandom\u001b[0m\u001b[1;33m.\u001b[0m\u001b[0mnormal\u001b[0m\u001b[1;33m(\u001b[0m\u001b[1;36m0\u001b[0m\u001b[1;33m,\u001b[0m \u001b[1;36m1\u001b[0m\u001b[1;33m,\u001b[0m \u001b[1;33m(\u001b[0m\u001b[0md\u001b[0m\u001b[1;33m,\u001b[0m \u001b[0mk\u001b[0m\u001b[1;33m)\u001b[0m\u001b[1;33m)\u001b[0m\u001b[1;33m\u001b[0m\u001b[1;33m\u001b[0m\u001b[0m\n\u001b[0m\u001b[0;32m     13\u001b[0m     \u001b[0mN\u001b[0m \u001b[1;33m=\u001b[0m \u001b[0mnp\u001b[0m\u001b[1;33m.\u001b[0m\u001b[0mrandom\u001b[0m\u001b[1;33m.\u001b[0m\u001b[0mnormal\u001b[0m\u001b[1;33m(\u001b[0m\u001b[1;36m0\u001b[0m\u001b[1;33m,\u001b[0m \u001b[1;36m1\u001b[0m\u001b[1;33m,\u001b[0m \u001b[1;33m(\u001b[0m\u001b[0md\u001b[0m\u001b[1;33m,\u001b[0m \u001b[0mk\u001b[0m\u001b[1;33m)\u001b[0m\u001b[1;33m)\u001b[0m\u001b[1;33m\u001b[0m\u001b[1;33m\u001b[0m\u001b[0m\n\u001b[0;32m     14\u001b[0m     \u001b[1;31m#print(M)\u001b[0m\u001b[1;33m\u001b[0m\u001b[1;33m\u001b[0m\u001b[1;33m\u001b[0m\u001b[0m\n",
      "\u001b[1;31mNameError\u001b[0m: name 'np' is not defined"
     ]
    }
   ],
   "source": [
    "d = 100 # datapoints / feature dimensions\n",
    "k = 3  # principal components\n",
    "B = 40 # Batch size\n",
    "    \n",
    "# Import PCA from sklearn\n",
    "from sklearn.decomposition import PCA\n",
    "import pandas as pd\n",
    "\n",
    "for layer_i in range(0,1):\n",
    "    \n",
    "    #two random matrix for two classes\n",
    "    M = np.random.normal(0, 1, (d, k)) \n",
    "    N = np.random.normal(0, 1, (d, k))\n",
    "    #print(M)\n",
    "    \n",
    "    # compute subspace for each class using qr decomposition. \n",
    "    # this way we get a uniformly random subspace q,s for each class\n",
    "    q,r = tf.linalg.qr(M)\n",
    "    s,t = tf.linalg.qr(N)\n",
    "    #print(q)\n",
    "    #print(r)\n",
    "    \n",
    "    \n",
    "    # pick different Z for different classes \n",
    "    Z_1 = np.random.normal(-1, 1, (k, B))\n",
    "    Z_2 = np.random.normal(-1, 1, (k, B))\n",
    "    \n",
    "    # observe some noisy samples from each class (additive random normal noise)\n",
    "    X_1 = np.matmul(q, Z_1) + np.random.normal(0, 0.1, (d, B))\n",
    "    X_2 = np.matmul(s, Z_2) + np.random.normal(0, 0.1, (d, B))\n",
    "\n",
    "    #print(X_1)\n",
    "    #print(X_2) \n",
    "\n",
    "    # Instantiate PCA\n",
    "    pca = PCA(n_components=k)\n",
    "\n",
    "    # Fit PCA to features\n",
    "    X_1 = np.matrix.transpose(X_1)\n",
    "    X_2 = np.matrix.transpose(X_2)\n",
    "    fullX = np.concatenate((X_1, X_2), axis=0)\n",
    "    \n",
    "    fpca = PCA(n_components=k)\n",
    "    X = fpca.fit_transform(fullX)\n",
    "    X = X[:,:2]  #just keep the two columns for visualization\n",
    "\n",
    "    \n",
    "    # Create a new dataset from principal components \n",
    "    df = pd.DataFrame(data = X, \n",
    "                      columns = ['PC1', 'PC2'])\n",
    "    #print(np.shape(df))\n",
    "\n",
    "    target = pd.Series(np.concatenate((np.full(B, 0), np.full(B, 1)), axis=0), name='y')\n",
    "    #print(np.shape(target))\n",
    "\n",
    "    result_df = pd.concat([df, target], axis=1)\n",
    "    \n",
    "    #print(np.shape(result_df))\n",
    "    #print(result_df)\n",
    "    \n",
    "    \n",
    "    \n",
    "    "
   ]
  },
  {
   "cell_type": "code",
   "execution_count": 3,
   "metadata": {},
   "outputs": [
    {
     "data": {
      "image/png": "[encoded data removed]",
      "text/plain": [
       "<Figure size 864x720 with 1 Axes>"
      ]
     },
     "metadata": {
      "needs_background": "light"
     },
     "output_type": "display_data"
    }
   ],
   "source": [
    "# Visualize Principal Components with a scatter plot\n",
    "import matplotlib.pyplot as plt \n",
    "\n",
    "fig = plt.figure(figsize = (12,10))\n",
    "ax = fig.add_subplot(1,1,1) \n",
    "ax.set_xlabel('First Principal Component ', fontsize = 15)\n",
    "ax.set_ylabel('Second Principal Component ', fontsize = 15)\n",
    "ax.set_title('Principal Component Analysis (2PCs)', fontsize = 20)\n",
    "\n",
    "targets = [0,1]\n",
    "colors = ['r', 'g']\n",
    "for target, color in zip(targets, colors):\n",
    "    indicesToKeep = result_df.loc[result_df['y'] == target]\n",
    "    #print(result_df.loc[indicesToKeep, 'PC1'])\n",
    "    ax.scatter(indicesToKeep['PC1'], \n",
    "               indicesToKeep['PC2'], \n",
    "               c = color, \n",
    "               s = 50)\n",
    "ax.legend(targets)\n",
    "ax.grid()\n"
   ]
  },
  {
   "cell_type": "code",
   "execution_count": 4,
   "metadata": {},
   "outputs": [
    {
     "name": "stdout",
     "output_type": "stream",
     "text": [
      "40   -1.008783\n",
      "41   -0.684384\n",
      "42   -1.004931\n",
      "43   -1.172758\n",
      "44   -1.199728\n",
      "45   -1.952535\n",
      "46   -0.195655\n",
      "47   -1.390175\n",
      "48   -2.026117\n",
      "49   -1.848376\n",
      "50   -0.548558\n",
      "51   -1.190430\n",
      "52   -1.518876\n",
      "53   -0.536574\n",
      "54   -1.080519\n",
      "55   -0.774380\n",
      "56   -0.598759\n",
      "57   -0.223559\n",
      "58   -0.785953\n",
      "59   -1.164807\n",
      "60   -2.086304\n",
      "61   -1.026249\n",
      "62   -0.371570\n",
      "63   -1.080292\n",
      "64   -0.488806\n",
      "65   -1.532259\n",
      "66   -0.518902\n",
      "67   -0.725719\n",
      "68   -1.885390\n",
      "69   -1.070407\n",
      "70   -1.130649\n",
      "71   -1.536330\n",
      "72   -0.614489\n",
      "73   -0.905091\n",
      "74   -1.835030\n",
      "75   -1.083387\n",
      "76   -0.658061\n",
      "77   -2.763931\n",
      "78   -1.233338\n",
      "79   -0.421133\n",
      "Name: PC1, dtype: float64\n"
     ]
    }
   ],
   "source": [
    "indicesToKeep = result_df.loc[result_df['y'] == target]\n",
    "print(indicesToKeep['PC1'])"
   ]
  },
  {
   "cell_type": "code",
   "execution_count": null,
   "metadata": {},
   "outputs": [],
   "source": []
  }
 ],
 "metadata": {
  "kernelspec": {
   "display_name": "keras-gpu-kernel",
   "language": "python",
   "name": "keras-gpu-kernel"
  },
  "language_info": {
   "codemirror_mode": {
    "name": "ipython",
    "version": 3
   },
   "file_extension": ".py",
   "mimetype": "text/x-python",
   "name": "python",
   "nbconvert_exporter": "python",
   "pygments_lexer": "ipython3",
   "version": "3.6.12"
  }
 },
 "nbformat": 4,
 "nbformat_minor": 4
}
