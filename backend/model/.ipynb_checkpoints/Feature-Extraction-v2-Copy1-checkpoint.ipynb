{
 "cells": [
  {
   "cell_type": "code",
   "execution_count": 1,
   "metadata": {},
   "outputs": [
    {
     "name": "stderr",
     "output_type": "stream",
     "text": [
      "Using TensorFlow backend.\n"
     ]
    },
    {
     "name": "stdout",
     "output_type": "stream",
     "text": [
      "1 Physical GPUs, 1 Logical GPUs\n"
     ]
    }
   ],
   "source": [
    "import keras\n",
    "import numpy as np\n",
    "from keras.datasets import cifar10\n",
    "from keras.applications.resnet50 import ResNet50\n",
    "from keras.layers import GlobalAveragePooling2D, Dense\n",
    "from keras.preprocessing.image import ImageDataGenerator\n",
    "from keras.models import Model\n",
    "from skimage.transform import resize\n",
    "\n",
    "import tensorflow as tf\n",
    "gpus = tf.config.experimental.list_physical_devices('GPU')\n",
    "if gpus:\n",
    "    # Restrict TensorFlow to only allocate 1GB * 2 of memory on the first GPU\n",
    "    try:\n",
    "        tf.config.experimental.set_virtual_device_configuration(\n",
    "            gpus[0],\n",
    "            [tf.config.experimental.VirtualDeviceConfiguration(memory_limit=1024 * 2)])\n",
    "        logical_gpus = tf.config.experimental.list_logical_devices('GPU')\n",
    "        print(len(gpus), \"Physical GPUs,\", len(logical_gpus), \"Logical GPUs\")\n",
    "    except RuntimeError as e:\n",
    "        # Virtual devices must be set before GPUs have been initialized\n",
    "        print(e)"
   ]
  },
  {
   "cell_type": "code",
   "execution_count": 2,
   "metadata": {},
   "outputs": [],
   "source": [
    "NUM_CLASSES = 10\n",
    "BATCH_SIZE = 5\n",
    "NUM_EPOCHS = 10\n",
    "use_data_aug = False"
   ]
  },
  {
   "cell_type": "code",
   "execution_count": 3,
   "metadata": {},
   "outputs": [],
   "source": [
    "from tqdm import tqdm\n",
    "# img_arr is of shape (n, h, w, c)\n",
    "def resize_image_arr(img_arr):\n",
    "    x_resized_list = []\n",
    "    for i in tqdm(range(img_arr.shape[0])):\n",
    "        img = img_arr[0]\n",
    "        resized_img = resize(img, (224, 224))\n",
    "        x_resized_list.append(resized_img)\n",
    "    return np.stack(x_resized_list)\n",
    "\n",
    "\n"
   ]
  },
  {
   "cell_type": "code",
   "execution_count": 4,
   "metadata": {},
   "outputs": [],
   "source": [
    "(x_train, y_train), (x_test, y_test) = cifar10.load_data()"
   ]
  },
  {
   "cell_type": "code",
   "execution_count": 5,
   "metadata": {},
   "outputs": [
    {
     "data": {
      "text/html": [
       "<div>\n",
       "<style scoped>\n",
       "    .dataframe tbody tr th:only-of-type {\n",
       "        vertical-align: middle;\n",
       "    }\n",
       "\n",
       "    .dataframe tbody tr th {\n",
       "        vertical-align: top;\n",
       "    }\n",
       "\n",
       "    .dataframe thead th {\n",
       "        text-align: right;\n",
       "    }\n",
       "</style>\n",
       "<table border=\"1\" class=\"dataframe\">\n",
       "  <thead>\n",
       "    <tr style=\"text-align: right;\">\n",
       "      <th></th>\n",
       "      <th>0</th>\n",
       "      <th>1</th>\n",
       "      <th>2</th>\n",
       "      <th>3</th>\n",
       "      <th>4</th>\n",
       "      <th>5</th>\n",
       "      <th>6</th>\n",
       "      <th>7</th>\n",
       "      <th>8</th>\n",
       "      <th>9</th>\n",
       "      <th>...</th>\n",
       "      <th>3063</th>\n",
       "      <th>3064</th>\n",
       "      <th>3065</th>\n",
       "      <th>3066</th>\n",
       "      <th>3067</th>\n",
       "      <th>3068</th>\n",
       "      <th>3069</th>\n",
       "      <th>3070</th>\n",
       "      <th>3071</th>\n",
       "      <th>labels</th>\n",
       "    </tr>\n",
       "  </thead>\n",
       "  <tbody>\n",
       "    <tr>\n",
       "      <th>0</th>\n",
       "      <td>158</td>\n",
       "      <td>112</td>\n",
       "      <td>49</td>\n",
       "      <td>159</td>\n",
       "      <td>111</td>\n",
       "      <td>47</td>\n",
       "      <td>165</td>\n",
       "      <td>116</td>\n",
       "      <td>51</td>\n",
       "      <td>166</td>\n",
       "      <td>...</td>\n",
       "      <td>24</td>\n",
       "      <td>77</td>\n",
       "      <td>124</td>\n",
       "      <td>34</td>\n",
       "      <td>84</td>\n",
       "      <td>129</td>\n",
       "      <td>21</td>\n",
       "      <td>67</td>\n",
       "      <td>110</td>\n",
       "      <td>3</td>\n",
       "    </tr>\n",
       "    <tr>\n",
       "      <th>1</th>\n",
       "      <td>235</td>\n",
       "      <td>235</td>\n",
       "      <td>235</td>\n",
       "      <td>231</td>\n",
       "      <td>231</td>\n",
       "      <td>231</td>\n",
       "      <td>232</td>\n",
       "      <td>232</td>\n",
       "      <td>232</td>\n",
       "      <td>232</td>\n",
       "      <td>...</td>\n",
       "      <td>168</td>\n",
       "      <td>183</td>\n",
       "      <td>178</td>\n",
       "      <td>180</td>\n",
       "      <td>195</td>\n",
       "      <td>191</td>\n",
       "      <td>186</td>\n",
       "      <td>200</td>\n",
       "      <td>199</td>\n",
       "      <td>8</td>\n",
       "    </tr>\n",
       "    <tr>\n",
       "      <th>2</th>\n",
       "      <td>158</td>\n",
       "      <td>190</td>\n",
       "      <td>222</td>\n",
       "      <td>158</td>\n",
       "      <td>187</td>\n",
       "      <td>218</td>\n",
       "      <td>139</td>\n",
       "      <td>166</td>\n",
       "      <td>194</td>\n",
       "      <td>132</td>\n",
       "      <td>...</td>\n",
       "      <td>5</td>\n",
       "      <td>6</td>\n",
       "      <td>8</td>\n",
       "      <td>4</td>\n",
       "      <td>5</td>\n",
       "      <td>3</td>\n",
       "      <td>7</td>\n",
       "      <td>8</td>\n",
       "      <td>7</td>\n",
       "      <td>8</td>\n",
       "    </tr>\n",
       "    <tr>\n",
       "      <th>3</th>\n",
       "      <td>155</td>\n",
       "      <td>156</td>\n",
       "      <td>149</td>\n",
       "      <td>167</td>\n",
       "      <td>176</td>\n",
       "      <td>187</td>\n",
       "      <td>176</td>\n",
       "      <td>179</td>\n",
       "      <td>193</td>\n",
       "      <td>190</td>\n",
       "      <td>...</td>\n",
       "      <td>60</td>\n",
       "      <td>63</td>\n",
       "      <td>50</td>\n",
       "      <td>64</td>\n",
       "      <td>65</td>\n",
       "      <td>52</td>\n",
       "      <td>73</td>\n",
       "      <td>68</td>\n",
       "      <td>50</td>\n",
       "      <td>0</td>\n",
       "    </tr>\n",
       "    <tr>\n",
       "      <th>4</th>\n",
       "      <td>65</td>\n",
       "      <td>68</td>\n",
       "      <td>50</td>\n",
       "      <td>70</td>\n",
       "      <td>81</td>\n",
       "      <td>64</td>\n",
       "      <td>48</td>\n",
       "      <td>64</td>\n",
       "      <td>46</td>\n",
       "      <td>30</td>\n",
       "      <td>...</td>\n",
       "      <td>143</td>\n",
       "      <td>179</td>\n",
       "      <td>136</td>\n",
       "      <td>154</td>\n",
       "      <td>185</td>\n",
       "      <td>146</td>\n",
       "      <td>128</td>\n",
       "      <td>156</td>\n",
       "      <td>117</td>\n",
       "      <td>6</td>\n",
       "    </tr>\n",
       "    <tr>\n",
       "      <th>...</th>\n",
       "      <td>...</td>\n",
       "      <td>...</td>\n",
       "      <td>...</td>\n",
       "      <td>...</td>\n",
       "      <td>...</td>\n",
       "      <td>...</td>\n",
       "      <td>...</td>\n",
       "      <td>...</td>\n",
       "      <td>...</td>\n",
       "      <td>...</td>\n",
       "      <td>...</td>\n",
       "      <td>...</td>\n",
       "      <td>...</td>\n",
       "      <td>...</td>\n",
       "      <td>...</td>\n",
       "      <td>...</td>\n",
       "      <td>...</td>\n",
       "      <td>...</td>\n",
       "      <td>...</td>\n",
       "      <td>...</td>\n",
       "      <td>...</td>\n",
       "    </tr>\n",
       "    <tr>\n",
       "      <th>9995</th>\n",
       "      <td>76</td>\n",
       "      <td>78</td>\n",
       "      <td>133</td>\n",
       "      <td>76</td>\n",
       "      <td>78</td>\n",
       "      <td>134</td>\n",
       "      <td>77</td>\n",
       "      <td>80</td>\n",
       "      <td>132</td>\n",
       "      <td>76</td>\n",
       "      <td>...</td>\n",
       "      <td>204</td>\n",
       "      <td>219</td>\n",
       "      <td>236</td>\n",
       "      <td>200</td>\n",
       "      <td>215</td>\n",
       "      <td>234</td>\n",
       "      <td>199</td>\n",
       "      <td>216</td>\n",
       "      <td>236</td>\n",
       "      <td>8</td>\n",
       "    </tr>\n",
       "    <tr>\n",
       "      <th>9996</th>\n",
       "      <td>81</td>\n",
       "      <td>57</td>\n",
       "      <td>43</td>\n",
       "      <td>91</td>\n",
       "      <td>69</td>\n",
       "      <td>53</td>\n",
       "      <td>98</td>\n",
       "      <td>75</td>\n",
       "      <td>63</td>\n",
       "      <td>106</td>\n",
       "      <td>...</td>\n",
       "      <td>155</td>\n",
       "      <td>139</td>\n",
       "      <td>129</td>\n",
       "      <td>171</td>\n",
       "      <td>167</td>\n",
       "      <td>147</td>\n",
       "      <td>167</td>\n",
       "      <td>164</td>\n",
       "      <td>160</td>\n",
       "      <td>3</td>\n",
       "    </tr>\n",
       "    <tr>\n",
       "      <th>9997</th>\n",
       "      <td>20</td>\n",
       "      <td>15</td>\n",
       "      <td>12</td>\n",
       "      <td>19</td>\n",
       "      <td>14</td>\n",
       "      <td>11</td>\n",
       "      <td>15</td>\n",
       "      <td>14</td>\n",
       "      <td>11</td>\n",
       "      <td>15</td>\n",
       "      <td>...</td>\n",
       "      <td>24</td>\n",
       "      <td>23</td>\n",
       "      <td>50</td>\n",
       "      <td>26</td>\n",
       "      <td>23</td>\n",
       "      <td>53</td>\n",
       "      <td>25</td>\n",
       "      <td>20</td>\n",
       "      <td>47</td>\n",
       "      <td>5</td>\n",
       "    </tr>\n",
       "    <tr>\n",
       "      <th>9998</th>\n",
       "      <td>25</td>\n",
       "      <td>40</td>\n",
       "      <td>12</td>\n",
       "      <td>15</td>\n",
       "      <td>36</td>\n",
       "      <td>3</td>\n",
       "      <td>23</td>\n",
       "      <td>41</td>\n",
       "      <td>18</td>\n",
       "      <td>17</td>\n",
       "      <td>...</td>\n",
       "      <td>93</td>\n",
       "      <td>124</td>\n",
       "      <td>80</td>\n",
       "      <td>95</td>\n",
       "      <td>123</td>\n",
       "      <td>81</td>\n",
       "      <td>92</td>\n",
       "      <td>120</td>\n",
       "      <td>80</td>\n",
       "      <td>1</td>\n",
       "    </tr>\n",
       "    <tr>\n",
       "      <th>9999</th>\n",
       "      <td>73</td>\n",
       "      <td>78</td>\n",
       "      <td>75</td>\n",
       "      <td>98</td>\n",
       "      <td>103</td>\n",
       "      <td>113</td>\n",
       "      <td>99</td>\n",
       "      <td>106</td>\n",
       "      <td>114</td>\n",
       "      <td>77</td>\n",
       "      <td>...</td>\n",
       "      <td>116</td>\n",
       "      <td>115</td>\n",
       "      <td>94</td>\n",
       "      <td>68</td>\n",
       "      <td>65</td>\n",
       "      <td>58</td>\n",
       "      <td>27</td>\n",
       "      <td>26</td>\n",
       "      <td>26</td>\n",
       "      <td>7</td>\n",
       "    </tr>\n",
       "  </tbody>\n",
       "</table>\n",
       "<p>10000 rows × 3073 columns</p>\n",
       "</div>"
      ],
      "text/plain": [
       "        0    1    2    3    4    5    6    7    8    9  ...  3063  3064  3065  \\\n",
       "0     158  112   49  159  111   47  165  116   51  166  ...    24    77   124   \n",
       "1     235  235  235  231  231  231  232  232  232  232  ...   168   183   178   \n",
       "2     158  190  222  158  187  218  139  166  194  132  ...     5     6     8   \n",
       "3     155  156  149  167  176  187  176  179  193  190  ...    60    63    50   \n",
       "4      65   68   50   70   81   64   48   64   46   30  ...   143   179   136   \n",
       "...   ...  ...  ...  ...  ...  ...  ...  ...  ...  ...  ...   ...   ...   ...   \n",
       "9995   76   78  133   76   78  134   77   80  132   76  ...   204   219   236   \n",
       "9996   81   57   43   91   69   53   98   75   63  106  ...   155   139   129   \n",
       "9997   20   15   12   19   14   11   15   14   11   15  ...    24    23    50   \n",
       "9998   25   40   12   15   36    3   23   41   18   17  ...    93   124    80   \n",
       "9999   73   78   75   98  103  113   99  106  114   77  ...   116   115    94   \n",
       "\n",
       "      3066  3067  3068  3069  3070  3071  labels  \n",
       "0       34    84   129    21    67   110       3  \n",
       "1      180   195   191   186   200   199       8  \n",
       "2        4     5     3     7     8     7       8  \n",
       "3       64    65    52    73    68    50       0  \n",
       "4      154   185   146   128   156   117       6  \n",
       "...    ...   ...   ...   ...   ...   ...     ...  \n",
       "9995   200   215   234   199   216   236       8  \n",
       "9996   171   167   147   167   164   160       3  \n",
       "9997    26    23    53    25    20    47       5  \n",
       "9998    95   123    81    92   120    80       1  \n",
       "9999    68    65    58    27    26    26       7  \n",
       "\n",
       "[10000 rows x 3073 columns]"
      ]
     },
     "execution_count": 5,
     "metadata": {},
     "output_type": "execute_result"
    }
   ],
   "source": [
    "import pandas as pd\n",
    "\n",
    "x_df= x_test.reshape(10000, x_test.shape[1] * x_test.shape[2] *x_test.shape[3] )\n",
    "\n",
    "imgs = pd.DataFrame() \n",
    "df_labels = pd.DataFrame() \n",
    "\n",
    "imgs = imgs.append(pd.DataFrame(x_df)) \n",
    "df_labels = df_labels.append(pd.DataFrame(y_test)) \n",
    "imgs['labels'] = df_labels \n",
    "\n",
    "imgs"
   ]
  },
  {
   "cell_type": "code",
   "execution_count": 6,
   "metadata": {},
   "outputs": [
    {
     "name": "stderr",
     "output_type": "stream",
     "text": [
      "100%|███████████████████████████████████████████████████████████████████████████████████████████| 10000/10000 [01:35<00:00, 104.86it/s]\n"
     ]
    }
   ],
   "source": [
    "x_test = resize_image_arr(x_test)"
   ]
  },
  {
   "cell_type": "code",
   "execution_count": 7,
   "metadata": {},
   "outputs": [],
   "source": [
    "# Convert class vectors to binary class matrices.\n",
    "#y_test = keras.utils.to_categorical(y_test, NUM_CLASSES)\n",
    "\n",
    "# Normalize the data\n",
    "x_test = x_test.astype('float32')\n",
    "x_test /= 255"
   ]
  },
  {
   "cell_type": "code",
   "execution_count": 9,
   "metadata": {},
   "outputs": [],
   "source": [
    "base_model = ResNet50(include_top=False, weights= None)"
   ]
  },
  {
   "cell_type": "code",
   "execution_count": 10,
   "metadata": {},
   "outputs": [
    {
     "name": "stdout",
     "output_type": "stream",
     "text": [
      "Model: \"resnet50\"\n",
      "__________________________________________________________________________________________________\n",
      "Layer (type)                    Output Shape         Param #     Connected to                     \n",
      "==================================================================================================\n",
      "input_2 (InputLayer)            (None, None, None, 3 0                                            \n",
      "__________________________________________________________________________________________________\n",
      "conv1_pad (ZeroPadding2D)       (None, None, None, 3 0           input_2[0][0]                    \n",
      "__________________________________________________________________________________________________\n",
      "conv1 (Conv2D)                  (None, None, None, 6 9472        conv1_pad[0][0]                  \n",
      "__________________________________________________________________________________________________\n",
      "bn_conv1 (BatchNormalization)   (None, None, None, 6 256         conv1[0][0]                      \n",
      "__________________________________________________________________________________________________\n",
      "activation_50 (Activation)      (None, None, None, 6 0           bn_conv1[0][0]                   \n",
      "__________________________________________________________________________________________________\n",
      "pool1_pad (ZeroPadding2D)       (None, None, None, 6 0           activation_50[0][0]              \n",
      "__________________________________________________________________________________________________\n",
      "max_pooling2d_2 (MaxPooling2D)  (None, None, None, 6 0           pool1_pad[0][0]                  \n",
      "__________________________________________________________________________________________________\n",
      "res2a_branch2a (Conv2D)         (None, None, None, 6 4160        max_pooling2d_2[0][0]            \n",
      "__________________________________________________________________________________________________\n",
      "bn2a_branch2a (BatchNormalizati (None, None, None, 6 256         res2a_branch2a[0][0]             \n",
      "__________________________________________________________________________________________________\n",
      "activation_51 (Activation)      (None, None, None, 6 0           bn2a_branch2a[0][0]              \n",
      "__________________________________________________________________________________________________\n",
      "res2a_branch2b (Conv2D)         (None, None, None, 6 36928       activation_51[0][0]              \n",
      "__________________________________________________________________________________________________\n",
      "bn2a_branch2b (BatchNormalizati (None, None, None, 6 256         res2a_branch2b[0][0]             \n",
      "__________________________________________________________________________________________________\n",
      "activation_52 (Activation)      (None, None, None, 6 0           bn2a_branch2b[0][0]              \n",
      "__________________________________________________________________________________________________\n",
      "res2a_branch2c (Conv2D)         (None, None, None, 2 16640       activation_52[0][0]              \n",
      "__________________________________________________________________________________________________\n",
      "res2a_branch1 (Conv2D)          (None, None, None, 2 16640       max_pooling2d_2[0][0]            \n",
      "__________________________________________________________________________________________________\n",
      "bn2a_branch2c (BatchNormalizati (None, None, None, 2 1024        res2a_branch2c[0][0]             \n",
      "__________________________________________________________________________________________________\n",
      "bn2a_branch1 (BatchNormalizatio (None, None, None, 2 1024        res2a_branch1[0][0]              \n",
      "__________________________________________________________________________________________________\n",
      "add_17 (Add)                    (None, None, None, 2 0           bn2a_branch2c[0][0]              \n",
      "                                                                 bn2a_branch1[0][0]               \n",
      "__________________________________________________________________________________________________\n",
      "activation_53 (Activation)      (None, None, None, 2 0           add_17[0][0]                     \n",
      "__________________________________________________________________________________________________\n",
      "res2b_branch2a (Conv2D)         (None, None, None, 6 16448       activation_53[0][0]              \n",
      "__________________________________________________________________________________________________\n",
      "bn2b_branch2a (BatchNormalizati (None, None, None, 6 256         res2b_branch2a[0][0]             \n",
      "__________________________________________________________________________________________________\n",
      "activation_54 (Activation)      (None, None, None, 6 0           bn2b_branch2a[0][0]              \n",
      "__________________________________________________________________________________________________\n",
      "res2b_branch2b (Conv2D)         (None, None, None, 6 36928       activation_54[0][0]              \n",
      "__________________________________________________________________________________________________\n",
      "bn2b_branch2b (BatchNormalizati (None, None, None, 6 256         res2b_branch2b[0][0]             \n",
      "__________________________________________________________________________________________________\n",
      "activation_55 (Activation)      (None, None, None, 6 0           bn2b_branch2b[0][0]              \n",
      "__________________________________________________________________________________________________\n",
      "res2b_branch2c (Conv2D)         (None, None, None, 2 16640       activation_55[0][0]              \n",
      "__________________________________________________________________________________________________\n",
      "bn2b_branch2c (BatchNormalizati (None, None, None, 2 1024        res2b_branch2c[0][0]             \n",
      "__________________________________________________________________________________________________\n",
      "add_18 (Add)                    (None, None, None, 2 0           bn2b_branch2c[0][0]              \n",
      "                                                                 activation_53[0][0]              \n",
      "__________________________________________________________________________________________________\n",
      "activation_56 (Activation)      (None, None, None, 2 0           add_18[0][0]                     \n",
      "__________________________________________________________________________________________________\n",
      "res2c_branch2a (Conv2D)         (None, None, None, 6 16448       activation_56[0][0]              \n",
      "__________________________________________________________________________________________________\n",
      "bn2c_branch2a (BatchNormalizati (None, None, None, 6 256         res2c_branch2a[0][0]             \n",
      "__________________________________________________________________________________________________\n",
      "activation_57 (Activation)      (None, None, None, 6 0           bn2c_branch2a[0][0]              \n",
      "__________________________________________________________________________________________________\n",
      "res2c_branch2b (Conv2D)         (None, None, None, 6 36928       activation_57[0][0]              \n",
      "__________________________________________________________________________________________________\n",
      "bn2c_branch2b (BatchNormalizati (None, None, None, 6 256         res2c_branch2b[0][0]             \n",
      "__________________________________________________________________________________________________\n",
      "activation_58 (Activation)      (None, None, None, 6 0           bn2c_branch2b[0][0]              \n",
      "__________________________________________________________________________________________________\n",
      "res2c_branch2c (Conv2D)         (None, None, None, 2 16640       activation_58[0][0]              \n",
      "__________________________________________________________________________________________________\n",
      "bn2c_branch2c (BatchNormalizati (None, None, None, 2 1024        res2c_branch2c[0][0]             \n",
      "__________________________________________________________________________________________________\n",
      "add_19 (Add)                    (None, None, None, 2 0           bn2c_branch2c[0][0]              \n",
      "                                                                 activation_56[0][0]              \n",
      "__________________________________________________________________________________________________\n",
      "activation_59 (Activation)      (None, None, None, 2 0           add_19[0][0]                     \n",
      "__________________________________________________________________________________________________\n",
      "res3a_branch2a (Conv2D)         (None, None, None, 1 32896       activation_59[0][0]              \n",
      "__________________________________________________________________________________________________\n",
      "bn3a_branch2a (BatchNormalizati (None, None, None, 1 512         res3a_branch2a[0][0]             \n",
      "__________________________________________________________________________________________________\n",
      "activation_60 (Activation)      (None, None, None, 1 0           bn3a_branch2a[0][0]              \n",
      "__________________________________________________________________________________________________\n",
      "res3a_branch2b (Conv2D)         (None, None, None, 1 147584      activation_60[0][0]              \n",
      "__________________________________________________________________________________________________\n",
      "bn3a_branch2b (BatchNormalizati (None, None, None, 1 512         res3a_branch2b[0][0]             \n",
      "__________________________________________________________________________________________________\n",
      "activation_61 (Activation)      (None, None, None, 1 0           bn3a_branch2b[0][0]              \n",
      "__________________________________________________________________________________________________\n",
      "res3a_branch2c (Conv2D)         (None, None, None, 5 66048       activation_61[0][0]              \n",
      "__________________________________________________________________________________________________\n",
      "res3a_branch1 (Conv2D)          (None, None, None, 5 131584      activation_59[0][0]              \n",
      "__________________________________________________________________________________________________\n",
      "bn3a_branch2c (BatchNormalizati (None, None, None, 5 2048        res3a_branch2c[0][0]             \n",
      "__________________________________________________________________________________________________\n",
      "bn3a_branch1 (BatchNormalizatio (None, None, None, 5 2048        res3a_branch1[0][0]              \n",
      "__________________________________________________________________________________________________\n",
      "add_20 (Add)                    (None, None, None, 5 0           bn3a_branch2c[0][0]              \n",
      "                                                                 bn3a_branch1[0][0]               \n",
      "__________________________________________________________________________________________________\n",
      "activation_62 (Activation)      (None, None, None, 5 0           add_20[0][0]                     \n",
      "__________________________________________________________________________________________________\n",
      "res3b_branch2a (Conv2D)         (None, None, None, 1 65664       activation_62[0][0]              \n",
      "__________________________________________________________________________________________________\n",
      "bn3b_branch2a (BatchNormalizati (None, None, None, 1 512         res3b_branch2a[0][0]             \n",
      "__________________________________________________________________________________________________\n",
      "activation_63 (Activation)      (None, None, None, 1 0           bn3b_branch2a[0][0]              \n",
      "__________________________________________________________________________________________________\n",
      "res3b_branch2b (Conv2D)         (None, None, None, 1 147584      activation_63[0][0]              \n",
      "__________________________________________________________________________________________________\n",
      "bn3b_branch2b (BatchNormalizati (None, None, None, 1 512         res3b_branch2b[0][0]             \n",
      "__________________________________________________________________________________________________\n",
      "activation_64 (Activation)      (None, None, None, 1 0           bn3b_branch2b[0][0]              \n",
      "__________________________________________________________________________________________________\n",
      "res3b_branch2c (Conv2D)         (None, None, None, 5 66048       activation_64[0][0]              \n",
      "__________________________________________________________________________________________________\n",
      "bn3b_branch2c (BatchNormalizati (None, None, None, 5 2048        res3b_branch2c[0][0]             \n",
      "__________________________________________________________________________________________________\n",
      "add_21 (Add)                    (None, None, None, 5 0           bn3b_branch2c[0][0]              \n",
      "                                                                 activation_62[0][0]              \n",
      "__________________________________________________________________________________________________\n",
      "activation_65 (Activation)      (None, None, None, 5 0           add_21[0][0]                     \n",
      "__________________________________________________________________________________________________\n",
      "res3c_branch2a (Conv2D)         (None, None, None, 1 65664       activation_65[0][0]              \n",
      "__________________________________________________________________________________________________\n",
      "bn3c_branch2a (BatchNormalizati (None, None, None, 1 512         res3c_branch2a[0][0]             \n",
      "__________________________________________________________________________________________________\n",
      "activation_66 (Activation)      (None, None, None, 1 0           bn3c_branch2a[0][0]              \n",
      "__________________________________________________________________________________________________\n",
      "res3c_branch2b (Conv2D)         (None, None, None, 1 147584      activation_66[0][0]              \n",
      "__________________________________________________________________________________________________\n",
      "bn3c_branch2b (BatchNormalizati (None, None, None, 1 512         res3c_branch2b[0][0]             \n",
      "__________________________________________________________________________________________________\n",
      "activation_67 (Activation)      (None, None, None, 1 0           bn3c_branch2b[0][0]              \n",
      "__________________________________________________________________________________________________\n",
      "res3c_branch2c (Conv2D)         (None, None, None, 5 66048       activation_67[0][0]              \n",
      "__________________________________________________________________________________________________\n",
      "bn3c_branch2c (BatchNormalizati (None, None, None, 5 2048        res3c_branch2c[0][0]             \n",
      "__________________________________________________________________________________________________\n",
      "add_22 (Add)                    (None, None, None, 5 0           bn3c_branch2c[0][0]              \n",
      "                                                                 activation_65[0][0]              \n",
      "__________________________________________________________________________________________________\n",
      "activation_68 (Activation)      (None, None, None, 5 0           add_22[0][0]                     \n",
      "__________________________________________________________________________________________________\n",
      "res3d_branch2a (Conv2D)         (None, None, None, 1 65664       activation_68[0][0]              \n",
      "__________________________________________________________________________________________________\n",
      "bn3d_branch2a (BatchNormalizati (None, None, None, 1 512         res3d_branch2a[0][0]             \n",
      "__________________________________________________________________________________________________\n",
      "activation_69 (Activation)      (None, None, None, 1 0           bn3d_branch2a[0][0]              \n",
      "__________________________________________________________________________________________________\n",
      "res3d_branch2b (Conv2D)         (None, None, None, 1 147584      activation_69[0][0]              \n",
      "__________________________________________________________________________________________________\n",
      "bn3d_branch2b (BatchNormalizati (None, None, None, 1 512         res3d_branch2b[0][0]             \n",
      "__________________________________________________________________________________________________\n",
      "activation_70 (Activation)      (None, None, None, 1 0           bn3d_branch2b[0][0]              \n",
      "__________________________________________________________________________________________________\n",
      "res3d_branch2c (Conv2D)         (None, None, None, 5 66048       activation_70[0][0]              \n",
      "__________________________________________________________________________________________________\n",
      "bn3d_branch2c (BatchNormalizati (None, None, None, 5 2048        res3d_branch2c[0][0]             \n",
      "__________________________________________________________________________________________________\n",
      "add_23 (Add)                    (None, None, None, 5 0           bn3d_branch2c[0][0]              \n",
      "                                                                 activation_68[0][0]              \n",
      "__________________________________________________________________________________________________\n",
      "activation_71 (Activation)      (None, None, None, 5 0           add_23[0][0]                     \n",
      "__________________________________________________________________________________________________\n",
      "res4a_branch2a (Conv2D)         (None, None, None, 2 131328      activation_71[0][0]              \n",
      "__________________________________________________________________________________________________\n",
      "bn4a_branch2a (BatchNormalizati (None, None, None, 2 1024        res4a_branch2a[0][0]             \n",
      "__________________________________________________________________________________________________\n",
      "activation_72 (Activation)      (None, None, None, 2 0           bn4a_branch2a[0][0]              \n",
      "__________________________________________________________________________________________________\n",
      "res4a_branch2b (Conv2D)         (None, None, None, 2 590080      activation_72[0][0]              \n",
      "__________________________________________________________________________________________________\n",
      "bn4a_branch2b (BatchNormalizati (None, None, None, 2 1024        res4a_branch2b[0][0]             \n",
      "__________________________________________________________________________________________________\n",
      "activation_73 (Activation)      (None, None, None, 2 0           bn4a_branch2b[0][0]              \n",
      "__________________________________________________________________________________________________\n",
      "res4a_branch2c (Conv2D)         (None, None, None, 1 263168      activation_73[0][0]              \n",
      "__________________________________________________________________________________________________\n",
      "res4a_branch1 (Conv2D)          (None, None, None, 1 525312      activation_71[0][0]              \n",
      "__________________________________________________________________________________________________\n",
      "bn4a_branch2c (BatchNormalizati (None, None, None, 1 4096        res4a_branch2c[0][0]             \n",
      "__________________________________________________________________________________________________\n",
      "bn4a_branch1 (BatchNormalizatio (None, None, None, 1 4096        res4a_branch1[0][0]              \n",
      "__________________________________________________________________________________________________\n",
      "add_24 (Add)                    (None, None, None, 1 0           bn4a_branch2c[0][0]              \n",
      "                                                                 bn4a_branch1[0][0]               \n",
      "__________________________________________________________________________________________________\n",
      "activation_74 (Activation)      (None, None, None, 1 0           add_24[0][0]                     \n",
      "__________________________________________________________________________________________________\n",
      "res4b_branch2a (Conv2D)         (None, None, None, 2 262400      activation_74[0][0]              \n",
      "__________________________________________________________________________________________________\n",
      "bn4b_branch2a (BatchNormalizati (None, None, None, 2 1024        res4b_branch2a[0][0]             \n",
      "__________________________________________________________________________________________________\n",
      "activation_75 (Activation)      (None, None, None, 2 0           bn4b_branch2a[0][0]              \n",
      "__________________________________________________________________________________________________\n",
      "res4b_branch2b (Conv2D)         (None, None, None, 2 590080      activation_75[0][0]              \n",
      "__________________________________________________________________________________________________\n",
      "bn4b_branch2b (BatchNormalizati (None, None, None, 2 1024        res4b_branch2b[0][0]             \n",
      "__________________________________________________________________________________________________\n",
      "activation_76 (Activation)      (None, None, None, 2 0           bn4b_branch2b[0][0]              \n",
      "__________________________________________________________________________________________________\n",
      "res4b_branch2c (Conv2D)         (None, None, None, 1 263168      activation_76[0][0]              \n",
      "__________________________________________________________________________________________________\n",
      "bn4b_branch2c (BatchNormalizati (None, None, None, 1 4096        res4b_branch2c[0][0]             \n",
      "__________________________________________________________________________________________________\n",
      "add_25 (Add)                    (None, None, None, 1 0           bn4b_branch2c[0][0]              \n",
      "                                                                 activation_74[0][0]              \n",
      "__________________________________________________________________________________________________\n",
      "activation_77 (Activation)      (None, None, None, 1 0           add_25[0][0]                     \n",
      "__________________________________________________________________________________________________\n",
      "res4c_branch2a (Conv2D)         (None, None, None, 2 262400      activation_77[0][0]              \n",
      "__________________________________________________________________________________________________\n",
      "bn4c_branch2a (BatchNormalizati (None, None, None, 2 1024        res4c_branch2a[0][0]             \n",
      "__________________________________________________________________________________________________\n",
      "activation_78 (Activation)      (None, None, None, 2 0           bn4c_branch2a[0][0]              \n",
      "__________________________________________________________________________________________________\n",
      "res4c_branch2b (Conv2D)         (None, None, None, 2 590080      activation_78[0][0]              \n",
      "__________________________________________________________________________________________________\n",
      "bn4c_branch2b (BatchNormalizati (None, None, None, 2 1024        res4c_branch2b[0][0]             \n",
      "__________________________________________________________________________________________________\n",
      "activation_79 (Activation)      (None, None, None, 2 0           bn4c_branch2b[0][0]              \n",
      "__________________________________________________________________________________________________\n",
      "res4c_branch2c (Conv2D)         (None, None, None, 1 263168      activation_79[0][0]              \n",
      "__________________________________________________________________________________________________\n",
      "bn4c_branch2c (BatchNormalizati (None, None, None, 1 4096        res4c_branch2c[0][0]             \n",
      "__________________________________________________________________________________________________\n",
      "add_26 (Add)                    (None, None, None, 1 0           bn4c_branch2c[0][0]              \n",
      "                                                                 activation_77[0][0]              \n",
      "__________________________________________________________________________________________________\n",
      "activation_80 (Activation)      (None, None, None, 1 0           add_26[0][0]                     \n",
      "__________________________________________________________________________________________________\n",
      "res4d_branch2a (Conv2D)         (None, None, None, 2 262400      activation_80[0][0]              \n",
      "__________________________________________________________________________________________________\n",
      "bn4d_branch2a (BatchNormalizati (None, None, None, 2 1024        res4d_branch2a[0][0]             \n",
      "__________________________________________________________________________________________________\n",
      "activation_81 (Activation)      (None, None, None, 2 0           bn4d_branch2a[0][0]              \n",
      "__________________________________________________________________________________________________\n",
      "res4d_branch2b (Conv2D)         (None, None, None, 2 590080      activation_81[0][0]              \n",
      "__________________________________________________________________________________________________\n",
      "bn4d_branch2b (BatchNormalizati (None, None, None, 2 1024        res4d_branch2b[0][0]             \n",
      "__________________________________________________________________________________________________\n",
      "activation_82 (Activation)      (None, None, None, 2 0           bn4d_branch2b[0][0]              \n",
      "__________________________________________________________________________________________________\n",
      "res4d_branch2c (Conv2D)         (None, None, None, 1 263168      activation_82[0][0]              \n",
      "__________________________________________________________________________________________________\n",
      "bn4d_branch2c (BatchNormalizati (None, None, None, 1 4096        res4d_branch2c[0][0]             \n",
      "__________________________________________________________________________________________________\n",
      "add_27 (Add)                    (None, None, None, 1 0           bn4d_branch2c[0][0]              \n",
      "                                                                 activation_80[0][0]              \n",
      "__________________________________________________________________________________________________\n",
      "activation_83 (Activation)      (None, None, None, 1 0           add_27[0][0]                     \n",
      "__________________________________________________________________________________________________\n",
      "res4e_branch2a (Conv2D)         (None, None, None, 2 262400      activation_83[0][0]              \n",
      "__________________________________________________________________________________________________\n",
      "bn4e_branch2a (BatchNormalizati (None, None, None, 2 1024        res4e_branch2a[0][0]             \n",
      "__________________________________________________________________________________________________\n",
      "activation_84 (Activation)      (None, None, None, 2 0           bn4e_branch2a[0][0]              \n",
      "__________________________________________________________________________________________________\n",
      "res4e_branch2b (Conv2D)         (None, None, None, 2 590080      activation_84[0][0]              \n",
      "__________________________________________________________________________________________________\n",
      "bn4e_branch2b (BatchNormalizati (None, None, None, 2 1024        res4e_branch2b[0][0]             \n",
      "__________________________________________________________________________________________________\n",
      "activation_85 (Activation)      (None, None, None, 2 0           bn4e_branch2b[0][0]              \n",
      "__________________________________________________________________________________________________\n",
      "res4e_branch2c (Conv2D)         (None, None, None, 1 263168      activation_85[0][0]              \n",
      "__________________________________________________________________________________________________\n",
      "bn4e_branch2c (BatchNormalizati (None, None, None, 1 4096        res4e_branch2c[0][0]             \n",
      "__________________________________________________________________________________________________\n",
      "add_28 (Add)                    (None, None, None, 1 0           bn4e_branch2c[0][0]              \n",
      "                                                                 activation_83[0][0]              \n",
      "__________________________________________________________________________________________________\n",
      "activation_86 (Activation)      (None, None, None, 1 0           add_28[0][0]                     \n",
      "__________________________________________________________________________________________________\n",
      "res4f_branch2a (Conv2D)         (None, None, None, 2 262400      activation_86[0][0]              \n",
      "__________________________________________________________________________________________________\n",
      "bn4f_branch2a (BatchNormalizati (None, None, None, 2 1024        res4f_branch2a[0][0]             \n",
      "__________________________________________________________________________________________________\n",
      "activation_87 (Activation)      (None, None, None, 2 0           bn4f_branch2a[0][0]              \n",
      "__________________________________________________________________________________________________\n",
      "res4f_branch2b (Conv2D)         (None, None, None, 2 590080      activation_87[0][0]              \n",
      "__________________________________________________________________________________________________\n",
      "bn4f_branch2b (BatchNormalizati (None, None, None, 2 1024        res4f_branch2b[0][0]             \n",
      "__________________________________________________________________________________________________\n",
      "activation_88 (Activation)      (None, None, None, 2 0           bn4f_branch2b[0][0]              \n",
      "__________________________________________________________________________________________________\n",
      "res4f_branch2c (Conv2D)         (None, None, None, 1 263168      activation_88[0][0]              \n",
      "__________________________________________________________________________________________________\n",
      "bn4f_branch2c (BatchNormalizati (None, None, None, 1 4096        res4f_branch2c[0][0]             \n",
      "__________________________________________________________________________________________________\n",
      "add_29 (Add)                    (None, None, None, 1 0           bn4f_branch2c[0][0]              \n",
      "                                                                 activation_86[0][0]              \n",
      "__________________________________________________________________________________________________\n",
      "activation_89 (Activation)      (None, None, None, 1 0           add_29[0][0]                     \n",
      "__________________________________________________________________________________________________\n",
      "res5a_branch2a (Conv2D)         (None, None, None, 5 524800      activation_89[0][0]              \n",
      "__________________________________________________________________________________________________\n",
      "bn5a_branch2a (BatchNormalizati (None, None, None, 5 2048        res5a_branch2a[0][0]             \n",
      "__________________________________________________________________________________________________\n",
      "activation_90 (Activation)      (None, None, None, 5 0           bn5a_branch2a[0][0]              \n",
      "__________________________________________________________________________________________________\n",
      "res5a_branch2b (Conv2D)         (None, None, None, 5 2359808     activation_90[0][0]              \n",
      "__________________________________________________________________________________________________\n",
      "bn5a_branch2b (BatchNormalizati (None, None, None, 5 2048        res5a_branch2b[0][0]             \n",
      "__________________________________________________________________________________________________\n",
      "activation_91 (Activation)      (None, None, None, 5 0           bn5a_branch2b[0][0]              \n",
      "__________________________________________________________________________________________________\n",
      "res5a_branch2c (Conv2D)         (None, None, None, 2 1050624     activation_91[0][0]              \n",
      "__________________________________________________________________________________________________\n",
      "res5a_branch1 (Conv2D)          (None, None, None, 2 2099200     activation_89[0][0]              \n",
      "__________________________________________________________________________________________________\n",
      "bn5a_branch2c (BatchNormalizati (None, None, None, 2 8192        res5a_branch2c[0][0]             \n",
      "__________________________________________________________________________________________________\n",
      "bn5a_branch1 (BatchNormalizatio (None, None, None, 2 8192        res5a_branch1[0][0]              \n",
      "__________________________________________________________________________________________________\n",
      "add_30 (Add)                    (None, None, None, 2 0           bn5a_branch2c[0][0]              \n",
      "                                                                 bn5a_branch1[0][0]               \n",
      "__________________________________________________________________________________________________\n",
      "activation_92 (Activation)      (None, None, None, 2 0           add_30[0][0]                     \n",
      "__________________________________________________________________________________________________\n",
      "res5b_branch2a (Conv2D)         (None, None, None, 5 1049088     activation_92[0][0]              \n",
      "__________________________________________________________________________________________________\n",
      "bn5b_branch2a (BatchNormalizati (None, None, None, 5 2048        res5b_branch2a[0][0]             \n",
      "__________________________________________________________________________________________________\n",
      "activation_93 (Activation)      (None, None, None, 5 0           bn5b_branch2a[0][0]              \n",
      "__________________________________________________________________________________________________\n",
      "res5b_branch2b (Conv2D)         (None, None, None, 5 2359808     activation_93[0][0]              \n",
      "__________________________________________________________________________________________________\n",
      "bn5b_branch2b (BatchNormalizati (None, None, None, 5 2048        res5b_branch2b[0][0]             \n",
      "__________________________________________________________________________________________________\n",
      "activation_94 (Activation)      (None, None, None, 5 0           bn5b_branch2b[0][0]              \n",
      "__________________________________________________________________________________________________\n",
      "res5b_branch2c (Conv2D)         (None, None, None, 2 1050624     activation_94[0][0]              \n",
      "__________________________________________________________________________________________________\n",
      "bn5b_branch2c (BatchNormalizati (None, None, None, 2 8192        res5b_branch2c[0][0]             \n",
      "__________________________________________________________________________________________________\n",
      "add_31 (Add)                    (None, None, None, 2 0           bn5b_branch2c[0][0]              \n",
      "                                                                 activation_92[0][0]              \n",
      "__________________________________________________________________________________________________\n",
      "activation_95 (Activation)      (None, None, None, 2 0           add_31[0][0]                     \n",
      "__________________________________________________________________________________________________\n",
      "res5c_branch2a (Conv2D)         (None, None, None, 5 1049088     activation_95[0][0]              \n",
      "__________________________________________________________________________________________________\n",
      "bn5c_branch2a (BatchNormalizati (None, None, None, 5 2048        res5c_branch2a[0][0]             \n",
      "__________________________________________________________________________________________________\n",
      "activation_96 (Activation)      (None, None, None, 5 0           bn5c_branch2a[0][0]              \n",
      "__________________________________________________________________________________________________\n",
      "res5c_branch2b (Conv2D)         (None, None, None, 5 2359808     activation_96[0][0]              \n",
      "__________________________________________________________________________________________________\n",
      "bn5c_branch2b (BatchNormalizati (None, None, None, 5 2048        res5c_branch2b[0][0]             \n",
      "__________________________________________________________________________________________________\n",
      "activation_97 (Activation)      (None, None, None, 5 0           bn5c_branch2b[0][0]              \n",
      "__________________________________________________________________________________________________\n",
      "res5c_branch2c (Conv2D)         (None, None, None, 2 1050624     activation_97[0][0]              \n",
      "__________________________________________________________________________________________________\n",
      "bn5c_branch2c (BatchNormalizati (None, None, None, 2 8192        res5c_branch2c[0][0]             \n",
      "__________________________________________________________________________________________________\n",
      "add_32 (Add)                    (None, None, None, 2 0           bn5c_branch2c[0][0]              \n",
      "                                                                 activation_95[0][0]              \n",
      "__________________________________________________________________________________________________\n",
      "activation_98 (Activation)      (None, None, None, 2 0           add_32[0][0]                     \n",
      "==================================================================================================\n",
      "Total params: 23,587,712\n",
      "Trainable params: 23,534,592\n",
      "Non-trainable params: 53,120\n",
      "__________________________________________________________________________________________________\n"
     ]
    }
   ],
   "source": [
    "base_model.summary()"
   ]
  },
  {
   "cell_type": "code",
   "execution_count": null,
   "metadata": {},
   "outputs": [],
   "source": [
    "img_idx = imgs.loc[imgs['labels'] == i][:100]\n",
    "\n",
    "abc = img_idx.iloc[:, :3072]\n",
    "\n",
    "for idx, row in abc.iterrows():\n",
    "    print(idx)"
   ]
  },
  {
   "cell_type": "code",
   "execution_count": 12,
   "metadata": {},
   "outputs": [
    {
     "data": {
      "text/plain": [
       "(10000, 224, 224, 3)"
      ]
     },
     "execution_count": 12,
     "metadata": {},
     "output_type": "execute_result"
    }
   ],
   "source": [
    "x_test.shape"
   ]
  },
  {
   "cell_type": "code",
   "execution_count": null,
   "metadata": {},
   "outputs": [
    {
     "name": "stderr",
     "output_type": "stream",
     "text": [
      " 11%|██████████▌                                                                                     | 11/100 [00:00<00:00, 108.66it/s]"
     ]
    },
    {
     "name": "stdout",
     "output_type": "stream",
     "text": [
      "(100, 224, 224, 3)\n"
     ]
    },
    {
     "name": "stderr",
     "output_type": "stream",
     "text": [
      "100%|███████████████████████████████████████████████████████████████████████████████████████████████| 100/100 [00:00<00:00, 108.70it/s]\n",
      "C:\\Users\\benza-ord\\anaconda3\\envs\\keras-gpu\\lib\\site-packages\\ipykernel_launcher.py:47: UserWarning: Update your `Model` call to the Keras 2 API: `Model(inputs=[<tf.Tenso..., outputs=Tensor(\"co...)`\n"
     ]
    },
    {
     "name": "stdout",
     "output_type": "stream",
     "text": [
      "(100, 224, 224, 3)\n",
      "2 conv1\n",
      "preds (100, 112, 112, 64)\n",
      "(100, 802816)\n"
     ]
    },
    {
     "name": "stderr",
     "output_type": "stream",
     "text": [
      "C:\\Users\\benza-ord\\anaconda3\\envs\\keras-gpu\\lib\\site-packages\\sklearn\\decomposition\\_pca.py:555: RuntimeWarning: divide by zero encountered in true_divide\n",
      "  self.explained_variance_ / total_var.sum()\n",
      " 12%|███████████▌                                                                                    | 12/100 [00:00<00:00, 115.24it/s]"
     ]
    },
    {
     "name": "stdout",
     "output_type": "stream",
     "text": [
      "             PC1           PC2  target\n",
      "0   7.092519e-09 -3.773775e-19       3\n",
      "1   7.092517e-09 -3.495099e-19       8\n",
      "2   7.092517e-09 -3.495078e-19       8\n",
      "3   7.092517e-09 -3.495070e-19       0\n",
      "4   7.092517e-09 -3.495070e-19       6\n",
      "..           ...           ...     ...\n",
      "95  7.092517e-09 -3.495070e-19       6\n",
      "96  7.092518e-09  8.395150e-18       6\n",
      "97  7.092518e-09  8.395150e-18       0\n",
      "98  7.092518e-09  8.395150e-18       0\n",
      "99  7.092518e-09  8.395150e-18       7\n",
      "\n",
      "[100 rows x 3 columns]\n",
      "(100, 224, 224, 3)\n"
     ]
    },
    {
     "name": "stderr",
     "output_type": "stream",
     "text": [
      "100%|███████████████████████████████████████████████████████████████████████████████████████████████| 100/100 [00:00<00:00, 109.32it/s]\n",
      "C:\\Users\\benza-ord\\anaconda3\\envs\\keras-gpu\\lib\\site-packages\\ipykernel_launcher.py:47: UserWarning: Update your `Model` call to the Keras 2 API: `Model(inputs=[<tf.Tenso..., outputs=Tensor(\"co...)`\n"
     ]
    },
    {
     "name": "stdout",
     "output_type": "stream",
     "text": [
      "(100, 224, 224, 3)\n",
      "2 conv1\n",
      "preds (100, 112, 112, 64)\n",
      "(100, 802816)\n"
     ]
    },
    {
     "name": "stderr",
     "output_type": "stream",
     "text": [
      "C:\\Users\\benza-ord\\anaconda3\\envs\\keras-gpu\\lib\\site-packages\\sklearn\\decomposition\\_pca.py:555: RuntimeWarning: divide by zero encountered in true_divide\n",
      "  self.explained_variance_ / total_var.sum()\n",
      " 12%|███████████▌                                                                                    | 12/100 [00:00<00:00, 115.27it/s]"
     ]
    },
    {
     "name": "stdout",
     "output_type": "stream",
     "text": [
      "             PC1           PC2  target\n",
      "0   7.092519e-09 -3.773775e-19       3\n",
      "1   7.092517e-09 -3.495099e-19       8\n",
      "2   7.092517e-09 -3.495078e-19       8\n",
      "3   7.092517e-09 -3.495070e-19       0\n",
      "4   7.092517e-09 -3.495070e-19       6\n",
      "..           ...           ...     ...\n",
      "95  7.092517e-09 -3.495070e-19       6\n",
      "96  7.092518e-09  8.395150e-18       6\n",
      "97  7.092518e-09  8.395150e-18       0\n",
      "98  7.092518e-09  8.395150e-18       0\n",
      "99  7.092518e-09  8.395150e-18       7\n",
      "\n",
      "[100 rows x 3 columns]\n",
      "(100, 224, 224, 3)\n"
     ]
    },
    {
     "name": "stderr",
     "output_type": "stream",
     "text": [
      "100%|███████████████████████████████████████████████████████████████████████████████████████████████| 100/100 [00:00<00:00, 111.85it/s]\n",
      "C:\\Users\\benza-ord\\anaconda3\\envs\\keras-gpu\\lib\\site-packages\\ipykernel_launcher.py:47: UserWarning: Update your `Model` call to the Keras 2 API: `Model(inputs=[<tf.Tenso..., outputs=Tensor(\"co...)`\n"
     ]
    },
    {
     "name": "stdout",
     "output_type": "stream",
     "text": [
      "(100, 224, 224, 3)\n",
      "2 conv1\n",
      "preds (100, 112, 112, 64)\n",
      "(100, 802816)\n"
     ]
    },
    {
     "name": "stderr",
     "output_type": "stream",
     "text": [
      "C:\\Users\\benza-ord\\anaconda3\\envs\\keras-gpu\\lib\\site-packages\\sklearn\\decomposition\\_pca.py:555: RuntimeWarning: divide by zero encountered in true_divide\n",
      "  self.explained_variance_ / total_var.sum()\n",
      " 12%|███████████▌                                                                                    | 12/100 [00:00<00:00, 114.57it/s]"
     ]
    },
    {
     "name": "stdout",
     "output_type": "stream",
     "text": [
      "             PC1           PC2  target\n",
      "0   7.092519e-09 -3.773775e-19       3\n",
      "1   7.092517e-09 -3.495099e-19       8\n",
      "2   7.092517e-09 -3.495078e-19       8\n",
      "3   7.092517e-09 -3.495070e-19       0\n",
      "4   7.092517e-09 -3.495070e-19       6\n",
      "..           ...           ...     ...\n",
      "95  7.092517e-09 -3.495070e-19       6\n",
      "96  7.092518e-09  8.395150e-18       6\n",
      "97  7.092518e-09  8.395150e-18       0\n",
      "98  7.092518e-09  8.395150e-18       0\n",
      "99  7.092518e-09  8.395150e-18       7\n",
      "\n",
      "[100 rows x 3 columns]\n",
      "(100, 224, 224, 3)\n"
     ]
    },
    {
     "name": "stderr",
     "output_type": "stream",
     "text": [
      "100%|███████████████████████████████████████████████████████████████████████████████████████████████| 100/100 [00:00<00:00, 114.33it/s]\n",
      "C:\\Users\\benza-ord\\anaconda3\\envs\\keras-gpu\\lib\\site-packages\\ipykernel_launcher.py:47: UserWarning: Update your `Model` call to the Keras 2 API: `Model(inputs=[<tf.Tenso..., outputs=Tensor(\"co...)`\n"
     ]
    },
    {
     "name": "stdout",
     "output_type": "stream",
     "text": [
      "(100, 224, 224, 3)\n",
      "2 conv1\n",
      "preds (100, 112, 112, 64)\n",
      "(100, 802816)\n"
     ]
    },
    {
     "name": "stderr",
     "output_type": "stream",
     "text": [
      "C:\\Users\\benza-ord\\anaconda3\\envs\\keras-gpu\\lib\\site-packages\\sklearn\\decomposition\\_pca.py:555: RuntimeWarning: divide by zero encountered in true_divide\n",
      "  self.explained_variance_ / total_var.sum()\n",
      " 12%|███████████▌                                                                                    | 12/100 [00:00<00:00, 114.05it/s]"
     ]
    },
    {
     "name": "stdout",
     "output_type": "stream",
     "text": [
      "             PC1           PC2  target\n",
      "0   7.092519e-09 -3.773775e-19       3\n",
      "1   7.092517e-09 -3.495099e-19       8\n",
      "2   7.092517e-09 -3.495078e-19       8\n",
      "3   7.092517e-09 -3.495070e-19       0\n",
      "4   7.092517e-09 -3.495070e-19       6\n",
      "..           ...           ...     ...\n",
      "95  7.092517e-09 -3.495070e-19       6\n",
      "96  7.092518e-09  8.395150e-18       6\n",
      "97  7.092518e-09  8.395150e-18       0\n",
      "98  7.092518e-09  8.395150e-18       0\n",
      "99  7.092518e-09  8.395150e-18       7\n",
      "\n",
      "[100 rows x 3 columns]\n",
      "(100, 224, 224, 3)\n"
     ]
    },
    {
     "name": "stderr",
     "output_type": "stream",
     "text": [
      "100%|███████████████████████████████████████████████████████████████████████████████████████████████| 100/100 [00:00<00:00, 111.68it/s]\n",
      "C:\\Users\\benza-ord\\anaconda3\\envs\\keras-gpu\\lib\\site-packages\\ipykernel_launcher.py:47: UserWarning: Update your `Model` call to the Keras 2 API: `Model(inputs=[<tf.Tenso..., outputs=Tensor(\"co...)`\n"
     ]
    },
    {
     "name": "stdout",
     "output_type": "stream",
     "text": [
      "(100, 224, 224, 3)\n",
      "2 conv1\n",
      "preds (100, 112, 112, 64)\n",
      "(100, 802816)\n"
     ]
    },
    {
     "name": "stderr",
     "output_type": "stream",
     "text": [
      "C:\\Users\\benza-ord\\anaconda3\\envs\\keras-gpu\\lib\\site-packages\\sklearn\\decomposition\\_pca.py:555: RuntimeWarning: divide by zero encountered in true_divide\n",
      "  self.explained_variance_ / total_var.sum()\n",
      " 11%|██████████▌                                                                                     | 11/100 [00:00<00:00, 109.80it/s]"
     ]
    },
    {
     "name": "stdout",
     "output_type": "stream",
     "text": [
      "             PC1           PC2  target\n",
      "0   7.092519e-09 -3.773775e-19       3\n",
      "1   7.092517e-09 -3.495099e-19       8\n",
      "2   7.092517e-09 -3.495078e-19       8\n",
      "3   7.092517e-09 -3.495070e-19       0\n",
      "4   7.092517e-09 -3.495070e-19       6\n",
      "..           ...           ...     ...\n",
      "95  7.092517e-09 -3.495070e-19       6\n",
      "96  7.092518e-09  8.395150e-18       6\n",
      "97  7.092518e-09  8.395150e-18       0\n",
      "98  7.092518e-09  8.395150e-18       0\n",
      "99  7.092518e-09  8.395150e-18       7\n",
      "\n",
      "[100 rows x 3 columns]\n",
      "(100, 224, 224, 3)\n"
     ]
    },
    {
     "name": "stderr",
     "output_type": "stream",
     "text": [
      "100%|███████████████████████████████████████████████████████████████████████████████████████████████| 100/100 [00:00<00:00, 108.41it/s]\n",
      "C:\\Users\\benza-ord\\anaconda3\\envs\\keras-gpu\\lib\\site-packages\\ipykernel_launcher.py:47: UserWarning: Update your `Model` call to the Keras 2 API: `Model(inputs=[<tf.Tenso..., outputs=Tensor(\"co...)`\n"
     ]
    },
    {
     "name": "stdout",
     "output_type": "stream",
     "text": [
      "(100, 224, 224, 3)\n",
      "2 conv1\n",
      "preds (100, 112, 112, 64)\n",
      "(100, 802816)\n"
     ]
    },
    {
     "name": "stderr",
     "output_type": "stream",
     "text": [
      "C:\\Users\\benza-ord\\anaconda3\\envs\\keras-gpu\\lib\\site-packages\\sklearn\\decomposition\\_pca.py:555: RuntimeWarning: divide by zero encountered in true_divide\n",
      "  self.explained_variance_ / total_var.sum()\n",
      " 12%|███████████▌                                                                                    | 12/100 [00:00<00:00, 114.50it/s]"
     ]
    },
    {
     "name": "stdout",
     "output_type": "stream",
     "text": [
      "             PC1           PC2  target\n",
      "0   7.092519e-09 -3.773775e-19       3\n",
      "1   7.092517e-09 -3.495099e-19       8\n",
      "2   7.092517e-09 -3.495078e-19       8\n",
      "3   7.092517e-09 -3.495070e-19       0\n",
      "4   7.092517e-09 -3.495070e-19       6\n",
      "..           ...           ...     ...\n",
      "95  7.092517e-09 -3.495070e-19       6\n",
      "96  7.092518e-09  8.395150e-18       6\n",
      "97  7.092518e-09  8.395150e-18       0\n",
      "98  7.092518e-09  8.395150e-18       0\n",
      "99  7.092518e-09  8.395150e-18       7\n",
      "\n",
      "[100 rows x 3 columns]\n",
      "(100, 224, 224, 3)\n"
     ]
    },
    {
     "name": "stderr",
     "output_type": "stream",
     "text": [
      "100%|███████████████████████████████████████████████████████████████████████████████████████████████| 100/100 [00:00<00:00, 109.28it/s]\n",
      "C:\\Users\\benza-ord\\anaconda3\\envs\\keras-gpu\\lib\\site-packages\\ipykernel_launcher.py:47: UserWarning: Update your `Model` call to the Keras 2 API: `Model(inputs=[<tf.Tenso..., outputs=Tensor(\"co...)`\n"
     ]
    },
    {
     "name": "stdout",
     "output_type": "stream",
     "text": [
      "(100, 224, 224, 3)\n",
      "2 conv1\n",
      "preds (100, 112, 112, 64)\n",
      "(100, 802816)\n"
     ]
    },
    {
     "name": "stderr",
     "output_type": "stream",
     "text": [
      "C:\\Users\\benza-ord\\anaconda3\\envs\\keras-gpu\\lib\\site-packages\\sklearn\\decomposition\\_pca.py:555: RuntimeWarning: divide by zero encountered in true_divide\n",
      "  self.explained_variance_ / total_var.sum()\n",
      " 11%|██████████▌                                                                                     | 11/100 [00:00<00:00, 109.98it/s]"
     ]
    },
    {
     "name": "stdout",
     "output_type": "stream",
     "text": [
      "             PC1           PC2  target\n",
      "0   7.092519e-09 -3.773775e-19       3\n",
      "1   7.092517e-09 -3.495099e-19       8\n",
      "2   7.092517e-09 -3.495078e-19       8\n",
      "3   7.092517e-09 -3.495070e-19       0\n",
      "4   7.092517e-09 -3.495070e-19       6\n",
      "..           ...           ...     ...\n",
      "95  7.092517e-09 -3.495070e-19       6\n",
      "96  7.092518e-09  8.395150e-18       6\n",
      "97  7.092518e-09  8.395150e-18       0\n",
      "98  7.092518e-09  8.395150e-18       0\n",
      "99  7.092518e-09  8.395150e-18       7\n",
      "\n",
      "[100 rows x 3 columns]\n",
      "(100, 224, 224, 3)\n"
     ]
    },
    {
     "name": "stderr",
     "output_type": "stream",
     "text": [
      "100%|███████████████████████████████████████████████████████████████████████████████████████████████| 100/100 [00:00<00:00, 103.44it/s]\n",
      "C:\\Users\\benza-ord\\anaconda3\\envs\\keras-gpu\\lib\\site-packages\\ipykernel_launcher.py:47: UserWarning: Update your `Model` call to the Keras 2 API: `Model(inputs=[<tf.Tenso..., outputs=Tensor(\"co...)`\n"
     ]
    },
    {
     "name": "stdout",
     "output_type": "stream",
     "text": [
      "(100, 224, 224, 3)\n",
      "2 conv1\n",
      "preds (100, 112, 112, 64)\n",
      "(100, 802816)\n"
     ]
    },
    {
     "name": "stderr",
     "output_type": "stream",
     "text": [
      "C:\\Users\\benza-ord\\anaconda3\\envs\\keras-gpu\\lib\\site-packages\\sklearn\\decomposition\\_pca.py:555: RuntimeWarning: divide by zero encountered in true_divide\n",
      "  self.explained_variance_ / total_var.sum()\n",
      " 11%|██████████▌                                                                                     | 11/100 [00:00<00:00, 100.27it/s]"
     ]
    },
    {
     "name": "stdout",
     "output_type": "stream",
     "text": [
      "             PC1           PC2  target\n",
      "0   7.092519e-09 -3.773775e-19       3\n",
      "1   7.092517e-09 -3.495099e-19       8\n",
      "2   7.092517e-09 -3.495078e-19       8\n",
      "3   7.092517e-09 -3.495070e-19       0\n",
      "4   7.092517e-09 -3.495070e-19       6\n",
      "..           ...           ...     ...\n",
      "95  7.092517e-09 -3.495070e-19       6\n",
      "96  7.092518e-09  8.395150e-18       6\n",
      "97  7.092518e-09  8.395150e-18       0\n",
      "98  7.092518e-09  8.395150e-18       0\n",
      "99  7.092518e-09  8.395150e-18       7\n",
      "\n",
      "[100 rows x 3 columns]\n",
      "(100, 224, 224, 3)\n"
     ]
    },
    {
     "name": "stderr",
     "output_type": "stream",
     "text": [
      "100%|███████████████████████████████████████████████████████████████████████████████████████████████| 100/100 [00:00<00:00, 106.81it/s]\n",
      "C:\\Users\\benza-ord\\anaconda3\\envs\\keras-gpu\\lib\\site-packages\\ipykernel_launcher.py:47: UserWarning: Update your `Model` call to the Keras 2 API: `Model(inputs=[<tf.Tenso..., outputs=Tensor(\"co...)`\n"
     ]
    },
    {
     "name": "stdout",
     "output_type": "stream",
     "text": [
      "(100, 224, 224, 3)\n",
      "2 conv1\n",
      "preds (100, 112, 112, 64)\n",
      "(100, 802816)\n"
     ]
    },
    {
     "name": "stderr",
     "output_type": "stream",
     "text": [
      "C:\\Users\\benza-ord\\anaconda3\\envs\\keras-gpu\\lib\\site-packages\\sklearn\\decomposition\\_pca.py:555: RuntimeWarning: divide by zero encountered in true_divide\n",
      "  self.explained_variance_ / total_var.sum()\n",
      " 11%|██████████▌                                                                                     | 11/100 [00:00<00:00, 101.97it/s]"
     ]
    },
    {
     "name": "stdout",
     "output_type": "stream",
     "text": [
      "             PC1           PC2  target\n",
      "0   7.092519e-09 -3.773775e-19       3\n",
      "1   7.092517e-09 -3.495099e-19       8\n",
      "2   7.092517e-09 -3.495078e-19       8\n",
      "3   7.092517e-09 -3.495070e-19       0\n",
      "4   7.092517e-09 -3.495070e-19       6\n",
      "..           ...           ...     ...\n",
      "95  7.092517e-09 -3.495070e-19       6\n",
      "96  7.092518e-09  8.395150e-18       6\n",
      "97  7.092518e-09  8.395150e-18       0\n",
      "98  7.092518e-09  8.395150e-18       0\n",
      "99  7.092518e-09  8.395150e-18       7\n",
      "\n",
      "[100 rows x 3 columns]\n",
      "(100, 224, 224, 3)\n"
     ]
    },
    {
     "name": "stderr",
     "output_type": "stream",
     "text": [
      "100%|███████████████████████████████████████████████████████████████████████████████████████████████| 100/100 [00:00<00:00, 107.85it/s]\n",
      "C:\\Users\\benza-ord\\anaconda3\\envs\\keras-gpu\\lib\\site-packages\\ipykernel_launcher.py:47: UserWarning: Update your `Model` call to the Keras 2 API: `Model(inputs=[<tf.Tenso..., outputs=Tensor(\"co...)`\n"
     ]
    },
    {
     "name": "stdout",
     "output_type": "stream",
     "text": [
      "(100, 224, 224, 3)\n",
      "2 conv1\n",
      "preds (100, 112, 112, 64)\n",
      "(100, 802816)\n"
     ]
    },
    {
     "name": "stderr",
     "output_type": "stream",
     "text": [
      "C:\\Users\\benza-ord\\anaconda3\\envs\\keras-gpu\\lib\\site-packages\\sklearn\\decomposition\\_pca.py:555: RuntimeWarning: divide by zero encountered in true_divide\n",
      "  self.explained_variance_ / total_var.sum()\n",
      " 12%|███████████▌                                                                                    | 12/100 [00:00<00:00, 113.88it/s]"
     ]
    },
    {
     "name": "stdout",
     "output_type": "stream",
     "text": [
      "             PC1           PC2  target\n",
      "0   7.092519e-09 -3.773775e-19       3\n",
      "1   7.092517e-09 -3.495099e-19       8\n",
      "2   7.092517e-09 -3.495078e-19       8\n",
      "3   7.092517e-09 -3.495070e-19       0\n",
      "4   7.092517e-09 -3.495070e-19       6\n",
      "..           ...           ...     ...\n",
      "95  7.092517e-09 -3.495070e-19       6\n",
      "96  7.092518e-09  8.395150e-18       6\n",
      "97  7.092518e-09  8.395150e-18       0\n",
      "98  7.092518e-09  8.395150e-18       0\n",
      "99  7.092518e-09  8.395150e-18       7\n",
      "\n",
      "[100 rows x 3 columns]\n",
      "(100, 224, 224, 3)\n"
     ]
    },
    {
     "name": "stderr",
     "output_type": "stream",
     "text": [
      "100%|███████████████████████████████████████████████████████████████████████████████████████████████| 100/100 [00:00<00:00, 111.97it/s]\n",
      "C:\\Users\\benza-ord\\anaconda3\\envs\\keras-gpu\\lib\\site-packages\\ipykernel_launcher.py:47: UserWarning: Update your `Model` call to the Keras 2 API: `Model(inputs=[<tf.Tenso..., outputs=Tensor(\"re...)`\n"
     ]
    },
    {
     "name": "stdout",
     "output_type": "stream",
     "text": [
      "(100, 224, 224, 3)\n",
      "7 res2a_branch2a\n",
      "preds (100, 56, 56, 64)\n",
      "(100, 200704)\n"
     ]
    },
    {
     "name": "stderr",
     "output_type": "stream",
     "text": [
      "C:\\Users\\benza-ord\\anaconda3\\envs\\keras-gpu\\lib\\site-packages\\sklearn\\decomposition\\_pca.py:555: RuntimeWarning: divide by zero encountered in true_divide\n",
      "  self.explained_variance_ / total_var.sum()\n",
      " 11%|██████████▌                                                                                     | 11/100 [00:00<00:00, 109.20it/s]"
     ]
    },
    {
     "name": "stdout",
     "output_type": "stream",
     "text": [
      "             PC1           PC2  target\n",
      "0   4.034347e-09 -3.361818e-19       3\n",
      "1   4.034346e-09 -3.361883e-19       8\n",
      "2   4.034346e-09 -3.361867e-19       8\n",
      "3   4.034346e-09 -3.361866e-19       0\n",
      "4   4.034346e-09 -3.361866e-19       6\n",
      "..           ...           ...     ...\n",
      "95  4.034346e-09 -3.361866e-19       6\n",
      "96  4.034346e-09  8.068484e-18       6\n",
      "97  4.034346e-09  8.068484e-18       0\n",
      "98  4.034346e-09  8.068484e-18       0\n",
      "99  4.034346e-09  8.068484e-18       7\n",
      "\n",
      "[100 rows x 3 columns]\n",
      "(100, 224, 224, 3)\n"
     ]
    },
    {
     "name": "stderr",
     "output_type": "stream",
     "text": [
      "100%|███████████████████████████████████████████████████████████████████████████████████████████████| 100/100 [00:00<00:00, 109.82it/s]\n",
      "C:\\Users\\benza-ord\\anaconda3\\envs\\keras-gpu\\lib\\site-packages\\ipykernel_launcher.py:47: UserWarning: Update your `Model` call to the Keras 2 API: `Model(inputs=[<tf.Tenso..., outputs=Tensor(\"re...)`\n"
     ]
    },
    {
     "name": "stdout",
     "output_type": "stream",
     "text": [
      "(100, 224, 224, 3)\n",
      "7 res2a_branch2a\n",
      "preds (100, 56, 56, 64)\n",
      "(100, 200704)\n"
     ]
    },
    {
     "name": "stderr",
     "output_type": "stream",
     "text": [
      "C:\\Users\\benza-ord\\anaconda3\\envs\\keras-gpu\\lib\\site-packages\\sklearn\\decomposition\\_pca.py:555: RuntimeWarning: divide by zero encountered in true_divide\n",
      "  self.explained_variance_ / total_var.sum()\n",
      " 12%|███████████▌                                                                                    | 12/100 [00:00<00:00, 109.38it/s]"
     ]
    },
    {
     "name": "stdout",
     "output_type": "stream",
     "text": [
      "             PC1           PC2  target\n",
      "0   4.034347e-09 -3.361818e-19       3\n",
      "1   4.034346e-09 -3.361883e-19       8\n",
      "2   4.034346e-09 -3.361867e-19       8\n",
      "3   4.034346e-09 -3.361866e-19       0\n",
      "4   4.034346e-09 -3.361866e-19       6\n",
      "..           ...           ...     ...\n",
      "95  4.034346e-09 -3.361866e-19       6\n",
      "96  4.034346e-09  8.068484e-18       6\n",
      "97  4.034346e-09  8.068484e-18       0\n",
      "98  4.034346e-09  8.068484e-18       0\n",
      "99  4.034346e-09  8.068484e-18       7\n",
      "\n",
      "[100 rows x 3 columns]\n",
      "(100, 224, 224, 3)\n"
     ]
    },
    {
     "name": "stderr",
     "output_type": "stream",
     "text": [
      "100%|███████████████████████████████████████████████████████████████████████████████████████████████| 100/100 [00:00<00:00, 109.00it/s]\n",
      "C:\\Users\\benza-ord\\anaconda3\\envs\\keras-gpu\\lib\\site-packages\\ipykernel_launcher.py:47: UserWarning: Update your `Model` call to the Keras 2 API: `Model(inputs=[<tf.Tenso..., outputs=Tensor(\"re...)`\n"
     ]
    },
    {
     "name": "stdout",
     "output_type": "stream",
     "text": [
      "(100, 224, 224, 3)\n",
      "7 res2a_branch2a\n",
      "preds (100, 56, 56, 64)\n",
      "(100, 200704)\n"
     ]
    },
    {
     "name": "stderr",
     "output_type": "stream",
     "text": [
      "C:\\Users\\benza-ord\\anaconda3\\envs\\keras-gpu\\lib\\site-packages\\sklearn\\decomposition\\_pca.py:555: RuntimeWarning: divide by zero encountered in true_divide\n",
      "  self.explained_variance_ / total_var.sum()\n",
      " 11%|██████████▌                                                                                     | 11/100 [00:00<00:00, 106.96it/s]"
     ]
    },
    {
     "name": "stdout",
     "output_type": "stream",
     "text": [
      "             PC1           PC2  target\n",
      "0   4.034347e-09 -3.361818e-19       3\n",
      "1   4.034346e-09 -3.361883e-19       8\n",
      "2   4.034346e-09 -3.361867e-19       8\n",
      "3   4.034346e-09 -3.361866e-19       0\n",
      "4   4.034346e-09 -3.361866e-19       6\n",
      "..           ...           ...     ...\n",
      "95  4.034346e-09 -3.361866e-19       6\n",
      "96  4.034346e-09  8.068484e-18       6\n",
      "97  4.034346e-09  8.068484e-18       0\n",
      "98  4.034346e-09  8.068484e-18       0\n",
      "99  4.034346e-09  8.068484e-18       7\n",
      "\n",
      "[100 rows x 3 columns]\n",
      "(100, 224, 224, 3)\n"
     ]
    },
    {
     "name": "stderr",
     "output_type": "stream",
     "text": [
      "100%|████████████████████████████████████████████████████████████████████████████████████████████████| 100/100 [00:01<00:00, 99.75it/s]\n",
      "C:\\Users\\benza-ord\\anaconda3\\envs\\keras-gpu\\lib\\site-packages\\ipykernel_launcher.py:47: UserWarning: Update your `Model` call to the Keras 2 API: `Model(inputs=[<tf.Tenso..., outputs=Tensor(\"re...)`\n"
     ]
    },
    {
     "name": "stdout",
     "output_type": "stream",
     "text": [
      "(100, 224, 224, 3)\n",
      "7 res2a_branch2a\n",
      "preds (100, 56, 56, 64)\n",
      "(100, 200704)\n"
     ]
    },
    {
     "name": "stderr",
     "output_type": "stream",
     "text": [
      "C:\\Users\\benza-ord\\anaconda3\\envs\\keras-gpu\\lib\\site-packages\\sklearn\\decomposition\\_pca.py:555: RuntimeWarning: divide by zero encountered in true_divide\n",
      "  self.explained_variance_ / total_var.sum()\n",
      " 12%|███████████▌                                                                                    | 12/100 [00:00<00:00, 116.82it/s]"
     ]
    },
    {
     "name": "stdout",
     "output_type": "stream",
     "text": [
      "             PC1           PC2  target\n",
      "0   4.034347e-09 -3.361818e-19       3\n",
      "1   4.034346e-09 -3.361883e-19       8\n",
      "2   4.034346e-09 -3.361867e-19       8\n",
      "3   4.034346e-09 -3.361866e-19       0\n",
      "4   4.034346e-09 -3.361866e-19       6\n",
      "..           ...           ...     ...\n",
      "95  4.034346e-09 -3.361866e-19       6\n",
      "96  4.034346e-09  8.068484e-18       6\n",
      "97  4.034346e-09  8.068484e-18       0\n",
      "98  4.034346e-09  8.068484e-18       0\n",
      "99  4.034346e-09  8.068484e-18       7\n",
      "\n",
      "[100 rows x 3 columns]\n",
      "(100, 224, 224, 3)\n"
     ]
    },
    {
     "name": "stderr",
     "output_type": "stream",
     "text": [
      "100%|███████████████████████████████████████████████████████████████████████████████████████████████| 100/100 [00:00<00:00, 105.43it/s]\n",
      "C:\\Users\\benza-ord\\anaconda3\\envs\\keras-gpu\\lib\\site-packages\\ipykernel_launcher.py:47: UserWarning: Update your `Model` call to the Keras 2 API: `Model(inputs=[<tf.Tenso..., outputs=Tensor(\"re...)`\n"
     ]
    },
    {
     "name": "stdout",
     "output_type": "stream",
     "text": [
      "(100, 224, 224, 3)\n",
      "7 res2a_branch2a\n",
      "preds (100, 56, 56, 64)\n",
      "(100, 200704)\n"
     ]
    },
    {
     "name": "stderr",
     "output_type": "stream",
     "text": [
      "C:\\Users\\benza-ord\\anaconda3\\envs\\keras-gpu\\lib\\site-packages\\sklearn\\decomposition\\_pca.py:555: RuntimeWarning: divide by zero encountered in true_divide\n",
      "  self.explained_variance_ / total_var.sum()\n",
      " 12%|███████████▌                                                                                    | 12/100 [00:00<00:00, 115.69it/s]"
     ]
    },
    {
     "name": "stdout",
     "output_type": "stream",
     "text": [
      "             PC1           PC2  target\n",
      "0   4.034347e-09 -3.361818e-19       3\n",
      "1   4.034346e-09 -3.361883e-19       8\n",
      "2   4.034346e-09 -3.361867e-19       8\n",
      "3   4.034346e-09 -3.361866e-19       0\n",
      "4   4.034346e-09 -3.361866e-19       6\n",
      "..           ...           ...     ...\n",
      "95  4.034346e-09 -3.361866e-19       6\n",
      "96  4.034346e-09  8.068484e-18       6\n",
      "97  4.034346e-09  8.068484e-18       0\n",
      "98  4.034346e-09  8.068484e-18       0\n",
      "99  4.034346e-09  8.068484e-18       7\n",
      "\n",
      "[100 rows x 3 columns]\n",
      "(100, 224, 224, 3)\n"
     ]
    },
    {
     "name": "stderr",
     "output_type": "stream",
     "text": [
      "100%|███████████████████████████████████████████████████████████████████████████████████████████████| 100/100 [00:00<00:00, 114.39it/s]\n",
      "C:\\Users\\benza-ord\\anaconda3\\envs\\keras-gpu\\lib\\site-packages\\ipykernel_launcher.py:47: UserWarning: Update your `Model` call to the Keras 2 API: `Model(inputs=[<tf.Tenso..., outputs=Tensor(\"re...)`\n"
     ]
    },
    {
     "name": "stdout",
     "output_type": "stream",
     "text": [
      "(100, 224, 224, 3)\n",
      "7 res2a_branch2a\n",
      "preds (100, 56, 56, 64)\n",
      "(100, 200704)\n"
     ]
    },
    {
     "name": "stderr",
     "output_type": "stream",
     "text": [
      "C:\\Users\\benza-ord\\anaconda3\\envs\\keras-gpu\\lib\\site-packages\\sklearn\\decomposition\\_pca.py:555: RuntimeWarning: divide by zero encountered in true_divide\n",
      "  self.explained_variance_ / total_var.sum()\n",
      " 12%|███████████▌                                                                                    | 12/100 [00:00<00:00, 116.82it/s]"
     ]
    },
    {
     "name": "stdout",
     "output_type": "stream",
     "text": [
      "             PC1           PC2  target\n",
      "0   4.034347e-09 -3.361818e-19       3\n",
      "1   4.034346e-09 -3.361883e-19       8\n",
      "2   4.034346e-09 -3.361867e-19       8\n",
      "3   4.034346e-09 -3.361866e-19       0\n",
      "4   4.034346e-09 -3.361866e-19       6\n",
      "..           ...           ...     ...\n",
      "95  4.034346e-09 -3.361866e-19       6\n",
      "96  4.034346e-09  8.068484e-18       6\n",
      "97  4.034346e-09  8.068484e-18       0\n",
      "98  4.034346e-09  8.068484e-18       0\n",
      "99  4.034346e-09  8.068484e-18       7\n",
      "\n",
      "[100 rows x 3 columns]\n",
      "(100, 224, 224, 3)\n"
     ]
    },
    {
     "name": "stderr",
     "output_type": "stream",
     "text": [
      "100%|███████████████████████████████████████████████████████████████████████████████████████████████| 100/100 [00:00<00:00, 114.36it/s]\n",
      "C:\\Users\\benza-ord\\anaconda3\\envs\\keras-gpu\\lib\\site-packages\\ipykernel_launcher.py:47: UserWarning: Update your `Model` call to the Keras 2 API: `Model(inputs=[<tf.Tenso..., outputs=Tensor(\"re...)`\n"
     ]
    },
    {
     "name": "stdout",
     "output_type": "stream",
     "text": [
      "(100, 224, 224, 3)\n",
      "7 res2a_branch2a\n",
      "preds (100, 56, 56, 64)\n",
      "(100, 200704)\n"
     ]
    },
    {
     "name": "stderr",
     "output_type": "stream",
     "text": [
      "C:\\Users\\benza-ord\\anaconda3\\envs\\keras-gpu\\lib\\site-packages\\sklearn\\decomposition\\_pca.py:555: RuntimeWarning: divide by zero encountered in true_divide\n",
      "  self.explained_variance_ / total_var.sum()\n",
      " 12%|███████████▌                                                                                    | 12/100 [00:00<00:00, 115.13it/s]"
     ]
    },
    {
     "name": "stdout",
     "output_type": "stream",
     "text": [
      "             PC1           PC2  target\n",
      "0   4.034347e-09 -3.361818e-19       3\n",
      "1   4.034346e-09 -3.361883e-19       8\n",
      "2   4.034346e-09 -3.361867e-19       8\n",
      "3   4.034346e-09 -3.361866e-19       0\n",
      "4   4.034346e-09 -3.361866e-19       6\n",
      "..           ...           ...     ...\n",
      "95  4.034346e-09 -3.361866e-19       6\n",
      "96  4.034346e-09  8.068484e-18       6\n",
      "97  4.034346e-09  8.068484e-18       0\n",
      "98  4.034346e-09  8.068484e-18       0\n",
      "99  4.034346e-09  8.068484e-18       7\n",
      "\n",
      "[100 rows x 3 columns]\n",
      "(100, 224, 224, 3)\n"
     ]
    },
    {
     "name": "stderr",
     "output_type": "stream",
     "text": [
      "100%|███████████████████████████████████████████████████████████████████████████████████████████████| 100/100 [00:00<00:00, 113.50it/s]\n",
      "C:\\Users\\benza-ord\\anaconda3\\envs\\keras-gpu\\lib\\site-packages\\ipykernel_launcher.py:47: UserWarning: Update your `Model` call to the Keras 2 API: `Model(inputs=[<tf.Tenso..., outputs=Tensor(\"re...)`\n"
     ]
    },
    {
     "name": "stdout",
     "output_type": "stream",
     "text": [
      "(100, 224, 224, 3)\n",
      "7 res2a_branch2a\n",
      "preds (100, 56, 56, 64)\n",
      "(100, 200704)\n"
     ]
    },
    {
     "name": "stderr",
     "output_type": "stream",
     "text": [
      "C:\\Users\\benza-ord\\anaconda3\\envs\\keras-gpu\\lib\\site-packages\\sklearn\\decomposition\\_pca.py:555: RuntimeWarning: divide by zero encountered in true_divide\n",
      "  self.explained_variance_ / total_var.sum()\n",
      " 12%|███████████▌                                                                                    | 12/100 [00:00<00:00, 114.59it/s]"
     ]
    },
    {
     "name": "stdout",
     "output_type": "stream",
     "text": [
      "             PC1           PC2  target\n",
      "0   4.034347e-09 -3.361818e-19       3\n",
      "1   4.034346e-09 -3.361883e-19       8\n",
      "2   4.034346e-09 -3.361867e-19       8\n",
      "3   4.034346e-09 -3.361866e-19       0\n",
      "4   4.034346e-09 -3.361866e-19       6\n",
      "..           ...           ...     ...\n",
      "95  4.034346e-09 -3.361866e-19       6\n",
      "96  4.034346e-09  8.068484e-18       6\n",
      "97  4.034346e-09  8.068484e-18       0\n",
      "98  4.034346e-09  8.068484e-18       0\n",
      "99  4.034346e-09  8.068484e-18       7\n",
      "\n",
      "[100 rows x 3 columns]\n",
      "(100, 224, 224, 3)\n"
     ]
    },
    {
     "name": "stderr",
     "output_type": "stream",
     "text": [
      "100%|███████████████████████████████████████████████████████████████████████████████████████████████| 100/100 [00:00<00:00, 114.97it/s]\n",
      "C:\\Users\\benza-ord\\anaconda3\\envs\\keras-gpu\\lib\\site-packages\\ipykernel_launcher.py:47: UserWarning: Update your `Model` call to the Keras 2 API: `Model(inputs=[<tf.Tenso..., outputs=Tensor(\"re...)`\n"
     ]
    },
    {
     "name": "stdout",
     "output_type": "stream",
     "text": [
      "(100, 224, 224, 3)\n",
      "7 res2a_branch2a\n",
      "preds (100, 56, 56, 64)\n",
      "(100, 200704)\n"
     ]
    },
    {
     "name": "stderr",
     "output_type": "stream",
     "text": [
      "C:\\Users\\benza-ord\\anaconda3\\envs\\keras-gpu\\lib\\site-packages\\sklearn\\decomposition\\_pca.py:555: RuntimeWarning: divide by zero encountered in true_divide\n",
      "  self.explained_variance_ / total_var.sum()\n",
      " 12%|███████████▌                                                                                    | 12/100 [00:00<00:00, 116.58it/s]"
     ]
    },
    {
     "name": "stdout",
     "output_type": "stream",
     "text": [
      "             PC1           PC2  target\n",
      "0   4.034347e-09 -3.361818e-19       3\n",
      "1   4.034346e-09 -3.361883e-19       8\n",
      "2   4.034346e-09 -3.361867e-19       8\n",
      "3   4.034346e-09 -3.361866e-19       0\n",
      "4   4.034346e-09 -3.361866e-19       6\n",
      "..           ...           ...     ...\n",
      "95  4.034346e-09 -3.361866e-19       6\n",
      "96  4.034346e-09  8.068484e-18       6\n",
      "97  4.034346e-09  8.068484e-18       0\n",
      "98  4.034346e-09  8.068484e-18       0\n",
      "99  4.034346e-09  8.068484e-18       7\n",
      "\n",
      "[100 rows x 3 columns]\n",
      "(100, 224, 224, 3)\n"
     ]
    },
    {
     "name": "stderr",
     "output_type": "stream",
     "text": [
      "100%|███████████████████████████████████████████████████████████████████████████████████████████████| 100/100 [00:00<00:00, 113.42it/s]\n",
      "C:\\Users\\benza-ord\\anaconda3\\envs\\keras-gpu\\lib\\site-packages\\ipykernel_launcher.py:47: UserWarning: Update your `Model` call to the Keras 2 API: `Model(inputs=[<tf.Tenso..., outputs=Tensor(\"re...)`\n"
     ]
    },
    {
     "name": "stdout",
     "output_type": "stream",
     "text": [
      "(100, 224, 224, 3)\n",
      "7 res2a_branch2a\n",
      "preds (100, 56, 56, 64)\n",
      "(100, 200704)\n"
     ]
    },
    {
     "name": "stderr",
     "output_type": "stream",
     "text": [
      "C:\\Users\\benza-ord\\anaconda3\\envs\\keras-gpu\\lib\\site-packages\\sklearn\\decomposition\\_pca.py:555: RuntimeWarning: divide by zero encountered in true_divide\n",
      "  self.explained_variance_ / total_var.sum()\n",
      " 12%|███████████▌                                                                                    | 12/100 [00:00<00:00, 116.82it/s]"
     ]
    },
    {
     "name": "stdout",
     "output_type": "stream",
     "text": [
      "             PC1           PC2  target\n",
      "0   4.034347e-09 -3.361818e-19       3\n",
      "1   4.034346e-09 -3.361883e-19       8\n",
      "2   4.034346e-09 -3.361867e-19       8\n",
      "3   4.034346e-09 -3.361866e-19       0\n",
      "4   4.034346e-09 -3.361866e-19       6\n",
      "..           ...           ...     ...\n",
      "95  4.034346e-09 -3.361866e-19       6\n",
      "96  4.034346e-09  8.068484e-18       6\n",
      "97  4.034346e-09  8.068484e-18       0\n",
      "98  4.034346e-09  8.068484e-18       0\n",
      "99  4.034346e-09  8.068484e-18       7\n",
      "\n",
      "[100 rows x 3 columns]\n",
      "(100, 224, 224, 3)\n"
     ]
    },
    {
     "name": "stderr",
     "output_type": "stream",
     "text": [
      "100%|███████████████████████████████████████████████████████████████████████████████████████████████| 100/100 [00:00<00:00, 115.58it/s]\n",
      "C:\\Users\\benza-ord\\anaconda3\\envs\\keras-gpu\\lib\\site-packages\\ipykernel_launcher.py:47: UserWarning: Update your `Model` call to the Keras 2 API: `Model(inputs=[<tf.Tenso..., outputs=Tensor(\"re...)`\n"
     ]
    },
    {
     "name": "stdout",
     "output_type": "stream",
     "text": [
      "(100, 224, 224, 3)\n",
      "10 res2a_branch2b\n",
      "preds (100, 56, 56, 64)\n",
      "(100, 200704)\n"
     ]
    },
    {
     "name": "stderr",
     "output_type": "stream",
     "text": [
      "C:\\Users\\benza-ord\\anaconda3\\envs\\keras-gpu\\lib\\site-packages\\sklearn\\decomposition\\_pca.py:555: RuntimeWarning: divide by zero encountered in true_divide\n",
      "  self.explained_variance_ / total_var.sum()\n",
      " 12%|███████████▌                                                                                    | 12/100 [00:00<00:00, 117.96it/s]"
     ]
    },
    {
     "name": "stdout",
     "output_type": "stream",
     "text": [
      "             PC1           PC2  target\n",
      "0   4.822128e-09 -5.924809e-19       3\n",
      "1   4.822127e-09 -6.069656e-19       8\n",
      "2   4.822127e-09 -6.069664e-19       8\n",
      "3   4.822127e-09 -6.069664e-19       0\n",
      "4   4.822127e-09 -6.069664e-19       6\n",
      "..           ...           ...     ...\n",
      "95  4.822127e-09 -6.069664e-19       6\n",
      "96  4.822128e-09  1.456358e-17       6\n",
      "97  4.822128e-09  1.456358e-17       0\n",
      "98  4.822128e-09  1.456358e-17       0\n",
      "99  4.822128e-09  1.456358e-17       7\n",
      "\n",
      "[100 rows x 3 columns]\n",
      "(100, 224, 224, 3)\n"
     ]
    },
    {
     "name": "stderr",
     "output_type": "stream",
     "text": [
      "100%|███████████████████████████████████████████████████████████████████████████████████████████████| 100/100 [00:00<00:00, 113.93it/s]\n",
      "C:\\Users\\benza-ord\\anaconda3\\envs\\keras-gpu\\lib\\site-packages\\ipykernel_launcher.py:47: UserWarning: Update your `Model` call to the Keras 2 API: `Model(inputs=[<tf.Tenso..., outputs=Tensor(\"re...)`\n"
     ]
    },
    {
     "name": "stdout",
     "output_type": "stream",
     "text": [
      "(100, 224, 224, 3)\n",
      "10 res2a_branch2b\n",
      "preds (100, 56, 56, 64)\n",
      "(100, 200704)\n"
     ]
    },
    {
     "name": "stderr",
     "output_type": "stream",
     "text": [
      "C:\\Users\\benza-ord\\anaconda3\\envs\\keras-gpu\\lib\\site-packages\\sklearn\\decomposition\\_pca.py:555: RuntimeWarning: divide by zero encountered in true_divide\n",
      "  self.explained_variance_ / total_var.sum()\n",
      " 12%|███████████▌                                                                                    | 12/100 [00:00<00:00, 117.96it/s]"
     ]
    },
    {
     "name": "stdout",
     "output_type": "stream",
     "text": [
      "             PC1           PC2  target\n",
      "0   4.822128e-09 -5.924809e-19       3\n",
      "1   4.822127e-09 -6.069656e-19       8\n",
      "2   4.822127e-09 -6.069664e-19       8\n",
      "3   4.822127e-09 -6.069664e-19       0\n",
      "4   4.822127e-09 -6.069664e-19       6\n",
      "..           ...           ...     ...\n",
      "95  4.822127e-09 -6.069664e-19       6\n",
      "96  4.822128e-09  1.456358e-17       6\n",
      "97  4.822128e-09  1.456358e-17       0\n",
      "98  4.822128e-09  1.456358e-17       0\n",
      "99  4.822128e-09  1.456358e-17       7\n",
      "\n",
      "[100 rows x 3 columns]\n",
      "(100, 224, 224, 3)\n"
     ]
    },
    {
     "name": "stderr",
     "output_type": "stream",
     "text": [
      "100%|███████████████████████████████████████████████████████████████████████████████████████████████| 100/100 [00:00<00:00, 111.60it/s]\n",
      "C:\\Users\\benza-ord\\anaconda3\\envs\\keras-gpu\\lib\\site-packages\\ipykernel_launcher.py:47: UserWarning: Update your `Model` call to the Keras 2 API: `Model(inputs=[<tf.Tenso..., outputs=Tensor(\"re...)`\n"
     ]
    },
    {
     "name": "stdout",
     "output_type": "stream",
     "text": [
      "(100, 224, 224, 3)\n",
      "10 res2a_branch2b\n",
      "preds (100, 56, 56, 64)\n",
      "(100, 200704)\n"
     ]
    },
    {
     "name": "stderr",
     "output_type": "stream",
     "text": [
      "C:\\Users\\benza-ord\\anaconda3\\envs\\keras-gpu\\lib\\site-packages\\sklearn\\decomposition\\_pca.py:555: RuntimeWarning: divide by zero encountered in true_divide\n",
      "  self.explained_variance_ / total_var.sum()\n",
      " 11%|██████████▌                                                                                     | 11/100 [00:00<00:00, 106.56it/s]"
     ]
    },
    {
     "name": "stdout",
     "output_type": "stream",
     "text": [
      "             PC1           PC2  target\n",
      "0   4.822128e-09 -5.924809e-19       3\n",
      "1   4.822127e-09 -6.069656e-19       8\n",
      "2   4.822127e-09 -6.069664e-19       8\n",
      "3   4.822127e-09 -6.069664e-19       0\n",
      "4   4.822127e-09 -6.069664e-19       6\n",
      "..           ...           ...     ...\n",
      "95  4.822127e-09 -6.069664e-19       6\n",
      "96  4.822128e-09  1.456358e-17       6\n",
      "97  4.822128e-09  1.456358e-17       0\n",
      "98  4.822128e-09  1.456358e-17       0\n",
      "99  4.822128e-09  1.456358e-17       7\n",
      "\n",
      "[100 rows x 3 columns]\n",
      "(100, 224, 224, 3)\n"
     ]
    },
    {
     "name": "stderr",
     "output_type": "stream",
     "text": [
      "100%|███████████████████████████████████████████████████████████████████████████████████████████████| 100/100 [00:00<00:00, 111.33it/s]\n",
      "C:\\Users\\benza-ord\\anaconda3\\envs\\keras-gpu\\lib\\site-packages\\ipykernel_launcher.py:47: UserWarning: Update your `Model` call to the Keras 2 API: `Model(inputs=[<tf.Tenso..., outputs=Tensor(\"re...)`\n"
     ]
    },
    {
     "name": "stdout",
     "output_type": "stream",
     "text": [
      "(100, 224, 224, 3)\n",
      "10 res2a_branch2b\n",
      "preds (100, 56, 56, 64)\n",
      "(100, 200704)\n"
     ]
    },
    {
     "name": "stderr",
     "output_type": "stream",
     "text": [
      "C:\\Users\\benza-ord\\anaconda3\\envs\\keras-gpu\\lib\\site-packages\\sklearn\\decomposition\\_pca.py:555: RuntimeWarning: divide by zero encountered in true_divide\n",
      "  self.explained_variance_ / total_var.sum()\n",
      " 11%|██████████▌                                                                                     | 11/100 [00:00<00:00, 109.04it/s]"
     ]
    },
    {
     "name": "stdout",
     "output_type": "stream",
     "text": [
      "             PC1           PC2  target\n",
      "0   4.822128e-09 -5.924809e-19       3\n",
      "1   4.822127e-09 -6.069656e-19       8\n",
      "2   4.822127e-09 -6.069664e-19       8\n",
      "3   4.822127e-09 -6.069664e-19       0\n",
      "4   4.822127e-09 -6.069664e-19       6\n",
      "..           ...           ...     ...\n",
      "95  4.822127e-09 -6.069664e-19       6\n",
      "96  4.822128e-09  1.456358e-17       6\n",
      "97  4.822128e-09  1.456358e-17       0\n",
      "98  4.822128e-09  1.456358e-17       0\n",
      "99  4.822128e-09  1.456358e-17       7\n",
      "\n",
      "[100 rows x 3 columns]\n",
      "(100, 224, 224, 3)\n"
     ]
    },
    {
     "name": "stderr",
     "output_type": "stream",
     "text": [
      "100%|███████████████████████████████████████████████████████████████████████████████████████████████| 100/100 [00:00<00:00, 103.26it/s]\n",
      "C:\\Users\\benza-ord\\anaconda3\\envs\\keras-gpu\\lib\\site-packages\\ipykernel_launcher.py:47: UserWarning: Update your `Model` call to the Keras 2 API: `Model(inputs=[<tf.Tenso..., outputs=Tensor(\"re...)`\n"
     ]
    },
    {
     "name": "stdout",
     "output_type": "stream",
     "text": [
      "(100, 224, 224, 3)\n",
      "10 res2a_branch2b\n",
      "preds (100, 56, 56, 64)\n",
      "(100, 200704)\n"
     ]
    },
    {
     "name": "stderr",
     "output_type": "stream",
     "text": [
      "C:\\Users\\benza-ord\\anaconda3\\envs\\keras-gpu\\lib\\site-packages\\sklearn\\decomposition\\_pca.py:555: RuntimeWarning: divide by zero encountered in true_divide\n",
      "  self.explained_variance_ / total_var.sum()\n",
      " 12%|███████████▌                                                                                    | 12/100 [00:00<00:00, 119.13it/s]"
     ]
    },
    {
     "name": "stdout",
     "output_type": "stream",
     "text": [
      "             PC1           PC2  target\n",
      "0   4.822128e-09 -5.924809e-19       3\n",
      "1   4.822127e-09 -6.069656e-19       8\n",
      "2   4.822127e-09 -6.069664e-19       8\n",
      "3   4.822127e-09 -6.069664e-19       0\n",
      "4   4.822127e-09 -6.069664e-19       6\n",
      "..           ...           ...     ...\n",
      "95  4.822127e-09 -6.069664e-19       6\n",
      "96  4.822128e-09  1.456358e-17       6\n",
      "97  4.822128e-09  1.456358e-17       0\n",
      "98  4.822128e-09  1.456358e-17       0\n",
      "99  4.822128e-09  1.456358e-17       7\n",
      "\n",
      "[100 rows x 3 columns]\n",
      "(100, 224, 224, 3)\n"
     ]
    },
    {
     "name": "stderr",
     "output_type": "stream",
     "text": [
      "100%|███████████████████████████████████████████████████████████████████████████████████████████████| 100/100 [00:00<00:00, 101.57it/s]\n",
      "C:\\Users\\benza-ord\\anaconda3\\envs\\keras-gpu\\lib\\site-packages\\ipykernel_launcher.py:47: UserWarning: Update your `Model` call to the Keras 2 API: `Model(inputs=[<tf.Tenso..., outputs=Tensor(\"re...)`\n"
     ]
    },
    {
     "name": "stdout",
     "output_type": "stream",
     "text": [
      "(100, 224, 224, 3)\n",
      "10 res2a_branch2b\n",
      "preds (100, 56, 56, 64)\n",
      "(100, 200704)\n"
     ]
    },
    {
     "name": "stderr",
     "output_type": "stream",
     "text": [
      "C:\\Users\\benza-ord\\anaconda3\\envs\\keras-gpu\\lib\\site-packages\\sklearn\\decomposition\\_pca.py:555: RuntimeWarning: divide by zero encountered in true_divide\n",
      "  self.explained_variance_ / total_var.sum()\n",
      " 12%|███████████▌                                                                                    | 12/100 [00:00<00:00, 110.39it/s]"
     ]
    },
    {
     "name": "stdout",
     "output_type": "stream",
     "text": [
      "             PC1           PC2  target\n",
      "0   4.822128e-09 -5.924809e-19       3\n",
      "1   4.822127e-09 -6.069656e-19       8\n",
      "2   4.822127e-09 -6.069664e-19       8\n",
      "3   4.822127e-09 -6.069664e-19       0\n",
      "4   4.822127e-09 -6.069664e-19       6\n",
      "..           ...           ...     ...\n",
      "95  4.822127e-09 -6.069664e-19       6\n",
      "96  4.822128e-09  1.456358e-17       6\n",
      "97  4.822128e-09  1.456358e-17       0\n",
      "98  4.822128e-09  1.456358e-17       0\n",
      "99  4.822128e-09  1.456358e-17       7\n",
      "\n",
      "[100 rows x 3 columns]\n",
      "(100, 224, 224, 3)\n"
     ]
    },
    {
     "name": "stderr",
     "output_type": "stream",
     "text": [
      "100%|███████████████████████████████████████████████████████████████████████████████████████████████| 100/100 [00:00<00:00, 113.38it/s]\n",
      "C:\\Users\\benza-ord\\anaconda3\\envs\\keras-gpu\\lib\\site-packages\\ipykernel_launcher.py:47: UserWarning: Update your `Model` call to the Keras 2 API: `Model(inputs=[<tf.Tenso..., outputs=Tensor(\"re...)`\n"
     ]
    },
    {
     "name": "stdout",
     "output_type": "stream",
     "text": [
      "(100, 224, 224, 3)\n",
      "10 res2a_branch2b\n",
      "preds (100, 56, 56, 64)\n",
      "(100, 200704)\n"
     ]
    },
    {
     "name": "stderr",
     "output_type": "stream",
     "text": [
      "C:\\Users\\benza-ord\\anaconda3\\envs\\keras-gpu\\lib\\site-packages\\sklearn\\decomposition\\_pca.py:555: RuntimeWarning: divide by zero encountered in true_divide\n",
      "  self.explained_variance_ / total_var.sum()\n",
      " 12%|███████████▌                                                                                    | 12/100 [00:00<00:00, 113.51it/s]"
     ]
    },
    {
     "name": "stdout",
     "output_type": "stream",
     "text": [
      "             PC1           PC2  target\n",
      "0   4.822128e-09 -5.924809e-19       3\n",
      "1   4.822127e-09 -6.069656e-19       8\n",
      "2   4.822127e-09 -6.069664e-19       8\n",
      "3   4.822127e-09 -6.069664e-19       0\n",
      "4   4.822127e-09 -6.069664e-19       6\n",
      "..           ...           ...     ...\n",
      "95  4.822127e-09 -6.069664e-19       6\n",
      "96  4.822128e-09  1.456358e-17       6\n",
      "97  4.822128e-09  1.456358e-17       0\n",
      "98  4.822128e-09  1.456358e-17       0\n",
      "99  4.822128e-09  1.456358e-17       7\n",
      "\n",
      "[100 rows x 3 columns]\n",
      "(100, 224, 224, 3)\n"
     ]
    },
    {
     "name": "stderr",
     "output_type": "stream",
     "text": [
      "100%|███████████████████████████████████████████████████████████████████████████████████████████████| 100/100 [00:00<00:00, 103.95it/s]\n",
      "C:\\Users\\benza-ord\\anaconda3\\envs\\keras-gpu\\lib\\site-packages\\ipykernel_launcher.py:47: UserWarning: Update your `Model` call to the Keras 2 API: `Model(inputs=[<tf.Tenso..., outputs=Tensor(\"re...)`\n"
     ]
    },
    {
     "name": "stdout",
     "output_type": "stream",
     "text": [
      "(100, 224, 224, 3)\n",
      "10 res2a_branch2b\n",
      "preds (100, 56, 56, 64)\n",
      "(100, 200704)\n"
     ]
    },
    {
     "name": "stderr",
     "output_type": "stream",
     "text": [
      "C:\\Users\\benza-ord\\anaconda3\\envs\\keras-gpu\\lib\\site-packages\\sklearn\\decomposition\\_pca.py:555: RuntimeWarning: divide by zero encountered in true_divide\n",
      "  self.explained_variance_ / total_var.sum()\n",
      " 12%|███████████▌                                                                                    | 12/100 [00:00<00:00, 117.38it/s]"
     ]
    },
    {
     "name": "stdout",
     "output_type": "stream",
     "text": [
      "             PC1           PC2  target\n",
      "0   4.822128e-09 -5.924809e-19       3\n",
      "1   4.822127e-09 -6.069656e-19       8\n",
      "2   4.822127e-09 -6.069664e-19       8\n",
      "3   4.822127e-09 -6.069664e-19       0\n",
      "4   4.822127e-09 -6.069664e-19       6\n",
      "..           ...           ...     ...\n",
      "95  4.822127e-09 -6.069664e-19       6\n",
      "96  4.822128e-09  1.456358e-17       6\n",
      "97  4.822128e-09  1.456358e-17       0\n",
      "98  4.822128e-09  1.456358e-17       0\n",
      "99  4.822128e-09  1.456358e-17       7\n",
      "\n",
      "[100 rows x 3 columns]\n",
      "(100, 224, 224, 3)\n"
     ]
    },
    {
     "name": "stderr",
     "output_type": "stream",
     "text": [
      "100%|████████████████████████████████████████████████████████████████████████████████████████████████| 100/100 [00:01<00:00, 91.65it/s]\n",
      "C:\\Users\\benza-ord\\anaconda3\\envs\\keras-gpu\\lib\\site-packages\\ipykernel_launcher.py:47: UserWarning: Update your `Model` call to the Keras 2 API: `Model(inputs=[<tf.Tenso..., outputs=Tensor(\"re...)`\n"
     ]
    },
    {
     "name": "stdout",
     "output_type": "stream",
     "text": [
      "(100, 224, 224, 3)\n",
      "10 res2a_branch2b\n",
      "preds (100, 56, 56, 64)\n",
      "(100, 200704)\n"
     ]
    },
    {
     "name": "stderr",
     "output_type": "stream",
     "text": [
      "C:\\Users\\benza-ord\\anaconda3\\envs\\keras-gpu\\lib\\site-packages\\sklearn\\decomposition\\_pca.py:555: RuntimeWarning: divide by zero encountered in true_divide\n",
      "  self.explained_variance_ / total_var.sum()\n",
      " 12%|███████████▌                                                                                    | 12/100 [00:00<00:00, 115.60it/s]"
     ]
    },
    {
     "name": "stdout",
     "output_type": "stream",
     "text": [
      "             PC1           PC2  target\n",
      "0   4.822128e-09 -5.924809e-19       3\n",
      "1   4.822127e-09 -6.069656e-19       8\n",
      "2   4.822127e-09 -6.069664e-19       8\n",
      "3   4.822127e-09 -6.069664e-19       0\n",
      "4   4.822127e-09 -6.069664e-19       6\n",
      "..           ...           ...     ...\n",
      "95  4.822127e-09 -6.069664e-19       6\n",
      "96  4.822128e-09  1.456358e-17       6\n",
      "97  4.822128e-09  1.456358e-17       0\n",
      "98  4.822128e-09  1.456358e-17       0\n",
      "99  4.822128e-09  1.456358e-17       7\n",
      "\n",
      "[100 rows x 3 columns]\n",
      "(100, 224, 224, 3)\n"
     ]
    },
    {
     "name": "stderr",
     "output_type": "stream",
     "text": [
      "100%|████████████████████████████████████████████████████████████████████████████████████████████████| 100/100 [00:01<00:00, 93.93it/s]\n",
      "C:\\Users\\benza-ord\\anaconda3\\envs\\keras-gpu\\lib\\site-packages\\ipykernel_launcher.py:47: UserWarning: Update your `Model` call to the Keras 2 API: `Model(inputs=[<tf.Tenso..., outputs=Tensor(\"re...)`\n"
     ]
    },
    {
     "name": "stdout",
     "output_type": "stream",
     "text": [
      "(100, 224, 224, 3)\n",
      "10 res2a_branch2b\n",
      "preds (100, 56, 56, 64)\n",
      "(100, 200704)\n"
     ]
    },
    {
     "name": "stderr",
     "output_type": "stream",
     "text": [
      "C:\\Users\\benza-ord\\anaconda3\\envs\\keras-gpu\\lib\\site-packages\\sklearn\\decomposition\\_pca.py:555: RuntimeWarning: divide by zero encountered in true_divide\n",
      "  self.explained_variance_ / total_var.sum()\n",
      "  8%|███████▊                                                                                          | 8/100 [00:00<00:01, 72.89it/s]"
     ]
    },
    {
     "name": "stdout",
     "output_type": "stream",
     "text": [
      "             PC1           PC2  target\n",
      "0   4.822128e-09 -5.924809e-19       3\n",
      "1   4.822127e-09 -6.069656e-19       8\n",
      "2   4.822127e-09 -6.069664e-19       8\n",
      "3   4.822127e-09 -6.069664e-19       0\n",
      "4   4.822127e-09 -6.069664e-19       6\n",
      "..           ...           ...     ...\n",
      "95  4.822127e-09 -6.069664e-19       6\n",
      "96  4.822128e-09  1.456358e-17       6\n",
      "97  4.822128e-09  1.456358e-17       0\n",
      "98  4.822128e-09  1.456358e-17       0\n",
      "99  4.822128e-09  1.456358e-17       7\n",
      "\n",
      "[100 rows x 3 columns]\n",
      "(100, 224, 224, 3)\n"
     ]
    },
    {
     "name": "stderr",
     "output_type": "stream",
     "text": [
      "100%|████████████████████████████████████████████████████████████████████████████████████████████████| 100/100 [00:01<00:00, 90.81it/s]\n",
      "C:\\Users\\benza-ord\\anaconda3\\envs\\keras-gpu\\lib\\site-packages\\ipykernel_launcher.py:47: UserWarning: Update your `Model` call to the Keras 2 API: `Model(inputs=[<tf.Tenso..., outputs=Tensor(\"re...)`\n"
     ]
    },
    {
     "name": "stdout",
     "output_type": "stream",
     "text": [
      "(100, 224, 224, 3)\n",
      "13 res2a_branch2c\n",
      "preds (100, 56, 56, 256)\n",
      "(100, 802816)\n"
     ]
    },
    {
     "name": "stderr",
     "output_type": "stream",
     "text": [
      "C:\\Users\\benza-ord\\anaconda3\\envs\\keras-gpu\\lib\\site-packages\\sklearn\\decomposition\\_pca.py:555: RuntimeWarning: divide by zero encountered in true_divide\n",
      "  self.explained_variance_ / total_var.sum()\n",
      " 11%|██████████▌                                                                                     | 11/100 [00:00<00:00, 105.43it/s]"
     ]
    },
    {
     "name": "stdout",
     "output_type": "stream",
     "text": [
      "             PC1           PC2  target\n",
      "0   1.029233e-08 -1.068077e-18       3\n",
      "1   1.029233e-08 -1.093115e-18       8\n",
      "2   1.029233e-08 -1.093096e-18       8\n",
      "3   1.029233e-08 -1.093097e-18       0\n",
      "4   1.029233e-08 -1.093097e-18       6\n",
      "..           ...           ...     ...\n",
      "95  1.029233e-08 -1.093097e-18       6\n",
      "96  1.029233e-08  2.622814e-17       6\n",
      "97  1.029233e-08  2.622814e-17       0\n",
      "98  1.029233e-08  2.622814e-17       0\n",
      "99  1.029233e-08  2.622814e-17       7\n",
      "\n",
      "[100 rows x 3 columns]\n",
      "(100, 224, 224, 3)\n"
     ]
    },
    {
     "name": "stderr",
     "output_type": "stream",
     "text": [
      "100%|████████████████████████████████████████████████████████████████████████████████████████████████| 100/100 [00:01<00:00, 92.12it/s]\n",
      "C:\\Users\\benza-ord\\anaconda3\\envs\\keras-gpu\\lib\\site-packages\\ipykernel_launcher.py:47: UserWarning: Update your `Model` call to the Keras 2 API: `Model(inputs=[<tf.Tenso..., outputs=Tensor(\"re...)`\n"
     ]
    },
    {
     "name": "stdout",
     "output_type": "stream",
     "text": [
      "(100, 224, 224, 3)\n",
      "13 res2a_branch2c\n",
      "preds (100, 56, 56, 256)\n",
      "(100, 802816)\n"
     ]
    },
    {
     "name": "stderr",
     "output_type": "stream",
     "text": [
      "C:\\Users\\benza-ord\\anaconda3\\envs\\keras-gpu\\lib\\site-packages\\sklearn\\decomposition\\_pca.py:555: RuntimeWarning: divide by zero encountered in true_divide\n",
      "  self.explained_variance_ / total_var.sum()\n",
      " 12%|███████████▌                                                                                    | 12/100 [00:00<00:00, 115.69it/s]"
     ]
    },
    {
     "name": "stdout",
     "output_type": "stream",
     "text": [
      "             PC1           PC2  target\n",
      "0   1.029233e-08 -1.068077e-18       3\n",
      "1   1.029233e-08 -1.093115e-18       8\n",
      "2   1.029233e-08 -1.093096e-18       8\n",
      "3   1.029233e-08 -1.093097e-18       0\n",
      "4   1.029233e-08 -1.093097e-18       6\n",
      "..           ...           ...     ...\n",
      "95  1.029233e-08 -1.093097e-18       6\n",
      "96  1.029233e-08  2.622814e-17       6\n",
      "97  1.029233e-08  2.622814e-17       0\n",
      "98  1.029233e-08  2.622814e-17       0\n",
      "99  1.029233e-08  2.622814e-17       7\n",
      "\n",
      "[100 rows x 3 columns]\n",
      "(100, 224, 224, 3)\n"
     ]
    },
    {
     "name": "stderr",
     "output_type": "stream",
     "text": [
      "100%|███████████████████████████████████████████████████████████████████████████████████████████████| 100/100 [00:00<00:00, 112.69it/s]\n",
      "C:\\Users\\benza-ord\\anaconda3\\envs\\keras-gpu\\lib\\site-packages\\ipykernel_launcher.py:47: UserWarning: Update your `Model` call to the Keras 2 API: `Model(inputs=[<tf.Tenso..., outputs=Tensor(\"re...)`\n"
     ]
    },
    {
     "name": "stdout",
     "output_type": "stream",
     "text": [
      "(100, 224, 224, 3)\n",
      "13 res2a_branch2c\n",
      "preds (100, 56, 56, 256)\n",
      "(100, 802816)\n"
     ]
    },
    {
     "name": "stderr",
     "output_type": "stream",
     "text": [
      "C:\\Users\\benza-ord\\anaconda3\\envs\\keras-gpu\\lib\\site-packages\\sklearn\\decomposition\\_pca.py:555: RuntimeWarning: divide by zero encountered in true_divide\n",
      "  self.explained_variance_ / total_var.sum()\n",
      " 12%|███████████▌                                                                                    | 12/100 [00:00<00:00, 117.02it/s]"
     ]
    },
    {
     "name": "stdout",
     "output_type": "stream",
     "text": [
      "             PC1           PC2  target\n",
      "0   1.029233e-08 -1.068077e-18       3\n",
      "1   1.029233e-08 -1.093115e-18       8\n",
      "2   1.029233e-08 -1.093096e-18       8\n",
      "3   1.029233e-08 -1.093097e-18       0\n",
      "4   1.029233e-08 -1.093097e-18       6\n",
      "..           ...           ...     ...\n",
      "95  1.029233e-08 -1.093097e-18       6\n",
      "96  1.029233e-08  2.622814e-17       6\n",
      "97  1.029233e-08  2.622814e-17       0\n",
      "98  1.029233e-08  2.622814e-17       0\n",
      "99  1.029233e-08  2.622814e-17       7\n",
      "\n",
      "[100 rows x 3 columns]\n",
      "(100, 224, 224, 3)\n"
     ]
    },
    {
     "name": "stderr",
     "output_type": "stream",
     "text": [
      "100%|███████████████████████████████████████████████████████████████████████████████████████████████| 100/100 [00:00<00:00, 105.87it/s]\n",
      "C:\\Users\\benza-ord\\anaconda3\\envs\\keras-gpu\\lib\\site-packages\\ipykernel_launcher.py:47: UserWarning: Update your `Model` call to the Keras 2 API: `Model(inputs=[<tf.Tenso..., outputs=Tensor(\"re...)`\n"
     ]
    },
    {
     "name": "stdout",
     "output_type": "stream",
     "text": [
      "(100, 224, 224, 3)\n",
      "13 res2a_branch2c\n",
      "preds (100, 56, 56, 256)\n",
      "(100, 802816)\n"
     ]
    },
    {
     "name": "stderr",
     "output_type": "stream",
     "text": [
      "C:\\Users\\benza-ord\\anaconda3\\envs\\keras-gpu\\lib\\site-packages\\sklearn\\decomposition\\_pca.py:555: RuntimeWarning: divide by zero encountered in true_divide\n",
      "  self.explained_variance_ / total_var.sum()\n",
      " 13%|████████████▍                                                                                   | 13/100 [00:00<00:00, 120.69it/s]"
     ]
    },
    {
     "name": "stdout",
     "output_type": "stream",
     "text": [
      "             PC1           PC2  target\n",
      "0   1.029233e-08 -1.068077e-18       3\n",
      "1   1.029233e-08 -1.093115e-18       8\n",
      "2   1.029233e-08 -1.093096e-18       8\n",
      "3   1.029233e-08 -1.093097e-18       0\n",
      "4   1.029233e-08 -1.093097e-18       6\n",
      "..           ...           ...     ...\n",
      "95  1.029233e-08 -1.093097e-18       6\n",
      "96  1.029233e-08  2.622814e-17       6\n",
      "97  1.029233e-08  2.622814e-17       0\n",
      "98  1.029233e-08  2.622814e-17       0\n",
      "99  1.029233e-08  2.622814e-17       7\n",
      "\n",
      "[100 rows x 3 columns]\n",
      "(100, 224, 224, 3)\n"
     ]
    },
    {
     "name": "stderr",
     "output_type": "stream",
     "text": [
      "100%|███████████████████████████████████████████████████████████████████████████████████████████████| 100/100 [00:00<00:00, 107.70it/s]\n",
      "C:\\Users\\benza-ord\\anaconda3\\envs\\keras-gpu\\lib\\site-packages\\ipykernel_launcher.py:47: UserWarning: Update your `Model` call to the Keras 2 API: `Model(inputs=[<tf.Tenso..., outputs=Tensor(\"re...)`\n"
     ]
    },
    {
     "name": "stdout",
     "output_type": "stream",
     "text": [
      "(100, 224, 224, 3)\n",
      "13 res2a_branch2c\n",
      "preds (100, 56, 56, 256)\n",
      "(100, 802816)\n"
     ]
    },
    {
     "name": "stderr",
     "output_type": "stream",
     "text": [
      "C:\\Users\\benza-ord\\anaconda3\\envs\\keras-gpu\\lib\\site-packages\\sklearn\\decomposition\\_pca.py:555: RuntimeWarning: divide by zero encountered in true_divide\n",
      "  self.explained_variance_ / total_var.sum()\n",
      " 12%|███████████▌                                                                                    | 12/100 [00:00<00:00, 119.47it/s]"
     ]
    },
    {
     "name": "stdout",
     "output_type": "stream",
     "text": [
      "             PC1           PC2  target\n",
      "0   1.029233e-08 -1.068077e-18       3\n",
      "1   1.029233e-08 -1.093115e-18       8\n",
      "2   1.029233e-08 -1.093096e-18       8\n",
      "3   1.029233e-08 -1.093097e-18       0\n",
      "4   1.029233e-08 -1.093097e-18       6\n",
      "..           ...           ...     ...\n",
      "95  1.029233e-08 -1.093097e-18       6\n",
      "96  1.029233e-08  2.622814e-17       6\n",
      "97  1.029233e-08  2.622814e-17       0\n",
      "98  1.029233e-08  2.622814e-17       0\n",
      "99  1.029233e-08  2.622814e-17       7\n",
      "\n",
      "[100 rows x 3 columns]\n",
      "(100, 224, 224, 3)\n"
     ]
    },
    {
     "name": "stderr",
     "output_type": "stream",
     "text": [
      "100%|███████████████████████████████████████████████████████████████████████████████████████████████| 100/100 [00:00<00:00, 114.43it/s]\n",
      "C:\\Users\\benza-ord\\anaconda3\\envs\\keras-gpu\\lib\\site-packages\\ipykernel_launcher.py:47: UserWarning: Update your `Model` call to the Keras 2 API: `Model(inputs=[<tf.Tenso..., outputs=Tensor(\"re...)`\n"
     ]
    },
    {
     "name": "stdout",
     "output_type": "stream",
     "text": [
      "(100, 224, 224, 3)\n",
      "13 res2a_branch2c\n",
      "preds (100, 56, 56, 256)\n",
      "(100, 802816)\n"
     ]
    },
    {
     "name": "stderr",
     "output_type": "stream",
     "text": [
      "C:\\Users\\benza-ord\\anaconda3\\envs\\keras-gpu\\lib\\site-packages\\sklearn\\decomposition\\_pca.py:555: RuntimeWarning: divide by zero encountered in true_divide\n",
      "  self.explained_variance_ / total_var.sum()\n",
      " 11%|██████████▌                                                                                     | 11/100 [00:00<00:00, 105.76it/s]"
     ]
    },
    {
     "name": "stdout",
     "output_type": "stream",
     "text": [
      "             PC1           PC2  target\n",
      "0   1.029233e-08 -1.068077e-18       3\n",
      "1   1.029233e-08 -1.093115e-18       8\n",
      "2   1.029233e-08 -1.093096e-18       8\n",
      "3   1.029233e-08 -1.093097e-18       0\n",
      "4   1.029233e-08 -1.093097e-18       6\n",
      "..           ...           ...     ...\n",
      "95  1.029233e-08 -1.093097e-18       6\n",
      "96  1.029233e-08  2.622814e-17       6\n",
      "97  1.029233e-08  2.622814e-17       0\n",
      "98  1.029233e-08  2.622814e-17       0\n",
      "99  1.029233e-08  2.622814e-17       7\n",
      "\n",
      "[100 rows x 3 columns]\n",
      "(100, 224, 224, 3)\n"
     ]
    },
    {
     "name": "stderr",
     "output_type": "stream",
     "text": [
      "100%|███████████████████████████████████████████████████████████████████████████████████████████████| 100/100 [00:00<00:00, 107.73it/s]\n",
      "C:\\Users\\benza-ord\\anaconda3\\envs\\keras-gpu\\lib\\site-packages\\ipykernel_launcher.py:47: UserWarning: Update your `Model` call to the Keras 2 API: `Model(inputs=[<tf.Tenso..., outputs=Tensor(\"re...)`\n"
     ]
    },
    {
     "name": "stdout",
     "output_type": "stream",
     "text": [
      "(100, 224, 224, 3)\n",
      "13 res2a_branch2c\n",
      "preds (100, 56, 56, 256)\n",
      "(100, 802816)\n"
     ]
    },
    {
     "name": "stderr",
     "output_type": "stream",
     "text": [
      "C:\\Users\\benza-ord\\anaconda3\\envs\\keras-gpu\\lib\\site-packages\\sklearn\\decomposition\\_pca.py:555: RuntimeWarning: divide by zero encountered in true_divide\n",
      "  self.explained_variance_ / total_var.sum()\n",
      " 12%|███████████▌                                                                                    | 12/100 [00:00<00:00, 115.39it/s]"
     ]
    },
    {
     "name": "stdout",
     "output_type": "stream",
     "text": [
      "             PC1           PC2  target\n",
      "0   1.029233e-08 -1.068077e-18       3\n",
      "1   1.029233e-08 -1.093115e-18       8\n",
      "2   1.029233e-08 -1.093096e-18       8\n",
      "3   1.029233e-08 -1.093097e-18       0\n",
      "4   1.029233e-08 -1.093097e-18       6\n",
      "..           ...           ...     ...\n",
      "95  1.029233e-08 -1.093097e-18       6\n",
      "96  1.029233e-08  2.622814e-17       6\n",
      "97  1.029233e-08  2.622814e-17       0\n",
      "98  1.029233e-08  2.622814e-17       0\n",
      "99  1.029233e-08  2.622814e-17       7\n",
      "\n",
      "[100 rows x 3 columns]\n",
      "(100, 224, 224, 3)\n"
     ]
    },
    {
     "name": "stderr",
     "output_type": "stream",
     "text": [
      "100%|███████████████████████████████████████████████████████████████████████████████████████████████| 100/100 [00:00<00:00, 113.78it/s]\n",
      "C:\\Users\\benza-ord\\anaconda3\\envs\\keras-gpu\\lib\\site-packages\\ipykernel_launcher.py:47: UserWarning: Update your `Model` call to the Keras 2 API: `Model(inputs=[<tf.Tenso..., outputs=Tensor(\"re...)`\n"
     ]
    },
    {
     "name": "stdout",
     "output_type": "stream",
     "text": [
      "(100, 224, 224, 3)\n",
      "13 res2a_branch2c\n",
      "preds (100, 56, 56, 256)\n",
      "(100, 802816)\n"
     ]
    },
    {
     "name": "stderr",
     "output_type": "stream",
     "text": [
      "C:\\Users\\benza-ord\\anaconda3\\envs\\keras-gpu\\lib\\site-packages\\sklearn\\decomposition\\_pca.py:555: RuntimeWarning: divide by zero encountered in true_divide\n",
      "  self.explained_variance_ / total_var.sum()\n",
      " 12%|███████████▌                                                                                    | 12/100 [00:00<00:00, 118.19it/s]"
     ]
    },
    {
     "name": "stdout",
     "output_type": "stream",
     "text": [
      "             PC1           PC2  target\n",
      "0   1.029233e-08 -1.068077e-18       3\n",
      "1   1.029233e-08 -1.093115e-18       8\n",
      "2   1.029233e-08 -1.093096e-18       8\n",
      "3   1.029233e-08 -1.093097e-18       0\n",
      "4   1.029233e-08 -1.093097e-18       6\n",
      "..           ...           ...     ...\n",
      "95  1.029233e-08 -1.093097e-18       6\n",
      "96  1.029233e-08  2.622814e-17       6\n",
      "97  1.029233e-08  2.622814e-17       0\n",
      "98  1.029233e-08  2.622814e-17       0\n",
      "99  1.029233e-08  2.622814e-17       7\n",
      "\n",
      "[100 rows x 3 columns]\n",
      "(100, 224, 224, 3)\n"
     ]
    },
    {
     "name": "stderr",
     "output_type": "stream",
     "text": [
      "100%|███████████████████████████████████████████████████████████████████████████████████████████████| 100/100 [00:00<00:00, 114.07it/s]\n",
      "C:\\Users\\benza-ord\\anaconda3\\envs\\keras-gpu\\lib\\site-packages\\ipykernel_launcher.py:47: UserWarning: Update your `Model` call to the Keras 2 API: `Model(inputs=[<tf.Tenso..., outputs=Tensor(\"re...)`\n"
     ]
    },
    {
     "name": "stdout",
     "output_type": "stream",
     "text": [
      "(100, 224, 224, 3)\n",
      "13 res2a_branch2c\n",
      "preds (100, 56, 56, 256)\n",
      "(100, 802816)\n"
     ]
    },
    {
     "name": "stderr",
     "output_type": "stream",
     "text": [
      "C:\\Users\\benza-ord\\anaconda3\\envs\\keras-gpu\\lib\\site-packages\\sklearn\\decomposition\\_pca.py:555: RuntimeWarning: divide by zero encountered in true_divide\n",
      "  self.explained_variance_ / total_var.sum()\n",
      " 12%|███████████▌                                                                                    | 12/100 [00:00<00:00, 119.45it/s]"
     ]
    },
    {
     "name": "stdout",
     "output_type": "stream",
     "text": [
      "             PC1           PC2  target\n",
      "0   1.029233e-08 -1.068077e-18       3\n",
      "1   1.029233e-08 -1.093115e-18       8\n",
      "2   1.029233e-08 -1.093096e-18       8\n",
      "3   1.029233e-08 -1.093097e-18       0\n",
      "4   1.029233e-08 -1.093097e-18       6\n",
      "..           ...           ...     ...\n",
      "95  1.029233e-08 -1.093097e-18       6\n",
      "96  1.029233e-08  2.622814e-17       6\n",
      "97  1.029233e-08  2.622814e-17       0\n",
      "98  1.029233e-08  2.622814e-17       0\n",
      "99  1.029233e-08  2.622814e-17       7\n",
      "\n",
      "[100 rows x 3 columns]\n",
      "(100, 224, 224, 3)\n"
     ]
    },
    {
     "name": "stderr",
     "output_type": "stream",
     "text": [
      "100%|███████████████████████████████████████████████████████████████████████████████████████████████| 100/100 [00:00<00:00, 113.50it/s]\n",
      "C:\\Users\\benza-ord\\anaconda3\\envs\\keras-gpu\\lib\\site-packages\\ipykernel_launcher.py:47: UserWarning: Update your `Model` call to the Keras 2 API: `Model(inputs=[<tf.Tenso..., outputs=Tensor(\"re...)`\n"
     ]
    },
    {
     "name": "stdout",
     "output_type": "stream",
     "text": [
      "(100, 224, 224, 3)\n",
      "13 res2a_branch2c\n",
      "preds (100, 56, 56, 256)\n",
      "(100, 802816)\n"
     ]
    },
    {
     "name": "stderr",
     "output_type": "stream",
     "text": [
      "C:\\Users\\benza-ord\\anaconda3\\envs\\keras-gpu\\lib\\site-packages\\sklearn\\decomposition\\_pca.py:555: RuntimeWarning: divide by zero encountered in true_divide\n",
      "  self.explained_variance_ / total_var.sum()\n",
      " 12%|███████████▌                                                                                    | 12/100 [00:00<00:00, 115.66it/s]"
     ]
    },
    {
     "name": "stdout",
     "output_type": "stream",
     "text": [
      "             PC1           PC2  target\n",
      "0   1.029233e-08 -1.068077e-18       3\n",
      "1   1.029233e-08 -1.093115e-18       8\n",
      "2   1.029233e-08 -1.093096e-18       8\n",
      "3   1.029233e-08 -1.093097e-18       0\n",
      "4   1.029233e-08 -1.093097e-18       6\n",
      "..           ...           ...     ...\n",
      "95  1.029233e-08 -1.093097e-18       6\n",
      "96  1.029233e-08  2.622814e-17       6\n",
      "97  1.029233e-08  2.622814e-17       0\n",
      "98  1.029233e-08  2.622814e-17       0\n",
      "99  1.029233e-08  2.622814e-17       7\n",
      "\n",
      "[100 rows x 3 columns]\n",
      "(100, 224, 224, 3)\n"
     ]
    },
    {
     "name": "stderr",
     "output_type": "stream",
     "text": [
      "100%|███████████████████████████████████████████████████████████████████████████████████████████████| 100/100 [00:00<00:00, 113.73it/s]\n",
      "C:\\Users\\benza-ord\\anaconda3\\envs\\keras-gpu\\lib\\site-packages\\ipykernel_launcher.py:47: UserWarning: Update your `Model` call to the Keras 2 API: `Model(inputs=[<tf.Tenso..., outputs=Tensor(\"re...)`\n"
     ]
    },
    {
     "name": "stdout",
     "output_type": "stream",
     "text": [
      "(100, 224, 224, 3)\n",
      "14 res2a_branch1\n",
      "preds (100, 56, 56, 256)\n",
      "(100, 802816)\n"
     ]
    },
    {
     "name": "stderr",
     "output_type": "stream",
     "text": [
      "C:\\Users\\benza-ord\\anaconda3\\envs\\keras-gpu\\lib\\site-packages\\sklearn\\decomposition\\_pca.py:555: RuntimeWarning: divide by zero encountered in true_divide\n",
      "  self.explained_variance_ / total_var.sum()\n",
      " 12%|███████████▌                                                                                    | 12/100 [00:00<00:00, 117.56it/s]"
     ]
    },
    {
     "name": "stdout",
     "output_type": "stream",
     "text": [
      "             PC1           PC2  target\n",
      "0   8.393334e-09 -4.355493e-19       3\n",
      "1   8.393334e-09 -4.268604e-19       8\n",
      "2   8.393334e-09 -4.268554e-19       8\n",
      "3   8.393334e-09 -4.268558e-19       0\n",
      "4   8.393334e-09 -4.268558e-19       6\n",
      "..           ...           ...     ...\n",
      "95  8.393334e-09 -4.268558e-19       6\n",
      "96  8.393331e-09  1.024673e-17       6\n",
      "97  8.393331e-09  1.024673e-17       0\n",
      "98  8.393331e-09  1.024673e-17       0\n",
      "99  8.393331e-09  1.024673e-17       7\n",
      "\n",
      "[100 rows x 3 columns]\n",
      "(100, 224, 224, 3)\n"
     ]
    },
    {
     "name": "stderr",
     "output_type": "stream",
     "text": [
      "100%|███████████████████████████████████████████████████████████████████████████████████████████████| 100/100 [00:00<00:00, 113.99it/s]\n",
      "C:\\Users\\benza-ord\\anaconda3\\envs\\keras-gpu\\lib\\site-packages\\ipykernel_launcher.py:47: UserWarning: Update your `Model` call to the Keras 2 API: `Model(inputs=[<tf.Tenso..., outputs=Tensor(\"re...)`\n"
     ]
    },
    {
     "name": "stdout",
     "output_type": "stream",
     "text": [
      "(100, 224, 224, 3)\n",
      "14 res2a_branch1\n",
      "preds (100, 56, 56, 256)\n",
      "(100, 802816)\n"
     ]
    },
    {
     "name": "stderr",
     "output_type": "stream",
     "text": [
      "C:\\Users\\benza-ord\\anaconda3\\envs\\keras-gpu\\lib\\site-packages\\sklearn\\decomposition\\_pca.py:555: RuntimeWarning: divide by zero encountered in true_divide\n",
      "  self.explained_variance_ / total_var.sum()\n",
      " 12%|███████████▌                                                                                    | 12/100 [00:00<00:00, 115.69it/s]"
     ]
    },
    {
     "name": "stdout",
     "output_type": "stream",
     "text": [
      "             PC1           PC2  target\n",
      "0   8.393334e-09 -4.355493e-19       3\n",
      "1   8.393334e-09 -4.268604e-19       8\n",
      "2   8.393334e-09 -4.268554e-19       8\n",
      "3   8.393334e-09 -4.268558e-19       0\n",
      "4   8.393334e-09 -4.268558e-19       6\n",
      "..           ...           ...     ...\n",
      "95  8.393334e-09 -4.268558e-19       6\n",
      "96  8.393331e-09  1.024673e-17       6\n",
      "97  8.393331e-09  1.024673e-17       0\n",
      "98  8.393331e-09  1.024673e-17       0\n",
      "99  8.393331e-09  1.024673e-17       7\n",
      "\n",
      "[100 rows x 3 columns]\n",
      "(100, 224, 224, 3)\n"
     ]
    },
    {
     "name": "stderr",
     "output_type": "stream",
     "text": [
      "100%|███████████████████████████████████████████████████████████████████████████████████████████████| 100/100 [00:00<00:00, 113.56it/s]\n",
      "C:\\Users\\benza-ord\\anaconda3\\envs\\keras-gpu\\lib\\site-packages\\ipykernel_launcher.py:47: UserWarning: Update your `Model` call to the Keras 2 API: `Model(inputs=[<tf.Tenso..., outputs=Tensor(\"re...)`\n"
     ]
    },
    {
     "name": "stdout",
     "output_type": "stream",
     "text": [
      "(100, 224, 224, 3)\n",
      "14 res2a_branch1\n",
      "preds (100, 56, 56, 256)\n",
      "(100, 802816)\n"
     ]
    },
    {
     "name": "stderr",
     "output_type": "stream",
     "text": [
      "C:\\Users\\benza-ord\\anaconda3\\envs\\keras-gpu\\lib\\site-packages\\sklearn\\decomposition\\_pca.py:555: RuntimeWarning: divide by zero encountered in true_divide\n",
      "  self.explained_variance_ / total_var.sum()\n",
      " 11%|██████████▌                                                                                     | 11/100 [00:00<00:00, 109.20it/s]"
     ]
    },
    {
     "name": "stdout",
     "output_type": "stream",
     "text": [
      "             PC1           PC2  target\n",
      "0   8.393334e-09 -4.355493e-19       3\n",
      "1   8.393334e-09 -4.268604e-19       8\n",
      "2   8.393334e-09 -4.268554e-19       8\n",
      "3   8.393334e-09 -4.268558e-19       0\n",
      "4   8.393334e-09 -4.268558e-19       6\n",
      "..           ...           ...     ...\n",
      "95  8.393334e-09 -4.268558e-19       6\n",
      "96  8.393331e-09  1.024673e-17       6\n",
      "97  8.393331e-09  1.024673e-17       0\n",
      "98  8.393331e-09  1.024673e-17       0\n",
      "99  8.393331e-09  1.024673e-17       7\n",
      "\n",
      "[100 rows x 3 columns]\n",
      "(100, 224, 224, 3)\n"
     ]
    },
    {
     "name": "stderr",
     "output_type": "stream",
     "text": [
      "100%|███████████████████████████████████████████████████████████████████████████████████████████████| 100/100 [00:00<00:00, 109.21it/s]\n",
      "C:\\Users\\benza-ord\\anaconda3\\envs\\keras-gpu\\lib\\site-packages\\ipykernel_launcher.py:47: UserWarning: Update your `Model` call to the Keras 2 API: `Model(inputs=[<tf.Tenso..., outputs=Tensor(\"re...)`\n"
     ]
    },
    {
     "name": "stdout",
     "output_type": "stream",
     "text": [
      "(100, 224, 224, 3)\n",
      "14 res2a_branch1\n",
      "preds (100, 56, 56, 256)\n",
      "(100, 802816)\n"
     ]
    },
    {
     "name": "stderr",
     "output_type": "stream",
     "text": [
      "C:\\Users\\benza-ord\\anaconda3\\envs\\keras-gpu\\lib\\site-packages\\sklearn\\decomposition\\_pca.py:555: RuntimeWarning: divide by zero encountered in true_divide\n",
      "  self.explained_variance_ / total_var.sum()\n",
      " 12%|███████████▌                                                                                    | 12/100 [00:00<00:00, 116.80it/s]"
     ]
    },
    {
     "name": "stdout",
     "output_type": "stream",
     "text": [
      "             PC1           PC2  target\n",
      "0   8.393334e-09 -4.355493e-19       3\n",
      "1   8.393334e-09 -4.268604e-19       8\n",
      "2   8.393334e-09 -4.268554e-19       8\n",
      "3   8.393334e-09 -4.268558e-19       0\n",
      "4   8.393334e-09 -4.268558e-19       6\n",
      "..           ...           ...     ...\n",
      "95  8.393334e-09 -4.268558e-19       6\n",
      "96  8.393331e-09  1.024673e-17       6\n",
      "97  8.393331e-09  1.024673e-17       0\n",
      "98  8.393331e-09  1.024673e-17       0\n",
      "99  8.393331e-09  1.024673e-17       7\n",
      "\n",
      "[100 rows x 3 columns]\n",
      "(100, 224, 224, 3)\n"
     ]
    },
    {
     "name": "stderr",
     "output_type": "stream",
     "text": [
      "100%|███████████████████████████████████████████████████████████████████████████████████████████████| 100/100 [00:00<00:00, 110.86it/s]\n",
      "C:\\Users\\benza-ord\\anaconda3\\envs\\keras-gpu\\lib\\site-packages\\ipykernel_launcher.py:47: UserWarning: Update your `Model` call to the Keras 2 API: `Model(inputs=[<tf.Tenso..., outputs=Tensor(\"re...)`\n"
     ]
    },
    {
     "name": "stdout",
     "output_type": "stream",
     "text": [
      "(100, 224, 224, 3)\n",
      "14 res2a_branch1\n",
      "preds (100, 56, 56, 256)\n",
      "(100, 802816)\n"
     ]
    },
    {
     "name": "stderr",
     "output_type": "stream",
     "text": [
      "C:\\Users\\benza-ord\\anaconda3\\envs\\keras-gpu\\lib\\site-packages\\sklearn\\decomposition\\_pca.py:555: RuntimeWarning: divide by zero encountered in true_divide\n",
      "  self.explained_variance_ / total_var.sum()\n",
      " 10%|█████████▋                                                                                       | 10/100 [00:00<00:00, 95.49it/s]"
     ]
    },
    {
     "name": "stdout",
     "output_type": "stream",
     "text": [
      "             PC1           PC2  target\n",
      "0   8.393334e-09 -4.355493e-19       3\n",
      "1   8.393334e-09 -4.268604e-19       8\n",
      "2   8.393334e-09 -4.268554e-19       8\n",
      "3   8.393334e-09 -4.268558e-19       0\n",
      "4   8.393334e-09 -4.268558e-19       6\n",
      "..           ...           ...     ...\n",
      "95  8.393334e-09 -4.268558e-19       6\n",
      "96  8.393331e-09  1.024673e-17       6\n",
      "97  8.393331e-09  1.024673e-17       0\n",
      "98  8.393331e-09  1.024673e-17       0\n",
      "99  8.393331e-09  1.024673e-17       7\n",
      "\n",
      "[100 rows x 3 columns]\n",
      "(100, 224, 224, 3)\n"
     ]
    },
    {
     "name": "stderr",
     "output_type": "stream",
     "text": [
      "100%|███████████████████████████████████████████████████████████████████████████████████████████████| 100/100 [00:00<00:00, 106.07it/s]\n",
      "C:\\Users\\benza-ord\\anaconda3\\envs\\keras-gpu\\lib\\site-packages\\ipykernel_launcher.py:47: UserWarning: Update your `Model` call to the Keras 2 API: `Model(inputs=[<tf.Tenso..., outputs=Tensor(\"re...)`\n"
     ]
    },
    {
     "name": "stdout",
     "output_type": "stream",
     "text": [
      "(100, 224, 224, 3)\n",
      "14 res2a_branch1\n",
      "preds (100, 56, 56, 256)\n",
      "(100, 802816)\n"
     ]
    },
    {
     "name": "stderr",
     "output_type": "stream",
     "text": [
      "C:\\Users\\benza-ord\\anaconda3\\envs\\keras-gpu\\lib\\site-packages\\sklearn\\decomposition\\_pca.py:555: RuntimeWarning: divide by zero encountered in true_divide\n",
      "  self.explained_variance_ / total_var.sum()\n",
      " 13%|████████████▍                                                                                   | 13/100 [00:00<00:00, 117.85it/s]"
     ]
    },
    {
     "name": "stdout",
     "output_type": "stream",
     "text": [
      "             PC1           PC2  target\n",
      "0   8.393334e-09 -4.355493e-19       3\n",
      "1   8.393334e-09 -4.268604e-19       8\n",
      "2   8.393334e-09 -4.268554e-19       8\n",
      "3   8.393334e-09 -4.268558e-19       0\n",
      "4   8.393334e-09 -4.268558e-19       6\n",
      "..           ...           ...     ...\n",
      "95  8.393334e-09 -4.268558e-19       6\n",
      "96  8.393331e-09  1.024673e-17       6\n",
      "97  8.393331e-09  1.024673e-17       0\n",
      "98  8.393331e-09  1.024673e-17       0\n",
      "99  8.393331e-09  1.024673e-17       7\n",
      "\n",
      "[100 rows x 3 columns]\n",
      "(100, 224, 224, 3)\n"
     ]
    },
    {
     "name": "stderr",
     "output_type": "stream",
     "text": [
      "100%|███████████████████████████████████████████████████████████████████████████████████████████████| 100/100 [00:00<00:00, 112.62it/s]\n",
      "C:\\Users\\benza-ord\\anaconda3\\envs\\keras-gpu\\lib\\site-packages\\ipykernel_launcher.py:47: UserWarning: Update your `Model` call to the Keras 2 API: `Model(inputs=[<tf.Tenso..., outputs=Tensor(\"re...)`\n"
     ]
    },
    {
     "name": "stdout",
     "output_type": "stream",
     "text": [
      "(100, 224, 224, 3)\n",
      "14 res2a_branch1\n",
      "preds (100, 56, 56, 256)\n",
      "(100, 802816)\n"
     ]
    },
    {
     "name": "stderr",
     "output_type": "stream",
     "text": [
      "C:\\Users\\benza-ord\\anaconda3\\envs\\keras-gpu\\lib\\site-packages\\sklearn\\decomposition\\_pca.py:555: RuntimeWarning: divide by zero encountered in true_divide\n",
      "  self.explained_variance_ / total_var.sum()\n",
      " 12%|███████████▌                                                                                    | 12/100 [00:00<00:00, 115.71it/s]"
     ]
    },
    {
     "name": "stdout",
     "output_type": "stream",
     "text": [
      "             PC1           PC2  target\n",
      "0   8.393334e-09 -4.355493e-19       3\n",
      "1   8.393334e-09 -4.268604e-19       8\n",
      "2   8.393334e-09 -4.268554e-19       8\n",
      "3   8.393334e-09 -4.268558e-19       0\n",
      "4   8.393334e-09 -4.268558e-19       6\n",
      "..           ...           ...     ...\n",
      "95  8.393334e-09 -4.268558e-19       6\n",
      "96  8.393331e-09  1.024673e-17       6\n",
      "97  8.393331e-09  1.024673e-17       0\n",
      "98  8.393331e-09  1.024673e-17       0\n",
      "99  8.393331e-09  1.024673e-17       7\n",
      "\n",
      "[100 rows x 3 columns]\n",
      "(100, 224, 224, 3)\n"
     ]
    },
    {
     "name": "stderr",
     "output_type": "stream",
     "text": [
      "100%|███████████████████████████████████████████████████████████████████████████████████████████████| 100/100 [00:00<00:00, 105.57it/s]\n",
      "C:\\Users\\benza-ord\\anaconda3\\envs\\keras-gpu\\lib\\site-packages\\ipykernel_launcher.py:47: UserWarning: Update your `Model` call to the Keras 2 API: `Model(inputs=[<tf.Tenso..., outputs=Tensor(\"re...)`\n"
     ]
    },
    {
     "name": "stdout",
     "output_type": "stream",
     "text": [
      "(100, 224, 224, 3)\n",
      "14 res2a_branch1\n",
      "preds (100, 56, 56, 256)\n",
      "(100, 802816)\n"
     ]
    },
    {
     "name": "stderr",
     "output_type": "stream",
     "text": [
      "C:\\Users\\benza-ord\\anaconda3\\envs\\keras-gpu\\lib\\site-packages\\sklearn\\decomposition\\_pca.py:555: RuntimeWarning: divide by zero encountered in true_divide\n",
      "  self.explained_variance_ / total_var.sum()\n",
      " 12%|███████████▌                                                                                    | 12/100 [00:00<00:00, 116.82it/s]"
     ]
    },
    {
     "name": "stdout",
     "output_type": "stream",
     "text": [
      "             PC1           PC2  target\n",
      "0   8.393334e-09 -4.355493e-19       3\n",
      "1   8.393334e-09 -4.268604e-19       8\n",
      "2   8.393334e-09 -4.268554e-19       8\n",
      "3   8.393334e-09 -4.268558e-19       0\n",
      "4   8.393334e-09 -4.268558e-19       6\n",
      "..           ...           ...     ...\n",
      "95  8.393334e-09 -4.268558e-19       6\n",
      "96  8.393331e-09  1.024673e-17       6\n",
      "97  8.393331e-09  1.024673e-17       0\n",
      "98  8.393331e-09  1.024673e-17       0\n",
      "99  8.393331e-09  1.024673e-17       7\n",
      "\n",
      "[100 rows x 3 columns]\n",
      "(100, 224, 224, 3)\n"
     ]
    },
    {
     "name": "stderr",
     "output_type": "stream",
     "text": [
      "100%|███████████████████████████████████████████████████████████████████████████████████████████████| 100/100 [00:00<00:00, 113.53it/s]\n",
      "C:\\Users\\benza-ord\\anaconda3\\envs\\keras-gpu\\lib\\site-packages\\ipykernel_launcher.py:47: UserWarning: Update your `Model` call to the Keras 2 API: `Model(inputs=[<tf.Tenso..., outputs=Tensor(\"re...)`\n"
     ]
    },
    {
     "name": "stdout",
     "output_type": "stream",
     "text": [
      "(100, 224, 224, 3)\n",
      "14 res2a_branch1\n",
      "preds (100, 56, 56, 256)\n",
      "(100, 802816)\n"
     ]
    },
    {
     "name": "stderr",
     "output_type": "stream",
     "text": [
      "C:\\Users\\benza-ord\\anaconda3\\envs\\keras-gpu\\lib\\site-packages\\sklearn\\decomposition\\_pca.py:555: RuntimeWarning: divide by zero encountered in true_divide\n",
      "  self.explained_variance_ / total_var.sum()\n",
      " 11%|██████████▋                                                                                      | 11/100 [00:00<00:00, 98.48it/s]"
     ]
    },
    {
     "name": "stdout",
     "output_type": "stream",
     "text": [
      "             PC1           PC2  target\n",
      "0   8.393334e-09 -4.355493e-19       3\n",
      "1   8.393334e-09 -4.268604e-19       8\n",
      "2   8.393334e-09 -4.268554e-19       8\n",
      "3   8.393334e-09 -4.268558e-19       0\n",
      "4   8.393334e-09 -4.268558e-19       6\n",
      "..           ...           ...     ...\n",
      "95  8.393334e-09 -4.268558e-19       6\n",
      "96  8.393331e-09  1.024673e-17       6\n",
      "97  8.393331e-09  1.024673e-17       0\n",
      "98  8.393331e-09  1.024673e-17       0\n",
      "99  8.393331e-09  1.024673e-17       7\n",
      "\n",
      "[100 rows x 3 columns]\n",
      "(100, 224, 224, 3)\n"
     ]
    },
    {
     "name": "stderr",
     "output_type": "stream",
     "text": [
      "100%|████████████████████████████████████████████████████████████████████████████████████████████████| 100/100 [00:01<00:00, 95.35it/s]\n",
      "C:\\Users\\benza-ord\\anaconda3\\envs\\keras-gpu\\lib\\site-packages\\ipykernel_launcher.py:47: UserWarning: Update your `Model` call to the Keras 2 API: `Model(inputs=[<tf.Tenso..., outputs=Tensor(\"re...)`\n"
     ]
    },
    {
     "name": "stdout",
     "output_type": "stream",
     "text": [
      "(100, 224, 224, 3)\n",
      "14 res2a_branch1\n",
      "preds (100, 56, 56, 256)\n",
      "(100, 802816)\n"
     ]
    },
    {
     "name": "stderr",
     "output_type": "stream",
     "text": [
      "C:\\Users\\benza-ord\\anaconda3\\envs\\keras-gpu\\lib\\site-packages\\sklearn\\decomposition\\_pca.py:555: RuntimeWarning: divide by zero encountered in true_divide\n",
      "  self.explained_variance_ / total_var.sum()\n",
      " 12%|███████████▌                                                                                    | 12/100 [00:00<00:00, 115.62it/s]"
     ]
    },
    {
     "name": "stdout",
     "output_type": "stream",
     "text": [
      "             PC1           PC2  target\n",
      "0   8.393334e-09 -4.355493e-19       3\n",
      "1   8.393334e-09 -4.268604e-19       8\n",
      "2   8.393334e-09 -4.268554e-19       8\n",
      "3   8.393334e-09 -4.268558e-19       0\n",
      "4   8.393334e-09 -4.268558e-19       6\n",
      "..           ...           ...     ...\n",
      "95  8.393334e-09 -4.268558e-19       6\n",
      "96  8.393331e-09  1.024673e-17       6\n",
      "97  8.393331e-09  1.024673e-17       0\n",
      "98  8.393331e-09  1.024673e-17       0\n",
      "99  8.393331e-09  1.024673e-17       7\n",
      "\n",
      "[100 rows x 3 columns]\n",
      "(100, 224, 224, 3)\n"
     ]
    },
    {
     "name": "stderr",
     "output_type": "stream",
     "text": [
      "100%|███████████████████████████████████████████████████████████████████████████████████████████████| 100/100 [00:00<00:00, 105.25it/s]\n",
      "C:\\Users\\benza-ord\\anaconda3\\envs\\keras-gpu\\lib\\site-packages\\ipykernel_launcher.py:47: UserWarning: Update your `Model` call to the Keras 2 API: `Model(inputs=[<tf.Tenso..., outputs=Tensor(\"re...)`\n"
     ]
    },
    {
     "name": "stdout",
     "output_type": "stream",
     "text": [
      "(100, 224, 224, 3)\n",
      "19 res2b_branch2a\n",
      "preds (100, 56, 56, 64)\n",
      "(100, 200704)\n"
     ]
    },
    {
     "name": "stderr",
     "output_type": "stream",
     "text": [
      "C:\\Users\\benza-ord\\anaconda3\\envs\\keras-gpu\\lib\\site-packages\\sklearn\\decomposition\\_pca.py:555: RuntimeWarning: divide by zero encountered in true_divide\n",
      "  self.explained_variance_ / total_var.sum()\n",
      " 12%|███████████▌                                                                                    | 12/100 [00:00<00:00, 115.69it/s]"
     ]
    },
    {
     "name": "stdout",
     "output_type": "stream",
     "text": [
      "             PC1           PC2  target\n",
      "0   6.859583e-09 -6.987595e-19       3\n",
      "1   6.859583e-09 -6.933222e-19       8\n",
      "2   6.859583e-09 -6.933232e-19       8\n",
      "3   6.859583e-09 -6.933232e-19       0\n",
      "4   6.859583e-09 -6.933232e-19       6\n",
      "..           ...           ...     ...\n",
      "95  6.859583e-09 -6.933232e-19       6\n",
      "96  6.859583e-09  1.664112e-17       6\n",
      "97  6.859583e-09  1.664112e-17       0\n",
      "98  6.859583e-09  1.664112e-17       0\n",
      "99  6.859583e-09  1.664112e-17       7\n",
      "\n",
      "[100 rows x 3 columns]\n",
      "(100, 224, 224, 3)\n"
     ]
    },
    {
     "name": "stderr",
     "output_type": "stream",
     "text": [
      "100%|███████████████████████████████████████████████████████████████████████████████████████████████| 100/100 [00:00<00:00, 103.60it/s]\n",
      "C:\\Users\\benza-ord\\anaconda3\\envs\\keras-gpu\\lib\\site-packages\\ipykernel_launcher.py:47: UserWarning: Update your `Model` call to the Keras 2 API: `Model(inputs=[<tf.Tenso..., outputs=Tensor(\"re...)`\n"
     ]
    },
    {
     "name": "stdout",
     "output_type": "stream",
     "text": [
      "(100, 224, 224, 3)\n",
      "19 res2b_branch2a\n",
      "preds (100, 56, 56, 64)\n",
      "(100, 200704)\n"
     ]
    },
    {
     "name": "stderr",
     "output_type": "stream",
     "text": [
      "C:\\Users\\benza-ord\\anaconda3\\envs\\keras-gpu\\lib\\site-packages\\sklearn\\decomposition\\_pca.py:555: RuntimeWarning: divide by zero encountered in true_divide\n",
      "  self.explained_variance_ / total_var.sum()\n",
      " 12%|███████████▌                                                                                    | 12/100 [00:00<00:00, 110.39it/s]"
     ]
    },
    {
     "name": "stdout",
     "output_type": "stream",
     "text": [
      "             PC1           PC2  target\n",
      "0   6.859583e-09 -6.987595e-19       3\n",
      "1   6.859583e-09 -6.933222e-19       8\n",
      "2   6.859583e-09 -6.933232e-19       8\n",
      "3   6.859583e-09 -6.933232e-19       0\n",
      "4   6.859583e-09 -6.933232e-19       6\n",
      "..           ...           ...     ...\n",
      "95  6.859583e-09 -6.933232e-19       6\n",
      "96  6.859583e-09  1.664112e-17       6\n",
      "97  6.859583e-09  1.664112e-17       0\n",
      "98  6.859583e-09  1.664112e-17       0\n",
      "99  6.859583e-09  1.664112e-17       7\n",
      "\n",
      "[100 rows x 3 columns]\n",
      "(100, 224, 224, 3)\n"
     ]
    },
    {
     "name": "stderr",
     "output_type": "stream",
     "text": [
      "100%|████████████████████████████████████████████████████████████████████████████████████████████████| 100/100 [00:01<00:00, 95.25it/s]\n",
      "C:\\Users\\benza-ord\\anaconda3\\envs\\keras-gpu\\lib\\site-packages\\ipykernel_launcher.py:47: UserWarning: Update your `Model` call to the Keras 2 API: `Model(inputs=[<tf.Tenso..., outputs=Tensor(\"re...)`\n"
     ]
    },
    {
     "name": "stdout",
     "output_type": "stream",
     "text": [
      "(100, 224, 224, 3)\n",
      "19 res2b_branch2a\n",
      "preds (100, 56, 56, 64)\n",
      "(100, 200704)\n"
     ]
    },
    {
     "name": "stderr",
     "output_type": "stream",
     "text": [
      "C:\\Users\\benza-ord\\anaconda3\\envs\\keras-gpu\\lib\\site-packages\\sklearn\\decomposition\\_pca.py:555: RuntimeWarning: divide by zero encountered in true_divide\n",
      "  self.explained_variance_ / total_var.sum()\n",
      " 12%|███████████▌                                                                                    | 12/100 [00:00<00:00, 119.13it/s]"
     ]
    },
    {
     "name": "stdout",
     "output_type": "stream",
     "text": [
      "             PC1           PC2  target\n",
      "0   6.859583e-09 -6.987595e-19       3\n",
      "1   6.859583e-09 -6.933222e-19       8\n",
      "2   6.859583e-09 -6.933232e-19       8\n",
      "3   6.859583e-09 -6.933232e-19       0\n",
      "4   6.859583e-09 -6.933232e-19       6\n",
      "..           ...           ...     ...\n",
      "95  6.859583e-09 -6.933232e-19       6\n",
      "96  6.859583e-09  1.664112e-17       6\n",
      "97  6.859583e-09  1.664112e-17       0\n",
      "98  6.859583e-09  1.664112e-17       0\n",
      "99  6.859583e-09  1.664112e-17       7\n",
      "\n",
      "[100 rows x 3 columns]\n",
      "(100, 224, 224, 3)\n"
     ]
    },
    {
     "name": "stderr",
     "output_type": "stream",
     "text": [
      "100%|███████████████████████████████████████████████████████████████████████████████████████████████| 100/100 [00:00<00:00, 112.10it/s]\n",
      "C:\\Users\\benza-ord\\anaconda3\\envs\\keras-gpu\\lib\\site-packages\\ipykernel_launcher.py:47: UserWarning: Update your `Model` call to the Keras 2 API: `Model(inputs=[<tf.Tenso..., outputs=Tensor(\"re...)`\n"
     ]
    },
    {
     "name": "stdout",
     "output_type": "stream",
     "text": [
      "(100, 224, 224, 3)\n",
      "19 res2b_branch2a\n",
      "preds (100, 56, 56, 64)\n",
      "(100, 200704)\n"
     ]
    },
    {
     "name": "stderr",
     "output_type": "stream",
     "text": [
      "C:\\Users\\benza-ord\\anaconda3\\envs\\keras-gpu\\lib\\site-packages\\sklearn\\decomposition\\_pca.py:555: RuntimeWarning: divide by zero encountered in true_divide\n",
      "  self.explained_variance_ / total_var.sum()\n",
      " 12%|███████████▌                                                                                    | 12/100 [00:00<00:00, 118.54it/s]"
     ]
    },
    {
     "name": "stdout",
     "output_type": "stream",
     "text": [
      "             PC1           PC2  target\n",
      "0   6.859583e-09 -6.987595e-19       3\n",
      "1   6.859583e-09 -6.933222e-19       8\n",
      "2   6.859583e-09 -6.933232e-19       8\n",
      "3   6.859583e-09 -6.933232e-19       0\n",
      "4   6.859583e-09 -6.933232e-19       6\n",
      "..           ...           ...     ...\n",
      "95  6.859583e-09 -6.933232e-19       6\n",
      "96  6.859583e-09  1.664112e-17       6\n",
      "97  6.859583e-09  1.664112e-17       0\n",
      "98  6.859583e-09  1.664112e-17       0\n",
      "99  6.859583e-09  1.664112e-17       7\n",
      "\n",
      "[100 rows x 3 columns]\n",
      "(100, 224, 224, 3)\n"
     ]
    },
    {
     "name": "stderr",
     "output_type": "stream",
     "text": [
      "100%|███████████████████████████████████████████████████████████████████████████████████████████████| 100/100 [00:00<00:00, 113.11it/s]\n",
      "C:\\Users\\benza-ord\\anaconda3\\envs\\keras-gpu\\lib\\site-packages\\ipykernel_launcher.py:47: UserWarning: Update your `Model` call to the Keras 2 API: `Model(inputs=[<tf.Tenso..., outputs=Tensor(\"re...)`\n"
     ]
    },
    {
     "name": "stdout",
     "output_type": "stream",
     "text": [
      "(100, 224, 224, 3)\n",
      "19 res2b_branch2a\n",
      "preds (100, 56, 56, 64)\n",
      "(100, 200704)\n"
     ]
    },
    {
     "name": "stderr",
     "output_type": "stream",
     "text": [
      "C:\\Users\\benza-ord\\anaconda3\\envs\\keras-gpu\\lib\\site-packages\\sklearn\\decomposition\\_pca.py:555: RuntimeWarning: divide by zero encountered in true_divide\n",
      "  self.explained_variance_ / total_var.sum()\n",
      " 12%|███████████▌                                                                                    | 12/100 [00:00<00:00, 117.36it/s]"
     ]
    },
    {
     "name": "stdout",
     "output_type": "stream",
     "text": [
      "             PC1           PC2  target\n",
      "0   6.859583e-09 -6.987595e-19       3\n",
      "1   6.859583e-09 -6.933222e-19       8\n",
      "2   6.859583e-09 -6.933232e-19       8\n",
      "3   6.859583e-09 -6.933232e-19       0\n",
      "4   6.859583e-09 -6.933232e-19       6\n",
      "..           ...           ...     ...\n",
      "95  6.859583e-09 -6.933232e-19       6\n",
      "96  6.859583e-09  1.664112e-17       6\n",
      "97  6.859583e-09  1.664112e-17       0\n",
      "98  6.859583e-09  1.664112e-17       0\n",
      "99  6.859583e-09  1.664112e-17       7\n",
      "\n",
      "[100 rows x 3 columns]\n",
      "(100, 224, 224, 3)\n"
     ]
    },
    {
     "name": "stderr",
     "output_type": "stream",
     "text": [
      "100%|███████████████████████████████████████████████████████████████████████████████████████████████| 100/100 [00:00<00:00, 113.38it/s]\n",
      "C:\\Users\\benza-ord\\anaconda3\\envs\\keras-gpu\\lib\\site-packages\\ipykernel_launcher.py:47: UserWarning: Update your `Model` call to the Keras 2 API: `Model(inputs=[<tf.Tenso..., outputs=Tensor(\"re...)`\n"
     ]
    },
    {
     "name": "stdout",
     "output_type": "stream",
     "text": [
      "(100, 224, 224, 3)\n",
      "19 res2b_branch2a\n",
      "preds (100, 56, 56, 64)\n",
      "(100, 200704)\n"
     ]
    },
    {
     "name": "stderr",
     "output_type": "stream",
     "text": [
      "C:\\Users\\benza-ord\\anaconda3\\envs\\keras-gpu\\lib\\site-packages\\sklearn\\decomposition\\_pca.py:555: RuntimeWarning: divide by zero encountered in true_divide\n",
      "  self.explained_variance_ / total_var.sum()\n",
      " 13%|████████████▍                                                                                   | 13/100 [00:00<00:00, 120.69it/s]"
     ]
    },
    {
     "name": "stdout",
     "output_type": "stream",
     "text": [
      "             PC1           PC2  target\n",
      "0   6.859583e-09 -6.987595e-19       3\n",
      "1   6.859583e-09 -6.933222e-19       8\n",
      "2   6.859583e-09 -6.933232e-19       8\n",
      "3   6.859583e-09 -6.933232e-19       0\n",
      "4   6.859583e-09 -6.933232e-19       6\n",
      "..           ...           ...     ...\n",
      "95  6.859583e-09 -6.933232e-19       6\n",
      "96  6.859583e-09  1.664112e-17       6\n",
      "97  6.859583e-09  1.664112e-17       0\n",
      "98  6.859583e-09  1.664112e-17       0\n",
      "99  6.859583e-09  1.664112e-17       7\n",
      "\n",
      "[100 rows x 3 columns]\n",
      "(100, 224, 224, 3)\n"
     ]
    },
    {
     "name": "stderr",
     "output_type": "stream",
     "text": [
      "100%|███████████████████████████████████████████████████████████████████████████████████████████████| 100/100 [00:00<00:00, 114.19it/s]\n",
      "C:\\Users\\benza-ord\\anaconda3\\envs\\keras-gpu\\lib\\site-packages\\ipykernel_launcher.py:47: UserWarning: Update your `Model` call to the Keras 2 API: `Model(inputs=[<tf.Tenso..., outputs=Tensor(\"re...)`\n"
     ]
    },
    {
     "name": "stdout",
     "output_type": "stream",
     "text": [
      "(100, 224, 224, 3)\n",
      "19 res2b_branch2a\n",
      "preds (100, 56, 56, 64)\n",
      "(100, 200704)\n"
     ]
    },
    {
     "name": "stderr",
     "output_type": "stream",
     "text": [
      "C:\\Users\\benza-ord\\anaconda3\\envs\\keras-gpu\\lib\\site-packages\\sklearn\\decomposition\\_pca.py:555: RuntimeWarning: divide by zero encountered in true_divide\n",
      "  self.explained_variance_ / total_var.sum()\n",
      " 12%|███████████▌                                                                                    | 12/100 [00:00<00:00, 116.82it/s]"
     ]
    },
    {
     "name": "stdout",
     "output_type": "stream",
     "text": [
      "             PC1           PC2  target\n",
      "0   6.859583e-09 -6.987595e-19       3\n",
      "1   6.859583e-09 -6.933222e-19       8\n",
      "2   6.859583e-09 -6.933232e-19       8\n",
      "3   6.859583e-09 -6.933232e-19       0\n",
      "4   6.859583e-09 -6.933232e-19       6\n",
      "..           ...           ...     ...\n",
      "95  6.859583e-09 -6.933232e-19       6\n",
      "96  6.859583e-09  1.664112e-17       6\n",
      "97  6.859583e-09  1.664112e-17       0\n",
      "98  6.859583e-09  1.664112e-17       0\n",
      "99  6.859583e-09  1.664112e-17       7\n",
      "\n",
      "[100 rows x 3 columns]\n",
      "(100, 224, 224, 3)\n"
     ]
    },
    {
     "name": "stderr",
     "output_type": "stream",
     "text": [
      "100%|███████████████████████████████████████████████████████████████████████████████████████████████| 100/100 [00:00<00:00, 109.56it/s]\n",
      "C:\\Users\\benza-ord\\anaconda3\\envs\\keras-gpu\\lib\\site-packages\\ipykernel_launcher.py:47: UserWarning: Update your `Model` call to the Keras 2 API: `Model(inputs=[<tf.Tenso..., outputs=Tensor(\"re...)`\n"
     ]
    },
    {
     "name": "stdout",
     "output_type": "stream",
     "text": [
      "(100, 224, 224, 3)\n",
      "19 res2b_branch2a\n",
      "preds (100, 56, 56, 64)\n",
      "(100, 200704)\n"
     ]
    },
    {
     "name": "stderr",
     "output_type": "stream",
     "text": [
      "C:\\Users\\benza-ord\\anaconda3\\envs\\keras-gpu\\lib\\site-packages\\sklearn\\decomposition\\_pca.py:555: RuntimeWarning: divide by zero encountered in true_divide\n",
      "  self.explained_variance_ / total_var.sum()\n",
      " 10%|█████████▋                                                                                       | 10/100 [00:00<00:00, 91.55it/s]"
     ]
    },
    {
     "name": "stdout",
     "output_type": "stream",
     "text": [
      "             PC1           PC2  target\n",
      "0   6.859583e-09 -6.987595e-19       3\n",
      "1   6.859583e-09 -6.933222e-19       8\n",
      "2   6.859583e-09 -6.933232e-19       8\n",
      "3   6.859583e-09 -6.933232e-19       0\n",
      "4   6.859583e-09 -6.933232e-19       6\n",
      "..           ...           ...     ...\n",
      "95  6.859583e-09 -6.933232e-19       6\n",
      "96  6.859583e-09  1.664112e-17       6\n",
      "97  6.859583e-09  1.664112e-17       0\n",
      "98  6.859583e-09  1.664112e-17       0\n",
      "99  6.859583e-09  1.664112e-17       7\n",
      "\n",
      "[100 rows x 3 columns]\n",
      "(100, 224, 224, 3)\n"
     ]
    },
    {
     "name": "stderr",
     "output_type": "stream",
     "text": [
      "100%|████████████████████████████████████████████████████████████████████████████████████████████████| 100/100 [00:01<00:00, 98.93it/s]\n",
      "C:\\Users\\benza-ord\\anaconda3\\envs\\keras-gpu\\lib\\site-packages\\ipykernel_launcher.py:47: UserWarning: Update your `Model` call to the Keras 2 API: `Model(inputs=[<tf.Tenso..., outputs=Tensor(\"re...)`\n"
     ]
    },
    {
     "name": "stdout",
     "output_type": "stream",
     "text": [
      "(100, 224, 224, 3)\n",
      "19 res2b_branch2a\n",
      "preds (100, 56, 56, 64)\n",
      "(100, 200704)\n"
     ]
    },
    {
     "name": "stderr",
     "output_type": "stream",
     "text": [
      "C:\\Users\\benza-ord\\anaconda3\\envs\\keras-gpu\\lib\\site-packages\\sklearn\\decomposition\\_pca.py:555: RuntimeWarning: divide by zero encountered in true_divide\n",
      "  self.explained_variance_ / total_var.sum()\n",
      " 12%|███████████▌                                                                                    | 12/100 [00:00<00:00, 117.38it/s]"
     ]
    },
    {
     "name": "stdout",
     "output_type": "stream",
     "text": [
      "             PC1           PC2  target\n",
      "0   6.859583e-09 -6.987595e-19       3\n",
      "1   6.859583e-09 -6.933222e-19       8\n",
      "2   6.859583e-09 -6.933232e-19       8\n",
      "3   6.859583e-09 -6.933232e-19       0\n",
      "4   6.859583e-09 -6.933232e-19       6\n",
      "..           ...           ...     ...\n",
      "95  6.859583e-09 -6.933232e-19       6\n",
      "96  6.859583e-09  1.664112e-17       6\n",
      "97  6.859583e-09  1.664112e-17       0\n",
      "98  6.859583e-09  1.664112e-17       0\n",
      "99  6.859583e-09  1.664112e-17       7\n",
      "\n",
      "[100 rows x 3 columns]\n",
      "(100, 224, 224, 3)\n"
     ]
    },
    {
     "name": "stderr",
     "output_type": "stream",
     "text": [
      "100%|███████████████████████████████████████████████████████████████████████████████████████████████| 100/100 [00:00<00:00, 111.55it/s]\n",
      "C:\\Users\\benza-ord\\anaconda3\\envs\\keras-gpu\\lib\\site-packages\\ipykernel_launcher.py:47: UserWarning: Update your `Model` call to the Keras 2 API: `Model(inputs=[<tf.Tenso..., outputs=Tensor(\"re...)`\n"
     ]
    },
    {
     "name": "stdout",
     "output_type": "stream",
     "text": [
      "(100, 224, 224, 3)\n",
      "19 res2b_branch2a\n",
      "preds (100, 56, 56, 64)\n",
      "(100, 200704)\n"
     ]
    },
    {
     "name": "stderr",
     "output_type": "stream",
     "text": [
      "C:\\Users\\benza-ord\\anaconda3\\envs\\keras-gpu\\lib\\site-packages\\sklearn\\decomposition\\_pca.py:555: RuntimeWarning: divide by zero encountered in true_divide\n",
      "  self.explained_variance_ / total_var.sum()\n",
      " 12%|███████████▌                                                                                    | 12/100 [00:00<00:00, 115.69it/s]"
     ]
    },
    {
     "name": "stdout",
     "output_type": "stream",
     "text": [
      "             PC1           PC2  target\n",
      "0   6.859583e-09 -6.987595e-19       3\n",
      "1   6.859583e-09 -6.933222e-19       8\n",
      "2   6.859583e-09 -6.933232e-19       8\n",
      "3   6.859583e-09 -6.933232e-19       0\n",
      "4   6.859583e-09 -6.933232e-19       6\n",
      "..           ...           ...     ...\n",
      "95  6.859583e-09 -6.933232e-19       6\n",
      "96  6.859583e-09  1.664112e-17       6\n",
      "97  6.859583e-09  1.664112e-17       0\n",
      "98  6.859583e-09  1.664112e-17       0\n",
      "99  6.859583e-09  1.664112e-17       7\n",
      "\n",
      "[100 rows x 3 columns]\n",
      "(100, 224, 224, 3)\n"
     ]
    },
    {
     "name": "stderr",
     "output_type": "stream",
     "text": [
      "100%|███████████████████████████████████████████████████████████████████████████████████████████████| 100/100 [00:00<00:00, 111.57it/s]\n",
      "C:\\Users\\benza-ord\\anaconda3\\envs\\keras-gpu\\lib\\site-packages\\ipykernel_launcher.py:47: UserWarning: Update your `Model` call to the Keras 2 API: `Model(inputs=[<tf.Tenso..., outputs=Tensor(\"re...)`\n"
     ]
    },
    {
     "name": "stdout",
     "output_type": "stream",
     "text": [
      "(100, 224, 224, 3)\n",
      "22 res2b_branch2b\n",
      "preds (100, 56, 56, 64)\n",
      "(100, 200704)\n"
     ]
    },
    {
     "name": "stderr",
     "output_type": "stream",
     "text": [
      "C:\\Users\\benza-ord\\anaconda3\\envs\\keras-gpu\\lib\\site-packages\\sklearn\\decomposition\\_pca.py:555: RuntimeWarning: divide by zero encountered in true_divide\n",
      "  self.explained_variance_ / total_var.sum()\n",
      " 10%|█████████▋                                                                                       | 10/100 [00:00<00:00, 99.28it/s]"
     ]
    },
    {
     "name": "stdout",
     "output_type": "stream",
     "text": [
      "             PC1           PC2  target\n",
      "0   6.960902e-09 -6.501582e-19       3\n",
      "1   6.960900e-09 -6.506793e-19       8\n",
      "2   6.960900e-09 -6.506766e-19       8\n",
      "3   6.960900e-09 -6.506766e-19       0\n",
      "4   6.960900e-09 -6.506765e-19       6\n",
      "..           ...           ...     ...\n",
      "95  6.960900e-09 -6.506765e-19       6\n",
      "96  6.960902e-09  1.561610e-17       6\n",
      "97  6.960902e-09  1.561610e-17       0\n",
      "98  6.960902e-09  1.561610e-17       0\n",
      "99  6.960902e-09  1.561610e-17       7\n",
      "\n",
      "[100 rows x 3 columns]\n",
      "(100, 224, 224, 3)\n"
     ]
    },
    {
     "name": "stderr",
     "output_type": "stream",
     "text": [
      "100%|███████████████████████████████████████████████████████████████████████████████████████████████| 100/100 [00:00<00:00, 110.61it/s]\n",
      "C:\\Users\\benza-ord\\anaconda3\\envs\\keras-gpu\\lib\\site-packages\\ipykernel_launcher.py:47: UserWarning: Update your `Model` call to the Keras 2 API: `Model(inputs=[<tf.Tenso..., outputs=Tensor(\"re...)`\n"
     ]
    },
    {
     "name": "stdout",
     "output_type": "stream",
     "text": [
      "(100, 224, 224, 3)\n",
      "22 res2b_branch2b\n",
      "preds (100, 56, 56, 64)\n",
      "(100, 200704)\n"
     ]
    },
    {
     "name": "stderr",
     "output_type": "stream",
     "text": [
      "C:\\Users\\benza-ord\\anaconda3\\envs\\keras-gpu\\lib\\site-packages\\sklearn\\decomposition\\_pca.py:555: RuntimeWarning: divide by zero encountered in true_divide\n",
      "  self.explained_variance_ / total_var.sum()\n",
      " 12%|███████████▌                                                                                    | 12/100 [00:00<00:00, 114.04it/s]"
     ]
    },
    {
     "name": "stdout",
     "output_type": "stream",
     "text": [
      "             PC1           PC2  target\n",
      "0   6.960902e-09 -6.501582e-19       3\n",
      "1   6.960900e-09 -6.506793e-19       8\n",
      "2   6.960900e-09 -6.506766e-19       8\n",
      "3   6.960900e-09 -6.506766e-19       0\n",
      "4   6.960900e-09 -6.506765e-19       6\n",
      "..           ...           ...     ...\n",
      "95  6.960900e-09 -6.506765e-19       6\n",
      "96  6.960902e-09  1.561610e-17       6\n",
      "97  6.960902e-09  1.561610e-17       0\n",
      "98  6.960902e-09  1.561610e-17       0\n",
      "99  6.960902e-09  1.561610e-17       7\n",
      "\n",
      "[100 rows x 3 columns]\n",
      "(100, 224, 224, 3)\n"
     ]
    },
    {
     "name": "stderr",
     "output_type": "stream",
     "text": [
      "100%|███████████████████████████████████████████████████████████████████████████████████████████████| 100/100 [00:00<00:00, 112.74it/s]\n",
      "C:\\Users\\benza-ord\\anaconda3\\envs\\keras-gpu\\lib\\site-packages\\ipykernel_launcher.py:47: UserWarning: Update your `Model` call to the Keras 2 API: `Model(inputs=[<tf.Tenso..., outputs=Tensor(\"re...)`\n"
     ]
    },
    {
     "name": "stdout",
     "output_type": "stream",
     "text": [
      "(100, 224, 224, 3)\n",
      "22 res2b_branch2b\n",
      "preds (100, 56, 56, 64)\n",
      "(100, 200704)\n"
     ]
    },
    {
     "name": "stderr",
     "output_type": "stream",
     "text": [
      "C:\\Users\\benza-ord\\anaconda3\\envs\\keras-gpu\\lib\\site-packages\\sklearn\\decomposition\\_pca.py:555: RuntimeWarning: divide by zero encountered in true_divide\n",
      "  self.explained_variance_ / total_var.sum()\n",
      " 12%|███████████▌                                                                                    | 12/100 [00:00<00:00, 118.94it/s]"
     ]
    },
    {
     "name": "stdout",
     "output_type": "stream",
     "text": [
      "             PC1           PC2  target\n",
      "0   6.960902e-09 -6.501582e-19       3\n",
      "1   6.960900e-09 -6.506793e-19       8\n",
      "2   6.960900e-09 -6.506766e-19       8\n",
      "3   6.960900e-09 -6.506766e-19       0\n",
      "4   6.960900e-09 -6.506765e-19       6\n",
      "..           ...           ...     ...\n",
      "95  6.960900e-09 -6.506765e-19       6\n",
      "96  6.960902e-09  1.561610e-17       6\n",
      "97  6.960902e-09  1.561610e-17       0\n",
      "98  6.960902e-09  1.561610e-17       0\n",
      "99  6.960902e-09  1.561610e-17       7\n",
      "\n",
      "[100 rows x 3 columns]\n",
      "(100, 224, 224, 3)\n"
     ]
    },
    {
     "name": "stderr",
     "output_type": "stream",
     "text": [
      "100%|███████████████████████████████████████████████████████████████████████████████████████████████| 100/100 [00:00<00:00, 110.96it/s]\n",
      "C:\\Users\\benza-ord\\anaconda3\\envs\\keras-gpu\\lib\\site-packages\\ipykernel_launcher.py:47: UserWarning: Update your `Model` call to the Keras 2 API: `Model(inputs=[<tf.Tenso..., outputs=Tensor(\"re...)`\n"
     ]
    },
    {
     "name": "stdout",
     "output_type": "stream",
     "text": [
      "(100, 224, 224, 3)\n",
      "22 res2b_branch2b\n",
      "preds (100, 56, 56, 64)\n",
      "(100, 200704)\n"
     ]
    },
    {
     "name": "stderr",
     "output_type": "stream",
     "text": [
      "C:\\Users\\benza-ord\\anaconda3\\envs\\keras-gpu\\lib\\site-packages\\sklearn\\decomposition\\_pca.py:555: RuntimeWarning: divide by zero encountered in true_divide\n",
      "  self.explained_variance_ / total_var.sum()\n",
      " 12%|███████████▌                                                                                    | 12/100 [00:00<00:00, 117.38it/s]"
     ]
    },
    {
     "name": "stdout",
     "output_type": "stream",
     "text": [
      "             PC1           PC2  target\n",
      "0   6.960902e-09 -6.501582e-19       3\n",
      "1   6.960900e-09 -6.506793e-19       8\n",
      "2   6.960900e-09 -6.506766e-19       8\n",
      "3   6.960900e-09 -6.506766e-19       0\n",
      "4   6.960900e-09 -6.506765e-19       6\n",
      "..           ...           ...     ...\n",
      "95  6.960900e-09 -6.506765e-19       6\n",
      "96  6.960902e-09  1.561610e-17       6\n",
      "97  6.960902e-09  1.561610e-17       0\n",
      "98  6.960902e-09  1.561610e-17       0\n",
      "99  6.960902e-09  1.561610e-17       7\n",
      "\n",
      "[100 rows x 3 columns]\n",
      "(100, 224, 224, 3)\n"
     ]
    },
    {
     "name": "stderr",
     "output_type": "stream",
     "text": [
      "100%|███████████████████████████████████████████████████████████████████████████████████████████████| 100/100 [00:00<00:00, 113.82it/s]\n",
      "C:\\Users\\benza-ord\\anaconda3\\envs\\keras-gpu\\lib\\site-packages\\ipykernel_launcher.py:47: UserWarning: Update your `Model` call to the Keras 2 API: `Model(inputs=[<tf.Tenso..., outputs=Tensor(\"re...)`\n"
     ]
    },
    {
     "name": "stdout",
     "output_type": "stream",
     "text": [
      "(100, 224, 224, 3)\n",
      "22 res2b_branch2b\n",
      "preds (100, 56, 56, 64)\n",
      "(100, 200704)\n"
     ]
    },
    {
     "name": "stderr",
     "output_type": "stream",
     "text": [
      "C:\\Users\\benza-ord\\anaconda3\\envs\\keras-gpu\\lib\\site-packages\\sklearn\\decomposition\\_pca.py:555: RuntimeWarning: divide by zero encountered in true_divide\n",
      "  self.explained_variance_ / total_var.sum()\n",
      " 13%|████████████▍                                                                                   | 13/100 [00:00<00:00, 119.59it/s]"
     ]
    },
    {
     "name": "stdout",
     "output_type": "stream",
     "text": [
      "             PC1           PC2  target\n",
      "0   6.960902e-09 -6.501582e-19       3\n",
      "1   6.960900e-09 -6.506793e-19       8\n",
      "2   6.960900e-09 -6.506766e-19       8\n",
      "3   6.960900e-09 -6.506766e-19       0\n",
      "4   6.960900e-09 -6.506765e-19       6\n",
      "..           ...           ...     ...\n",
      "95  6.960900e-09 -6.506765e-19       6\n",
      "96  6.960902e-09  1.561610e-17       6\n",
      "97  6.960902e-09  1.561610e-17       0\n",
      "98  6.960902e-09  1.561610e-17       0\n",
      "99  6.960902e-09  1.561610e-17       7\n",
      "\n",
      "[100 rows x 3 columns]\n",
      "(100, 224, 224, 3)\n"
     ]
    },
    {
     "name": "stderr",
     "output_type": "stream",
     "text": [
      "100%|███████████████████████████████████████████████████████████████████████████████████████████████| 100/100 [00:00<00:00, 114.31it/s]\n",
      "C:\\Users\\benza-ord\\anaconda3\\envs\\keras-gpu\\lib\\site-packages\\ipykernel_launcher.py:47: UserWarning: Update your `Model` call to the Keras 2 API: `Model(inputs=[<tf.Tenso..., outputs=Tensor(\"re...)`\n"
     ]
    },
    {
     "name": "stdout",
     "output_type": "stream",
     "text": [
      "(100, 224, 224, 3)\n",
      "22 res2b_branch2b\n",
      "preds (100, 56, 56, 64)\n",
      "(100, 200704)\n"
     ]
    },
    {
     "name": "stderr",
     "output_type": "stream",
     "text": [
      "C:\\Users\\benza-ord\\anaconda3\\envs\\keras-gpu\\lib\\site-packages\\sklearn\\decomposition\\_pca.py:555: RuntimeWarning: divide by zero encountered in true_divide\n",
      "  self.explained_variance_ / total_var.sum()\n",
      " 12%|███████████▌                                                                                    | 12/100 [00:00<00:00, 119.52it/s]"
     ]
    },
    {
     "name": "stdout",
     "output_type": "stream",
     "text": [
      "             PC1           PC2  target\n",
      "0   6.960902e-09 -6.501582e-19       3\n",
      "1   6.960900e-09 -6.506793e-19       8\n",
      "2   6.960900e-09 -6.506766e-19       8\n",
      "3   6.960900e-09 -6.506766e-19       0\n",
      "4   6.960900e-09 -6.506765e-19       6\n",
      "..           ...           ...     ...\n",
      "95  6.960900e-09 -6.506765e-19       6\n",
      "96  6.960902e-09  1.561610e-17       6\n",
      "97  6.960902e-09  1.561610e-17       0\n",
      "98  6.960902e-09  1.561610e-17       0\n",
      "99  6.960902e-09  1.561610e-17       7\n",
      "\n",
      "[100 rows x 3 columns]\n",
      "(100, 224, 224, 3)\n"
     ]
    },
    {
     "name": "stderr",
     "output_type": "stream",
     "text": [
      "100%|███████████████████████████████████████████████████████████████████████████████████████████████| 100/100 [00:00<00:00, 114.11it/s]\n",
      "C:\\Users\\benza-ord\\anaconda3\\envs\\keras-gpu\\lib\\site-packages\\ipykernel_launcher.py:47: UserWarning: Update your `Model` call to the Keras 2 API: `Model(inputs=[<tf.Tenso..., outputs=Tensor(\"re...)`\n"
     ]
    },
    {
     "name": "stdout",
     "output_type": "stream",
     "text": [
      "(100, 224, 224, 3)\n",
      "22 res2b_branch2b\n",
      "preds (100, 56, 56, 64)\n",
      "(100, 200704)\n"
     ]
    },
    {
     "name": "stderr",
     "output_type": "stream",
     "text": [
      "C:\\Users\\benza-ord\\anaconda3\\envs\\keras-gpu\\lib\\site-packages\\sklearn\\decomposition\\_pca.py:555: RuntimeWarning: divide by zero encountered in true_divide\n",
      "  self.explained_variance_ / total_var.sum()\n",
      " 12%|███████████▌                                                                                    | 12/100 [00:00<00:00, 119.13it/s]"
     ]
    },
    {
     "name": "stdout",
     "output_type": "stream",
     "text": [
      "             PC1           PC2  target\n",
      "0   6.960902e-09 -6.501582e-19       3\n",
      "1   6.960900e-09 -6.506793e-19       8\n",
      "2   6.960900e-09 -6.506766e-19       8\n",
      "3   6.960900e-09 -6.506766e-19       0\n",
      "4   6.960900e-09 -6.506765e-19       6\n",
      "..           ...           ...     ...\n",
      "95  6.960900e-09 -6.506765e-19       6\n",
      "96  6.960902e-09  1.561610e-17       6\n",
      "97  6.960902e-09  1.561610e-17       0\n",
      "98  6.960902e-09  1.561610e-17       0\n",
      "99  6.960902e-09  1.561610e-17       7\n",
      "\n",
      "[100 rows x 3 columns]\n",
      "(100, 224, 224, 3)\n"
     ]
    },
    {
     "name": "stderr",
     "output_type": "stream",
     "text": [
      "100%|███████████████████████████████████████████████████████████████████████████████████████████████| 100/100 [00:00<00:00, 114.77it/s]\n",
      "C:\\Users\\benza-ord\\anaconda3\\envs\\keras-gpu\\lib\\site-packages\\ipykernel_launcher.py:47: UserWarning: Update your `Model` call to the Keras 2 API: `Model(inputs=[<tf.Tenso..., outputs=Tensor(\"re...)`\n"
     ]
    },
    {
     "name": "stdout",
     "output_type": "stream",
     "text": [
      "(100, 224, 224, 3)\n",
      "22 res2b_branch2b\n",
      "preds (100, 56, 56, 64)\n",
      "(100, 200704)\n"
     ]
    },
    {
     "name": "stderr",
     "output_type": "stream",
     "text": [
      "C:\\Users\\benza-ord\\anaconda3\\envs\\keras-gpu\\lib\\site-packages\\sklearn\\decomposition\\_pca.py:555: RuntimeWarning: divide by zero encountered in true_divide\n",
      "  self.explained_variance_ / total_var.sum()\n",
      " 12%|███████████▌                                                                                    | 12/100 [00:00<00:00, 119.13it/s]"
     ]
    },
    {
     "name": "stdout",
     "output_type": "stream",
     "text": [
      "             PC1           PC2  target\n",
      "0   6.960902e-09 -6.501582e-19       3\n",
      "1   6.960900e-09 -6.506793e-19       8\n",
      "2   6.960900e-09 -6.506766e-19       8\n",
      "3   6.960900e-09 -6.506766e-19       0\n",
      "4   6.960900e-09 -6.506765e-19       6\n",
      "..           ...           ...     ...\n",
      "95  6.960900e-09 -6.506765e-19       6\n",
      "96  6.960902e-09  1.561610e-17       6\n",
      "97  6.960902e-09  1.561610e-17       0\n",
      "98  6.960902e-09  1.561610e-17       0\n",
      "99  6.960902e-09  1.561610e-17       7\n",
      "\n",
      "[100 rows x 3 columns]\n",
      "(100, 224, 224, 3)\n"
     ]
    },
    {
     "name": "stderr",
     "output_type": "stream",
     "text": [
      "100%|███████████████████████████████████████████████████████████████████████████████████████████████| 100/100 [00:00<00:00, 114.25it/s]\n",
      "C:\\Users\\benza-ord\\anaconda3\\envs\\keras-gpu\\lib\\site-packages\\ipykernel_launcher.py:47: UserWarning: Update your `Model` call to the Keras 2 API: `Model(inputs=[<tf.Tenso..., outputs=Tensor(\"re...)`\n"
     ]
    },
    {
     "name": "stdout",
     "output_type": "stream",
     "text": [
      "(100, 224, 224, 3)\n",
      "22 res2b_branch2b\n",
      "preds (100, 56, 56, 64)\n",
      "(100, 200704)\n"
     ]
    },
    {
     "name": "stderr",
     "output_type": "stream",
     "text": [
      "C:\\Users\\benza-ord\\anaconda3\\envs\\keras-gpu\\lib\\site-packages\\sklearn\\decomposition\\_pca.py:555: RuntimeWarning: divide by zero encountered in true_divide\n",
      "  self.explained_variance_ / total_var.sum()\n",
      " 12%|███████████▌                                                                                    | 12/100 [00:00<00:00, 117.21it/s]"
     ]
    },
    {
     "name": "stdout",
     "output_type": "stream",
     "text": [
      "             PC1           PC2  target\n",
      "0   6.960902e-09 -6.501582e-19       3\n",
      "1   6.960900e-09 -6.506793e-19       8\n",
      "2   6.960900e-09 -6.506766e-19       8\n",
      "3   6.960900e-09 -6.506766e-19       0\n",
      "4   6.960900e-09 -6.506765e-19       6\n",
      "..           ...           ...     ...\n",
      "95  6.960900e-09 -6.506765e-19       6\n",
      "96  6.960902e-09  1.561610e-17       6\n",
      "97  6.960902e-09  1.561610e-17       0\n",
      "98  6.960902e-09  1.561610e-17       0\n",
      "99  6.960902e-09  1.561610e-17       7\n",
      "\n",
      "[100 rows x 3 columns]\n",
      "(100, 224, 224, 3)\n"
     ]
    },
    {
     "name": "stderr",
     "output_type": "stream",
     "text": [
      "100%|███████████████████████████████████████████████████████████████████████████████████████████████| 100/100 [00:00<00:00, 114.24it/s]\n",
      "C:\\Users\\benza-ord\\anaconda3\\envs\\keras-gpu\\lib\\site-packages\\ipykernel_launcher.py:47: UserWarning: Update your `Model` call to the Keras 2 API: `Model(inputs=[<tf.Tenso..., outputs=Tensor(\"re...)`\n"
     ]
    },
    {
     "name": "stdout",
     "output_type": "stream",
     "text": [
      "(100, 224, 224, 3)\n",
      "22 res2b_branch2b\n",
      "preds (100, 56, 56, 64)\n",
      "(100, 200704)\n"
     ]
    },
    {
     "name": "stderr",
     "output_type": "stream",
     "text": [
      "C:\\Users\\benza-ord\\anaconda3\\envs\\keras-gpu\\lib\\site-packages\\sklearn\\decomposition\\_pca.py:555: RuntimeWarning: divide by zero encountered in true_divide\n",
      "  self.explained_variance_ / total_var.sum()\n",
      " 12%|███████████▌                                                                                    | 12/100 [00:00<00:00, 119.72it/s]"
     ]
    },
    {
     "name": "stdout",
     "output_type": "stream",
     "text": [
      "             PC1           PC2  target\n",
      "0   6.960902e-09 -6.501582e-19       3\n",
      "1   6.960900e-09 -6.506793e-19       8\n",
      "2   6.960900e-09 -6.506766e-19       8\n",
      "3   6.960900e-09 -6.506766e-19       0\n",
      "4   6.960900e-09 -6.506765e-19       6\n",
      "..           ...           ...     ...\n",
      "95  6.960900e-09 -6.506765e-19       6\n",
      "96  6.960902e-09  1.561610e-17       6\n",
      "97  6.960902e-09  1.561610e-17       0\n",
      "98  6.960902e-09  1.561610e-17       0\n",
      "99  6.960902e-09  1.561610e-17       7\n",
      "\n",
      "[100 rows x 3 columns]\n",
      "(100, 224, 224, 3)\n"
     ]
    },
    {
     "name": "stderr",
     "output_type": "stream",
     "text": [
      "100%|███████████████████████████████████████████████████████████████████████████████████████████████| 100/100 [00:00<00:00, 114.20it/s]\n",
      "C:\\Users\\benza-ord\\anaconda3\\envs\\keras-gpu\\lib\\site-packages\\ipykernel_launcher.py:47: UserWarning: Update your `Model` call to the Keras 2 API: `Model(inputs=[<tf.Tenso..., outputs=Tensor(\"re...)`\n"
     ]
    },
    {
     "name": "stdout",
     "output_type": "stream",
     "text": [
      "(100, 224, 224, 3)\n",
      "25 res2b_branch2c\n",
      "preds (100, 56, 56, 256)\n",
      "(100, 802816)\n"
     ]
    },
    {
     "name": "stderr",
     "output_type": "stream",
     "text": [
      "C:\\Users\\benza-ord\\anaconda3\\envs\\keras-gpu\\lib\\site-packages\\sklearn\\decomposition\\_pca.py:555: RuntimeWarning: divide by zero encountered in true_divide\n",
      "  self.explained_variance_ / total_var.sum()\n",
      " 12%|███████████▌                                                                                    | 12/100 [00:00<00:00, 114.80it/s]"
     ]
    },
    {
     "name": "stdout",
     "output_type": "stream",
     "text": [
      "             PC1           PC2  target\n",
      "0   1.115529e-08 -1.082877e-18       3\n",
      "1   1.115529e-08 -1.080600e-18       8\n",
      "2   1.115529e-08 -1.080594e-18       8\n",
      "3   1.115529e-08 -1.080595e-18       0\n",
      "4   1.115529e-08 -1.080595e-18       6\n",
      "..           ...           ...     ...\n",
      "95  1.115529e-08 -1.080595e-18       6\n",
      "96  1.115529e-08  2.593481e-17       6\n",
      "97  1.115529e-08  2.593481e-17       0\n",
      "98  1.115529e-08  2.593481e-17       0\n",
      "99  1.115529e-08  2.593481e-17       7\n",
      "\n",
      "[100 rows x 3 columns]\n",
      "(100, 224, 224, 3)\n"
     ]
    },
    {
     "name": "stderr",
     "output_type": "stream",
     "text": [
      "100%|███████████████████████████████████████████████████████████████████████████████████████████████| 100/100 [00:00<00:00, 111.14it/s]\n",
      "C:\\Users\\benza-ord\\anaconda3\\envs\\keras-gpu\\lib\\site-packages\\ipykernel_launcher.py:47: UserWarning: Update your `Model` call to the Keras 2 API: `Model(inputs=[<tf.Tenso..., outputs=Tensor(\"re...)`\n"
     ]
    },
    {
     "name": "stdout",
     "output_type": "stream",
     "text": [
      "(100, 224, 224, 3)\n",
      "25 res2b_branch2c\n",
      "preds (100, 56, 56, 256)\n",
      "(100, 802816)\n"
     ]
    },
    {
     "name": "stderr",
     "output_type": "stream",
     "text": [
      "C:\\Users\\benza-ord\\anaconda3\\envs\\keras-gpu\\lib\\site-packages\\sklearn\\decomposition\\_pca.py:555: RuntimeWarning: divide by zero encountered in true_divide\n",
      "  self.explained_variance_ / total_var.sum()\n",
      " 12%|███████████▌                                                                                    | 12/100 [00:00<00:00, 109.84it/s]"
     ]
    },
    {
     "name": "stdout",
     "output_type": "stream",
     "text": [
      "             PC1           PC2  target\n",
      "0   1.115529e-08 -1.082877e-18       3\n",
      "1   1.115529e-08 -1.080600e-18       8\n",
      "2   1.115529e-08 -1.080594e-18       8\n",
      "3   1.115529e-08 -1.080595e-18       0\n",
      "4   1.115529e-08 -1.080595e-18       6\n",
      "..           ...           ...     ...\n",
      "95  1.115529e-08 -1.080595e-18       6\n",
      "96  1.115529e-08  2.593481e-17       6\n",
      "97  1.115529e-08  2.593481e-17       0\n",
      "98  1.115529e-08  2.593481e-17       0\n",
      "99  1.115529e-08  2.593481e-17       7\n",
      "\n",
      "[100 rows x 3 columns]\n",
      "(100, 224, 224, 3)\n"
     ]
    },
    {
     "name": "stderr",
     "output_type": "stream",
     "text": [
      "100%|███████████████████████████████████████████████████████████████████████████████████████████████| 100/100 [00:00<00:00, 111.29it/s]\n",
      "C:\\Users\\benza-ord\\anaconda3\\envs\\keras-gpu\\lib\\site-packages\\ipykernel_launcher.py:47: UserWarning: Update your `Model` call to the Keras 2 API: `Model(inputs=[<tf.Tenso..., outputs=Tensor(\"re...)`\n"
     ]
    },
    {
     "name": "stdout",
     "output_type": "stream",
     "text": [
      "(100, 224, 224, 3)\n",
      "25 res2b_branch2c\n",
      "preds (100, 56, 56, 256)\n",
      "(100, 802816)\n"
     ]
    },
    {
     "name": "stderr",
     "output_type": "stream",
     "text": [
      "C:\\Users\\benza-ord\\anaconda3\\envs\\keras-gpu\\lib\\site-packages\\sklearn\\decomposition\\_pca.py:555: RuntimeWarning: divide by zero encountered in true_divide\n",
      "  self.explained_variance_ / total_var.sum()\n",
      "\r",
      "  0%|                                                                                                          | 0/100 [00:00<?, ?it/s]"
     ]
    },
    {
     "name": "stdout",
     "output_type": "stream",
     "text": [
      "             PC1           PC2  target\n",
      "0   1.115529e-08 -1.082877e-18       3\n",
      "1   1.115529e-08 -1.080600e-18       8\n",
      "2   1.115529e-08 -1.080594e-18       8\n",
      "3   1.115529e-08 -1.080595e-18       0\n",
      "4   1.115529e-08 -1.080595e-18       6\n",
      "..           ...           ...     ...\n",
      "95  1.115529e-08 -1.080595e-18       6\n",
      "96  1.115529e-08  2.593481e-17       6\n",
      "97  1.115529e-08  2.593481e-17       0\n",
      "98  1.115529e-08  2.593481e-17       0\n",
      "99  1.115529e-08  2.593481e-17       7\n",
      "\n",
      "[100 rows x 3 columns]\n",
      "(100, 224, 224, 3)\n"
     ]
    },
    {
     "name": "stderr",
     "output_type": "stream",
     "text": [
      "100%|████████████████████████████████████████████████████████████████████████████████████████████████| 100/100 [00:01<00:00, 85.88it/s]\n",
      "C:\\Users\\benza-ord\\anaconda3\\envs\\keras-gpu\\lib\\site-packages\\ipykernel_launcher.py:47: UserWarning: Update your `Model` call to the Keras 2 API: `Model(inputs=[<tf.Tenso..., outputs=Tensor(\"re...)`\n"
     ]
    },
    {
     "name": "stdout",
     "output_type": "stream",
     "text": [
      "(100, 224, 224, 3)\n",
      "25 res2b_branch2c\n",
      "preds (100, 56, 56, 256)\n",
      "(100, 802816)\n"
     ]
    },
    {
     "name": "stderr",
     "output_type": "stream",
     "text": [
      "C:\\Users\\benza-ord\\anaconda3\\envs\\keras-gpu\\lib\\site-packages\\sklearn\\decomposition\\_pca.py:555: RuntimeWarning: divide by zero encountered in true_divide\n",
      "  self.explained_variance_ / total_var.sum()\n",
      " 11%|██████████▌                                                                                     | 11/100 [00:00<00:00, 106.09it/s]"
     ]
    },
    {
     "name": "stdout",
     "output_type": "stream",
     "text": [
      "             PC1           PC2  target\n",
      "0   1.115529e-08 -1.082877e-18       3\n",
      "1   1.115529e-08 -1.080600e-18       8\n",
      "2   1.115529e-08 -1.080594e-18       8\n",
      "3   1.115529e-08 -1.080595e-18       0\n",
      "4   1.115529e-08 -1.080595e-18       6\n",
      "..           ...           ...     ...\n",
      "95  1.115529e-08 -1.080595e-18       6\n",
      "96  1.115529e-08  2.593481e-17       6\n",
      "97  1.115529e-08  2.593481e-17       0\n",
      "98  1.115529e-08  2.593481e-17       0\n",
      "99  1.115529e-08  2.593481e-17       7\n",
      "\n",
      "[100 rows x 3 columns]\n",
      "(100, 224, 224, 3)\n"
     ]
    },
    {
     "name": "stderr",
     "output_type": "stream",
     "text": [
      "100%|███████████████████████████████████████████████████████████████████████████████████████████████| 100/100 [00:00<00:00, 106.86it/s]\n",
      "C:\\Users\\benza-ord\\anaconda3\\envs\\keras-gpu\\lib\\site-packages\\ipykernel_launcher.py:47: UserWarning: Update your `Model` call to the Keras 2 API: `Model(inputs=[<tf.Tenso..., outputs=Tensor(\"re...)`\n"
     ]
    },
    {
     "name": "stdout",
     "output_type": "stream",
     "text": [
      "(100, 224, 224, 3)\n",
      "25 res2b_branch2c\n",
      "preds (100, 56, 56, 256)\n",
      "(100, 802816)\n"
     ]
    },
    {
     "name": "stderr",
     "output_type": "stream",
     "text": [
      "C:\\Users\\benza-ord\\anaconda3\\envs\\keras-gpu\\lib\\site-packages\\sklearn\\decomposition\\_pca.py:555: RuntimeWarning: divide by zero encountered in true_divide\n",
      "  self.explained_variance_ / total_var.sum()\n",
      "  8%|███████▊                                                                                          | 8/100 [00:00<00:01, 78.64it/s]"
     ]
    },
    {
     "name": "stdout",
     "output_type": "stream",
     "text": [
      "             PC1           PC2  target\n",
      "0   1.115529e-08 -1.082877e-18       3\n",
      "1   1.115529e-08 -1.080600e-18       8\n",
      "2   1.115529e-08 -1.080594e-18       8\n",
      "3   1.115529e-08 -1.080595e-18       0\n",
      "4   1.115529e-08 -1.080595e-18       6\n",
      "..           ...           ...     ...\n",
      "95  1.115529e-08 -1.080595e-18       6\n",
      "96  1.115529e-08  2.593481e-17       6\n",
      "97  1.115529e-08  2.593481e-17       0\n",
      "98  1.115529e-08  2.593481e-17       0\n",
      "99  1.115529e-08  2.593481e-17       7\n",
      "\n",
      "[100 rows x 3 columns]\n",
      "(100, 224, 224, 3)\n"
     ]
    },
    {
     "name": "stderr",
     "output_type": "stream",
     "text": [
      "100%|███████████████████████████████████████████████████████████████████████████████████████████████| 100/100 [00:00<00:00, 101.28it/s]\n",
      "C:\\Users\\benza-ord\\anaconda3\\envs\\keras-gpu\\lib\\site-packages\\ipykernel_launcher.py:47: UserWarning: Update your `Model` call to the Keras 2 API: `Model(inputs=[<tf.Tenso..., outputs=Tensor(\"re...)`\n"
     ]
    },
    {
     "name": "stdout",
     "output_type": "stream",
     "text": [
      "(100, 224, 224, 3)\n",
      "25 res2b_branch2c\n",
      "preds (100, 56, 56, 256)\n",
      "(100, 802816)\n"
     ]
    },
    {
     "name": "stderr",
     "output_type": "stream",
     "text": [
      "C:\\Users\\benza-ord\\anaconda3\\envs\\keras-gpu\\lib\\site-packages\\sklearn\\decomposition\\_pca.py:555: RuntimeWarning: divide by zero encountered in true_divide\n",
      "  self.explained_variance_ / total_var.sum()\n",
      " 12%|███████████▌                                                                                    | 12/100 [00:00<00:00, 113.09it/s]"
     ]
    },
    {
     "name": "stdout",
     "output_type": "stream",
     "text": [
      "             PC1           PC2  target\n",
      "0   1.115529e-08 -1.082877e-18       3\n",
      "1   1.115529e-08 -1.080600e-18       8\n",
      "2   1.115529e-08 -1.080594e-18       8\n",
      "3   1.115529e-08 -1.080595e-18       0\n",
      "4   1.115529e-08 -1.080595e-18       6\n",
      "..           ...           ...     ...\n",
      "95  1.115529e-08 -1.080595e-18       6\n",
      "96  1.115529e-08  2.593481e-17       6\n",
      "97  1.115529e-08  2.593481e-17       0\n",
      "98  1.115529e-08  2.593481e-17       0\n",
      "99  1.115529e-08  2.593481e-17       7\n",
      "\n",
      "[100 rows x 3 columns]\n",
      "(100, 224, 224, 3)\n"
     ]
    },
    {
     "name": "stderr",
     "output_type": "stream",
     "text": [
      "100%|████████████████████████████████████████████████████████████████████████████████████████████████| 100/100 [00:01<00:00, 89.92it/s]\n",
      "C:\\Users\\benza-ord\\anaconda3\\envs\\keras-gpu\\lib\\site-packages\\ipykernel_launcher.py:47: UserWarning: Update your `Model` call to the Keras 2 API: `Model(inputs=[<tf.Tenso..., outputs=Tensor(\"re...)`\n"
     ]
    },
    {
     "name": "stdout",
     "output_type": "stream",
     "text": [
      "(100, 224, 224, 3)\n",
      "25 res2b_branch2c\n",
      "preds (100, 56, 56, 256)\n",
      "(100, 802816)\n"
     ]
    },
    {
     "name": "stderr",
     "output_type": "stream",
     "text": [
      "C:\\Users\\benza-ord\\anaconda3\\envs\\keras-gpu\\lib\\site-packages\\sklearn\\decomposition\\_pca.py:555: RuntimeWarning: divide by zero encountered in true_divide\n",
      "  self.explained_variance_ / total_var.sum()\n",
      " 12%|███████████▌                                                                                    | 12/100 [00:00<00:00, 115.62it/s]"
     ]
    },
    {
     "name": "stdout",
     "output_type": "stream",
     "text": [
      "             PC1           PC2  target\n",
      "0   1.115529e-08 -1.082877e-18       3\n",
      "1   1.115529e-08 -1.080600e-18       8\n",
      "2   1.115529e-08 -1.080594e-18       8\n",
      "3   1.115529e-08 -1.080595e-18       0\n",
      "4   1.115529e-08 -1.080595e-18       6\n",
      "..           ...           ...     ...\n",
      "95  1.115529e-08 -1.080595e-18       6\n",
      "96  1.115529e-08  2.593481e-17       6\n",
      "97  1.115529e-08  2.593481e-17       0\n",
      "98  1.115529e-08  2.593481e-17       0\n",
      "99  1.115529e-08  2.593481e-17       7\n",
      "\n",
      "[100 rows x 3 columns]\n",
      "(100, 224, 224, 3)\n"
     ]
    },
    {
     "name": "stderr",
     "output_type": "stream",
     "text": [
      "100%|███████████████████████████████████████████████████████████████████████████████████████████████| 100/100 [00:00<00:00, 104.66it/s]\n",
      "C:\\Users\\benza-ord\\anaconda3\\envs\\keras-gpu\\lib\\site-packages\\ipykernel_launcher.py:47: UserWarning: Update your `Model` call to the Keras 2 API: `Model(inputs=[<tf.Tenso..., outputs=Tensor(\"re...)`\n"
     ]
    },
    {
     "name": "stdout",
     "output_type": "stream",
     "text": [
      "(100, 224, 224, 3)\n",
      "25 res2b_branch2c\n",
      "preds (100, 56, 56, 256)\n",
      "(100, 802816)\n"
     ]
    },
    {
     "name": "stderr",
     "output_type": "stream",
     "text": [
      "C:\\Users\\benza-ord\\anaconda3\\envs\\keras-gpu\\lib\\site-packages\\sklearn\\decomposition\\_pca.py:555: RuntimeWarning: divide by zero encountered in true_divide\n",
      "  self.explained_variance_ / total_var.sum()\n",
      " 12%|███████████▌                                                                                    | 12/100 [00:00<00:00, 117.96it/s]"
     ]
    },
    {
     "name": "stdout",
     "output_type": "stream",
     "text": [
      "             PC1           PC2  target\n",
      "0   1.115529e-08 -1.082877e-18       3\n",
      "1   1.115529e-08 -1.080600e-18       8\n",
      "2   1.115529e-08 -1.080594e-18       8\n",
      "3   1.115529e-08 -1.080595e-18       0\n",
      "4   1.115529e-08 -1.080595e-18       6\n",
      "..           ...           ...     ...\n",
      "95  1.115529e-08 -1.080595e-18       6\n",
      "96  1.115529e-08  2.593481e-17       6\n",
      "97  1.115529e-08  2.593481e-17       0\n",
      "98  1.115529e-08  2.593481e-17       0\n",
      "99  1.115529e-08  2.593481e-17       7\n",
      "\n",
      "[100 rows x 3 columns]\n",
      "(100, 224, 224, 3)\n"
     ]
    },
    {
     "name": "stderr",
     "output_type": "stream",
     "text": [
      "100%|███████████████████████████████████████████████████████████████████████████████████████████████| 100/100 [00:00<00:00, 113.26it/s]\n",
      "C:\\Users\\benza-ord\\anaconda3\\envs\\keras-gpu\\lib\\site-packages\\ipykernel_launcher.py:47: UserWarning: Update your `Model` call to the Keras 2 API: `Model(inputs=[<tf.Tenso..., outputs=Tensor(\"re...)`\n"
     ]
    },
    {
     "name": "stdout",
     "output_type": "stream",
     "text": [
      "(100, 224, 224, 3)\n",
      "25 res2b_branch2c\n",
      "preds (100, 56, 56, 256)\n",
      "(100, 802816)\n"
     ]
    },
    {
     "name": "stderr",
     "output_type": "stream",
     "text": [
      "C:\\Users\\benza-ord\\anaconda3\\envs\\keras-gpu\\lib\\site-packages\\sklearn\\decomposition\\_pca.py:555: RuntimeWarning: divide by zero encountered in true_divide\n",
      "  self.explained_variance_ / total_var.sum()\n",
      " 12%|███████████▌                                                                                    | 12/100 [00:00<00:00, 118.52it/s]"
     ]
    },
    {
     "name": "stdout",
     "output_type": "stream",
     "text": [
      "             PC1           PC2  target\n",
      "0   1.115529e-08 -1.082877e-18       3\n",
      "1   1.115529e-08 -1.080600e-18       8\n",
      "2   1.115529e-08 -1.080594e-18       8\n",
      "3   1.115529e-08 -1.080595e-18       0\n",
      "4   1.115529e-08 -1.080595e-18       6\n",
      "..           ...           ...     ...\n",
      "95  1.115529e-08 -1.080595e-18       6\n",
      "96  1.115529e-08  2.593481e-17       6\n",
      "97  1.115529e-08  2.593481e-17       0\n",
      "98  1.115529e-08  2.593481e-17       0\n",
      "99  1.115529e-08  2.593481e-17       7\n",
      "\n",
      "[100 rows x 3 columns]\n",
      "(100, 224, 224, 3)\n"
     ]
    },
    {
     "name": "stderr",
     "output_type": "stream",
     "text": [
      "100%|███████████████████████████████████████████████████████████████████████████████████████████████| 100/100 [00:00<00:00, 114.71it/s]\n",
      "C:\\Users\\benza-ord\\anaconda3\\envs\\keras-gpu\\lib\\site-packages\\ipykernel_launcher.py:47: UserWarning: Update your `Model` call to the Keras 2 API: `Model(inputs=[<tf.Tenso..., outputs=Tensor(\"re...)`\n"
     ]
    },
    {
     "name": "stdout",
     "output_type": "stream",
     "text": [
      "(100, 224, 224, 3)\n",
      "25 res2b_branch2c\n",
      "preds (100, 56, 56, 256)\n",
      "(100, 802816)\n"
     ]
    },
    {
     "name": "stderr",
     "output_type": "stream",
     "text": [
      "C:\\Users\\benza-ord\\anaconda3\\envs\\keras-gpu\\lib\\site-packages\\sklearn\\decomposition\\_pca.py:555: RuntimeWarning: divide by zero encountered in true_divide\n",
      "  self.explained_variance_ / total_var.sum()\n",
      " 13%|████████████▍                                                                                   | 13/100 [00:00<00:00, 119.57it/s]"
     ]
    },
    {
     "name": "stdout",
     "output_type": "stream",
     "text": [
      "             PC1           PC2  target\n",
      "0   1.115529e-08 -1.082877e-18       3\n",
      "1   1.115529e-08 -1.080600e-18       8\n",
      "2   1.115529e-08 -1.080594e-18       8\n",
      "3   1.115529e-08 -1.080595e-18       0\n",
      "4   1.115529e-08 -1.080595e-18       6\n",
      "..           ...           ...     ...\n",
      "95  1.115529e-08 -1.080595e-18       6\n",
      "96  1.115529e-08  2.593481e-17       6\n",
      "97  1.115529e-08  2.593481e-17       0\n",
      "98  1.115529e-08  2.593481e-17       0\n",
      "99  1.115529e-08  2.593481e-17       7\n",
      "\n",
      "[100 rows x 3 columns]\n",
      "(100, 224, 224, 3)\n"
     ]
    },
    {
     "name": "stderr",
     "output_type": "stream",
     "text": [
      "100%|███████████████████████████████████████████████████████████████████████████████████████████████| 100/100 [00:00<00:00, 114.58it/s]\n",
      "C:\\Users\\benza-ord\\anaconda3\\envs\\keras-gpu\\lib\\site-packages\\ipykernel_launcher.py:47: UserWarning: Update your `Model` call to the Keras 2 API: `Model(inputs=[<tf.Tenso..., outputs=Tensor(\"re...)`\n"
     ]
    },
    {
     "name": "stdout",
     "output_type": "stream",
     "text": [
      "(100, 224, 224, 3)\n",
      "29 res2c_branch2a\n",
      "preds (100, 56, 56, 64)\n",
      "(100, 200704)\n"
     ]
    },
    {
     "name": "stderr",
     "output_type": "stream",
     "text": [
      "C:\\Users\\benza-ord\\anaconda3\\envs\\keras-gpu\\lib\\site-packages\\sklearn\\decomposition\\_pca.py:555: RuntimeWarning: divide by zero encountered in true_divide\n",
      "  self.explained_variance_ / total_var.sum()\n",
      " 13%|████████████▍                                                                                   | 13/100 [00:00<00:00, 120.69it/s]"
     ]
    },
    {
     "name": "stdout",
     "output_type": "stream",
     "text": [
      "             PC1           PC2  target\n",
      "0   7.935911e-09 -3.911047e-19       3\n",
      "1   7.935911e-09 -3.914246e-19       8\n",
      "2   7.935911e-09 -3.914228e-19       8\n",
      "3   7.935911e-09 -3.914226e-19       0\n",
      "4   7.935911e-09 -3.914226e-19       6\n",
      "..           ...           ...     ...\n",
      "95  7.935911e-09 -3.914226e-19       6\n",
      "96  7.935911e-09  9.394065e-18       6\n",
      "97  7.935911e-09  9.394065e-18       0\n",
      "98  7.935911e-09  9.394065e-18       0\n",
      "99  7.935911e-09  9.394065e-18       7\n",
      "\n",
      "[100 rows x 3 columns]\n",
      "(100, 224, 224, 3)\n"
     ]
    },
    {
     "name": "stderr",
     "output_type": "stream",
     "text": [
      "100%|███████████████████████████████████████████████████████████████████████████████████████████████| 100/100 [00:00<00:00, 114.71it/s]\n",
      "C:\\Users\\benza-ord\\anaconda3\\envs\\keras-gpu\\lib\\site-packages\\ipykernel_launcher.py:47: UserWarning: Update your `Model` call to the Keras 2 API: `Model(inputs=[<tf.Tenso..., outputs=Tensor(\"re...)`\n"
     ]
    },
    {
     "name": "stdout",
     "output_type": "stream",
     "text": [
      "(100, 224, 224, 3)\n",
      "29 res2c_branch2a\n",
      "preds (100, 56, 56, 64)\n",
      "(100, 200704)\n"
     ]
    },
    {
     "name": "stderr",
     "output_type": "stream",
     "text": [
      "C:\\Users\\benza-ord\\anaconda3\\envs\\keras-gpu\\lib\\site-packages\\sklearn\\decomposition\\_pca.py:555: RuntimeWarning: divide by zero encountered in true_divide\n",
      "  self.explained_variance_ / total_var.sum()\n",
      " 12%|███████████▌                                                                                    | 12/100 [00:00<00:00, 115.44it/s]"
     ]
    },
    {
     "name": "stdout",
     "output_type": "stream",
     "text": [
      "             PC1           PC2  target\n",
      "0   7.935911e-09 -3.911047e-19       3\n",
      "1   7.935911e-09 -3.914246e-19       8\n",
      "2   7.935911e-09 -3.914228e-19       8\n",
      "3   7.935911e-09 -3.914226e-19       0\n",
      "4   7.935911e-09 -3.914226e-19       6\n",
      "..           ...           ...     ...\n",
      "95  7.935911e-09 -3.914226e-19       6\n",
      "96  7.935911e-09  9.394065e-18       6\n",
      "97  7.935911e-09  9.394065e-18       0\n",
      "98  7.935911e-09  9.394065e-18       0\n",
      "99  7.935911e-09  9.394065e-18       7\n",
      "\n",
      "[100 rows x 3 columns]\n",
      "(100, 224, 224, 3)\n"
     ]
    },
    {
     "name": "stderr",
     "output_type": "stream",
     "text": [
      "100%|███████████████████████████████████████████████████████████████████████████████████████████████| 100/100 [00:00<00:00, 108.99it/s]\n",
      "C:\\Users\\benza-ord\\anaconda3\\envs\\keras-gpu\\lib\\site-packages\\ipykernel_launcher.py:47: UserWarning: Update your `Model` call to the Keras 2 API: `Model(inputs=[<tf.Tenso..., outputs=Tensor(\"re...)`\n"
     ]
    },
    {
     "name": "stdout",
     "output_type": "stream",
     "text": [
      "(100, 224, 224, 3)\n",
      "29 res2c_branch2a\n",
      "preds (100, 56, 56, 64)\n",
      "(100, 200704)\n"
     ]
    },
    {
     "name": "stderr",
     "output_type": "stream",
     "text": [
      "C:\\Users\\benza-ord\\anaconda3\\envs\\keras-gpu\\lib\\site-packages\\sklearn\\decomposition\\_pca.py:555: RuntimeWarning: divide by zero encountered in true_divide\n",
      "  self.explained_variance_ / total_var.sum()\n",
      " 12%|███████████▌                                                                                    | 12/100 [00:00<00:00, 118.52it/s]"
     ]
    },
    {
     "name": "stdout",
     "output_type": "stream",
     "text": [
      "             PC1           PC2  target\n",
      "0   7.935911e-09 -3.911047e-19       3\n",
      "1   7.935911e-09 -3.914246e-19       8\n",
      "2   7.935911e-09 -3.914228e-19       8\n",
      "3   7.935911e-09 -3.914226e-19       0\n",
      "4   7.935911e-09 -3.914226e-19       6\n",
      "..           ...           ...     ...\n",
      "95  7.935911e-09 -3.914226e-19       6\n",
      "96  7.935911e-09  9.394065e-18       6\n",
      "97  7.935911e-09  9.394065e-18       0\n",
      "98  7.935911e-09  9.394065e-18       0\n",
      "99  7.935911e-09  9.394065e-18       7\n",
      "\n",
      "[100 rows x 3 columns]\n",
      "(100, 224, 224, 3)\n"
     ]
    },
    {
     "name": "stderr",
     "output_type": "stream",
     "text": [
      "100%|███████████████████████████████████████████████████████████████████████████████████████████████| 100/100 [00:00<00:00, 114.37it/s]\n",
      "C:\\Users\\benza-ord\\anaconda3\\envs\\keras-gpu\\lib\\site-packages\\ipykernel_launcher.py:47: UserWarning: Update your `Model` call to the Keras 2 API: `Model(inputs=[<tf.Tenso..., outputs=Tensor(\"re...)`\n"
     ]
    },
    {
     "name": "stdout",
     "output_type": "stream",
     "text": [
      "(100, 224, 224, 3)\n",
      "29 res2c_branch2a\n",
      "preds (100, 56, 56, 64)\n",
      "(100, 200704)\n"
     ]
    },
    {
     "name": "stderr",
     "output_type": "stream",
     "text": [
      "C:\\Users\\benza-ord\\anaconda3\\envs\\keras-gpu\\lib\\site-packages\\sklearn\\decomposition\\_pca.py:555: RuntimeWarning: divide by zero encountered in true_divide\n",
      "  self.explained_variance_ / total_var.sum()\n",
      " 12%|███████████▌                                                                                    | 12/100 [00:00<00:00, 116.65it/s]"
     ]
    },
    {
     "name": "stdout",
     "output_type": "stream",
     "text": [
      "             PC1           PC2  target\n",
      "0   7.935911e-09 -3.911047e-19       3\n",
      "1   7.935911e-09 -3.914246e-19       8\n",
      "2   7.935911e-09 -3.914228e-19       8\n",
      "3   7.935911e-09 -3.914226e-19       0\n",
      "4   7.935911e-09 -3.914226e-19       6\n",
      "..           ...           ...     ...\n",
      "95  7.935911e-09 -3.914226e-19       6\n",
      "96  7.935911e-09  9.394065e-18       6\n",
      "97  7.935911e-09  9.394065e-18       0\n",
      "98  7.935911e-09  9.394065e-18       0\n",
      "99  7.935911e-09  9.394065e-18       7\n",
      "\n",
      "[100 rows x 3 columns]\n",
      "(100, 224, 224, 3)\n"
     ]
    },
    {
     "name": "stderr",
     "output_type": "stream",
     "text": [
      "100%|███████████████████████████████████████████████████████████████████████████████████████████████| 100/100 [00:00<00:00, 110.34it/s]\n",
      "C:\\Users\\benza-ord\\anaconda3\\envs\\keras-gpu\\lib\\site-packages\\ipykernel_launcher.py:47: UserWarning: Update your `Model` call to the Keras 2 API: `Model(inputs=[<tf.Tenso..., outputs=Tensor(\"re...)`\n"
     ]
    },
    {
     "name": "stdout",
     "output_type": "stream",
     "text": [
      "(100, 224, 224, 3)\n",
      "29 res2c_branch2a\n",
      "preds (100, 56, 56, 64)\n",
      "(100, 200704)\n"
     ]
    },
    {
     "name": "stderr",
     "output_type": "stream",
     "text": [
      "C:\\Users\\benza-ord\\anaconda3\\envs\\keras-gpu\\lib\\site-packages\\sklearn\\decomposition\\_pca.py:555: RuntimeWarning: divide by zero encountered in true_divide\n",
      "  self.explained_variance_ / total_var.sum()\n",
      " 12%|███████████▌                                                                                    | 12/100 [00:00<00:00, 117.96it/s]"
     ]
    },
    {
     "name": "stdout",
     "output_type": "stream",
     "text": [
      "             PC1           PC2  target\n",
      "0   7.935911e-09 -3.911047e-19       3\n",
      "1   7.935911e-09 -3.914246e-19       8\n",
      "2   7.935911e-09 -3.914228e-19       8\n",
      "3   7.935911e-09 -3.914226e-19       0\n",
      "4   7.935911e-09 -3.914226e-19       6\n",
      "..           ...           ...     ...\n",
      "95  7.935911e-09 -3.914226e-19       6\n",
      "96  7.935911e-09  9.394065e-18       6\n",
      "97  7.935911e-09  9.394065e-18       0\n",
      "98  7.935911e-09  9.394065e-18       0\n",
      "99  7.935911e-09  9.394065e-18       7\n",
      "\n",
      "[100 rows x 3 columns]\n",
      "(100, 224, 224, 3)\n"
     ]
    },
    {
     "name": "stderr",
     "output_type": "stream",
     "text": [
      "100%|███████████████████████████████████████████████████████████████████████████████████████████████| 100/100 [00:00<00:00, 112.99it/s]\n",
      "C:\\Users\\benza-ord\\anaconda3\\envs\\keras-gpu\\lib\\site-packages\\ipykernel_launcher.py:47: UserWarning: Update your `Model` call to the Keras 2 API: `Model(inputs=[<tf.Tenso..., outputs=Tensor(\"re...)`\n"
     ]
    },
    {
     "name": "stdout",
     "output_type": "stream",
     "text": [
      "(100, 224, 224, 3)\n",
      "29 res2c_branch2a\n",
      "preds (100, 56, 56, 64)\n",
      "(100, 200704)\n"
     ]
    },
    {
     "name": "stderr",
     "output_type": "stream",
     "text": [
      "C:\\Users\\benza-ord\\anaconda3\\envs\\keras-gpu\\lib\\site-packages\\sklearn\\decomposition\\_pca.py:555: RuntimeWarning: divide by zero encountered in true_divide\n",
      "  self.explained_variance_ / total_var.sum()\n",
      " 12%|███████████▌                                                                                    | 12/100 [00:00<00:00, 119.71it/s]"
     ]
    },
    {
     "name": "stdout",
     "output_type": "stream",
     "text": [
      "             PC1           PC2  target\n",
      "0   7.935911e-09 -3.911047e-19       3\n",
      "1   7.935911e-09 -3.914246e-19       8\n",
      "2   7.935911e-09 -3.914228e-19       8\n",
      "3   7.935911e-09 -3.914226e-19       0\n",
      "4   7.935911e-09 -3.914226e-19       6\n",
      "..           ...           ...     ...\n",
      "95  7.935911e-09 -3.914226e-19       6\n",
      "96  7.935911e-09  9.394065e-18       6\n",
      "97  7.935911e-09  9.394065e-18       0\n",
      "98  7.935911e-09  9.394065e-18       0\n",
      "99  7.935911e-09  9.394065e-18       7\n",
      "\n",
      "[100 rows x 3 columns]\n",
      "(100, 224, 224, 3)\n"
     ]
    },
    {
     "name": "stderr",
     "output_type": "stream",
     "text": [
      "100%|███████████████████████████████████████████████████████████████████████████████████████████████| 100/100 [00:00<00:00, 114.90it/s]\n",
      "C:\\Users\\benza-ord\\anaconda3\\envs\\keras-gpu\\lib\\site-packages\\ipykernel_launcher.py:47: UserWarning: Update your `Model` call to the Keras 2 API: `Model(inputs=[<tf.Tenso..., outputs=Tensor(\"re...)`\n"
     ]
    },
    {
     "name": "stdout",
     "output_type": "stream",
     "text": [
      "(100, 224, 224, 3)\n",
      "29 res2c_branch2a\n",
      "preds (100, 56, 56, 64)\n",
      "(100, 200704)\n"
     ]
    },
    {
     "name": "stderr",
     "output_type": "stream",
     "text": [
      "C:\\Users\\benza-ord\\anaconda3\\envs\\keras-gpu\\lib\\site-packages\\sklearn\\decomposition\\_pca.py:555: RuntimeWarning: divide by zero encountered in true_divide\n",
      "  self.explained_variance_ / total_var.sum()\n",
      " 12%|███████████▌                                                                                    | 12/100 [00:00<00:00, 119.13it/s]"
     ]
    },
    {
     "name": "stdout",
     "output_type": "stream",
     "text": [
      "             PC1           PC2  target\n",
      "0   7.935911e-09 -3.911047e-19       3\n",
      "1   7.935911e-09 -3.914246e-19       8\n",
      "2   7.935911e-09 -3.914228e-19       8\n",
      "3   7.935911e-09 -3.914226e-19       0\n",
      "4   7.935911e-09 -3.914226e-19       6\n",
      "..           ...           ...     ...\n",
      "95  7.935911e-09 -3.914226e-19       6\n",
      "96  7.935911e-09  9.394065e-18       6\n",
      "97  7.935911e-09  9.394065e-18       0\n",
      "98  7.935911e-09  9.394065e-18       0\n",
      "99  7.935911e-09  9.394065e-18       7\n",
      "\n",
      "[100 rows x 3 columns]\n",
      "(100, 224, 224, 3)\n"
     ]
    },
    {
     "name": "stderr",
     "output_type": "stream",
     "text": [
      "100%|███████████████████████████████████████████████████████████████████████████████████████████████| 100/100 [00:00<00:00, 114.25it/s]\n",
      "C:\\Users\\benza-ord\\anaconda3\\envs\\keras-gpu\\lib\\site-packages\\ipykernel_launcher.py:47: UserWarning: Update your `Model` call to the Keras 2 API: `Model(inputs=[<tf.Tenso..., outputs=Tensor(\"re...)`\n"
     ]
    },
    {
     "name": "stdout",
     "output_type": "stream",
     "text": [
      "(100, 224, 224, 3)\n",
      "29 res2c_branch2a\n",
      "preds (100, 56, 56, 64)\n",
      "(100, 200704)\n"
     ]
    },
    {
     "name": "stderr",
     "output_type": "stream",
     "text": [
      "C:\\Users\\benza-ord\\anaconda3\\envs\\keras-gpu\\lib\\site-packages\\sklearn\\decomposition\\_pca.py:555: RuntimeWarning: divide by zero encountered in true_divide\n",
      "  self.explained_variance_ / total_var.sum()\n",
      " 12%|███████████▌                                                                                    | 12/100 [00:00<00:00, 119.53it/s]"
     ]
    },
    {
     "name": "stdout",
     "output_type": "stream",
     "text": [
      "             PC1           PC2  target\n",
      "0   7.935911e-09 -3.911047e-19       3\n",
      "1   7.935911e-09 -3.914246e-19       8\n",
      "2   7.935911e-09 -3.914228e-19       8\n",
      "3   7.935911e-09 -3.914226e-19       0\n",
      "4   7.935911e-09 -3.914226e-19       6\n",
      "..           ...           ...     ...\n",
      "95  7.935911e-09 -3.914226e-19       6\n",
      "96  7.935911e-09  9.394065e-18       6\n",
      "97  7.935911e-09  9.394065e-18       0\n",
      "98  7.935911e-09  9.394065e-18       0\n",
      "99  7.935911e-09  9.394065e-18       7\n",
      "\n",
      "[100 rows x 3 columns]\n",
      "(100, 224, 224, 3)\n"
     ]
    },
    {
     "name": "stderr",
     "output_type": "stream",
     "text": [
      "100%|███████████████████████████████████████████████████████████████████████████████████████████████| 100/100 [00:00<00:00, 113.52it/s]\n",
      "C:\\Users\\benza-ord\\anaconda3\\envs\\keras-gpu\\lib\\site-packages\\ipykernel_launcher.py:47: UserWarning: Update your `Model` call to the Keras 2 API: `Model(inputs=[<tf.Tenso..., outputs=Tensor(\"re...)`\n"
     ]
    },
    {
     "name": "stdout",
     "output_type": "stream",
     "text": [
      "(100, 224, 224, 3)\n",
      "29 res2c_branch2a\n",
      "preds (100, 56, 56, 64)\n",
      "(100, 200704)\n"
     ]
    },
    {
     "name": "stderr",
     "output_type": "stream",
     "text": [
      "C:\\Users\\benza-ord\\anaconda3\\envs\\keras-gpu\\lib\\site-packages\\sklearn\\decomposition\\_pca.py:555: RuntimeWarning: divide by zero encountered in true_divide\n",
      "  self.explained_variance_ / total_var.sum()\n",
      " 13%|████████████▍                                                                                   | 13/100 [00:00<00:00, 120.69it/s]"
     ]
    },
    {
     "name": "stdout",
     "output_type": "stream",
     "text": [
      "             PC1           PC2  target\n",
      "0   7.935911e-09 -3.911047e-19       3\n",
      "1   7.935911e-09 -3.914246e-19       8\n",
      "2   7.935911e-09 -3.914228e-19       8\n",
      "3   7.935911e-09 -3.914226e-19       0\n",
      "4   7.935911e-09 -3.914226e-19       6\n",
      "..           ...           ...     ...\n",
      "95  7.935911e-09 -3.914226e-19       6\n",
      "96  7.935911e-09  9.394065e-18       6\n",
      "97  7.935911e-09  9.394065e-18       0\n",
      "98  7.935911e-09  9.394065e-18       0\n",
      "99  7.935911e-09  9.394065e-18       7\n",
      "\n",
      "[100 rows x 3 columns]\n",
      "(100, 224, 224, 3)\n"
     ]
    },
    {
     "name": "stderr",
     "output_type": "stream",
     "text": [
      "100%|███████████████████████████████████████████████████████████████████████████████████████████████| 100/100 [00:00<00:00, 114.79it/s]\n",
      "C:\\Users\\benza-ord\\anaconda3\\envs\\keras-gpu\\lib\\site-packages\\ipykernel_launcher.py:47: UserWarning: Update your `Model` call to the Keras 2 API: `Model(inputs=[<tf.Tenso..., outputs=Tensor(\"re...)`\n"
     ]
    },
    {
     "name": "stdout",
     "output_type": "stream",
     "text": [
      "(100, 224, 224, 3)\n",
      "29 res2c_branch2a\n",
      "preds (100, 56, 56, 64)\n",
      "(100, 200704)\n"
     ]
    },
    {
     "name": "stderr",
     "output_type": "stream",
     "text": [
      "C:\\Users\\benza-ord\\anaconda3\\envs\\keras-gpu\\lib\\site-packages\\sklearn\\decomposition\\_pca.py:555: RuntimeWarning: divide by zero encountered in true_divide\n",
      "  self.explained_variance_ / total_var.sum()\n",
      " 13%|████████████▍                                                                                   | 13/100 [00:00<00:00, 120.61it/s]"
     ]
    },
    {
     "name": "stdout",
     "output_type": "stream",
     "text": [
      "             PC1           PC2  target\n",
      "0   7.935911e-09 -3.911047e-19       3\n",
      "1   7.935911e-09 -3.914246e-19       8\n",
      "2   7.935911e-09 -3.914228e-19       8\n",
      "3   7.935911e-09 -3.914226e-19       0\n",
      "4   7.935911e-09 -3.914226e-19       6\n",
      "..           ...           ...     ...\n",
      "95  7.935911e-09 -3.914226e-19       6\n",
      "96  7.935911e-09  9.394065e-18       6\n",
      "97  7.935911e-09  9.394065e-18       0\n",
      "98  7.935911e-09  9.394065e-18       0\n",
      "99  7.935911e-09  9.394065e-18       7\n",
      "\n",
      "[100 rows x 3 columns]\n",
      "(100, 224, 224, 3)\n"
     ]
    },
    {
     "name": "stderr",
     "output_type": "stream",
     "text": [
      "100%|███████████████████████████████████████████████████████████████████████████████████████████████| 100/100 [00:00<00:00, 110.50it/s]\n",
      "C:\\Users\\benza-ord\\anaconda3\\envs\\keras-gpu\\lib\\site-packages\\ipykernel_launcher.py:47: UserWarning: Update your `Model` call to the Keras 2 API: `Model(inputs=[<tf.Tenso..., outputs=Tensor(\"re...)`\n"
     ]
    },
    {
     "name": "stdout",
     "output_type": "stream",
     "text": [
      "(100, 224, 224, 3)\n",
      "32 res2c_branch2b\n",
      "preds (100, 56, 56, 64)\n",
      "(100, 200704)\n"
     ]
    },
    {
     "name": "stderr",
     "output_type": "stream",
     "text": [
      "C:\\Users\\benza-ord\\anaconda3\\envs\\keras-gpu\\lib\\site-packages\\sklearn\\decomposition\\_pca.py:555: RuntimeWarning: divide by zero encountered in true_divide\n",
      "  self.explained_variance_ / total_var.sum()\n",
      " 12%|███████████▌                                                                                    | 12/100 [00:00<00:00, 117.95it/s]"
     ]
    },
    {
     "name": "stdout",
     "output_type": "stream",
     "text": [
      "             PC1           PC2  target\n",
      "0   6.594763e-09 -5.619739e-19       3\n",
      "1   6.594763e-09 -5.532120e-19       8\n",
      "2   6.594763e-09 -5.532138e-19       8\n",
      "3   6.594763e-09 -5.532138e-19       0\n",
      "4   6.594763e-09 -5.532138e-19       6\n",
      "..           ...           ...     ...\n",
      "95  6.594763e-09 -5.532138e-19       6\n",
      "96  6.594763e-09  1.327932e-17       6\n",
      "97  6.594763e-09  1.327932e-17       0\n",
      "98  6.594763e-09  1.327932e-17       0\n",
      "99  6.594763e-09  1.327932e-17       7\n",
      "\n",
      "[100 rows x 3 columns]\n",
      "(100, 224, 224, 3)\n"
     ]
    },
    {
     "name": "stderr",
     "output_type": "stream",
     "text": [
      "100%|███████████████████████████████████████████████████████████████████████████████████████████████| 100/100 [00:00<00:00, 109.87it/s]\n",
      "C:\\Users\\benza-ord\\anaconda3\\envs\\keras-gpu\\lib\\site-packages\\ipykernel_launcher.py:47: UserWarning: Update your `Model` call to the Keras 2 API: `Model(inputs=[<tf.Tenso..., outputs=Tensor(\"re...)`\n"
     ]
    },
    {
     "name": "stdout",
     "output_type": "stream",
     "text": [
      "(100, 224, 224, 3)\n",
      "32 res2c_branch2b\n",
      "preds (100, 56, 56, 64)\n",
      "(100, 200704)\n"
     ]
    },
    {
     "name": "stderr",
     "output_type": "stream",
     "text": [
      "C:\\Users\\benza-ord\\anaconda3\\envs\\keras-gpu\\lib\\site-packages\\sklearn\\decomposition\\_pca.py:555: RuntimeWarning: divide by zero encountered in true_divide\n",
      "  self.explained_variance_ / total_var.sum()\n",
      " 12%|███████████▌                                                                                    | 12/100 [00:00<00:00, 117.96it/s]"
     ]
    },
    {
     "name": "stdout",
     "output_type": "stream",
     "text": [
      "             PC1           PC2  target\n",
      "0   6.594763e-09 -5.619739e-19       3\n",
      "1   6.594763e-09 -5.532120e-19       8\n",
      "2   6.594763e-09 -5.532138e-19       8\n",
      "3   6.594763e-09 -5.532138e-19       0\n",
      "4   6.594763e-09 -5.532138e-19       6\n",
      "..           ...           ...     ...\n",
      "95  6.594763e-09 -5.532138e-19       6\n",
      "96  6.594763e-09  1.327932e-17       6\n",
      "97  6.594763e-09  1.327932e-17       0\n",
      "98  6.594763e-09  1.327932e-17       0\n",
      "99  6.594763e-09  1.327932e-17       7\n",
      "\n",
      "[100 rows x 3 columns]\n",
      "(100, 224, 224, 3)\n"
     ]
    },
    {
     "name": "stderr",
     "output_type": "stream",
     "text": [
      "100%|███████████████████████████████████████████████████████████████████████████████████████████████| 100/100 [00:00<00:00, 110.20it/s]\n",
      "C:\\Users\\benza-ord\\anaconda3\\envs\\keras-gpu\\lib\\site-packages\\ipykernel_launcher.py:47: UserWarning: Update your `Model` call to the Keras 2 API: `Model(inputs=[<tf.Tenso..., outputs=Tensor(\"re...)`\n"
     ]
    },
    {
     "name": "stdout",
     "output_type": "stream",
     "text": [
      "(100, 224, 224, 3)\n",
      "32 res2c_branch2b\n",
      "preds (100, 56, 56, 64)\n",
      "(100, 200704)\n"
     ]
    },
    {
     "name": "stderr",
     "output_type": "stream",
     "text": [
      "C:\\Users\\benza-ord\\anaconda3\\envs\\keras-gpu\\lib\\site-packages\\sklearn\\decomposition\\_pca.py:555: RuntimeWarning: divide by zero encountered in true_divide\n",
      "  self.explained_variance_ / total_var.sum()\n",
      " 11%|██████████▌                                                                                     | 11/100 [00:00<00:00, 105.54it/s]"
     ]
    },
    {
     "name": "stdout",
     "output_type": "stream",
     "text": [
      "             PC1           PC2  target\n",
      "0   6.594763e-09 -5.619739e-19       3\n",
      "1   6.594763e-09 -5.532120e-19       8\n",
      "2   6.594763e-09 -5.532138e-19       8\n",
      "3   6.594763e-09 -5.532138e-19       0\n",
      "4   6.594763e-09 -5.532138e-19       6\n",
      "..           ...           ...     ...\n",
      "95  6.594763e-09 -5.532138e-19       6\n",
      "96  6.594763e-09  1.327932e-17       6\n",
      "97  6.594763e-09  1.327932e-17       0\n",
      "98  6.594763e-09  1.327932e-17       0\n",
      "99  6.594763e-09  1.327932e-17       7\n",
      "\n",
      "[100 rows x 3 columns]\n",
      "(100, 224, 224, 3)\n"
     ]
    },
    {
     "name": "stderr",
     "output_type": "stream",
     "text": [
      "100%|███████████████████████████████████████████████████████████████████████████████████████████████| 100/100 [00:00<00:00, 109.27it/s]\n",
      "C:\\Users\\benza-ord\\anaconda3\\envs\\keras-gpu\\lib\\site-packages\\ipykernel_launcher.py:47: UserWarning: Update your `Model` call to the Keras 2 API: `Model(inputs=[<tf.Tenso..., outputs=Tensor(\"re...)`\n"
     ]
    },
    {
     "name": "stdout",
     "output_type": "stream",
     "text": [
      "(100, 224, 224, 3)\n",
      "32 res2c_branch2b\n",
      "preds (100, 56, 56, 64)\n",
      "(100, 200704)\n"
     ]
    },
    {
     "name": "stderr",
     "output_type": "stream",
     "text": [
      "C:\\Users\\benza-ord\\anaconda3\\envs\\keras-gpu\\lib\\site-packages\\sklearn\\decomposition\\_pca.py:555: RuntimeWarning: divide by zero encountered in true_divide\n",
      "  self.explained_variance_ / total_var.sum()\n",
      " 12%|███████████▌                                                                                    | 12/100 [00:00<00:00, 119.13it/s]"
     ]
    },
    {
     "name": "stdout",
     "output_type": "stream",
     "text": [
      "             PC1           PC2  target\n",
      "0   6.594763e-09 -5.619739e-19       3\n",
      "1   6.594763e-09 -5.532120e-19       8\n",
      "2   6.594763e-09 -5.532138e-19       8\n",
      "3   6.594763e-09 -5.532138e-19       0\n",
      "4   6.594763e-09 -5.532138e-19       6\n",
      "..           ...           ...     ...\n",
      "95  6.594763e-09 -5.532138e-19       6\n",
      "96  6.594763e-09  1.327932e-17       6\n",
      "97  6.594763e-09  1.327932e-17       0\n",
      "98  6.594763e-09  1.327932e-17       0\n",
      "99  6.594763e-09  1.327932e-17       7\n",
      "\n",
      "[100 rows x 3 columns]\n",
      "(100, 224, 224, 3)\n"
     ]
    },
    {
     "name": "stderr",
     "output_type": "stream",
     "text": [
      "100%|███████████████████████████████████████████████████████████████████████████████████████████████| 100/100 [00:00<00:00, 115.18it/s]\n",
      "C:\\Users\\benza-ord\\anaconda3\\envs\\keras-gpu\\lib\\site-packages\\ipykernel_launcher.py:47: UserWarning: Update your `Model` call to the Keras 2 API: `Model(inputs=[<tf.Tenso..., outputs=Tensor(\"re...)`\n"
     ]
    },
    {
     "name": "stdout",
     "output_type": "stream",
     "text": [
      "(100, 224, 224, 3)\n",
      "32 res2c_branch2b\n",
      "preds (100, 56, 56, 64)\n",
      "(100, 200704)\n"
     ]
    },
    {
     "name": "stderr",
     "output_type": "stream",
     "text": [
      "C:\\Users\\benza-ord\\anaconda3\\envs\\keras-gpu\\lib\\site-packages\\sklearn\\decomposition\\_pca.py:555: RuntimeWarning: divide by zero encountered in true_divide\n",
      "  self.explained_variance_ / total_var.sum()\n",
      " 12%|███████████▌                                                                                    | 12/100 [00:00<00:00, 115.69it/s]"
     ]
    },
    {
     "name": "stdout",
     "output_type": "stream",
     "text": [
      "             PC1           PC2  target\n",
      "0   6.594763e-09 -5.619739e-19       3\n",
      "1   6.594763e-09 -5.532120e-19       8\n",
      "2   6.594763e-09 -5.532138e-19       8\n",
      "3   6.594763e-09 -5.532138e-19       0\n",
      "4   6.594763e-09 -5.532138e-19       6\n",
      "..           ...           ...     ...\n",
      "95  6.594763e-09 -5.532138e-19       6\n",
      "96  6.594763e-09  1.327932e-17       6\n",
      "97  6.594763e-09  1.327932e-17       0\n",
      "98  6.594763e-09  1.327932e-17       0\n",
      "99  6.594763e-09  1.327932e-17       7\n",
      "\n",
      "[100 rows x 3 columns]\n",
      "(100, 224, 224, 3)\n"
     ]
    },
    {
     "name": "stderr",
     "output_type": "stream",
     "text": [
      "100%|███████████████████████████████████████████████████████████████████████████████████████████████| 100/100 [00:00<00:00, 111.73it/s]\n",
      "C:\\Users\\benza-ord\\anaconda3\\envs\\keras-gpu\\lib\\site-packages\\ipykernel_launcher.py:47: UserWarning: Update your `Model` call to the Keras 2 API: `Model(inputs=[<tf.Tenso..., outputs=Tensor(\"re...)`\n"
     ]
    },
    {
     "name": "stdout",
     "output_type": "stream",
     "text": [
      "(100, 224, 224, 3)\n",
      "32 res2c_branch2b\n",
      "preds (100, 56, 56, 64)\n",
      "(100, 200704)\n"
     ]
    },
    {
     "name": "stderr",
     "output_type": "stream",
     "text": [
      "C:\\Users\\benza-ord\\anaconda3\\envs\\keras-gpu\\lib\\site-packages\\sklearn\\decomposition\\_pca.py:555: RuntimeWarning: divide by zero encountered in true_divide\n",
      "  self.explained_variance_ / total_var.sum()\n",
      " 12%|███████████▌                                                                                    | 12/100 [00:00<00:00, 119.13it/s]"
     ]
    },
    {
     "name": "stdout",
     "output_type": "stream",
     "text": [
      "             PC1           PC2  target\n",
      "0   6.594763e-09 -5.619739e-19       3\n",
      "1   6.594763e-09 -5.532120e-19       8\n",
      "2   6.594763e-09 -5.532138e-19       8\n",
      "3   6.594763e-09 -5.532138e-19       0\n",
      "4   6.594763e-09 -5.532138e-19       6\n",
      "..           ...           ...     ...\n",
      "95  6.594763e-09 -5.532138e-19       6\n",
      "96  6.594763e-09  1.327932e-17       6\n",
      "97  6.594763e-09  1.327932e-17       0\n",
      "98  6.594763e-09  1.327932e-17       0\n",
      "99  6.594763e-09  1.327932e-17       7\n",
      "\n",
      "[100 rows x 3 columns]\n",
      "(100, 224, 224, 3)\n"
     ]
    },
    {
     "name": "stderr",
     "output_type": "stream",
     "text": [
      "100%|███████████████████████████████████████████████████████████████████████████████████████████████| 100/100 [00:00<00:00, 113.18it/s]\n",
      "C:\\Users\\benza-ord\\anaconda3\\envs\\keras-gpu\\lib\\site-packages\\ipykernel_launcher.py:47: UserWarning: Update your `Model` call to the Keras 2 API: `Model(inputs=[<tf.Tenso..., outputs=Tensor(\"re...)`\n"
     ]
    },
    {
     "name": "stdout",
     "output_type": "stream",
     "text": [
      "(100, 224, 224, 3)\n",
      "32 res2c_branch2b\n",
      "preds (100, 56, 56, 64)\n",
      "(100, 200704)\n"
     ]
    },
    {
     "name": "stderr",
     "output_type": "stream",
     "text": [
      "C:\\Users\\benza-ord\\anaconda3\\envs\\keras-gpu\\lib\\site-packages\\sklearn\\decomposition\\_pca.py:555: RuntimeWarning: divide by zero encountered in true_divide\n",
      "  self.explained_variance_ / total_var.sum()\n",
      " 12%|███████████▌                                                                                    | 12/100 [00:00<00:00, 116.82it/s]"
     ]
    },
    {
     "name": "stdout",
     "output_type": "stream",
     "text": [
      "             PC1           PC2  target\n",
      "0   6.594763e-09 -5.619739e-19       3\n",
      "1   6.594763e-09 -5.532120e-19       8\n",
      "2   6.594763e-09 -5.532138e-19       8\n",
      "3   6.594763e-09 -5.532138e-19       0\n",
      "4   6.594763e-09 -5.532138e-19       6\n",
      "..           ...           ...     ...\n",
      "95  6.594763e-09 -5.532138e-19       6\n",
      "96  6.594763e-09  1.327932e-17       6\n",
      "97  6.594763e-09  1.327932e-17       0\n",
      "98  6.594763e-09  1.327932e-17       0\n",
      "99  6.594763e-09  1.327932e-17       7\n",
      "\n",
      "[100 rows x 3 columns]\n",
      "(100, 224, 224, 3)\n"
     ]
    },
    {
     "name": "stderr",
     "output_type": "stream",
     "text": [
      "100%|███████████████████████████████████████████████████████████████████████████████████████████████| 100/100 [00:00<00:00, 114.26it/s]\n",
      "C:\\Users\\benza-ord\\anaconda3\\envs\\keras-gpu\\lib\\site-packages\\ipykernel_launcher.py:47: UserWarning: Update your `Model` call to the Keras 2 API: `Model(inputs=[<tf.Tenso..., outputs=Tensor(\"re...)`\n"
     ]
    },
    {
     "name": "stdout",
     "output_type": "stream",
     "text": [
      "(100, 224, 224, 3)\n",
      "32 res2c_branch2b\n",
      "preds (100, 56, 56, 64)\n",
      "(100, 200704)\n"
     ]
    },
    {
     "name": "stderr",
     "output_type": "stream",
     "text": [
      "C:\\Users\\benza-ord\\anaconda3\\envs\\keras-gpu\\lib\\site-packages\\sklearn\\decomposition\\_pca.py:555: RuntimeWarning: divide by zero encountered in true_divide\n",
      "  self.explained_variance_ / total_var.sum()\n",
      " 13%|████████████▍                                                                                   | 13/100 [00:00<00:00, 120.69it/s]"
     ]
    },
    {
     "name": "stdout",
     "output_type": "stream",
     "text": [
      "             PC1           PC2  target\n",
      "0   6.594763e-09 -5.619739e-19       3\n",
      "1   6.594763e-09 -5.532120e-19       8\n",
      "2   6.594763e-09 -5.532138e-19       8\n",
      "3   6.594763e-09 -5.532138e-19       0\n",
      "4   6.594763e-09 -5.532138e-19       6\n",
      "..           ...           ...     ...\n",
      "95  6.594763e-09 -5.532138e-19       6\n",
      "96  6.594763e-09  1.327932e-17       6\n",
      "97  6.594763e-09  1.327932e-17       0\n",
      "98  6.594763e-09  1.327932e-17       0\n",
      "99  6.594763e-09  1.327932e-17       7\n",
      "\n",
      "[100 rows x 3 columns]\n",
      "(100, 224, 224, 3)\n"
     ]
    },
    {
     "name": "stderr",
     "output_type": "stream",
     "text": [
      "100%|███████████████████████████████████████████████████████████████████████████████████████████████| 100/100 [00:00<00:00, 117.19it/s]\n",
      "C:\\Users\\benza-ord\\anaconda3\\envs\\keras-gpu\\lib\\site-packages\\ipykernel_launcher.py:47: UserWarning: Update your `Model` call to the Keras 2 API: `Model(inputs=[<tf.Tenso..., outputs=Tensor(\"re...)`\n"
     ]
    },
    {
     "name": "stdout",
     "output_type": "stream",
     "text": [
      "(100, 224, 224, 3)\n",
      "32 res2c_branch2b\n",
      "preds (100, 56, 56, 64)\n",
      "(100, 200704)\n"
     ]
    },
    {
     "name": "stderr",
     "output_type": "stream",
     "text": [
      "C:\\Users\\benza-ord\\anaconda3\\envs\\keras-gpu\\lib\\site-packages\\sklearn\\decomposition\\_pca.py:555: RuntimeWarning: divide by zero encountered in true_divide\n",
      "  self.explained_variance_ / total_var.sum()\n",
      " 13%|████████████▍                                                                                   | 13/100 [00:00<00:00, 121.61it/s]"
     ]
    },
    {
     "name": "stdout",
     "output_type": "stream",
     "text": [
      "             PC1           PC2  target\n",
      "0   6.594763e-09 -5.619739e-19       3\n",
      "1   6.594763e-09 -5.532120e-19       8\n",
      "2   6.594763e-09 -5.532138e-19       8\n",
      "3   6.594763e-09 -5.532138e-19       0\n",
      "4   6.594763e-09 -5.532138e-19       6\n",
      "..           ...           ...     ...\n",
      "95  6.594763e-09 -5.532138e-19       6\n",
      "96  6.594763e-09  1.327932e-17       6\n",
      "97  6.594763e-09  1.327932e-17       0\n",
      "98  6.594763e-09  1.327932e-17       0\n",
      "99  6.594763e-09  1.327932e-17       7\n",
      "\n",
      "[100 rows x 3 columns]\n",
      "(100, 224, 224, 3)\n"
     ]
    },
    {
     "name": "stderr",
     "output_type": "stream",
     "text": [
      "100%|███████████████████████████████████████████████████████████████████████████████████████████████| 100/100 [00:00<00:00, 115.41it/s]\n",
      "C:\\Users\\benza-ord\\anaconda3\\envs\\keras-gpu\\lib\\site-packages\\ipykernel_launcher.py:47: UserWarning: Update your `Model` call to the Keras 2 API: `Model(inputs=[<tf.Tenso..., outputs=Tensor(\"re...)`\n"
     ]
    },
    {
     "name": "stdout",
     "output_type": "stream",
     "text": [
      "(100, 224, 224, 3)\n",
      "32 res2c_branch2b\n",
      "preds (100, 56, 56, 64)\n",
      "(100, 200704)\n"
     ]
    },
    {
     "name": "stderr",
     "output_type": "stream",
     "text": [
      "C:\\Users\\benza-ord\\anaconda3\\envs\\keras-gpu\\lib\\site-packages\\sklearn\\decomposition\\_pca.py:555: RuntimeWarning: divide by zero encountered in true_divide\n",
      "  self.explained_variance_ / total_var.sum()\n",
      " 12%|███████████▌                                                                                    | 12/100 [00:00<00:00, 117.96it/s]"
     ]
    },
    {
     "name": "stdout",
     "output_type": "stream",
     "text": [
      "             PC1           PC2  target\n",
      "0   6.594763e-09 -5.619739e-19       3\n",
      "1   6.594763e-09 -5.532120e-19       8\n",
      "2   6.594763e-09 -5.532138e-19       8\n",
      "3   6.594763e-09 -5.532138e-19       0\n",
      "4   6.594763e-09 -5.532138e-19       6\n",
      "..           ...           ...     ...\n",
      "95  6.594763e-09 -5.532138e-19       6\n",
      "96  6.594763e-09  1.327932e-17       6\n",
      "97  6.594763e-09  1.327932e-17       0\n",
      "98  6.594763e-09  1.327932e-17       0\n",
      "99  6.594763e-09  1.327932e-17       7\n",
      "\n",
      "[100 rows x 3 columns]\n",
      "(100, 224, 224, 3)\n"
     ]
    },
    {
     "name": "stderr",
     "output_type": "stream",
     "text": [
      "100%|███████████████████████████████████████████████████████████████████████████████████████████████| 100/100 [00:00<00:00, 111.16it/s]\n",
      "C:\\Users\\benza-ord\\anaconda3\\envs\\keras-gpu\\lib\\site-packages\\ipykernel_launcher.py:47: UserWarning: Update your `Model` call to the Keras 2 API: `Model(inputs=[<tf.Tenso..., outputs=Tensor(\"re...)`\n"
     ]
    },
    {
     "name": "stdout",
     "output_type": "stream",
     "text": [
      "(100, 224, 224, 3)\n",
      "35 res2c_branch2c\n",
      "preds (100, 56, 56, 256)\n",
      "(100, 802816)\n"
     ]
    },
    {
     "name": "stderr",
     "output_type": "stream",
     "text": [
      "C:\\Users\\benza-ord\\anaconda3\\envs\\keras-gpu\\lib\\site-packages\\sklearn\\decomposition\\_pca.py:555: RuntimeWarning: divide by zero encountered in true_divide\n",
      "  self.explained_variance_ / total_var.sum()\n",
      " 12%|███████████▌                                                                                    | 12/100 [00:00<00:00, 118.03it/s]"
     ]
    },
    {
     "name": "stdout",
     "output_type": "stream",
     "text": [
      "             PC1           PC2  target\n",
      "0   9.884535e-09 -3.981258e-18       3\n",
      "1   9.884534e-09 -3.990016e-18       8\n",
      "2   9.884534e-09 -3.990033e-18       8\n",
      "3   9.884534e-09 -3.990031e-18       0\n",
      "4   9.884534e-09 -3.990031e-18       6\n",
      "..           ...           ...     ...\n",
      "95  9.884534e-09 -3.990031e-18       6\n",
      "96  9.884535e-09  9.575874e-17       6\n",
      "97  9.884535e-09  9.575874e-17       0\n",
      "98  9.884535e-09  9.575874e-17       0\n",
      "99  9.884535e-09  9.575874e-17       7\n",
      "\n",
      "[100 rows x 3 columns]\n",
      "(100, 224, 224, 3)\n"
     ]
    },
    {
     "name": "stderr",
     "output_type": "stream",
     "text": [
      "100%|███████████████████████████████████████████████████████████████████████████████████████████████| 100/100 [00:00<00:00, 115.77it/s]\n",
      "C:\\Users\\benza-ord\\anaconda3\\envs\\keras-gpu\\lib\\site-packages\\ipykernel_launcher.py:47: UserWarning: Update your `Model` call to the Keras 2 API: `Model(inputs=[<tf.Tenso..., outputs=Tensor(\"re...)`\n"
     ]
    },
    {
     "name": "stdout",
     "output_type": "stream",
     "text": [
      "(100, 224, 224, 3)\n",
      "35 res2c_branch2c\n",
      "preds (100, 56, 56, 256)\n",
      "(100, 802816)\n"
     ]
    },
    {
     "name": "stderr",
     "output_type": "stream",
     "text": [
      "C:\\Users\\benza-ord\\anaconda3\\envs\\keras-gpu\\lib\\site-packages\\sklearn\\decomposition\\_pca.py:555: RuntimeWarning: divide by zero encountered in true_divide\n",
      "  self.explained_variance_ / total_var.sum()\n",
      " 12%|███████████▌                                                                                    | 12/100 [00:00<00:00, 116.30it/s]"
     ]
    },
    {
     "name": "stdout",
     "output_type": "stream",
     "text": [
      "             PC1           PC2  target\n",
      "0   9.884535e-09 -3.981258e-18       3\n",
      "1   9.884534e-09 -3.990016e-18       8\n",
      "2   9.884534e-09 -3.990033e-18       8\n",
      "3   9.884534e-09 -3.990031e-18       0\n",
      "4   9.884534e-09 -3.990031e-18       6\n",
      "..           ...           ...     ...\n",
      "95  9.884534e-09 -3.990031e-18       6\n",
      "96  9.884535e-09  9.575874e-17       6\n",
      "97  9.884535e-09  9.575874e-17       0\n",
      "98  9.884535e-09  9.575874e-17       0\n",
      "99  9.884535e-09  9.575874e-17       7\n",
      "\n",
      "[100 rows x 3 columns]\n",
      "(100, 224, 224, 3)\n"
     ]
    },
    {
     "name": "stderr",
     "output_type": "stream",
     "text": [
      "100%|███████████████████████████████████████████████████████████████████████████████████████████████| 100/100 [00:00<00:00, 114.61it/s]\n",
      "C:\\Users\\benza-ord\\anaconda3\\envs\\keras-gpu\\lib\\site-packages\\ipykernel_launcher.py:47: UserWarning: Update your `Model` call to the Keras 2 API: `Model(inputs=[<tf.Tenso..., outputs=Tensor(\"re...)`\n"
     ]
    },
    {
     "name": "stdout",
     "output_type": "stream",
     "text": [
      "(100, 224, 224, 3)\n",
      "35 res2c_branch2c\n",
      "preds (100, 56, 56, 256)\n",
      "(100, 802816)\n"
     ]
    },
    {
     "name": "stderr",
     "output_type": "stream",
     "text": [
      "C:\\Users\\benza-ord\\anaconda3\\envs\\keras-gpu\\lib\\site-packages\\sklearn\\decomposition\\_pca.py:555: RuntimeWarning: divide by zero encountered in true_divide\n",
      "  self.explained_variance_ / total_var.sum()\n",
      " 12%|███████████▌                                                                                    | 12/100 [00:00<00:00, 111.38it/s]"
     ]
    },
    {
     "name": "stdout",
     "output_type": "stream",
     "text": [
      "             PC1           PC2  target\n",
      "0   9.884535e-09 -3.981258e-18       3\n",
      "1   9.884534e-09 -3.990016e-18       8\n",
      "2   9.884534e-09 -3.990033e-18       8\n",
      "3   9.884534e-09 -3.990031e-18       0\n",
      "4   9.884534e-09 -3.990031e-18       6\n",
      "..           ...           ...     ...\n",
      "95  9.884534e-09 -3.990031e-18       6\n",
      "96  9.884535e-09  9.575874e-17       6\n",
      "97  9.884535e-09  9.575874e-17       0\n",
      "98  9.884535e-09  9.575874e-17       0\n",
      "99  9.884535e-09  9.575874e-17       7\n",
      "\n",
      "[100 rows x 3 columns]\n",
      "(100, 224, 224, 3)\n"
     ]
    },
    {
     "name": "stderr",
     "output_type": "stream",
     "text": [
      "100%|███████████████████████████████████████████████████████████████████████████████████████████████| 100/100 [00:00<00:00, 114.51it/s]\n",
      "C:\\Users\\benza-ord\\anaconda3\\envs\\keras-gpu\\lib\\site-packages\\ipykernel_launcher.py:47: UserWarning: Update your `Model` call to the Keras 2 API: `Model(inputs=[<tf.Tenso..., outputs=Tensor(\"re...)`\n"
     ]
    },
    {
     "name": "stdout",
     "output_type": "stream",
     "text": [
      "(100, 224, 224, 3)\n",
      "35 res2c_branch2c\n",
      "preds (100, 56, 56, 256)\n",
      "(100, 802816)\n"
     ]
    },
    {
     "name": "stderr",
     "output_type": "stream",
     "text": [
      "C:\\Users\\benza-ord\\anaconda3\\envs\\keras-gpu\\lib\\site-packages\\sklearn\\decomposition\\_pca.py:555: RuntimeWarning: divide by zero encountered in true_divide\n",
      "  self.explained_variance_ / total_var.sum()\n",
      " 11%|██████████▌                                                                                     | 11/100 [00:00<00:00, 109.97it/s]"
     ]
    },
    {
     "name": "stdout",
     "output_type": "stream",
     "text": [
      "             PC1           PC2  target\n",
      "0   9.884535e-09 -3.981258e-18       3\n",
      "1   9.884534e-09 -3.990016e-18       8\n",
      "2   9.884534e-09 -3.990033e-18       8\n",
      "3   9.884534e-09 -3.990031e-18       0\n",
      "4   9.884534e-09 -3.990031e-18       6\n",
      "..           ...           ...     ...\n",
      "95  9.884534e-09 -3.990031e-18       6\n",
      "96  9.884535e-09  9.575874e-17       6\n",
      "97  9.884535e-09  9.575874e-17       0\n",
      "98  9.884535e-09  9.575874e-17       0\n",
      "99  9.884535e-09  9.575874e-17       7\n",
      "\n",
      "[100 rows x 3 columns]\n",
      "(100, 224, 224, 3)\n"
     ]
    },
    {
     "name": "stderr",
     "output_type": "stream",
     "text": [
      "100%|███████████████████████████████████████████████████████████████████████████████████████████████| 100/100 [00:00<00:00, 104.67it/s]\n",
      "C:\\Users\\benza-ord\\anaconda3\\envs\\keras-gpu\\lib\\site-packages\\ipykernel_launcher.py:47: UserWarning: Update your `Model` call to the Keras 2 API: `Model(inputs=[<tf.Tenso..., outputs=Tensor(\"re...)`\n"
     ]
    },
    {
     "name": "stdout",
     "output_type": "stream",
     "text": [
      "(100, 224, 224, 3)\n",
      "35 res2c_branch2c\n",
      "preds (100, 56, 56, 256)\n",
      "(100, 802816)\n"
     ]
    },
    {
     "name": "stderr",
     "output_type": "stream",
     "text": [
      "C:\\Users\\benza-ord\\anaconda3\\envs\\keras-gpu\\lib\\site-packages\\sklearn\\decomposition\\_pca.py:555: RuntimeWarning: divide by zero encountered in true_divide\n",
      "  self.explained_variance_ / total_var.sum()\n",
      " 13%|████████████▍                                                                                   | 13/100 [00:00<00:00, 119.56it/s]"
     ]
    },
    {
     "name": "stdout",
     "output_type": "stream",
     "text": [
      "             PC1           PC2  target\n",
      "0   9.884535e-09 -3.981258e-18       3\n",
      "1   9.884534e-09 -3.990016e-18       8\n",
      "2   9.884534e-09 -3.990033e-18       8\n",
      "3   9.884534e-09 -3.990031e-18       0\n",
      "4   9.884534e-09 -3.990031e-18       6\n",
      "..           ...           ...     ...\n",
      "95  9.884534e-09 -3.990031e-18       6\n",
      "96  9.884535e-09  9.575874e-17       6\n",
      "97  9.884535e-09  9.575874e-17       0\n",
      "98  9.884535e-09  9.575874e-17       0\n",
      "99  9.884535e-09  9.575874e-17       7\n",
      "\n",
      "[100 rows x 3 columns]\n",
      "(100, 224, 224, 3)\n"
     ]
    },
    {
     "name": "stderr",
     "output_type": "stream",
     "text": [
      "100%|███████████████████████████████████████████████████████████████████████████████████████████████| 100/100 [00:00<00:00, 115.84it/s]\n",
      "C:\\Users\\benza-ord\\anaconda3\\envs\\keras-gpu\\lib\\site-packages\\ipykernel_launcher.py:47: UserWarning: Update your `Model` call to the Keras 2 API: `Model(inputs=[<tf.Tenso..., outputs=Tensor(\"re...)`\n"
     ]
    },
    {
     "name": "stdout",
     "output_type": "stream",
     "text": [
      "(100, 224, 224, 3)\n",
      "35 res2c_branch2c\n",
      "preds (100, 56, 56, 256)\n",
      "(100, 802816)\n"
     ]
    },
    {
     "name": "stderr",
     "output_type": "stream",
     "text": [
      "C:\\Users\\benza-ord\\anaconda3\\envs\\keras-gpu\\lib\\site-packages\\sklearn\\decomposition\\_pca.py:555: RuntimeWarning: divide by zero encountered in true_divide\n",
      "  self.explained_variance_ / total_var.sum()\n",
      " 12%|███████████▌                                                                                    | 12/100 [00:00<00:00, 118.54it/s]"
     ]
    },
    {
     "name": "stdout",
     "output_type": "stream",
     "text": [
      "             PC1           PC2  target\n",
      "0   9.884535e-09 -3.981258e-18       3\n",
      "1   9.884534e-09 -3.990016e-18       8\n",
      "2   9.884534e-09 -3.990033e-18       8\n",
      "3   9.884534e-09 -3.990031e-18       0\n",
      "4   9.884534e-09 -3.990031e-18       6\n",
      "..           ...           ...     ...\n",
      "95  9.884534e-09 -3.990031e-18       6\n",
      "96  9.884535e-09  9.575874e-17       6\n",
      "97  9.884535e-09  9.575874e-17       0\n",
      "98  9.884535e-09  9.575874e-17       0\n",
      "99  9.884535e-09  9.575874e-17       7\n",
      "\n",
      "[100 rows x 3 columns]\n",
      "(100, 224, 224, 3)\n"
     ]
    },
    {
     "name": "stderr",
     "output_type": "stream",
     "text": [
      "100%|███████████████████████████████████████████████████████████████████████████████████████████████| 100/100 [00:00<00:00, 115.93it/s]\n",
      "C:\\Users\\benza-ord\\anaconda3\\envs\\keras-gpu\\lib\\site-packages\\ipykernel_launcher.py:47: UserWarning: Update your `Model` call to the Keras 2 API: `Model(inputs=[<tf.Tenso..., outputs=Tensor(\"re...)`\n"
     ]
    },
    {
     "name": "stdout",
     "output_type": "stream",
     "text": [
      "(100, 224, 224, 3)\n",
      "35 res2c_branch2c\n",
      "preds (100, 56, 56, 256)\n",
      "(100, 802816)\n"
     ]
    },
    {
     "name": "stderr",
     "output_type": "stream",
     "text": [
      "C:\\Users\\benza-ord\\anaconda3\\envs\\keras-gpu\\lib\\site-packages\\sklearn\\decomposition\\_pca.py:555: RuntimeWarning: divide by zero encountered in true_divide\n",
      "  self.explained_variance_ / total_var.sum()\n",
      " 11%|██████████▌                                                                                     | 11/100 [00:00<00:00, 100.27it/s]"
     ]
    },
    {
     "name": "stdout",
     "output_type": "stream",
     "text": [
      "             PC1           PC2  target\n",
      "0   9.884535e-09 -3.981258e-18       3\n",
      "1   9.884534e-09 -3.990016e-18       8\n",
      "2   9.884534e-09 -3.990033e-18       8\n",
      "3   9.884534e-09 -3.990031e-18       0\n",
      "4   9.884534e-09 -3.990031e-18       6\n",
      "..           ...           ...     ...\n",
      "95  9.884534e-09 -3.990031e-18       6\n",
      "96  9.884535e-09  9.575874e-17       6\n",
      "97  9.884535e-09  9.575874e-17       0\n",
      "98  9.884535e-09  9.575874e-17       0\n",
      "99  9.884535e-09  9.575874e-17       7\n",
      "\n",
      "[100 rows x 3 columns]\n",
      "(100, 224, 224, 3)\n"
     ]
    },
    {
     "name": "stderr",
     "output_type": "stream",
     "text": [
      "100%|███████████████████████████████████████████████████████████████████████████████████████████████| 100/100 [00:00<00:00, 107.34it/s]\n",
      "C:\\Users\\benza-ord\\anaconda3\\envs\\keras-gpu\\lib\\site-packages\\ipykernel_launcher.py:47: UserWarning: Update your `Model` call to the Keras 2 API: `Model(inputs=[<tf.Tenso..., outputs=Tensor(\"re...)`\n"
     ]
    },
    {
     "name": "stdout",
     "output_type": "stream",
     "text": [
      "(100, 224, 224, 3)\n",
      "35 res2c_branch2c\n",
      "preds (100, 56, 56, 256)\n",
      "(100, 802816)\n"
     ]
    },
    {
     "name": "stderr",
     "output_type": "stream",
     "text": [
      "C:\\Users\\benza-ord\\anaconda3\\envs\\keras-gpu\\lib\\site-packages\\sklearn\\decomposition\\_pca.py:555: RuntimeWarning: divide by zero encountered in true_divide\n",
      "  self.explained_variance_ / total_var.sum()\n",
      " 12%|███████████▌                                                                                    | 12/100 [00:00<00:00, 117.88it/s]"
     ]
    },
    {
     "name": "stdout",
     "output_type": "stream",
     "text": [
      "             PC1           PC2  target\n",
      "0   9.884535e-09 -3.981258e-18       3\n",
      "1   9.884534e-09 -3.990016e-18       8\n",
      "2   9.884534e-09 -3.990033e-18       8\n",
      "3   9.884534e-09 -3.990031e-18       0\n",
      "4   9.884534e-09 -3.990031e-18       6\n",
      "..           ...           ...     ...\n",
      "95  9.884534e-09 -3.990031e-18       6\n",
      "96  9.884535e-09  9.575874e-17       6\n",
      "97  9.884535e-09  9.575874e-17       0\n",
      "98  9.884535e-09  9.575874e-17       0\n",
      "99  9.884535e-09  9.575874e-17       7\n",
      "\n",
      "[100 rows x 3 columns]\n",
      "(100, 224, 224, 3)\n"
     ]
    },
    {
     "name": "stderr",
     "output_type": "stream",
     "text": [
      "100%|███████████████████████████████████████████████████████████████████████████████████████████████| 100/100 [00:00<00:00, 115.74it/s]\n",
      "C:\\Users\\benza-ord\\anaconda3\\envs\\keras-gpu\\lib\\site-packages\\ipykernel_launcher.py:47: UserWarning: Update your `Model` call to the Keras 2 API: `Model(inputs=[<tf.Tenso..., outputs=Tensor(\"re...)`\n"
     ]
    },
    {
     "name": "stdout",
     "output_type": "stream",
     "text": [
      "(100, 224, 224, 3)\n",
      "35 res2c_branch2c\n",
      "preds (100, 56, 56, 256)\n",
      "(100, 802816)\n"
     ]
    },
    {
     "name": "stderr",
     "output_type": "stream",
     "text": [
      "C:\\Users\\benza-ord\\anaconda3\\envs\\keras-gpu\\lib\\site-packages\\sklearn\\decomposition\\_pca.py:555: RuntimeWarning: divide by zero encountered in true_divide\n",
      "  self.explained_variance_ / total_var.sum()\n",
      " 12%|███████████▌                                                                                    | 12/100 [00:00<00:00, 119.13it/s]"
     ]
    },
    {
     "name": "stdout",
     "output_type": "stream",
     "text": [
      "             PC1           PC2  target\n",
      "0   9.884535e-09 -3.981258e-18       3\n",
      "1   9.884534e-09 -3.990016e-18       8\n",
      "2   9.884534e-09 -3.990033e-18       8\n",
      "3   9.884534e-09 -3.990031e-18       0\n",
      "4   9.884534e-09 -3.990031e-18       6\n",
      "..           ...           ...     ...\n",
      "95  9.884534e-09 -3.990031e-18       6\n",
      "96  9.884535e-09  9.575874e-17       6\n",
      "97  9.884535e-09  9.575874e-17       0\n",
      "98  9.884535e-09  9.575874e-17       0\n",
      "99  9.884535e-09  9.575874e-17       7\n",
      "\n",
      "[100 rows x 3 columns]\n",
      "(100, 224, 224, 3)\n"
     ]
    },
    {
     "name": "stderr",
     "output_type": "stream",
     "text": [
      "100%|███████████████████████████████████████████████████████████████████████████████████████████████| 100/100 [00:00<00:00, 112.46it/s]\n",
      "C:\\Users\\benza-ord\\anaconda3\\envs\\keras-gpu\\lib\\site-packages\\ipykernel_launcher.py:47: UserWarning: Update your `Model` call to the Keras 2 API: `Model(inputs=[<tf.Tenso..., outputs=Tensor(\"re...)`\n"
     ]
    },
    {
     "name": "stdout",
     "output_type": "stream",
     "text": [
      "(100, 224, 224, 3)\n",
      "35 res2c_branch2c\n",
      "preds (100, 56, 56, 256)\n",
      "(100, 802816)\n"
     ]
    },
    {
     "name": "stderr",
     "output_type": "stream",
     "text": [
      "C:\\Users\\benza-ord\\anaconda3\\envs\\keras-gpu\\lib\\site-packages\\sklearn\\decomposition\\_pca.py:555: RuntimeWarning: divide by zero encountered in true_divide\n",
      "  self.explained_variance_ / total_var.sum()\n",
      " 11%|██████████▌                                                                                     | 11/100 [00:00<00:00, 109.70it/s]"
     ]
    },
    {
     "name": "stdout",
     "output_type": "stream",
     "text": [
      "             PC1           PC2  target\n",
      "0   9.884535e-09 -3.981258e-18       3\n",
      "1   9.884534e-09 -3.990016e-18       8\n",
      "2   9.884534e-09 -3.990033e-18       8\n",
      "3   9.884534e-09 -3.990031e-18       0\n",
      "4   9.884534e-09 -3.990031e-18       6\n",
      "..           ...           ...     ...\n",
      "95  9.884534e-09 -3.990031e-18       6\n",
      "96  9.884535e-09  9.575874e-17       6\n",
      "97  9.884535e-09  9.575874e-17       0\n",
      "98  9.884535e-09  9.575874e-17       0\n",
      "99  9.884535e-09  9.575874e-17       7\n",
      "\n",
      "[100 rows x 3 columns]\n",
      "(100, 224, 224, 3)\n"
     ]
    },
    {
     "name": "stderr",
     "output_type": "stream",
     "text": [
      "100%|███████████████████████████████████████████████████████████████████████████████████████████████| 100/100 [00:00<00:00, 113.90it/s]\n",
      "C:\\Users\\benza-ord\\anaconda3\\envs\\keras-gpu\\lib\\site-packages\\ipykernel_launcher.py:47: UserWarning: Update your `Model` call to the Keras 2 API: `Model(inputs=[<tf.Tenso..., outputs=Tensor(\"re...)`\n"
     ]
    },
    {
     "name": "stdout",
     "output_type": "stream",
     "text": [
      "(100, 224, 224, 3)\n",
      "39 res3a_branch2a\n",
      "preds (100, 28, 28, 128)\n",
      "(100, 100352)\n"
     ]
    },
    {
     "name": "stderr",
     "output_type": "stream",
     "text": [
      "C:\\Users\\benza-ord\\anaconda3\\envs\\keras-gpu\\lib\\site-packages\\sklearn\\decomposition\\_pca.py:555: RuntimeWarning: divide by zero encountered in true_divide\n",
      "  self.explained_variance_ / total_var.sum()\n",
      " 12%|███████████▌                                                                                    | 12/100 [00:00<00:00, 114.59it/s]"
     ]
    },
    {
     "name": "stdout",
     "output_type": "stream",
     "text": [
      "             PC1           PC2  target\n",
      "0   6.585858e-09 -9.219752e-19       3\n",
      "1   6.585857e-09 -9.215114e-19       8\n",
      "2   6.585857e-09 -9.214920e-19       8\n",
      "3   6.585857e-09 -9.214920e-19       0\n",
      "4   6.585857e-09 -9.214920e-19       6\n",
      "..           ...           ...     ...\n",
      "95  6.585857e-09 -9.214920e-19       6\n",
      "96  6.585858e-09  2.211592e-17       6\n",
      "97  6.585858e-09  2.211592e-17       0\n",
      "98  6.585858e-09  2.211592e-17       0\n",
      "99  6.585858e-09  2.211592e-17       7\n",
      "\n",
      "[100 rows x 3 columns]\n",
      "(100, 224, 224, 3)\n"
     ]
    },
    {
     "name": "stderr",
     "output_type": "stream",
     "text": [
      "100%|███████████████████████████████████████████████████████████████████████████████████████████████| 100/100 [00:00<00:00, 105.75it/s]\n",
      "C:\\Users\\benza-ord\\anaconda3\\envs\\keras-gpu\\lib\\site-packages\\ipykernel_launcher.py:47: UserWarning: Update your `Model` call to the Keras 2 API: `Model(inputs=[<tf.Tenso..., outputs=Tensor(\"re...)`\n"
     ]
    },
    {
     "name": "stdout",
     "output_type": "stream",
     "text": [
      "(100, 224, 224, 3)\n",
      "39 res3a_branch2a\n",
      "preds (100, 28, 28, 128)\n",
      "(100, 100352)\n"
     ]
    },
    {
     "name": "stderr",
     "output_type": "stream",
     "text": [
      "C:\\Users\\benza-ord\\anaconda3\\envs\\keras-gpu\\lib\\site-packages\\sklearn\\decomposition\\_pca.py:555: RuntimeWarning: divide by zero encountered in true_divide\n",
      "  self.explained_variance_ / total_var.sum()\n",
      " 12%|███████████▌                                                                                    | 12/100 [00:00<00:00, 117.96it/s]"
     ]
    },
    {
     "name": "stdout",
     "output_type": "stream",
     "text": [
      "             PC1           PC2  target\n",
      "0   6.585858e-09 -9.219752e-19       3\n",
      "1   6.585857e-09 -9.215114e-19       8\n",
      "2   6.585857e-09 -9.214920e-19       8\n",
      "3   6.585857e-09 -9.214920e-19       0\n",
      "4   6.585857e-09 -9.214920e-19       6\n",
      "..           ...           ...     ...\n",
      "95  6.585857e-09 -9.214920e-19       6\n",
      "96  6.585858e-09  2.211592e-17       6\n",
      "97  6.585858e-09  2.211592e-17       0\n",
      "98  6.585858e-09  2.211592e-17       0\n",
      "99  6.585858e-09  2.211592e-17       7\n",
      "\n",
      "[100 rows x 3 columns]\n",
      "(100, 224, 224, 3)\n"
     ]
    },
    {
     "name": "stderr",
     "output_type": "stream",
     "text": [
      "100%|███████████████████████████████████████████████████████████████████████████████████████████████| 100/100 [00:00<00:00, 114.89it/s]\n",
      "C:\\Users\\benza-ord\\anaconda3\\envs\\keras-gpu\\lib\\site-packages\\ipykernel_launcher.py:47: UserWarning: Update your `Model` call to the Keras 2 API: `Model(inputs=[<tf.Tenso..., outputs=Tensor(\"re...)`\n"
     ]
    },
    {
     "name": "stdout",
     "output_type": "stream",
     "text": [
      "(100, 224, 224, 3)\n",
      "39 res3a_branch2a\n",
      "preds (100, 28, 28, 128)\n",
      "(100, 100352)\n"
     ]
    },
    {
     "name": "stderr",
     "output_type": "stream",
     "text": [
      "C:\\Users\\benza-ord\\anaconda3\\envs\\keras-gpu\\lib\\site-packages\\sklearn\\decomposition\\_pca.py:555: RuntimeWarning: divide by zero encountered in true_divide\n",
      "  self.explained_variance_ / total_var.sum()\n",
      " 12%|███████████▌                                                                                    | 12/100 [00:00<00:00, 119.13it/s]"
     ]
    },
    {
     "name": "stdout",
     "output_type": "stream",
     "text": [
      "             PC1           PC2  target\n",
      "0   6.585858e-09 -9.219752e-19       3\n",
      "1   6.585857e-09 -9.215114e-19       8\n",
      "2   6.585857e-09 -9.214920e-19       8\n",
      "3   6.585857e-09 -9.214920e-19       0\n",
      "4   6.585857e-09 -9.214920e-19       6\n",
      "..           ...           ...     ...\n",
      "95  6.585857e-09 -9.214920e-19       6\n",
      "96  6.585858e-09  2.211592e-17       6\n",
      "97  6.585858e-09  2.211592e-17       0\n",
      "98  6.585858e-09  2.211592e-17       0\n",
      "99  6.585858e-09  2.211592e-17       7\n",
      "\n",
      "[100 rows x 3 columns]\n",
      "(100, 224, 224, 3)\n"
     ]
    },
    {
     "name": "stderr",
     "output_type": "stream",
     "text": [
      "100%|███████████████████████████████████████████████████████████████████████████████████████████████| 100/100 [00:00<00:00, 115.85it/s]\n",
      "C:\\Users\\benza-ord\\anaconda3\\envs\\keras-gpu\\lib\\site-packages\\ipykernel_launcher.py:47: UserWarning: Update your `Model` call to the Keras 2 API: `Model(inputs=[<tf.Tenso..., outputs=Tensor(\"re...)`\n"
     ]
    },
    {
     "name": "stdout",
     "output_type": "stream",
     "text": [
      "(100, 224, 224, 3)\n",
      "39 res3a_branch2a\n",
      "preds (100, 28, 28, 128)\n",
      "(100, 100352)\n"
     ]
    },
    {
     "name": "stderr",
     "output_type": "stream",
     "text": [
      "C:\\Users\\benza-ord\\anaconda3\\envs\\keras-gpu\\lib\\site-packages\\sklearn\\decomposition\\_pca.py:555: RuntimeWarning: divide by zero encountered in true_divide\n",
      "  self.explained_variance_ / total_var.sum()\n",
      " 12%|███████████▌                                                                                    | 12/100 [00:00<00:00, 118.90it/s]"
     ]
    },
    {
     "name": "stdout",
     "output_type": "stream",
     "text": [
      "             PC1           PC2  target\n",
      "0   6.585858e-09 -9.219752e-19       3\n",
      "1   6.585857e-09 -9.215114e-19       8\n",
      "2   6.585857e-09 -9.214920e-19       8\n",
      "3   6.585857e-09 -9.214920e-19       0\n",
      "4   6.585857e-09 -9.214920e-19       6\n",
      "..           ...           ...     ...\n",
      "95  6.585857e-09 -9.214920e-19       6\n",
      "96  6.585858e-09  2.211592e-17       6\n",
      "97  6.585858e-09  2.211592e-17       0\n",
      "98  6.585858e-09  2.211592e-17       0\n",
      "99  6.585858e-09  2.211592e-17       7\n",
      "\n",
      "[100 rows x 3 columns]\n",
      "(100, 224, 224, 3)\n"
     ]
    },
    {
     "name": "stderr",
     "output_type": "stream",
     "text": [
      "100%|███████████████████████████████████████████████████████████████████████████████████████████████| 100/100 [00:00<00:00, 116.51it/s]\n",
      "C:\\Users\\benza-ord\\anaconda3\\envs\\keras-gpu\\lib\\site-packages\\ipykernel_launcher.py:47: UserWarning: Update your `Model` call to the Keras 2 API: `Model(inputs=[<tf.Tenso..., outputs=Tensor(\"re...)`\n"
     ]
    },
    {
     "name": "stdout",
     "output_type": "stream",
     "text": [
      "(100, 224, 224, 3)\n",
      "39 res3a_branch2a\n",
      "preds (100, 28, 28, 128)\n",
      "(100, 100352)\n"
     ]
    },
    {
     "name": "stderr",
     "output_type": "stream",
     "text": [
      "C:\\Users\\benza-ord\\anaconda3\\envs\\keras-gpu\\lib\\site-packages\\sklearn\\decomposition\\_pca.py:555: RuntimeWarning: divide by zero encountered in true_divide\n",
      "  self.explained_variance_ / total_var.sum()\n",
      " 12%|███████████▌                                                                                    | 12/100 [00:00<00:00, 114.59it/s]"
     ]
    },
    {
     "name": "stdout",
     "output_type": "stream",
     "text": [
      "             PC1           PC2  target\n",
      "0   6.585858e-09 -9.219752e-19       3\n",
      "1   6.585857e-09 -9.215114e-19       8\n",
      "2   6.585857e-09 -9.214920e-19       8\n",
      "3   6.585857e-09 -9.214920e-19       0\n",
      "4   6.585857e-09 -9.214920e-19       6\n",
      "..           ...           ...     ...\n",
      "95  6.585857e-09 -9.214920e-19       6\n",
      "96  6.585858e-09  2.211592e-17       6\n",
      "97  6.585858e-09  2.211592e-17       0\n",
      "98  6.585858e-09  2.211592e-17       0\n",
      "99  6.585858e-09  2.211592e-17       7\n",
      "\n",
      "[100 rows x 3 columns]\n",
      "(100, 224, 224, 3)\n"
     ]
    },
    {
     "name": "stderr",
     "output_type": "stream",
     "text": [
      "100%|███████████████████████████████████████████████████████████████████████████████████████████████| 100/100 [00:00<00:00, 110.35it/s]\n",
      "C:\\Users\\benza-ord\\anaconda3\\envs\\keras-gpu\\lib\\site-packages\\ipykernel_launcher.py:47: UserWarning: Update your `Model` call to the Keras 2 API: `Model(inputs=[<tf.Tenso..., outputs=Tensor(\"re...)`\n"
     ]
    },
    {
     "name": "stdout",
     "output_type": "stream",
     "text": [
      "(100, 224, 224, 3)\n",
      "39 res3a_branch2a\n",
      "preds (100, 28, 28, 128)\n",
      "(100, 100352)\n"
     ]
    },
    {
     "name": "stderr",
     "output_type": "stream",
     "text": [
      "C:\\Users\\benza-ord\\anaconda3\\envs\\keras-gpu\\lib\\site-packages\\sklearn\\decomposition\\_pca.py:555: RuntimeWarning: divide by zero encountered in true_divide\n",
      "  self.explained_variance_ / total_var.sum()\n",
      " 13%|████████████▍                                                                                   | 13/100 [00:00<00:00, 121.82it/s]"
     ]
    },
    {
     "name": "stdout",
     "output_type": "stream",
     "text": [
      "             PC1           PC2  target\n",
      "0   6.585858e-09 -9.219752e-19       3\n",
      "1   6.585857e-09 -9.215114e-19       8\n",
      "2   6.585857e-09 -9.214920e-19       8\n",
      "3   6.585857e-09 -9.214920e-19       0\n",
      "4   6.585857e-09 -9.214920e-19       6\n",
      "..           ...           ...     ...\n",
      "95  6.585857e-09 -9.214920e-19       6\n",
      "96  6.585858e-09  2.211592e-17       6\n",
      "97  6.585858e-09  2.211592e-17       0\n",
      "98  6.585858e-09  2.211592e-17       0\n",
      "99  6.585858e-09  2.211592e-17       7\n",
      "\n",
      "[100 rows x 3 columns]\n",
      "(100, 224, 224, 3)\n"
     ]
    },
    {
     "name": "stderr",
     "output_type": "stream",
     "text": [
      "100%|███████████████████████████████████████████████████████████████████████████████████████████████| 100/100 [00:00<00:00, 112.50it/s]\n",
      "C:\\Users\\benza-ord\\anaconda3\\envs\\keras-gpu\\lib\\site-packages\\ipykernel_launcher.py:47: UserWarning: Update your `Model` call to the Keras 2 API: `Model(inputs=[<tf.Tenso..., outputs=Tensor(\"re...)`\n"
     ]
    },
    {
     "name": "stdout",
     "output_type": "stream",
     "text": [
      "(100, 224, 224, 3)\n",
      "39 res3a_branch2a\n",
      "preds (100, 28, 28, 128)\n",
      "(100, 100352)\n"
     ]
    },
    {
     "name": "stderr",
     "output_type": "stream",
     "text": [
      "C:\\Users\\benza-ord\\anaconda3\\envs\\keras-gpu\\lib\\site-packages\\sklearn\\decomposition\\_pca.py:555: RuntimeWarning: divide by zero encountered in true_divide\n",
      "  self.explained_variance_ / total_var.sum()\n",
      " 13%|████████████▍                                                                                   | 13/100 [00:00<00:00, 121.82it/s]"
     ]
    },
    {
     "name": "stdout",
     "output_type": "stream",
     "text": [
      "             PC1           PC2  target\n",
      "0   6.585858e-09 -9.219752e-19       3\n",
      "1   6.585857e-09 -9.215114e-19       8\n",
      "2   6.585857e-09 -9.214920e-19       8\n",
      "3   6.585857e-09 -9.214920e-19       0\n",
      "4   6.585857e-09 -9.214920e-19       6\n",
      "..           ...           ...     ...\n",
      "95  6.585857e-09 -9.214920e-19       6\n",
      "96  6.585858e-09  2.211592e-17       6\n",
      "97  6.585858e-09  2.211592e-17       0\n",
      "98  6.585858e-09  2.211592e-17       0\n",
      "99  6.585858e-09  2.211592e-17       7\n",
      "\n",
      "[100 rows x 3 columns]\n",
      "(100, 224, 224, 3)\n"
     ]
    },
    {
     "name": "stderr",
     "output_type": "stream",
     "text": [
      "100%|███████████████████████████████████████████████████████████████████████████████████████████████| 100/100 [00:00<00:00, 112.54it/s]\n",
      "C:\\Users\\benza-ord\\anaconda3\\envs\\keras-gpu\\lib\\site-packages\\ipykernel_launcher.py:47: UserWarning: Update your `Model` call to the Keras 2 API: `Model(inputs=[<tf.Tenso..., outputs=Tensor(\"re...)`\n"
     ]
    },
    {
     "name": "stdout",
     "output_type": "stream",
     "text": [
      "(100, 224, 224, 3)\n",
      "39 res3a_branch2a\n",
      "preds (100, 28, 28, 128)\n",
      "(100, 100352)\n"
     ]
    },
    {
     "name": "stderr",
     "output_type": "stream",
     "text": [
      "C:\\Users\\benza-ord\\anaconda3\\envs\\keras-gpu\\lib\\site-packages\\sklearn\\decomposition\\_pca.py:555: RuntimeWarning: divide by zero encountered in true_divide\n",
      "  self.explained_variance_ / total_var.sum()\n",
      " 11%|██████████▌                                                                                     | 11/100 [00:00<00:00, 102.13it/s]"
     ]
    },
    {
     "name": "stdout",
     "output_type": "stream",
     "text": [
      "             PC1           PC2  target\n",
      "0   6.585858e-09 -9.219752e-19       3\n",
      "1   6.585857e-09 -9.215114e-19       8\n",
      "2   6.585857e-09 -9.214920e-19       8\n",
      "3   6.585857e-09 -9.214920e-19       0\n",
      "4   6.585857e-09 -9.214920e-19       6\n",
      "..           ...           ...     ...\n",
      "95  6.585857e-09 -9.214920e-19       6\n",
      "96  6.585858e-09  2.211592e-17       6\n",
      "97  6.585858e-09  2.211592e-17       0\n",
      "98  6.585858e-09  2.211592e-17       0\n",
      "99  6.585858e-09  2.211592e-17       7\n",
      "\n",
      "[100 rows x 3 columns]\n",
      "(100, 224, 224, 3)\n"
     ]
    },
    {
     "name": "stderr",
     "output_type": "stream",
     "text": [
      "100%|███████████████████████████████████████████████████████████████████████████████████████████████| 100/100 [00:00<00:00, 109.34it/s]\n",
      "C:\\Users\\benza-ord\\anaconda3\\envs\\keras-gpu\\lib\\site-packages\\ipykernel_launcher.py:47: UserWarning: Update your `Model` call to the Keras 2 API: `Model(inputs=[<tf.Tenso..., outputs=Tensor(\"re...)`\n"
     ]
    },
    {
     "name": "stdout",
     "output_type": "stream",
     "text": [
      "(100, 224, 224, 3)\n",
      "39 res3a_branch2a\n",
      "preds (100, 28, 28, 128)\n",
      "(100, 100352)\n"
     ]
    },
    {
     "name": "stderr",
     "output_type": "stream",
     "text": [
      "C:\\Users\\benza-ord\\anaconda3\\envs\\keras-gpu\\lib\\site-packages\\sklearn\\decomposition\\_pca.py:555: RuntimeWarning: divide by zero encountered in true_divide\n",
      "  self.explained_variance_ / total_var.sum()\n",
      " 12%|███████████▌                                                                                    | 12/100 [00:00<00:00, 108.40it/s]"
     ]
    },
    {
     "name": "stdout",
     "output_type": "stream",
     "text": [
      "             PC1           PC2  target\n",
      "0   6.585858e-09 -9.219752e-19       3\n",
      "1   6.585857e-09 -9.215114e-19       8\n",
      "2   6.585857e-09 -9.214920e-19       8\n",
      "3   6.585857e-09 -9.214920e-19       0\n",
      "4   6.585857e-09 -9.214920e-19       6\n",
      "..           ...           ...     ...\n",
      "95  6.585857e-09 -9.214920e-19       6\n",
      "96  6.585858e-09  2.211592e-17       6\n",
      "97  6.585858e-09  2.211592e-17       0\n",
      "98  6.585858e-09  2.211592e-17       0\n",
      "99  6.585858e-09  2.211592e-17       7\n",
      "\n",
      "[100 rows x 3 columns]\n",
      "(100, 224, 224, 3)\n"
     ]
    },
    {
     "name": "stderr",
     "output_type": "stream",
     "text": [
      "100%|███████████████████████████████████████████████████████████████████████████████████████████████| 100/100 [00:00<00:00, 109.76it/s]\n",
      "C:\\Users\\benza-ord\\anaconda3\\envs\\keras-gpu\\lib\\site-packages\\ipykernel_launcher.py:47: UserWarning: Update your `Model` call to the Keras 2 API: `Model(inputs=[<tf.Tenso..., outputs=Tensor(\"re...)`\n"
     ]
    },
    {
     "name": "stdout",
     "output_type": "stream",
     "text": [
      "(100, 224, 224, 3)\n",
      "39 res3a_branch2a\n",
      "preds (100, 28, 28, 128)\n",
      "(100, 100352)\n"
     ]
    },
    {
     "name": "stderr",
     "output_type": "stream",
     "text": [
      "C:\\Users\\benza-ord\\anaconda3\\envs\\keras-gpu\\lib\\site-packages\\sklearn\\decomposition\\_pca.py:555: RuntimeWarning: divide by zero encountered in true_divide\n",
      "  self.explained_variance_ / total_var.sum()\n",
      " 12%|███████████▌                                                                                    | 12/100 [00:00<00:00, 119.13it/s]"
     ]
    },
    {
     "name": "stdout",
     "output_type": "stream",
     "text": [
      "             PC1           PC2  target\n",
      "0   6.585858e-09 -9.219752e-19       3\n",
      "1   6.585857e-09 -9.215114e-19       8\n",
      "2   6.585857e-09 -9.214920e-19       8\n",
      "3   6.585857e-09 -9.214920e-19       0\n",
      "4   6.585857e-09 -9.214920e-19       6\n",
      "..           ...           ...     ...\n",
      "95  6.585857e-09 -9.214920e-19       6\n",
      "96  6.585858e-09  2.211592e-17       6\n",
      "97  6.585858e-09  2.211592e-17       0\n",
      "98  6.585858e-09  2.211592e-17       0\n",
      "99  6.585858e-09  2.211592e-17       7\n",
      "\n",
      "[100 rows x 3 columns]\n",
      "(100, 224, 224, 3)\n"
     ]
    },
    {
     "name": "stderr",
     "output_type": "stream",
     "text": [
      "100%|███████████████████████████████████████████████████████████████████████████████████████████████| 100/100 [00:00<00:00, 114.83it/s]\n",
      "C:\\Users\\benza-ord\\anaconda3\\envs\\keras-gpu\\lib\\site-packages\\ipykernel_launcher.py:47: UserWarning: Update your `Model` call to the Keras 2 API: `Model(inputs=[<tf.Tenso..., outputs=Tensor(\"re...)`\n"
     ]
    },
    {
     "name": "stdout",
     "output_type": "stream",
     "text": [
      "(100, 224, 224, 3)\n",
      "42 res3a_branch2b\n",
      "preds (100, 28, 28, 128)\n",
      "(100, 100352)\n",
      "             PC1           PC2  target\n",
      "0   6.155723e-09 -1.279256e-10       3\n",
      "1   6.155723e-09 -1.279242e-10       8\n",
      "2   6.155723e-09 -1.279246e-10       8\n",
      "3   6.155723e-09 -1.279246e-10       0\n",
      "4   6.155723e-09 -1.279246e-10       6\n",
      "..           ...           ...     ...\n",
      "95  6.155723e-09 -1.279246e-10       6\n",
      "96  6.143586e-09  3.076257e-09       6\n",
      "97  6.143586e-09  3.076257e-09       0\n",
      "98  6.143586e-09  3.076257e-09       0\n",
      "99  6.143586e-09  3.076257e-09       7\n",
      "\n",
      "[100 rows x 3 columns]"
     ]
    },
    {
     "name": "stderr",
     "output_type": "stream",
     "text": [
      " 13%|████████████▍                                                                                   | 13/100 [00:00<00:00, 120.54it/s]"
     ]
    },
    {
     "name": "stdout",
     "output_type": "stream",
     "text": [
      "\n",
      "(100, 224, 224, 3)\n"
     ]
    },
    {
     "name": "stderr",
     "output_type": "stream",
     "text": [
      "100%|███████████████████████████████████████████████████████████████████████████████████████████████| 100/100 [00:00<00:00, 116.00it/s]\n",
      "C:\\Users\\benza-ord\\anaconda3\\envs\\keras-gpu\\lib\\site-packages\\ipykernel_launcher.py:47: UserWarning: Update your `Model` call to the Keras 2 API: `Model(inputs=[<tf.Tenso..., outputs=Tensor(\"re...)`\n"
     ]
    },
    {
     "name": "stdout",
     "output_type": "stream",
     "text": [
      "(100, 224, 224, 3)\n",
      "42 res3a_branch2b\n",
      "preds (100, 28, 28, 128)\n",
      "(100, 100352)\n",
      "             PC1           PC2  target\n",
      "0   6.155723e-09 -1.279262e-10       3\n",
      "1   6.155723e-09 -1.279242e-10       8\n",
      "2   6.155723e-09 -1.279245e-10       8\n",
      "3   6.155723e-09 -1.279245e-10       0\n",
      "4   6.155723e-09 -1.279245e-10       6\n",
      "..           ...           ...     ...\n",
      "95  6.155723e-09 -1.279245e-10       6\n",
      "96  6.143586e-09  3.076257e-09       6\n",
      "97  6.143586e-09  3.076257e-09       0\n",
      "98  6.143586e-09  3.076257e-09       0\n",
      "99  6.143586e-09  3.076257e-09       7\n",
      "\n",
      "[100 rows x 3 columns]"
     ]
    },
    {
     "name": "stderr",
     "output_type": "stream",
     "text": [
      " 12%|███████████▌                                                                                    | 12/100 [00:00<00:00, 113.51it/s]"
     ]
    },
    {
     "name": "stdout",
     "output_type": "stream",
     "text": [
      "\n",
      "(100, 224, 224, 3)\n"
     ]
    },
    {
     "name": "stderr",
     "output_type": "stream",
     "text": [
      "100%|███████████████████████████████████████████████████████████████████████████████████████████████| 100/100 [00:00<00:00, 115.26it/s]\n",
      "C:\\Users\\benza-ord\\anaconda3\\envs\\keras-gpu\\lib\\site-packages\\ipykernel_launcher.py:47: UserWarning: Update your `Model` call to the Keras 2 API: `Model(inputs=[<tf.Tenso..., outputs=Tensor(\"re...)`\n"
     ]
    },
    {
     "name": "stdout",
     "output_type": "stream",
     "text": [
      "(100, 224, 224, 3)\n",
      "42 res3a_branch2b\n",
      "preds (100, 28, 28, 128)\n",
      "(100, 100352)\n",
      "             PC1           PC2  target\n",
      "0   6.155723e-09 -1.279256e-10       3\n",
      "1   6.155723e-09 -1.279242e-10       8\n",
      "2   6.155723e-09 -1.279246e-10       8\n",
      "3   6.155723e-09 -1.279246e-10       0\n",
      "4   6.155723e-09 -1.279246e-10       6\n",
      "..           ...           ...     ...\n",
      "95  6.155723e-09 -1.279246e-10       6\n",
      "96  6.143586e-09  3.076257e-09       6\n",
      "97  6.143586e-09  3.076257e-09       0\n",
      "98  6.143586e-09  3.076257e-09       0\n",
      "99  6.143586e-09  3.076257e-09       7\n",
      "\n",
      "[100 rows x 3 columns]"
     ]
    },
    {
     "name": "stderr",
     "output_type": "stream",
     "text": [
      " 13%|████████████▍                                                                                   | 13/100 [00:00<00:00, 121.82it/s]"
     ]
    },
    {
     "name": "stdout",
     "output_type": "stream",
     "text": [
      "\n",
      "(100, 224, 224, 3)\n"
     ]
    },
    {
     "name": "stderr",
     "output_type": "stream",
     "text": [
      "100%|███████████████████████████████████████████████████████████████████████████████████████████████| 100/100 [00:00<00:00, 117.47it/s]\n",
      "C:\\Users\\benza-ord\\anaconda3\\envs\\keras-gpu\\lib\\site-packages\\ipykernel_launcher.py:47: UserWarning: Update your `Model` call to the Keras 2 API: `Model(inputs=[<tf.Tenso..., outputs=Tensor(\"re...)`\n"
     ]
    },
    {
     "name": "stdout",
     "output_type": "stream",
     "text": [
      "(100, 224, 224, 3)\n",
      "42 res3a_branch2b\n",
      "preds (100, 28, 28, 128)\n",
      "(100, 100352)\n",
      "             PC1           PC2  target\n",
      "0   6.155723e-09 -1.279255e-10       3\n",
      "1   6.155723e-09 -1.279249e-10       8\n",
      "2   6.155723e-09 -1.279246e-10       8\n",
      "3   6.155723e-09 -1.279246e-10       0\n",
      "4   6.155723e-09 -1.279246e-10       6\n",
      "..           ...           ...     ...\n",
      "95  6.155723e-09 -1.279246e-10       6\n",
      "96  6.143586e-09  3.076257e-09       6\n",
      "97  6.143586e-09  3.076257e-09       0\n",
      "98  6.143586e-09  3.076257e-09       0\n",
      "99  6.143586e-09  3.076257e-09       7\n",
      "\n",
      "[100 rows x 3 columns]"
     ]
    },
    {
     "name": "stderr",
     "output_type": "stream",
     "text": [
      " 13%|████████████▍                                                                                   | 13/100 [00:00<00:00, 121.82it/s]"
     ]
    },
    {
     "name": "stdout",
     "output_type": "stream",
     "text": [
      "\n",
      "(100, 224, 224, 3)\n"
     ]
    },
    {
     "name": "stderr",
     "output_type": "stream",
     "text": [
      "100%|███████████████████████████████████████████████████████████████████████████████████████████████| 100/100 [00:00<00:00, 113.05it/s]\n",
      "C:\\Users\\benza-ord\\anaconda3\\envs\\keras-gpu\\lib\\site-packages\\ipykernel_launcher.py:47: UserWarning: Update your `Model` call to the Keras 2 API: `Model(inputs=[<tf.Tenso..., outputs=Tensor(\"re...)`\n"
     ]
    },
    {
     "name": "stdout",
     "output_type": "stream",
     "text": [
      "(100, 224, 224, 3)\n",
      "42 res3a_branch2b\n",
      "preds (100, 28, 28, 128)\n",
      "(100, 100352)\n",
      "             PC1           PC2  target\n",
      "0   6.155723e-09 -1.279255e-10       3\n",
      "1   6.155723e-09 -1.279242e-10       8\n",
      "2   6.155723e-09 -1.279246e-10       8\n",
      "3   6.155723e-09 -1.279246e-10       0\n",
      "4   6.155723e-09 -1.279246e-10       6\n",
      "..           ...           ...     ...\n",
      "95  6.155723e-09 -1.279246e-10       6\n",
      "96  6.143586e-09  3.076256e-09       6\n",
      "97  6.143586e-09  3.076256e-09       0\n",
      "98  6.143586e-09  3.076256e-09       0\n",
      "99  6.143586e-09  3.076256e-09       7\n",
      "\n",
      "[100 rows x 3 columns]"
     ]
    },
    {
     "name": "stderr",
     "output_type": "stream",
     "text": [
      " 12%|███████████▌                                                                                    | 12/100 [00:00<00:00, 110.39it/s]"
     ]
    },
    {
     "name": "stdout",
     "output_type": "stream",
     "text": [
      "\n",
      "(100, 224, 224, 3)\n"
     ]
    },
    {
     "name": "stderr",
     "output_type": "stream",
     "text": [
      "100%|███████████████████████████████████████████████████████████████████████████████████████████████| 100/100 [00:00<00:00, 110.29it/s]\n",
      "C:\\Users\\benza-ord\\anaconda3\\envs\\keras-gpu\\lib\\site-packages\\ipykernel_launcher.py:47: UserWarning: Update your `Model` call to the Keras 2 API: `Model(inputs=[<tf.Tenso..., outputs=Tensor(\"re...)`\n"
     ]
    },
    {
     "name": "stdout",
     "output_type": "stream",
     "text": [
      "(100, 224, 224, 3)\n",
      "42 res3a_branch2b\n",
      "preds (100, 28, 28, 128)\n",
      "(100, 100352)\n",
      "             PC1           PC2  target\n",
      "0   6.155723e-09 -1.279255e-10       3\n",
      "1   6.155723e-09 -1.279242e-10       8\n",
      "2   6.155723e-09 -1.279246e-10       8\n",
      "3   6.155723e-09 -1.279246e-10       0\n",
      "4   6.155723e-09 -1.279246e-10       6\n",
      "..           ...           ...     ...\n",
      "95  6.155723e-09 -1.279246e-10       6\n",
      "96  6.143586e-09  3.076256e-09       6\n",
      "97  6.143586e-09  3.076256e-09       0\n",
      "98  6.143586e-09  3.076256e-09       0\n",
      "99  6.143586e-09  3.076256e-09       7\n",
      "\n",
      "[100 rows x 3 columns]\n",
      "(100, 224, 224, 3)"
     ]
    },
    {
     "name": "stderr",
     "output_type": "stream",
     "text": [
      " 24%|███████████████████████                                                                         | 24/100 [00:00<00:00, 116.74it/s]"
     ]
    },
    {
     "name": "stdout",
     "output_type": "stream",
     "text": [
      "\n"
     ]
    },
    {
     "name": "stderr",
     "output_type": "stream",
     "text": [
      "100%|███████████████████████████████████████████████████████████████████████████████████████████████| 100/100 [00:00<00:00, 111.86it/s]\n",
      "C:\\Users\\benza-ord\\anaconda3\\envs\\keras-gpu\\lib\\site-packages\\ipykernel_launcher.py:47: UserWarning: Update your `Model` call to the Keras 2 API: `Model(inputs=[<tf.Tenso..., outputs=Tensor(\"re...)`\n"
     ]
    },
    {
     "name": "stdout",
     "output_type": "stream",
     "text": [
      "(100, 224, 224, 3)\n",
      "42 res3a_branch2b\n",
      "preds (100, 28, 28, 128)\n",
      "(100, 100352)\n",
      "             PC1           PC2  target\n",
      "0   6.155723e-09 -1.279256e-10       3\n",
      "1   6.155723e-09 -1.279242e-10       8\n",
      "2   6.155723e-09 -1.279246e-10       8\n",
      "3   6.155723e-09 -1.279246e-10       0\n",
      "4   6.155723e-09 -1.279246e-10       6\n",
      "..           ...           ...     ...\n",
      "95  6.155723e-09 -1.279246e-10       6\n",
      "96  6.143586e-09  3.076257e-09       6\n",
      "97  6.143586e-09  3.076257e-09       0\n",
      "98  6.143586e-09  3.076257e-09       0\n",
      "99  6.143586e-09  3.076257e-09       7\n",
      "\n",
      "[100 rows x 3 columns]\n",
      "(100, 224, 224, 3)"
     ]
    },
    {
     "name": "stderr",
     "output_type": "stream",
     "text": [
      " 23%|██████████████████████                                                                          | 23/100 [00:00<00:00, 115.11it/s]"
     ]
    },
    {
     "name": "stdout",
     "output_type": "stream",
     "text": [
      "\n"
     ]
    },
    {
     "name": "stderr",
     "output_type": "stream",
     "text": [
      "100%|███████████████████████████████████████████████████████████████████████████████████████████████| 100/100 [00:00<00:00, 110.24it/s]\n",
      "C:\\Users\\benza-ord\\anaconda3\\envs\\keras-gpu\\lib\\site-packages\\ipykernel_launcher.py:47: UserWarning: Update your `Model` call to the Keras 2 API: `Model(inputs=[<tf.Tenso..., outputs=Tensor(\"re...)`\n"
     ]
    },
    {
     "name": "stdout",
     "output_type": "stream",
     "text": [
      "(100, 224, 224, 3)\n",
      "42 res3a_branch2b\n",
      "preds (100, 28, 28, 128)\n",
      "(100, 100352)\n",
      "             PC1           PC2  target\n",
      "0   6.155723e-09 -1.279256e-10       3\n",
      "1   6.155723e-09 -1.279242e-10       8\n",
      "2   6.155723e-09 -1.279246e-10       8\n",
      "3   6.155723e-09 -1.279246e-10       0\n",
      "4   6.155723e-09 -1.279246e-10       6\n",
      "..           ...           ...     ...\n",
      "95  6.155723e-09 -1.279246e-10       6\n",
      "96  6.143586e-09  3.076256e-09       6\n",
      "97  6.143586e-09  3.076256e-09       0\n",
      "98  6.143586e-09  3.076256e-09       0\n",
      "99  6.143586e-09  3.076256e-09       7\n",
      "\n",
      "[100 rows x 3 columns]"
     ]
    },
    {
     "name": "stderr",
     "output_type": "stream",
     "text": [
      " 11%|██████████▌                                                                                     | 11/100 [00:00<00:00, 105.54it/s]"
     ]
    },
    {
     "name": "stdout",
     "output_type": "stream",
     "text": [
      "\n",
      "(100, 224, 224, 3)\n"
     ]
    },
    {
     "name": "stderr",
     "output_type": "stream",
     "text": [
      "100%|███████████████████████████████████████████████████████████████████████████████████████████████| 100/100 [00:00<00:00, 114.45it/s]\n",
      "C:\\Users\\benza-ord\\anaconda3\\envs\\keras-gpu\\lib\\site-packages\\ipykernel_launcher.py:47: UserWarning: Update your `Model` call to the Keras 2 API: `Model(inputs=[<tf.Tenso..., outputs=Tensor(\"re...)`\n"
     ]
    },
    {
     "name": "stdout",
     "output_type": "stream",
     "text": [
      "(100, 224, 224, 3)\n",
      "42 res3a_branch2b\n",
      "preds (100, 28, 28, 128)\n",
      "(100, 100352)\n",
      "             PC1           PC2  target\n",
      "0   6.155723e-09 -1.279256e-10       3\n",
      "1   6.155723e-09 -1.279242e-10       8\n",
      "2   6.155723e-09 -1.279246e-10       8\n",
      "3   6.155723e-09 -1.279246e-10       0\n",
      "4   6.155723e-09 -1.279246e-10       6\n",
      "..           ...           ...     ...\n",
      "95  6.155723e-09 -1.279246e-10       6\n",
      "96  6.143586e-09  3.076256e-09       6\n",
      "97  6.143586e-09  3.076256e-09       0\n",
      "98  6.143586e-09  3.076256e-09       0\n",
      "99  6.143586e-09  3.076256e-09       7\n",
      "\n",
      "[100 rows x 3 columns]\n",
      "(100, 224, 224, 3)"
     ]
    },
    {
     "name": "stderr",
     "output_type": "stream",
     "text": [
      " 12%|███████████▌                                                                                    | 12/100 [00:00<00:00, 117.96it/s]"
     ]
    },
    {
     "name": "stdout",
     "output_type": "stream",
     "text": [
      "\n"
     ]
    },
    {
     "name": "stderr",
     "output_type": "stream",
     "text": [
      "100%|███████████████████████████████████████████████████████████████████████████████████████████████| 100/100 [00:00<00:00, 117.82it/s]\n",
      "C:\\Users\\benza-ord\\anaconda3\\envs\\keras-gpu\\lib\\site-packages\\ipykernel_launcher.py:47: UserWarning: Update your `Model` call to the Keras 2 API: `Model(inputs=[<tf.Tenso..., outputs=Tensor(\"re...)`\n"
     ]
    },
    {
     "name": "stdout",
     "output_type": "stream",
     "text": [
      "(100, 224, 224, 3)\n",
      "42 res3a_branch2b\n",
      "preds (100, 28, 28, 128)\n",
      "(100, 100352)\n",
      "             PC1           PC2  target\n",
      "0   6.155723e-09 -1.279256e-10       3\n",
      "1   6.155723e-09 -1.279242e-10       8\n",
      "2   6.155723e-09 -1.279246e-10       8\n",
      "3   6.155723e-09 -1.279246e-10       0\n",
      "4   6.155723e-09 -1.279246e-10       6\n",
      "..           ...           ...     ...\n",
      "95  6.155723e-09 -1.279246e-10       6\n",
      "96  6.143586e-09  3.076257e-09       6\n",
      "97  6.143586e-09  3.076257e-09       0\n",
      "98  6.143586e-09  3.076257e-09       0\n",
      "99  6.143586e-09  3.076257e-09       7\n",
      "\n",
      "[100 rows x 3 columns]"
     ]
    },
    {
     "name": "stderr",
     "output_type": "stream",
     "text": [
      " 13%|████████████▍                                                                                   | 13/100 [00:00<00:00, 119.58it/s]"
     ]
    },
    {
     "name": "stdout",
     "output_type": "stream",
     "text": [
      "\n",
      "(100, 224, 224, 3)\n"
     ]
    },
    {
     "name": "stderr",
     "output_type": "stream",
     "text": [
      "100%|███████████████████████████████████████████████████████████████████████████████████████████████| 100/100 [00:00<00:00, 116.66it/s]\n",
      "C:\\Users\\benza-ord\\anaconda3\\envs\\keras-gpu\\lib\\site-packages\\ipykernel_launcher.py:47: UserWarning: Update your `Model` call to the Keras 2 API: `Model(inputs=[<tf.Tenso..., outputs=Tensor(\"re...)`\n"
     ]
    },
    {
     "name": "stdout",
     "output_type": "stream",
     "text": [
      "(100, 224, 224, 3)\n",
      "45 res3a_branch2c\n",
      "preds (100, 28, 28, 512)\n",
      "(100, 401408)\n"
     ]
    },
    {
     "name": "stderr",
     "output_type": "stream",
     "text": [
      " 13%|████████████▍                                                                                   | 13/100 [00:00<00:00, 121.78it/s]"
     ]
    },
    {
     "name": "stdout",
     "output_type": "stream",
     "text": [
      "             PC1           PC2  target\n",
      "0   1.354790e-08 -2.991455e-10       3\n",
      "1   1.354791e-08 -2.991418e-10       8\n",
      "2   1.354791e-08 -2.991410e-10       8\n",
      "3   1.354791e-08 -2.991410e-10       0\n",
      "4   1.354791e-08 -2.991410e-10       6\n",
      "..           ...           ...     ...\n",
      "95  1.354791e-08 -2.991410e-10       6\n",
      "96  1.355283e-08  7.176774e-09       6\n",
      "97  1.355283e-08  7.176774e-09       0\n",
      "98  1.355283e-08  7.176774e-09       0\n",
      "99  1.355283e-08  7.176774e-09       7\n",
      "\n",
      "[100 rows x 3 columns]\n",
      "(100, 224, 224, 3)\n"
     ]
    },
    {
     "name": "stderr",
     "output_type": "stream",
     "text": [
      "100%|███████████████████████████████████████████████████████████████████████████████████████████████| 100/100 [00:00<00:00, 113.63it/s]\n",
      "C:\\Users\\benza-ord\\anaconda3\\envs\\keras-gpu\\lib\\site-packages\\ipykernel_launcher.py:47: UserWarning: Update your `Model` call to the Keras 2 API: `Model(inputs=[<tf.Tenso..., outputs=Tensor(\"re...)`\n"
     ]
    },
    {
     "name": "stdout",
     "output_type": "stream",
     "text": [
      "(100, 224, 224, 3)\n",
      "45 res3a_branch2c\n",
      "preds (100, 28, 28, 512)\n",
      "(100, 401408)\n"
     ]
    },
    {
     "name": "stderr",
     "output_type": "stream",
     "text": [
      " 11%|██████████▌                                                                                     | 11/100 [00:00<00:00, 108.10it/s]"
     ]
    },
    {
     "name": "stdout",
     "output_type": "stream",
     "text": [
      "             PC1           PC2  target\n",
      "0   1.354790e-08 -2.991452e-10       3\n",
      "1   1.354791e-08 -2.991418e-10       8\n",
      "2   1.354791e-08 -2.991410e-10       8\n",
      "3   1.354791e-08 -2.991410e-10       0\n",
      "4   1.354791e-08 -2.991410e-10       6\n",
      "..           ...           ...     ...\n",
      "95  1.354791e-08 -2.991410e-10       6\n",
      "96  1.355283e-08  7.176773e-09       6\n",
      "97  1.355283e-08  7.176773e-09       0\n",
      "98  1.355283e-08  7.176773e-09       0\n",
      "99  1.355283e-08  7.176773e-09       7\n",
      "\n",
      "[100 rows x 3 columns]\n",
      "(100, 224, 224, 3)\n"
     ]
    },
    {
     "name": "stderr",
     "output_type": "stream",
     "text": [
      "100%|███████████████████████████████████████████████████████████████████████████████████████████████| 100/100 [00:00<00:00, 109.27it/s]\n",
      "C:\\Users\\benza-ord\\anaconda3\\envs\\keras-gpu\\lib\\site-packages\\ipykernel_launcher.py:47: UserWarning: Update your `Model` call to the Keras 2 API: `Model(inputs=[<tf.Tenso..., outputs=Tensor(\"re...)`\n"
     ]
    },
    {
     "name": "stdout",
     "output_type": "stream",
     "text": [
      "(100, 224, 224, 3)\n",
      "45 res3a_branch2c\n",
      "preds (100, 28, 28, 512)\n",
      "(100, 401408)\n"
     ]
    },
    {
     "name": "stderr",
     "output_type": "stream",
     "text": [
      " 12%|███████████▌                                                                                    | 12/100 [00:00<00:00, 119.69it/s]"
     ]
    },
    {
     "name": "stdout",
     "output_type": "stream",
     "text": [
      "             PC1           PC2  target\n",
      "0   1.354790e-08 -2.991381e-10       3\n",
      "1   1.354791e-08 -2.991417e-10       8\n",
      "2   1.354791e-08 -2.991409e-10       8\n",
      "3   1.354791e-08 -2.991409e-10       0\n",
      "4   1.354791e-08 -2.991409e-10       6\n",
      "..           ...           ...     ...\n",
      "95  1.354791e-08 -2.991409e-10       6\n",
      "96  1.355283e-08  7.176771e-09       6\n",
      "97  1.355283e-08  7.176771e-09       0\n",
      "98  1.355283e-08  7.176771e-09       0\n",
      "99  1.355283e-08  7.176771e-09       7\n",
      "\n",
      "[100 rows x 3 columns]\n",
      "(100, 224, 224, 3)\n"
     ]
    },
    {
     "name": "stderr",
     "output_type": "stream",
     "text": [
      "100%|███████████████████████████████████████████████████████████████████████████████████████████████| 100/100 [00:00<00:00, 116.83it/s]\n",
      "C:\\Users\\benza-ord\\anaconda3\\envs\\keras-gpu\\lib\\site-packages\\ipykernel_launcher.py:47: UserWarning: Update your `Model` call to the Keras 2 API: `Model(inputs=[<tf.Tenso..., outputs=Tensor(\"re...)`\n"
     ]
    },
    {
     "name": "stdout",
     "output_type": "stream",
     "text": [
      "(100, 224, 224, 3)\n",
      "45 res3a_branch2c\n",
      "preds (100, 28, 28, 512)\n",
      "(100, 401408)\n"
     ]
    },
    {
     "name": "stderr",
     "output_type": "stream",
     "text": [
      " 12%|███████████▌                                                                                    | 12/100 [00:00<00:00, 119.98it/s]"
     ]
    },
    {
     "name": "stdout",
     "output_type": "stream",
     "text": [
      "             PC1           PC2  target\n",
      "0   1.354790e-08 -2.991438e-10       3\n",
      "1   1.354791e-08 -2.991418e-10       8\n",
      "2   1.354791e-08 -2.991411e-10       8\n",
      "3   1.354791e-08 -2.991411e-10       0\n",
      "4   1.354791e-08 -2.991411e-10       6\n",
      "..           ...           ...     ...\n",
      "95  1.354791e-08 -2.991411e-10       6\n",
      "96  1.355283e-08  7.176775e-09       6\n",
      "97  1.355283e-08  7.176775e-09       0\n",
      "98  1.355283e-08  7.176775e-09       0\n",
      "99  1.355283e-08  7.176775e-09       7\n",
      "\n",
      "[100 rows x 3 columns]\n",
      "(100, 224, 224, 3)\n"
     ]
    },
    {
     "name": "stderr",
     "output_type": "stream",
     "text": [
      "100%|███████████████████████████████████████████████████████████████████████████████████████████████| 100/100 [00:00<00:00, 116.73it/s]\n",
      "C:\\Users\\benza-ord\\anaconda3\\envs\\keras-gpu\\lib\\site-packages\\ipykernel_launcher.py:47: UserWarning: Update your `Model` call to the Keras 2 API: `Model(inputs=[<tf.Tenso..., outputs=Tensor(\"re...)`\n"
     ]
    },
    {
     "name": "stdout",
     "output_type": "stream",
     "text": [
      "(100, 224, 224, 3)\n",
      "45 res3a_branch2c\n",
      "preds (100, 28, 28, 512)\n",
      "(100, 401408)\n"
     ]
    },
    {
     "name": "stderr",
     "output_type": "stream",
     "text": [
      " 13%|████████████▍                                                                                   | 13/100 [00:00<00:00, 121.81it/s]"
     ]
    },
    {
     "name": "stdout",
     "output_type": "stream",
     "text": [
      "             PC1           PC2  target\n",
      "0   1.354790e-08 -2.991455e-10       3\n",
      "1   1.354791e-08 -2.991400e-10       8\n",
      "2   1.354791e-08 -2.991409e-10       8\n",
      "3   1.354791e-08 -2.991409e-10       0\n",
      "4   1.354791e-08 -2.991409e-10       6\n",
      "..           ...           ...     ...\n",
      "95  1.354791e-08 -2.991409e-10       6\n",
      "96  1.355283e-08  7.176771e-09       6\n",
      "97  1.355283e-08  7.176771e-09       0\n",
      "98  1.355283e-08  7.176771e-09       0\n",
      "99  1.355283e-08  7.176771e-09       7\n",
      "\n",
      "[100 rows x 3 columns]\n",
      "(100, 224, 224, 3)\n"
     ]
    },
    {
     "name": "stderr",
     "output_type": "stream",
     "text": [
      "100%|███████████████████████████████████████████████████████████████████████████████████████████████| 100/100 [00:00<00:00, 117.09it/s]\n",
      "C:\\Users\\benza-ord\\anaconda3\\envs\\keras-gpu\\lib\\site-packages\\ipykernel_launcher.py:47: UserWarning: Update your `Model` call to the Keras 2 API: `Model(inputs=[<tf.Tenso..., outputs=Tensor(\"re...)`\n"
     ]
    },
    {
     "name": "stdout",
     "output_type": "stream",
     "text": [
      "(100, 224, 224, 3)\n",
      "45 res3a_branch2c\n",
      "preds (100, 28, 28, 512)\n",
      "(100, 401408)\n"
     ]
    },
    {
     "name": "stderr",
     "output_type": "stream",
     "text": [
      " 13%|████████████▍                                                                                   | 13/100 [00:00<00:00, 120.69it/s]"
     ]
    },
    {
     "name": "stdout",
     "output_type": "stream",
     "text": [
      "             PC1           PC2  target\n",
      "0   1.354790e-08 -2.991455e-10       3\n",
      "1   1.354791e-08 -2.991418e-10       8\n",
      "2   1.354791e-08 -2.991410e-10       8\n",
      "3   1.354791e-08 -2.991410e-10       0\n",
      "4   1.354791e-08 -2.991410e-10       6\n",
      "..           ...           ...     ...\n",
      "95  1.354791e-08 -2.991410e-10       6\n",
      "96  1.355283e-08  7.176774e-09       6\n",
      "97  1.355283e-08  7.176774e-09       0\n",
      "98  1.355283e-08  7.176774e-09       0\n",
      "99  1.355283e-08  7.176774e-09       7\n",
      "\n",
      "[100 rows x 3 columns]\n",
      "(100, 224, 224, 3)\n"
     ]
    },
    {
     "name": "stderr",
     "output_type": "stream",
     "text": [
      "100%|███████████████████████████████████████████████████████████████████████████████████████████████| 100/100 [00:00<00:00, 117.60it/s]\n",
      "C:\\Users\\benza-ord\\anaconda3\\envs\\keras-gpu\\lib\\site-packages\\ipykernel_launcher.py:47: UserWarning: Update your `Model` call to the Keras 2 API: `Model(inputs=[<tf.Tenso..., outputs=Tensor(\"re...)`\n"
     ]
    },
    {
     "name": "stdout",
     "output_type": "stream",
     "text": [
      "(100, 224, 224, 3)\n",
      "45 res3a_branch2c\n",
      "preds (100, 28, 28, 512)\n",
      "(100, 401408)\n"
     ]
    },
    {
     "name": "stderr",
     "output_type": "stream",
     "text": [
      " 13%|████████████▍                                                                                   | 13/100 [00:00<00:00, 122.47it/s]"
     ]
    },
    {
     "name": "stdout",
     "output_type": "stream",
     "text": [
      "             PC1           PC2  target\n",
      "0   1.354790e-08 -2.991458e-10       3\n",
      "1   1.354791e-08 -2.991403e-10       8\n",
      "2   1.354791e-08 -2.991410e-10       8\n",
      "3   1.354791e-08 -2.991410e-10       0\n",
      "4   1.354791e-08 -2.991410e-10       6\n",
      "..           ...           ...     ...\n",
      "95  1.354791e-08 -2.991410e-10       6\n",
      "96  1.355283e-08  7.176778e-09       6\n",
      "97  1.355283e-08  7.176778e-09       0\n",
      "98  1.355283e-08  7.176778e-09       0\n",
      "99  1.355283e-08  7.176778e-09       7\n",
      "\n",
      "[100 rows x 3 columns]\n",
      "(100, 224, 224, 3)\n"
     ]
    },
    {
     "name": "stderr",
     "output_type": "stream",
     "text": [
      "100%|███████████████████████████████████████████████████████████████████████████████████████████████| 100/100 [00:00<00:00, 116.62it/s]\n",
      "C:\\Users\\benza-ord\\anaconda3\\envs\\keras-gpu\\lib\\site-packages\\ipykernel_launcher.py:47: UserWarning: Update your `Model` call to the Keras 2 API: `Model(inputs=[<tf.Tenso..., outputs=Tensor(\"re...)`\n"
     ]
    },
    {
     "name": "stdout",
     "output_type": "stream",
     "text": [
      "(100, 224, 224, 3)\n",
      "45 res3a_branch2c\n",
      "preds (100, 28, 28, 512)\n",
      "(100, 401408)\n"
     ]
    },
    {
     "name": "stderr",
     "output_type": "stream",
     "text": [
      " 13%|████████████▍                                                                                   | 13/100 [00:00<00:00, 120.51it/s]"
     ]
    },
    {
     "name": "stdout",
     "output_type": "stream",
     "text": [
      "             PC1           PC2  target\n",
      "0   1.354790e-08 -2.991452e-10       3\n",
      "1   1.354791e-08 -2.991418e-10       8\n",
      "2   1.354791e-08 -2.991410e-10       8\n",
      "3   1.354791e-08 -2.991410e-10       0\n",
      "4   1.354791e-08 -2.991410e-10       6\n",
      "..           ...           ...     ...\n",
      "95  1.354791e-08 -2.991410e-10       6\n",
      "96  1.355283e-08  7.176773e-09       6\n",
      "97  1.355283e-08  7.176773e-09       0\n",
      "98  1.355283e-08  7.176773e-09       0\n",
      "99  1.355283e-08  7.176773e-09       7\n",
      "\n",
      "[100 rows x 3 columns]\n",
      "(100, 224, 224, 3)\n"
     ]
    },
    {
     "name": "stderr",
     "output_type": "stream",
     "text": [
      "100%|███████████████████████████████████████████████████████████████████████████████████████████████| 100/100 [00:00<00:00, 116.20it/s]\n",
      "C:\\Users\\benza-ord\\anaconda3\\envs\\keras-gpu\\lib\\site-packages\\ipykernel_launcher.py:47: UserWarning: Update your `Model` call to the Keras 2 API: `Model(inputs=[<tf.Tenso..., outputs=Tensor(\"re...)`\n"
     ]
    },
    {
     "name": "stdout",
     "output_type": "stream",
     "text": [
      "(100, 224, 224, 3)\n",
      "45 res3a_branch2c\n",
      "preds (100, 28, 28, 512)\n",
      "(100, 401408)\n"
     ]
    },
    {
     "name": "stderr",
     "output_type": "stream",
     "text": [
      " 12%|███████████▌                                                                                    | 12/100 [00:00<00:00, 113.51it/s]"
     ]
    },
    {
     "name": "stdout",
     "output_type": "stream",
     "text": [
      "             PC1           PC2  target\n",
      "0   1.354790e-08 -2.991442e-10       3\n",
      "1   1.354791e-08 -2.991418e-10       8\n",
      "2   1.354791e-08 -2.991410e-10       8\n",
      "3   1.354791e-08 -2.991410e-10       0\n",
      "4   1.354791e-08 -2.991410e-10       6\n",
      "..           ...           ...     ...\n",
      "95  1.354791e-08 -2.991410e-10       6\n",
      "96  1.355283e-08  7.176774e-09       6\n",
      "97  1.355283e-08  7.176774e-09       0\n",
      "98  1.355283e-08  7.176774e-09       0\n",
      "99  1.355283e-08  7.176774e-09       7\n",
      "\n",
      "[100 rows x 3 columns]\n",
      "(100, 224, 224, 3)\n"
     ]
    },
    {
     "name": "stderr",
     "output_type": "stream",
     "text": [
      "100%|███████████████████████████████████████████████████████████████████████████████████████████████| 100/100 [00:00<00:00, 114.59it/s]\n",
      "C:\\Users\\benza-ord\\anaconda3\\envs\\keras-gpu\\lib\\site-packages\\ipykernel_launcher.py:47: UserWarning: Update your `Model` call to the Keras 2 API: `Model(inputs=[<tf.Tenso..., outputs=Tensor(\"re...)`\n"
     ]
    },
    {
     "name": "stdout",
     "output_type": "stream",
     "text": [
      "(100, 224, 224, 3)\n",
      "45 res3a_branch2c\n",
      "preds (100, 28, 28, 512)\n",
      "(100, 401408)\n"
     ]
    },
    {
     "name": "stderr",
     "output_type": "stream",
     "text": [
      " 12%|███████████▌                                                                                    | 12/100 [00:00<00:00, 114.59it/s]"
     ]
    },
    {
     "name": "stdout",
     "output_type": "stream",
     "text": [
      "             PC1           PC2  target\n",
      "0   1.354790e-08 -2.991459e-10       3\n",
      "1   1.354791e-08 -2.991401e-10       8\n",
      "2   1.354791e-08 -2.991409e-10       8\n",
      "3   1.354791e-08 -2.991409e-10       0\n",
      "4   1.354791e-08 -2.991409e-10       6\n",
      "..           ...           ...     ...\n",
      "95  1.354791e-08 -2.991409e-10       6\n",
      "96  1.355283e-08  7.176773e-09       6\n",
      "97  1.355283e-08  7.176773e-09       0\n",
      "98  1.355283e-08  7.176773e-09       0\n",
      "99  1.355283e-08  7.176773e-09       7\n",
      "\n",
      "[100 rows x 3 columns]\n",
      "(100, 224, 224, 3)\n"
     ]
    },
    {
     "name": "stderr",
     "output_type": "stream",
     "text": [
      "100%|███████████████████████████████████████████████████████████████████████████████████████████████| 100/100 [00:00<00:00, 115.01it/s]\n",
      "C:\\Users\\benza-ord\\anaconda3\\envs\\keras-gpu\\lib\\site-packages\\ipykernel_launcher.py:47: UserWarning: Update your `Model` call to the Keras 2 API: `Model(inputs=[<tf.Tenso..., outputs=Tensor(\"re...)`\n"
     ]
    },
    {
     "name": "stdout",
     "output_type": "stream",
     "text": [
      "(100, 224, 224, 3)\n",
      "46 res3a_branch1\n",
      "preds (100, 28, 28, 512)\n",
      "(100, 401408)\n"
     ]
    },
    {
     "name": "stderr",
     "output_type": "stream",
     "text": [
      "C:\\Users\\benza-ord\\anaconda3\\envs\\keras-gpu\\lib\\site-packages\\sklearn\\decomposition\\_pca.py:555: RuntimeWarning: divide by zero encountered in true_divide\n",
      "  self.explained_variance_ / total_var.sum()\n",
      " 13%|████████████▍                                                                                   | 13/100 [00:00<00:00, 121.34it/s]"
     ]
    },
    {
     "name": "stdout",
     "output_type": "stream",
     "text": [
      "             PC1           PC2  target\n",
      "0   1.375339e-08 -8.504663e-19       3\n",
      "1   1.375340e-08 -7.791557e-19       8\n",
      "2   1.375340e-08 -7.791480e-19       8\n",
      "3   1.375340e-08 -7.791481e-19       0\n",
      "4   1.375340e-08 -7.791481e-19       6\n",
      "..           ...           ...     ...\n",
      "95  1.375340e-08 -7.791481e-19       6\n",
      "96  1.375340e-08  1.871739e-17       6\n",
      "97  1.375340e-08  1.871739e-17       0\n",
      "98  1.375340e-08  1.871739e-17       0\n",
      "99  1.375340e-08  1.871739e-17       7\n",
      "\n",
      "[100 rows x 3 columns]\n",
      "(100, 224, 224, 3)\n"
     ]
    },
    {
     "name": "stderr",
     "output_type": "stream",
     "text": [
      "100%|███████████████████████████████████████████████████████████████████████████████████████████████| 100/100 [00:00<00:00, 113.71it/s]\n",
      "C:\\Users\\benza-ord\\anaconda3\\envs\\keras-gpu\\lib\\site-packages\\ipykernel_launcher.py:47: UserWarning: Update your `Model` call to the Keras 2 API: `Model(inputs=[<tf.Tenso..., outputs=Tensor(\"re...)`\n"
     ]
    },
    {
     "name": "stdout",
     "output_type": "stream",
     "text": [
      "(100, 224, 224, 3)\n",
      "46 res3a_branch1\n",
      "preds (100, 28, 28, 512)\n",
      "(100, 401408)\n"
     ]
    },
    {
     "name": "stderr",
     "output_type": "stream",
     "text": [
      "C:\\Users\\benza-ord\\anaconda3\\envs\\keras-gpu\\lib\\site-packages\\sklearn\\decomposition\\_pca.py:555: RuntimeWarning: divide by zero encountered in true_divide\n",
      "  self.explained_variance_ / total_var.sum()\n",
      " 12%|███████████▌                                                                                    | 12/100 [00:00<00:00, 111.15it/s]"
     ]
    },
    {
     "name": "stdout",
     "output_type": "stream",
     "text": [
      "             PC1           PC2  target\n",
      "0   1.375339e-08 -8.504663e-19       3\n",
      "1   1.375340e-08 -7.791557e-19       8\n",
      "2   1.375340e-08 -7.791480e-19       8\n",
      "3   1.375340e-08 -7.791481e-19       0\n",
      "4   1.375340e-08 -7.791481e-19       6\n",
      "..           ...           ...     ...\n",
      "95  1.375340e-08 -7.791481e-19       6\n",
      "96  1.375340e-08  1.871739e-17       6\n",
      "97  1.375340e-08  1.871739e-17       0\n",
      "98  1.375340e-08  1.871739e-17       0\n",
      "99  1.375340e-08  1.871739e-17       7\n",
      "\n",
      "[100 rows x 3 columns]\n",
      "(100, 224, 224, 3)\n"
     ]
    },
    {
     "name": "stderr",
     "output_type": "stream",
     "text": [
      "100%|███████████████████████████████████████████████████████████████████████████████████████████████| 100/100 [00:00<00:00, 114.75it/s]\n",
      "C:\\Users\\benza-ord\\anaconda3\\envs\\keras-gpu\\lib\\site-packages\\ipykernel_launcher.py:47: UserWarning: Update your `Model` call to the Keras 2 API: `Model(inputs=[<tf.Tenso..., outputs=Tensor(\"re...)`\n"
     ]
    },
    {
     "name": "stdout",
     "output_type": "stream",
     "text": [
      "(100, 224, 224, 3)\n",
      "46 res3a_branch1\n",
      "preds (100, 28, 28, 512)\n",
      "(100, 401408)\n"
     ]
    },
    {
     "name": "stderr",
     "output_type": "stream",
     "text": [
      "C:\\Users\\benza-ord\\anaconda3\\envs\\keras-gpu\\lib\\site-packages\\sklearn\\decomposition\\_pca.py:555: RuntimeWarning: divide by zero encountered in true_divide\n",
      "  self.explained_variance_ / total_var.sum()\n",
      " 12%|███████████▌                                                                                    | 12/100 [00:00<00:00, 118.42it/s]"
     ]
    },
    {
     "name": "stdout",
     "output_type": "stream",
     "text": [
      "             PC1           PC2  target\n",
      "0   1.375339e-08 -8.504663e-19       3\n",
      "1   1.375340e-08 -7.791557e-19       8\n",
      "2   1.375340e-08 -7.791480e-19       8\n",
      "3   1.375340e-08 -7.791481e-19       0\n",
      "4   1.375340e-08 -7.791481e-19       6\n",
      "..           ...           ...     ...\n",
      "95  1.375340e-08 -7.791481e-19       6\n",
      "96  1.375340e-08  1.871739e-17       6\n",
      "97  1.375340e-08  1.871739e-17       0\n",
      "98  1.375340e-08  1.871739e-17       0\n",
      "99  1.375340e-08  1.871739e-17       7\n",
      "\n",
      "[100 rows x 3 columns]\n",
      "(100, 224, 224, 3)\n"
     ]
    },
    {
     "name": "stderr",
     "output_type": "stream",
     "text": [
      "100%|███████████████████████████████████████████████████████████████████████████████████████████████| 100/100 [00:00<00:00, 116.79it/s]\n",
      "C:\\Users\\benza-ord\\anaconda3\\envs\\keras-gpu\\lib\\site-packages\\ipykernel_launcher.py:47: UserWarning: Update your `Model` call to the Keras 2 API: `Model(inputs=[<tf.Tenso..., outputs=Tensor(\"re...)`\n"
     ]
    },
    {
     "name": "stdout",
     "output_type": "stream",
     "text": [
      "(100, 224, 224, 3)\n",
      "46 res3a_branch1\n",
      "preds (100, 28, 28, 512)\n",
      "(100, 401408)\n"
     ]
    },
    {
     "name": "stderr",
     "output_type": "stream",
     "text": [
      "C:\\Users\\benza-ord\\anaconda3\\envs\\keras-gpu\\lib\\site-packages\\sklearn\\decomposition\\_pca.py:555: RuntimeWarning: divide by zero encountered in true_divide\n",
      "  self.explained_variance_ / total_var.sum()\n",
      " 12%|███████████▌                                                                                    | 12/100 [00:00<00:00, 116.40it/s]"
     ]
    },
    {
     "name": "stdout",
     "output_type": "stream",
     "text": [
      "             PC1           PC2  target\n",
      "0   1.375339e-08 -8.504663e-19       3\n",
      "1   1.375340e-08 -7.791557e-19       8\n",
      "2   1.375340e-08 -7.791480e-19       8\n",
      "3   1.375340e-08 -7.791481e-19       0\n",
      "4   1.375340e-08 -7.791481e-19       6\n",
      "..           ...           ...     ...\n",
      "95  1.375340e-08 -7.791481e-19       6\n",
      "96  1.375340e-08  1.871739e-17       6\n",
      "97  1.375340e-08  1.871739e-17       0\n",
      "98  1.375340e-08  1.871739e-17       0\n",
      "99  1.375340e-08  1.871739e-17       7\n",
      "\n",
      "[100 rows x 3 columns]\n",
      "(100, 224, 224, 3)\n"
     ]
    },
    {
     "name": "stderr",
     "output_type": "stream",
     "text": [
      "100%|███████████████████████████████████████████████████████████████████████████████████████████████| 100/100 [00:00<00:00, 113.39it/s]\n",
      "C:\\Users\\benza-ord\\anaconda3\\envs\\keras-gpu\\lib\\site-packages\\ipykernel_launcher.py:47: UserWarning: Update your `Model` call to the Keras 2 API: `Model(inputs=[<tf.Tenso..., outputs=Tensor(\"re...)`\n"
     ]
    },
    {
     "name": "stdout",
     "output_type": "stream",
     "text": [
      "(100, 224, 224, 3)\n",
      "46 res3a_branch1\n",
      "preds (100, 28, 28, 512)\n",
      "(100, 401408)\n"
     ]
    },
    {
     "name": "stderr",
     "output_type": "stream",
     "text": [
      "C:\\Users\\benza-ord\\anaconda3\\envs\\keras-gpu\\lib\\site-packages\\sklearn\\decomposition\\_pca.py:555: RuntimeWarning: divide by zero encountered in true_divide\n",
      "  self.explained_variance_ / total_var.sum()\n",
      " 13%|████████████▍                                                                                   | 13/100 [00:00<00:00, 121.58it/s]"
     ]
    },
    {
     "name": "stdout",
     "output_type": "stream",
     "text": [
      "             PC1           PC2  target\n",
      "0   1.375339e-08 -8.504663e-19       3\n",
      "1   1.375340e-08 -7.791557e-19       8\n",
      "2   1.375340e-08 -7.791480e-19       8\n",
      "3   1.375340e-08 -7.791481e-19       0\n",
      "4   1.375340e-08 -7.791481e-19       6\n",
      "..           ...           ...     ...\n",
      "95  1.375340e-08 -7.791481e-19       6\n",
      "96  1.375340e-08  1.871739e-17       6\n",
      "97  1.375340e-08  1.871739e-17       0\n",
      "98  1.375340e-08  1.871739e-17       0\n",
      "99  1.375340e-08  1.871739e-17       7\n",
      "\n",
      "[100 rows x 3 columns]\n",
      "(100, 224, 224, 3)\n"
     ]
    },
    {
     "name": "stderr",
     "output_type": "stream",
     "text": [
      "100%|███████████████████████████████████████████████████████████████████████████████████████████████| 100/100 [00:00<00:00, 117.25it/s]\n",
      "C:\\Users\\benza-ord\\anaconda3\\envs\\keras-gpu\\lib\\site-packages\\ipykernel_launcher.py:47: UserWarning: Update your `Model` call to the Keras 2 API: `Model(inputs=[<tf.Tenso..., outputs=Tensor(\"re...)`\n"
     ]
    },
    {
     "name": "stdout",
     "output_type": "stream",
     "text": [
      "(100, 224, 224, 3)\n",
      "46 res3a_branch1\n",
      "preds (100, 28, 28, 512)\n",
      "(100, 401408)\n"
     ]
    },
    {
     "name": "stderr",
     "output_type": "stream",
     "text": [
      "C:\\Users\\benza-ord\\anaconda3\\envs\\keras-gpu\\lib\\site-packages\\sklearn\\decomposition\\_pca.py:555: RuntimeWarning: divide by zero encountered in true_divide\n",
      "  self.explained_variance_ / total_var.sum()\n",
      " 12%|███████████▌                                                                                    | 12/100 [00:00<00:00, 119.40it/s]"
     ]
    },
    {
     "name": "stdout",
     "output_type": "stream",
     "text": [
      "             PC1           PC2  target\n",
      "0   1.375339e-08 -8.504663e-19       3\n",
      "1   1.375340e-08 -7.791557e-19       8\n",
      "2   1.375340e-08 -7.791480e-19       8\n",
      "3   1.375340e-08 -7.791481e-19       0\n",
      "4   1.375340e-08 -7.791481e-19       6\n",
      "..           ...           ...     ...\n",
      "95  1.375340e-08 -7.791481e-19       6\n",
      "96  1.375340e-08  1.871739e-17       6\n",
      "97  1.375340e-08  1.871739e-17       0\n",
      "98  1.375340e-08  1.871739e-17       0\n",
      "99  1.375340e-08  1.871739e-17       7\n",
      "\n",
      "[100 rows x 3 columns]\n",
      "(100, 224, 224, 3)\n"
     ]
    },
    {
     "name": "stderr",
     "output_type": "stream",
     "text": [
      "100%|███████████████████████████████████████████████████████████████████████████████████████████████| 100/100 [00:00<00:00, 116.36it/s]\n",
      "C:\\Users\\benza-ord\\anaconda3\\envs\\keras-gpu\\lib\\site-packages\\ipykernel_launcher.py:47: UserWarning: Update your `Model` call to the Keras 2 API: `Model(inputs=[<tf.Tenso..., outputs=Tensor(\"re...)`\n"
     ]
    },
    {
     "name": "stdout",
     "output_type": "stream",
     "text": [
      "(100, 224, 224, 3)\n",
      "46 res3a_branch1\n",
      "preds (100, 28, 28, 512)\n",
      "(100, 401408)\n"
     ]
    },
    {
     "name": "stderr",
     "output_type": "stream",
     "text": [
      "C:\\Users\\benza-ord\\anaconda3\\envs\\keras-gpu\\lib\\site-packages\\sklearn\\decomposition\\_pca.py:555: RuntimeWarning: divide by zero encountered in true_divide\n",
      "  self.explained_variance_ / total_var.sum()\n",
      " 12%|███████████▌                                                                                    | 12/100 [00:00<00:00, 119.71it/s]"
     ]
    },
    {
     "name": "stdout",
     "output_type": "stream",
     "text": [
      "             PC1           PC2  target\n",
      "0   1.375339e-08 -8.504663e-19       3\n",
      "1   1.375340e-08 -7.791557e-19       8\n",
      "2   1.375340e-08 -7.791480e-19       8\n",
      "3   1.375340e-08 -7.791481e-19       0\n",
      "4   1.375340e-08 -7.791481e-19       6\n",
      "..           ...           ...     ...\n",
      "95  1.375340e-08 -7.791481e-19       6\n",
      "96  1.375340e-08  1.871739e-17       6\n",
      "97  1.375340e-08  1.871739e-17       0\n",
      "98  1.375340e-08  1.871739e-17       0\n",
      "99  1.375340e-08  1.871739e-17       7\n",
      "\n",
      "[100 rows x 3 columns]\n",
      "(100, 224, 224, 3)\n"
     ]
    },
    {
     "name": "stderr",
     "output_type": "stream",
     "text": [
      "100%|███████████████████████████████████████████████████████████████████████████████████████████████| 100/100 [00:00<00:00, 112.88it/s]\n",
      "C:\\Users\\benza-ord\\anaconda3\\envs\\keras-gpu\\lib\\site-packages\\ipykernel_launcher.py:47: UserWarning: Update your `Model` call to the Keras 2 API: `Model(inputs=[<tf.Tenso..., outputs=Tensor(\"re...)`\n"
     ]
    },
    {
     "name": "stdout",
     "output_type": "stream",
     "text": [
      "(100, 224, 224, 3)\n",
      "46 res3a_branch1\n",
      "preds (100, 28, 28, 512)\n",
      "(100, 401408)\n"
     ]
    },
    {
     "name": "stderr",
     "output_type": "stream",
     "text": [
      "C:\\Users\\benza-ord\\anaconda3\\envs\\keras-gpu\\lib\\site-packages\\sklearn\\decomposition\\_pca.py:555: RuntimeWarning: divide by zero encountered in true_divide\n",
      "  self.explained_variance_ / total_var.sum()\n",
      " 12%|███████████▌                                                                                    | 12/100 [00:00<00:00, 110.37it/s]"
     ]
    },
    {
     "name": "stdout",
     "output_type": "stream",
     "text": [
      "             PC1           PC2  target\n",
      "0   1.375339e-08 -8.504663e-19       3\n",
      "1   1.375340e-08 -7.791557e-19       8\n",
      "2   1.375340e-08 -7.791480e-19       8\n",
      "3   1.375340e-08 -7.791481e-19       0\n",
      "4   1.375340e-08 -7.791481e-19       6\n",
      "..           ...           ...     ...\n",
      "95  1.375340e-08 -7.791481e-19       6\n",
      "96  1.375340e-08  1.871739e-17       6\n",
      "97  1.375340e-08  1.871739e-17       0\n",
      "98  1.375340e-08  1.871739e-17       0\n",
      "99  1.375340e-08  1.871739e-17       7\n",
      "\n",
      "[100 rows x 3 columns]\n",
      "(100, 224, 224, 3)\n"
     ]
    },
    {
     "name": "stderr",
     "output_type": "stream",
     "text": [
      "100%|███████████████████████████████████████████████████████████████████████████████████████████████| 100/100 [00:00<00:00, 115.08it/s]\n",
      "C:\\Users\\benza-ord\\anaconda3\\envs\\keras-gpu\\lib\\site-packages\\ipykernel_launcher.py:47: UserWarning: Update your `Model` call to the Keras 2 API: `Model(inputs=[<tf.Tenso..., outputs=Tensor(\"re...)`\n"
     ]
    },
    {
     "name": "stdout",
     "output_type": "stream",
     "text": [
      "(100, 224, 224, 3)\n",
      "46 res3a_branch1\n",
      "preds (100, 28, 28, 512)\n",
      "(100, 401408)\n"
     ]
    },
    {
     "name": "stderr",
     "output_type": "stream",
     "text": [
      "C:\\Users\\benza-ord\\anaconda3\\envs\\keras-gpu\\lib\\site-packages\\sklearn\\decomposition\\_pca.py:555: RuntimeWarning: divide by zero encountered in true_divide\n",
      "  self.explained_variance_ / total_var.sum()\n",
      " 12%|███████████▌                                                                                    | 12/100 [00:00<00:00, 119.71it/s]"
     ]
    },
    {
     "name": "stdout",
     "output_type": "stream",
     "text": [
      "             PC1           PC2  target\n",
      "0   1.375339e-08 -8.504663e-19       3\n",
      "1   1.375340e-08 -7.791557e-19       8\n",
      "2   1.375340e-08 -7.791480e-19       8\n",
      "3   1.375340e-08 -7.791481e-19       0\n",
      "4   1.375340e-08 -7.791481e-19       6\n",
      "..           ...           ...     ...\n",
      "95  1.375340e-08 -7.791481e-19       6\n",
      "96  1.375340e-08  1.871739e-17       6\n",
      "97  1.375340e-08  1.871739e-17       0\n",
      "98  1.375340e-08  1.871739e-17       0\n",
      "99  1.375340e-08  1.871739e-17       7\n",
      "\n",
      "[100 rows x 3 columns]\n",
      "(100, 224, 224, 3)\n"
     ]
    },
    {
     "name": "stderr",
     "output_type": "stream",
     "text": [
      "100%|███████████████████████████████████████████████████████████████████████████████████████████████| 100/100 [00:00<00:00, 105.93it/s]\n",
      "C:\\Users\\benza-ord\\anaconda3\\envs\\keras-gpu\\lib\\site-packages\\ipykernel_launcher.py:47: UserWarning: Update your `Model` call to the Keras 2 API: `Model(inputs=[<tf.Tenso..., outputs=Tensor(\"re...)`\n"
     ]
    },
    {
     "name": "stdout",
     "output_type": "stream",
     "text": [
      "(100, 224, 224, 3)\n",
      "46 res3a_branch1\n",
      "preds (100, 28, 28, 512)\n",
      "(100, 401408)\n"
     ]
    },
    {
     "name": "stderr",
     "output_type": "stream",
     "text": [
      "C:\\Users\\benza-ord\\anaconda3\\envs\\keras-gpu\\lib\\site-packages\\sklearn\\decomposition\\_pca.py:555: RuntimeWarning: divide by zero encountered in true_divide\n",
      "  self.explained_variance_ / total_var.sum()\n",
      " 11%|██████████▌                                                                                     | 11/100 [00:00<00:00, 101.32it/s]"
     ]
    },
    {
     "name": "stdout",
     "output_type": "stream",
     "text": [
      "             PC1           PC2  target\n",
      "0   1.375339e-08 -8.504663e-19       3\n",
      "1   1.375340e-08 -7.791557e-19       8\n",
      "2   1.375340e-08 -7.791480e-19       8\n",
      "3   1.375340e-08 -7.791481e-19       0\n",
      "4   1.375340e-08 -7.791481e-19       6\n",
      "..           ...           ...     ...\n",
      "95  1.375340e-08 -7.791481e-19       6\n",
      "96  1.375340e-08  1.871739e-17       6\n",
      "97  1.375340e-08  1.871739e-17       0\n",
      "98  1.375340e-08  1.871739e-17       0\n",
      "99  1.375340e-08  1.871739e-17       7\n",
      "\n",
      "[100 rows x 3 columns]\n",
      "(100, 224, 224, 3)\n"
     ]
    },
    {
     "name": "stderr",
     "output_type": "stream",
     "text": [
      "100%|███████████████████████████████████████████████████████████████████████████████████████████████| 100/100 [00:00<00:00, 111.97it/s]\n",
      "C:\\Users\\benza-ord\\anaconda3\\envs\\keras-gpu\\lib\\site-packages\\ipykernel_launcher.py:47: UserWarning: Update your `Model` call to the Keras 2 API: `Model(inputs=[<tf.Tenso..., outputs=Tensor(\"re...)`\n"
     ]
    },
    {
     "name": "stdout",
     "output_type": "stream",
     "text": [
      "(100, 224, 224, 3)\n",
      "51 res3b_branch2a\n",
      "preds (100, 28, 28, 128)\n",
      "(100, 100352)\n",
      "             PC1           PC2  target\n",
      "0   9.702974e-09 -2.120544e-10       3\n",
      "1   9.702977e-09 -2.120509e-10       8\n",
      "2   9.702977e-09 -2.120514e-10       8\n",
      "3   9.702977e-09 -2.120514e-10       0\n",
      "4   9.702977e-09 -2.120514e-10       6\n",
      "..           ...           ...     ...\n",
      "95  9.702977e-09 -2.120514e-10       6\n",
      "96  9.732298e-09  5.073901e-09       6\n",
      "97  9.732298e-09  5.073901e-09       0\n",
      "98  9.732298e-09  5.073901e-09       0\n",
      "99  9.732298e-09  5.073901e-09       7\n",
      "\n",
      "[100 rows x 3 columns]\n"
     ]
    },
    {
     "name": "stderr",
     "output_type": "stream",
     "text": [
      " 13%|████████████▍                                                                                   | 13/100 [00:00<00:00, 121.62it/s]"
     ]
    },
    {
     "name": "stdout",
     "output_type": "stream",
     "text": [
      "(100, 224, 224, 3)\n"
     ]
    },
    {
     "name": "stderr",
     "output_type": "stream",
     "text": [
      "100%|███████████████████████████████████████████████████████████████████████████████████████████████| 100/100 [00:00<00:00, 117.12it/s]\n",
      "C:\\Users\\benza-ord\\anaconda3\\envs\\keras-gpu\\lib\\site-packages\\ipykernel_launcher.py:47: UserWarning: Update your `Model` call to the Keras 2 API: `Model(inputs=[<tf.Tenso..., outputs=Tensor(\"re...)`\n"
     ]
    },
    {
     "name": "stdout",
     "output_type": "stream",
     "text": [
      "(100, 224, 224, 3)\n",
      "51 res3b_branch2a\n",
      "preds (100, 28, 28, 128)\n",
      "(100, 100352)\n"
     ]
    },
    {
     "name": "stderr",
     "output_type": "stream",
     "text": [
      " 13%|████████████▍                                                                                   | 13/100 [00:00<00:00, 121.82it/s]"
     ]
    },
    {
     "name": "stdout",
     "output_type": "stream",
     "text": [
      "             PC1           PC2  target\n",
      "0   9.702974e-09 -2.120501e-10       3\n",
      "1   9.702977e-09 -2.120522e-10       8\n",
      "2   9.702977e-09 -2.120515e-10       8\n",
      "3   9.702977e-09 -2.120515e-10       0\n",
      "4   9.702977e-09 -2.120515e-10       6\n",
      "..           ...           ...     ...\n",
      "95  9.702977e-09 -2.120515e-10       6\n",
      "96  9.732299e-09  5.073904e-09       6\n",
      "97  9.732299e-09  5.073904e-09       0\n",
      "98  9.732299e-09  5.073904e-09       0\n",
      "99  9.732299e-09  5.073904e-09       7\n",
      "\n",
      "[100 rows x 3 columns]\n",
      "(100, 224, 224, 3)\n"
     ]
    },
    {
     "name": "stderr",
     "output_type": "stream",
     "text": [
      "100%|███████████████████████████████████████████████████████████████████████████████████████████████| 100/100 [00:00<00:00, 112.93it/s]\n",
      "C:\\Users\\benza-ord\\anaconda3\\envs\\keras-gpu\\lib\\site-packages\\ipykernel_launcher.py:47: UserWarning: Update your `Model` call to the Keras 2 API: `Model(inputs=[<tf.Tenso..., outputs=Tensor(\"re...)`\n"
     ]
    },
    {
     "name": "stdout",
     "output_type": "stream",
     "text": [
      "(100, 224, 224, 3)\n",
      "51 res3b_branch2a\n",
      "preds (100, 28, 28, 128)\n",
      "(100, 100352)\n",
      "             PC1           PC2  target\n",
      "0   9.702974e-09 -2.120493e-10       3\n",
      "1   9.702977e-09 -2.120546e-10       8\n",
      "2   9.702977e-09 -2.120513e-10       8\n",
      "3   9.702977e-09 -2.120513e-10       0\n",
      "4   9.702977e-09 -2.120513e-10       6\n",
      "..           ...           ...     ...\n",
      "95  9.702977e-09 -2.120513e-10       6\n",
      "96  9.732298e-09  5.073902e-09       6\n",
      "97  9.732298e-09  5.073902e-09       0\n",
      "98  9.732298e-09  5.073902e-09       0\n",
      "99  9.732298e-09  5.073902e-09       7\n",
      "\n",
      "[100 rows x 3 columns]"
     ]
    },
    {
     "name": "stderr",
     "output_type": "stream",
     "text": [
      " 12%|███████████▌                                                                                    | 12/100 [00:00<00:00, 119.13it/s]"
     ]
    },
    {
     "name": "stdout",
     "output_type": "stream",
     "text": [
      "\n",
      "(100, 224, 224, 3)\n"
     ]
    },
    {
     "name": "stderr",
     "output_type": "stream",
     "text": [
      "100%|███████████████████████████████████████████████████████████████████████████████████████████████| 100/100 [00:00<00:00, 118.15it/s]\n",
      "C:\\Users\\benza-ord\\anaconda3\\envs\\keras-gpu\\lib\\site-packages\\ipykernel_launcher.py:47: UserWarning: Update your `Model` call to the Keras 2 API: `Model(inputs=[<tf.Tenso..., outputs=Tensor(\"re...)`\n"
     ]
    },
    {
     "name": "stdout",
     "output_type": "stream",
     "text": [
      "(100, 224, 224, 3)\n",
      "51 res3b_branch2a\n",
      "preds (100, 28, 28, 128)\n",
      "(100, 100352)\n",
      "             PC1           PC2  target\n",
      "0   9.702974e-09 -2.120490e-10       3\n",
      "1   9.702977e-09 -2.120521e-10       8\n",
      "2   9.702977e-09 -2.120514e-10       8\n",
      "3   9.702977e-09 -2.120514e-10       0\n",
      "4   9.702977e-09 -2.120514e-10       6\n",
      "..           ...           ...     ...\n",
      "95  9.702977e-09 -2.120514e-10       6\n",
      "96  9.732298e-09  5.073900e-09       6\n",
      "97  9.732298e-09  5.073900e-09       0\n",
      "98  9.732298e-09  5.073900e-09       0\n",
      "99  9.732298e-09  5.073900e-09       7\n",
      "\n",
      "[100 rows x 3 columns]"
     ]
    },
    {
     "name": "stderr",
     "output_type": "stream",
     "text": [
      " 13%|████████████▍                                                                                   | 13/100 [00:00<00:00, 122.97it/s]"
     ]
    },
    {
     "name": "stdout",
     "output_type": "stream",
     "text": [
      "\n",
      "(100, 224, 224, 3)\n"
     ]
    },
    {
     "name": "stderr",
     "output_type": "stream",
     "text": [
      "100%|███████████████████████████████████████████████████████████████████████████████████████████████| 100/100 [00:00<00:00, 117.75it/s]\n",
      "C:\\Users\\benza-ord\\anaconda3\\envs\\keras-gpu\\lib\\site-packages\\ipykernel_launcher.py:47: UserWarning: Update your `Model` call to the Keras 2 API: `Model(inputs=[<tf.Tenso..., outputs=Tensor(\"re...)`\n"
     ]
    },
    {
     "name": "stdout",
     "output_type": "stream",
     "text": [
      "(100, 224, 224, 3)\n",
      "51 res3b_branch2a\n",
      "preds (100, 28, 28, 128)\n",
      "(100, 100352)\n",
      "             PC1           PC2  target\n",
      "0   9.702974e-09 -2.120501e-10       3\n",
      "1   9.702977e-09 -2.120522e-10       8\n",
      "2   9.702977e-09 -2.120515e-10       8\n",
      "3   9.702977e-09 -2.120515e-10       0\n",
      "4   9.702977e-09 -2.120515e-10       6\n",
      "..           ...           ...     ...\n",
      "95  9.702977e-09 -2.120515e-10       6\n",
      "96  9.732299e-09  5.073903e-09       6\n",
      "97  9.732299e-09  5.073903e-09       0\n",
      "98  9.732299e-09  5.073903e-09       0\n",
      "99  9.732299e-09  5.073903e-09       7\n",
      "\n",
      "[100 rows x 3 columns]\n",
      "(100, 224, 224, 3)"
     ]
    },
    {
     "name": "stderr",
     "output_type": "stream",
     "text": [
      " 13%|████████████▍                                                                                   | 13/100 [00:00<00:00, 120.69it/s]"
     ]
    },
    {
     "name": "stdout",
     "output_type": "stream",
     "text": [
      "\n"
     ]
    },
    {
     "name": "stderr",
     "output_type": "stream",
     "text": [
      "100%|███████████████████████████████████████████████████████████████████████████████████████████████| 100/100 [00:00<00:00, 116.99it/s]\n",
      "C:\\Users\\benza-ord\\anaconda3\\envs\\keras-gpu\\lib\\site-packages\\ipykernel_launcher.py:47: UserWarning: Update your `Model` call to the Keras 2 API: `Model(inputs=[<tf.Tenso..., outputs=Tensor(\"re...)`\n"
     ]
    },
    {
     "name": "stdout",
     "output_type": "stream",
     "text": [
      "(100, 224, 224, 3)\n",
      "51 res3b_branch2a\n",
      "preds (100, 28, 28, 128)\n",
      "(100, 100352)\n",
      "             PC1           PC2  target\n",
      "0   9.702974e-09 -2.120541e-10       3\n",
      "1   9.702977e-09 -2.120509e-10       8\n",
      "2   9.702977e-09 -2.120513e-10       8\n",
      "3   9.702977e-09 -2.120513e-10       0\n",
      "4   9.702977e-09 -2.120513e-10       6\n",
      "..           ...           ...     ...\n",
      "95  9.702977e-09 -2.120513e-10       6\n",
      "96  9.732298e-09  5.073900e-09       6\n",
      "97  9.732298e-09  5.073900e-09       0\n",
      "98  9.732298e-09  5.073900e-09       0\n",
      "99  9.732298e-09  5.073900e-09       7\n",
      "\n",
      "[100 rows x 3 columns]\n",
      "(100, 224, 224, 3)"
     ]
    },
    {
     "name": "stderr",
     "output_type": "stream",
     "text": [
      " 12%|███████████▌                                                                                    | 12/100 [00:00<00:00, 117.96it/s]"
     ]
    },
    {
     "name": "stdout",
     "output_type": "stream",
     "text": [
      "\n"
     ]
    },
    {
     "name": "stderr",
     "output_type": "stream",
     "text": [
      "100%|███████████████████████████████████████████████████████████████████████████████████████████████| 100/100 [00:00<00:00, 114.90it/s]\n",
      "C:\\Users\\benza-ord\\anaconda3\\envs\\keras-gpu\\lib\\site-packages\\ipykernel_launcher.py:47: UserWarning: Update your `Model` call to the Keras 2 API: `Model(inputs=[<tf.Tenso..., outputs=Tensor(\"re...)`\n"
     ]
    },
    {
     "name": "stdout",
     "output_type": "stream",
     "text": [
      "(100, 224, 224, 3)\n",
      "51 res3b_branch2a\n",
      "preds (100, 28, 28, 128)\n",
      "(100, 100352)\n",
      "             PC1           PC2  target\n",
      "0   9.702974e-09 -2.120493e-10       3\n",
      "1   9.702977e-09 -2.120546e-10       8\n",
      "2   9.702977e-09 -2.120513e-10       8\n",
      "3   9.702977e-09 -2.120513e-10       0\n",
      "4   9.702977e-09 -2.120513e-10       6\n",
      "..           ...           ...     ...\n",
      "95  9.702977e-09 -2.120513e-10       6\n",
      "96  9.732298e-09  5.073902e-09       6\n",
      "97  9.732298e-09  5.073902e-09       0\n",
      "98  9.732298e-09  5.073902e-09       0\n",
      "99  9.732298e-09  5.073902e-09       7\n",
      "\n",
      "[100 rows x 3 columns]"
     ]
    },
    {
     "name": "stderr",
     "output_type": "stream",
     "text": [
      " 12%|███████████▌                                                                                    | 12/100 [00:00<00:00, 112.97it/s]"
     ]
    },
    {
     "name": "stdout",
     "output_type": "stream",
     "text": [
      "\n",
      "(100, 224, 224, 3)\n"
     ]
    },
    {
     "name": "stderr",
     "output_type": "stream",
     "text": [
      "100%|███████████████████████████████████████████████████████████████████████████████████████████████| 100/100 [00:00<00:00, 111.70it/s]\n",
      "C:\\Users\\benza-ord\\anaconda3\\envs\\keras-gpu\\lib\\site-packages\\ipykernel_launcher.py:47: UserWarning: Update your `Model` call to the Keras 2 API: `Model(inputs=[<tf.Tenso..., outputs=Tensor(\"re...)`\n"
     ]
    },
    {
     "name": "stdout",
     "output_type": "stream",
     "text": [
      "(100, 224, 224, 3)\n",
      "51 res3b_branch2a\n",
      "preds (100, 28, 28, 128)\n",
      "(100, 100352)\n"
     ]
    },
    {
     "name": "stderr",
     "output_type": "stream",
     "text": [
      " 13%|████████████▍                                                                                   | 13/100 [00:00<00:00, 120.69it/s]"
     ]
    },
    {
     "name": "stdout",
     "output_type": "stream",
     "text": [
      "             PC1           PC2  target\n",
      "0   9.702974e-09 -2.120543e-10       3\n",
      "1   9.702977e-09 -2.120521e-10       8\n",
      "2   9.702977e-09 -2.120515e-10       8\n",
      "3   9.702977e-09 -2.120515e-10       0\n",
      "4   9.702977e-09 -2.120515e-10       6\n",
      "..           ...           ...     ...\n",
      "95  9.702977e-09 -2.120515e-10       6\n",
      "96  9.732299e-09  5.073901e-09       6\n",
      "97  9.732299e-09  5.073901e-09       0\n",
      "98  9.732299e-09  5.073901e-09       0\n",
      "99  9.732299e-09  5.073901e-09       7\n",
      "\n",
      "[100 rows x 3 columns]\n",
      "(100, 224, 224, 3)\n"
     ]
    },
    {
     "name": "stderr",
     "output_type": "stream",
     "text": [
      "100%|███████████████████████████████████████████████████████████████████████████████████████████████| 100/100 [00:00<00:00, 109.39it/s]\n",
      "C:\\Users\\benza-ord\\anaconda3\\envs\\keras-gpu\\lib\\site-packages\\ipykernel_launcher.py:47: UserWarning: Update your `Model` call to the Keras 2 API: `Model(inputs=[<tf.Tenso..., outputs=Tensor(\"re...)`\n"
     ]
    },
    {
     "name": "stdout",
     "output_type": "stream",
     "text": [
      "(100, 224, 224, 3)\n",
      "51 res3b_branch2a\n",
      "preds (100, 28, 28, 128)\n",
      "(100, 100352)\n"
     ]
    },
    {
     "name": "stderr",
     "output_type": "stream",
     "text": [
      " 12%|███████████▌                                                                                    | 12/100 [00:00<00:00, 115.13it/s]"
     ]
    },
    {
     "name": "stdout",
     "output_type": "stream",
     "text": [
      "             PC1           PC2  target\n",
      "0   9.702974e-09 -2.120547e-10       3\n",
      "1   9.702977e-09 -2.120509e-10       8\n",
      "2   9.702977e-09 -2.120514e-10       8\n",
      "3   9.702977e-09 -2.120514e-10       0\n",
      "4   9.702977e-09 -2.120514e-10       6\n",
      "..           ...           ...     ...\n",
      "95  9.702977e-09 -2.120514e-10       6\n",
      "96  9.732299e-09  5.073900e-09       6\n",
      "97  9.732299e-09  5.073900e-09       0\n",
      "98  9.732299e-09  5.073900e-09       0\n",
      "99  9.732299e-09  5.073900e-09       7\n",
      "\n",
      "[100 rows x 3 columns]\n",
      "(100, 224, 224, 3)\n"
     ]
    },
    {
     "name": "stderr",
     "output_type": "stream",
     "text": [
      "100%|███████████████████████████████████████████████████████████████████████████████████████████████| 100/100 [00:00<00:00, 106.68it/s]\n",
      "C:\\Users\\benza-ord\\anaconda3\\envs\\keras-gpu\\lib\\site-packages\\ipykernel_launcher.py:47: UserWarning: Update your `Model` call to the Keras 2 API: `Model(inputs=[<tf.Tenso..., outputs=Tensor(\"re...)`\n"
     ]
    },
    {
     "name": "stdout",
     "output_type": "stream",
     "text": [
      "(100, 224, 224, 3)\n",
      "51 res3b_branch2a\n",
      "preds (100, 28, 28, 128)\n",
      "(100, 100352)\n"
     ]
    },
    {
     "name": "stderr",
     "output_type": "stream",
     "text": [
      " 12%|███████████▌                                                                                    | 12/100 [00:00<00:00, 110.39it/s]"
     ]
    },
    {
     "name": "stdout",
     "output_type": "stream",
     "text": [
      "             PC1           PC2  target\n",
      "0   9.702974e-09 -2.120531e-10       3\n",
      "1   9.702977e-09 -2.120522e-10       8\n",
      "2   9.702977e-09 -2.120517e-10       8\n",
      "3   9.702977e-09 -2.120517e-10       0\n",
      "4   9.702977e-09 -2.120517e-10       6\n",
      "..           ...           ...     ...\n",
      "95  9.702977e-09 -2.120517e-10       6\n",
      "96  9.732299e-09  5.073902e-09       6\n",
      "97  9.732299e-09  5.073902e-09       0\n",
      "98  9.732299e-09  5.073902e-09       0\n",
      "99  9.732299e-09  5.073902e-09       7\n",
      "\n",
      "[100 rows x 3 columns]\n",
      "(100, 224, 224, 3)\n"
     ]
    },
    {
     "name": "stderr",
     "output_type": "stream",
     "text": [
      "100%|███████████████████████████████████████████████████████████████████████████████████████████████| 100/100 [00:00<00:00, 107.28it/s]\n",
      "C:\\Users\\benza-ord\\anaconda3\\envs\\keras-gpu\\lib\\site-packages\\ipykernel_launcher.py:47: UserWarning: Update your `Model` call to the Keras 2 API: `Model(inputs=[<tf.Tenso..., outputs=Tensor(\"re...)`\n"
     ]
    },
    {
     "name": "stdout",
     "output_type": "stream",
     "text": [
      "(100, 224, 224, 3)\n",
      "54 res3b_branch2b\n",
      "preds (100, 28, 28, 128)\n",
      "(100, 100352)\n",
      "             PC1           PC2  target\n",
      "0   9.782640e-09 -3.262213e-10       3\n",
      "1   9.782648e-09 -3.262195e-10       8\n",
      "2   9.782648e-09 -3.262204e-10       8\n",
      "3   9.782648e-09 -3.262204e-10       0\n",
      "4   9.782648e-09 -3.262204e-10       6\n",
      "..           ...           ...     ...\n",
      "95  9.782648e-09 -3.262204e-10       6\n",
      "96  9.776210e-09  7.834449e-09       6\n",
      "97  9.776210e-09  7.834449e-09       0\n",
      "98  9.776210e-09  7.834449e-09       0\n",
      "99  9.776210e-09  7.834449e-09       7\n",
      "\n",
      "[100 rows x 3 columns]\n"
     ]
    },
    {
     "name": "stderr",
     "output_type": "stream",
     "text": [
      " 12%|███████████▌                                                                                    | 12/100 [00:00<00:00, 116.24it/s]"
     ]
    },
    {
     "name": "stdout",
     "output_type": "stream",
     "text": [
      "(100, 224, 224, 3)\n"
     ]
    },
    {
     "name": "stderr",
     "output_type": "stream",
     "text": [
      "100%|███████████████████████████████████████████████████████████████████████████████████████████████| 100/100 [00:00<00:00, 102.08it/s]\n",
      "C:\\Users\\benza-ord\\anaconda3\\envs\\keras-gpu\\lib\\site-packages\\ipykernel_launcher.py:47: UserWarning: Update your `Model` call to the Keras 2 API: `Model(inputs=[<tf.Tenso..., outputs=Tensor(\"re...)`\n"
     ]
    },
    {
     "name": "stdout",
     "output_type": "stream",
     "text": [
      "(100, 224, 224, 3)\n",
      "54 res3b_branch2b\n",
      "preds (100, 28, 28, 128)\n",
      "(100, 100352)\n",
      "             PC1           PC2  target\n",
      "0   9.782640e-09 -3.262198e-10       3\n",
      "1   9.782648e-09 -3.262194e-10       8\n",
      "2   9.782648e-09 -3.262202e-10       8\n",
      "3   9.782648e-09 -3.262202e-10       0\n",
      "4   9.782648e-09 -3.262202e-10       6\n",
      "..           ...           ...     ...\n",
      "95  9.782648e-09 -3.262202e-10       6\n",
      "96  9.776210e-09  7.834446e-09       6\n",
      "97  9.776210e-09  7.834446e-09       0\n",
      "98  9.776210e-09  7.834446e-09       0\n",
      "99  9.776210e-09  7.834446e-09       7\n",
      "\n",
      "[100 rows x 3 columns]\n",
      "(100, 224, 224, 3)"
     ]
    },
    {
     "name": "stderr",
     "output_type": "stream",
     "text": [
      " 13%|████████████▍                                                                                   | 13/100 [00:00<00:00, 121.82it/s]"
     ]
    },
    {
     "name": "stdout",
     "output_type": "stream",
     "text": [
      "\n"
     ]
    },
    {
     "name": "stderr",
     "output_type": "stream",
     "text": [
      "100%|███████████████████████████████████████████████████████████████████████████████████████████████| 100/100 [00:00<00:00, 112.22it/s]\n",
      "C:\\Users\\benza-ord\\anaconda3\\envs\\keras-gpu\\lib\\site-packages\\ipykernel_launcher.py:47: UserWarning: Update your `Model` call to the Keras 2 API: `Model(inputs=[<tf.Tenso..., outputs=Tensor(\"re...)`\n"
     ]
    },
    {
     "name": "stdout",
     "output_type": "stream",
     "text": [
      "(100, 224, 224, 3)\n",
      "54 res3b_branch2b\n",
      "preds (100, 28, 28, 128)\n",
      "(100, 100352)\n",
      "             PC1           PC2  target\n",
      "0   9.782640e-09 -3.262196e-10       3\n",
      "1   9.782648e-09 -3.262214e-10       8\n",
      "2   9.782648e-09 -3.262205e-10       8\n",
      "3   9.782648e-09 -3.262205e-10       0\n",
      "4   9.782648e-09 -3.262205e-10       6\n",
      "..           ...           ...     ...\n",
      "95  9.782648e-09 -3.262205e-10       6\n",
      "96  9.776210e-09  7.834450e-09       6\n",
      "97  9.776210e-09  7.834450e-09       0\n",
      "98  9.776210e-09  7.834450e-09       0\n",
      "99  9.776210e-09  7.834450e-09       7\n",
      "\n",
      "[100 rows x 3 columns]"
     ]
    },
    {
     "name": "stderr",
     "output_type": "stream",
     "text": [
      " 12%|███████████▌                                                                                    | 12/100 [00:00<00:00, 111.41it/s]"
     ]
    },
    {
     "name": "stdout",
     "output_type": "stream",
     "text": [
      "\n",
      "(100, 224, 224, 3)\n"
     ]
    },
    {
     "name": "stderr",
     "output_type": "stream",
     "text": [
      "100%|███████████████████████████████████████████████████████████████████████████████████████████████| 100/100 [00:00<00:00, 111.43it/s]\n",
      "C:\\Users\\benza-ord\\anaconda3\\envs\\keras-gpu\\lib\\site-packages\\ipykernel_launcher.py:47: UserWarning: Update your `Model` call to the Keras 2 API: `Model(inputs=[<tf.Tenso..., outputs=Tensor(\"re...)`\n"
     ]
    },
    {
     "name": "stdout",
     "output_type": "stream",
     "text": [
      "(100, 224, 224, 3)\n",
      "54 res3b_branch2b\n",
      "preds (100, 28, 28, 128)\n",
      "(100, 100352)\n",
      "             PC1           PC2  target\n",
      "0   9.782640e-09 -3.262220e-10       3\n",
      "1   9.782648e-09 -3.262214e-10       8\n",
      "2   9.782648e-09 -3.262203e-10       8\n",
      "3   9.782648e-09 -3.262203e-10       0\n",
      "4   9.782648e-09 -3.262203e-10       6\n",
      "..           ...           ...     ...\n",
      "95  9.782648e-09 -3.262203e-10       6\n",
      "96  9.776210e-09  7.834450e-09       6\n",
      "97  9.776210e-09  7.834450e-09       0\n",
      "98  9.776210e-09  7.834450e-09       0\n",
      "99  9.776210e-09  7.834450e-09       7\n",
      "\n",
      "[100 rows x 3 columns]"
     ]
    },
    {
     "name": "stderr",
     "output_type": "stream",
     "text": [
      " 12%|███████████▌                                                                                    | 12/100 [00:00<00:00, 114.59it/s]"
     ]
    },
    {
     "name": "stdout",
     "output_type": "stream",
     "text": [
      "\n",
      "(100, 224, 224, 3)\n"
     ]
    },
    {
     "name": "stderr",
     "output_type": "stream",
     "text": [
      "100%|███████████████████████████████████████████████████████████████████████████████████████████████| 100/100 [00:00<00:00, 111.82it/s]\n",
      "C:\\Users\\benza-ord\\anaconda3\\envs\\keras-gpu\\lib\\site-packages\\ipykernel_launcher.py:47: UserWarning: Update your `Model` call to the Keras 2 API: `Model(inputs=[<tf.Tenso..., outputs=Tensor(\"re...)`\n"
     ]
    },
    {
     "name": "stdout",
     "output_type": "stream",
     "text": [
      "(100, 224, 224, 3)\n",
      "54 res3b_branch2b\n",
      "preds (100, 28, 28, 128)\n",
      "(100, 100352)\n",
      "             PC1           PC2  target\n",
      "0   9.782640e-09 -3.262195e-10       3\n",
      "1   9.782648e-09 -3.262214e-10       8\n",
      "2   9.782648e-09 -3.262204e-10       8\n",
      "3   9.782648e-09 -3.262204e-10       0\n",
      "4   9.782648e-09 -3.262204e-10       6\n",
      "..           ...           ...     ...\n",
      "95  9.782648e-09 -3.262204e-10       6\n",
      "96  9.776210e-09  7.834450e-09       6\n",
      "97  9.776210e-09  7.834450e-09       0\n",
      "98  9.776210e-09  7.834450e-09       0\n",
      "99  9.776210e-09  7.834450e-09       7\n",
      "\n",
      "[100 rows x 3 columns]\n",
      "(100, 224, 224, 3)"
     ]
    },
    {
     "name": "stderr",
     "output_type": "stream",
     "text": [
      " 11%|██████████▌                                                                                     | 11/100 [00:00<00:00, 107.58it/s]"
     ]
    },
    {
     "name": "stdout",
     "output_type": "stream",
     "text": [
      "\n"
     ]
    },
    {
     "name": "stderr",
     "output_type": "stream",
     "text": [
      "100%|███████████████████████████████████████████████████████████████████████████████████████████████| 100/100 [00:00<00:00, 109.57it/s]\n",
      "C:\\Users\\benza-ord\\anaconda3\\envs\\keras-gpu\\lib\\site-packages\\ipykernel_launcher.py:47: UserWarning: Update your `Model` call to the Keras 2 API: `Model(inputs=[<tf.Tenso..., outputs=Tensor(\"re...)`\n"
     ]
    },
    {
     "name": "stdout",
     "output_type": "stream",
     "text": [
      "(100, 224, 224, 3)\n",
      "54 res3b_branch2b\n",
      "preds (100, 28, 28, 128)\n",
      "(100, 100352)\n",
      "             PC1           PC2  target\n",
      "0   9.782640e-09 -3.262195e-10       3\n",
      "1   9.782648e-09 -3.262194e-10       8\n",
      "2   9.782648e-09 -3.262203e-10       8\n",
      "3   9.782648e-09 -3.262203e-10       0\n",
      "4   9.782648e-09 -3.262203e-10       6\n",
      "..           ...           ...     ...\n",
      "95  9.782648e-09 -3.262203e-10       6\n",
      "96  9.776210e-09  7.834447e-09       6\n",
      "97  9.776210e-09  7.834447e-09       0\n",
      "98  9.776210e-09  7.834447e-09       0\n",
      "99  9.776210e-09  7.834447e-09       7\n",
      "\n",
      "[100 rows x 3 columns]"
     ]
    },
    {
     "name": "stderr",
     "output_type": "stream",
     "text": [
      " 12%|███████████▌                                                                                    | 12/100 [00:00<00:00, 119.13it/s]"
     ]
    },
    {
     "name": "stdout",
     "output_type": "stream",
     "text": [
      "\n",
      "(100, 224, 224, 3)\n"
     ]
    },
    {
     "name": "stderr",
     "output_type": "stream",
     "text": [
      "100%|███████████████████████████████████████████████████████████████████████████████████████████████| 100/100 [00:00<00:00, 107.96it/s]\n",
      "C:\\Users\\benza-ord\\anaconda3\\envs\\keras-gpu\\lib\\site-packages\\ipykernel_launcher.py:47: UserWarning: Update your `Model` call to the Keras 2 API: `Model(inputs=[<tf.Tenso..., outputs=Tensor(\"re...)`\n"
     ]
    },
    {
     "name": "stdout",
     "output_type": "stream",
     "text": [
      "(100, 224, 224, 3)\n",
      "54 res3b_branch2b\n",
      "preds (100, 28, 28, 128)\n",
      "(100, 100352)\n"
     ]
    },
    {
     "name": "stderr",
     "output_type": "stream",
     "text": [
      " 10%|█████████▋                                                                                       | 10/100 [00:00<00:00, 90.99it/s]"
     ]
    },
    {
     "name": "stdout",
     "output_type": "stream",
     "text": [
      "             PC1           PC2  target\n",
      "0   9.782640e-09 -3.262195e-10       3\n",
      "1   9.782648e-09 -3.262194e-10       8\n",
      "2   9.782648e-09 -3.262203e-10       8\n",
      "3   9.782648e-09 -3.262203e-10       0\n",
      "4   9.782648e-09 -3.262203e-10       6\n",
      "..           ...           ...     ...\n",
      "95  9.782648e-09 -3.262203e-10       6\n",
      "96  9.776210e-09  7.834447e-09       6\n",
      "97  9.776210e-09  7.834447e-09       0\n",
      "98  9.776210e-09  7.834447e-09       0\n",
      "99  9.776210e-09  7.834447e-09       7\n",
      "\n",
      "[100 rows x 3 columns]\n",
      "(100, 224, 224, 3)\n"
     ]
    },
    {
     "name": "stderr",
     "output_type": "stream",
     "text": [
      "100%|████████████████████████████████████████████████████████████████████████████████████████████████| 100/100 [00:01<00:00, 97.89it/s]\n",
      "C:\\Users\\benza-ord\\anaconda3\\envs\\keras-gpu\\lib\\site-packages\\ipykernel_launcher.py:47: UserWarning: Update your `Model` call to the Keras 2 API: `Model(inputs=[<tf.Tenso..., outputs=Tensor(\"re...)`\n"
     ]
    },
    {
     "name": "stdout",
     "output_type": "stream",
     "text": [
      "(100, 224, 224, 3)\n",
      "54 res3b_branch2b\n",
      "preds (100, 28, 28, 128)\n",
      "(100, 100352)\n",
      "             PC1           PC2  target\n",
      "0   9.782640e-09 -3.262219e-10       3\n",
      "1   9.782648e-09 -3.262196e-10       8\n",
      "2   9.782648e-09 -3.262204e-10       8\n",
      "3   9.782648e-09 -3.262204e-10       0\n",
      "4   9.782648e-09 -3.262204e-10       6\n",
      "..           ...           ...     ...\n",
      "95  9.782648e-09 -3.262204e-10       6\n",
      "96  9.776210e-09  7.834451e-09       6\n",
      "97  9.776210e-09  7.834451e-09       0\n",
      "98  9.776210e-09  7.834451e-09       0\n",
      "99  9.776210e-09  7.834451e-09       7\n",
      "\n",
      "[100 rows x 3 columns]"
     ]
    },
    {
     "name": "stderr",
     "output_type": "stream",
     "text": [
      " 11%|██████████▌                                                                                     | 11/100 [00:00<00:00, 109.65it/s]"
     ]
    },
    {
     "name": "stdout",
     "output_type": "stream",
     "text": [
      "\n",
      "(100, 224, 224, 3)\n"
     ]
    },
    {
     "name": "stderr",
     "output_type": "stream",
     "text": [
      "100%|███████████████████████████████████████████████████████████████████████████████████████████████| 100/100 [00:00<00:00, 104.32it/s]\n",
      "C:\\Users\\benza-ord\\anaconda3\\envs\\keras-gpu\\lib\\site-packages\\ipykernel_launcher.py:47: UserWarning: Update your `Model` call to the Keras 2 API: `Model(inputs=[<tf.Tenso..., outputs=Tensor(\"re...)`\n"
     ]
    },
    {
     "name": "stdout",
     "output_type": "stream",
     "text": [
      "(100, 224, 224, 3)\n",
      "54 res3b_branch2b\n",
      "preds (100, 28, 28, 128)\n",
      "(100, 100352)\n"
     ]
    },
    {
     "name": "stderr",
     "output_type": "stream",
     "text": [
      " 13%|████████████▍                                                                                   | 13/100 [00:00<00:00, 121.82it/s]"
     ]
    },
    {
     "name": "stdout",
     "output_type": "stream",
     "text": [
      "             PC1           PC2  target\n",
      "0   9.782640e-09 -3.262267e-10       3\n",
      "1   9.782648e-09 -3.262194e-10       8\n",
      "2   9.782648e-09 -3.262204e-10       8\n",
      "3   9.782648e-09 -3.262204e-10       0\n",
      "4   9.782648e-09 -3.262204e-10       6\n",
      "..           ...           ...     ...\n",
      "95  9.782648e-09 -3.262204e-10       6\n",
      "96  9.776210e-09  7.834448e-09       6\n",
      "97  9.776210e-09  7.834448e-09       0\n",
      "98  9.776210e-09  7.834448e-09       0\n",
      "99  9.776210e-09  7.834448e-09       7\n",
      "\n",
      "[100 rows x 3 columns]\n",
      "(100, 224, 224, 3)\n"
     ]
    },
    {
     "name": "stderr",
     "output_type": "stream",
     "text": [
      "100%|███████████████████████████████████████████████████████████████████████████████████████████████| 100/100 [00:00<00:00, 111.47it/s]\n",
      "C:\\Users\\benza-ord\\anaconda3\\envs\\keras-gpu\\lib\\site-packages\\ipykernel_launcher.py:47: UserWarning: Update your `Model` call to the Keras 2 API: `Model(inputs=[<tf.Tenso..., outputs=Tensor(\"re...)`\n"
     ]
    },
    {
     "name": "stdout",
     "output_type": "stream",
     "text": [
      "(100, 224, 224, 3)\n",
      "54 res3b_branch2b\n",
      "preds (100, 28, 28, 128)\n",
      "(100, 100352)\n",
      "             PC1           PC2  target\n",
      "0   9.782640e-09 -3.262187e-10       3\n",
      "1   9.782648e-09 -3.262214e-10       8\n",
      "2   9.782648e-09 -3.262205e-10       8\n",
      "3   9.782648e-09 -3.262205e-10       0\n",
      "4   9.782648e-09 -3.262205e-10       6\n",
      "..           ...           ...     ...\n",
      "95  9.782648e-09 -3.262205e-10       6\n",
      "96  9.776210e-09  7.834449e-09       6\n",
      "97  9.776210e-09  7.834449e-09       0\n",
      "98  9.776210e-09  7.834449e-09       0\n",
      "99  9.776210e-09  7.834449e-09       7\n",
      "\n",
      "[100 rows x 3 columns]"
     ]
    },
    {
     "name": "stderr",
     "output_type": "stream",
     "text": [
      " 11%|██████████▌                                                                                     | 11/100 [00:00<00:00, 103.06it/s]"
     ]
    },
    {
     "name": "stdout",
     "output_type": "stream",
     "text": [
      "\n",
      "(100, 224, 224, 3)\n"
     ]
    },
    {
     "name": "stderr",
     "output_type": "stream",
     "text": [
      "100%|███████████████████████████████████████████████████████████████████████████████████████████████| 100/100 [00:00<00:00, 108.17it/s]\n",
      "C:\\Users\\benza-ord\\anaconda3\\envs\\keras-gpu\\lib\\site-packages\\ipykernel_launcher.py:47: UserWarning: Update your `Model` call to the Keras 2 API: `Model(inputs=[<tf.Tenso..., outputs=Tensor(\"re...)`\n"
     ]
    },
    {
     "name": "stdout",
     "output_type": "stream",
     "text": [
      "(100, 224, 224, 3)\n",
      "57 res3b_branch2c\n",
      "preds (100, 28, 28, 512)\n",
      "(100, 401408)\n"
     ]
    },
    {
     "name": "stderr",
     "output_type": "stream",
     "text": [
      " 13%|████████████▍                                                                                   | 13/100 [00:00<00:00, 119.56it/s]"
     ]
    },
    {
     "name": "stdout",
     "output_type": "stream",
     "text": [
      "             PC1           PC2  target\n",
      "0   2.050969e-08 -7.001089e-10       3\n",
      "1   2.050969e-08 -7.000829e-10       8\n",
      "2   2.050969e-08 -7.000849e-10       8\n",
      "3   2.050969e-08 -7.000849e-10       0\n",
      "4   2.050969e-08 -7.000849e-10       6\n",
      "..           ...           ...     ...\n",
      "95  2.050969e-08 -7.000849e-10       6\n",
      "96  2.052988e-08  1.678552e-08       6\n",
      "97  2.052988e-08  1.678552e-08       0\n",
      "98  2.052988e-08  1.678552e-08       0\n",
      "99  2.052988e-08  1.678552e-08       7\n",
      "\n",
      "[100 rows x 3 columns]\n",
      "(100, 224, 224, 3)\n"
     ]
    },
    {
     "name": "stderr",
     "output_type": "stream",
     "text": [
      "100%|███████████████████████████████████████████████████████████████████████████████████████████████| 100/100 [00:00<00:00, 113.68it/s]\n",
      "C:\\Users\\benza-ord\\anaconda3\\envs\\keras-gpu\\lib\\site-packages\\ipykernel_launcher.py:47: UserWarning: Update your `Model` call to the Keras 2 API: `Model(inputs=[<tf.Tenso..., outputs=Tensor(\"re...)`\n"
     ]
    },
    {
     "name": "stdout",
     "output_type": "stream",
     "text": [
      "(100, 224, 224, 3)\n",
      "57 res3b_branch2c\n",
      "preds (100, 28, 28, 512)\n",
      "(100, 401408)\n"
     ]
    },
    {
     "name": "stderr",
     "output_type": "stream",
     "text": [
      " 13%|████████████▍                                                                                   | 13/100 [00:00<00:00, 121.79it/s]"
     ]
    },
    {
     "name": "stdout",
     "output_type": "stream",
     "text": [
      "             PC1           PC2  target\n",
      "0   2.050969e-08 -7.000869e-10       3\n",
      "1   2.050969e-08 -7.000826e-10       8\n",
      "2   2.050969e-08 -7.000844e-10       8\n",
      "3   2.050969e-08 -7.000843e-10       0\n",
      "4   2.050969e-08 -7.000844e-10       6\n",
      "..           ...           ...     ...\n",
      "95  2.050969e-08 -7.000844e-10       6\n",
      "96  2.052988e-08  1.678551e-08       6\n",
      "97  2.052988e-08  1.678551e-08       0\n",
      "98  2.052988e-08  1.678551e-08       0\n",
      "99  2.052988e-08  1.678551e-08       7\n",
      "\n",
      "[100 rows x 3 columns]\n",
      "(100, 224, 224, 3)\n"
     ]
    },
    {
     "name": "stderr",
     "output_type": "stream",
     "text": [
      "100%|███████████████████████████████████████████████████████████████████████████████████████████████| 100/100 [00:00<00:00, 111.51it/s]\n",
      "C:\\Users\\benza-ord\\anaconda3\\envs\\keras-gpu\\lib\\site-packages\\ipykernel_launcher.py:47: UserWarning: Update your `Model` call to the Keras 2 API: `Model(inputs=[<tf.Tenso..., outputs=Tensor(\"re...)`\n"
     ]
    },
    {
     "name": "stdout",
     "output_type": "stream",
     "text": [
      "(100, 224, 224, 3)\n",
      "57 res3b_branch2c\n",
      "preds (100, 28, 28, 512)\n",
      "(100, 401408)\n"
     ]
    },
    {
     "name": "stderr",
     "output_type": "stream",
     "text": [
      " 13%|████████████▍                                                                                   | 13/100 [00:00<00:00, 122.93it/s]"
     ]
    },
    {
     "name": "stdout",
     "output_type": "stream",
     "text": [
      "             PC1           PC2  target\n",
      "0   2.050969e-08 -7.000879e-10       3\n",
      "1   2.050969e-08 -7.000867e-10       8\n",
      "2   2.050969e-08 -7.000852e-10       8\n",
      "3   2.050969e-08 -7.000852e-10       0\n",
      "4   2.050969e-08 -7.000852e-10       6\n",
      "..           ...           ...     ...\n",
      "95  2.050969e-08 -7.000852e-10       6\n",
      "96  2.052988e-08  1.678551e-08       6\n",
      "97  2.052988e-08  1.678551e-08       0\n",
      "98  2.052988e-08  1.678551e-08       0\n",
      "99  2.052988e-08  1.678551e-08       7\n",
      "\n",
      "[100 rows x 3 columns]\n",
      "(100, 224, 224, 3)\n"
     ]
    },
    {
     "name": "stderr",
     "output_type": "stream",
     "text": [
      "100%|███████████████████████████████████████████████████████████████████████████████████████████████| 100/100 [00:00<00:00, 114.30it/s]\n",
      "C:\\Users\\benza-ord\\anaconda3\\envs\\keras-gpu\\lib\\site-packages\\ipykernel_launcher.py:47: UserWarning: Update your `Model` call to the Keras 2 API: `Model(inputs=[<tf.Tenso..., outputs=Tensor(\"re...)`\n"
     ]
    },
    {
     "name": "stdout",
     "output_type": "stream",
     "text": [
      "(100, 224, 224, 3)\n",
      "57 res3b_branch2c\n",
      "preds (100, 28, 28, 512)\n",
      "(100, 401408)\n"
     ]
    },
    {
     "name": "stderr",
     "output_type": "stream",
     "text": [
      " 13%|████████████▍                                                                                   | 13/100 [00:00<00:00, 121.79it/s]"
     ]
    },
    {
     "name": "stdout",
     "output_type": "stream",
     "text": [
      "             PC1           PC2  target\n",
      "0   2.050969e-08 -7.001051e-10       3\n",
      "1   2.050968e-08 -7.000870e-10       8\n",
      "2   2.050968e-08 -7.000860e-10       8\n",
      "3   2.050968e-08 -7.000860e-10       0\n",
      "4   2.050968e-08 -7.000860e-10       6\n",
      "..           ...           ...     ...\n",
      "95  2.050968e-08 -7.000860e-10       6\n",
      "96  2.052988e-08  1.678552e-08       6\n",
      "97  2.052988e-08  1.678552e-08       0\n",
      "98  2.052988e-08  1.678552e-08       0\n",
      "99  2.052988e-08  1.678552e-08       7\n",
      "\n",
      "[100 rows x 3 columns]\n",
      "(100, 224, 224, 3)\n"
     ]
    },
    {
     "name": "stderr",
     "output_type": "stream",
     "text": [
      "100%|███████████████████████████████████████████████████████████████████████████████████████████████| 100/100 [00:00<00:00, 113.40it/s]\n",
      "C:\\Users\\benza-ord\\anaconda3\\envs\\keras-gpu\\lib\\site-packages\\ipykernel_launcher.py:47: UserWarning: Update your `Model` call to the Keras 2 API: `Model(inputs=[<tf.Tenso..., outputs=Tensor(\"re...)`\n"
     ]
    },
    {
     "name": "stdout",
     "output_type": "stream",
     "text": [
      "(100, 224, 224, 3)\n",
      "57 res3b_branch2c\n",
      "preds (100, 28, 28, 512)\n",
      "(100, 401408)\n"
     ]
    },
    {
     "name": "stderr",
     "output_type": "stream",
     "text": [
      " 12%|███████████▌                                                                                    | 12/100 [00:00<00:00, 117.96it/s]"
     ]
    },
    {
     "name": "stdout",
     "output_type": "stream",
     "text": [
      "             PC1           PC2  target\n",
      "0   2.050969e-08 -7.000879e-10       3\n",
      "1   2.050969e-08 -7.000867e-10       8\n",
      "2   2.050969e-08 -7.000851e-10       8\n",
      "3   2.050969e-08 -7.000851e-10       0\n",
      "4   2.050969e-08 -7.000850e-10       6\n",
      "..           ...           ...     ...\n",
      "95  2.050969e-08 -7.000850e-10       6\n",
      "96  2.052988e-08  1.678551e-08       6\n",
      "97  2.052988e-08  1.678551e-08       0\n",
      "98  2.052988e-08  1.678551e-08       0\n",
      "99  2.052988e-08  1.678551e-08       7\n",
      "\n",
      "[100 rows x 3 columns]\n",
      "(100, 224, 224, 3)\n"
     ]
    },
    {
     "name": "stderr",
     "output_type": "stream",
     "text": [
      "100%|███████████████████████████████████████████████████████████████████████████████████████████████| 100/100 [00:00<00:00, 119.85it/s]\n",
      "C:\\Users\\benza-ord\\anaconda3\\envs\\keras-gpu\\lib\\site-packages\\ipykernel_launcher.py:47: UserWarning: Update your `Model` call to the Keras 2 API: `Model(inputs=[<tf.Tenso..., outputs=Tensor(\"re...)`\n"
     ]
    },
    {
     "name": "stdout",
     "output_type": "stream",
     "text": [
      "(100, 224, 224, 3)\n",
      "57 res3b_branch2c\n",
      "preds (100, 28, 28, 512)\n",
      "(100, 401408)\n"
     ]
    },
    {
     "name": "stderr",
     "output_type": "stream",
     "text": [
      " 12%|███████████▌                                                                                    | 12/100 [00:00<00:00, 117.96it/s]"
     ]
    },
    {
     "name": "stdout",
     "output_type": "stream",
     "text": [
      "             PC1           PC2  target\n",
      "0   2.050969e-08 -7.001076e-10       3\n",
      "1   2.050969e-08 -7.000826e-10       8\n",
      "2   2.050969e-08 -7.000849e-10       8\n",
      "3   2.050969e-08 -7.000849e-10       0\n",
      "4   2.050969e-08 -7.000849e-10       6\n",
      "..           ...           ...     ...\n",
      "95  2.050969e-08 -7.000849e-10       6\n",
      "96  2.052988e-08  1.678551e-08       6\n",
      "97  2.052988e-08  1.678551e-08       0\n",
      "98  2.052988e-08  1.678551e-08       0\n",
      "99  2.052988e-08  1.678551e-08       7\n",
      "\n",
      "[100 rows x 3 columns]\n",
      "(100, 224, 224, 3)\n"
     ]
    },
    {
     "name": "stderr",
     "output_type": "stream",
     "text": [
      "100%|███████████████████████████████████████████████████████████████████████████████████████████████| 100/100 [00:00<00:00, 118.01it/s]\n",
      "C:\\Users\\benza-ord\\anaconda3\\envs\\keras-gpu\\lib\\site-packages\\ipykernel_launcher.py:47: UserWarning: Update your `Model` call to the Keras 2 API: `Model(inputs=[<tf.Tenso..., outputs=Tensor(\"re...)`\n"
     ]
    },
    {
     "name": "stdout",
     "output_type": "stream",
     "text": [
      "(100, 224, 224, 3)\n",
      "57 res3b_branch2c\n",
      "preds (100, 28, 28, 512)\n",
      "(100, 401408)\n"
     ]
    },
    {
     "name": "stderr",
     "output_type": "stream",
     "text": [
      " 13%|████████████▍                                                                                   | 13/100 [00:00<00:00, 121.78it/s]"
     ]
    },
    {
     "name": "stdout",
     "output_type": "stream",
     "text": [
      "             PC1           PC2  target\n",
      "0   2.050969e-08 -7.001093e-10       3\n",
      "1   2.050969e-08 -7.000825e-10       8\n",
      "2   2.050969e-08 -7.000844e-10       8\n",
      "3   2.050969e-08 -7.000844e-10       0\n",
      "4   2.050969e-08 -7.000844e-10       6\n",
      "..           ...           ...     ...\n",
      "95  2.050969e-08 -7.000844e-10       6\n",
      "96  2.052988e-08  1.678551e-08       6\n",
      "97  2.052988e-08  1.678551e-08       0\n",
      "98  2.052988e-08  1.678551e-08       0\n",
      "99  2.052988e-08  1.678551e-08       7\n",
      "\n",
      "[100 rows x 3 columns]\n",
      "(100, 224, 224, 3)\n"
     ]
    },
    {
     "name": "stderr",
     "output_type": "stream",
     "text": [
      "100%|███████████████████████████████████████████████████████████████████████████████████████████████| 100/100 [00:00<00:00, 121.28it/s]\n",
      "C:\\Users\\benza-ord\\anaconda3\\envs\\keras-gpu\\lib\\site-packages\\ipykernel_launcher.py:47: UserWarning: Update your `Model` call to the Keras 2 API: `Model(inputs=[<tf.Tenso..., outputs=Tensor(\"re...)`\n"
     ]
    },
    {
     "name": "stdout",
     "output_type": "stream",
     "text": [
      "(100, 224, 224, 3)\n",
      "57 res3b_branch2c\n",
      "preds (100, 28, 28, 512)\n",
      "(100, 401408)\n"
     ]
    },
    {
     "name": "stderr",
     "output_type": "stream",
     "text": [
      " 13%|████████████▍                                                                                   | 13/100 [00:00<00:00, 120.69it/s]"
     ]
    },
    {
     "name": "stdout",
     "output_type": "stream",
     "text": [
      "             PC1           PC2  target\n",
      "0   2.050969e-08 -7.001090e-10       3\n",
      "1   2.050969e-08 -7.000827e-10       8\n",
      "2   2.050969e-08 -7.000848e-10       8\n",
      "3   2.050969e-08 -7.000848e-10       0\n",
      "4   2.050969e-08 -7.000848e-10       6\n",
      "..           ...           ...     ...\n",
      "95  2.050969e-08 -7.000848e-10       6\n",
      "96  2.052988e-08  1.678552e-08       6\n",
      "97  2.052988e-08  1.678552e-08       0\n",
      "98  2.052988e-08  1.678552e-08       0\n",
      "99  2.052988e-08  1.678552e-08       7\n",
      "\n",
      "[100 rows x 3 columns]\n",
      "(100, 224, 224, 3)\n"
     ]
    },
    {
     "name": "stderr",
     "output_type": "stream",
     "text": [
      "100%|███████████████████████████████████████████████████████████████████████████████████████████████| 100/100 [00:00<00:00, 122.13it/s]\n",
      "C:\\Users\\benza-ord\\anaconda3\\envs\\keras-gpu\\lib\\site-packages\\ipykernel_launcher.py:47: UserWarning: Update your `Model` call to the Keras 2 API: `Model(inputs=[<tf.Tenso..., outputs=Tensor(\"re...)`\n"
     ]
    },
    {
     "name": "stdout",
     "output_type": "stream",
     "text": [
      "(100, 224, 224, 3)\n",
      "57 res3b_branch2c\n",
      "preds (100, 28, 28, 512)\n",
      "(100, 401408)\n"
     ]
    },
    {
     "name": "stderr",
     "output_type": "stream",
     "text": [
      " 13%|████████████▍                                                                                   | 13/100 [00:00<00:00, 121.82it/s]"
     ]
    },
    {
     "name": "stdout",
     "output_type": "stream",
     "text": [
      "             PC1           PC2  target\n",
      "0   2.050969e-08 -7.000880e-10       3\n",
      "1   2.050968e-08 -7.000868e-10       8\n",
      "2   2.050968e-08 -7.000855e-10       8\n",
      "3   2.050968e-08 -7.000855e-10       0\n",
      "4   2.050968e-08 -7.000855e-10       6\n",
      "..           ...           ...     ...\n",
      "95  2.050968e-08 -7.000855e-10       6\n",
      "96  2.052988e-08  1.678552e-08       6\n",
      "97  2.052988e-08  1.678552e-08       0\n",
      "98  2.052988e-08  1.678552e-08       0\n",
      "99  2.052988e-08  1.678552e-08       7\n",
      "\n",
      "[100 rows x 3 columns]\n",
      "(100, 224, 224, 3)\n"
     ]
    },
    {
     "name": "stderr",
     "output_type": "stream",
     "text": [
      "100%|███████████████████████████████████████████████████████████████████████████████████████████████| 100/100 [00:00<00:00, 120.37it/s]\n",
      "C:\\Users\\benza-ord\\anaconda3\\envs\\keras-gpu\\lib\\site-packages\\ipykernel_launcher.py:47: UserWarning: Update your `Model` call to the Keras 2 API: `Model(inputs=[<tf.Tenso..., outputs=Tensor(\"re...)`\n"
     ]
    },
    {
     "name": "stdout",
     "output_type": "stream",
     "text": [
      "(100, 224, 224, 3)\n",
      "57 res3b_branch2c\n",
      "preds (100, 28, 28, 512)\n",
      "(100, 401408)\n"
     ]
    },
    {
     "name": "stderr",
     "output_type": "stream",
     "text": [
      "  9%|████████▊                                                                                         | 9/100 [00:00<00:01, 88.47it/s]"
     ]
    },
    {
     "name": "stdout",
     "output_type": "stream",
     "text": [
      "             PC1           PC2  target\n",
      "0   2.050969e-08 -7.001074e-10       3\n",
      "1   2.050969e-08 -7.000827e-10       8\n",
      "2   2.050969e-08 -7.000849e-10       8\n",
      "3   2.050969e-08 -7.000849e-10       0\n",
      "4   2.050969e-08 -7.000849e-10       6\n",
      "..           ...           ...     ...\n",
      "95  2.050969e-08 -7.000849e-10       6\n",
      "96  2.052988e-08  1.678551e-08       6\n",
      "97  2.052988e-08  1.678551e-08       0\n",
      "98  2.052988e-08  1.678551e-08       0\n",
      "99  2.052988e-08  1.678551e-08       7\n",
      "\n",
      "[100 rows x 3 columns]\n",
      "(100, 224, 224, 3)\n"
     ]
    },
    {
     "name": "stderr",
     "output_type": "stream",
     "text": [
      "100%|███████████████████████████████████████████████████████████████████████████████████████████████| 100/100 [00:00<00:00, 111.88it/s]\n",
      "C:\\Users\\benza-ord\\anaconda3\\envs\\keras-gpu\\lib\\site-packages\\ipykernel_launcher.py:47: UserWarning: Update your `Model` call to the Keras 2 API: `Model(inputs=[<tf.Tenso..., outputs=Tensor(\"re...)`\n"
     ]
    },
    {
     "name": "stdout",
     "output_type": "stream",
     "text": [
      "(100, 224, 224, 3)\n",
      "61 res3c_branch2a\n",
      "preds (100, 28, 28, 128)\n",
      "(100, 100352)\n",
      "             PC1           PC2  target\n",
      "0   1.344756e-08 -4.854154e-10       3\n",
      "1   1.344756e-08 -4.854189e-10       8\n",
      "2   1.344756e-08 -4.854186e-10       8\n",
      "3   1.344756e-08 -4.854186e-10       0\n",
      "4   1.344756e-08 -4.854186e-10       6\n",
      "..           ...           ...     ...\n",
      "95  1.344756e-08 -4.854186e-10       6\n",
      "96  1.346270e-08  1.163694e-08       6\n",
      "97  1.346270e-08  1.163694e-08       0\n",
      "98  1.346270e-08  1.163694e-08       0\n",
      "99  1.346270e-08  1.163694e-08       7\n",
      "\n",
      "[100 rows x 3 columns]"
     ]
    },
    {
     "name": "stderr",
     "output_type": "stream",
     "text": [
      " 12%|███████████▌                                                                                    | 12/100 [00:00<00:00, 117.38it/s]"
     ]
    },
    {
     "name": "stdout",
     "output_type": "stream",
     "text": [
      "\n",
      "(100, 224, 224, 3)\n"
     ]
    },
    {
     "name": "stderr",
     "output_type": "stream",
     "text": [
      "100%|███████████████████████████████████████████████████████████████████████████████████████████████| 100/100 [00:00<00:00, 120.73it/s]\n",
      "C:\\Users\\benza-ord\\anaconda3\\envs\\keras-gpu\\lib\\site-packages\\ipykernel_launcher.py:47: UserWarning: Update your `Model` call to the Keras 2 API: `Model(inputs=[<tf.Tenso..., outputs=Tensor(\"re...)`\n"
     ]
    },
    {
     "name": "stdout",
     "output_type": "stream",
     "text": [
      "(100, 224, 224, 3)\n",
      "61 res3c_branch2a\n",
      "preds (100, 28, 28, 128)\n",
      "(100, 100352)\n",
      "             PC1           PC2  target\n",
      "0   1.344756e-08 -4.854163e-10       3\n",
      "1   1.344756e-08 -4.854191e-10       8\n",
      "2   1.344756e-08 -4.854186e-10       8\n",
      "3   1.344756e-08 -4.854186e-10       0\n",
      "4   1.344756e-08 -4.854186e-10       6\n",
      "..           ...           ...     ...\n",
      "95  1.344756e-08 -4.854186e-10       6\n",
      "96  1.346270e-08  1.163694e-08       6\n",
      "97  1.346270e-08  1.163694e-08       0\n",
      "98  1.346270e-08  1.163694e-08       0\n",
      "99  1.346270e-08  1.163694e-08       7\n",
      "\n",
      "[100 rows x 3 columns]"
     ]
    },
    {
     "name": "stderr",
     "output_type": "stream",
     "text": [
      " 13%|████████████▍                                                                                   | 13/100 [00:00<00:00, 122.97it/s]"
     ]
    },
    {
     "name": "stdout",
     "output_type": "stream",
     "text": [
      "\n",
      "(100, 224, 224, 3)\n"
     ]
    },
    {
     "name": "stderr",
     "output_type": "stream",
     "text": [
      "100%|███████████████████████████████████████████████████████████████████████████████████████████████| 100/100 [00:00<00:00, 119.51it/s]\n",
      "C:\\Users\\benza-ord\\anaconda3\\envs\\keras-gpu\\lib\\site-packages\\ipykernel_launcher.py:47: UserWarning: Update your `Model` call to the Keras 2 API: `Model(inputs=[<tf.Tenso..., outputs=Tensor(\"re...)`\n"
     ]
    },
    {
     "name": "stdout",
     "output_type": "stream",
     "text": [
      "(100, 224, 224, 3)\n",
      "61 res3c_branch2a\n",
      "preds (100, 28, 28, 128)\n",
      "(100, 100352)\n",
      "             PC1           PC2  target\n",
      "0   1.344756e-08 -4.854237e-10       3\n",
      "1   1.344756e-08 -4.854189e-10       8\n",
      "2   1.344756e-08 -4.854188e-10       8\n",
      "3   1.344756e-08 -4.854188e-10       0\n",
      "4   1.344756e-08 -4.854188e-10       6\n",
      "..           ...           ...     ...\n",
      "95  1.344756e-08 -4.854188e-10       6\n",
      "96  1.346270e-08  1.163694e-08       6\n",
      "97  1.346270e-08  1.163694e-08       0\n",
      "98  1.346270e-08  1.163694e-08       0\n",
      "99  1.346270e-08  1.163694e-08       7\n",
      "\n",
      "[100 rows x 3 columns]\n",
      "(100, 224, 224, 3)"
     ]
    },
    {
     "name": "stderr",
     "output_type": "stream",
     "text": [
      " 13%|████████████▍                                                                                   | 13/100 [00:00<00:00, 121.25it/s]"
     ]
    },
    {
     "name": "stdout",
     "output_type": "stream",
     "text": [
      "\n"
     ]
    },
    {
     "name": "stderr",
     "output_type": "stream",
     "text": [
      "100%|███████████████████████████████████████████████████████████████████████████████████████████████| 100/100 [00:00<00:00, 121.17it/s]\n",
      "C:\\Users\\benza-ord\\anaconda3\\envs\\keras-gpu\\lib\\site-packages\\ipykernel_launcher.py:47: UserWarning: Update your `Model` call to the Keras 2 API: `Model(inputs=[<tf.Tenso..., outputs=Tensor(\"re...)`\n"
     ]
    },
    {
     "name": "stdout",
     "output_type": "stream",
     "text": [
      "(100, 224, 224, 3)\n",
      "61 res3c_branch2a\n",
      "preds (100, 28, 28, 128)\n",
      "(100, 100352)\n",
      "             PC1           PC2  target\n",
      "0   1.344756e-08 -4.854237e-10       3\n",
      "1   1.344756e-08 -4.854189e-10       8\n",
      "2   1.344756e-08 -4.854188e-10       8\n",
      "3   1.344756e-08 -4.854188e-10       0\n",
      "4   1.344756e-08 -4.854188e-10       6\n",
      "..           ...           ...     ...\n",
      "95  1.344756e-08 -4.854188e-10       6\n",
      "96  1.346270e-08  1.163694e-08       6\n",
      "97  1.346270e-08  1.163694e-08       0\n",
      "98  1.346270e-08  1.163694e-08       0\n",
      "99  1.346270e-08  1.163694e-08       7\n",
      "\n",
      "[100 rows x 3 columns]\n",
      "(100, 224, 224, 3)"
     ]
    },
    {
     "name": "stderr",
     "output_type": "stream",
     "text": [
      " 13%|████████████▍                                                                                   | 13/100 [00:00<00:00, 122.97it/s]"
     ]
    },
    {
     "name": "stdout",
     "output_type": "stream",
     "text": [
      "\n"
     ]
    },
    {
     "name": "stderr",
     "output_type": "stream",
     "text": [
      "100%|███████████████████████████████████████████████████████████████████████████████████████████████| 100/100 [00:00<00:00, 122.29it/s]\n",
      "C:\\Users\\benza-ord\\anaconda3\\envs\\keras-gpu\\lib\\site-packages\\ipykernel_launcher.py:47: UserWarning: Update your `Model` call to the Keras 2 API: `Model(inputs=[<tf.Tenso..., outputs=Tensor(\"re...)`\n"
     ]
    },
    {
     "name": "stdout",
     "output_type": "stream",
     "text": [
      "(100, 224, 224, 3)\n",
      "61 res3c_branch2a\n",
      "preds (100, 28, 28, 128)\n",
      "(100, 100352)\n",
      "             PC1           PC2  target\n",
      "0   1.344756e-08 -4.854160e-10       3\n",
      "1   1.344756e-08 -4.854189e-10       8\n",
      "2   1.344756e-08 -4.854183e-10       8\n",
      "3   1.344756e-08 -4.854183e-10       0\n",
      "4   1.344756e-08 -4.854183e-10       6\n",
      "..           ...           ...     ...\n",
      "95  1.344756e-08 -4.854183e-10       6\n",
      "96  1.346270e-08  1.163694e-08       6\n",
      "97  1.346270e-08  1.163694e-08       0\n",
      "98  1.346270e-08  1.163694e-08       0\n",
      "99  1.346270e-08  1.163694e-08       7\n",
      "\n",
      "[100 rows x 3 columns]"
     ]
    },
    {
     "name": "stderr",
     "output_type": "stream",
     "text": [
      " 13%|████████████▍                                                                                   | 13/100 [00:00<00:00, 122.96it/s]"
     ]
    },
    {
     "name": "stdout",
     "output_type": "stream",
     "text": [
      "\n",
      "(100, 224, 224, 3)\n"
     ]
    },
    {
     "name": "stderr",
     "output_type": "stream",
     "text": [
      "100%|███████████████████████████████████████████████████████████████████████████████████████████████| 100/100 [00:00<00:00, 121.02it/s]\n",
      "C:\\Users\\benza-ord\\anaconda3\\envs\\keras-gpu\\lib\\site-packages\\ipykernel_launcher.py:47: UserWarning: Update your `Model` call to the Keras 2 API: `Model(inputs=[<tf.Tenso..., outputs=Tensor(\"re...)`\n"
     ]
    },
    {
     "name": "stdout",
     "output_type": "stream",
     "text": [
      "(100, 224, 224, 3)\n",
      "61 res3c_branch2a\n",
      "preds (100, 28, 28, 128)\n",
      "(100, 100352)\n",
      "             PC1           PC2  target\n",
      "0   1.344756e-08 -4.854153e-10       3\n",
      "1   1.344756e-08 -4.854189e-10       8\n",
      "2   1.344756e-08 -4.854185e-10       8\n",
      "3   1.344756e-08 -4.854185e-10       0\n",
      "4   1.344756e-08 -4.854185e-10       6\n",
      "..           ...           ...     ...\n",
      "95  1.344756e-08 -4.854185e-10       6\n",
      "96  1.346270e-08  1.163694e-08       6\n",
      "97  1.346270e-08  1.163694e-08       0\n",
      "98  1.346270e-08  1.163694e-08       0\n",
      "99  1.346270e-08  1.163694e-08       7\n",
      "\n",
      "[100 rows x 3 columns]\n"
     ]
    },
    {
     "name": "stderr",
     "output_type": "stream",
     "text": [
      " 13%|████████████▍                                                                                   | 13/100 [00:00<00:00, 122.97it/s]"
     ]
    },
    {
     "name": "stdout",
     "output_type": "stream",
     "text": [
      "(100, 224, 224, 3)\n"
     ]
    },
    {
     "name": "stderr",
     "output_type": "stream",
     "text": [
      "100%|███████████████████████████████████████████████████████████████████████████████████████████████| 100/100 [00:00<00:00, 120.73it/s]\n",
      "C:\\Users\\benza-ord\\anaconda3\\envs\\keras-gpu\\lib\\site-packages\\ipykernel_launcher.py:47: UserWarning: Update your `Model` call to the Keras 2 API: `Model(inputs=[<tf.Tenso..., outputs=Tensor(\"re...)`\n"
     ]
    },
    {
     "name": "stdout",
     "output_type": "stream",
     "text": [
      "(100, 224, 224, 3)\n",
      "61 res3c_branch2a\n",
      "preds (100, 28, 28, 128)\n",
      "(100, 100352)\n",
      "             PC1           PC2  target\n",
      "0   1.344756e-08 -4.854163e-10       3\n",
      "1   1.344756e-08 -4.854189e-10       8\n",
      "2   1.344756e-08 -4.854183e-10       8\n",
      "3   1.344756e-08 -4.854183e-10       0\n",
      "4   1.344756e-08 -4.854183e-10       6\n",
      "..           ...           ...     ...\n",
      "95  1.344756e-08 -4.854183e-10       6\n",
      "96  1.346270e-08  1.163694e-08       6\n",
      "97  1.346270e-08  1.163694e-08       0\n",
      "98  1.346270e-08  1.163694e-08       0\n",
      "99  1.346270e-08  1.163694e-08       7\n",
      "\n",
      "[100 rows x 3 columns]\n",
      "(100, 224, 224, 3)"
     ]
    },
    {
     "name": "stderr",
     "output_type": "stream",
     "text": [
      " 13%|████████████▍                                                                                   | 13/100 [00:00<00:00, 121.82it/s]"
     ]
    },
    {
     "name": "stdout",
     "output_type": "stream",
     "text": [
      "\n"
     ]
    },
    {
     "name": "stderr",
     "output_type": "stream",
     "text": [
      "100%|███████████████████████████████████████████████████████████████████████████████████████████████| 100/100 [00:00<00:00, 121.69it/s]\n",
      "C:\\Users\\benza-ord\\anaconda3\\envs\\keras-gpu\\lib\\site-packages\\ipykernel_launcher.py:47: UserWarning: Update your `Model` call to the Keras 2 API: `Model(inputs=[<tf.Tenso..., outputs=Tensor(\"re...)`\n"
     ]
    },
    {
     "name": "stdout",
     "output_type": "stream",
     "text": [
      "(100, 224, 224, 3)\n",
      "61 res3c_branch2a\n",
      "preds (100, 28, 28, 128)\n",
      "(100, 100352)\n",
      "             PC1           PC2  target\n",
      "0   1.344756e-08 -4.854163e-10       3\n",
      "1   1.344756e-08 -4.854189e-10       8\n",
      "2   1.344756e-08 -4.854183e-10       8\n",
      "3   1.344756e-08 -4.854183e-10       0\n",
      "4   1.344756e-08 -4.854183e-10       6\n",
      "..           ...           ...     ...\n",
      "95  1.344756e-08 -4.854183e-10       6\n",
      "96  1.346270e-08  1.163694e-08       6\n",
      "97  1.346270e-08  1.163694e-08       0\n",
      "98  1.346270e-08  1.163694e-08       0\n",
      "99  1.346270e-08  1.163694e-08       7\n",
      "\n",
      "[100 rows x 3 columns]\n"
     ]
    },
    {
     "name": "stderr",
     "output_type": "stream",
     "text": [
      " 13%|████████████▍                                                                                   | 13/100 [00:00<00:00, 121.82it/s]"
     ]
    },
    {
     "name": "stdout",
     "output_type": "stream",
     "text": [
      "(100, 224, 224, 3)\n"
     ]
    },
    {
     "name": "stderr",
     "output_type": "stream",
     "text": [
      "100%|███████████████████████████████████████████████████████████████████████████████████████████████| 100/100 [00:00<00:00, 122.25it/s]\n",
      "C:\\Users\\benza-ord\\anaconda3\\envs\\keras-gpu\\lib\\site-packages\\ipykernel_launcher.py:47: UserWarning: Update your `Model` call to the Keras 2 API: `Model(inputs=[<tf.Tenso..., outputs=Tensor(\"re...)`\n"
     ]
    },
    {
     "name": "stdout",
     "output_type": "stream",
     "text": [
      "(100, 224, 224, 3)\n",
      "61 res3c_branch2a\n",
      "preds (100, 28, 28, 128)\n",
      "(100, 100352)\n",
      "             PC1           PC2  target\n",
      "0   1.344756e-08 -4.854161e-10       3\n",
      "1   1.344756e-08 -4.854189e-10       8\n",
      "2   1.344756e-08 -4.854183e-10       8\n",
      "3   1.344756e-08 -4.854183e-10       0\n",
      "4   1.344756e-08 -4.854183e-10       6\n",
      "..           ...           ...     ...\n",
      "95  1.344756e-08 -4.854183e-10       6\n",
      "96  1.346270e-08  1.163694e-08       6\n",
      "97  1.346270e-08  1.163694e-08       0\n",
      "98  1.346270e-08  1.163694e-08       0\n",
      "99  1.346270e-08  1.163694e-08       7\n",
      "\n",
      "[100 rows x 3 columns]"
     ]
    },
    {
     "name": "stderr",
     "output_type": "stream",
     "text": [
      " 13%|████████████▍                                                                                   | 13/100 [00:00<00:00, 122.97it/s]"
     ]
    },
    {
     "name": "stdout",
     "output_type": "stream",
     "text": [
      "\n",
      "(100, 224, 224, 3)\n"
     ]
    },
    {
     "name": "stderr",
     "output_type": "stream",
     "text": [
      "100%|███████████████████████████████████████████████████████████████████████████████████████████████| 100/100 [00:00<00:00, 120.71it/s]\n",
      "C:\\Users\\benza-ord\\anaconda3\\envs\\keras-gpu\\lib\\site-packages\\ipykernel_launcher.py:47: UserWarning: Update your `Model` call to the Keras 2 API: `Model(inputs=[<tf.Tenso..., outputs=Tensor(\"re...)`\n"
     ]
    },
    {
     "name": "stdout",
     "output_type": "stream",
     "text": [
      "(100, 224, 224, 3)\n",
      "61 res3c_branch2a\n",
      "preds (100, 28, 28, 128)\n",
      "(100, 100352)\n",
      "             PC1           PC2  target\n",
      "0   1.344756e-08 -4.854237e-10       3\n",
      "1   1.344756e-08 -4.854189e-10       8\n",
      "2   1.344756e-08 -4.854188e-10       8\n",
      "3   1.344756e-08 -4.854188e-10       0\n",
      "4   1.344756e-08 -4.854188e-10       6\n",
      "..           ...           ...     ...\n",
      "95  1.344756e-08 -4.854188e-10       6\n",
      "96  1.346270e-08  1.163694e-08       6\n",
      "97  1.346270e-08  1.163694e-08       0\n",
      "98  1.346270e-08  1.163694e-08       0\n",
      "99  1.346270e-08  1.163694e-08       7\n",
      "\n",
      "[100 rows x 3 columns]\n",
      "(100, 224, 224, 3)"
     ]
    },
    {
     "name": "stderr",
     "output_type": "stream",
     "text": [
      " 13%|████████████▍                                                                                   | 13/100 [00:00<00:00, 121.82it/s]"
     ]
    },
    {
     "name": "stdout",
     "output_type": "stream",
     "text": [
      "\n"
     ]
    },
    {
     "name": "stderr",
     "output_type": "stream",
     "text": [
      "100%|███████████████████████████████████████████████████████████████████████████████████████████████| 100/100 [00:00<00:00, 119.50it/s]\n",
      "C:\\Users\\benza-ord\\anaconda3\\envs\\keras-gpu\\lib\\site-packages\\ipykernel_launcher.py:47: UserWarning: Update your `Model` call to the Keras 2 API: `Model(inputs=[<tf.Tenso..., outputs=Tensor(\"re...)`\n"
     ]
    },
    {
     "name": "stdout",
     "output_type": "stream",
     "text": [
      "(100, 224, 224, 3)\n",
      "64 res3c_branch2b\n",
      "preds (100, 28, 28, 128)\n",
      "(100, 100352)\n",
      "             PC1           PC2  target\n",
      "0   1.293840e-08 -5.511642e-10       3\n",
      "1   1.293840e-08 -5.511576e-10       8\n",
      "2   1.293840e-08 -5.511585e-10       8\n",
      "3   1.293840e-08 -5.511585e-10       0\n",
      "4   1.293840e-08 -5.511585e-10       6\n",
      "..           ...           ...     ...\n",
      "95  1.293840e-08 -5.511585e-10       6\n",
      "96  1.301796e-08  1.314695e-08       6\n",
      "97  1.301796e-08  1.314695e-08       0\n",
      "98  1.301796e-08  1.314695e-08       0\n",
      "99  1.301796e-08  1.314695e-08       7\n",
      "\n",
      "[100 rows x 3 columns]\n",
      "(100, 224, 224, 3)"
     ]
    },
    {
     "name": "stderr",
     "output_type": "stream",
     "text": [
      " 25%|████████████████████████                                                                        | 25/100 [00:00<00:00, 121.47it/s]"
     ]
    },
    {
     "name": "stdout",
     "output_type": "stream",
     "text": [
      "\n"
     ]
    },
    {
     "name": "stderr",
     "output_type": "stream",
     "text": [
      "100%|███████████████████████████████████████████████████████████████████████████████████████████████| 100/100 [00:00<00:00, 120.91it/s]\n",
      "C:\\Users\\benza-ord\\anaconda3\\envs\\keras-gpu\\lib\\site-packages\\ipykernel_launcher.py:47: UserWarning: Update your `Model` call to the Keras 2 API: `Model(inputs=[<tf.Tenso..., outputs=Tensor(\"re...)`\n"
     ]
    },
    {
     "name": "stdout",
     "output_type": "stream",
     "text": [
      "(100, 224, 224, 3)\n",
      "64 res3c_branch2b\n",
      "preds (100, 28, 28, 128)\n",
      "(100, 100352)\n",
      "             PC1           PC2  target\n",
      "0   1.293840e-08 -5.511639e-10       3\n",
      "1   1.293840e-08 -5.511575e-10       8\n",
      "2   1.293840e-08 -5.511581e-10       8\n",
      "3   1.293840e-08 -5.511581e-10       0\n",
      "4   1.293840e-08 -5.511581e-10       6\n",
      "..           ...           ...     ...\n",
      "95  1.293840e-08 -5.511581e-10       6\n",
      "96  1.301796e-08  1.314695e-08       6\n",
      "97  1.301796e-08  1.314695e-08       0\n",
      "98  1.301796e-08  1.314695e-08       0\n",
      "99  1.301796e-08  1.314695e-08       7\n",
      "\n",
      "[100 rows x 3 columns]\n",
      "(100, 224, 224, 3)"
     ]
    },
    {
     "name": "stderr",
     "output_type": "stream",
     "text": [
      " 12%|███████████▌                                                                                    | 12/100 [00:00<00:00, 119.13it/s]"
     ]
    },
    {
     "name": "stdout",
     "output_type": "stream",
     "text": [
      "\n"
     ]
    },
    {
     "name": "stderr",
     "output_type": "stream",
     "text": [
      "100%|███████████████████████████████████████████████████████████████████████████████████████████████| 100/100 [00:00<00:00, 120.51it/s]\n",
      "C:\\Users\\benza-ord\\anaconda3\\envs\\keras-gpu\\lib\\site-packages\\ipykernel_launcher.py:47: UserWarning: Update your `Model` call to the Keras 2 API: `Model(inputs=[<tf.Tenso..., outputs=Tensor(\"re...)`\n"
     ]
    },
    {
     "name": "stdout",
     "output_type": "stream",
     "text": [
      "(100, 224, 224, 3)\n",
      "64 res3c_branch2b\n",
      "preds (100, 28, 28, 128)\n",
      "(100, 100352)\n",
      "             PC1           PC2  target\n",
      "0   1.293840e-08 -5.511642e-10       3\n",
      "1   1.293840e-08 -5.511576e-10       8\n",
      "2   1.293840e-08 -5.511585e-10       8\n",
      "3   1.293840e-08 -5.511585e-10       0\n",
      "4   1.293840e-08 -5.511585e-10       6\n",
      "..           ...           ...     ...\n",
      "95  1.293840e-08 -5.511585e-10       6\n",
      "96  1.301796e-08  1.314695e-08       6\n",
      "97  1.301796e-08  1.314695e-08       0\n",
      "98  1.301796e-08  1.314695e-08       0\n",
      "99  1.301796e-08  1.314695e-08       7\n",
      "\n",
      "[100 rows x 3 columns]\n"
     ]
    },
    {
     "name": "stderr",
     "output_type": "stream",
     "text": [
      " 13%|████████████▍                                                                                   | 13/100 [00:00<00:00, 120.69it/s]"
     ]
    },
    {
     "name": "stdout",
     "output_type": "stream",
     "text": [
      "(100, 224, 224, 3)\n"
     ]
    },
    {
     "name": "stderr",
     "output_type": "stream",
     "text": [
      "100%|███████████████████████████████████████████████████████████████████████████████████████████████| 100/100 [00:00<00:00, 122.21it/s]\n",
      "C:\\Users\\benza-ord\\anaconda3\\envs\\keras-gpu\\lib\\site-packages\\ipykernel_launcher.py:47: UserWarning: Update your `Model` call to the Keras 2 API: `Model(inputs=[<tf.Tenso..., outputs=Tensor(\"re...)`\n"
     ]
    },
    {
     "name": "stdout",
     "output_type": "stream",
     "text": [
      "(100, 224, 224, 3)\n",
      "64 res3c_branch2b\n",
      "preds (100, 28, 28, 128)\n",
      "(100, 100352)\n",
      "             PC1           PC2  target\n",
      "0   1.293840e-08 -5.511633e-10       3\n",
      "1   1.293840e-08 -5.511576e-10       8\n",
      "2   1.293840e-08 -5.511583e-10       8\n",
      "3   1.293840e-08 -5.511583e-10       0\n",
      "4   1.293840e-08 -5.511583e-10       6\n",
      "..           ...           ...     ...\n",
      "95  1.293840e-08 -5.511583e-10       6\n",
      "96  1.301796e-08  1.314695e-08       6\n",
      "97  1.301796e-08  1.314695e-08       0\n",
      "98  1.301796e-08  1.314695e-08       0\n",
      "99  1.301796e-08  1.314695e-08       7\n",
      "\n",
      "[100 rows x 3 columns]\n",
      "(100, 224, 224, 3)"
     ]
    },
    {
     "name": "stderr",
     "output_type": "stream",
     "text": [
      " 13%|████████████▍                                                                                   | 13/100 [00:00<00:00, 121.82it/s]"
     ]
    },
    {
     "name": "stdout",
     "output_type": "stream",
     "text": [
      "\n"
     ]
    },
    {
     "name": "stderr",
     "output_type": "stream",
     "text": [
      "100%|███████████████████████████████████████████████████████████████████████████████████████████████| 100/100 [00:00<00:00, 121.53it/s]\n",
      "C:\\Users\\benza-ord\\anaconda3\\envs\\keras-gpu\\lib\\site-packages\\ipykernel_launcher.py:47: UserWarning: Update your `Model` call to the Keras 2 API: `Model(inputs=[<tf.Tenso..., outputs=Tensor(\"re...)`\n"
     ]
    },
    {
     "name": "stdout",
     "output_type": "stream",
     "text": [
      "(100, 224, 224, 3)\n",
      "64 res3c_branch2b\n",
      "preds (100, 28, 28, 128)\n",
      "(100, 100352)\n",
      "             PC1           PC2  target\n",
      "0   1.293840e-08 -5.511633e-10       3\n",
      "1   1.293840e-08 -5.511576e-10       8\n",
      "2   1.293840e-08 -5.511582e-10       8\n",
      "3   1.293840e-08 -5.511582e-10       0\n",
      "4   1.293840e-08 -5.511582e-10       6\n",
      "..           ...           ...     ...\n",
      "95  1.293840e-08 -5.511582e-10       6\n",
      "96  1.301796e-08  1.314695e-08       6\n",
      "97  1.301796e-08  1.314695e-08       0\n",
      "98  1.301796e-08  1.314695e-08       0\n",
      "99  1.301796e-08  1.314695e-08       7\n",
      "\n",
      "[100 rows x 3 columns]\n",
      "(100, 224, 224, 3)"
     ]
    },
    {
     "name": "stderr",
     "output_type": "stream",
     "text": [
      " 12%|███████████▌                                                                                    | 12/100 [00:00<00:00, 119.68it/s]"
     ]
    },
    {
     "name": "stdout",
     "output_type": "stream",
     "text": [
      "\n"
     ]
    },
    {
     "name": "stderr",
     "output_type": "stream",
     "text": [
      "100%|███████████████████████████████████████████████████████████████████████████████████████████████| 100/100 [00:00<00:00, 111.29it/s]\n",
      "C:\\Users\\benza-ord\\anaconda3\\envs\\keras-gpu\\lib\\site-packages\\ipykernel_launcher.py:47: UserWarning: Update your `Model` call to the Keras 2 API: `Model(inputs=[<tf.Tenso..., outputs=Tensor(\"re...)`\n"
     ]
    },
    {
     "name": "stdout",
     "output_type": "stream",
     "text": [
      "(100, 224, 224, 3)\n",
      "64 res3c_branch2b\n",
      "preds (100, 28, 28, 128)\n",
      "(100, 100352)\n",
      "             PC1           PC2  target\n",
      "0   1.293840e-08 -5.511633e-10       3\n",
      "1   1.293840e-08 -5.511576e-10       8\n",
      "2   1.293840e-08 -5.511582e-10       8\n",
      "3   1.293840e-08 -5.511582e-10       0\n",
      "4   1.293840e-08 -5.511582e-10       6\n",
      "..           ...           ...     ...\n",
      "95  1.293840e-08 -5.511582e-10       6\n",
      "96  1.301796e-08  1.314695e-08       6\n",
      "97  1.301796e-08  1.314695e-08       0\n",
      "98  1.301796e-08  1.314695e-08       0\n",
      "99  1.301796e-08  1.314695e-08       7\n",
      "\n",
      "[100 rows x 3 columns]\n",
      "(100, 224, 224, 3)"
     ]
    },
    {
     "name": "stderr",
     "output_type": "stream",
     "text": [
      " 13%|████████████▍                                                                                   | 13/100 [00:00<00:00, 121.25it/s]"
     ]
    },
    {
     "name": "stdout",
     "output_type": "stream",
     "text": [
      "\n"
     ]
    },
    {
     "name": "stderr",
     "output_type": "stream",
     "text": [
      "100%|███████████████████████████████████████████████████████████████████████████████████████████████| 100/100 [00:00<00:00, 118.88it/s]\n",
      "C:\\Users\\benza-ord\\anaconda3\\envs\\keras-gpu\\lib\\site-packages\\ipykernel_launcher.py:47: UserWarning: Update your `Model` call to the Keras 2 API: `Model(inputs=[<tf.Tenso..., outputs=Tensor(\"re...)`\n"
     ]
    },
    {
     "name": "stdout",
     "output_type": "stream",
     "text": [
      "(100, 224, 224, 3)\n",
      "64 res3c_branch2b\n",
      "preds (100, 28, 28, 128)\n",
      "(100, 100352)\n",
      "             PC1           PC2  target\n",
      "0   1.293840e-08 -5.511647e-10       3\n",
      "1   1.293840e-08 -5.511575e-10       8\n",
      "2   1.293840e-08 -5.511579e-10       8\n",
      "3   1.293840e-08 -5.511579e-10       0\n",
      "4   1.293840e-08 -5.511579e-10       6\n",
      "..           ...           ...     ...\n",
      "95  1.293840e-08 -5.511579e-10       6\n",
      "96  1.301796e-08  1.314695e-08       6\n",
      "97  1.301796e-08  1.314695e-08       0\n",
      "98  1.301796e-08  1.314695e-08       0\n",
      "99  1.301796e-08  1.314695e-08       7\n",
      "\n",
      "[100 rows x 3 columns]\n",
      "(100, 224, 224, 3)"
     ]
    },
    {
     "name": "stderr",
     "output_type": "stream",
     "text": [
      " 13%|████████████▍                                                                                   | 13/100 [00:00<00:00, 121.82it/s]"
     ]
    },
    {
     "name": "stdout",
     "output_type": "stream",
     "text": [
      "\n"
     ]
    },
    {
     "name": "stderr",
     "output_type": "stream",
     "text": [
      "100%|███████████████████████████████████████████████████████████████████████████████████████████████| 100/100 [00:00<00:00, 120.45it/s]\n",
      "C:\\Users\\benza-ord\\anaconda3\\envs\\keras-gpu\\lib\\site-packages\\ipykernel_launcher.py:47: UserWarning: Update your `Model` call to the Keras 2 API: `Model(inputs=[<tf.Tenso..., outputs=Tensor(\"re...)`\n"
     ]
    },
    {
     "name": "stdout",
     "output_type": "stream",
     "text": [
      "(100, 224, 224, 3)\n",
      "64 res3c_branch2b\n",
      "preds (100, 28, 28, 128)\n",
      "(100, 100352)\n",
      "             PC1           PC2  target\n",
      "0   1.293840e-08 -5.511646e-10       3\n",
      "1   1.293840e-08 -5.511576e-10       8\n",
      "2   1.293840e-08 -5.511582e-10       8\n",
      "3   1.293840e-08 -5.511582e-10       0\n",
      "4   1.293840e-08 -5.511582e-10       6\n",
      "..           ...           ...     ...\n",
      "95  1.293840e-08 -5.511582e-10       6\n",
      "96  1.301796e-08  1.314695e-08       6\n",
      "97  1.301796e-08  1.314695e-08       0\n",
      "98  1.301796e-08  1.314695e-08       0\n",
      "99  1.301796e-08  1.314695e-08       7\n",
      "\n",
      "[100 rows x 3 columns]\n"
     ]
    },
    {
     "name": "stderr",
     "output_type": "stream",
     "text": [
      " 13%|████████████▍                                                                                   | 13/100 [00:00<00:00, 120.69it/s]"
     ]
    },
    {
     "name": "stdout",
     "output_type": "stream",
     "text": [
      "(100, 224, 224, 3)\n"
     ]
    },
    {
     "name": "stderr",
     "output_type": "stream",
     "text": [
      "100%|███████████████████████████████████████████████████████████████████████████████████████████████| 100/100 [00:00<00:00, 119.37it/s]\n",
      "C:\\Users\\benza-ord\\anaconda3\\envs\\keras-gpu\\lib\\site-packages\\ipykernel_launcher.py:47: UserWarning: Update your `Model` call to the Keras 2 API: `Model(inputs=[<tf.Tenso..., outputs=Tensor(\"re...)`\n"
     ]
    },
    {
     "name": "stdout",
     "output_type": "stream",
     "text": [
      "(100, 224, 224, 3)\n",
      "64 res3c_branch2b\n",
      "preds (100, 28, 28, 128)\n",
      "(100, 100352)\n",
      "             PC1           PC2  target\n",
      "0   1.293840e-08 -5.511633e-10       3\n",
      "1   1.293840e-08 -5.511576e-10       8\n",
      "2   1.293840e-08 -5.511582e-10       8\n",
      "3   1.293840e-08 -5.511582e-10       0\n",
      "4   1.293840e-08 -5.511582e-10       6\n",
      "..           ...           ...     ...\n",
      "95  1.293840e-08 -5.511582e-10       6\n",
      "96  1.301796e-08  1.314695e-08       6\n",
      "97  1.301796e-08  1.314695e-08       0\n",
      "98  1.301796e-08  1.314695e-08       0\n",
      "99  1.301796e-08  1.314695e-08       7\n",
      "\n",
      "[100 rows x 3 columns]\n",
      "(100, 224, 224, 3)"
     ]
    },
    {
     "name": "stderr",
     "output_type": "stream",
     "text": [
      " 13%|████████████▍                                                                                   | 13/100 [00:00<00:00, 120.69it/s]"
     ]
    },
    {
     "name": "stdout",
     "output_type": "stream",
     "text": [
      "\n"
     ]
    },
    {
     "name": "stderr",
     "output_type": "stream",
     "text": [
      "100%|███████████████████████████████████████████████████████████████████████████████████████████████| 100/100 [00:00<00:00, 119.08it/s]\n",
      "C:\\Users\\benza-ord\\anaconda3\\envs\\keras-gpu\\lib\\site-packages\\ipykernel_launcher.py:47: UserWarning: Update your `Model` call to the Keras 2 API: `Model(inputs=[<tf.Tenso..., outputs=Tensor(\"re...)`\n"
     ]
    },
    {
     "name": "stdout",
     "output_type": "stream",
     "text": [
      "(100, 224, 224, 3)\n",
      "64 res3c_branch2b\n",
      "preds (100, 28, 28, 128)\n",
      "(100, 100352)\n",
      "             PC1           PC2  target\n",
      "0   1.293840e-08 -5.511633e-10       3\n",
      "1   1.293840e-08 -5.511576e-10       8\n",
      "2   1.293840e-08 -5.511582e-10       8\n",
      "3   1.293840e-08 -5.511582e-10       0\n",
      "4   1.293840e-08 -5.511582e-10       6\n",
      "..           ...           ...     ...\n",
      "95  1.293840e-08 -5.511582e-10       6\n",
      "96  1.301796e-08  1.314695e-08       6\n",
      "97  1.301796e-08  1.314695e-08       0\n",
      "98  1.301796e-08  1.314695e-08       0\n",
      "99  1.301796e-08  1.314695e-08       7\n",
      "\n",
      "[100 rows x 3 columns]\n"
     ]
    },
    {
     "name": "stderr",
     "output_type": "stream",
     "text": [
      " 13%|████████████▍                                                                                   | 13/100 [00:00<00:00, 121.82it/s]"
     ]
    },
    {
     "name": "stdout",
     "output_type": "stream",
     "text": [
      "(100, 224, 224, 3)\n"
     ]
    },
    {
     "name": "stderr",
     "output_type": "stream",
     "text": [
      "100%|███████████████████████████████████████████████████████████████████████████████████████████████| 100/100 [00:00<00:00, 116.85it/s]\n",
      "C:\\Users\\benza-ord\\anaconda3\\envs\\keras-gpu\\lib\\site-packages\\ipykernel_launcher.py:47: UserWarning: Update your `Model` call to the Keras 2 API: `Model(inputs=[<tf.Tenso..., outputs=Tensor(\"re...)`\n"
     ]
    },
    {
     "name": "stdout",
     "output_type": "stream",
     "text": [
      "(100, 224, 224, 3)\n",
      "67 res3c_branch2c\n",
      "preds (100, 28, 28, 512)\n",
      "(100, 401408)\n"
     ]
    },
    {
     "name": "stderr",
     "output_type": "stream",
     "text": [
      " 13%|████████████▍                                                                                   | 13/100 [00:00<00:00, 121.78it/s]"
     ]
    },
    {
     "name": "stdout",
     "output_type": "stream",
     "text": [
      "             PC1           PC2  target\n",
      "0   2.723185e-08 -1.170699e-09       3\n",
      "1   2.723183e-08 -1.170674e-09       8\n",
      "2   2.723183e-08 -1.170696e-09       8\n",
      "3   2.723183e-08 -1.170696e-09       0\n",
      "4   2.723183e-08 -1.170696e-09       6\n",
      "..           ...           ...     ...\n",
      "95  2.723183e-08 -1.170696e-09       6\n",
      "96  2.725094e-08  2.807699e-08       6\n",
      "97  2.725094e-08  2.807699e-08       0\n",
      "98  2.725094e-08  2.807699e-08       0\n",
      "99  2.725094e-08  2.807699e-08       7\n",
      "\n",
      "[100 rows x 3 columns]\n",
      "(100, 224, 224, 3)\n"
     ]
    },
    {
     "name": "stderr",
     "output_type": "stream",
     "text": [
      "100%|███████████████████████████████████████████████████████████████████████████████████████████████| 100/100 [00:00<00:00, 118.86it/s]\n",
      "C:\\Users\\benza-ord\\anaconda3\\envs\\keras-gpu\\lib\\site-packages\\ipykernel_launcher.py:47: UserWarning: Update your `Model` call to the Keras 2 API: `Model(inputs=[<tf.Tenso..., outputs=Tensor(\"re...)`\n"
     ]
    },
    {
     "name": "stdout",
     "output_type": "stream",
     "text": [
      "(100, 224, 224, 3)\n",
      "67 res3c_branch2c\n",
      "preds (100, 28, 28, 512)\n",
      "(100, 401408)\n"
     ]
    },
    {
     "name": "stderr",
     "output_type": "stream",
     "text": [
      " 13%|████████████▍                                                                                   | 13/100 [00:00<00:00, 120.69it/s]"
     ]
    },
    {
     "name": "stdout",
     "output_type": "stream",
     "text": [
      "             PC1           PC2  target\n",
      "0   2.723185e-08 -1.170702e-09       3\n",
      "1   2.723183e-08 -1.170695e-09       8\n",
      "2   2.723183e-08 -1.170697e-09       8\n",
      "3   2.723183e-08 -1.170697e-09       0\n",
      "4   2.723183e-08 -1.170697e-09       6\n",
      "..           ...           ...     ...\n",
      "95  2.723183e-08 -1.170697e-09       6\n",
      "96  2.725094e-08  2.807700e-08       6\n",
      "97  2.725094e-08  2.807700e-08       0\n",
      "98  2.725094e-08  2.807700e-08       0\n",
      "99  2.725094e-08  2.807700e-08       7\n",
      "\n",
      "[100 rows x 3 columns]\n",
      "(100, 224, 224, 3)\n"
     ]
    },
    {
     "name": "stderr",
     "output_type": "stream",
     "text": [
      "100%|███████████████████████████████████████████████████████████████████████████████████████████████| 100/100 [00:00<00:00, 113.24it/s]\n",
      "C:\\Users\\benza-ord\\anaconda3\\envs\\keras-gpu\\lib\\site-packages\\ipykernel_launcher.py:47: UserWarning: Update your `Model` call to the Keras 2 API: `Model(inputs=[<tf.Tenso..., outputs=Tensor(\"re...)`\n"
     ]
    },
    {
     "name": "stdout",
     "output_type": "stream",
     "text": [
      "(100, 224, 224, 3)\n",
      "67 res3c_branch2c\n",
      "preds (100, 28, 28, 512)\n",
      "(100, 401408)\n"
     ]
    },
    {
     "name": "stderr",
     "output_type": "stream",
     "text": [
      " 11%|██████████▌                                                                                     | 11/100 [00:00<00:00, 107.06it/s]"
     ]
    },
    {
     "name": "stdout",
     "output_type": "stream",
     "text": [
      "             PC1           PC2  target\n",
      "0   2.723185e-08 -1.170710e-09       3\n",
      "1   2.723183e-08 -1.170695e-09       8\n",
      "2   2.723183e-08 -1.170695e-09       8\n",
      "3   2.723183e-08 -1.170695e-09       0\n",
      "4   2.723183e-08 -1.170695e-09       6\n",
      "..           ...           ...     ...\n",
      "95  2.723183e-08 -1.170695e-09       6\n",
      "96  2.725094e-08  2.807699e-08       6\n",
      "97  2.725094e-08  2.807699e-08       0\n",
      "98  2.725094e-08  2.807699e-08       0\n",
      "99  2.725094e-08  2.807699e-08       7\n",
      "\n",
      "[100 rows x 3 columns]\n",
      "(100, 224, 224, 3)\n"
     ]
    },
    {
     "name": "stderr",
     "output_type": "stream",
     "text": [
      "100%|███████████████████████████████████████████████████████████████████████████████████████████████| 100/100 [00:00<00:00, 119.21it/s]\n",
      "C:\\Users\\benza-ord\\anaconda3\\envs\\keras-gpu\\lib\\site-packages\\ipykernel_launcher.py:47: UserWarning: Update your `Model` call to the Keras 2 API: `Model(inputs=[<tf.Tenso..., outputs=Tensor(\"re...)`\n"
     ]
    },
    {
     "name": "stdout",
     "output_type": "stream",
     "text": [
      "(100, 224, 224, 3)\n",
      "67 res3c_branch2c\n",
      "preds (100, 28, 28, 512)\n",
      "(100, 401408)\n"
     ]
    },
    {
     "name": "stderr",
     "output_type": "stream",
     "text": [
      " 13%|████████████▍                                                                                   | 13/100 [00:00<00:00, 121.78it/s]"
     ]
    },
    {
     "name": "stdout",
     "output_type": "stream",
     "text": [
      "             PC1           PC2  target\n",
      "0   2.723185e-08 -1.170698e-09       3\n",
      "1   2.723183e-08 -1.170695e-09       8\n",
      "2   2.723183e-08 -1.170696e-09       8\n",
      "3   2.723183e-08 -1.170696e-09       0\n",
      "4   2.723183e-08 -1.170696e-09       6\n",
      "..           ...           ...     ...\n",
      "95  2.723183e-08 -1.170696e-09       6\n",
      "96  2.725094e-08  2.807700e-08       6\n",
      "97  2.725094e-08  2.807700e-08       0\n",
      "98  2.725094e-08  2.807700e-08       0\n",
      "99  2.725094e-08  2.807700e-08       7\n",
      "\n",
      "[100 rows x 3 columns]\n",
      "(100, 224, 224, 3)\n"
     ]
    },
    {
     "name": "stderr",
     "output_type": "stream",
     "text": [
      "100%|███████████████████████████████████████████████████████████████████████████████████████████████| 100/100 [00:00<00:00, 109.58it/s]\n",
      "C:\\Users\\benza-ord\\anaconda3\\envs\\keras-gpu\\lib\\site-packages\\ipykernel_launcher.py:47: UserWarning: Update your `Model` call to the Keras 2 API: `Model(inputs=[<tf.Tenso..., outputs=Tensor(\"re...)`\n"
     ]
    },
    {
     "name": "stdout",
     "output_type": "stream",
     "text": [
      "(100, 224, 224, 3)\n",
      "67 res3c_branch2c\n",
      "preds (100, 28, 28, 512)\n",
      "(100, 401408)\n"
     ]
    },
    {
     "name": "stderr",
     "output_type": "stream",
     "text": [
      " 13%|████████████▍                                                                                   | 13/100 [00:00<00:00, 120.69it/s]"
     ]
    },
    {
     "name": "stdout",
     "output_type": "stream",
     "text": [
      "             PC1           PC2  target\n",
      "0   2.723185e-08 -1.170710e-09       3\n",
      "1   2.723183e-08 -1.170695e-09       8\n",
      "2   2.723183e-08 -1.170695e-09       8\n",
      "3   2.723183e-08 -1.170695e-09       0\n",
      "4   2.723183e-08 -1.170695e-09       6\n",
      "..           ...           ...     ...\n",
      "95  2.723183e-08 -1.170695e-09       6\n",
      "96  2.725094e-08  2.807699e-08       6\n",
      "97  2.725094e-08  2.807699e-08       0\n",
      "98  2.725094e-08  2.807699e-08       0\n",
      "99  2.725094e-08  2.807699e-08       7\n",
      "\n",
      "[100 rows x 3 columns]\n",
      "(100, 224, 224, 3)\n"
     ]
    },
    {
     "name": "stderr",
     "output_type": "stream",
     "text": [
      "100%|███████████████████████████████████████████████████████████████████████████████████████████████| 100/100 [00:00<00:00, 120.15it/s]\n",
      "C:\\Users\\benza-ord\\anaconda3\\envs\\keras-gpu\\lib\\site-packages\\ipykernel_launcher.py:47: UserWarning: Update your `Model` call to the Keras 2 API: `Model(inputs=[<tf.Tenso..., outputs=Tensor(\"re...)`\n"
     ]
    },
    {
     "name": "stdout",
     "output_type": "stream",
     "text": [
      "(100, 224, 224, 3)\n",
      "67 res3c_branch2c\n",
      "preds (100, 28, 28, 512)\n",
      "(100, 401408)\n"
     ]
    },
    {
     "name": "stderr",
     "output_type": "stream",
     "text": [
      " 12%|███████████▌                                                                                    | 12/100 [00:00<00:00, 119.68it/s]"
     ]
    },
    {
     "name": "stdout",
     "output_type": "stream",
     "text": [
      "             PC1           PC2  target\n",
      "0   2.723185e-08 -1.170701e-09       3\n",
      "1   2.723183e-08 -1.170695e-09       8\n",
      "2   2.723183e-08 -1.170696e-09       8\n",
      "3   2.723183e-08 -1.170696e-09       0\n",
      "4   2.723183e-08 -1.170696e-09       6\n",
      "..           ...           ...     ...\n",
      "95  2.723183e-08 -1.170696e-09       6\n",
      "96  2.725094e-08  2.807698e-08       6\n",
      "97  2.725094e-08  2.807698e-08       0\n",
      "98  2.725094e-08  2.807698e-08       0\n",
      "99  2.725094e-08  2.807698e-08       7\n",
      "\n",
      "[100 rows x 3 columns]\n",
      "(100, 224, 224, 3)\n"
     ]
    },
    {
     "name": "stderr",
     "output_type": "stream",
     "text": [
      "100%|███████████████████████████████████████████████████████████████████████████████████████████████| 100/100 [00:00<00:00, 108.72it/s]\n",
      "C:\\Users\\benza-ord\\anaconda3\\envs\\keras-gpu\\lib\\site-packages\\ipykernel_launcher.py:47: UserWarning: Update your `Model` call to the Keras 2 API: `Model(inputs=[<tf.Tenso..., outputs=Tensor(\"re...)`\n"
     ]
    },
    {
     "name": "stdout",
     "output_type": "stream",
     "text": [
      "(100, 224, 224, 3)\n",
      "67 res3c_branch2c\n",
      "preds (100, 28, 28, 512)\n",
      "(100, 401408)\n"
     ]
    },
    {
     "name": "stderr",
     "output_type": "stream",
     "text": [
      " 12%|███████████▌                                                                                    | 12/100 [00:00<00:00, 117.95it/s]"
     ]
    },
    {
     "name": "stdout",
     "output_type": "stream",
     "text": [
      "             PC1           PC2  target\n",
      "0   2.723185e-08 -1.170692e-09       3\n",
      "1   2.723183e-08 -1.170709e-09       8\n",
      "2   2.723183e-08 -1.170696e-09       8\n",
      "3   2.723183e-08 -1.170696e-09       0\n",
      "4   2.723183e-08 -1.170696e-09       6\n",
      "..           ...           ...     ...\n",
      "95  2.723183e-08 -1.170696e-09       6\n",
      "96  2.725094e-08  2.807701e-08       6\n",
      "97  2.725094e-08  2.807701e-08       0\n",
      "98  2.725094e-08  2.807701e-08       0\n",
      "99  2.725094e-08  2.807701e-08       7\n",
      "\n",
      "[100 rows x 3 columns]\n",
      "(100, 224, 224, 3)\n"
     ]
    },
    {
     "name": "stderr",
     "output_type": "stream",
     "text": [
      "100%|███████████████████████████████████████████████████████████████████████████████████████████████| 100/100 [00:00<00:00, 117.74it/s]\n",
      "C:\\Users\\benza-ord\\anaconda3\\envs\\keras-gpu\\lib\\site-packages\\ipykernel_launcher.py:47: UserWarning: Update your `Model` call to the Keras 2 API: `Model(inputs=[<tf.Tenso..., outputs=Tensor(\"re...)`\n"
     ]
    },
    {
     "name": "stdout",
     "output_type": "stream",
     "text": [
      "(100, 224, 224, 3)\n",
      "67 res3c_branch2c\n",
      "preds (100, 28, 28, 512)\n",
      "(100, 401408)\n"
     ]
    },
    {
     "name": "stderr",
     "output_type": "stream",
     "text": [
      " 11%|██████████▌                                                                                     | 11/100 [00:00<00:00, 101.16it/s]"
     ]
    },
    {
     "name": "stdout",
     "output_type": "stream",
     "text": [
      "             PC1           PC2  target\n",
      "0   2.723185e-08 -1.170699e-09       3\n",
      "1   2.723183e-08 -1.170688e-09       8\n",
      "2   2.723183e-08 -1.170696e-09       8\n",
      "3   2.723183e-08 -1.170696e-09       0\n",
      "4   2.723183e-08 -1.170696e-09       6\n",
      "..           ...           ...     ...\n",
      "95  2.723183e-08 -1.170696e-09       6\n",
      "96  2.725094e-08  2.807699e-08       6\n",
      "97  2.725094e-08  2.807699e-08       0\n",
      "98  2.725094e-08  2.807699e-08       0\n",
      "99  2.725094e-08  2.807699e-08       7\n",
      "\n",
      "[100 rows x 3 columns]\n",
      "(100, 224, 224, 3)\n"
     ]
    },
    {
     "name": "stderr",
     "output_type": "stream",
     "text": [
      "100%|███████████████████████████████████████████████████████████████████████████████████████████████| 100/100 [00:00<00:00, 113.60it/s]\n",
      "C:\\Users\\benza-ord\\anaconda3\\envs\\keras-gpu\\lib\\site-packages\\ipykernel_launcher.py:47: UserWarning: Update your `Model` call to the Keras 2 API: `Model(inputs=[<tf.Tenso..., outputs=Tensor(\"re...)`\n"
     ]
    },
    {
     "name": "stdout",
     "output_type": "stream",
     "text": [
      "(100, 224, 224, 3)\n",
      "67 res3c_branch2c\n",
      "preds (100, 28, 28, 512)\n",
      "(100, 401408)\n"
     ]
    },
    {
     "name": "stderr",
     "output_type": "stream",
     "text": [
      " 12%|███████████▌                                                                                    | 12/100 [00:00<00:00, 116.78it/s]"
     ]
    },
    {
     "name": "stdout",
     "output_type": "stream",
     "text": [
      "             PC1           PC2  target\n",
      "0   2.723185e-08 -1.170703e-09       3\n",
      "1   2.723183e-08 -1.170702e-09       8\n",
      "2   2.723183e-08 -1.170697e-09       8\n",
      "3   2.723183e-08 -1.170697e-09       0\n",
      "4   2.723183e-08 -1.170697e-09       6\n",
      "..           ...           ...     ...\n",
      "95  2.723183e-08 -1.170697e-09       6\n",
      "96  2.725094e-08  2.807700e-08       6\n",
      "97  2.725094e-08  2.807700e-08       0\n",
      "98  2.725094e-08  2.807700e-08       0\n",
      "99  2.725094e-08  2.807700e-08       7\n",
      "\n",
      "[100 rows x 3 columns]\n",
      "(100, 224, 224, 3)\n"
     ]
    },
    {
     "name": "stderr",
     "output_type": "stream",
     "text": [
      "100%|███████████████████████████████████████████████████████████████████████████████████████████████| 100/100 [00:00<00:00, 115.51it/s]\n",
      "C:\\Users\\benza-ord\\anaconda3\\envs\\keras-gpu\\lib\\site-packages\\ipykernel_launcher.py:47: UserWarning: Update your `Model` call to the Keras 2 API: `Model(inputs=[<tf.Tenso..., outputs=Tensor(\"re...)`\n"
     ]
    },
    {
     "name": "stdout",
     "output_type": "stream",
     "text": [
      "(100, 224, 224, 3)\n",
      "67 res3c_branch2c\n",
      "preds (100, 28, 28, 512)\n",
      "(100, 401408)\n"
     ]
    },
    {
     "name": "stderr",
     "output_type": "stream",
     "text": [
      " 11%|██████████▌                                                                                     | 11/100 [00:00<00:00, 104.05it/s]"
     ]
    },
    {
     "name": "stdout",
     "output_type": "stream",
     "text": [
      "             PC1           PC2  target\n",
      "0   2.723185e-08 -1.170697e-09       3\n",
      "1   2.723183e-08 -1.170702e-09       8\n",
      "2   2.723183e-08 -1.170696e-09       8\n",
      "3   2.723183e-08 -1.170696e-09       0\n",
      "4   2.723183e-08 -1.170696e-09       6\n",
      "..           ...           ...     ...\n",
      "95  2.723183e-08 -1.170696e-09       6\n",
      "96  2.725094e-08  2.807700e-08       6\n",
      "97  2.725094e-08  2.807700e-08       0\n",
      "98  2.725094e-08  2.807700e-08       0\n",
      "99  2.725094e-08  2.807700e-08       7\n",
      "\n",
      "[100 rows x 3 columns]\n",
      "(100, 224, 224, 3)\n"
     ]
    },
    {
     "name": "stderr",
     "output_type": "stream",
     "text": [
      "100%|███████████████████████████████████████████████████████████████████████████████████████████████| 100/100 [00:00<00:00, 114.36it/s]\n",
      "C:\\Users\\benza-ord\\anaconda3\\envs\\keras-gpu\\lib\\site-packages\\ipykernel_launcher.py:47: UserWarning: Update your `Model` call to the Keras 2 API: `Model(inputs=[<tf.Tenso..., outputs=Tensor(\"re...)`\n"
     ]
    },
    {
     "name": "stdout",
     "output_type": "stream",
     "text": [
      "(100, 224, 224, 3)\n",
      "71 res3d_branch2a\n",
      "preds (100, 28, 28, 128)\n",
      "(100, 100352)\n",
      "             PC1           PC2  target\n",
      "0   2.188548e-08 -8.462508e-10       3\n",
      "1   2.188548e-08 -8.462580e-10       8\n",
      "2   2.188548e-08 -8.462551e-10       8\n",
      "3   2.188548e-08 -8.462551e-10       0\n",
      "4   2.188548e-08 -8.462551e-10       6\n",
      "..           ...           ...     ...\n",
      "95  2.188548e-08 -8.462551e-10       6\n",
      "96  2.172894e-08  2.045644e-08       6\n",
      "97  2.172894e-08  2.045644e-08       0\n",
      "98  2.172894e-08  2.045644e-08       0\n",
      "99  2.172894e-08  2.045644e-08       7\n",
      "\n",
      "[100 rows x 3 columns]\n"
     ]
    },
    {
     "name": "stderr",
     "output_type": "stream",
     "text": [
      " 13%|████████████▍                                                                                   | 13/100 [00:00<00:00, 121.82it/s]"
     ]
    },
    {
     "name": "stdout",
     "output_type": "stream",
     "text": [
      "(100, 224, 224, 3)\n"
     ]
    },
    {
     "name": "stderr",
     "output_type": "stream",
     "text": [
      "100%|███████████████████████████████████████████████████████████████████████████████████████████████| 100/100 [00:00<00:00, 120.20it/s]\n",
      "C:\\Users\\benza-ord\\anaconda3\\envs\\keras-gpu\\lib\\site-packages\\ipykernel_launcher.py:47: UserWarning: Update your `Model` call to the Keras 2 API: `Model(inputs=[<tf.Tenso..., outputs=Tensor(\"re...)`\n"
     ]
    },
    {
     "name": "stdout",
     "output_type": "stream",
     "text": [
      "(100, 224, 224, 3)\n",
      "71 res3d_branch2a\n",
      "preds (100, 28, 28, 128)\n",
      "(100, 100352)\n",
      "             PC1           PC2  target\n",
      "0   2.188548e-08 -8.462712e-10       3\n",
      "1   2.188548e-08 -8.462582e-10       8\n",
      "2   2.188548e-08 -8.462562e-10       8\n",
      "3   2.188548e-08 -8.462562e-10       0\n",
      "4   2.188548e-08 -8.462561e-10       6\n",
      "..           ...           ...     ...\n",
      "95  2.188548e-08 -8.462561e-10       6\n",
      "96  2.172894e-08  2.045645e-08       6\n",
      "97  2.172894e-08  2.045645e-08       0\n",
      "98  2.172894e-08  2.045645e-08       0\n",
      "99  2.172894e-08  2.045645e-08       7\n",
      "\n",
      "[100 rows x 3 columns]"
     ]
    },
    {
     "name": "stderr",
     "output_type": "stream",
     "text": [
      " 13%|████████████▍                                                                                   | 13/100 [00:00<00:00, 122.97it/s]"
     ]
    },
    {
     "name": "stdout",
     "output_type": "stream",
     "text": [
      "\n",
      "(100, 224, 224, 3)\n"
     ]
    },
    {
     "name": "stderr",
     "output_type": "stream",
     "text": [
      "100%|███████████████████████████████████████████████████████████████████████████████████████████████| 100/100 [00:00<00:00, 119.72it/s]\n",
      "C:\\Users\\benza-ord\\anaconda3\\envs\\keras-gpu\\lib\\site-packages\\ipykernel_launcher.py:47: UserWarning: Update your `Model` call to the Keras 2 API: `Model(inputs=[<tf.Tenso..., outputs=Tensor(\"re...)`\n"
     ]
    },
    {
     "name": "stdout",
     "output_type": "stream",
     "text": [
      "(100, 224, 224, 3)\n",
      "71 res3d_branch2a\n",
      "preds (100, 28, 28, 128)\n",
      "(100, 100352)\n",
      "             PC1           PC2  target\n",
      "0   2.188548e-08 -8.462508e-10       3\n",
      "1   2.188548e-08 -8.462580e-10       8\n",
      "2   2.188548e-08 -8.462551e-10       8\n",
      "3   2.188548e-08 -8.462551e-10       0\n",
      "4   2.188548e-08 -8.462551e-10       6\n",
      "..           ...           ...     ...\n",
      "95  2.188548e-08 -8.462551e-10       6\n",
      "96  2.172894e-08  2.045644e-08       6\n",
      "97  2.172894e-08  2.045644e-08       0\n",
      "98  2.172894e-08  2.045644e-08       0\n",
      "99  2.172894e-08  2.045644e-08       7\n",
      "\n",
      "[100 rows x 3 columns]\n",
      "(100, 224, 224, 3)"
     ]
    },
    {
     "name": "stderr",
     "output_type": "stream",
     "text": [
      " 13%|████████████▍                                                                                   | 13/100 [00:00<00:00, 122.97it/s]"
     ]
    },
    {
     "name": "stdout",
     "output_type": "stream",
     "text": [
      "\n"
     ]
    },
    {
     "name": "stderr",
     "output_type": "stream",
     "text": [
      "100%|███████████████████████████████████████████████████████████████████████████████████████████████| 100/100 [00:00<00:00, 121.24it/s]\n",
      "C:\\Users\\benza-ord\\anaconda3\\envs\\keras-gpu\\lib\\site-packages\\ipykernel_launcher.py:47: UserWarning: Update your `Model` call to the Keras 2 API: `Model(inputs=[<tf.Tenso..., outputs=Tensor(\"re...)`\n"
     ]
    },
    {
     "name": "stdout",
     "output_type": "stream",
     "text": [
      "(100, 224, 224, 3)\n",
      "71 res3d_branch2a\n",
      "preds (100, 28, 28, 128)\n",
      "(100, 100352)\n",
      "             PC1           PC2  target\n",
      "0   2.188548e-08 -8.462529e-10       3\n",
      "1   2.188548e-08 -8.462579e-10       8\n",
      "2   2.188548e-08 -8.462551e-10       8\n",
      "3   2.188548e-08 -8.462551e-10       0\n",
      "4   2.188548e-08 -8.462551e-10       6\n",
      "..           ...           ...     ...\n",
      "95  2.188548e-08 -8.462551e-10       6\n",
      "96  2.172894e-08  2.045644e-08       6\n",
      "97  2.172894e-08  2.045644e-08       0\n",
      "98  2.172894e-08  2.045644e-08       0\n",
      "99  2.172894e-08  2.045644e-08       7\n",
      "\n",
      "[100 rows x 3 columns]"
     ]
    },
    {
     "name": "stderr",
     "output_type": "stream",
     "text": [
      " 12%|███████████▌                                                                                    | 12/100 [00:00<00:00, 115.69it/s]"
     ]
    },
    {
     "name": "stdout",
     "output_type": "stream",
     "text": [
      "\n",
      "(100, 224, 224, 3)\n"
     ]
    },
    {
     "name": "stderr",
     "output_type": "stream",
     "text": [
      "100%|███████████████████████████████████████████████████████████████████████████████████████████████| 100/100 [00:00<00:00, 113.95it/s]\n",
      "C:\\Users\\benza-ord\\anaconda3\\envs\\keras-gpu\\lib\\site-packages\\ipykernel_launcher.py:47: UserWarning: Update your `Model` call to the Keras 2 API: `Model(inputs=[<tf.Tenso..., outputs=Tensor(\"re...)`\n"
     ]
    },
    {
     "name": "stdout",
     "output_type": "stream",
     "text": [
      "(100, 224, 224, 3)\n",
      "71 res3d_branch2a\n",
      "preds (100, 28, 28, 128)\n",
      "(100, 100352)\n"
     ]
    },
    {
     "name": "stderr",
     "output_type": "stream",
     "text": [
      " 12%|███████████▌                                                                                    | 12/100 [00:00<00:00, 112.45it/s]"
     ]
    },
    {
     "name": "stdout",
     "output_type": "stream",
     "text": [
      "             PC1           PC2  target\n",
      "0   2.188548e-08 -8.462529e-10       3\n",
      "1   2.188548e-08 -8.462579e-10       8\n",
      "2   2.188548e-08 -8.462551e-10       8\n",
      "3   2.188548e-08 -8.462551e-10       0\n",
      "4   2.188548e-08 -8.462551e-10       6\n",
      "..           ...           ...     ...\n",
      "95  2.188548e-08 -8.462551e-10       6\n",
      "96  2.172894e-08  2.045644e-08       6\n",
      "97  2.172894e-08  2.045644e-08       0\n",
      "98  2.172894e-08  2.045644e-08       0\n",
      "99  2.172894e-08  2.045644e-08       7\n",
      "\n",
      "[100 rows x 3 columns]\n",
      "(100, 224, 224, 3)\n"
     ]
    },
    {
     "name": "stderr",
     "output_type": "stream",
     "text": [
      "100%|███████████████████████████████████████████████████████████████████████████████████████████████| 100/100 [00:00<00:00, 108.01it/s]\n",
      "C:\\Users\\benza-ord\\anaconda3\\envs\\keras-gpu\\lib\\site-packages\\ipykernel_launcher.py:47: UserWarning: Update your `Model` call to the Keras 2 API: `Model(inputs=[<tf.Tenso..., outputs=Tensor(\"re...)`\n"
     ]
    },
    {
     "name": "stdout",
     "output_type": "stream",
     "text": [
      "(100, 224, 224, 3)\n",
      "71 res3d_branch2a\n",
      "preds (100, 28, 28, 128)\n",
      "(100, 100352)\n"
     ]
    },
    {
     "name": "stderr",
     "output_type": "stream",
     "text": [
      " 13%|████████████▍                                                                                   | 13/100 [00:00<00:00, 122.97it/s]"
     ]
    },
    {
     "name": "stdout",
     "output_type": "stream",
     "text": [
      "             PC1           PC2  target\n",
      "0   2.188548e-08 -8.462507e-10       3\n",
      "1   2.188548e-08 -8.462579e-10       8\n",
      "2   2.188548e-08 -8.462554e-10       8\n",
      "3   2.188548e-08 -8.462554e-10       0\n",
      "4   2.188548e-08 -8.462554e-10       6\n",
      "..           ...           ...     ...\n",
      "95  2.188548e-08 -8.462554e-10       6\n",
      "96  2.172894e-08  2.045644e-08       6\n",
      "97  2.172894e-08  2.045644e-08       0\n",
      "98  2.172894e-08  2.045644e-08       0\n",
      "99  2.172894e-08  2.045644e-08       7\n",
      "\n",
      "[100 rows x 3 columns]\n",
      "(100, 224, 224, 3)\n"
     ]
    },
    {
     "name": "stderr",
     "output_type": "stream",
     "text": [
      "100%|███████████████████████████████████████████████████████████████████████████████████████████████| 100/100 [00:00<00:00, 120.37it/s]\n",
      "C:\\Users\\benza-ord\\anaconda3\\envs\\keras-gpu\\lib\\site-packages\\ipykernel_launcher.py:47: UserWarning: Update your `Model` call to the Keras 2 API: `Model(inputs=[<tf.Tenso..., outputs=Tensor(\"re...)`\n"
     ]
    },
    {
     "name": "stdout",
     "output_type": "stream",
     "text": [
      "(100, 224, 224, 3)\n",
      "71 res3d_branch2a\n",
      "preds (100, 28, 28, 128)\n",
      "(100, 100352)\n",
      "             PC1           PC2  target\n",
      "0   2.188548e-08 -8.462711e-10       3\n",
      "1   2.188548e-08 -8.462580e-10       8\n",
      "2   2.188548e-08 -8.462561e-10       8\n",
      "3   2.188548e-08 -8.462561e-10       0\n",
      "4   2.188548e-08 -8.462560e-10       6\n",
      "..           ...           ...     ...\n",
      "95  2.188548e-08 -8.462560e-10       6\n",
      "96  2.172894e-08  2.045645e-08       6\n",
      "97  2.172894e-08  2.045645e-08       0\n",
      "98  2.172894e-08  2.045645e-08       0\n",
      "99  2.172894e-08  2.045645e-08       7\n",
      "\n",
      "[100 rows x 3 columns]\n",
      "(100, 224, 224, 3)"
     ]
    },
    {
     "name": "stderr",
     "output_type": "stream",
     "text": [
      " 13%|████████████▍                                                                                   | 13/100 [00:00<00:00, 120.69it/s]"
     ]
    },
    {
     "name": "stdout",
     "output_type": "stream",
     "text": [
      "\n"
     ]
    },
    {
     "name": "stderr",
     "output_type": "stream",
     "text": [
      "100%|███████████████████████████████████████████████████████████████████████████████████████████████| 100/100 [00:00<00:00, 110.75it/s]\n",
      "C:\\Users\\benza-ord\\anaconda3\\envs\\keras-gpu\\lib\\site-packages\\ipykernel_launcher.py:47: UserWarning: Update your `Model` call to the Keras 2 API: `Model(inputs=[<tf.Tenso..., outputs=Tensor(\"re...)`\n"
     ]
    },
    {
     "name": "stdout",
     "output_type": "stream",
     "text": [
      "(100, 224, 224, 3)\n",
      "71 res3d_branch2a\n",
      "preds (100, 28, 28, 128)\n",
      "(100, 100352)\n",
      "             PC1           PC2  target\n",
      "0   2.188548e-08 -8.462703e-10       3\n",
      "1   2.188548e-08 -8.462579e-10       8\n",
      "2   2.188548e-08 -8.462557e-10       8\n",
      "3   2.188548e-08 -8.462557e-10       0\n",
      "4   2.188548e-08 -8.462557e-10       6\n",
      "..           ...           ...     ...\n",
      "95  2.188548e-08 -8.462557e-10       6\n",
      "96  2.172894e-08  2.045644e-08       6\n",
      "97  2.172894e-08  2.045644e-08       0\n",
      "98  2.172894e-08  2.045644e-08       0\n",
      "99  2.172894e-08  2.045644e-08       7\n",
      "\n",
      "[100 rows x 3 columns]\n",
      "(100, 224, 224, 3)"
     ]
    },
    {
     "name": "stderr",
     "output_type": "stream",
     "text": [
      " 13%|████████████▍                                                                                   | 13/100 [00:00<00:00, 120.69it/s]"
     ]
    },
    {
     "name": "stdout",
     "output_type": "stream",
     "text": [
      "\n"
     ]
    },
    {
     "name": "stderr",
     "output_type": "stream",
     "text": [
      "100%|███████████████████████████████████████████████████████████████████████████████████████████████| 100/100 [00:00<00:00, 114.59it/s]\n",
      "C:\\Users\\benza-ord\\anaconda3\\envs\\keras-gpu\\lib\\site-packages\\ipykernel_launcher.py:47: UserWarning: Update your `Model` call to the Keras 2 API: `Model(inputs=[<tf.Tenso..., outputs=Tensor(\"re...)`\n"
     ]
    },
    {
     "name": "stdout",
     "output_type": "stream",
     "text": [
      "(100, 224, 224, 3)\n",
      "71 res3d_branch2a\n",
      "preds (100, 28, 28, 128)\n",
      "(100, 100352)\n"
     ]
    },
    {
     "name": "stderr",
     "output_type": "stream",
     "text": [
      " 12%|███████████▌                                                                                    | 12/100 [00:00<00:00, 117.37it/s]"
     ]
    },
    {
     "name": "stdout",
     "output_type": "stream",
     "text": [
      "             PC1           PC2  target\n",
      "0   2.188548e-08 -8.462529e-10       3\n",
      "1   2.188548e-08 -8.462579e-10       8\n",
      "2   2.188548e-08 -8.462551e-10       8\n",
      "3   2.188548e-08 -8.462551e-10       0\n",
      "4   2.188548e-08 -8.462551e-10       6\n",
      "..           ...           ...     ...\n",
      "95  2.188548e-08 -8.462551e-10       6\n",
      "96  2.172894e-08  2.045644e-08       6\n",
      "97  2.172894e-08  2.045644e-08       0\n",
      "98  2.172894e-08  2.045644e-08       0\n",
      "99  2.172894e-08  2.045644e-08       7\n",
      "\n",
      "[100 rows x 3 columns]\n",
      "(100, 224, 224, 3)\n"
     ]
    },
    {
     "name": "stderr",
     "output_type": "stream",
     "text": [
      "100%|███████████████████████████████████████████████████████████████████████████████████████████████| 100/100 [00:00<00:00, 113.69it/s]\n",
      "C:\\Users\\benza-ord\\anaconda3\\envs\\keras-gpu\\lib\\site-packages\\ipykernel_launcher.py:47: UserWarning: Update your `Model` call to the Keras 2 API: `Model(inputs=[<tf.Tenso..., outputs=Tensor(\"re...)`\n"
     ]
    },
    {
     "name": "stdout",
     "output_type": "stream",
     "text": [
      "(100, 224, 224, 3)\n",
      "71 res3d_branch2a\n",
      "preds (100, 28, 28, 128)\n",
      "(100, 100352)\n",
      "             PC1           PC2  target\n",
      "0   2.188548e-08 -8.462509e-10       3\n",
      "1   2.188548e-08 -8.462577e-10       8\n",
      "2   2.188548e-08 -8.462548e-10       8\n",
      "3   2.188548e-08 -8.462548e-10       0\n",
      "4   2.188548e-08 -8.462548e-10       6\n",
      "..           ...           ...     ...\n",
      "95  2.188548e-08 -8.462548e-10       6\n",
      "96  2.172894e-08  2.045644e-08       6\n",
      "97  2.172894e-08  2.045644e-08       0\n",
      "98  2.172894e-08  2.045644e-08       0\n",
      "99  2.172894e-08  2.045644e-08       7\n",
      "\n",
      "[100 rows x 3 columns]"
     ]
    },
    {
     "name": "stderr",
     "output_type": "stream",
     "text": [
      " 13%|████████████▍                                                                                   | 13/100 [00:00<00:00, 120.69it/s]"
     ]
    },
    {
     "name": "stdout",
     "output_type": "stream",
     "text": [
      "\n",
      "(100, 224, 224, 3)\n"
     ]
    },
    {
     "name": "stderr",
     "output_type": "stream",
     "text": [
      "100%|███████████████████████████████████████████████████████████████████████████████████████████████| 100/100 [00:00<00:00, 111.68it/s]\n",
      "C:\\Users\\benza-ord\\anaconda3\\envs\\keras-gpu\\lib\\site-packages\\ipykernel_launcher.py:47: UserWarning: Update your `Model` call to the Keras 2 API: `Model(inputs=[<tf.Tenso..., outputs=Tensor(\"re...)`\n"
     ]
    },
    {
     "name": "stdout",
     "output_type": "stream",
     "text": [
      "(100, 224, 224, 3)\n",
      "74 res3d_branch2b\n",
      "preds (100, 28, 28, 128)\n",
      "(100, 100352)\n",
      "             PC1           PC2  target\n",
      "0   2.086391e-08 -1.003684e-09       3\n",
      "1   2.086390e-08 -1.003698e-09       8\n",
      "2   2.086390e-08 -1.003697e-09       8\n",
      "3   2.086390e-08 -1.003697e-09       0\n",
      "4   2.086390e-08 -1.003697e-09       6\n",
      "..           ...           ...     ...\n",
      "95  2.086390e-08 -1.003697e-09       6\n",
      "96  2.096191e-08  2.397609e-08       6\n",
      "97  2.096191e-08  2.397609e-08       0\n",
      "98  2.096191e-08  2.397609e-08       0\n",
      "99  2.096191e-08  2.397609e-08       7\n",
      "\n",
      "[100 rows x 3 columns]\n",
      "(100, 224, 224, 3)"
     ]
    },
    {
     "name": "stderr",
     "output_type": "stream",
     "text": [
      " 13%|████████████▍                                                                                   | 13/100 [00:00<00:00, 121.82it/s]"
     ]
    },
    {
     "name": "stdout",
     "output_type": "stream",
     "text": [
      "\n"
     ]
    },
    {
     "name": "stderr",
     "output_type": "stream",
     "text": [
      "100%|███████████████████████████████████████████████████████████████████████████████████████████████| 100/100 [00:00<00:00, 119.14it/s]\n",
      "C:\\Users\\benza-ord\\anaconda3\\envs\\keras-gpu\\lib\\site-packages\\ipykernel_launcher.py:47: UserWarning: Update your `Model` call to the Keras 2 API: `Model(inputs=[<tf.Tenso..., outputs=Tensor(\"re...)`\n"
     ]
    },
    {
     "name": "stdout",
     "output_type": "stream",
     "text": [
      "(100, 224, 224, 3)\n",
      "74 res3d_branch2b\n",
      "preds (100, 28, 28, 128)\n",
      "(100, 100352)\n",
      "             PC1           PC2  target\n",
      "0   2.086391e-08 -1.003697e-09       3\n",
      "1   2.086390e-08 -1.003692e-09       8\n",
      "2   2.086390e-08 -1.003696e-09       8\n",
      "3   2.086390e-08 -1.003696e-09       0\n",
      "4   2.086390e-08 -1.003696e-09       6\n",
      "..           ...           ...     ...\n",
      "95  2.086390e-08 -1.003696e-09       6\n",
      "96  2.096191e-08  2.397609e-08       6\n",
      "97  2.096191e-08  2.397609e-08       0\n",
      "98  2.096191e-08  2.397609e-08       0\n",
      "99  2.096191e-08  2.397609e-08       7\n",
      "\n",
      "[100 rows x 3 columns]\n",
      "(100, 224, 224, 3)"
     ]
    },
    {
     "name": "stderr",
     "output_type": "stream",
     "text": [
      " 24%|███████████████████████                                                                         | 24/100 [00:00<00:00, 113.29it/s]"
     ]
    },
    {
     "name": "stdout",
     "output_type": "stream",
     "text": [
      "\n"
     ]
    },
    {
     "name": "stderr",
     "output_type": "stream",
     "text": [
      "100%|███████████████████████████████████████████████████████████████████████████████████████████████| 100/100 [00:00<00:00, 114.54it/s]\n",
      "C:\\Users\\benza-ord\\anaconda3\\envs\\keras-gpu\\lib\\site-packages\\ipykernel_launcher.py:47: UserWarning: Update your `Model` call to the Keras 2 API: `Model(inputs=[<tf.Tenso..., outputs=Tensor(\"re...)`\n"
     ]
    },
    {
     "name": "stdout",
     "output_type": "stream",
     "text": [
      "(100, 224, 224, 3)\n",
      "74 res3d_branch2b\n",
      "preds (100, 28, 28, 128)\n",
      "(100, 100352)\n",
      "             PC1           PC2  target\n",
      "0   2.086391e-08 -1.003692e-09       3\n",
      "1   2.086390e-08 -1.003710e-09       8\n",
      "2   2.086390e-08 -1.003697e-09       8\n",
      "3   2.086390e-08 -1.003697e-09       0\n",
      "4   2.086390e-08 -1.003697e-09       6\n",
      "..           ...           ...     ...\n",
      "95  2.086390e-08 -1.003697e-09       6\n",
      "96  2.096191e-08  2.397609e-08       6\n",
      "97  2.096191e-08  2.397609e-08       0\n",
      "98  2.096191e-08  2.397609e-08       0\n",
      "99  2.096191e-08  2.397609e-08       7\n",
      "\n",
      "[100 rows x 3 columns]\n",
      "(100, 224, 224, 3)"
     ]
    },
    {
     "name": "stderr",
     "output_type": "stream",
     "text": [
      " 25%|████████████████████████                                                                        | 25/100 [00:00<00:00, 119.26it/s]"
     ]
    },
    {
     "name": "stdout",
     "output_type": "stream",
     "text": [
      "\n"
     ]
    },
    {
     "name": "stderr",
     "output_type": "stream",
     "text": [
      "100%|███████████████████████████████████████████████████████████████████████████████████████████████| 100/100 [00:00<00:00, 118.95it/s]\n",
      "C:\\Users\\benza-ord\\anaconda3\\envs\\keras-gpu\\lib\\site-packages\\ipykernel_launcher.py:47: UserWarning: Update your `Model` call to the Keras 2 API: `Model(inputs=[<tf.Tenso..., outputs=Tensor(\"re...)`\n"
     ]
    },
    {
     "name": "stdout",
     "output_type": "stream",
     "text": [
      "(100, 224, 224, 3)\n",
      "74 res3d_branch2b\n",
      "preds (100, 28, 28, 128)\n",
      "(100, 100352)\n",
      "             PC1           PC2  target\n",
      "0   2.086391e-08 -1.003692e-09       3\n",
      "1   2.086391e-08 -1.003692e-09       8\n",
      "2   2.086391e-08 -1.003696e-09       8\n",
      "3   2.086391e-08 -1.003696e-09       0\n",
      "4   2.086391e-08 -1.003696e-09       6\n",
      "..           ...           ...     ...\n",
      "95  2.086391e-08 -1.003696e-09       6\n",
      "96  2.096191e-08  2.397609e-08       6\n",
      "97  2.096191e-08  2.397609e-08       0\n",
      "98  2.096191e-08  2.397609e-08       0\n",
      "99  2.096191e-08  2.397609e-08       7\n",
      "\n",
      "[100 rows x 3 columns]\n"
     ]
    },
    {
     "name": "stderr",
     "output_type": "stream",
     "text": [
      " 13%|████████████▍                                                                                   | 13/100 [00:00<00:00, 122.97it/s]"
     ]
    },
    {
     "name": "stdout",
     "output_type": "stream",
     "text": [
      "(100, 224, 224, 3)\n"
     ]
    },
    {
     "name": "stderr",
     "output_type": "stream",
     "text": [
      "100%|███████████████████████████████████████████████████████████████████████████████████████████████| 100/100 [00:00<00:00, 120.21it/s]\n",
      "C:\\Users\\benza-ord\\anaconda3\\envs\\keras-gpu\\lib\\site-packages\\ipykernel_launcher.py:47: UserWarning: Update your `Model` call to the Keras 2 API: `Model(inputs=[<tf.Tenso..., outputs=Tensor(\"re...)`\n"
     ]
    },
    {
     "name": "stdout",
     "output_type": "stream",
     "text": [
      "(100, 224, 224, 3)\n",
      "74 res3d_branch2b\n",
      "preds (100, 28, 28, 128)\n",
      "(100, 100352)\n"
     ]
    },
    {
     "name": "stderr",
     "output_type": "stream",
     "text": [
      " 12%|███████████▌                                                                                    | 12/100 [00:00<00:00, 116.79it/s]"
     ]
    },
    {
     "name": "stdout",
     "output_type": "stream",
     "text": [
      "             PC1           PC2  target\n",
      "0   2.086391e-08 -1.003689e-09       3\n",
      "1   2.086390e-08 -1.003686e-09       8\n",
      "2   2.086390e-08 -1.003696e-09       8\n",
      "3   2.086390e-08 -1.003696e-09       0\n",
      "4   2.086390e-08 -1.003696e-09       6\n",
      "..           ...           ...     ...\n",
      "95  2.086390e-08 -1.003696e-09       6\n",
      "96  2.096191e-08  2.397609e-08       6\n",
      "97  2.096191e-08  2.397609e-08       0\n",
      "98  2.096191e-08  2.397609e-08       0\n",
      "99  2.096191e-08  2.397609e-08       7\n",
      "\n",
      "[100 rows x 3 columns]\n",
      "(100, 224, 224, 3)\n"
     ]
    },
    {
     "name": "stderr",
     "output_type": "stream",
     "text": [
      "100%|███████████████████████████████████████████████████████████████████████████████████████████████| 100/100 [00:00<00:00, 111.70it/s]\n",
      "C:\\Users\\benza-ord\\anaconda3\\envs\\keras-gpu\\lib\\site-packages\\ipykernel_launcher.py:47: UserWarning: Update your `Model` call to the Keras 2 API: `Model(inputs=[<tf.Tenso..., outputs=Tensor(\"re...)`\n"
     ]
    },
    {
     "name": "stdout",
     "output_type": "stream",
     "text": [
      "(100, 224, 224, 3)\n",
      "74 res3d_branch2b\n",
      "preds (100, 28, 28, 128)\n",
      "(100, 100352)\n",
      "             PC1           PC2  target\n",
      "0   2.086391e-08 -1.003687e-09       3\n",
      "1   2.086390e-08 -1.003698e-09       8\n",
      "2   2.086390e-08 -1.003697e-09       8\n",
      "3   2.086390e-08 -1.003697e-09       0\n",
      "4   2.086390e-08 -1.003697e-09       6\n",
      "..           ...           ...     ...\n",
      "95  2.086390e-08 -1.003697e-09       6\n",
      "96  2.096191e-08  2.397608e-08       6\n",
      "97  2.096191e-08  2.397608e-08       0\n",
      "98  2.096191e-08  2.397608e-08       0\n",
      "99  2.096191e-08  2.397608e-08       7\n",
      "\n",
      "[100 rows x 3 columns]"
     ]
    },
    {
     "name": "stderr",
     "output_type": "stream",
     "text": [
      " 11%|██████████▌                                                                                     | 11/100 [00:00<00:00, 108.13it/s]"
     ]
    },
    {
     "name": "stdout",
     "output_type": "stream",
     "text": [
      "\n",
      "(100, 224, 224, 3)\n"
     ]
    },
    {
     "name": "stderr",
     "output_type": "stream",
     "text": [
      "100%|███████████████████████████████████████████████████████████████████████████████████████████████| 100/100 [00:00<00:00, 108.68it/s]\n",
      "C:\\Users\\benza-ord\\anaconda3\\envs\\keras-gpu\\lib\\site-packages\\ipykernel_launcher.py:47: UserWarning: Update your `Model` call to the Keras 2 API: `Model(inputs=[<tf.Tenso..., outputs=Tensor(\"re...)`\n"
     ]
    },
    {
     "name": "stdout",
     "output_type": "stream",
     "text": [
      "(100, 224, 224, 3)\n",
      "74 res3d_branch2b\n",
      "preds (100, 28, 28, 128)\n",
      "(100, 100352)\n",
      "             PC1           PC2  target\n",
      "0   2.086391e-08 -1.003703e-09       3\n",
      "1   2.086390e-08 -1.003704e-09       8\n",
      "2   2.086390e-08 -1.003697e-09       8\n",
      "3   2.086390e-08 -1.003697e-09       0\n",
      "4   2.086390e-08 -1.003697e-09       6\n",
      "..           ...           ...     ...\n",
      "95  2.086390e-08 -1.003697e-09       6\n",
      "96  2.096191e-08  2.397609e-08       6\n",
      "97  2.096191e-08  2.397609e-08       0\n",
      "98  2.096191e-08  2.397609e-08       0\n",
      "99  2.096191e-08  2.397609e-08       7\n",
      "\n",
      "[100 rows x 3 columns]\n",
      "(100, 224, 224, 3)"
     ]
    },
    {
     "name": "stderr",
     "output_type": "stream",
     "text": [
      " 12%|███████████▌                                                                                    | 12/100 [00:00<00:00, 115.68it/s]"
     ]
    },
    {
     "name": "stdout",
     "output_type": "stream",
     "text": [
      "\n"
     ]
    },
    {
     "name": "stderr",
     "output_type": "stream",
     "text": [
      "100%|███████████████████████████████████████████████████████████████████████████████████████████████| 100/100 [00:00<00:00, 110.82it/s]\n",
      "C:\\Users\\benza-ord\\anaconda3\\envs\\keras-gpu\\lib\\site-packages\\ipykernel_launcher.py:47: UserWarning: Update your `Model` call to the Keras 2 API: `Model(inputs=[<tf.Tenso..., outputs=Tensor(\"re...)`\n"
     ]
    },
    {
     "name": "stdout",
     "output_type": "stream",
     "text": [
      "(100, 224, 224, 3)\n",
      "74 res3d_branch2b\n",
      "preds (100, 28, 28, 128)\n",
      "(100, 100352)\n",
      "             PC1           PC2  target\n",
      "0   2.086391e-08 -1.003700e-09       3\n",
      "1   2.086390e-08 -1.003686e-09       8\n",
      "2   2.086390e-08 -1.003697e-09       8\n",
      "3   2.086390e-08 -1.003697e-09       0\n",
      "4   2.086390e-08 -1.003697e-09       6\n",
      "..           ...           ...     ...\n",
      "95  2.086390e-08 -1.003697e-09       6\n",
      "96  2.096191e-08  2.397607e-08       6\n",
      "97  2.096191e-08  2.397607e-08       0\n",
      "98  2.096191e-08  2.397607e-08       0\n",
      "99  2.096191e-08  2.397607e-08       7\n",
      "\n",
      "[100 rows x 3 columns]\n"
     ]
    },
    {
     "name": "stderr",
     "output_type": "stream",
     "text": [
      " 12%|███████████▌                                                                                    | 12/100 [00:00<00:00, 119.13it/s]"
     ]
    },
    {
     "name": "stdout",
     "output_type": "stream",
     "text": [
      "(100, 224, 224, 3)\n"
     ]
    },
    {
     "name": "stderr",
     "output_type": "stream",
     "text": [
      "100%|███████████████████████████████████████████████████████████████████████████████████████████████| 100/100 [00:00<00:00, 113.01it/s]\n",
      "C:\\Users\\benza-ord\\anaconda3\\envs\\keras-gpu\\lib\\site-packages\\ipykernel_launcher.py:47: UserWarning: Update your `Model` call to the Keras 2 API: `Model(inputs=[<tf.Tenso..., outputs=Tensor(\"re...)`\n"
     ]
    },
    {
     "name": "stdout",
     "output_type": "stream",
     "text": [
      "(100, 224, 224, 3)\n",
      "74 res3d_branch2b\n",
      "preds (100, 28, 28, 128)\n",
      "(100, 100352)\n",
      "             PC1           PC2  target\n",
      "0   2.086391e-08 -1.003685e-09       3\n",
      "1   2.086391e-08 -1.003698e-09       8\n",
      "2   2.086391e-08 -1.003697e-09       8\n",
      "3   2.086391e-08 -1.003697e-09       0\n",
      "4   2.086391e-08 -1.003697e-09       6\n",
      "..           ...           ...     ...\n",
      "95  2.086391e-08 -1.003697e-09       6\n",
      "96  2.096191e-08  2.397609e-08       6\n",
      "97  2.096191e-08  2.397609e-08       0\n",
      "98  2.096191e-08  2.397609e-08       0\n",
      "99  2.096191e-08  2.397609e-08       7\n",
      "\n",
      "[100 rows x 3 columns]\n",
      "(100, 224, 224, 3)"
     ]
    },
    {
     "name": "stderr",
     "output_type": "stream",
     "text": [
      " 11%|██████████▌                                                                                     | 11/100 [00:00<00:00, 104.05it/s]"
     ]
    },
    {
     "name": "stdout",
     "output_type": "stream",
     "text": [
      "\n"
     ]
    },
    {
     "name": "stderr",
     "output_type": "stream",
     "text": [
      "100%|███████████████████████████████████████████████████████████████████████████████████████████████| 100/100 [00:00<00:00, 110.44it/s]\n",
      "C:\\Users\\benza-ord\\anaconda3\\envs\\keras-gpu\\lib\\site-packages\\ipykernel_launcher.py:47: UserWarning: Update your `Model` call to the Keras 2 API: `Model(inputs=[<tf.Tenso..., outputs=Tensor(\"re...)`\n"
     ]
    },
    {
     "name": "stdout",
     "output_type": "stream",
     "text": [
      "(100, 224, 224, 3)\n",
      "74 res3d_branch2b\n",
      "preds (100, 28, 28, 128)\n",
      "(100, 100352)\n",
      "             PC1           PC2  target\n",
      "0   2.086391e-08 -1.003690e-09       3\n",
      "1   2.086391e-08 -1.003698e-09       8\n",
      "2   2.086391e-08 -1.003696e-09       8\n",
      "3   2.086391e-08 -1.003696e-09       0\n",
      "4   2.086391e-08 -1.003696e-09       6\n",
      "..           ...           ...     ...\n",
      "95  2.086391e-08 -1.003696e-09       6\n",
      "96  2.096191e-08  2.397609e-08       6\n",
      "97  2.096191e-08  2.397609e-08       0\n",
      "98  2.096191e-08  2.397609e-08       0\n",
      "99  2.096191e-08  2.397609e-08       7\n",
      "\n",
      "[100 rows x 3 columns]\n",
      "(100, 224, 224, 3)"
     ]
    },
    {
     "name": "stderr",
     "output_type": "stream",
     "text": [
      " 24%|███████████████████████                                                                         | 24/100 [00:00<00:00, 119.12it/s]"
     ]
    },
    {
     "name": "stdout",
     "output_type": "stream",
     "text": [
      "\n"
     ]
    },
    {
     "name": "stderr",
     "output_type": "stream",
     "text": [
      "100%|███████████████████████████████████████████████████████████████████████████████████████████████| 100/100 [00:00<00:00, 117.41it/s]\n",
      "C:\\Users\\benza-ord\\anaconda3\\envs\\keras-gpu\\lib\\site-packages\\ipykernel_launcher.py:47: UserWarning: Update your `Model` call to the Keras 2 API: `Model(inputs=[<tf.Tenso..., outputs=Tensor(\"re...)`\n"
     ]
    },
    {
     "name": "stdout",
     "output_type": "stream",
     "text": [
      "(100, 224, 224, 3)\n",
      "77 res3d_branch2c\n",
      "preds (100, 28, 28, 512)\n",
      "(100, 401408)\n"
     ]
    },
    {
     "name": "stderr",
     "output_type": "stream",
     "text": [
      " 12%|███████████▌                                                                                    | 12/100 [00:00<00:00, 116.78it/s]"
     ]
    },
    {
     "name": "stdout",
     "output_type": "stream",
     "text": [
      "             PC1           PC2  target\n",
      "0   3.968795e-08 -2.065605e-09       3\n",
      "1   3.968793e-08 -2.065554e-09       8\n",
      "2   3.968793e-08 -2.065552e-09       8\n",
      "3   3.968793e-08 -2.065552e-09       0\n",
      "4   3.968793e-08 -2.065552e-09       6\n",
      "..           ...           ...     ...\n",
      "95  3.968793e-08 -2.065552e-09       6\n",
      "96  3.949724e-08  4.981256e-08       6\n",
      "97  3.949724e-08  4.981256e-08       0\n",
      "98  3.949724e-08  4.981256e-08       0\n",
      "99  3.949724e-08  4.981256e-08       7\n",
      "\n",
      "[100 rows x 3 columns]\n",
      "(100, 224, 224, 3)\n"
     ]
    },
    {
     "name": "stderr",
     "output_type": "stream",
     "text": [
      "100%|███████████████████████████████████████████████████████████████████████████████████████████████| 100/100 [00:00<00:00, 113.00it/s]\n",
      "C:\\Users\\benza-ord\\anaconda3\\envs\\keras-gpu\\lib\\site-packages\\ipykernel_launcher.py:47: UserWarning: Update your `Model` call to the Keras 2 API: `Model(inputs=[<tf.Tenso..., outputs=Tensor(\"re...)`\n"
     ]
    },
    {
     "name": "stdout",
     "output_type": "stream",
     "text": [
      "(100, 224, 224, 3)\n",
      "77 res3d_branch2c\n",
      "preds (100, 28, 28, 512)\n",
      "(100, 401408)\n"
     ]
    },
    {
     "name": "stderr",
     "output_type": "stream",
     "text": [
      " 12%|███████████▌                                                                                    | 12/100 [00:00<00:00, 114.59it/s]"
     ]
    },
    {
     "name": "stdout",
     "output_type": "stream",
     "text": [
      "             PC1           PC2  target\n",
      "0   3.968795e-08 -2.065605e-09       3\n",
      "1   3.968793e-08 -2.065554e-09       8\n",
      "2   3.968793e-08 -2.065552e-09       8\n",
      "3   3.968793e-08 -2.065552e-09       0\n",
      "4   3.968793e-08 -2.065552e-09       6\n",
      "..           ...           ...     ...\n",
      "95  3.968793e-08 -2.065552e-09       6\n",
      "96  3.949724e-08  4.981256e-08       6\n",
      "97  3.949724e-08  4.981256e-08       0\n",
      "98  3.949724e-08  4.981256e-08       0\n",
      "99  3.949724e-08  4.981256e-08       7\n",
      "\n",
      "[100 rows x 3 columns]\n",
      "(100, 224, 224, 3)\n"
     ]
    },
    {
     "name": "stderr",
     "output_type": "stream",
     "text": [
      "100%|███████████████████████████████████████████████████████████████████████████████████████████████| 100/100 [00:00<00:00, 107.53it/s]\n",
      "C:\\Users\\benza-ord\\anaconda3\\envs\\keras-gpu\\lib\\site-packages\\ipykernel_launcher.py:47: UserWarning: Update your `Model` call to the Keras 2 API: `Model(inputs=[<tf.Tenso..., outputs=Tensor(\"re...)`\n"
     ]
    },
    {
     "name": "stdout",
     "output_type": "stream",
     "text": [
      "(100, 224, 224, 3)\n",
      "77 res3d_branch2c\n",
      "preds (100, 28, 28, 512)\n",
      "(100, 401408)\n"
     ]
    },
    {
     "name": "stderr",
     "output_type": "stream",
     "text": [
      " 12%|███████████▌                                                                                    | 12/100 [00:00<00:00, 112.45it/s]"
     ]
    },
    {
     "name": "stdout",
     "output_type": "stream",
     "text": [
      "             PC1           PC2  target\n",
      "0   3.968795e-08 -2.065604e-09       3\n",
      "1   3.968793e-08 -2.065554e-09       8\n",
      "2   3.968793e-08 -2.065552e-09       8\n",
      "3   3.968793e-08 -2.065552e-09       0\n",
      "4   3.968793e-08 -2.065552e-09       6\n",
      "..           ...           ...     ...\n",
      "95  3.968793e-08 -2.065552e-09       6\n",
      "96  3.949724e-08  4.981255e-08       6\n",
      "97  3.949724e-08  4.981255e-08       0\n",
      "98  3.949724e-08  4.981255e-08       0\n",
      "99  3.949724e-08  4.981255e-08       7\n",
      "\n",
      "[100 rows x 3 columns]\n",
      "(100, 224, 224, 3)\n"
     ]
    },
    {
     "name": "stderr",
     "output_type": "stream",
     "text": [
      "100%|███████████████████████████████████████████████████████████████████████████████████████████████| 100/100 [00:00<00:00, 111.31it/s]\n",
      "C:\\Users\\benza-ord\\anaconda3\\envs\\keras-gpu\\lib\\site-packages\\ipykernel_launcher.py:47: UserWarning: Update your `Model` call to the Keras 2 API: `Model(inputs=[<tf.Tenso..., outputs=Tensor(\"re...)`\n"
     ]
    },
    {
     "name": "stdout",
     "output_type": "stream",
     "text": [
      "(100, 224, 224, 3)\n",
      "77 res3d_branch2c\n",
      "preds (100, 28, 28, 512)\n",
      "(100, 401408)\n"
     ]
    },
    {
     "name": "stderr",
     "output_type": "stream",
     "text": [
      " 12%|███████████▌                                                                                    | 12/100 [00:00<00:00, 117.96it/s]"
     ]
    },
    {
     "name": "stdout",
     "output_type": "stream",
     "text": [
      "             PC1           PC2  target\n",
      "0   3.968795e-08 -2.065599e-09       3\n",
      "1   3.968793e-08 -2.065553e-09       8\n",
      "2   3.968793e-08 -2.065552e-09       8\n",
      "3   3.968793e-08 -2.065552e-09       0\n",
      "4   3.968793e-08 -2.065552e-09       6\n",
      "..           ...           ...     ...\n",
      "95  3.968793e-08 -2.065552e-09       6\n",
      "96  3.949724e-08  4.981252e-08       6\n",
      "97  3.949724e-08  4.981252e-08       0\n",
      "98  3.949724e-08  4.981252e-08       0\n",
      "99  3.949724e-08  4.981252e-08       7\n",
      "\n",
      "[100 rows x 3 columns]\n",
      "(100, 224, 224, 3)\n"
     ]
    },
    {
     "name": "stderr",
     "output_type": "stream",
     "text": [
      "100%|███████████████████████████████████████████████████████████████████████████████████████████████| 100/100 [00:00<00:00, 119.18it/s]\n",
      "C:\\Users\\benza-ord\\anaconda3\\envs\\keras-gpu\\lib\\site-packages\\ipykernel_launcher.py:47: UserWarning: Update your `Model` call to the Keras 2 API: `Model(inputs=[<tf.Tenso..., outputs=Tensor(\"re...)`\n"
     ]
    },
    {
     "name": "stdout",
     "output_type": "stream",
     "text": [
      "(100, 224, 224, 3)\n",
      "77 res3d_branch2c\n",
      "preds (100, 28, 28, 512)\n",
      "(100, 401408)\n"
     ]
    },
    {
     "name": "stderr",
     "output_type": "stream",
     "text": [
      " 13%|████████████▍                                                                                   | 13/100 [00:00<00:00, 121.82it/s]"
     ]
    },
    {
     "name": "stdout",
     "output_type": "stream",
     "text": [
      "             PC1           PC2  target\n",
      "0   3.968795e-08 -2.065603e-09       3\n",
      "1   3.968793e-08 -2.065554e-09       8\n",
      "2   3.968793e-08 -2.065552e-09       8\n",
      "3   3.968793e-08 -2.065552e-09       0\n",
      "4   3.968793e-08 -2.065552e-09       6\n",
      "..           ...           ...     ...\n",
      "95  3.968793e-08 -2.065552e-09       6\n",
      "96  3.949724e-08  4.981254e-08       6\n",
      "97  3.949724e-08  4.981254e-08       0\n",
      "98  3.949724e-08  4.981254e-08       0\n",
      "99  3.949724e-08  4.981254e-08       7\n",
      "\n",
      "[100 rows x 3 columns]\n",
      "(100, 224, 224, 3)\n"
     ]
    },
    {
     "name": "stderr",
     "output_type": "stream",
     "text": [
      "100%|███████████████████████████████████████████████████████████████████████████████████████████████| 100/100 [00:00<00:00, 119.57it/s]\n",
      "C:\\Users\\benza-ord\\anaconda3\\envs\\keras-gpu\\lib\\site-packages\\ipykernel_launcher.py:47: UserWarning: Update your `Model` call to the Keras 2 API: `Model(inputs=[<tf.Tenso..., outputs=Tensor(\"re...)`\n"
     ]
    },
    {
     "name": "stdout",
     "output_type": "stream",
     "text": [
      "(100, 224, 224, 3)\n",
      "77 res3d_branch2c\n",
      "preds (100, 28, 28, 512)\n",
      "(100, 401408)\n"
     ]
    },
    {
     "name": "stderr",
     "output_type": "stream",
     "text": [
      " 12%|███████████▌                                                                                    | 12/100 [00:00<00:00, 119.13it/s]"
     ]
    },
    {
     "name": "stdout",
     "output_type": "stream",
     "text": [
      "             PC1           PC2  target\n",
      "0   3.968795e-08 -2.065604e-09       3\n",
      "1   3.968793e-08 -2.065554e-09       8\n",
      "2   3.968793e-08 -2.065552e-09       8\n",
      "3   3.968793e-08 -2.065552e-09       0\n",
      "4   3.968793e-08 -2.065552e-09       6\n",
      "..           ...           ...     ...\n",
      "95  3.968793e-08 -2.065552e-09       6\n",
      "96  3.949724e-08  4.981255e-08       6\n",
      "97  3.949724e-08  4.981255e-08       0\n",
      "98  3.949724e-08  4.981255e-08       0\n",
      "99  3.949724e-08  4.981255e-08       7\n",
      "\n",
      "[100 rows x 3 columns]\n",
      "(100, 224, 224, 3)\n"
     ]
    },
    {
     "name": "stderr",
     "output_type": "stream",
     "text": [
      "100%|███████████████████████████████████████████████████████████████████████████████████████████████| 100/100 [00:00<00:00, 120.10it/s]\n",
      "C:\\Users\\benza-ord\\anaconda3\\envs\\keras-gpu\\lib\\site-packages\\ipykernel_launcher.py:47: UserWarning: Update your `Model` call to the Keras 2 API: `Model(inputs=[<tf.Tenso..., outputs=Tensor(\"re...)`\n"
     ]
    },
    {
     "name": "stdout",
     "output_type": "stream",
     "text": [
      "(100, 224, 224, 3)\n",
      "77 res3d_branch2c\n",
      "preds (100, 28, 28, 512)\n",
      "(100, 401408)\n"
     ]
    },
    {
     "name": "stderr",
     "output_type": "stream",
     "text": [
      " 12%|███████████▌                                                                                    | 12/100 [00:00<00:00, 117.96it/s]"
     ]
    },
    {
     "name": "stdout",
     "output_type": "stream",
     "text": [
      "             PC1           PC2  target\n",
      "0   3.968795e-08 -2.065599e-09       3\n",
      "1   3.968793e-08 -2.065553e-09       8\n",
      "2   3.968793e-08 -2.065552e-09       8\n",
      "3   3.968793e-08 -2.065552e-09       0\n",
      "4   3.968793e-08 -2.065552e-09       6\n",
      "..           ...           ...     ...\n",
      "95  3.968793e-08 -2.065552e-09       6\n",
      "96  3.949724e-08  4.981252e-08       6\n",
      "97  3.949724e-08  4.981252e-08       0\n",
      "98  3.949724e-08  4.981252e-08       0\n",
      "99  3.949724e-08  4.981252e-08       7\n",
      "\n",
      "[100 rows x 3 columns]\n",
      "(100, 224, 224, 3)\n"
     ]
    },
    {
     "name": "stderr",
     "output_type": "stream",
     "text": [
      "100%|███████████████████████████████████████████████████████████████████████████████████████████████| 100/100 [00:00<00:00, 120.50it/s]\n",
      "C:\\Users\\benza-ord\\anaconda3\\envs\\keras-gpu\\lib\\site-packages\\ipykernel_launcher.py:47: UserWarning: Update your `Model` call to the Keras 2 API: `Model(inputs=[<tf.Tenso..., outputs=Tensor(\"re...)`\n"
     ]
    },
    {
     "name": "stdout",
     "output_type": "stream",
     "text": [
      "(100, 224, 224, 3)\n",
      "77 res3d_branch2c\n",
      "preds (100, 28, 28, 512)\n",
      "(100, 401408)\n"
     ]
    },
    {
     "name": "stderr",
     "output_type": "stream",
     "text": [
      " 12%|███████████▌                                                                                    | 12/100 [00:00<00:00, 111.38it/s]"
     ]
    },
    {
     "name": "stdout",
     "output_type": "stream",
     "text": [
      "             PC1           PC2  target\n",
      "0   3.968795e-08 -2.065597e-09       3\n",
      "1   3.968793e-08 -2.065553e-09       8\n",
      "2   3.968793e-08 -2.065551e-09       8\n",
      "3   3.968793e-08 -2.065551e-09       0\n",
      "4   3.968793e-08 -2.065551e-09       6\n",
      "..           ...           ...     ...\n",
      "95  3.968793e-08 -2.065551e-09       6\n",
      "96  3.949724e-08  4.981252e-08       6\n",
      "97  3.949724e-08  4.981252e-08       0\n",
      "98  3.949724e-08  4.981252e-08       0\n",
      "99  3.949724e-08  4.981252e-08       7\n",
      "\n",
      "[100 rows x 3 columns]\n",
      "(100, 224, 224, 3)\n"
     ]
    },
    {
     "name": "stderr",
     "output_type": "stream",
     "text": [
      "100%|███████████████████████████████████████████████████████████████████████████████████████████████| 100/100 [00:00<00:00, 108.88it/s]\n",
      "C:\\Users\\benza-ord\\anaconda3\\envs\\keras-gpu\\lib\\site-packages\\ipykernel_launcher.py:47: UserWarning: Update your `Model` call to the Keras 2 API: `Model(inputs=[<tf.Tenso..., outputs=Tensor(\"re...)`\n"
     ]
    },
    {
     "name": "stdout",
     "output_type": "stream",
     "text": [
      "(100, 224, 224, 3)\n",
      "77 res3d_branch2c\n",
      "preds (100, 28, 28, 512)\n",
      "(100, 401408)\n"
     ]
    },
    {
     "name": "stderr",
     "output_type": "stream",
     "text": [
      " 13%|████████████▍                                                                                   | 13/100 [00:00<00:00, 121.82it/s]"
     ]
    },
    {
     "name": "stdout",
     "output_type": "stream",
     "text": [
      "             PC1           PC2  target\n",
      "0   3.968795e-08 -2.065597e-09       3\n",
      "1   3.968793e-08 -2.065554e-09       8\n",
      "2   3.968793e-08 -2.065551e-09       8\n",
      "3   3.968793e-08 -2.065551e-09       0\n",
      "4   3.968793e-08 -2.065551e-09       6\n",
      "..           ...           ...     ...\n",
      "95  3.968793e-08 -2.065551e-09       6\n",
      "96  3.949724e-08  4.981252e-08       6\n",
      "97  3.949724e-08  4.981252e-08       0\n",
      "98  3.949724e-08  4.981252e-08       0\n",
      "99  3.949724e-08  4.981252e-08       7\n",
      "\n",
      "[100 rows x 3 columns]\n",
      "(100, 224, 224, 3)\n"
     ]
    },
    {
     "name": "stderr",
     "output_type": "stream",
     "text": [
      "100%|███████████████████████████████████████████████████████████████████████████████████████████████| 100/100 [00:00<00:00, 116.59it/s]\n",
      "C:\\Users\\benza-ord\\anaconda3\\envs\\keras-gpu\\lib\\site-packages\\ipykernel_launcher.py:47: UserWarning: Update your `Model` call to the Keras 2 API: `Model(inputs=[<tf.Tenso..., outputs=Tensor(\"re...)`\n"
     ]
    },
    {
     "name": "stdout",
     "output_type": "stream",
     "text": [
      "(100, 224, 224, 3)\n",
      "77 res3d_branch2c\n",
      "preds (100, 28, 28, 512)\n",
      "(100, 401408)\n"
     ]
    },
    {
     "name": "stderr",
     "output_type": "stream",
     "text": [
      " 11%|██████████▌                                                                                     | 11/100 [00:00<00:00, 109.62it/s]"
     ]
    },
    {
     "name": "stdout",
     "output_type": "stream",
     "text": [
      "             PC1           PC2  target\n",
      "0   3.968795e-08 -2.065565e-09       3\n",
      "1   3.968793e-08 -2.065553e-09       8\n",
      "2   3.968793e-08 -2.065549e-09       8\n",
      "3   3.968793e-08 -2.065549e-09       0\n",
      "4   3.968793e-08 -2.065549e-09       6\n",
      "..           ...           ...     ...\n",
      "95  3.968793e-08 -2.065549e-09       6\n",
      "96  3.949724e-08  4.981252e-08       6\n",
      "97  3.949724e-08  4.981252e-08       0\n",
      "98  3.949724e-08  4.981252e-08       0\n",
      "99  3.949724e-08  4.981252e-08       7\n",
      "\n",
      "[100 rows x 3 columns]\n",
      "(100, 224, 224, 3)\n"
     ]
    },
    {
     "name": "stderr",
     "output_type": "stream",
     "text": [
      "100%|███████████████████████████████████████████████████████████████████████████████████████████████| 100/100 [00:00<00:00, 111.89it/s]\n",
      "C:\\Users\\benza-ord\\anaconda3\\envs\\keras-gpu\\lib\\site-packages\\ipykernel_launcher.py:47: UserWarning: Update your `Model` call to the Keras 2 API: `Model(inputs=[<tf.Tenso..., outputs=Tensor(\"re...)`\n"
     ]
    },
    {
     "name": "stdout",
     "output_type": "stream",
     "text": [
      "(100, 224, 224, 3)\n",
      "81 res4a_branch2a\n"
     ]
    },
    {
     "name": "stderr",
     "output_type": "stream",
     "text": [
      "\r",
      "  0%|                                                                                                          | 0/100 [00:00<?, ?it/s]"
     ]
    },
    {
     "name": "stdout",
     "output_type": "stream",
     "text": [
      "preds (100, 14, 14, 256)\n",
      "(100, 50176)\n",
      "             PC1           PC2  target\n",
      "0   2.029237e-08 -1.134237e-09       3\n",
      "1   2.029237e-08 -1.134231e-09       8\n",
      "2   2.029237e-08 -1.134226e-09       8\n",
      "3   2.029237e-08 -1.134226e-09       0\n",
      "4   2.029237e-08 -1.134226e-09       6\n",
      "..           ...           ...     ...\n",
      "95  2.029237e-08 -1.134226e-09       6\n",
      "96  2.026132e-08  2.726315e-08       6\n",
      "97  2.026132e-08  2.726315e-08       0\n",
      "98  2.026132e-08  2.726315e-08       0\n",
      "99  2.026132e-08  2.726315e-08       7\n",
      "\n",
      "[100 rows x 3 columns]\n",
      "(100, 224, 224, 3)\n"
     ]
    },
    {
     "name": "stderr",
     "output_type": "stream",
     "text": [
      "100%|███████████████████████████████████████████████████████████████████████████████████████████████| 100/100 [00:00<00:00, 112.33it/s]\n",
      "C:\\Users\\benza-ord\\anaconda3\\envs\\keras-gpu\\lib\\site-packages\\ipykernel_launcher.py:47: UserWarning: Update your `Model` call to the Keras 2 API: `Model(inputs=[<tf.Tenso..., outputs=Tensor(\"re...)`\n"
     ]
    },
    {
     "name": "stdout",
     "output_type": "stream",
     "text": [
      "(100, 224, 224, 3)\n",
      "81 res4a_branch2a\n"
     ]
    },
    {
     "name": "stderr",
     "output_type": "stream",
     "text": [
      "\r",
      "  0%|                                                                                                          | 0/100 [00:00<?, ?it/s]"
     ]
    },
    {
     "name": "stdout",
     "output_type": "stream",
     "text": [
      "preds (100, 14, 14, 256)\n",
      "(100, 50176)\n",
      "             PC1           PC2  target\n",
      "0   2.029237e-08 -1.134237e-09       3\n",
      "1   2.029237e-08 -1.134231e-09       8\n",
      "2   2.029237e-08 -1.134226e-09       8\n",
      "3   2.029237e-08 -1.134226e-09       0\n",
      "4   2.029237e-08 -1.134226e-09       6\n",
      "..           ...           ...     ...\n",
      "95  2.029237e-08 -1.134226e-09       6\n",
      "96  2.026132e-08  2.726315e-08       6\n",
      "97  2.026132e-08  2.726315e-08       0\n",
      "98  2.026132e-08  2.726315e-08       0\n",
      "99  2.026132e-08  2.726315e-08       7\n",
      "\n",
      "[100 rows x 3 columns]\n",
      "(100, 224, 224, 3)\n"
     ]
    },
    {
     "name": "stderr",
     "output_type": "stream",
     "text": [
      "100%|███████████████████████████████████████████████████████████████████████████████████████████████| 100/100 [00:00<00:00, 118.52it/s]\n",
      "C:\\Users\\benza-ord\\anaconda3\\envs\\keras-gpu\\lib\\site-packages\\ipykernel_launcher.py:47: UserWarning: Update your `Model` call to the Keras 2 API: `Model(inputs=[<tf.Tenso..., outputs=Tensor(\"re...)`\n"
     ]
    },
    {
     "name": "stdout",
     "output_type": "stream",
     "text": [
      "(100, 224, 224, 3)\n",
      "81 res4a_branch2a\n"
     ]
    },
    {
     "name": "stderr",
     "output_type": "stream",
     "text": [
      "\r",
      "  0%|                                                                                                          | 0/100 [00:00<?, ?it/s]"
     ]
    },
    {
     "name": "stdout",
     "output_type": "stream",
     "text": [
      "preds (100, 14, 14, 256)\n",
      "(100, 50176)\n",
      "             PC1           PC2  target\n",
      "0   2.029237e-08 -1.134236e-09       3\n",
      "1   2.029237e-08 -1.134231e-09       8\n",
      "2   2.029237e-08 -1.134227e-09       8\n",
      "3   2.029237e-08 -1.134227e-09       0\n",
      "4   2.029237e-08 -1.134227e-09       6\n",
      "..           ...           ...     ...\n",
      "95  2.029237e-08 -1.134227e-09       6\n",
      "96  2.026132e-08  2.726314e-08       6\n",
      "97  2.026132e-08  2.726314e-08       0\n",
      "98  2.026132e-08  2.726314e-08       0\n",
      "99  2.026132e-08  2.726314e-08       7\n",
      "\n",
      "[100 rows x 3 columns]\n",
      "(100, 224, 224, 3)\n"
     ]
    },
    {
     "name": "stderr",
     "output_type": "stream",
     "text": [
      "100%|███████████████████████████████████████████████████████████████████████████████████████████████| 100/100 [00:00<00:00, 113.29it/s]\n",
      "C:\\Users\\benza-ord\\anaconda3\\envs\\keras-gpu\\lib\\site-packages\\ipykernel_launcher.py:47: UserWarning: Update your `Model` call to the Keras 2 API: `Model(inputs=[<tf.Tenso..., outputs=Tensor(\"re...)`\n"
     ]
    },
    {
     "name": "stdout",
     "output_type": "stream",
     "text": [
      "(100, 224, 224, 3)\n",
      "81 res4a_branch2a\n"
     ]
    },
    {
     "name": "stderr",
     "output_type": "stream",
     "text": [
      "\r",
      "  0%|                                                                                                          | 0/100 [00:00<?, ?it/s]"
     ]
    },
    {
     "name": "stdout",
     "output_type": "stream",
     "text": [
      "preds (100, 14, 14, 256)\n",
      "(100, 50176)\n",
      "             PC1           PC2  target\n",
      "0   2.029237e-08 -1.134230e-09       3\n",
      "1   2.029237e-08 -1.134225e-09       8\n",
      "2   2.029237e-08 -1.134226e-09       8\n",
      "3   2.029237e-08 -1.134226e-09       0\n",
      "4   2.029237e-08 -1.134226e-09       6\n",
      "..           ...           ...     ...\n",
      "95  2.029237e-08 -1.134226e-09       6\n",
      "96  2.026132e-08  2.726314e-08       6\n",
      "97  2.026132e-08  2.726314e-08       0\n",
      "98  2.026132e-08  2.726314e-08       0\n",
      "99  2.026132e-08  2.726314e-08       7\n",
      "\n",
      "[100 rows x 3 columns]\n",
      "(100, 224, 224, 3)\n"
     ]
    },
    {
     "name": "stderr",
     "output_type": "stream",
     "text": [
      "100%|███████████████████████████████████████████████████████████████████████████████████████████████| 100/100 [00:00<00:00, 120.36it/s]\n",
      "C:\\Users\\benza-ord\\anaconda3\\envs\\keras-gpu\\lib\\site-packages\\ipykernel_launcher.py:47: UserWarning: Update your `Model` call to the Keras 2 API: `Model(inputs=[<tf.Tenso..., outputs=Tensor(\"re...)`\n"
     ]
    },
    {
     "name": "stdout",
     "output_type": "stream",
     "text": [
      "(100, 224, 224, 3)\n",
      "81 res4a_branch2a\n"
     ]
    },
    {
     "name": "stderr",
     "output_type": "stream",
     "text": [
      "\r",
      "  0%|                                                                                                          | 0/100 [00:00<?, ?it/s]"
     ]
    },
    {
     "name": "stdout",
     "output_type": "stream",
     "text": [
      "preds (100, 14, 14, 256)\n",
      "(100, 50176)\n",
      "             PC1           PC2  target\n",
      "0   2.029237e-08 -1.134239e-09       3\n",
      "1   2.029237e-08 -1.134225e-09       8\n",
      "2   2.029237e-08 -1.134226e-09       8\n",
      "3   2.029237e-08 -1.134226e-09       0\n",
      "4   2.029237e-08 -1.134226e-09       6\n",
      "..           ...           ...     ...\n",
      "95  2.029237e-08 -1.134226e-09       6\n",
      "96  2.026132e-08  2.726315e-08       6\n",
      "97  2.026132e-08  2.726315e-08       0\n",
      "98  2.026132e-08  2.726315e-08       0\n",
      "99  2.026132e-08  2.726315e-08       7\n",
      "\n",
      "[100 rows x 3 columns]\n",
      "(100, 224, 224, 3)\n"
     ]
    },
    {
     "name": "stderr",
     "output_type": "stream",
     "text": [
      "100%|███████████████████████████████████████████████████████████████████████████████████████████████| 100/100 [00:00<00:00, 119.65it/s]\n",
      "C:\\Users\\benza-ord\\anaconda3\\envs\\keras-gpu\\lib\\site-packages\\ipykernel_launcher.py:47: UserWarning: Update your `Model` call to the Keras 2 API: `Model(inputs=[<tf.Tenso..., outputs=Tensor(\"re...)`\n"
     ]
    },
    {
     "name": "stdout",
     "output_type": "stream",
     "text": [
      "(100, 224, 224, 3)\n",
      "81 res4a_branch2a\n"
     ]
    },
    {
     "name": "stderr",
     "output_type": "stream",
     "text": [
      "\r",
      "  0%|                                                                                                          | 0/100 [00:00<?, ?it/s]"
     ]
    },
    {
     "name": "stdout",
     "output_type": "stream",
     "text": [
      "preds (100, 14, 14, 256)\n",
      "(100, 50176)\n",
      "             PC1           PC2  target\n",
      "0   2.029237e-08 -1.134235e-09       3\n",
      "1   2.029237e-08 -1.134225e-09       8\n",
      "2   2.029237e-08 -1.134226e-09       8\n",
      "3   2.029237e-08 -1.134226e-09       0\n",
      "4   2.029237e-08 -1.134226e-09       6\n",
      "..           ...           ...     ...\n",
      "95  2.029237e-08 -1.134226e-09       6\n",
      "96  2.026132e-08  2.726314e-08       6\n",
      "97  2.026132e-08  2.726314e-08       0\n",
      "98  2.026132e-08  2.726314e-08       0\n",
      "99  2.026132e-08  2.726314e-08       7\n",
      "\n",
      "[100 rows x 3 columns]\n",
      "(100, 224, 224, 3)\n"
     ]
    },
    {
     "name": "stderr",
     "output_type": "stream",
     "text": [
      "100%|███████████████████████████████████████████████████████████████████████████████████████████████| 100/100 [00:00<00:00, 117.49it/s]\n",
      "C:\\Users\\benza-ord\\anaconda3\\envs\\keras-gpu\\lib\\site-packages\\ipykernel_launcher.py:47: UserWarning: Update your `Model` call to the Keras 2 API: `Model(inputs=[<tf.Tenso..., outputs=Tensor(\"re...)`\n"
     ]
    },
    {
     "name": "stdout",
     "output_type": "stream",
     "text": [
      "(100, 224, 224, 3)\n",
      "81 res4a_branch2a\n"
     ]
    },
    {
     "name": "stderr",
     "output_type": "stream",
     "text": [
      "\r",
      "  0%|                                                                                                          | 0/100 [00:00<?, ?it/s]"
     ]
    },
    {
     "name": "stdout",
     "output_type": "stream",
     "text": [
      "preds (100, 14, 14, 256)\n",
      "(100, 50176)\n",
      "             PC1           PC2  target\n",
      "0   2.029237e-08 -1.134258e-09       3\n",
      "1   2.029237e-08 -1.134225e-09       8\n",
      "2   2.029237e-08 -1.134227e-09       8\n",
      "3   2.029237e-08 -1.134227e-09       0\n",
      "4   2.029237e-08 -1.134227e-09       6\n",
      "..           ...           ...     ...\n",
      "95  2.029237e-08 -1.134227e-09       6\n",
      "96  2.026132e-08  2.726314e-08       6\n",
      "97  2.026132e-08  2.726314e-08       0\n",
      "98  2.026132e-08  2.726314e-08       0\n",
      "99  2.026132e-08  2.726314e-08       7\n",
      "\n",
      "[100 rows x 3 columns]\n",
      "(100, 224, 224, 3)\n"
     ]
    },
    {
     "name": "stderr",
     "output_type": "stream",
     "text": [
      "100%|███████████████████████████████████████████████████████████████████████████████████████████████| 100/100 [00:00<00:00, 109.75it/s]\n",
      "C:\\Users\\benza-ord\\anaconda3\\envs\\keras-gpu\\lib\\site-packages\\ipykernel_launcher.py:47: UserWarning: Update your `Model` call to the Keras 2 API: `Model(inputs=[<tf.Tenso..., outputs=Tensor(\"re...)`\n"
     ]
    },
    {
     "name": "stdout",
     "output_type": "stream",
     "text": [
      "(100, 224, 224, 3)\n",
      "81 res4a_branch2a\n"
     ]
    }
   ],
   "source": [
    "from sklearn.preprocessing import normalize, scale, MinMaxScaler\n",
    "\n",
    "(x_train_SAMP, y_train_SAMP), (x_test_SAMP, y_test_SAMP) = cifar10.load_data()\n",
    "\n",
    "x_train_SAMP =[]\n",
    "y_train_SAMP =[]\n",
    "\n",
    "result = {}\n",
    "LAYER_COUNTER = 0\n",
    "for idx in range(len(base_model.layers)):\n",
    "\n",
    "    \n",
    "    if base_model.get_layer(index = idx).__class__.__name__ == 'Conv2D':\n",
    "        # PREPARE FOR JSON \n",
    "        result['dataset_'+str(LAYER_COUNTER)]= []\n",
    "    \n",
    "        for i in range(0,10):\n",
    "            \n",
    "            \n",
    "            img_idx = imgs.loc[imgs['labels'] == i][:100]\n",
    "            \n",
    "            temp_img_arr = []\n",
    "            for index, row in img_idx.iloc[:, :3072].iterrows():\n",
    "                #print(x_test_SAMP[index].shape)\n",
    "                #Xtest = np.reshape(data[b\"data\"][3], (-1, 3, 32, 32))\n",
    "                #Xtest = np.transpose(Xtest, (0,2,3,1))\n",
    "\n",
    "                #x1 = np.reshape(np.asarray(row),(-1,32,32,3))\n",
    "                #x1 = np.transpose(x1, (0,2,3,1))\n",
    "                temp_img_arr.append(x_test[index])\n",
    "            \n",
    "            #print(temp_img_arr)\n",
    "            #temp_img_arr = np.array(temp_img_arr).reshape(-1,32,32,3)\n",
    "            temp_img_arr = np.stack(temp_img_arr,axis=0)\n",
    "            print(temp_img_arr.shape)\n",
    "            \n",
    "            x_batch = resize_image_arr(temp_img_arr)\n",
    "            print(x_batch.shape)\n",
    "\n",
    "            x_batch = x_batch.astype('float32')\n",
    "            x_batch /= 255\n",
    "            \n",
    "            \n",
    "            layerName = base_model.get_layer(index = idx).name\n",
    "            print(idx, layerName)\n",
    "\n",
    "            model_cut = Model(inputs=base_model.inputs, output=base_model.layers[idx].output)\n",
    "            preds = model_cut.predict(x_batch)\n",
    "            print('preds',preds.shape)\n",
    "\n",
    "            preds_flat = preds.reshape(preds.shape[0],preds.shape[1] * preds.shape[2] * preds.shape[3])\n",
    "            print(preds_flat.shape)\n",
    "\n",
    "            import pandas as pd \n",
    "\n",
    "            X = preds_flat\n",
    "            # Standardize the features\n",
    "            #X = StandardScaler().fit_transform(preds_flat)\n",
    "            #X = normalize(preds_flat)\n",
    "            #X = scale(preds_flat)\n",
    "\n",
    "            #mm_scaler = MinMaxScaler()\n",
    "            #X = mm_scaler.fit_transform(preds_flat)\n",
    "            #mm_scaler.transform(X)\n",
    "\n",
    "            # Preview X\n",
    "            pd.DataFrame(data=X).head()\n",
    "\n",
    "            # Import PCA from sklearn\n",
    "            from sklearn.decomposition import PCA\n",
    "\n",
    "            # Instantiate PCA\n",
    "            pca = PCA(n_components=2)\n",
    "\n",
    "            # Fit PCA to features\n",
    "            principalComponents = pca.fit_transform(X)\n",
    "            \n",
    "            CLASS_PCA_RES = []\n",
    "            for ipc in range(principalComponents.shape[0]):\n",
    "                arr_classPt = {\n",
    "                    \"uid\" : \"\",\n",
    "                    \"filename\" : \"\",\n",
    "                    \"comp1\": str(principalComponents[ipc][0]),\n",
    "                    \"comp2\": str(principalComponents[ipc][1])\n",
    "                }\n",
    "                CLASS_PCA_RES.append(arr_classPt)\n",
    "                \n",
    "            result[\"dataset_\"+str(LAYER_COUNTER)].append(CLASS_PCA_RES)\n",
    "\n",
    "            # Create a new dataset from principal components \n",
    "            df = pd.DataFrame(data = principalComponents, \n",
    "                              columns = ['PC1', 'PC2'])\n",
    "\n",
    "            target = pd.Series(y_test_SAMP[:100].reshape(100,), name='target')\n",
    "\n",
    "            result_df = pd.concat([df, target], axis=1)\n",
    "            print(result_df)\n",
    "        \n",
    "        LAYER_COUNTER+= 1\n",
    "    ##if idx > 10:\n",
    "     #   break\n"
   ]
  },
  {
   "cell_type": "code",
   "execution_count": null,
   "metadata": {},
   "outputs": [],
   "source": [
    "x_test[:10].shape"
   ]
  },
  {
   "cell_type": "code",
   "execution_count": null,
   "metadata": {},
   "outputs": [],
   "source": [
    "from sklearn.preprocessing import normalize, scale, MinMaxScaler\n",
    "\n",
    "(x_train_SAMP, y_train_SAMP), (x_test_SAMP, y_test_SAMP) = cifar10.load_data()\n",
    "\n",
    "x_train_SAMP =[]\n",
    "y_train_SAMP =[]\n",
    "\n",
    "\n",
    "\n",
    "for idx in range(len(base_model.layers)):\n",
    "    if base_model.get_layer(index = idx).__class__.__name__ == 'Conv2D':\n",
    "        for i in range(0,10):\n",
    "            x_batch = x_test[:100]\n",
    "            \n",
    "           \n",
    "            \n",
    "            layerName = base_model.get_layer(index = idx).name\n",
    "            print(idx, layerName)\n",
    "\n",
    "            model_cut = Model(inputs=base_model.inputs, output=base_model.layers[idx].output)\n",
    "            preds = model_cut.predict(x_batch)\n",
    "            print('preds',preds.shape)\n",
    "\n",
    "            preds_flat = preds.reshape(preds.shape[0],preds.shape[1] * preds.shape[2] * preds.shape[3])\n",
    "            print(preds_flat.shape)\n",
    "\n",
    "            import pandas as pd \n",
    "\n",
    "            X = preds_flat\n",
    "            # Standardize the features\n",
    "            #X = StandardScaler().fit_transform(preds_flat)\n",
    "            #X = normalize(preds_flat)\n",
    "            #X = scale(preds_flat)\n",
    "\n",
    "            #mm_scaler = MinMaxScaler()\n",
    "            #X = mm_scaler.fit_transform(preds_flat)\n",
    "            #mm_scaler.transform(X)\n",
    "\n",
    "            # Preview X\n",
    "            pd.DataFrame(data=X).head()\n",
    "\n",
    "            # Import PCA from sklearn\n",
    "            from sklearn.decomposition import PCA\n",
    "\n",
    "            # Instantiate PCA\n",
    "            pca = PCA(n_components=2)\n",
    "\n",
    "            # Fit PCA to features\n",
    "            principalComponents = pca.fit_transform(X)\n",
    "\n",
    "            # Create a new dataset from principal components \n",
    "            df = pd.DataFrame(data = principalComponents, \n",
    "                              columns = ['PC1', 'PC2'])\n",
    "\n",
    "            target = pd.Series(y_test_SAMP[:10].reshape(10,), name='target')\n",
    "\n",
    "            result_df = pd.concat([df, target], axis=1)\n",
    "            print(result_df)\n",
    "        \n",
    "    if idx > 10:\n",
    "        break\n"
   ]
  },
  {
   "cell_type": "code",
   "execution_count": 22,
   "metadata": {},
   "outputs": [
    {
     "name": "stderr",
     "output_type": "stream",
     "text": [
      "C:\\Users\\benza-ord\\anaconda3\\envs\\keras-gpu\\lib\\site-packages\\sklearn\\decomposition\\_pca.py:555: RuntimeWarning: divide by zero encountered in true_divide\n",
      "  self.explained_variance_ / total_var.sum()\n"
     ]
    }
   ],
   "source": [
    "from sklearn.preprocessing import StandardScaler\n",
    "import pandas as pd \n",
    "\n",
    "from sklearn.preprocessing import normalize\n",
    "# Standardize the features\n",
    "#X = StandardScaler().fit_transform(preds_flat)\n",
    "\n",
    "# Preview X\n",
    "pd.DataFrame(data=preds_flat).head()\n",
    "\n",
    "# Import PCA from sklearn\n",
    "from sklearn.decomposition import PCA\n",
    "\n",
    "# Instantiate PCA\n",
    "pca = PCA(n_components=2)\n",
    "\n",
    "# Fit PCA to features\n",
    "principalComponents = pca.fit_transform(preds_flat)"
   ]
  },
  {
   "cell_type": "code",
   "execution_count": null,
   "metadata": {},
   "outputs": [],
   "source": []
  },
  {
   "cell_type": "code",
   "execution_count": null,
   "metadata": {},
   "outputs": [],
   "source": [
    "# Visualize Principal Components with a scatter plot\n",
    "import matplotlib.pyplot as plt \n",
    "\n",
    "fig = plt.figure(figsize = (12,10))\n",
    "ax = fig.add_subplot(1,1,1) \n",
    "ax.set_xlabel('First Principal Component ', fontsize = 15)\n",
    "ax.set_ylabel('Second Principal Component ', fontsize = 15)\n",
    "ax.set_title('Principal Component Analysis (2PCs) for Iris Dataset', fontsize = 20)\n",
    "\n",
    "targets = [3, 1, 8, 0 ,6]\n",
    "colors = ['r', 'g', 'b', 'c', 'y']\n",
    "for target, color in zip(targets, colors):\n",
    "    indicesToKeep = y_test_SAMP[:10].reshape(10,) == target\n",
    "    ax.scatter(result_df.loc[indicesToKeep, 'PC1'], \n",
    "               result_df.loc[indicesToKeep, 'PC2'], \n",
    "               c = color, \n",
    "               s = 50)\n",
    "ax.legend(targets)\n",
    "ax.grid()"
   ]
  },
  {
   "cell_type": "code",
   "execution_count": null,
   "metadata": {
    "scrolled": false
   },
   "outputs": [],
   "source": [
    "result"
   ]
  },
  {
   "cell_type": "code",
   "execution_count": null,
   "metadata": {},
   "outputs": [],
   "source": [
    "import json \n",
    "\n",
    "result[\"n_layers\"] = str(LAYER_COUNTER)\n",
    "\n",
    "with open('sample_json3.json', 'w') as outfile:\n",
    "    json.dump(result, outfile)"
   ]
  },
  {
   "cell_type": "code",
   "execution_count": null,
   "metadata": {},
   "outputs": [],
   "source": [
    "np.min(x_test),np.max(x_test)"
   ]
  },
  {
   "cell_type": "code",
   "execution_count": null,
   "metadata": {},
   "outputs": [],
   "source": []
  }
 ],
 "metadata": {
  "kernelspec": {
   "display_name": "keras-gpu-kernel",
   "language": "python",
   "name": "keras-gpu-kernel"
  },
  "language_info": {
   "codemirror_mode": {
    "name": "ipython",
    "version": 3
   },
   "file_extension": ".py",
   "mimetype": "text/x-python",
   "name": "python",
   "nbconvert_exporter": "python",
   "pygments_lexer": "ipython3",
   "version": "3.6.12"
  }
 },
 "nbformat": 4,
 "nbformat_minor": 4
}
